{
  "nbformat": 4,
  "nbformat_minor": 0,
  "metadata": {
    "colab": {
      "name": "TweetSentimentAnalysis.ipynb",
      "provenance": [],
      "collapsed_sections": []
    },
    "kernelspec": {
      "name": "python3",
      "display_name": "Python 3"
    },
    "language_info": {
      "name": "python"
    }
  },
  "cells": [
    {
      "cell_type": "markdown",
      "source": [
        "# REAL - TIME TWEET SENTIMENT ANALYSIS\n",
        "\n",
        "\n",
        "\n",
        "> **AUTHOR**: Ritika Gupta\n",
        "\n",
        "This notebook demonstrates real time analysis of tweets sentiment using various NLP Sentiment Models . It is important for businesses to know and track consumer sentiment regarding their products in real-time so that they can enable better consumer experience and product enhancements. \n",
        "\n",
        "**APPROACH** \n",
        "1. Extract Tweets from Twitter API using Tweepy Library and Twitter Dev Access Keys . \n",
        "2.  Preprocess Extracted Tweets\n",
        "3. Score Sentiment Using Text Blob Library\n",
        "4. Score Sentiment Using Hugging Face Transformer Model\n",
        "5. Visualise the tweets and Sentiment scores (Seaborn)\n",
        "6. Plotly Visualisation\n",
        "7. Conclusion\n",
        "\n"
      ],
      "metadata": {
        "id": "lKpHEyqFrJX_"
      }
    },
    {
      "cell_type": "markdown",
      "source": [
        "## Install Libraries"
      ],
      "metadata": {
        "id": "vcByqwVErJSy"
      }
    },
    {
      "cell_type": "code",
      "execution_count": 1,
      "metadata": {
        "id": "xmmdVwQJ3Ta9",
        "colab": {
          "base_uri": "https://localhost:8080/"
        },
        "outputId": "d934a1a7-687d-4573-8a15-6ad72abddeb3"
      },
      "outputs": [
        {
          "output_type": "stream",
          "name": "stdout",
          "text": [
            "Requirement already satisfied: tweepy in /usr/local/lib/python3.7/dist-packages (3.10.0)\n",
            "Requirement already satisfied: six>=1.10.0 in /usr/local/lib/python3.7/dist-packages (from tweepy) (1.15.0)\n",
            "Requirement already satisfied: requests-oauthlib>=0.7.0 in /usr/local/lib/python3.7/dist-packages (from tweepy) (1.3.1)\n",
            "Requirement already satisfied: requests[socks]>=2.11.1 in /usr/local/lib/python3.7/dist-packages (from tweepy) (2.23.0)\n",
            "Requirement already satisfied: oauthlib>=3.0.0 in /usr/local/lib/python3.7/dist-packages (from requests-oauthlib>=0.7.0->tweepy) (3.2.0)\n",
            "Requirement already satisfied: chardet<4,>=3.0.2 in /usr/local/lib/python3.7/dist-packages (from requests[socks]>=2.11.1->tweepy) (3.0.4)\n",
            "Requirement already satisfied: urllib3!=1.25.0,!=1.25.1,<1.26,>=1.21.1 in /usr/local/lib/python3.7/dist-packages (from requests[socks]>=2.11.1->tweepy) (1.24.3)\n",
            "Requirement already satisfied: certifi>=2017.4.17 in /usr/local/lib/python3.7/dist-packages (from requests[socks]>=2.11.1->tweepy) (2021.10.8)\n",
            "Requirement already satisfied: idna<3,>=2.5 in /usr/local/lib/python3.7/dist-packages (from requests[socks]>=2.11.1->tweepy) (2.10)\n",
            "Requirement already satisfied: PySocks!=1.5.7,>=1.5.6 in /usr/local/lib/python3.7/dist-packages (from requests[socks]>=2.11.1->tweepy) (1.7.1)\n"
          ]
        }
      ],
      "source": [
        "!pip install tweepy"
      ]
    },
    {
      "cell_type": "code",
      "source": [
        "#Load Packages\n",
        "\n",
        "import tweepy\n",
        "import pandas as pd\n",
        "import json\n",
        "import numpy as np\n",
        "\n",
        "#--------Visualization\n",
        "import seaborn as sns\n",
        "import matplotlib.pyplot as plt\n",
        "plt.style.use(\"fivethirtyeight\")\n",
        "sns.set(rc={'figure.figsize':(15,5)})\n"
      ],
      "metadata": {
        "id": "QZUEt6Dy4KyW"
      },
      "execution_count": 26,
      "outputs": []
    },
    {
      "cell_type": "code",
      "source": [
        "print(tweepy.__version__)"
      ],
      "metadata": {
        "colab": {
          "base_uri": "https://localhost:8080/"
        },
        "id": "IWHMIZW9PnIv",
        "outputId": "9eeb5d9b-204d-4e6f-c8b3-9c7f5d63940e"
      },
      "execution_count": 5,
      "outputs": [
        {
          "output_type": "stream",
          "name": "stdout",
          "text": [
            "3.10.0\n"
          ]
        }
      ]
    },
    {
      "cell_type": "markdown",
      "source": [
        "## 1. Get Auth Access\n",
        "\n",
        "\n",
        "\n",
        "> TWEEPY Documentation for list of methods - https://docs.tweepy.org/en/stable/api.html\n",
        "\n",
        "> Twitter Search API parameters : https://developer.twitter.com/en/docs/twitter-api/v1/tweets/search/api-reference/get-search-tweets\n",
        "\n",
        "Paste your corresponding keys and ,token and secret from your twitter dev account.\n",
        "\n",
        "\n"
      ],
      "metadata": {
        "id": "NqLLEmk24PuN"
      }
    },
    {
      "cell_type": "code",
      "source": [
        "consumer_key =  \"PASTE YOUR API KEY\"  #API KEY\n",
        "consumer_secret = \"KEY SECRET\"  #API KEY SECRET\n",
        "access_token = \"TOKEN\"\n",
        "access_token_secret = \"ACCESS TOKEN\"\n",
        "\n",
        "# Now we use above credentials to authenticate the API OAuth\n",
        "auth = tweepy.OAuthHandler(consumer_key,consumer_secret)\n",
        "auth.set_access_token(access_token,access_token_secret)\n",
        "api = tweepy.API(auth,wait_on_rate_limit=True)"
      ],
      "metadata": {
        "id": "ueTowtYQ4OYl"
      },
      "execution_count": 6,
      "outputs": []
    },
    {
      "cell_type": "markdown",
      "source": [
        "## 2. Fetch Tweets\n",
        "\n",
        "\n",
        "\n",
        "> NOTE : Twiiter free API used here allows tweets from last 7 days . To fetch older tweets one needs premium twitter API such as academic or 30 days API . \n",
        "\n",
        "https://developer.twitter.com/en/docs/twitter-api/getting-started/about-twitter-api\n",
        "\n"
      ],
      "metadata": {
        "id": "cj08dZiaoJmq"
      }
    },
    {
      "cell_type": "code",
      "source": [
        "# A data frame to store tweets in proper format one can add/remove columns as desired\n",
        "df = pd.DataFrame(columns=[\"Date\",\"TwitterHandle\",\"IsVerified\",\"Tweet\",\"Likes\",\"RT\",'User_location',\"Followers_Count\",\"User_mentions\",\"Hashtags\"])\n",
        "# Write a Function to extract tweets:\n",
        "def get_tweets(Topic,Count,**kwargs) :\n",
        "    i=0\n",
        "    for tweet in tweepy.Cursor(api.search,q=Topic,count=Count, lang=\"en\",exclude='retweets',include_entities=True,**kwargs).items():\n",
        "      df.loc[i,\"Date\"] = tweet.created_at\n",
        "      df.loc[i,\"TwitterHandle\"] = tweet.user.screen_name\n",
        "      df.loc[i,\"IsVerified\"] = tweet.user.verified\n",
        "      df.loc[i,\"Tweet\"] = tweet.text\n",
        "      df.loc[i,\"Likes\"] = tweet.favorite_count\n",
        "      df.loc[i,\"RT\"] = tweet.retweet_count\n",
        "      df.loc[i,\"User_location\"] = tweet.user.location\n",
        "      df.loc[i,\"Followers_Count\"] = tweet.user.followers_count\n",
        "      #df.loc[i,\"IsSensitive\"] = tweet.user.\n",
        "      hashtag = []\n",
        "      user_mention = []\n",
        "      for item in tweet.entities['hashtags'] : \n",
        "        hashtag.append(item['text'])\n",
        "      for item in tweet.entities['user_mentions'] : \n",
        "        user_mention.append(item['screen_name'])\n",
        "      df.loc[i,\"User_mentions\"] = user_mention\n",
        "      df.loc[i,\"Hashtags\"] = hashtag\n",
        "      i=i+1\n",
        "      if i>=Count:\n",
        "          df.to_pickle(\"TweetDataset\")        #Storing df in pickled form to avoid conversion of lists in to strings\n",
        "          df.to_excel('{}.xlsx'.format(\"TweetDataset\"),index=False)   ## Save as Excel\n",
        "          break\n",
        "      else:\n",
        "          pass"
      ],
      "metadata": {
        "id": "DfYMLN7U6FnY"
      },
      "execution_count": 7,
      "outputs": []
    },
    {
      "cell_type": "code",
      "source": [
        "#Call get_tweets function \n",
        "get_tweets(\"#RussiaUkraineWar\",800)"
      ],
      "metadata": {
        "id": "sIEBJw9se7ag"
      },
      "execution_count": 12,
      "outputs": []
    },
    {
      "cell_type": "code",
      "source": [
        "df.head()"
      ],
      "metadata": {
        "colab": {
          "base_uri": "https://localhost:8080/",
          "height": 531
        },
        "id": "TAeB0tKV4Pzq",
        "outputId": "fd03b44f-8276-427e-b27f-a0779e578b94"
      },
      "execution_count": 15,
      "outputs": [
        {
          "output_type": "execute_result",
          "data": {
            "text/plain": [
              "                  Date TwitterHandle IsVerified  \\\n",
              "0  2022-03-25 11:18:00     AmazingUA      False   \n",
              "1  2022-03-25 11:16:06       hapSTR7      False   \n",
              "2  2022-03-25 11:15:55  CNBCTV18News       True   \n",
              "3  2022-03-25 11:15:28     FEMarkets      False   \n",
              "4  2022-03-25 11:15:00       WIONews       True   \n",
              "\n",
              "                                               Tweet Likes RT User_location  \\\n",
              "0  The moment yesterday when a rocket hit a crowd...     0  0       Україна   \n",
              "1  Google Street View in LIVE \\nWatch more live o...     0  0                 \n",
              "2  COMING UP @ 5 PM | As the #RussiaUkraineWar ra...     3  0                 \n",
              "3  Where is Indian rupee headed to in coming days...     2  1         India   \n",
              "4  4 new battlegroups announced\\n\\n+ Ukrainian Pr...     2  0         India   \n",
              "\n",
              "  Followers_Count User_mentions                    Hashtags  \\\n",
              "0            1079            []                          []   \n",
              "1              33            []             [hapstr, Syria]   \n",
              "2         1030448            []  [RussiaUkraineWar, WangYi]   \n",
              "3            2650            []                          []   \n",
              "4          431004            []                          []   \n",
              "\n",
              "                                         clean_tweet Sentiment  \n",
              "0  the moment yesterday when a rocket hit a crowd...   Neutral  \n",
              "1  google street view in live watch more live on ...  Negative  \n",
              "2  coming up 5 pm as the russiaukrainewar rages o...  Positive  \n",
              "3  where is indian rupee headed to in coming days...  Negative  \n",
              "4  4 new battlegroups announced ukrainian preside...  Positive  "
            ],
            "text/html": [
              "\n",
              "  <div id=\"df-d940e477-d775-400f-983b-5a3cbb622f9a\">\n",
              "    <div class=\"colab-df-container\">\n",
              "      <div>\n",
              "<style scoped>\n",
              "    .dataframe tbody tr th:only-of-type {\n",
              "        vertical-align: middle;\n",
              "    }\n",
              "\n",
              "    .dataframe tbody tr th {\n",
              "        vertical-align: top;\n",
              "    }\n",
              "\n",
              "    .dataframe thead th {\n",
              "        text-align: right;\n",
              "    }\n",
              "</style>\n",
              "<table border=\"1\" class=\"dataframe\">\n",
              "  <thead>\n",
              "    <tr style=\"text-align: right;\">\n",
              "      <th></th>\n",
              "      <th>Date</th>\n",
              "      <th>TwitterHandle</th>\n",
              "      <th>IsVerified</th>\n",
              "      <th>Tweet</th>\n",
              "      <th>Likes</th>\n",
              "      <th>RT</th>\n",
              "      <th>User_location</th>\n",
              "      <th>Followers_Count</th>\n",
              "      <th>User_mentions</th>\n",
              "      <th>Hashtags</th>\n",
              "      <th>clean_tweet</th>\n",
              "      <th>Sentiment</th>\n",
              "    </tr>\n",
              "  </thead>\n",
              "  <tbody>\n",
              "    <tr>\n",
              "      <th>0</th>\n",
              "      <td>2022-03-25 11:18:00</td>\n",
              "      <td>AmazingUA</td>\n",
              "      <td>False</td>\n",
              "      <td>The moment yesterday when a rocket hit a crowd...</td>\n",
              "      <td>0</td>\n",
              "      <td>0</td>\n",
              "      <td>Україна</td>\n",
              "      <td>1079</td>\n",
              "      <td>[]</td>\n",
              "      <td>[]</td>\n",
              "      <td>the moment yesterday when a rocket hit a crowd...</td>\n",
              "      <td>Neutral</td>\n",
              "    </tr>\n",
              "    <tr>\n",
              "      <th>1</th>\n",
              "      <td>2022-03-25 11:16:06</td>\n",
              "      <td>hapSTR7</td>\n",
              "      <td>False</td>\n",
              "      <td>Google Street View in LIVE \\nWatch more live o...</td>\n",
              "      <td>0</td>\n",
              "      <td>0</td>\n",
              "      <td></td>\n",
              "      <td>33</td>\n",
              "      <td>[]</td>\n",
              "      <td>[hapstr, Syria]</td>\n",
              "      <td>google street view in live watch more live on ...</td>\n",
              "      <td>Negative</td>\n",
              "    </tr>\n",
              "    <tr>\n",
              "      <th>2</th>\n",
              "      <td>2022-03-25 11:15:55</td>\n",
              "      <td>CNBCTV18News</td>\n",
              "      <td>True</td>\n",
              "      <td>COMING UP @ 5 PM | As the #RussiaUkraineWar ra...</td>\n",
              "      <td>3</td>\n",
              "      <td>0</td>\n",
              "      <td></td>\n",
              "      <td>1030448</td>\n",
              "      <td>[]</td>\n",
              "      <td>[RussiaUkraineWar, WangYi]</td>\n",
              "      <td>coming up 5 pm as the russiaukrainewar rages o...</td>\n",
              "      <td>Positive</td>\n",
              "    </tr>\n",
              "    <tr>\n",
              "      <th>3</th>\n",
              "      <td>2022-03-25 11:15:28</td>\n",
              "      <td>FEMarkets</td>\n",
              "      <td>False</td>\n",
              "      <td>Where is Indian rupee headed to in coming days...</td>\n",
              "      <td>2</td>\n",
              "      <td>1</td>\n",
              "      <td>India</td>\n",
              "      <td>2650</td>\n",
              "      <td>[]</td>\n",
              "      <td>[]</td>\n",
              "      <td>where is indian rupee headed to in coming days...</td>\n",
              "      <td>Negative</td>\n",
              "    </tr>\n",
              "    <tr>\n",
              "      <th>4</th>\n",
              "      <td>2022-03-25 11:15:00</td>\n",
              "      <td>WIONews</td>\n",
              "      <td>True</td>\n",
              "      <td>4 new battlegroups announced\\n\\n+ Ukrainian Pr...</td>\n",
              "      <td>2</td>\n",
              "      <td>0</td>\n",
              "      <td>India</td>\n",
              "      <td>431004</td>\n",
              "      <td>[]</td>\n",
              "      <td>[]</td>\n",
              "      <td>4 new battlegroups announced ukrainian preside...</td>\n",
              "      <td>Positive</td>\n",
              "    </tr>\n",
              "  </tbody>\n",
              "</table>\n",
              "</div>\n",
              "      <button class=\"colab-df-convert\" onclick=\"convertToInteractive('df-d940e477-d775-400f-983b-5a3cbb622f9a')\"\n",
              "              title=\"Convert this dataframe to an interactive table.\"\n",
              "              style=\"display:none;\">\n",
              "        \n",
              "  <svg xmlns=\"http://www.w3.org/2000/svg\" height=\"24px\"viewBox=\"0 0 24 24\"\n",
              "       width=\"24px\">\n",
              "    <path d=\"M0 0h24v24H0V0z\" fill=\"none\"/>\n",
              "    <path d=\"M18.56 5.44l.94 2.06.94-2.06 2.06-.94-2.06-.94-.94-2.06-.94 2.06-2.06.94zm-11 1L8.5 8.5l.94-2.06 2.06-.94-2.06-.94L8.5 2.5l-.94 2.06-2.06.94zm10 10l.94 2.06.94-2.06 2.06-.94-2.06-.94-.94-2.06-.94 2.06-2.06.94z\"/><path d=\"M17.41 7.96l-1.37-1.37c-.4-.4-.92-.59-1.43-.59-.52 0-1.04.2-1.43.59L10.3 9.45l-7.72 7.72c-.78.78-.78 2.05 0 2.83L4 21.41c.39.39.9.59 1.41.59.51 0 1.02-.2 1.41-.59l7.78-7.78 2.81-2.81c.8-.78.8-2.07 0-2.86zM5.41 20L4 18.59l7.72-7.72 1.47 1.35L5.41 20z\"/>\n",
              "  </svg>\n",
              "      </button>\n",
              "      \n",
              "  <style>\n",
              "    .colab-df-container {\n",
              "      display:flex;\n",
              "      flex-wrap:wrap;\n",
              "      gap: 12px;\n",
              "    }\n",
              "\n",
              "    .colab-df-convert {\n",
              "      background-color: #E8F0FE;\n",
              "      border: none;\n",
              "      border-radius: 50%;\n",
              "      cursor: pointer;\n",
              "      display: none;\n",
              "      fill: #1967D2;\n",
              "      height: 32px;\n",
              "      padding: 0 0 0 0;\n",
              "      width: 32px;\n",
              "    }\n",
              "\n",
              "    .colab-df-convert:hover {\n",
              "      background-color: #E2EBFA;\n",
              "      box-shadow: 0px 1px 2px rgba(60, 64, 67, 0.3), 0px 1px 3px 1px rgba(60, 64, 67, 0.15);\n",
              "      fill: #174EA6;\n",
              "    }\n",
              "\n",
              "    [theme=dark] .colab-df-convert {\n",
              "      background-color: #3B4455;\n",
              "      fill: #D2E3FC;\n",
              "    }\n",
              "\n",
              "    [theme=dark] .colab-df-convert:hover {\n",
              "      background-color: #434B5C;\n",
              "      box-shadow: 0px 1px 3px 1px rgba(0, 0, 0, 0.15);\n",
              "      filter: drop-shadow(0px 1px 2px rgba(0, 0, 0, 0.3));\n",
              "      fill: #FFFFFF;\n",
              "    }\n",
              "  </style>\n",
              "\n",
              "      <script>\n",
              "        const buttonEl =\n",
              "          document.querySelector('#df-d940e477-d775-400f-983b-5a3cbb622f9a button.colab-df-convert');\n",
              "        buttonEl.style.display =\n",
              "          google.colab.kernel.accessAllowed ? 'block' : 'none';\n",
              "\n",
              "        async function convertToInteractive(key) {\n",
              "          const element = document.querySelector('#df-d940e477-d775-400f-983b-5a3cbb622f9a');\n",
              "          const dataTable =\n",
              "            await google.colab.kernel.invokeFunction('convertToInteractive',\n",
              "                                                     [key], {});\n",
              "          if (!dataTable) return;\n",
              "\n",
              "          const docLinkHtml = 'Like what you see? Visit the ' +\n",
              "            '<a target=\"_blank\" href=https://colab.research.google.com/notebooks/data_table.ipynb>data table notebook</a>'\n",
              "            + ' to learn more about interactive tables.';\n",
              "          element.innerHTML = '';\n",
              "          dataTable['output_type'] = 'display_data';\n",
              "          await google.colab.output.renderOutput(dataTable, element);\n",
              "          const docLink = document.createElement('div');\n",
              "          docLink.innerHTML = docLinkHtml;\n",
              "          element.appendChild(docLink);\n",
              "        }\n",
              "      </script>\n",
              "    </div>\n",
              "  </div>\n",
              "  "
            ]
          },
          "metadata": {},
          "execution_count": 15
        }
      ]
    },
    {
      "cell_type": "code",
      "source": [
        "df.info()"
      ],
      "metadata": {
        "colab": {
          "base_uri": "https://localhost:8080/"
        },
        "id": "f94BWDJG5SZH",
        "outputId": "a41d2e44-48e3-4436-95b1-e41b9950bfdc"
      },
      "execution_count": 11,
      "outputs": [
        {
          "output_type": "stream",
          "name": "stdout",
          "text": [
            "<class 'pandas.core.frame.DataFrame'>\n",
            "Int64Index: 800 entries, 0 to 799\n",
            "Data columns (total 10 columns):\n",
            " #   Column           Non-Null Count  Dtype \n",
            "---  ------           --------------  ----- \n",
            " 0   Date             800 non-null    object\n",
            " 1   TwitterHandle    800 non-null    object\n",
            " 2   IsVerified       800 non-null    object\n",
            " 3   Tweet            800 non-null    object\n",
            " 4   Likes            800 non-null    object\n",
            " 5   RT               800 non-null    object\n",
            " 6   User_location    800 non-null    object\n",
            " 7   Followers_Count  800 non-null    object\n",
            " 8   User_mentions    800 non-null    object\n",
            " 9   Hashtags         800 non-null    object\n",
            "dtypes: object(10)\n",
            "memory usage: 101.0+ KB\n"
          ]
        }
      ]
    },
    {
      "cell_type": "code",
      "source": [
        "hastaglist=[]\n",
        "for val  in df.Hashtags.dropna().values:\n",
        "  hastaglist.extend(val)\n",
        "  \n",
        "print(hastaglist)"
      ],
      "metadata": {
        "colab": {
          "base_uri": "https://localhost:8080/"
        },
        "id": "X_yuG9ixg0zw",
        "outputId": "58b693c4-707c-4d15-a6b9-67c6fd1f109c"
      },
      "execution_count": null,
      "outputs": [
        {
          "output_type": "stream",
          "name": "stdout",
          "text": [
            "['RussiaUkraineWar', 'RussiaUkraineCrisis', 'VolodymyrZelenskyy', 'Moscow', 'Ukraine', 'Putin', 'theeconomist', 'russiaukrainewar', 'RussiaUkraineWar', 'WebQoof', 'FactCheck', 'Russia', 'RussiaUkraineWar', 'Ukraine', 'Sergeisukharev', 'RussiaInvadedUkraine', 'CanadaUNMission', 'Canada', 'UnitedNations', 'UN', 'Russia', 'CanadaUNMissionTweetRussiaLetter', 'Bottomline', 'RussiaUkraineWar', 'RussiaUkraineWar', 'VladimirPutin', 'Russia', 'UkraineRussiaWar', 'RussiaUkraineWar', 'RussiaUkraineConflict', 'RussiaUkraineCrisis', 'UkraineUnderAttaсk', 'RussiaUkraineWar', 'Supermarket', 'Kyiv', 'Russia', 'Ukraine', 'Russia', 'Ukraine', 'RussianArmy', 'Moscow', 'RussianArmy', 'RussiaUkraineWar', 'Ukraine', 'RussiaUkraineWar', 'RussianArmy', 'RussiaUkraineWar', 'Ukraine', 'VolodymyrZelensky', 'Moscow', 'RussiaUkraineWar', 'VolodymyrZelensky', 'Russia', 'DNR', 'Mariupol', 'Ukraine', 'Russia', 'Kyiv', 'Odessa', 'Kharkiv', 'RussiaUkraineWar', 'PutinWarCriminal', 'Russia', 'UkraineRussiaWar', 'RussiaUkraineWar', 'RussiaUkraineConflict', 'RussiaUkraineCrisis', 'UkraineUnderAttaсk', 'russiaukrainewar', 'ukraine', 'Biden', 'Modi', 'YoureFired', 'RussiaUkraineWar', 'russia', 'IndiaHasWeakPM', 'India', 'UkraineRussiaWar', 'RussiaUkraineWar', 'RussiaUkraineConflict', 'RussiaUkraineCrisis', 'UkraineUnderAttaсk', 'Russia', 'UkraineRussiaWar', 'Russian', 'Chernobaevka', 'Ukraine', 'RussiaUkraineWar', 'UkraineRussiaWar', 'Putin', 'UkraineUnderAttack', 'StandWithRussia', 'Biden', 'RussiaUkraineWar', 'Ukrainian', 'RussiaUkraineWar', 'Українa', 'StandWithUkraine', 'PutinWarCrimes', 'GloryToUkraine', 'RussianArmy', 'RussiaUkraineWar', 'Ukraine', 'UkraineRussianWar', 'Kyiv', 'RussiaUkrainewar', 'Ukrainian', 'Donetsk', 'Mariupol', 'RussiaUkraineWar', 'foxnews', 'russia', 'russiaukrainewar', 'Ukrainian', 'Poland', 'DPR', 'Ukraine', 'Ukraine', 'Russia', 'Kyiv', 'Odessa', 'Zaporizhzhia', 'Ukraine', 'RussiaUkraineWar', 'UkraineRussiaWar', 'Russia', 'RussiaUkraineWar', 'world', 'Putin', 'PutinWarCriminal', 'RussiaUkraineWar', 'EconomicSanctions', 'IndiaEconomy', 'Ukraine', 'Russia', 'UkraineRussia', 'RussiaUkraine', 'RussiaUkraineWar', 'Russian', 'RussiaUkraineWar', 'Putin', 'Russia', 'Russian', 'RussiaUkraineWar', 'SanctionsRussia', 'DefendAtlantis', 'RussiaUkraineWar', 'BoycottBurgerKing', 'RussiaUkraineWar', 'Ukraine', 'Russia', 'damage', 'Ukraine', 'RussiaUkraineWar', 'IStandWithRussians', 'Russia', 'child', 'Ukraine', 'StopPutin', 'StopRussia', 'Ukraine', 'Russian', 'Ukraine', 'RussiaUkraineWar', 'UkraineRussiaWar', 'Zelensky', 'InvasionOfUkraine', 'Lviv', 'Russian', 'Russia', 'Mariupol', 'Mariupol', 'Russian', 'RussiaUkraineWar', 'Sumy', 'fire', 'shelling', 'Nikolaev', 'Russian', 'Ukraine', 'RussiaUkraineWar', 'UkraineRussiaWar', 'Russia', 'Ukraine', 'War', 'Military', 'RussiaUkraineWar', 'Russia', 'Ukraine', 'RussiaInvadedUkraine', 'RussiaUkraineWar', 'Transporters3', 'RussiaUkraineWar', 'RussiaUkraineWar', 'RussiaUkraineWar', 'RussianUkrainianWar', 'UkraineUnderAttaсk', 'RussiaUkraineWar', 'Zelenskyy', 'Ukraine', 'EU', 'PutinHitler', 'UkraineUnderAttack', 'PopeFrancis', 'Zelenskyy', 'Indian', 'Russian', 'UkraineRussiaWar', 'RussiaUkraineWar', 'Zelenskyy', 'UkraineRussiaWar', 'Ukrainian', 'RussiaUkraineWar', 'Russia', 'Ukraine', 'RussiaUkraineWar', 'PetrolPrice', 'RussiaUkraineWar', 'Petrol', 'Ukraine', 'Russia', 'RussiaUkraineWar', 'Yemen', 'Syria', 'Afghanistan', 'Ukrainian', 'Russia', 'Ukraine', 'Russia', 'Kyiv', 'Odessa', 'Kharkiv', 'Russia', 'Ukraine', 'UkraineUnderAttaсk', 'UkraineRussianWar', 'NoWarWithRussia', 'RussiaUkraineWar', 'PutinWarCriminal', 'PutinsWar', 'Russia', 'Ukraine', 'UkraineUnderAttaсk', 'Dnipro', 'Russia', 'RussiaUkraineWar', 'RussianArmy', 'Chechen', 'Ukrainian', 'RussiaUkraineWar', 'UkraineRussiaWar', 'StandWithUkraine', 'FightWithUkraine', 'StrayKids', 'AK62WithLycaProductions', 'Shenseea', 'jamaica', 'UkraineRussianWar', 'RussianArmy', 'Russia', 'Ukraine', 'Russia', 'Ukraine', 'UkraineUnderAttaсk', 'UkraineRussianWar', 'RussiaUkraineWar', 'Ukraine', 'war', 'RussiaUkraineWar', 'NFT', 'NFTCommmunity', 'Crypto', 'RussianArmy', 'RussiaUkraineWar', 'UkraineRussiaWar', 'StandWithUkraine', 'FightWithUkraine', 'RussianArmy', 'RussiaUkraineWar', 'Ukraine', 'RussiaUkraineWar', 'UkraineRussiaWar', 'StandWithUkraine', 'FightWithUkraine', 'RussiaUkraineWar', 'UkraineRussiaWar', 'StandWithUkraine', 'FightWithUkraine', 'RussianArmy', 'RussiaUkraineWar', 'Russia', 'Ukraine', 'RussianArmy', 'RussiaUkraineWar', 'Russia', 'Ukraine', 'UkraineUnderAttaсk', 'RussiaUkraineWar', 'UkraineRussiaWar', 'StandWithUkraine', 'FightWithUkraine', 'Putin', 'RussiaUkraineWar', 'Earth', 'Russia', 'Ukraine', 'Russia', 'Ukraine', 'UkraineUnderAttaсk', 'Russia', 'Ukraine', 'UkraineUnderAttaсk', 'UkraineRussianWar', 'RussiaUkraineWar', 'ZelenskyWarCriminal', 'Ukraine', 'RussiaUkraineWar', 'Russian', 'Sumy', 'RussiaUkraineWar', 'Russia', 'Ukraine', 'FOG', 'USA', 'Russia', 'Ukraine', 'Ukrainian', 'Ukraine', 'Zelenskyy', 'Russia', 'Ukraine', 'RussiaUkraineWar', 'RussiaUkraineCrisis', 'Kiev', 'biolabs', 'Ukrainian', 'Ukraine', 'Russia', 'RussiaUkraineWar', 'UkraineRussiaWar', 'Ukraine', 'Ukraine', 'Russia', 'Russia', 'Ukraine', 'Georgia', 'Ukrainian', 'RussiaUkraineWar', 'Ukraine', 'Russian', 'RussiaUkraineConflict', 'Lithuanians', 'SUVs', 'Ukraine', 'Russia', 'Ukraine', 'Brazil', 'Ukrainian', 'russia', 'PopeFrancis', 'Russia', 'Ukraine', 'Ukrainian', 'Tatar', 'Crimea', 'Russia', 'Ukraine', 'Russia', 'Ukraine', 'Biden', 'NewsWatch', 'Russian', 'Ukraine', 'SP500', 'inflation', 'Ukraine', 'Russia', 'Kyiv', 'Odessa', 'Kharkiv', 'RussiaUkraineWar', 'PutinWarCriminal', 'IStandWithUkriane', 'RussiaUkraineWar', 'Rusia', 'Ukriane', 'UkraineUnderAttack', 'Ukraine', 'Russia', 'Kyiv', 'Odessa', 'Kharkiv', 'InPics', 'Biden', 'DNC', 'RussiaUkraineWar', 'Russia', 'Moscow', 'Russians', 'ZelenskyWarCriminal', 'ZelenskySurrender', 'UkraineRussianWar', 'RussiaUkraineWar', 'JohnsonOut52', 'IMPEACHZELENSKYY', 'Russia', 'Ukraine', 'RussiaUkraineWar', 'Biden', 'admin', 'considering', 'ways', 'fast', 'track', 'bringing', 'Ukrainian', 'US', 'ABC', 'News', 'Poland', 'Putin', 'Moscow', 'rally', 'terror', 'Mariupol', 'Ukraine', 'war', 'daily', 'round', 'up', 'RussiaUkraineWar', 'Putin', 'Ukraine', 'PutinWarCrimes', 'Russia', 'SheikhHasina', 'NarendraModi', 'Ukraine', 'World', 'News', 'Russia', 'Russia', 'Kherson', 'RussianArmy', 'RussiaUkraineWar', 'PutinWarCriminal', 'PutinsWar', 'Ukraine', 'RussiaUkraineWar', 'Ukraine', 'RussiaUkraineCrisis', 'RussiaUkraine', 'Ukraine', 'Ukraine', 'RussiaUkraineCrisis', 'Ukraine', 'RussiaUkraineWar', 'Zelenskyy', 'Ukraine', 'PutinHitler', 'WarCriminalPutin', 'RussiaInvadedUkraine', 'BoycottRussia', 'Russia', 'Ukraine', 'RussiaUkraineWar', 'Putin', 'Medjugorje', 'March', 'OurLady', 'Christ', 'PrayForUkraine', 'PrayforRussia', 'RussiaUkraineWar', 'RussianWarCrimes', '5DaysLeft', 'RussiaUkrainewar', 'minerals', 'RussiaUkraineWar', 'RussiaUkraineWar', 'RussiaUkraineWar', 'RussiaUkraineWar', 'RussiaUkraineWar', 'quotes', 'IslamophobiaInIndia', 'RussianArmy', 'Ukraine', 'UkraineRussiaWar', 'RussiaUkraineCrisis', 'Ukraine', 'Halliburton', 'Russia', 'Ukrainians', 'Day23', 'RussiaUkraineWar', 'RussiaUkraineWar', 'StandWithUkraine', 'RussiaUkraineWar', 'RussiaUkraineWar', 'LongLiveUkraine', 'Putin', 'RussiaUkraineWar', 'Putin', 'UcraniaBajoAtaque', 'UkraineUnderAttack', 'UkraineInvasion', 'UcraniaRussia', 'PutinIsaWarCriminal', 'PutinCriminal', 'Ukraine', 'RussiaUkraineWar', 'Ukraina', 'RussiaUkraine', 'Ukraine', 'UkraineRussiaWar', 'RussiaUkraineWar', 'RussiaUkraineWar', 'Ukraine️', 'Russia', 'UkraineRussiaWar', 'Ukraine️', 'Russia', 'UkraineRussiaWar', 'Ukraine️', 'Russia', 'Ukraine️', 'Russia', 'UkraineRussiaWar', 'RussiaUkraineWar', 'ChineseVehicles', 'Ukraine', 'UkraineRussiaWar', 'UkraineUnderAttack', 'UkraineWar', 'UkraineRussianWar', 'RussiaUkraineWar', 'Ukraine', 'Ukraine', 'UkraineUnderAttaсk', 'Ukraine', 'RussiaInvadedUkraine', 'RussiaUkraineWar', 'RussianArmy', 'Ukraine', 'RussiaUkraineWar', 'UKRAINE', 'RUSSIAUKRAINEWAR', 'News', 'Mariupol', 'theater', 'charliehebdo', 'Ukraine', 'UkraineWar', 'UkraineUnderAttaсk', 'warukraine', 'news', 'StandWithUkraine', 'Mariupol', 'Ucraina', 'Ukraine', 'PutinIsaWarCriminal', 'PutinAsesino', 'Russia', 'Ukraine', 'Brentcrude', 'Brentprices', 'ceasefire', 'Indianenergybasket', 'oilprices', 'WarCriminalPutin', 'RussiaUkraineConflict', 'russiaukrainewar', 'Ukraine', 'US', 'Russia', 'LaptopFromHell', 'ArrestHunter', 'RussiaUkraineWar', 'sanctions', 'RussiaUkraineWar', 'Ukraine', 'US', 'Russia', 'LaptopFromHell', 'ArrestHunter', 'USA', 'RussiaUkraineWar', 'RussiaInvadedUkraine', 'putininvasion', 'NoNoFlyZone', 'Ukraine', 'BorisJohnson', 'President', 'VolodymyrZelensky', 'UK', 'Ukraine', 'RussiaUkraineWar', 'EU', 'Turkiye', 'Ukraine', 'diplomacy', 'Sacrifice', 'CNN', 'RussiaUkraineWar', 'Russia', 'Ukraine', 'USA', 'EnergyCrisis', 'IEA', 'oil', 'Emergency', 'pandemic', 'Russia', 'Ukraine', 'Crimea', 'Military', 'RussiaUkraineWar', 'RussiaUkraine', 'RussiaUkraineWar', 'FridayThoughts', '6PMPrime', 'Ukraine', 'RussiaUkraineWar', 'broadcasting', 'InformationWarfare', 'RussiaUkraineWar', 'technology', 'shortwave', 'Propaganda', 'Russia', 'PanicBuying', 'RussiaUkraineWar', 'Soviet', 'Russia', 'SayNoToCommunistChina', 'Xitler', 'Ukrainian', 'BLM', 'Congress', 'Senate', 'UkraineRussiaWar', 'UkraineUnderAttack', 'Ukraine️', 'UkraineWar', 'russiaukrainewar', 'StopOil', 'oil', 'Diesel', 'snakeoil', 'SaudiArabia', 'RussiaUkraineWar', 'hiphop', 'rap', 'RussiaUkraineWar', 'ukraine', 'nato', 'Slovenia', 'Czech', 'Poland', 'Latvia', 'Lithuania', 'Estonia', 'Denmark', 'France', 'Slovakia', 'RussiaUkraineWar', 'ukraine', 'nato', 'Slovenia', 'Czech', 'Poland', 'Latvia', 'Lithuania', 'Estonia', 'Denmark', 'France', 'Slovakia', 'BREAKING', 'RussiaUkraineWar', 'UkraineRussiaWar', 'UkraineUnderAttack', 'Ukraine️', 'UkraineWar', 'XiJinping', 'Biden', 'UkraineRussianWar', 'ukraine', 'RussiaUkraineWar', 'Russia', 'NATO', 'Ukraine', 'Russia', 'Biden', 'Ukraine️', 'RussiaInvadedUkraine', 'RussiaUkraineWar', 'America', 'Putin', 'TrumpRally', 'TrumpRallyFlorence', 'TrumpIsARussianAsset', 'TrumpRussia', 'Catalonia', 'Bosnia', 'Their', 'FakeNews', 'RussiaUkraineWar', 'RussiaWarCrimes', 'Russia', 'Kiev', 'Abena', 'AndileMpisane', 'khanyimbau', 'tooloudchallenge', 'InPics', 'RussiaUkraineWar', 'Kharkiv', 'Russia', 'Peskov', 'RussiaUkraineWar', 'Kremlin', 'Biden', 'Putin', 'RussiaUkraineWar', 'UkraineRussiaWar', 'StandWithUkraine', 'FightWithUkraine', 'RussiaUkraineWar', 'UkraineRussiaWar', 'StandWithUkraine', 'FightWithUkraine', 'RussiaUkraineWar', 'UkraineRussiaWar', 'StandWithUkraine', 'FightWithUkraine', 'RussiaUkraineWar', 'FoodCrisis', 'agri', 'OATT', 'Biden', 'Ukraine', 'Russia', 'Rosgram', 'Instagram', 'Canada', 'Ukrainians', 'Russian', 'Russian', 'Ukraine', 'RussiaUkraineWar', 'Russia', 'China', 'BildLiveUkraine', 'GuerreUkraine', 'JoeBiden', 'MacronUkraine', 'Military', 'NewsUkraine', 'America', 'Russia', 'RussiaUkraineWar', 'Ukrania', 'PutinWarCriminal', 'RussiaUkraineWar', 'UkraineUnderAttack', 'Ukraine', 'RussiaUkraineWar', 'Lavrov', 'Weapons', 'Ukraine', 'Russian', 'BreakingNews', 'News', 'NewsNation', 'TheDonlonReport', 'RussiaUkraineWar', 'MARIUPOL', 'Ukraine', 'UkraineRussiaWar', 'RussiaUkraineWar', 'Kyiv', 'Germany', 'security', 'Ukraine', 'Russia', 'Ukraine', 'killputin', 'ukraine', 'RussiaUkraineWar', 'putin', 'kremlin', 'WarCriminal', 'PutinWarCriminal', 'TheHague', 'PutinWarCrimes', 'RussiaUkraineWar', 'Russia', 'UkraineWar', 'Germany', 'military', 'Russia', 'RussiaUkraineWar', 'Russian', 'UkraineUnderAttack', 'RussiaUkraineWar', 'Demidiv', 'zoo', 'Kyiv', 'UkraineAnimals', 'animals', 'UkraineUnderAttack', 'RussiaUkraineWar', 'boycottnestle', 'RussiaUkraineWar', 'VladimirPutin', 'RussiaUkraineWar', 'RussianArmy', 'Russian', 'OpRussia', 'PutinWarCriminal', 'Moscow', 'Putin', 'China', 'Russia', 'Ukraine', 'Ukraine', 'StopTheWar', 'PutinWarCriminal', 'PutinsWar', 'Kyiv', 'Mariupol', 'UkraineUnderAttack', 'StopRussia', 'RussiaUkraineWar', 'UkraineRussianWar', 'ruscist', 'Russia', 'Ukraine', 'Kyiv', 'invasion', 'russiaukraine', 'russiaukrainewar', 'ukrainewarvideos', 'RussiaUkraineWar', 'Kyiv', 'Mariupol', 'UkraineUnderAttack', 'StopRussia', 'RussiaUkraineWar', 'UkraineRussianWar', 'China', 'USA', 'RussiaUkraineWar', 'Putin', 'Kyiv', 'Mariupol', 'UkraineUnderAttack', 'StopRussia', 'RussiaUkraineWar', 'UkraineRussianWar', 'FreePalestine', 'Palestine', 'PalestineUnderAttack', 'RussiaUkraineWar', 'UkraineWar', 'Yavoriv', 'Ukraine', 'Russia', 'RussiaUkraineWar', 'Russia', 'Ukraine', 'Kyiv', 'invasion', 'Russia', 'RussiaUkraine', 'RussiaUkraineWar', 'RussiaUkraineCrisis', 'BREAKING', 'Kyiv', 'Mariupol', 'UkraineUnderAttack', 'StopRussia', 'RussiaUkraineWar', 'RussiaUkraineWar', 'BreakingNews', 'News', 'NewsNation', 'TheDonlonReport', 'Russia', 'Moscow', 'UkraineWar', 'media', 'FoxNews', 'SergeiLavrov', 'Ukraine', 'RussiaUkraineWar', 'RussiaUkraineWar', 'Russia', 'Ukraine', 'Kyiv', 'invasion', 'russiaukraine', 'russiaukrainewar', 'RussiaUkraineWar', 'UkraineRussiaWar', 'StandWithUkraine', 'FightWithUkraine', 'TrumpIsARussianAsset', 'RussiaUkraineWar', 'UkraineRussiaWar', 'StandWithUkraine', 'FightWithUkraine', 'Kyiv', 'Mariupol', 'UkraineUnderAttack', 'StopRussia', 'RussiaUkraineWar', 'Ukraine', 'UkraineRussiaWar', 'Russia', 'Russian', 'Russia', 'Ukraine', 'CBN', 'Valentina', 'NATO', 'China', 'UkraineRussia', 'RussiaUkraineWar', 'UkraineWar', 'Russia', 'Ukraine', 'Putin', 'Yavoriv', 'Ukraine', 'Russia', 'RussiaUkraineWar', 'Economy', 'CCP', 'RussiaUkraineWar', 'RussiaUkraineWar', 'Beijing', 'RussiaUkraineWar', 'ukraine', 'Russia', 'Ukraine', 'Kyiv', 'Ukraine', 'UkraineRussiaWar', 'Russia', 'Russian', 'USA', 'NATO', 'Europe', 'Ukrainian', 'Kyiv', 'Mariupol', 'UkraineUnderAttack', 'StopRussia', 'RussiaUkraineWar', 'UkraineRussianWar', 'PutinWarCriminal', 'RussiaUkraineWar', 'UkraineUnderAttack', 'News', 'Putin', 'RussiaUkraineWar', 'Putin', 'AzovBatallion', 'RussiaUkraineWar', 'RussiaUkraineWar', 'JoeBiden', 'UkraineRussianWar', 'RussiaUkraineWar', 'Trump', 'RussiaUkraineWar', 'UkraineRussiaWar', 'Ukraine', 'Odessa', 'Kyiv', 'Syria', 'MBZ', 'UAE', 'Ukrainewar2022', 'RussiaUkraineWar', 'UKRAINE', 'RUSSIAUKRAINEWAR', 'News', 'Communist', 'Russia', 'ultraleft', 'Putin', 'NuclearWar', 'war', 'NFT', 'RussiaUkraineWar', 'RETWEEET', 'Russia', 'RussiaUkraineWar', 'NuclearWar', 'war', 'RussiaUkraineWar', 'Russian', 'Putin', 'Russian', 'American', 'ForeignPolicy', 'UkraineUnderAttaсk', 'UkraineRussiaWar', 'Ukraine', 'UkraineRussianWar', 'StopRussia', 'UkraineKrieg', 'Ukrainian', 'Ukrainian', 'Lithuanians', 'Ukrainian', 'Lietuva', 'Ukraine', 'Starlink', 'Ukraine', 'Russia', 'UkraineTheTugOfWar', 'UkraineConflict', 'UkraineWar', 'RussiaUkraineWar', 'UkraineUnderAttack', 'Ukrainian', 'PutinsWar', 'Ukraine', 'Russia', 'UkraineRussia', 'RussianArmy', 'ZaidHamid', 'RussiaUkraineWar', 'RussiaUkraineConflict', 'Russia', 'Ukraine', 'RussiaUkraineWar', 'RussianArmy', 'Ukraine', 'ZaidHamid', 'Ukrainian', 'Ukraine', 'RussiaUkraineWar', 'Europe', 'UN', 'Ukraine', 'US', 'RussiaUkraineWar', 'music', 'art', 'Ukraine', 'RussiaUkraineWar', 'Ukraine', 'UkraineRussiaWar', 'Russia', 'Russian', 'Ukraine', 'Ukraine', 'UkraineRussiaWar', 'NEWS', 'BREAKINGNEWS', 'PutinsWar', 'China', 'ChinaRussia', 'Russia', 'RussiaUkraineWar', 'UkraineRussiaWar', 'UkraineUnderAttack', 'RussiaUkraineWar', 'ChristianMissionaries', 'Ukraine', 'RussiaUkraineWar', 'russia', 'StandWithUkraine', 'Odesa', 'ukraine', 'Russia', 'UkraineCrisis', 'StopPutin', 'FckPutin', 'Anonymous', 'RussiaUkraineWar', 'Russia', 'corruption', 'Russian', 'RussiaUkraineWar', 'Syria', 'Russia', 'Ukraine', 'Ukraine', 'UkraineRussiaWar', 'Russia', 'ukraine', 'Mykolayiv', 'RussiaUkraineWar', 'StandWithUkraine', 'Ukraine', 'UkraineRussiaWar', 'RussiaUkraineWar', 'Ukraine', 'UkraineRussiaWar', 'NFTGiveaways', 'RussiaUkraineWar', 'NATO', 'US', 'Russia', 'Ukraine', 'RussiaUkraine', 'RussiaUkraineWar', 'XiJinping', 'RussiaUkraineWar', 'Mariupol', 'RussiaUkraineWar', 'SaudiArabia', 'Emirates', 'US', 'EU', 'Russia', 'RussiaUkraineWar', 'Ukriane', 'RussiaUkraineWar', 'Kyiv', 'ITVideo', 'UkraineRussiaWar', 'Ukraine', 'RussiaUkraineWar', 'InElonWeTrust', 'SpaceX', 'Starlink', 'Ukraine', 'PutinsWar', 'PutinIsaWarCriminal', 'PutinWarCriminal', 'Ukraine', 'UkraineRussiaWar', 'Russia', 'Russian', 'USA', 'NATO', 'Europe', 'Ukrainian', 'Bajwa', 'imrankhanPTI', 'RussiaUkraineWar', 'ZelenskyWarCriminal', 'Russian', 'Oligarchs', 'Putin', 'assets', 'Ukrainian', 'refugees', 'UkraineRussiaWar', 'RussiaUkraineWar', 'Ukrainian', 'Bayraktar', 'EU', 'Ukraine', 'Serbia', 'Ukrainianarmy', 'Ukraine', 'UkraineWar', 'UkraineUnderAttaсk', 'Kyiv', 'UkraineWar', 'RussiaUkraineWar', 'UkraineRussiaWar', 'Russia', 'Kiev', 'Ukraine', 'Mariupol', 'RussiaUkraineWar', 'Ukraine', 'UkraineWar', 'UkraineUnderAttack', 'Russia', 'RussiaUkraineWar', 'RussianArmy', 'StandWithUkraine', 'RussianNews', 'Russia', 'Kyiv', 'UkraineWar', 'RussiaUkraineWar', 'UkraineRussiaWar', 'Russia', 'Kiev', 'RussiaUkraineWar', 'Lviv', 'victoriaroshchyna', 'worldneedsjournalists', 'Ukraine', 'ciFORECAST', 'RussiaUkraineWar', 'ukraine', 'Kyiv', 'UkraineWar', 'RussiaUkraineWar', 'UkraineRussiaWar', 'Russia', 'Kiev', 'RussiaUkraineWar', 'Russian', 'RussiaUkraineWar', 'putin', 'FaceALaGuerreTF1', 'Ukraine', 'Russia', 'RussiaUkraineWar', 'Russian', 'UkraineUnderAttack', 'Bitcoin', 'Kharkiv', 'Kyiv', 'StandWithUkraine', 'StopRussia', 'Russian', 'RussiaUkraineWar', 'UkraineWar', 'Ukrain', 'Russia', 'Putin', 'SlavaUkraini', 'RussiaUkraineWar', 'DefeatPutin', 'RussiaUkraineWar', 'Russia', 'Ukraine', 'RussiaUkraineWar', 'climate', 'NWO', 'migration', 'Karnataka', 'Ukraine', 'RussiaUkraineWar', 'Zelensky', 'PutinsWar', 'Ukraine', 'RussiaUkraineWar', 'Ukraine', 'Mykolaiv', 'UkraineRussianWar', 'Ukraine', 'RussiaUkraineWar', 'RussiaUkraineWar', 'Ukraine', 'RussiaUkraineWar', 'Russia', 'Ukraine', 'RussiaUkraineWar', 'RussiaUkraineWar', 'US', 'UK', 'EU', 'HumanitarianCorridorNOW', 'KIEV', 'ukraine', 'russia', 'ukrainerussiaconflict', 'Brazil', 'Ukraine', 'RUSSIA', 'Russia', 'RussiaUkraineWar', 'RussiaUkraineConflict', 'NFT', 'COVID19', 'RussiaUkraineWar', 'COVID19', 'Metaverse', 'Russia', 'RussiaUkraineWar', 'stockmarkettoday', 'UkraineRussiaWar', 'UECL', 'Ukraine', 'Ukraine️', 'RussiaUkraineWar', 'ElectricVehicle', 'Mariupol', 'UkraineUnderAttaсk', 'UkraineRussiaWar', 'RussiaInvadedUkraine', 'RussiaUkraineConflict', 'RussiaUkraineWar', 'nuclear', 'UkraineUnderAttaсk', 'UkraineRussiaWar', 'ANC', 'SouthAfrica', 'PutinsWar', 'RussiaUkraineWar', 'Journalists', 'military', 'UkraineUnderAttaсk', 'RussiaUkraineWar', 'rusiaukraina', 'Russian', 'russia', 'UkraineRussianWar', 'UkraineRussiaWar', 'UkraineRussiaWar', 'RussiaUkraineWar', 'Zelensky', 'Zelenskyy', 'News', 'Ukraine', 'Russia', 'News', 'Ukraine', 'Russia', 'Putin', 'News', 'Ukraine', 'Russia', 'Putin', 'Russia', 'Ukraine', 'RussiaUkraine', 'RussiaUkraineWar', 'Russian', 'Ukrainian', 'Donbas', 'LaptopFromHell', 'mtnews', 'mtpol', 'Match2022', 'Ukraine', 'Severodonetsk', 'RussiaUkraineWar', 'Russia', 'Truth', 'RussiaUkraineWar', 'IStandWithUkriane', 'Crimea', 'Russia', 'mtnews', 'mtpol', 'Match2022', 'Ukraine', 'RussiaUkraineWar', 'RestoreTheSnyderVerse', 'matchday22', 'RussiaUkraineWar', 'Ukrainian', 'Ukraine', 'RussiaUkraineWar', 'USBiolabs', 'Russian', 'Lenin', 'Stalin', 'Yeltsin', 'Putin', 'CNN', 'savinglives', 'Ukraine', 'surrender', 'Russian', 'StopPutin', 'Russian', 'WarCrimes', 'PutinsWarCrimes', 'Ukraine', 'Belarus', 'Kharkiv', 'kyiv', 'kiev', 'odessa', 'ukraine', 'war', 'RussiaUkraineWar', 'Ukrainian', 'Russian', 'russianoil', 'RussiaUkraineWar', 'IndiaRussia', 'RussiaUkraineWar', 'RussiaUkraineWar', 'UkraineWar', 'PutinsWar', 'Ukraine', 'Russia', 'RussiaUkraineWar', 'UkraineRussiaWar', 'IStandWithUkriane', 'RussiaUkraineWar', 'War', 'Ukraine', 'RussiaUkraineWar', 'RussiaUkraineWar', 'Ukraine', 'Europe', 'WorldNews', 'RussiaUkraineConflict', 'Russian', 'PutinsWar', 'CNN', 'MSNBC', 'RussiaUkraine', 'FridayFeeling', 'TulsiGabbard', 'MittRomney', 'TuckerCarlsonIsATraitor', 'Putin', 'Ukraine', 'Ukrainians', 'foodandwater', 'Mariupol', 'Ukraine', 'RussiaUkraineWar', 'UKRAINE', 'RUSSIAUKRAINEWAR', 'News', 'UltraLeft', 'Putin', 'communist', 'RedArmy', 'RussiaUkraineWar', 'Putin', 'XiJinping', 'RussiaUkraineWar', 'NASDAQ100', 'SP500', 'DJI', 'RussiaUkraineWar', 'UkraineWar', 'PutinsWar', 'Ukraine', 'RussiaUkraineWar', 'Ukraine', 'RussianArmy', 'SlavaUkraïni', 'روسيا', 'اوكرانيا', 'بوتين_مجرم_حرب', 'UnitedKingdom', 'war', 'russia', 'RussiaUkraineConflict', 'RussiaUkraineWar', 'Russia', 'Ukraine', 'RussiaUkraineWar', 'Gravitas', 'UkraineRussiaWar', 'UkraineWar', 'UkraineRussianWar', 'PutinsWar', 'Russian', 'Gravitas', 'RussiaUkraineWar', 'UkraineWar', 'PutinsWar', 'Ukraine', 'TrumpRally', 'MAGATs', 'Putin', 'Ukraine', 'UkraineRussiaWar', 'RussiaUkraineWar', 'Russia', 'Russian', 'Gravitas', 'PutinWarCriminal', 'RussiaUkraineWar', 'Kyiv', 'Russia', 'Ukrainian', 'Putinwar', 'UkraineRussiaConflict', 'RussiaUkraineWar', 'Moscow', 'Putin', 'RussiaUkraineWar', 'RussiaUkraine', 'Russian', 'Ukraine', 'Russians', 'VladimirPutin', 'Oligarchs', 'Vekselberg', 'Russia', 'Ukraine', 'RussiaUkraineWar', 'Ukraine', 'UkraineRussiaWar', 'StopRussia', 'PutinIsaWarCriminal', 'RussiaUkraineWar', 'Ukrainian', 'Maga', 'AmericaFirst', 'BidenIsADisgrace', 'BidenIsAFailure', 'fjb', 'LetsGoBrandon', 'Ukraine', 'UkraineUnderAttack', 'ukraine', 'russia', 'russiaukraine', '77WABCRadio', 'Biden', 'China', 'RussiaUkraineWar', '12months', 'zoo', 'RussiaUkraineWar', 'war', 'Ukraine', 'RussiaUkraineWar', 'PutinsWar', 'GasPrices', 'RussiaUkraineWar', 'BigOil', 'China', 'RussiaUkraineWar', 'Ukranian', 'V4', 'Ambassadors', 'Gravitas', 'UkraineConflict', 'StopPutin', 'PutinHitler', 'RussiaInvadedUkraine', 'RussiaUkraineWar', 'WarCrimes', 'Gravitas', 'RussiaUkraineWar', 'RussianInvaders', 'Kharkiv', 'Ukraine', 'UkraineRussiaWar', 'Russian', 'Moscow', 'Z', 'swastika', 'Russia', 'Ukraine', 'RussiaUcraina', 'BoycottMarksandSpencer', 'MarksAndSpencer', 'Russia', 'Ukraine', 'War', 'Military', 'RussiaUkraineWar', 'Oil', 'inflation', 'Z', 'FreeUkraine', 'PutinsWar', 'RussiaInvadedUkraine', 'RussiaUkraineWar', 'Ukraine', 'RussiaUkraineWar', 'PutinsWar', 'PutinsWar', 'RussiaUkraineWar', 'Russian', 'Nikolaev', 'Ukraine', 'Mariupol', 'RussiaUkraineWar', 'RussiaUkraineWar', 'Russia', 'Ukraine', 'Ukraine', 'Ukraine️', 'RussianSoldiers', 'Moscow', 'RussiaUkraineWar', 'NATO', 'RussiaUkraineWar', 'Ukraine', 'UkraineRussiaWar', 'Russia', 'Russian', 'USA', 'NATO', 'Europe', 'RussiaUkrainewar', 'Russian', 'Ukraine', 'RussiaUkraineWar', 'Russian', 'Russia', 'Ukraine️', 'Ukraine️', 'Russia', 'RussiaInvadedUkraine', 'RussianWarCrimes', 'RussiaUkraineWar', 'OpRussia', 'OpUkraine', 'SHDWSec', 'Putin', 'Ukraine', 'warBBC', 'RussiaUkraineWar', 'WarCriminalPutin', 'Ukraine', 'UkraineWar', 'Ukraine', 'UkraineRussiaWar', 'Russia', 'Russian', 'USA', 'UkraineRussiaWar', 'RussiaUkraineWar', 'RussiaUkraineConflict', 'RussiaUkraineCrisis', 'UkraineUnderAttaсk', 'Ukrainianarmy', 'Ukraine', 'UkraineWar', 'UkraineUnderAttaсk', 'Putin', 'Ukraine', 'Ukrainian', 'Bayraktar', 'Fatwa', 'Russia', 'Putin', 'Ukraine', 'UkraineRussiaWar', 'Russia', 'Russian', 'USA', 'NATO', 'Europe', 'Ukrainian', 'ukrainerussiawar', 'Chernihiv', 'Ukraine️', 'RussiaUkraineWar', 'UkraineRussianWar', 'cryptocurrencies', 'crypto']\n"
          ]
        }
      ]
    },
    {
      "cell_type": "code",
      "source": [
        "(df.Hashtags.dropna())"
      ],
      "metadata": {
        "colab": {
          "base_uri": "https://localhost:8080/"
        },
        "id": "XKjxJvrTaxAW",
        "outputId": "4c677336-d30e-4044-b579-39849763d0af"
      },
      "execution_count": null,
      "outputs": [
        {
          "output_type": "execute_result",
          "data": {
            "text/plain": [
              "0                [RussiaUkraineWar, RussiaUkraineCrisis]\n",
              "1                                                     []\n",
              "2                                                     []\n",
              "3                                                     []\n",
              "4                                                     []\n",
              "                             ...                        \n",
              "795                                                   []\n",
              "796                                              [Putin]\n",
              "797    [Ukraine, UkraineRussiaWar, Russia, Russian, U...\n",
              "798    [Chernihiv, Ukraine️, RussiaUkraineWar, Ukrain...\n",
              "799                           [cryptocurrencies, crypto]\n",
              "Name: Hashtags, Length: 800, dtype: object"
            ]
          },
          "metadata": {},
          "execution_count": 105
        }
      ]
    },
    {
      "cell_type": "code",
      "source": [
        "(df.Hashtags)"
      ],
      "metadata": {
        "colab": {
          "base_uri": "https://localhost:8080/"
        },
        "id": "-k1Bnt3Z6yls",
        "outputId": "f25c9482-ebde-4571-b14e-05eeb7b8a950"
      },
      "execution_count": null,
      "outputs": [
        {
          "output_type": "execute_result",
          "data": {
            "text/plain": [
              "0                [RussiaUkraineWar, RussiaUkraineCrisis]\n",
              "1                                                     []\n",
              "2                                                     []\n",
              "3                                                     []\n",
              "4                                                     []\n",
              "                             ...                        \n",
              "795                                                   []\n",
              "796                                              [Putin]\n",
              "797    [Ukraine, UkraineRussiaWar, Russia, Russian, U...\n",
              "798    [Chernihiv, Ukraine️, RussiaUkraineWar, Ukrain...\n",
              "799                           [cryptocurrencies, crypto]\n",
              "Name: Hashtags, Length: 800, dtype: object"
            ]
          },
          "metadata": {},
          "execution_count": 106
        }
      ]
    },
    {
      "cell_type": "markdown",
      "source": [
        "## 3. Preprocess Tweets\n",
        "\n",
        "Here we remove hyperlinks , twitter handles ,emoji and special characters from tweets.\n"
      ],
      "metadata": {
        "id": "tBvmgM99oc-M"
      }
    },
    {
      "cell_type": "code",
      "source": [
        "df.Tweet[10]"
      ],
      "metadata": {
        "colab": {
          "base_uri": "https://localhost:8080/",
          "height": 35
        },
        "id": "S8r8nXj2pMpz",
        "outputId": "1b697847-dbed-4cc1-f270-2a090eb48020"
      },
      "execution_count": 12,
      "outputs": [
        {
          "output_type": "execute_result",
          "data": {
            "text/plain": [
              "'9 European, US fossil fuel companies paid total $15.8B taxes, fees to #Russia since 2014 invasion of #Ukraine… https://t.co/3CCfUyLZhB'"
            ],
            "application/vnd.google.colaboratory.intrinsic+json": {
              "type": "string"
            }
          },
          "metadata": {},
          "execution_count": 12
        }
      ]
    },
    {
      "cell_type": "code",
      "source": [
        "# A function t clean tweets\n",
        "import re\n",
        "def clean_tweet(tweet):\n",
        "    return ' '.join(re.sub('(@[A-Za-z0-9]+)|([^0-9A-Za-z\\s])|(\\w+:\\/\\/\\S+)|([RT])', ' ', str(tweet).lower()).split())\n",
        "\n",
        "# (@[A-Za-z0-9]+) : Removes twitter handles @Nasa @Twiiter etc.\n",
        "# ([^0-9A-Za-z\\s]) : Removes anything except text,number and space\n",
        "# (\\w+:\\/\\/\\S+)  :  Removes https:// links  S+ means a string of non-whitespace charcters\n",
        "# [RT] : removes Retweet symbol"
      ],
      "metadata": {
        "id": "eHFBy3rfocPm"
      },
      "execution_count": 8,
      "outputs": []
    },
    {
      "cell_type": "code",
      "source": [
        "# Call function to get Clean tweets\n",
        "\n",
        "df['clean_tweet'] = df['Tweet'].apply(lambda x : clean_tweet(x))\n",
        "df.head(5)"
      ],
      "metadata": {
        "colab": {
          "base_uri": "https://localhost:8080/",
          "height": 531
        },
        "id": "87PBA37b9eTP",
        "outputId": "cc6df7e0-4501-4c16-99be-c1365b95cb0d"
      },
      "execution_count": 13,
      "outputs": [
        {
          "output_type": "execute_result",
          "data": {
            "text/plain": [
              "                  Date TwitterHandle IsVerified  \\\n",
              "0  2022-03-25 11:18:00     AmazingUA      False   \n",
              "1  2022-03-25 11:16:06       hapSTR7      False   \n",
              "2  2022-03-25 11:15:55  CNBCTV18News       True   \n",
              "3  2022-03-25 11:15:28     FEMarkets      False   \n",
              "4  2022-03-25 11:15:00       WIONews       True   \n",
              "\n",
              "                                               Tweet Likes RT User_location  \\\n",
              "0  The moment yesterday when a rocket hit a crowd...     0  0       Україна   \n",
              "1  Google Street View in LIVE \\nWatch more live o...     0  0                 \n",
              "2  COMING UP @ 5 PM | As the #RussiaUkraineWar ra...     3  0                 \n",
              "3  Where is Indian rupee headed to in coming days...     2  1         India   \n",
              "4  4 new battlegroups announced\\n\\n+ Ukrainian Pr...     2  0         India   \n",
              "\n",
              "  Followers_Count User_mentions                    Hashtags  \\\n",
              "0            1079            []                          []   \n",
              "1              33            []             [hapstr, Syria]   \n",
              "2         1030448            []  [RussiaUkraineWar, WangYi]   \n",
              "3            2650            []                          []   \n",
              "4          431004            []                          []   \n",
              "\n",
              "                                         clean_tweet Sentiment  \n",
              "0  the moment yesterday when a rocket hit a crowd...       NaN  \n",
              "1  google street view in live watch more live on ...       NaN  \n",
              "2  coming up 5 pm as the russiaukrainewar rages o...       NaN  \n",
              "3  where is indian rupee headed to in coming days...       NaN  \n",
              "4  4 new battlegroups announced ukrainian preside...       NaN  "
            ],
            "text/html": [
              "\n",
              "  <div id=\"df-9ca6bea1-5609-4cc2-9642-9da020d93ff6\">\n",
              "    <div class=\"colab-df-container\">\n",
              "      <div>\n",
              "<style scoped>\n",
              "    .dataframe tbody tr th:only-of-type {\n",
              "        vertical-align: middle;\n",
              "    }\n",
              "\n",
              "    .dataframe tbody tr th {\n",
              "        vertical-align: top;\n",
              "    }\n",
              "\n",
              "    .dataframe thead th {\n",
              "        text-align: right;\n",
              "    }\n",
              "</style>\n",
              "<table border=\"1\" class=\"dataframe\">\n",
              "  <thead>\n",
              "    <tr style=\"text-align: right;\">\n",
              "      <th></th>\n",
              "      <th>Date</th>\n",
              "      <th>TwitterHandle</th>\n",
              "      <th>IsVerified</th>\n",
              "      <th>Tweet</th>\n",
              "      <th>Likes</th>\n",
              "      <th>RT</th>\n",
              "      <th>User_location</th>\n",
              "      <th>Followers_Count</th>\n",
              "      <th>User_mentions</th>\n",
              "      <th>Hashtags</th>\n",
              "      <th>clean_tweet</th>\n",
              "      <th>Sentiment</th>\n",
              "    </tr>\n",
              "  </thead>\n",
              "  <tbody>\n",
              "    <tr>\n",
              "      <th>0</th>\n",
              "      <td>2022-03-25 11:18:00</td>\n",
              "      <td>AmazingUA</td>\n",
              "      <td>False</td>\n",
              "      <td>The moment yesterday when a rocket hit a crowd...</td>\n",
              "      <td>0</td>\n",
              "      <td>0</td>\n",
              "      <td>Україна</td>\n",
              "      <td>1079</td>\n",
              "      <td>[]</td>\n",
              "      <td>[]</td>\n",
              "      <td>the moment yesterday when a rocket hit a crowd...</td>\n",
              "      <td>NaN</td>\n",
              "    </tr>\n",
              "    <tr>\n",
              "      <th>1</th>\n",
              "      <td>2022-03-25 11:16:06</td>\n",
              "      <td>hapSTR7</td>\n",
              "      <td>False</td>\n",
              "      <td>Google Street View in LIVE \\nWatch more live o...</td>\n",
              "      <td>0</td>\n",
              "      <td>0</td>\n",
              "      <td></td>\n",
              "      <td>33</td>\n",
              "      <td>[]</td>\n",
              "      <td>[hapstr, Syria]</td>\n",
              "      <td>google street view in live watch more live on ...</td>\n",
              "      <td>NaN</td>\n",
              "    </tr>\n",
              "    <tr>\n",
              "      <th>2</th>\n",
              "      <td>2022-03-25 11:15:55</td>\n",
              "      <td>CNBCTV18News</td>\n",
              "      <td>True</td>\n",
              "      <td>COMING UP @ 5 PM | As the #RussiaUkraineWar ra...</td>\n",
              "      <td>3</td>\n",
              "      <td>0</td>\n",
              "      <td></td>\n",
              "      <td>1030448</td>\n",
              "      <td>[]</td>\n",
              "      <td>[RussiaUkraineWar, WangYi]</td>\n",
              "      <td>coming up 5 pm as the russiaukrainewar rages o...</td>\n",
              "      <td>NaN</td>\n",
              "    </tr>\n",
              "    <tr>\n",
              "      <th>3</th>\n",
              "      <td>2022-03-25 11:15:28</td>\n",
              "      <td>FEMarkets</td>\n",
              "      <td>False</td>\n",
              "      <td>Where is Indian rupee headed to in coming days...</td>\n",
              "      <td>2</td>\n",
              "      <td>1</td>\n",
              "      <td>India</td>\n",
              "      <td>2650</td>\n",
              "      <td>[]</td>\n",
              "      <td>[]</td>\n",
              "      <td>where is indian rupee headed to in coming days...</td>\n",
              "      <td>NaN</td>\n",
              "    </tr>\n",
              "    <tr>\n",
              "      <th>4</th>\n",
              "      <td>2022-03-25 11:15:00</td>\n",
              "      <td>WIONews</td>\n",
              "      <td>True</td>\n",
              "      <td>4 new battlegroups announced\\n\\n+ Ukrainian Pr...</td>\n",
              "      <td>2</td>\n",
              "      <td>0</td>\n",
              "      <td>India</td>\n",
              "      <td>431004</td>\n",
              "      <td>[]</td>\n",
              "      <td>[]</td>\n",
              "      <td>4 new battlegroups announced ukrainian preside...</td>\n",
              "      <td>NaN</td>\n",
              "    </tr>\n",
              "  </tbody>\n",
              "</table>\n",
              "</div>\n",
              "      <button class=\"colab-df-convert\" onclick=\"convertToInteractive('df-9ca6bea1-5609-4cc2-9642-9da020d93ff6')\"\n",
              "              title=\"Convert this dataframe to an interactive table.\"\n",
              "              style=\"display:none;\">\n",
              "        \n",
              "  <svg xmlns=\"http://www.w3.org/2000/svg\" height=\"24px\"viewBox=\"0 0 24 24\"\n",
              "       width=\"24px\">\n",
              "    <path d=\"M0 0h24v24H0V0z\" fill=\"none\"/>\n",
              "    <path d=\"M18.56 5.44l.94 2.06.94-2.06 2.06-.94-2.06-.94-.94-2.06-.94 2.06-2.06.94zm-11 1L8.5 8.5l.94-2.06 2.06-.94-2.06-.94L8.5 2.5l-.94 2.06-2.06.94zm10 10l.94 2.06.94-2.06 2.06-.94-2.06-.94-.94-2.06-.94 2.06-2.06.94z\"/><path d=\"M17.41 7.96l-1.37-1.37c-.4-.4-.92-.59-1.43-.59-.52 0-1.04.2-1.43.59L10.3 9.45l-7.72 7.72c-.78.78-.78 2.05 0 2.83L4 21.41c.39.39.9.59 1.41.59.51 0 1.02-.2 1.41-.59l7.78-7.78 2.81-2.81c.8-.78.8-2.07 0-2.86zM5.41 20L4 18.59l7.72-7.72 1.47 1.35L5.41 20z\"/>\n",
              "  </svg>\n",
              "      </button>\n",
              "      \n",
              "  <style>\n",
              "    .colab-df-container {\n",
              "      display:flex;\n",
              "      flex-wrap:wrap;\n",
              "      gap: 12px;\n",
              "    }\n",
              "\n",
              "    .colab-df-convert {\n",
              "      background-color: #E8F0FE;\n",
              "      border: none;\n",
              "      border-radius: 50%;\n",
              "      cursor: pointer;\n",
              "      display: none;\n",
              "      fill: #1967D2;\n",
              "      height: 32px;\n",
              "      padding: 0 0 0 0;\n",
              "      width: 32px;\n",
              "    }\n",
              "\n",
              "    .colab-df-convert:hover {\n",
              "      background-color: #E2EBFA;\n",
              "      box-shadow: 0px 1px 2px rgba(60, 64, 67, 0.3), 0px 1px 3px 1px rgba(60, 64, 67, 0.15);\n",
              "      fill: #174EA6;\n",
              "    }\n",
              "\n",
              "    [theme=dark] .colab-df-convert {\n",
              "      background-color: #3B4455;\n",
              "      fill: #D2E3FC;\n",
              "    }\n",
              "\n",
              "    [theme=dark] .colab-df-convert:hover {\n",
              "      background-color: #434B5C;\n",
              "      box-shadow: 0px 1px 3px 1px rgba(0, 0, 0, 0.15);\n",
              "      filter: drop-shadow(0px 1px 2px rgba(0, 0, 0, 0.3));\n",
              "      fill: #FFFFFF;\n",
              "    }\n",
              "  </style>\n",
              "\n",
              "      <script>\n",
              "        const buttonEl =\n",
              "          document.querySelector('#df-9ca6bea1-5609-4cc2-9642-9da020d93ff6 button.colab-df-convert');\n",
              "        buttonEl.style.display =\n",
              "          google.colab.kernel.accessAllowed ? 'block' : 'none';\n",
              "\n",
              "        async function convertToInteractive(key) {\n",
              "          const element = document.querySelector('#df-9ca6bea1-5609-4cc2-9642-9da020d93ff6');\n",
              "          const dataTable =\n",
              "            await google.colab.kernel.invokeFunction('convertToInteractive',\n",
              "                                                     [key], {});\n",
              "          if (!dataTable) return;\n",
              "\n",
              "          const docLinkHtml = 'Like what you see? Visit the ' +\n",
              "            '<a target=\"_blank\" href=https://colab.research.google.com/notebooks/data_table.ipynb>data table notebook</a>'\n",
              "            + ' to learn more about interactive tables.';\n",
              "          element.innerHTML = '';\n",
              "          dataTable['output_type'] = 'display_data';\n",
              "          await google.colab.output.renderOutput(dataTable, element);\n",
              "          const docLink = document.createElement('div');\n",
              "          docLink.innerHTML = docLinkHtml;\n",
              "          element.appendChild(docLink);\n",
              "        }\n",
              "      </script>\n",
              "    </div>\n",
              "  </div>\n",
              "  "
            ]
          },
          "metadata": {},
          "execution_count": 13
        }
      ]
    },
    {
      "cell_type": "markdown",
      "source": [
        "## 4. Sentiment Score : TextBlob"
      ],
      "metadata": {
        "id": "s9EIo4C3Jq0d"
      }
    },
    {
      "cell_type": "code",
      "source": [
        "# Funciton to analyze Sentiment Using TextBlob\n",
        "\n",
        "from textblob import TextBlob\n",
        "def analyze_sentiment(tweet):\n",
        "    analysis = TextBlob(tweet)\n",
        "    if analysis.sentiment.polarity > 0:\n",
        "        return 'Positive'\n",
        "    elif analysis.sentiment.polarity == 0:\n",
        "        return 'Neutral'\n",
        "    else:\n",
        "        return 'Negative'"
      ],
      "metadata": {
        "id": "be8D-iZC8iaV"
      },
      "execution_count": 10,
      "outputs": []
    },
    {
      "cell_type": "code",
      "source": [
        "# Call function to get the Sentiments\n",
        "\n",
        "df[\"Sentiment\"] = df[\"Tweet\"].apply(lambda x : analyze_sentiment(x))\n",
        "df.head(5)"
      ],
      "metadata": {
        "colab": {
          "base_uri": "https://localhost:8080/",
          "height": 531
        },
        "id": "L-1MK5WO9XxJ",
        "outputId": "c4e62cde-0446-4f92-d886-e1e81b02c5ad"
      },
      "execution_count": 14,
      "outputs": [
        {
          "output_type": "execute_result",
          "data": {
            "text/plain": [
              "                  Date TwitterHandle IsVerified  \\\n",
              "0  2022-03-25 11:18:00     AmazingUA      False   \n",
              "1  2022-03-25 11:16:06       hapSTR7      False   \n",
              "2  2022-03-25 11:15:55  CNBCTV18News       True   \n",
              "3  2022-03-25 11:15:28     FEMarkets      False   \n",
              "4  2022-03-25 11:15:00       WIONews       True   \n",
              "\n",
              "                                               Tweet Likes RT User_location  \\\n",
              "0  The moment yesterday when a rocket hit a crowd...     0  0       Україна   \n",
              "1  Google Street View in LIVE \\nWatch more live o...     0  0                 \n",
              "2  COMING UP @ 5 PM | As the #RussiaUkraineWar ra...     3  0                 \n",
              "3  Where is Indian rupee headed to in coming days...     2  1         India   \n",
              "4  4 new battlegroups announced\\n\\n+ Ukrainian Pr...     2  0         India   \n",
              "\n",
              "  Followers_Count User_mentions                    Hashtags  \\\n",
              "0            1079            []                          []   \n",
              "1              33            []             [hapstr, Syria]   \n",
              "2         1030448            []  [RussiaUkraineWar, WangYi]   \n",
              "3            2650            []                          []   \n",
              "4          431004            []                          []   \n",
              "\n",
              "                                         clean_tweet Sentiment  \n",
              "0  the moment yesterday when a rocket hit a crowd...   Neutral  \n",
              "1  google street view in live watch more live on ...  Negative  \n",
              "2  coming up 5 pm as the russiaukrainewar rages o...  Positive  \n",
              "3  where is indian rupee headed to in coming days...  Negative  \n",
              "4  4 new battlegroups announced ukrainian preside...  Positive  "
            ],
            "text/html": [
              "\n",
              "  <div id=\"df-ae7aa24a-5a3c-4b8e-a7c8-5cbdd4937932\">\n",
              "    <div class=\"colab-df-container\">\n",
              "      <div>\n",
              "<style scoped>\n",
              "    .dataframe tbody tr th:only-of-type {\n",
              "        vertical-align: middle;\n",
              "    }\n",
              "\n",
              "    .dataframe tbody tr th {\n",
              "        vertical-align: top;\n",
              "    }\n",
              "\n",
              "    .dataframe thead th {\n",
              "        text-align: right;\n",
              "    }\n",
              "</style>\n",
              "<table border=\"1\" class=\"dataframe\">\n",
              "  <thead>\n",
              "    <tr style=\"text-align: right;\">\n",
              "      <th></th>\n",
              "      <th>Date</th>\n",
              "      <th>TwitterHandle</th>\n",
              "      <th>IsVerified</th>\n",
              "      <th>Tweet</th>\n",
              "      <th>Likes</th>\n",
              "      <th>RT</th>\n",
              "      <th>User_location</th>\n",
              "      <th>Followers_Count</th>\n",
              "      <th>User_mentions</th>\n",
              "      <th>Hashtags</th>\n",
              "      <th>clean_tweet</th>\n",
              "      <th>Sentiment</th>\n",
              "    </tr>\n",
              "  </thead>\n",
              "  <tbody>\n",
              "    <tr>\n",
              "      <th>0</th>\n",
              "      <td>2022-03-25 11:18:00</td>\n",
              "      <td>AmazingUA</td>\n",
              "      <td>False</td>\n",
              "      <td>The moment yesterday when a rocket hit a crowd...</td>\n",
              "      <td>0</td>\n",
              "      <td>0</td>\n",
              "      <td>Україна</td>\n",
              "      <td>1079</td>\n",
              "      <td>[]</td>\n",
              "      <td>[]</td>\n",
              "      <td>the moment yesterday when a rocket hit a crowd...</td>\n",
              "      <td>Neutral</td>\n",
              "    </tr>\n",
              "    <tr>\n",
              "      <th>1</th>\n",
              "      <td>2022-03-25 11:16:06</td>\n",
              "      <td>hapSTR7</td>\n",
              "      <td>False</td>\n",
              "      <td>Google Street View in LIVE \\nWatch more live o...</td>\n",
              "      <td>0</td>\n",
              "      <td>0</td>\n",
              "      <td></td>\n",
              "      <td>33</td>\n",
              "      <td>[]</td>\n",
              "      <td>[hapstr, Syria]</td>\n",
              "      <td>google street view in live watch more live on ...</td>\n",
              "      <td>Negative</td>\n",
              "    </tr>\n",
              "    <tr>\n",
              "      <th>2</th>\n",
              "      <td>2022-03-25 11:15:55</td>\n",
              "      <td>CNBCTV18News</td>\n",
              "      <td>True</td>\n",
              "      <td>COMING UP @ 5 PM | As the #RussiaUkraineWar ra...</td>\n",
              "      <td>3</td>\n",
              "      <td>0</td>\n",
              "      <td></td>\n",
              "      <td>1030448</td>\n",
              "      <td>[]</td>\n",
              "      <td>[RussiaUkraineWar, WangYi]</td>\n",
              "      <td>coming up 5 pm as the russiaukrainewar rages o...</td>\n",
              "      <td>Positive</td>\n",
              "    </tr>\n",
              "    <tr>\n",
              "      <th>3</th>\n",
              "      <td>2022-03-25 11:15:28</td>\n",
              "      <td>FEMarkets</td>\n",
              "      <td>False</td>\n",
              "      <td>Where is Indian rupee headed to in coming days...</td>\n",
              "      <td>2</td>\n",
              "      <td>1</td>\n",
              "      <td>India</td>\n",
              "      <td>2650</td>\n",
              "      <td>[]</td>\n",
              "      <td>[]</td>\n",
              "      <td>where is indian rupee headed to in coming days...</td>\n",
              "      <td>Negative</td>\n",
              "    </tr>\n",
              "    <tr>\n",
              "      <th>4</th>\n",
              "      <td>2022-03-25 11:15:00</td>\n",
              "      <td>WIONews</td>\n",
              "      <td>True</td>\n",
              "      <td>4 new battlegroups announced\\n\\n+ Ukrainian Pr...</td>\n",
              "      <td>2</td>\n",
              "      <td>0</td>\n",
              "      <td>India</td>\n",
              "      <td>431004</td>\n",
              "      <td>[]</td>\n",
              "      <td>[]</td>\n",
              "      <td>4 new battlegroups announced ukrainian preside...</td>\n",
              "      <td>Positive</td>\n",
              "    </tr>\n",
              "  </tbody>\n",
              "</table>\n",
              "</div>\n",
              "      <button class=\"colab-df-convert\" onclick=\"convertToInteractive('df-ae7aa24a-5a3c-4b8e-a7c8-5cbdd4937932')\"\n",
              "              title=\"Convert this dataframe to an interactive table.\"\n",
              "              style=\"display:none;\">\n",
              "        \n",
              "  <svg xmlns=\"http://www.w3.org/2000/svg\" height=\"24px\"viewBox=\"0 0 24 24\"\n",
              "       width=\"24px\">\n",
              "    <path d=\"M0 0h24v24H0V0z\" fill=\"none\"/>\n",
              "    <path d=\"M18.56 5.44l.94 2.06.94-2.06 2.06-.94-2.06-.94-.94-2.06-.94 2.06-2.06.94zm-11 1L8.5 8.5l.94-2.06 2.06-.94-2.06-.94L8.5 2.5l-.94 2.06-2.06.94zm10 10l.94 2.06.94-2.06 2.06-.94-2.06-.94-.94-2.06-.94 2.06-2.06.94z\"/><path d=\"M17.41 7.96l-1.37-1.37c-.4-.4-.92-.59-1.43-.59-.52 0-1.04.2-1.43.59L10.3 9.45l-7.72 7.72c-.78.78-.78 2.05 0 2.83L4 21.41c.39.39.9.59 1.41.59.51 0 1.02-.2 1.41-.59l7.78-7.78 2.81-2.81c.8-.78.8-2.07 0-2.86zM5.41 20L4 18.59l7.72-7.72 1.47 1.35L5.41 20z\"/>\n",
              "  </svg>\n",
              "      </button>\n",
              "      \n",
              "  <style>\n",
              "    .colab-df-container {\n",
              "      display:flex;\n",
              "      flex-wrap:wrap;\n",
              "      gap: 12px;\n",
              "    }\n",
              "\n",
              "    .colab-df-convert {\n",
              "      background-color: #E8F0FE;\n",
              "      border: none;\n",
              "      border-radius: 50%;\n",
              "      cursor: pointer;\n",
              "      display: none;\n",
              "      fill: #1967D2;\n",
              "      height: 32px;\n",
              "      padding: 0 0 0 0;\n",
              "      width: 32px;\n",
              "    }\n",
              "\n",
              "    .colab-df-convert:hover {\n",
              "      background-color: #E2EBFA;\n",
              "      box-shadow: 0px 1px 2px rgba(60, 64, 67, 0.3), 0px 1px 3px 1px rgba(60, 64, 67, 0.15);\n",
              "      fill: #174EA6;\n",
              "    }\n",
              "\n",
              "    [theme=dark] .colab-df-convert {\n",
              "      background-color: #3B4455;\n",
              "      fill: #D2E3FC;\n",
              "    }\n",
              "\n",
              "    [theme=dark] .colab-df-convert:hover {\n",
              "      background-color: #434B5C;\n",
              "      box-shadow: 0px 1px 3px 1px rgba(0, 0, 0, 0.15);\n",
              "      filter: drop-shadow(0px 1px 2px rgba(0, 0, 0, 0.3));\n",
              "      fill: #FFFFFF;\n",
              "    }\n",
              "  </style>\n",
              "\n",
              "      <script>\n",
              "        const buttonEl =\n",
              "          document.querySelector('#df-ae7aa24a-5a3c-4b8e-a7c8-5cbdd4937932 button.colab-df-convert');\n",
              "        buttonEl.style.display =\n",
              "          google.colab.kernel.accessAllowed ? 'block' : 'none';\n",
              "\n",
              "        async function convertToInteractive(key) {\n",
              "          const element = document.querySelector('#df-ae7aa24a-5a3c-4b8e-a7c8-5cbdd4937932');\n",
              "          const dataTable =\n",
              "            await google.colab.kernel.invokeFunction('convertToInteractive',\n",
              "                                                     [key], {});\n",
              "          if (!dataTable) return;\n",
              "\n",
              "          const docLinkHtml = 'Like what you see? Visit the ' +\n",
              "            '<a target=\"_blank\" href=https://colab.research.google.com/notebooks/data_table.ipynb>data table notebook</a>'\n",
              "            + ' to learn more about interactive tables.';\n",
              "          element.innerHTML = '';\n",
              "          dataTable['output_type'] = 'display_data';\n",
              "          await google.colab.output.renderOutput(dataTable, element);\n",
              "          const docLink = document.createElement('div');\n",
              "          docLink.innerHTML = docLinkHtml;\n",
              "          element.appendChild(docLink);\n",
              "        }\n",
              "      </script>\n",
              "    </div>\n",
              "  </div>\n",
              "  "
            ]
          },
          "metadata": {},
          "execution_count": 14
        }
      ]
    },
    {
      "cell_type": "code",
      "source": [
        "# Check Summary of Random Record\n",
        "n = 34\n",
        "print(\"Original tweet:\\n\",df['Tweet'][n])\n",
        "print()\n",
        "print(\"Clean tweet:\\n\",df['clean_tweet'][n])\n",
        "print()\n",
        "print(\"Sentiment of the tweet:\\n\",df['Sentiment'][n])"
      ],
      "metadata": {
        "colab": {
          "base_uri": "https://localhost:8080/"
        },
        "id": "HM5nbSBT9v6G",
        "outputId": "edc30a58-568e-46a3-e51f-e48d80fe68d1"
      },
      "execution_count": 17,
      "outputs": [
        {
          "output_type": "stream",
          "name": "stdout",
          "text": [
            "Original tweet:\n",
            " Tell me again how forced-pregnancy activists are really the ones pro women's rights by egging the government on to… https://t.co/tK6QOsrQxf\n",
            "\n",
            "Clean tweet:\n",
            " tell me again how forced pregnancy activists are really the ones pro women s rights by egging the government on to\n",
            "\n",
            "Sentiment of the tweet:\n",
            " Positive\n"
          ]
        }
      ]
    },
    {
      "cell_type": "markdown",
      "source": [
        "## Using Huggingface Transformers\n",
        "\n",
        "We will now use tranformer based sentiment classifier since they give superior results as compared to TextBlob as they are able to capture the sequential and contextual information.\n",
        "\n",
        "I used the **bertweet** transformer which has been trained and fine-tuned for tweet sentiment analysis.\n",
        "\n",
        "[BERTWEET](https://huggingface.co/finiteautomata/bertweet-base-sentiment-analysis)\n",
        "\n",
        "* We can directly use the tranformers pipeline mechanism to pass our data and analyse the tweet scores\n",
        "* The model is of 500 MB size relatively smaller than distillbert models"
      ],
      "metadata": {
        "id": "FtijrWt0JlM5"
      }
    },
    {
      "cell_type": "code",
      "source": [
        "!pip install transformers\n",
        "!pip install emoji"
      ],
      "metadata": {
        "id": "Kl5TKmgUJknH"
      },
      "execution_count": null,
      "outputs": []
    },
    {
      "cell_type": "code",
      "source": [
        "from transformers import pipeline\n",
        "from transformers import AutoTokenizer, AutoModelForSequenceClassification\n",
        "#Instantiate tokenizer\n",
        "tokenizer = AutoTokenizer.from_pretrained(\"finiteautomata/bertweet-base-sentiment-analysis\") #paste the model path from hugging face repo\n",
        "#Instantiate the Classifier\n",
        "model = AutoModelForSequenceClassification.from_pretrained(\"finiteautomata/bertweet-base-sentiment-analysis\")\n",
        "\n",
        "classifier = pipeline(\"sentiment-analysis\" , model=model, tokenizer=tokenizer)"
      ],
      "metadata": {
        "id": "YyedSHLyI8gW"
      },
      "execution_count": 17,
      "outputs": []
    },
    {
      "cell_type": "markdown",
      "source": [
        "* It takes more time as compared to text blob to classify sentiment of each tweet ."
      ],
      "metadata": {
        "id": "5UQIGKs8Criv"
      }
    },
    {
      "cell_type": "code",
      "source": [
        "scores = df.Tweet.apply(lambda x: classifier(x)) #3 min to classify 800 tweets\n"
      ],
      "metadata": {
        "id": "thhFMHLIMnUG"
      },
      "execution_count": 18,
      "outputs": []
    },
    {
      "cell_type": "code",
      "source": [
        "# Store in data frame scores and labels\n",
        "df['Sentiment_Transformer'] = [score[0]['label'] for score in scores]"
      ],
      "metadata": {
        "id": "LJJ3oT2TPCeH"
      },
      "execution_count": 19,
      "outputs": []
    },
    {
      "cell_type": "code",
      "source": [
        "df['Sentiment_Confidence'] = [score[0]['score'] for score in scores]"
      ],
      "metadata": {
        "id": "rOo90aMTDK8M"
      },
      "execution_count": 20,
      "outputs": []
    },
    {
      "cell_type": "code",
      "source": [
        "classifier(df.clean_tweet[211]) #sample output of classifier "
      ],
      "metadata": {
        "colab": {
          "base_uri": "https://localhost:8080/"
        },
        "id": "KjIkVtBeSQts",
        "outputId": "ac255532-3c7d-40f3-e1a8-a28af240d4ff"
      },
      "execution_count": 23,
      "outputs": [
        {
          "output_type": "execute_result",
          "data": {
            "text/plain": [
              "[{'label': 'NEG', 'score': 0.92368483543396}]"
            ]
          },
          "metadata": {},
          "execution_count": 23
        }
      ]
    },
    {
      "cell_type": "code",
      "source": [
        "# Check Summary of Random Record\n",
        "n = 300\n",
        "print(\"Original tweet:\\n\",df['Tweet'][n])\n",
        "print()\n",
        "print(\"Clean tweet:\\n\",df['clean_tweet'][n])\n",
        "print()\n",
        "print(\"Sentiment of the tweet:\\n\",df['Sentiment_Transformer'][n])"
      ],
      "metadata": {
        "colab": {
          "base_uri": "https://localhost:8080/"
        },
        "id": "lyIDueDHJP5R",
        "outputId": "763116da-ac44-4924-a6b2-e7e8584cf7df"
      },
      "execution_count": 21,
      "outputs": [
        {
          "output_type": "stream",
          "name": "stdout",
          "text": [
            "Original tweet:\n",
            " The War: It has been month since Russian began its full-scale invasion of Ukraine\n",
            "•\n",
            "🤍🇺🇦🤍\n",
            "Ukraine\n",
            "•\n",
            "#StopRussia\n",
            "#war… https://t.co/Ib4tWlrDII\n",
            "\n",
            "Clean tweet:\n",
            " the war it has been month since russian began its full scale invasion of ukraine ukraine stoprussia war\n",
            "\n",
            "Sentiment of the tweet:\n",
            " NEG\n"
          ]
        }
      ]
    },
    {
      "cell_type": "markdown",
      "source": [
        "# 5. Visualization of Tweets\n",
        "\n",
        "* As we can see the below visualization that textblob predicts higher number of positive tweets and lower number of negative tweets as compared to transformer model.\n",
        "\n",
        "* We also plot the confidence score distribution of predicted sentiments from transformer model. We observe that majority of tweets are predicted with high confidence. And there is very less number of positive tweets"
      ],
      "metadata": {
        "id": "1pi0yEBkDkXs"
      }
    },
    {
      "cell_type": "code",
      "source": [
        "fig,ax=plt.subplots(1,3)\n",
        "sns.countplot(data=df , x=\"Sentiment\",ax=ax[0]).set(title='Summary of Sentiment Count from TextBlob')\n",
        "sns.countplot(data=df , x=\"Sentiment_Transformer\",ax=ax[1]).set(title='Summary of Sentiment Count from Transformer Model')\n",
        "sns.histplot(data=df , x=\"Sentiment_Confidence\",hue=\"Sentiment_Transformer\",ax=ax[2],palette=\"icefire\").set(title=\"Confidence distibution of Sentiments (Transformer)\")\n",
        "plt.show()"
      ],
      "metadata": {
        "colab": {
          "base_uri": "https://localhost:8080/",
          "height": 375
        },
        "id": "KlyflRr5F80U",
        "outputId": "5b954b2c-be8a-4274-b5f4-5a90f3faccf3"
      },
      "execution_count": 27,
      "outputs": [
        {
          "output_type": "display_data",
          "data": {
            "text/plain": [
              "<Figure size 1080x360 with 3 Axes>"
            ],
            "image/png": "[encoded data removed]"
          },
          "metadata": {}
        }
      ]
    },
    {
      "cell_type": "code",
      "source": [
        "#Pieplot\n",
        "df.Sentiment_Transformer.value_counts().plot.pie(shadow=True,explode=(0.1, 0.0, 0.1),autopct='%1.2f%%',ylabel=\"Sentiment Distribution %\",title=\"Sentiment Distribution of Tranformer\")"
      ],
      "metadata": {
        "colab": {
          "base_uri": "https://localhost:8080/",
          "height": 355
        },
        "id": "0ZDpnI--My-y",
        "outputId": "1719ebf7-6f22-4f4e-8134-777e08b42bce"
      },
      "execution_count": 28,
      "outputs": [
        {
          "output_type": "execute_result",
          "data": {
            "text/plain": [
              "<matplotlib.axes._subplots.AxesSubplot at 0x7ff048c48210>"
            ]
          },
          "metadata": {},
          "execution_count": 28
        },
        {
          "output_type": "display_data",
          "data": {
            "text/plain": [
              "<Figure size 1080x360 with 1 Axes>"
            ],
            "image/png": "[encoded data removed]"
          },
          "metadata": {}
        }
      ]
    },
    {
      "cell_type": "markdown",
      "source": [
        "# Plotly Visualization\n",
        "\n",
        "We will now attempt to build interactive visualisation using the plotly library which will give more insight to the end user of this sentiment analysis model.\n",
        "\n",
        "* Note we will plot the sentiments from transformer model only."
      ],
      "metadata": {
        "id": "BAA9JnGMI0f-"
      }
    },
    {
      "cell_type": "code",
      "source": [
        "!pip install pyyaml==5.4.1 #fix to avoid plotly import error in colab TypeError: load() missing 1 required positional argument: 'Loader'"
      ],
      "metadata": {
        "id": "EMIPlJ4LZBIK"
      },
      "execution_count": null,
      "outputs": []
    },
    {
      "cell_type": "code",
      "source": [
        "!pip install plotly"
      ],
      "metadata": {
        "colab": {
          "base_uri": "https://localhost:8080/"
        },
        "id": "rgbghNuly4C7",
        "outputId": "ab91e2cc-6ac9-429b-c4d5-f49f40f9c28a"
      },
      "execution_count": 29,
      "outputs": [
        {
          "output_type": "stream",
          "name": "stdout",
          "text": [
            "Requirement already satisfied: plotly in /usr/local/lib/python3.7/dist-packages (5.5.0)\n",
            "Requirement already satisfied: tenacity>=6.2.0 in /usr/local/lib/python3.7/dist-packages (from plotly) (8.0.1)\n",
            "Requirement already satisfied: six in /usr/local/lib/python3.7/dist-packages (from plotly) (1.15.0)\n"
          ]
        }
      ]
    },
    {
      "cell_type": "code",
      "source": [
        "import plotly\n",
        "from plotly import express as px\n",
        "import plotly.offline\n",
        "import plotly.graph_objects as go\n",
        "%matplotlib inline\n",
        "import plotly.io as pio \n",
        "pio.renderers.default = \"colab\""
      ],
      "metadata": {
        "id": "kSNDhcknK5Mg",
        "colab": {
          "base_uri": "https://localhost:8080/"
        },
        "outputId": "2b028c22-7a2c-42c4-93d9-847941e27d28"
      },
      "execution_count": 4,
      "outputs": [
        {
          "output_type": "stream",
          "name": "stderr",
          "text": [
            "/usr/local/lib/python3.7/dist-packages/distributed/config.py:20: YAMLLoadWarning: calling yaml.load() without Loader=... is deprecated, as the default Loader is unsafe. Please read https://msg.pyyaml.org/load for full details.\n",
            "  defaults = yaml.load(f)\n"
          ]
        }
      ]
    },
    {
      "cell_type": "code",
      "source": [
        "df.head()"
      ],
      "metadata": {
        "id": "zSDW2Raihahy",
        "colab": {
          "base_uri": "https://localhost:8080/",
          "height": 531
        },
        "outputId": "f832334a-7998-438f-e9f1-c3cb0c7bd7d1"
      },
      "execution_count": 49,
      "outputs": [
        {
          "output_type": "execute_result",
          "data": {
            "text/plain": [
              "                  Date TwitterHandle IsVerified  \\\n",
              "0  2022-03-25 11:18:00     AmazingUA      False   \n",
              "1  2022-03-25 11:16:06       hapSTR7      False   \n",
              "2  2022-03-25 11:15:55  CNBCTV18News       True   \n",
              "3  2022-03-25 11:15:28     FEMarkets      False   \n",
              "4  2022-03-25 11:15:00       WIONews       True   \n",
              "\n",
              "                                               Tweet Likes RT User_location  \\\n",
              "0  The moment yesterday when a rocket hit a crowd...     0  0       Україна   \n",
              "1  Google Street View in LIVE \\nWatch more live o...     0  0                 \n",
              "2  COMING UP @ 5 PM | As the #RussiaUkraineWar ra...     3  0                 \n",
              "3  Where is Indian rupee headed to in coming days...     2  1         India   \n",
              "4  4 new battlegroups announced\\n\\n+ Ukrainian Pr...     2  0         India   \n",
              "\n",
              "  Followers_Count User_mentions                    Hashtags  \\\n",
              "0            1079            []                          []   \n",
              "1              33            []             [hapstr, Syria]   \n",
              "2         1030448            []  [RussiaUkraineWar, WangYi]   \n",
              "3            2650            []                          []   \n",
              "4          431004            []                          []   \n",
              "\n",
              "                                         clean_tweet Sentiment  \\\n",
              "0  the moment yesterday when a rocket hit a crowd...   Neutral   \n",
              "1  google street view in live watch more live on ...  Negative   \n",
              "2  coming up 5 pm as the russiaukrainewar rages o...  Positive   \n",
              "3  where is indian rupee headed to in coming days...  Negative   \n",
              "4  4 new battlegroups announced ukrainian preside...  Positive   \n",
              "\n",
              "  Sentiment_Transformer  Sentiment_Confidence  \n",
              "0                   NEG              0.860101  \n",
              "1                   NEU              0.878127  \n",
              "2                   NEU              0.980428  \n",
              "3                   NEU              0.908622  \n",
              "4                   NEU              0.952022  "
            ],
            "text/html": [
              "\n",
              "  <div id=\"df-3c8a7a28-e274-4632-9d3a-0620218a4386\">\n",
              "    <div class=\"colab-df-container\">\n",
              "      <div>\n",
              "<style scoped>\n",
              "    .dataframe tbody tr th:only-of-type {\n",
              "        vertical-align: middle;\n",
              "    }\n",
              "\n",
              "    .dataframe tbody tr th {\n",
              "        vertical-align: top;\n",
              "    }\n",
              "\n",
              "    .dataframe thead th {\n",
              "        text-align: right;\n",
              "    }\n",
              "</style>\n",
              "<table border=\"1\" class=\"dataframe\">\n",
              "  <thead>\n",
              "    <tr style=\"text-align: right;\">\n",
              "      <th></th>\n",
              "      <th>Date</th>\n",
              "      <th>TwitterHandle</th>\n",
              "      <th>IsVerified</th>\n",
              "      <th>Tweet</th>\n",
              "      <th>Likes</th>\n",
              "      <th>RT</th>\n",
              "      <th>User_location</th>\n",
              "      <th>Followers_Count</th>\n",
              "      <th>User_mentions</th>\n",
              "      <th>Hashtags</th>\n",
              "      <th>clean_tweet</th>\n",
              "      <th>Sentiment</th>\n",
              "      <th>Sentiment_Transformer</th>\n",
              "      <th>Sentiment_Confidence</th>\n",
              "    </tr>\n",
              "  </thead>\n",
              "  <tbody>\n",
              "    <tr>\n",
              "      <th>0</th>\n",
              "      <td>2022-03-25 11:18:00</td>\n",
              "      <td>AmazingUA</td>\n",
              "      <td>False</td>\n",
              "      <td>The moment yesterday when a rocket hit a crowd...</td>\n",
              "      <td>0</td>\n",
              "      <td>0</td>\n",
              "      <td>Україна</td>\n",
              "      <td>1079</td>\n",
              "      <td>[]</td>\n",
              "      <td>[]</td>\n",
              "      <td>the moment yesterday when a rocket hit a crowd...</td>\n",
              "      <td>Neutral</td>\n",
              "      <td>NEG</td>\n",
              "      <td>0.860101</td>\n",
              "    </tr>\n",
              "    <tr>\n",
              "      <th>1</th>\n",
              "      <td>2022-03-25 11:16:06</td>\n",
              "      <td>hapSTR7</td>\n",
              "      <td>False</td>\n",
              "      <td>Google Street View in LIVE \\nWatch more live o...</td>\n",
              "      <td>0</td>\n",
              "      <td>0</td>\n",
              "      <td></td>\n",
              "      <td>33</td>\n",
              "      <td>[]</td>\n",
              "      <td>[hapstr, Syria]</td>\n",
              "      <td>google street view in live watch more live on ...</td>\n",
              "      <td>Negative</td>\n",
              "      <td>NEU</td>\n",
              "      <td>0.878127</td>\n",
              "    </tr>\n",
              "    <tr>\n",
              "      <th>2</th>\n",
              "      <td>2022-03-25 11:15:55</td>\n",
              "      <td>CNBCTV18News</td>\n",
              "      <td>True</td>\n",
              "      <td>COMING UP @ 5 PM | As the #RussiaUkraineWar ra...</td>\n",
              "      <td>3</td>\n",
              "      <td>0</td>\n",
              "      <td></td>\n",
              "      <td>1030448</td>\n",
              "      <td>[]</td>\n",
              "      <td>[RussiaUkraineWar, WangYi]</td>\n",
              "      <td>coming up 5 pm as the russiaukrainewar rages o...</td>\n",
              "      <td>Positive</td>\n",
              "      <td>NEU</td>\n",
              "      <td>0.980428</td>\n",
              "    </tr>\n",
              "    <tr>\n",
              "      <th>3</th>\n",
              "      <td>2022-03-25 11:15:28</td>\n",
              "      <td>FEMarkets</td>\n",
              "      <td>False</td>\n",
              "      <td>Where is Indian rupee headed to in coming days...</td>\n",
              "      <td>2</td>\n",
              "      <td>1</td>\n",
              "      <td>India</td>\n",
              "      <td>2650</td>\n",
              "      <td>[]</td>\n",
              "      <td>[]</td>\n",
              "      <td>where is indian rupee headed to in coming days...</td>\n",
              "      <td>Negative</td>\n",
              "      <td>NEU</td>\n",
              "      <td>0.908622</td>\n",
              "    </tr>\n",
              "    <tr>\n",
              "      <th>4</th>\n",
              "      <td>2022-03-25 11:15:00</td>\n",
              "      <td>WIONews</td>\n",
              "      <td>True</td>\n",
              "      <td>4 new battlegroups announced\\n\\n+ Ukrainian Pr...</td>\n",
              "      <td>2</td>\n",
              "      <td>0</td>\n",
              "      <td>India</td>\n",
              "      <td>431004</td>\n",
              "      <td>[]</td>\n",
              "      <td>[]</td>\n",
              "      <td>4 new battlegroups announced ukrainian preside...</td>\n",
              "      <td>Positive</td>\n",
              "      <td>NEU</td>\n",
              "      <td>0.952022</td>\n",
              "    </tr>\n",
              "  </tbody>\n",
              "</table>\n",
              "</div>\n",
              "      <button class=\"colab-df-convert\" onclick=\"convertToInteractive('df-3c8a7a28-e274-4632-9d3a-0620218a4386')\"\n",
              "              title=\"Convert this dataframe to an interactive table.\"\n",
              "              style=\"display:none;\">\n",
              "        \n",
              "  <svg xmlns=\"http://www.w3.org/2000/svg\" height=\"24px\"viewBox=\"0 0 24 24\"\n",
              "       width=\"24px\">\n",
              "    <path d=\"M0 0h24v24H0V0z\" fill=\"none\"/>\n",
              "    <path d=\"M18.56 5.44l.94 2.06.94-2.06 2.06-.94-2.06-.94-.94-2.06-.94 2.06-2.06.94zm-11 1L8.5 8.5l.94-2.06 2.06-.94-2.06-.94L8.5 2.5l-.94 2.06-2.06.94zm10 10l.94 2.06.94-2.06 2.06-.94-2.06-.94-.94-2.06-.94 2.06-2.06.94z\"/><path d=\"M17.41 7.96l-1.37-1.37c-.4-.4-.92-.59-1.43-.59-.52 0-1.04.2-1.43.59L10.3 9.45l-7.72 7.72c-.78.78-.78 2.05 0 2.83L4 21.41c.39.39.9.59 1.41.59.51 0 1.02-.2 1.41-.59l7.78-7.78 2.81-2.81c.8-.78.8-2.07 0-2.86zM5.41 20L4 18.59l7.72-7.72 1.47 1.35L5.41 20z\"/>\n",
              "  </svg>\n",
              "      </button>\n",
              "      \n",
              "  <style>\n",
              "    .colab-df-container {\n",
              "      display:flex;\n",
              "      flex-wrap:wrap;\n",
              "      gap: 12px;\n",
              "    }\n",
              "\n",
              "    .colab-df-convert {\n",
              "      background-color: #E8F0FE;\n",
              "      border: none;\n",
              "      border-radius: 50%;\n",
              "      cursor: pointer;\n",
              "      display: none;\n",
              "      fill: #1967D2;\n",
              "      height: 32px;\n",
              "      padding: 0 0 0 0;\n",
              "      width: 32px;\n",
              "    }\n",
              "\n",
              "    .colab-df-convert:hover {\n",
              "      background-color: #E2EBFA;\n",
              "      box-shadow: 0px 1px 2px rgba(60, 64, 67, 0.3), 0px 1px 3px 1px rgba(60, 64, 67, 0.15);\n",
              "      fill: #174EA6;\n",
              "    }\n",
              "\n",
              "    [theme=dark] .colab-df-convert {\n",
              "      background-color: #3B4455;\n",
              "      fill: #D2E3FC;\n",
              "    }\n",
              "\n",
              "    [theme=dark] .colab-df-convert:hover {\n",
              "      background-color: #434B5C;\n",
              "      box-shadow: 0px 1px 3px 1px rgba(0, 0, 0, 0.15);\n",
              "      filter: drop-shadow(0px 1px 2px rgba(0, 0, 0, 0.3));\n",
              "      fill: #FFFFFF;\n",
              "    }\n",
              "  </style>\n",
              "\n",
              "      <script>\n",
              "        const buttonEl =\n",
              "          document.querySelector('#df-3c8a7a28-e274-4632-9d3a-0620218a4386 button.colab-df-convert');\n",
              "        buttonEl.style.display =\n",
              "          google.colab.kernel.accessAllowed ? 'block' : 'none';\n",
              "\n",
              "        async function convertToInteractive(key) {\n",
              "          const element = document.querySelector('#df-3c8a7a28-e274-4632-9d3a-0620218a4386');\n",
              "          const dataTable =\n",
              "            await google.colab.kernel.invokeFunction('convertToInteractive',\n",
              "                                                     [key], {});\n",
              "          if (!dataTable) return;\n",
              "\n",
              "          const docLinkHtml = 'Like what you see? Visit the ' +\n",
              "            '<a target=\"_blank\" href=https://colab.research.google.com/notebooks/data_table.ipynb>data table notebook</a>'\n",
              "            + ' to learn more about interactive tables.';\n",
              "          element.innerHTML = '';\n",
              "          dataTable['output_type'] = 'display_data';\n",
              "          await google.colab.output.renderOutput(dataTable, element);\n",
              "          const docLink = document.createElement('div');\n",
              "          docLink.innerHTML = docLinkHtml;\n",
              "          element.appendChild(docLink);\n",
              "        }\n",
              "      </script>\n",
              "    </div>\n",
              "  </div>\n",
              "  "
            ]
          },
          "metadata": {},
          "execution_count": 49
        }
      ]
    },
    {
      "cell_type": "markdown",
      "source": [
        "## PIE PLOT"
      ],
      "metadata": {
        "id": "9tnWHqvA0Lhz"
      }
    },
    {
      "cell_type": "code",
      "source": [
        "countsum=df['Sentiment_Transformer'].value_counts()\n",
        "countsum.label = \"Sentiment\"\n",
        "#countsum.index = \"Sentiment\""
      ],
      "metadata": {
        "id": "EZTsKLJ1XOIf"
      },
      "execution_count": 29,
      "outputs": []
    },
    {
      "cell_type": "code",
      "source": [
        "colors = ['gold', 'mediumturquoise', 'darkorange', 'lightgreen'] #define color scheme one can modify as per their req\n",
        "fig = px.pie(countsum, values=\"Sentiment_Transformer\", names=countsum.index, title=\"Distribution of Sentiment across Tweets\")\n",
        "fig.update_traces(textfont_size=20,\n",
        "                      marker=dict(colors=colors, line=dict(color='#fafafa', width=3)))\n",
        "    \n",
        "fig.show()"
      ],
      "metadata": {
        "colab": {
          "base_uri": "https://localhost:8080/",
          "height": 542
        },
        "id": "ERBTsDAEZWQI",
        "outputId": "db9a961b-7c13-4cf5-a786-2fe927cecaa6"
      },
      "execution_count": 30,
      "outputs": [
        {
          "output_type": "display_data",
          "data": {
            "text/html": [
              "<html>\n",
              "<head><meta charset=\"utf-8\" /></head>\n",
              "<body>\n",
              "    <div>            <script src=\"https://cdnjs.cloudflare.com/ajax/libs/mathjax/2.7.5/MathJax.js?config=TeX-AMS-MML_SVG\"></script><script type=\"text/javascript\">if (window.MathJax) {MathJax.Hub.Config({SVG: {font: \"STIX-Web\"}});}</script>                <script type=\"text/javascript\">window.PlotlyConfig = {MathJaxConfig: 'local'};</script>\n",
              "        <script src=\"https://cdn.plot.ly/plotly-2.8.3.min.js\"></script>                <div id=\"cb2ff358-fa86-4be3-a88c-4e31ca5efcac\" class=\"plotly-graph-div\" style=\"height:525px; width:100%;\"></div>            <script type=\"text/javascript\">                                    window.PLOTLYENV=window.PLOTLYENV || {};                                    if (document.getElementById(\"cb2ff358-fa86-4be3-a88c-4e31ca5efcac\")) {                    Plotly.newPlot(                        \"cb2ff358-fa86-4be3-a88c-4e31ca5efcac\",                        [{\"domain\":{\"x\":[0.0,1.0],\"y\":[0.0,1.0]},\"hovertemplate\":\"index=%{label}<br>Sentiment_Transformer=%{value}<extra></extra>\",\"labels\":[\"NEU\",\"NEG\",\"POS\"],\"legendgroup\":\"\",\"name\":\"\",\"showlegend\":true,\"values\":[515,242,43],\"type\":\"pie\",\"textfont\":{\"size\":20},\"marker\":{\"line\":{\"color\":\"#fafafa\",\"width\":3},\"colors\":[\"gold\",\"mediumturquoise\",\"darkorange\",\"lightgreen\"]}}],                        {\"template\":{\"data\":{\"bar\":[{\"error_x\":{\"color\":\"#2a3f5f\"},\"error_y\":{\"color\":\"#2a3f5f\"},\"marker\":{\"line\":{\"color\":\"#E5ECF6\",\"width\":0.5},\"pattern\":{\"fillmode\":\"overlay\",\"size\":10,\"solidity\":0.2}},\"type\":\"bar\"}],\"barpolar\":[{\"marker\":{\"line\":{\"color\":\"#E5ECF6\",\"width\":0.5},\"pattern\":{\"fillmode\":\"overlay\",\"size\":10,\"solidity\":0.2}},\"type\":\"barpolar\"}],\"carpet\":[{\"aaxis\":{\"endlinecolor\":\"#2a3f5f\",\"gridcolor\":\"white\",\"linecolor\":\"white\",\"minorgridcolor\":\"white\",\"startlinecolor\":\"#2a3f5f\"},\"baxis\":{\"endlinecolor\":\"#2a3f5f\",\"gridcolor\":\"white\",\"linecolor\":\"white\",\"minorgridcolor\":\"white\",\"startlinecolor\":\"#2a3f5f\"},\"type\":\"carpet\"}],\"choropleth\":[{\"colorbar\":{\"outlinewidth\":0,\"ticks\":\"\"},\"type\":\"choropleth\"}],\"contour\":[{\"colorbar\":{\"outlinewidth\":0,\"ticks\":\"\"},\"colorscale\":[[0.0,\"#0d0887\"],[0.1111111111111111,\"#46039f\"],[0.2222222222222222,\"#7201a8\"],[0.3333333333333333,\"#9c179e\"],[0.4444444444444444,\"#bd3786\"],[0.5555555555555556,\"#d8576b\"],[0.6666666666666666,\"#ed7953\"],[0.7777777777777778,\"#fb9f3a\"],[0.8888888888888888,\"#fdca26\"],[1.0,\"#f0f921\"]],\"type\":\"contour\"}],\"contourcarpet\":[{\"colorbar\":{\"outlinewidth\":0,\"ticks\":\"\"},\"type\":\"contourcarpet\"}],\"heatmap\":[{\"colorbar\":{\"outlinewidth\":0,\"ticks\":\"\"},\"colorscale\":[[0.0,\"#0d0887\"],[0.1111111111111111,\"#46039f\"],[0.2222222222222222,\"#7201a8\"],[0.3333333333333333,\"#9c179e\"],[0.4444444444444444,\"#bd3786\"],[0.5555555555555556,\"#d8576b\"],[0.6666666666666666,\"#ed7953\"],[0.7777777777777778,\"#fb9f3a\"],[0.8888888888888888,\"#fdca26\"],[1.0,\"#f0f921\"]],\"type\":\"heatmap\"}],\"heatmapgl\":[{\"colorbar\":{\"outlinewidth\":0,\"ticks\":\"\"},\"colorscale\":[[0.0,\"#0d0887\"],[0.1111111111111111,\"#46039f\"],[0.2222222222222222,\"#7201a8\"],[0.3333333333333333,\"#9c179e\"],[0.4444444444444444,\"#bd3786\"],[0.5555555555555556,\"#d8576b\"],[0.6666666666666666,\"#ed7953\"],[0.7777777777777778,\"#fb9f3a\"],[0.8888888888888888,\"#fdca26\"],[1.0,\"#f0f921\"]],\"type\":\"heatmapgl\"}],\"histogram\":[{\"marker\":{\"pattern\":{\"fillmode\":\"overlay\",\"size\":10,\"solidity\":0.2}},\"type\":\"histogram\"}],\"histogram2d\":[{\"colorbar\":{\"outlinewidth\":0,\"ticks\":\"\"},\"colorscale\":[[0.0,\"#0d0887\"],[0.1111111111111111,\"#46039f\"],[0.2222222222222222,\"#7201a8\"],[0.3333333333333333,\"#9c179e\"],[0.4444444444444444,\"#bd3786\"],[0.5555555555555556,\"#d8576b\"],[0.6666666666666666,\"#ed7953\"],[0.7777777777777778,\"#fb9f3a\"],[0.8888888888888888,\"#fdca26\"],[1.0,\"#f0f921\"]],\"type\":\"histogram2d\"}],\"histogram2dcontour\":[{\"colorbar\":{\"outlinewidth\":0,\"ticks\":\"\"},\"colorscale\":[[0.0,\"#0d0887\"],[0.1111111111111111,\"#46039f\"],[0.2222222222222222,\"#7201a8\"],[0.3333333333333333,\"#9c179e\"],[0.4444444444444444,\"#bd3786\"],[0.5555555555555556,\"#d8576b\"],[0.6666666666666666,\"#ed7953\"],[0.7777777777777778,\"#fb9f3a\"],[0.8888888888888888,\"#fdca26\"],[1.0,\"#f0f921\"]],\"type\":\"histogram2dcontour\"}],\"mesh3d\":[{\"colorbar\":{\"outlinewidth\":0,\"ticks\":\"\"},\"type\":\"mesh3d\"}],\"parcoords\":[{\"line\":{\"colorbar\":{\"outlinewidth\":0,\"ticks\":\"\"}},\"type\":\"parcoords\"}],\"pie\":[{\"automargin\":true,\"type\":\"pie\"}],\"scatter\":[{\"marker\":{\"colorbar\":{\"outlinewidth\":0,\"ticks\":\"\"}},\"type\":\"scatter\"}],\"scatter3d\":[{\"line\":{\"colorbar\":{\"outlinewidth\":0,\"ticks\":\"\"}},\"marker\":{\"colorbar\":{\"outlinewidth\":0,\"ticks\":\"\"}},\"type\":\"scatter3d\"}],\"scattercarpet\":[{\"marker\":{\"colorbar\":{\"outlinewidth\":0,\"ticks\":\"\"}},\"type\":\"scattercarpet\"}],\"scattergeo\":[{\"marker\":{\"colorbar\":{\"outlinewidth\":0,\"ticks\":\"\"}},\"type\":\"scattergeo\"}],\"scattergl\":[{\"marker\":{\"colorbar\":{\"outlinewidth\":0,\"ticks\":\"\"}},\"type\":\"scattergl\"}],\"scattermapbox\":[{\"marker\":{\"colorbar\":{\"outlinewidth\":0,\"ticks\":\"\"}},\"type\":\"scattermapbox\"}],\"scatterpolar\":[{\"marker\":{\"colorbar\":{\"outlinewidth\":0,\"ticks\":\"\"}},\"type\":\"scatterpolar\"}],\"scatterpolargl\":[{\"marker\":{\"colorbar\":{\"outlinewidth\":0,\"ticks\":\"\"}},\"type\":\"scatterpolargl\"}],\"scatterternary\":[{\"marker\":{\"colorbar\":{\"outlinewidth\":0,\"ticks\":\"\"}},\"type\":\"scatterternary\"}],\"surface\":[{\"colorbar\":{\"outlinewidth\":0,\"ticks\":\"\"},\"colorscale\":[[0.0,\"#0d0887\"],[0.1111111111111111,\"#46039f\"],[0.2222222222222222,\"#7201a8\"],[0.3333333333333333,\"#9c179e\"],[0.4444444444444444,\"#bd3786\"],[0.5555555555555556,\"#d8576b\"],[0.6666666666666666,\"#ed7953\"],[0.7777777777777778,\"#fb9f3a\"],[0.8888888888888888,\"#fdca26\"],[1.0,\"#f0f921\"]],\"type\":\"surface\"}],\"table\":[{\"cells\":{\"fill\":{\"color\":\"#EBF0F8\"},\"line\":{\"color\":\"white\"}},\"header\":{\"fill\":{\"color\":\"#C8D4E3\"},\"line\":{\"color\":\"white\"}},\"type\":\"table\"}]},\"layout\":{\"annotationdefaults\":{\"arrowcolor\":\"#2a3f5f\",\"arrowhead\":0,\"arrowwidth\":1},\"autotypenumbers\":\"strict\",\"coloraxis\":{\"colorbar\":{\"outlinewidth\":0,\"ticks\":\"\"}},\"colorscale\":{\"diverging\":[[0,\"#8e0152\"],[0.1,\"#c51b7d\"],[0.2,\"#de77ae\"],[0.3,\"#f1b6da\"],[0.4,\"#fde0ef\"],[0.5,\"#f7f7f7\"],[0.6,\"#e6f5d0\"],[0.7,\"#b8e186\"],[0.8,\"#7fbc41\"],[0.9,\"#4d9221\"],[1,\"#276419\"]],\"sequential\":[[0.0,\"#0d0887\"],[0.1111111111111111,\"#46039f\"],[0.2222222222222222,\"#7201a8\"],[0.3333333333333333,\"#9c179e\"],[0.4444444444444444,\"#bd3786\"],[0.5555555555555556,\"#d8576b\"],[0.6666666666666666,\"#ed7953\"],[0.7777777777777778,\"#fb9f3a\"],[0.8888888888888888,\"#fdca26\"],[1.0,\"#f0f921\"]],\"sequentialminus\":[[0.0,\"#0d0887\"],[0.1111111111111111,\"#46039f\"],[0.2222222222222222,\"#7201a8\"],[0.3333333333333333,\"#9c179e\"],[0.4444444444444444,\"#bd3786\"],[0.5555555555555556,\"#d8576b\"],[0.6666666666666666,\"#ed7953\"],[0.7777777777777778,\"#fb9f3a\"],[0.8888888888888888,\"#fdca26\"],[1.0,\"#f0f921\"]]},\"colorway\":[\"#636efa\",\"#EF553B\",\"#00cc96\",\"#ab63fa\",\"#FFA15A\",\"#19d3f3\",\"#FF6692\",\"#B6E880\",\"#FF97FF\",\"#FECB52\"],\"font\":{\"color\":\"#2a3f5f\"},\"geo\":{\"bgcolor\":\"white\",\"lakecolor\":\"white\",\"landcolor\":\"#E5ECF6\",\"showlakes\":true,\"showland\":true,\"subunitcolor\":\"white\"},\"hoverlabel\":{\"align\":\"left\"},\"hovermode\":\"closest\",\"mapbox\":{\"style\":\"light\"},\"paper_bgcolor\":\"white\",\"plot_bgcolor\":\"#E5ECF6\",\"polar\":{\"angularaxis\":{\"gridcolor\":\"white\",\"linecolor\":\"white\",\"ticks\":\"\"},\"bgcolor\":\"#E5ECF6\",\"radialaxis\":{\"gridcolor\":\"white\",\"linecolor\":\"white\",\"ticks\":\"\"}},\"scene\":{\"xaxis\":{\"backgroundcolor\":\"#E5ECF6\",\"gridcolor\":\"white\",\"gridwidth\":2,\"linecolor\":\"white\",\"showbackground\":true,\"ticks\":\"\",\"zerolinecolor\":\"white\"},\"yaxis\":{\"backgroundcolor\":\"#E5ECF6\",\"gridcolor\":\"white\",\"gridwidth\":2,\"linecolor\":\"white\",\"showbackground\":true,\"ticks\":\"\",\"zerolinecolor\":\"white\"},\"zaxis\":{\"backgroundcolor\":\"#E5ECF6\",\"gridcolor\":\"white\",\"gridwidth\":2,\"linecolor\":\"white\",\"showbackground\":true,\"ticks\":\"\",\"zerolinecolor\":\"white\"}},\"shapedefaults\":{\"line\":{\"color\":\"#2a3f5f\"}},\"ternary\":{\"aaxis\":{\"gridcolor\":\"white\",\"linecolor\":\"white\",\"ticks\":\"\"},\"baxis\":{\"gridcolor\":\"white\",\"linecolor\":\"white\",\"ticks\":\"\"},\"bgcolor\":\"#E5ECF6\",\"caxis\":{\"gridcolor\":\"white\",\"linecolor\":\"white\",\"ticks\":\"\"}},\"title\":{\"x\":0.05},\"xaxis\":{\"automargin\":true,\"gridcolor\":\"white\",\"linecolor\":\"white\",\"ticks\":\"\",\"title\":{\"standoff\":15},\"zerolinecolor\":\"white\",\"zerolinewidth\":2},\"yaxis\":{\"automargin\":true,\"gridcolor\":\"white\",\"linecolor\":\"white\",\"ticks\":\"\",\"title\":{\"standoff\":15},\"zerolinecolor\":\"white\",\"zerolinewidth\":2}}},\"legend\":{\"tracegroupgap\":0},\"title\":{\"text\":\"Distribution of Sentiment across Tweets\"}},                        {\"responsive\": true}                    ).then(function(){\n",
              "                            \n",
              "var gd = document.getElementById('cb2ff358-fa86-4be3-a88c-4e31ca5efcac');\n",
              "var x = new MutationObserver(function (mutations, observer) {{\n",
              "        var display = window.getComputedStyle(gd).display;\n",
              "        if (!display || display === 'none') {{\n",
              "            console.log([gd, 'removed!']);\n",
              "            Plotly.purge(gd);\n",
              "            observer.disconnect();\n",
              "        }}\n",
              "}});\n",
              "\n",
              "// Listen for the removal of the full notebook cells\n",
              "var notebookContainer = gd.closest('#notebook-container');\n",
              "if (notebookContainer) {{\n",
              "    x.observe(notebookContainer, {childList: true});\n",
              "}}\n",
              "\n",
              "// Listen for the clearing of the current output cell\n",
              "var outputEl = gd.closest('.output');\n",
              "if (outputEl) {{\n",
              "    x.observe(outputEl, {childList: true});\n",
              "}}\n",
              "\n",
              "                        })                };                            </script>        </div>\n",
              "</body>\n",
              "</html>"
            ]
          },
          "metadata": {}
        }
      ]
    },
    {
      "cell_type": "markdown",
      "source": [
        "## Histogram Plot of Confidence Score"
      ],
      "metadata": {
        "id": "zIOI8BZI1ub7"
      }
    },
    {
      "cell_type": "code",
      "source": [
        "fig = px.histogram(df, x=\"Sentiment_Confidence\", color=\"Sentiment_Transformer\",\n",
        "                       title=\"Distribution of Sentiment Confidence across Tweets\", color_discrete_sequence=colors,\n",
        "                       labels={'Sentiment_Confidence':'Sentiment Confidence'}) # can specify one label per df column\n",
        "fig.update_traces(textfont_size=20,marker=dict(line=dict(color='#fafafa', width=1)))\n",
        "fig.show()"
      ],
      "metadata": {
        "id": "kCuY16-R4PyG",
        "colab": {
          "base_uri": "https://localhost:8080/",
          "height": 542
        },
        "outputId": "22cdbaee-fb94-4887-c370-6733db740e20"
      },
      "execution_count": 33,
      "outputs": [
        {
          "output_type": "display_data",
          "data": {
            "text/html": [
              "<html>\n",
              "<head><meta charset=\"utf-8\" /></head>\n",
              "<body>\n",
              "    <div>            <script src=\"https://cdnjs.cloudflare.com/ajax/libs/mathjax/2.7.5/MathJax.js?config=TeX-AMS-MML_SVG\"></script><script type=\"text/javascript\">if (window.MathJax) {MathJax.Hub.Config({SVG: {font: \"STIX-Web\"}});}</script>                <script type=\"text/javascript\">window.PlotlyConfig = {MathJaxConfig: 'local'};</script>\n",
              "        <script src=\"https://cdn.plot.ly/plotly-2.8.3.min.js\"></script>                <div id=\"448ca364-be70-41ce-b3d3-44e1f95678db\" class=\"plotly-graph-div\" style=\"height:525px; width:100%;\"></div>            <script type=\"text/javascript\">                                    window.PLOTLYENV=window.PLOTLYENV || {};                                    if (document.getElementById(\"448ca364-be70-41ce-b3d3-44e1f95678db\")) {                    Plotly.newPlot(                        \"448ca364-be70-41ce-b3d3-44e1f95678db\",                        [{\"alignmentgroup\":\"True\",\"bingroup\":\"x\",\"hovertemplate\":\"Sentiment_Transformer=NEG<br>Sentiment Confidence=%{x}<br>count=%{y}<extra></extra>\",\"legendgroup\":\"NEG\",\"marker\":{\"color\":\"gold\",\"pattern\":{\"shape\":\"\"},\"line\":{\"color\":\"#fafafa\",\"width\":1}},\"name\":\"NEG\",\"offsetgroup\":\"NEG\",\"orientation\":\"v\",\"showlegend\":true,\"x\":[0.8601006269454956,0.9323455095291138,0.9328901767730713,0.5593596696853638,0.9629998803138733,0.9319416284561157,0.9529227018356323,0.9638049006462097,0.9028938412666321,0.7316941618919373,0.6146349906921387,0.5962567329406738,0.5136218667030334,0.6300235390663147,0.9278771877288818,0.9417640566825867,0.769508957862854,0.8110751509666443,0.9449599385261536,0.9382995367050171,0.7560611963272095,0.9355611205101013,0.9639343619346619,0.9354377388954163,0.8174298405647278,0.9084345102310181,0.8878899812698364,0.9610794186592102,0.9204279184341431,0.9436854720115662,0.866494357585907,0.9621936082839966,0.6781653761863708,0.9438580274581909,0.734478235244751,0.9209201335906982,0.9573382139205933,0.9757363200187683,0.8170708417892456,0.669285774230957,0.7523478269577026,0.9464254379272461,0.9644714593887329,0.933090090751648,0.9430530667304993,0.9688156843185425,0.5396266579627991,0.578107476234436,0.5858815312385559,0.5296200513839722,0.9064943194389343,0.96717369556427,0.9008369445800781,0.9848073720932007,0.9216293692588806,0.6432415843009949,0.9430711269378662,0.6806387305259705,0.8552393913269043,0.9496952891349792,0.946664035320282,0.6833062171936035,0.6784915328025818,0.5341089963912964,0.5500605702400208,0.6570041179656982,0.9408799409866333,0.7092868685722351,0.8346715569496155,0.78249591588974,0.9796251058578491,0.8822433352470398,0.6333062052726746,0.9718116521835327,0.9199532866477966,0.7689058184623718,0.6570761799812317,0.5178294777870178,0.8526600003242493,0.7818841338157654,0.5532556176185608,0.8863269686698914,0.7010598182678223,0.9207469820976257,0.567641019821167,0.5261730551719666,0.8667151927947998,0.8972788453102112,0.8951283097267151,0.890960693359375,0.8199760913848877,0.8342289924621582,0.8605244755744934,0.6863486170768738,0.9785621762275696,0.9050720930099487,0.6050707697868347,0.8542496562004089,0.8154511451721191,0.920657753944397,0.8108429312705994,0.5237605571746826,0.7451094388961792,0.9348485469818115,0.7764981985092163,0.9543077945709229,0.8683494925498962,0.6798869371414185,0.7223333120346069,0.9661010503768921,0.6332683563232422,0.8116680383682251,0.9844784736633301,0.9832239151000977,0.8225991129875183,0.9765878915786743,0.9257616996765137,0.9471774697303772,0.8602743148803711,0.7278488278388977,0.5330696105957031,0.5962176322937012,0.7113918662071228,0.6138342618942261,0.7275234460830688,0.667628288269043,0.9711589813232422,0.9369938373565674,0.8558807373046875,0.547685980796814,0.7849215865135193,0.8424261212348938,0.9628617763519287,0.967564582824707,0.8884578943252563,0.7850611209869385,0.8756831288337708,0.8821561336517334,0.8945678472518921,0.9171046614646912,0.6923149228096008,0.7873499989509583,0.8931357860565186,0.9541977047920227,0.9813722372055054,0.7580236196517944,0.8741744756698608,0.9823198914527893,0.8056196570396423,0.9419510364532471,0.5598089098930359,0.5493283271789551,0.5714720487594604,0.7453850507736206,0.8645200729370117,0.5810077786445618,0.9225267767906189,0.9250519871711731,0.9398777484893799,0.6032968759536743,0.6089826226234436,0.9561110138893127,0.9844547510147095,0.6030795574188232,0.9134800434112549,0.7296832799911499,0.9548219442367554,0.522753119468689,0.6910985112190247,0.5028818845748901,0.6750586032867432,0.4981592297554016,0.5912420749664307,0.9557483196258545,0.8265824317932129,0.6665700674057007,0.8312316536903381,0.6577799916267395,0.9499074220657349,0.7667742371559143,0.570504367351532,0.7480490207672119,0.8733335733413696,0.9663118124008179,0.8782030940055847,0.8088680505752563,0.6753195524215698,0.9769735932350159,0.9814529418945312,0.929104745388031,0.7178850769996643,0.7057804465293884,0.8915231823921204,0.9558334946632385,0.9543877243995667,0.8566900491714478,0.9810499548912048,0.9412510395050049,0.6839870810508728,0.5782740116119385,0.8278403282165527,0.8661561608314514,0.539984405040741,0.973290205001831,0.6542041301727295,0.6589204668998718,0.9223328232765198,0.753147542476654,0.5689936280250549,0.8576259016990662,0.7518872618675232,0.9497700929641724,0.8286181688308716,0.6928313374519348,0.973011314868927,0.980535626411438,0.973302960395813,0.9827509522438049,0.8105347156524658,0.9574760794639587,0.6584309935569763,0.9775133728981018,0.5153393745422363,0.9534351825714111,0.5171157121658325,0.9767177700996399,0.8436764478683472,0.9715991020202637,0.6065855026245117,0.8110381960868835,0.7976705431938171,0.7235811352729797,0.9741622805595398,0.794138491153717,0.9647469520568848,0.5600220561027527,0.5377480983734131,0.8267675638198853,0.7583060264587402,0.8874151706695557,0.9043338298797607,0.9768324494361877],\"xaxis\":\"x\",\"yaxis\":\"y\",\"type\":\"histogram\",\"textfont\":{\"size\":20}},{\"alignmentgroup\":\"True\",\"bingroup\":\"x\",\"hovertemplate\":\"Sentiment_Transformer=NEU<br>Sentiment Confidence=%{x}<br>count=%{y}<extra></extra>\",\"legendgroup\":\"NEU\",\"marker\":{\"color\":\"mediumturquoise\",\"pattern\":{\"shape\":\"\"},\"line\":{\"color\":\"#fafafa\",\"width\":1}},\"name\":\"NEU\",\"offsetgroup\":\"NEU\",\"orientation\":\"v\",\"showlegend\":true,\"x\":[0.8781273365020752,0.9804282784461975,0.9086224436759949,0.952022135257721,0.7988040447235107,0.9674687385559082,0.9356638193130493,0.9806824922561646,0.9267141222953796,0.9538252353668213,0.9523035883903503,0.9772359728813171,0.8414715528488159,0.5321366190910339,0.9747479557991028,0.971704363822937,0.9600583910942078,0.9629034399986267,0.9785163402557373,0.9699798822402954,0.9537611603736877,0.5424896478652954,0.5932890176773071,0.7117063403129578,0.6300902962684631,0.8732891082763672,0.9397425651550293,0.967017412185669,0.5304951071739197,0.8906856179237366,0.9444332122802734,0.6000344157218933,0.979734480381012,0.9759014844894409,0.9435703158378601,0.9742910861968994,0.6163881421089172,0.5904620885848999,0.9812860488891602,0.9829287528991699,0.9804450273513794,0.8900163769721985,0.9650046825408936,0.8439897298812866,0.8314151167869568,0.9461426734924316,0.524484395980835,0.9628662467002869,0.6183727979660034,0.9515575766563416,0.9794647097587585,0.6009098291397095,0.9679497480392456,0.6382143497467041,0.5332961082458496,0.6395246982574463,0.5976613163948059,0.5604144334793091,0.9719105958938599,0.9557105898857117,0.6013599634170532,0.5307860374450684,0.5202548503875732,0.5156574845314026,0.5304155945777893,0.5540662407875061,0.6246271729469299,0.5228317379951477,0.5833131670951843,0.663044810295105,0.6145973205566406,0.5605322122573853,0.5533234477043152,0.5498034358024597,0.5361210107803345,0.9798089861869812,0.5873753428459167,0.5473998188972473,0.5588886737823486,0.9173915386199951,0.5681660175323486,0.6247342824935913,0.5538206100463867,0.9687249660491943,0.9453076124191284,0.9458076357841492,0.9292323589324951,0.8276522159576416,0.7043275833129883,0.9270836710929871,0.5504214763641357,0.9172751903533936,0.5942311882972717,0.9805090427398682,0.9600474834442139,0.8219005465507507,0.9748469591140747,0.9581441879272461,0.5917216539382935,0.9395057559013367,0.8099310398101807,0.9492440223693848,0.9238689541816711,0.977800726890564,0.9647634029388428,0.9284824728965759,0.8978747129440308,0.5394903421401978,0.977961003780365,0.9763073921203613,0.9035676121711731,0.9498562812805176,0.9621090888977051,0.9769775867462158,0.8314107060432434,0.9001421332359314,0.9769730567932129,0.902679443359375,0.9737163186073303,0.9735732674598694,0.5467315912246704,0.9761659502983093,0.8675307631492615,0.952087938785553,0.9661626815795898,0.954788088798523,0.963595986366272,0.9802465438842773,0.9570237398147583,0.8200615644454956,0.7481665015220642,0.576176106929779,0.9398807883262634,0.953300416469574,0.9776797890663147,0.9332495927810669,0.9566553831100464,0.9676051139831543,0.9804774522781372,0.9601535201072693,0.9067659378051758,0.9799853563308716,0.9617716670036316,0.5921696424484253,0.785111129283905,0.9820184707641602,0.9796615839004517,0.9732489585876465,0.5714921951293945,0.8469157218933105,0.9442964196205139,0.732471227645874,0.9440761208534241,0.9151147603988647,0.6707777976989746,0.9819474220275879,0.9767472147941589,0.6482423543930054,0.7782641649246216,0.9754108190536499,0.8484629988670349,0.9764151573181152,0.9820770025253296,0.8924052715301514,0.9784949421882629,0.9786959886550903,0.9789236187934875,0.9752082824707031,0.9712066650390625,0.7622998356819153,0.8866047263145447,0.982119619846344,0.9665384888648987,0.8709274530410767,0.9820649027824402,0.8169069290161133,0.6924717426300049,0.9742999076843262,0.9750590920448303,0.584730863571167,0.9621599912643433,0.9669344425201416,0.8140847682952881,0.8449954390525818,0.9783826470375061,0.6901150941848755,0.9784771800041199,0.977185070514679,0.7495468258857727,0.7712698578834534,0.9736552834510803,0.6060660481452942,0.8970035910606384,0.9262601137161255,0.5726252794265747,0.5977256298065186,0.9557132720947266,0.8894321322441101,0.5205281972885132,0.9790664315223694,0.9694383144378662,0.8210286498069763,0.9629314541816711,0.6120853424072266,0.9379588961601257,0.8031063675880432,0.9515474438667297,0.977456271648407,0.935104489326477,0.5173489451408386,0.9769976139068604,0.8295081853866577,0.6765965819358826,0.9381346702575684,0.8094525933265686,0.9801163673400879,0.9781201481819153,0.9353612661361694,0.5415543913841248,0.9580555558204651,0.9203081727027893,0.9802287817001343,0.9675110578536987,0.978718638420105,0.9352924227714539,0.9395686388015747,0.9432143568992615,0.939200758934021,0.9718795418739319,0.9405944347381592,0.8117507100105286,0.9794522523880005,0.802916407585144,0.9401309490203857,0.9636832475662231,0.6088297367095947,0.7046070694923401,0.8280149698257446,0.6126914620399475,0.6338368058204651,0.5887579321861267,0.9776927828788757,0.9754635691642761,0.8347321152687073,0.6877966523170471,0.7163317203521729,0.966320812702179,0.8202818036079407,0.9528837203979492,0.7790501713752747,0.9564256072044373,0.9633437991142273,0.981025755405426,0.980575680732727,0.9761215448379517,0.8580468893051147,0.9041624069213867,0.7164130806922913,0.9017511606216431,0.9461978673934937,0.5170992016792297,0.9796962738037109,0.9691835045814514,0.9464351534843445,0.7634291648864746,0.9770654439926147,0.9776025414466858,0.9768795371055603,0.9767507314682007,0.9756420254707336,0.9075669050216675,0.9490088224411011,0.9821321964263916,0.9774793982505798,0.7107790112495422,0.6931698322296143,0.7339840531349182,0.9637634754180908,0.9679700136184692,0.9769042134284973,0.967088520526886,0.9701647162437439,0.5759544372558594,0.9732706546783447,0.9418837428092957,0.6604238748550415,0.9814512133598328,0.9433029294013977,0.6415361762046814,0.9308420419692993,0.6779477000236511,0.9755624532699585,0.9538567066192627,0.9790192246437073,0.9527924656867981,0.7790718078613281,0.9819127321243286,0.9759061336517334,0.9821699261665344,0.9823523163795471,0.981905460357666,0.9525589942932129,0.7252996563911438,0.6468672752380371,0.6227391362190247,0.6349809765815735,0.8329669833183289,0.9801974296569824,0.9766864776611328,0.9797558784484863,0.9795414805412292,0.571060836315155,0.9587249159812927,0.9703477621078491,0.8158484101295471,0.5590649247169495,0.9734243750572205,0.9369649887084961,0.9619767069816589,0.8561190366744995,0.947576642036438,0.8186889886856079,0.8332586288452148,0.5516936182975769,0.6215567588806152,0.8434723019599915,0.975362241268158,0.7311578989028931,0.8509247899055481,0.8904209733009338,0.7056585550308228,0.974220335483551,0.5816230177879333,0.9816322326660156,0.9812296628952026,0.9762367606163025,0.9629164934158325,0.9221174120903015,0.9505752325057983,0.9756038784980774,0.9435021877288818,0.8577122092247009,0.9023891091346741,0.8172175884246826,0.9772971868515015,0.969894528388977,0.6651263236999512,0.9678487181663513,0.7884005904197693,0.665255069732666,0.9811568856239319,0.9798027873039246,0.9436798691749573,0.9790273904800415,0.819556713104248,0.7425440549850464,0.7942216396331787,0.7088679671287537,0.6680665016174316,0.9301616549491882,0.9693406224250793,0.9790725111961365,0.5667092800140381,0.8402988910675049,0.8660932779312134,0.980975866317749,0.7547128200531006,0.9632768630981445,0.9297621846199036,0.7148429155349731,0.6373036503791809,0.6897647976875305,0.6255752444267273,0.9241806864738464,0.9299434423446655,0.5142029523849487,0.9567323327064514,0.5200643539428711,0.9637265205383301,0.8810862302780151,0.6739629507064819,0.8517629504203796,0.5317062139511108,0.971302330493927,0.9693016409873962,0.9779641628265381,0.555991530418396,0.9692985415458679,0.9741652607917786,0.9294585585594177,0.9635321497917175,0.9776234030723572,0.8522303104400635,0.9615984559059143,0.9457206130027771,0.9216058850288391,0.9411069750785828,0.9176411032676697,0.9366713166236877,0.8866510391235352,0.8469656109809875,0.693287193775177,0.6119747757911682,0.8952800035476685,0.9771414399147034,0.9750924110412598,0.9293184280395508,0.9724277257919312,0.9422196745872498,0.9540138244628906,0.8852857351303101,0.5478981137275696,0.81001877784729,0.9782450795173645,0.5421881675720215,0.9815660715103149,0.9363276362419128,0.9117891788482666,0.8515825867652893,0.9779556393623352,0.9764133095741272,0.9195160865783691,0.7184191346168518,0.9288066029548645,0.9513553380966187,0.9642560482025146,0.9323031306266785,0.920835018157959,0.9712288975715637,0.9582194089889526,0.6646243333816528,0.9712235331535339,0.7608091831207275,0.6981807351112366,0.9442598223686218,0.9275196194648743,0.7912400364875793,0.8272777795791626,0.9260374903678894,0.9794249534606934,0.9523934125900269,0.9755605459213257,0.6419810056686401,0.9616002440452576,0.9596769213676453,0.6270226836204529,0.7164378762245178,0.7697051763534546,0.8311432003974915,0.8627971410751343,0.9738335609436035,0.8394548892974854,0.9132315516471863,0.9052588939666748,0.973160982131958,0.5825517177581787,0.862548291683197,0.5361931920051575,0.8281733989715576,0.5080984234809875,0.9644858837127686,0.8220040202140808,0.5145145654678345,0.5851390957832336,0.9445845484733582,0.9278290271759033,0.9698659181594849,0.9658525586128235,0.6070376038551331,0.7508142590522766,0.9095478653907776,0.5518104434013367,0.9799582362174988,0.7878469824790955,0.7937212586402893,0.9535118341445923,0.8442751169204712,0.9515788555145264,0.9155781865119934,0.687759518623352,0.549350917339325,0.5924112796783447,0.9779458045959473,0.9770556688308716,0.9664247035980225,0.7952244281768799,0.9769188761711121,0.794319212436676,0.7421778440475464,0.5228288173675537,0.9052736759185791,0.7510950565338135,0.9313663244247437,0.9654996991157532,0.9065968990325928,0.7068496346473694,0.9462037086486816,0.8552055954933167,0.9252028465270996,0.93692946434021,0.7737525701522827,0.9681203365325928,0.9795966148376465,0.9666262865066528,0.9683683514595032,0.969103217124939,0.6488767862319946,0.703188955783844,0.6812390089035034,0.8348877429962158,0.9034852981567383,0.7333598732948303,0.8921232223510742,0.753471314907074,0.72969651222229],\"xaxis\":\"x\",\"yaxis\":\"y\",\"type\":\"histogram\",\"textfont\":{\"size\":20}},{\"alignmentgroup\":\"True\",\"bingroup\":\"x\",\"hovertemplate\":\"Sentiment_Transformer=POS<br>Sentiment Confidence=%{x}<br>count=%{y}<extra></extra>\",\"legendgroup\":\"POS\",\"marker\":{\"color\":\"darkorange\",\"pattern\":{\"shape\":\"\"},\"line\":{\"color\":\"#fafafa\",\"width\":1}},\"name\":\"POS\",\"offsetgroup\":\"POS\",\"orientation\":\"v\",\"showlegend\":true,\"x\":[0.531989574432373,0.6859668493270874,0.9203833937644958,0.5087499618530273,0.5131539106369019,0.5022360682487488,0.6932823061943054,0.9790335297584534,0.8751867413520813,0.551360547542572,0.9130210280418396,0.7600796222686768,0.9739370942115784,0.9342321753501892,0.9719024896621704,0.9839863777160645,0.6172316074371338,0.7486254572868347,0.9859958291053772,0.889589250087738,0.9771551489830017,0.6032595634460449,0.6633836030960083,0.9623644948005676,0.6889366507530212,0.5974900722503662,0.810350239276886,0.6605373620986938,0.5162809491157532,0.5706557035446167,0.9697978496551514,0.9540714025497437,0.9901763796806335,0.8024715781211853,0.836327314376831,0.5660470724105835,0.9848775863647461,0.982848048210144,0.669082760810852,0.8819513320922852,0.6543684005737305,0.6259034872055054,0.8578053712844849],\"xaxis\":\"x\",\"yaxis\":\"y\",\"type\":\"histogram\",\"textfont\":{\"size\":20}}],                        {\"template\":{\"data\":{\"bar\":[{\"error_x\":{\"color\":\"#2a3f5f\"},\"error_y\":{\"color\":\"#2a3f5f\"},\"marker\":{\"line\":{\"color\":\"#E5ECF6\",\"width\":0.5},\"pattern\":{\"fillmode\":\"overlay\",\"size\":10,\"solidity\":0.2}},\"type\":\"bar\"}],\"barpolar\":[{\"marker\":{\"line\":{\"color\":\"#E5ECF6\",\"width\":0.5},\"pattern\":{\"fillmode\":\"overlay\",\"size\":10,\"solidity\":0.2}},\"type\":\"barpolar\"}],\"carpet\":[{\"aaxis\":{\"endlinecolor\":\"#2a3f5f\",\"gridcolor\":\"white\",\"linecolor\":\"white\",\"minorgridcolor\":\"white\",\"startlinecolor\":\"#2a3f5f\"},\"baxis\":{\"endlinecolor\":\"#2a3f5f\",\"gridcolor\":\"white\",\"linecolor\":\"white\",\"minorgridcolor\":\"white\",\"startlinecolor\":\"#2a3f5f\"},\"type\":\"carpet\"}],\"choropleth\":[{\"colorbar\":{\"outlinewidth\":0,\"ticks\":\"\"},\"type\":\"choropleth\"}],\"contour\":[{\"colorbar\":{\"outlinewidth\":0,\"ticks\":\"\"},\"colorscale\":[[0.0,\"#0d0887\"],[0.1111111111111111,\"#46039f\"],[0.2222222222222222,\"#7201a8\"],[0.3333333333333333,\"#9c179e\"],[0.4444444444444444,\"#bd3786\"],[0.5555555555555556,\"#d8576b\"],[0.6666666666666666,\"#ed7953\"],[0.7777777777777778,\"#fb9f3a\"],[0.8888888888888888,\"#fdca26\"],[1.0,\"#f0f921\"]],\"type\":\"contour\"}],\"contourcarpet\":[{\"colorbar\":{\"outlinewidth\":0,\"ticks\":\"\"},\"type\":\"contourcarpet\"}],\"heatmap\":[{\"colorbar\":{\"outlinewidth\":0,\"ticks\":\"\"},\"colorscale\":[[0.0,\"#0d0887\"],[0.1111111111111111,\"#46039f\"],[0.2222222222222222,\"#7201a8\"],[0.3333333333333333,\"#9c179e\"],[0.4444444444444444,\"#bd3786\"],[0.5555555555555556,\"#d8576b\"],[0.6666666666666666,\"#ed7953\"],[0.7777777777777778,\"#fb9f3a\"],[0.8888888888888888,\"#fdca26\"],[1.0,\"#f0f921\"]],\"type\":\"heatmap\"}],\"heatmapgl\":[{\"colorbar\":{\"outlinewidth\":0,\"ticks\":\"\"},\"colorscale\":[[0.0,\"#0d0887\"],[0.1111111111111111,\"#46039f\"],[0.2222222222222222,\"#7201a8\"],[0.3333333333333333,\"#9c179e\"],[0.4444444444444444,\"#bd3786\"],[0.5555555555555556,\"#d8576b\"],[0.6666666666666666,\"#ed7953\"],[0.7777777777777778,\"#fb9f3a\"],[0.8888888888888888,\"#fdca26\"],[1.0,\"#f0f921\"]],\"type\":\"heatmapgl\"}],\"histogram\":[{\"marker\":{\"pattern\":{\"fillmode\":\"overlay\",\"size\":10,\"solidity\":0.2}},\"type\":\"histogram\"}],\"histogram2d\":[{\"colorbar\":{\"outlinewidth\":0,\"ticks\":\"\"},\"colorscale\":[[0.0,\"#0d0887\"],[0.1111111111111111,\"#46039f\"],[0.2222222222222222,\"#7201a8\"],[0.3333333333333333,\"#9c179e\"],[0.4444444444444444,\"#bd3786\"],[0.5555555555555556,\"#d8576b\"],[0.6666666666666666,\"#ed7953\"],[0.7777777777777778,\"#fb9f3a\"],[0.8888888888888888,\"#fdca26\"],[1.0,\"#f0f921\"]],\"type\":\"histogram2d\"}],\"histogram2dcontour\":[{\"colorbar\":{\"outlinewidth\":0,\"ticks\":\"\"},\"colorscale\":[[0.0,\"#0d0887\"],[0.1111111111111111,\"#46039f\"],[0.2222222222222222,\"#7201a8\"],[0.3333333333333333,\"#9c179e\"],[0.4444444444444444,\"#bd3786\"],[0.5555555555555556,\"#d8576b\"],[0.6666666666666666,\"#ed7953\"],[0.7777777777777778,\"#fb9f3a\"],[0.8888888888888888,\"#fdca26\"],[1.0,\"#f0f921\"]],\"type\":\"histogram2dcontour\"}],\"mesh3d\":[{\"colorbar\":{\"outlinewidth\":0,\"ticks\":\"\"},\"type\":\"mesh3d\"}],\"parcoords\":[{\"line\":{\"colorbar\":{\"outlinewidth\":0,\"ticks\":\"\"}},\"type\":\"parcoords\"}],\"pie\":[{\"automargin\":true,\"type\":\"pie\"}],\"scatter\":[{\"marker\":{\"colorbar\":{\"outlinewidth\":0,\"ticks\":\"\"}},\"type\":\"scatter\"}],\"scatter3d\":[{\"line\":{\"colorbar\":{\"outlinewidth\":0,\"ticks\":\"\"}},\"marker\":{\"colorbar\":{\"outlinewidth\":0,\"ticks\":\"\"}},\"type\":\"scatter3d\"}],\"scattercarpet\":[{\"marker\":{\"colorbar\":{\"outlinewidth\":0,\"ticks\":\"\"}},\"type\":\"scattercarpet\"}],\"scattergeo\":[{\"marker\":{\"colorbar\":{\"outlinewidth\":0,\"ticks\":\"\"}},\"type\":\"scattergeo\"}],\"scattergl\":[{\"marker\":{\"colorbar\":{\"outlinewidth\":0,\"ticks\":\"\"}},\"type\":\"scattergl\"}],\"scattermapbox\":[{\"marker\":{\"colorbar\":{\"outlinewidth\":0,\"ticks\":\"\"}},\"type\":\"scattermapbox\"}],\"scatterpolar\":[{\"marker\":{\"colorbar\":{\"outlinewidth\":0,\"ticks\":\"\"}},\"type\":\"scatterpolar\"}],\"scatterpolargl\":[{\"marker\":{\"colorbar\":{\"outlinewidth\":0,\"ticks\":\"\"}},\"type\":\"scatterpolargl\"}],\"scatterternary\":[{\"marker\":{\"colorbar\":{\"outlinewidth\":0,\"ticks\":\"\"}},\"type\":\"scatterternary\"}],\"surface\":[{\"colorbar\":{\"outlinewidth\":0,\"ticks\":\"\"},\"colorscale\":[[0.0,\"#0d0887\"],[0.1111111111111111,\"#46039f\"],[0.2222222222222222,\"#7201a8\"],[0.3333333333333333,\"#9c179e\"],[0.4444444444444444,\"#bd3786\"],[0.5555555555555556,\"#d8576b\"],[0.6666666666666666,\"#ed7953\"],[0.7777777777777778,\"#fb9f3a\"],[0.8888888888888888,\"#fdca26\"],[1.0,\"#f0f921\"]],\"type\":\"surface\"}],\"table\":[{\"cells\":{\"fill\":{\"color\":\"#EBF0F8\"},\"line\":{\"color\":\"white\"}},\"header\":{\"fill\":{\"color\":\"#C8D4E3\"},\"line\":{\"color\":\"white\"}},\"type\":\"table\"}]},\"layout\":{\"annotationdefaults\":{\"arrowcolor\":\"#2a3f5f\",\"arrowhead\":0,\"arrowwidth\":1},\"autotypenumbers\":\"strict\",\"coloraxis\":{\"colorbar\":{\"outlinewidth\":0,\"ticks\":\"\"}},\"colorscale\":{\"diverging\":[[0,\"#8e0152\"],[0.1,\"#c51b7d\"],[0.2,\"#de77ae\"],[0.3,\"#f1b6da\"],[0.4,\"#fde0ef\"],[0.5,\"#f7f7f7\"],[0.6,\"#e6f5d0\"],[0.7,\"#b8e186\"],[0.8,\"#7fbc41\"],[0.9,\"#4d9221\"],[1,\"#276419\"]],\"sequential\":[[0.0,\"#0d0887\"],[0.1111111111111111,\"#46039f\"],[0.2222222222222222,\"#7201a8\"],[0.3333333333333333,\"#9c179e\"],[0.4444444444444444,\"#bd3786\"],[0.5555555555555556,\"#d8576b\"],[0.6666666666666666,\"#ed7953\"],[0.7777777777777778,\"#fb9f3a\"],[0.8888888888888888,\"#fdca26\"],[1.0,\"#f0f921\"]],\"sequentialminus\":[[0.0,\"#0d0887\"],[0.1111111111111111,\"#46039f\"],[0.2222222222222222,\"#7201a8\"],[0.3333333333333333,\"#9c179e\"],[0.4444444444444444,\"#bd3786\"],[0.5555555555555556,\"#d8576b\"],[0.6666666666666666,\"#ed7953\"],[0.7777777777777778,\"#fb9f3a\"],[0.8888888888888888,\"#fdca26\"],[1.0,\"#f0f921\"]]},\"colorway\":[\"#636efa\",\"#EF553B\",\"#00cc96\",\"#ab63fa\",\"#FFA15A\",\"#19d3f3\",\"#FF6692\",\"#B6E880\",\"#FF97FF\",\"#FECB52\"],\"font\":{\"color\":\"#2a3f5f\"},\"geo\":{\"bgcolor\":\"white\",\"lakecolor\":\"white\",\"landcolor\":\"#E5ECF6\",\"showlakes\":true,\"showland\":true,\"subunitcolor\":\"white\"},\"hoverlabel\":{\"align\":\"left\"},\"hovermode\":\"closest\",\"mapbox\":{\"style\":\"light\"},\"paper_bgcolor\":\"white\",\"plot_bgcolor\":\"#E5ECF6\",\"polar\":{\"angularaxis\":{\"gridcolor\":\"white\",\"linecolor\":\"white\",\"ticks\":\"\"},\"bgcolor\":\"#E5ECF6\",\"radialaxis\":{\"gridcolor\":\"white\",\"linecolor\":\"white\",\"ticks\":\"\"}},\"scene\":{\"xaxis\":{\"backgroundcolor\":\"#E5ECF6\",\"gridcolor\":\"white\",\"gridwidth\":2,\"linecolor\":\"white\",\"showbackground\":true,\"ticks\":\"\",\"zerolinecolor\":\"white\"},\"yaxis\":{\"backgroundcolor\":\"#E5ECF6\",\"gridcolor\":\"white\",\"gridwidth\":2,\"linecolor\":\"white\",\"showbackground\":true,\"ticks\":\"\",\"zerolinecolor\":\"white\"},\"zaxis\":{\"backgroundcolor\":\"#E5ECF6\",\"gridcolor\":\"white\",\"gridwidth\":2,\"linecolor\":\"white\",\"showbackground\":true,\"ticks\":\"\",\"zerolinecolor\":\"white\"}},\"shapedefaults\":{\"line\":{\"color\":\"#2a3f5f\"}},\"ternary\":{\"aaxis\":{\"gridcolor\":\"white\",\"linecolor\":\"white\",\"ticks\":\"\"},\"baxis\":{\"gridcolor\":\"white\",\"linecolor\":\"white\",\"ticks\":\"\"},\"bgcolor\":\"#E5ECF6\",\"caxis\":{\"gridcolor\":\"white\",\"linecolor\":\"white\",\"ticks\":\"\"}},\"title\":{\"x\":0.05},\"xaxis\":{\"automargin\":true,\"gridcolor\":\"white\",\"linecolor\":\"white\",\"ticks\":\"\",\"title\":{\"standoff\":15},\"zerolinecolor\":\"white\",\"zerolinewidth\":2},\"yaxis\":{\"automargin\":true,\"gridcolor\":\"white\",\"linecolor\":\"white\",\"ticks\":\"\",\"title\":{\"standoff\":15},\"zerolinecolor\":\"white\",\"zerolinewidth\":2}}},\"xaxis\":{\"anchor\":\"y\",\"domain\":[0.0,1.0],\"title\":{\"text\":\"Sentiment Confidence\"}},\"yaxis\":{\"anchor\":\"x\",\"domain\":[0.0,1.0],\"title\":{\"text\":\"count\"}},\"legend\":{\"title\":{\"text\":\"Sentiment_Transformer\"},\"tracegroupgap\":0},\"title\":{\"text\":\"Distribution of Sentiment Confidence across Tweets\"},\"barmode\":\"relative\"},                        {\"responsive\": true}                    ).then(function(){\n",
              "                            \n",
              "var gd = document.getElementById('448ca364-be70-41ce-b3d3-44e1f95678db');\n",
              "var x = new MutationObserver(function (mutations, observer) {{\n",
              "        var display = window.getComputedStyle(gd).display;\n",
              "        if (!display || display === 'none') {{\n",
              "            console.log([gd, 'removed!']);\n",
              "            Plotly.purge(gd);\n",
              "            observer.disconnect();\n",
              "        }}\n",
              "}});\n",
              "\n",
              "// Listen for the removal of the full notebook cells\n",
              "var notebookContainer = gd.closest('#notebook-container');\n",
              "if (notebookContainer) {{\n",
              "    x.observe(notebookContainer, {childList: true});\n",
              "}}\n",
              "\n",
              "// Listen for the clearing of the current output cell\n",
              "var outputEl = gd.closest('.output');\n",
              "if (outputEl) {{\n",
              "    x.observe(outputEl, {childList: true});\n",
              "}}\n",
              "\n",
              "                        })                };                            </script>        </div>\n",
              "</body>\n",
              "</html>"
            ]
          },
          "metadata": {}
        }
      ]
    },
    {
      "cell_type": "code",
      "source": [
        "# colors = ['gold', 'mediumturquoise', 'darkorange', 'lightgreen']\n",
        "# fig = px.histogram(df, x=\"Likes\",facet_col=\"Sentiment_Transformer\",title=\"Distribution of Sentiment across Tweets\")\n",
        "# fig.update_traces(textfont_size=20,\n",
        "#                       marker=dict(color=colors, line=dict(color='#fafafa', width=3)))\n",
        "    \n",
        "# fig.show()"
      ],
      "metadata": {
        "id": "9pDa2ylL3zz4"
      },
      "execution_count": null,
      "outputs": []
    },
    {
      "cell_type": "markdown",
      "source": [
        "## Violin Plots of Likes , Retweets \n",
        "\n",
        "We can analyse which tweets fetched most likes and retweets and their corresponding sentiment."
      ],
      "metadata": {
        "id": "PPEZEF7J2PfK"
      }
    },
    {
      "cell_type": "code",
      "source": [
        "fig=px.violin(df, y=\"Likes\", box=True, points=\"outliers\",\n",
        "          hover_data=['Likes','TwitterHandle','Sentiment_Transformer','Tweet'])\n",
        "# fig.add_trace(go.Violin(df,x=\"RT\",\n",
        "#                         legendgroup='M', scalegroup='M', name='M',\n",
        "#                         line_color='red'))\n",
        "fig.add_trace(go.Violin(y=df['RT'],\n",
        "                        legendgroup='Retweets', scalegroup='Retweets', name='Retweets',points=\"outliers\",\n",
        "                        line_color='blue'))#hover=['Likes','TwitterHandle','Sentiment_Transformer','Tweet']))\n",
        "#fig.update_layout(hover_data = ['Likes','TwitterHandle','Sentiment_Transformer','Tweet'])"
      ],
      "metadata": {
        "colab": {
          "base_uri": "https://localhost:8080/",
          "height": 542
        },
        "id": "ZjW_XPADidEL",
        "outputId": "dd87b2f2-b891-4291-94ea-8862bfaf6c5c"
      },
      "execution_count": 35,
      "outputs": [
        {
          "output_type": "display_data",
          "data": {
            "text/html": [
              "<html>\n",
              "<head><meta charset=\"utf-8\" /></head>\n",
              "<body>\n",
              "    <div>            <script src=\"https://cdnjs.cloudflare.com/ajax/libs/mathjax/2.7.5/MathJax.js?config=TeX-AMS-MML_SVG\"></script><script type=\"text/javascript\">if (window.MathJax) {MathJax.Hub.Config({SVG: {font: \"STIX-Web\"}});}</script>                <script type=\"text/javascript\">window.PlotlyConfig = {MathJaxConfig: 'local'};</script>\n",
              "        <script src=\"https://cdn.plot.ly/plotly-2.8.3.min.js\"></script>                <div id=\"844cd359-1ca6-4c97-b0a9-618e223185f4\" class=\"plotly-graph-div\" style=\"height:525px; width:100%;\"></div>            <script type=\"text/javascript\">                                    window.PLOTLYENV=window.PLOTLYENV || {};                                    if (document.getElementById(\"844cd359-1ca6-4c97-b0a9-618e223185f4\")) {                    Plotly.newPlot(                        \"844cd359-1ca6-4c97-b0a9-618e223185f4\",                        [{\"alignmentgroup\":\"True\",\"box\":{\"visible\":true},\"customdata\":[[\"AmazingUA\",\"NEG\",\"The moment yesterday when a rocket hit a crowd of people on Academician Pavlov Street, Kharkiv\\ud83e\\udd2c\\n\\nNo mercy for russi\\u2026 https://t.co/M849fjhAVT\"],[\"hapSTR7\",\"NEU\",\"Google Street View in LIVE \\nWatch more live on #hapstr\\nhttps://t.co/XyCtjQuYUW\\n\\nThis is insane!\\n\\n#Syria\\u2026 https://t.co/rLEqvUYa4N\"],[\"CNBCTV18News\",\"NEU\",\"COMING UP @ 5 PM | As the #RussiaUkraineWar rages on Chinese Foreign Minister #WangYi visits New Delhi. India &amp; Chi\\u2026 https://t.co/PJV3UIKnJ7\"],[\"FEMarkets\",\"NEU\",\"Where is Indian rupee headed to in coming days as high crude oil prices continue to weigh on net-oil importer\\u2026 https://t.co/W5FpLyrCK7\"],[\"WIONews\",\"NEU\",\"4 new battlegroups announced\\n\\n+ Ukrainian President Volodymyr Zelensky pleads for EU membership\\n\\n+ NATO to reinforc\\u2026 https://t.co/Q3op8xgDUX\"],[\"EuromaidanPR\",\"NEU\",\"In the annihilated yesterday #Russian landing ship Saratov, there were 20 tanks, 45 armored personnel carriers and\\u2026 https://t.co/Ih5a6QhAfs\"],[\"PatilSushmit\",\"NEU\",\"#BREAKING : The topic of US biological laboratories in #Ukraine will become a \\u201cconstantly playing\\u201d topic at the UN\\u2026 https://t.co/yxREu86j5c\"],[\"ArmedMaidan\",\"NEU\",\"First instinct was right - \\\"Orsk\\\" was a UAF joke name for the #Russian ship #Ukraine blew up with a ballistic missi\\u2026 https://t.co/bzH9Z95riq\"],[\"ukrainewar24\",\"NEU\",\"\\u26a1\\ufe0f Near Izyum #Russian troops attempted to break through Ukrainian defense from the southern direction near Tyhotsk\\u2026 https://t.co/90V9cQGxJj\"],[\"Thuy_Lecuongdam\",\"NEU\",\"@NATO, @EU_Commission, @UN and @POTUS after listening to another speech from @ZelenskyyUa asking for weapons and fi\\u2026 https://t.co/l1IpVEVQMV\"],[\"mohdumar724\",\"NEU\",\"Top News Of The Day .\\n#StockMarket #BYJUSxFIFA #RussiaUkraineWar #AjitDoval #macquarie https://t.co/dEflWoud4l\"],[\"NEWSEXPRESS\",\"NEG\",\"Russia-Ukraine conflict: 300 feared dead in Russian strike on Mariupol theatre\\n\\n#RussiaUkraineConflict\\u2026 https://t.co/WsGHGwEOD0\"],[\"latestly\",\"NEU\",\"Russia-Ukraine War: Russian Forces Shell Kharkiv Airport, Says Governor Oleh Synyehubov\\n#RussiaUkraineWar #Kharkiv\\u2026 https://t.co/je7kIjDljA\"],[\"AmazingUA\",\"NEU\",\"In the village of Novotroitskoe, Kherson region, which is under the temporary occupation of the russians, a rally i\\u2026 https://t.co/uR801rZDKR\"],[\"Konarknewsodia\",\"NEU\",\"#UnitedSikhs ,the #UnitedNations affiliated human rights and advocacy organisation, has started relief work and hum\\u2026 https://t.co/wyuAuqIwmt\"],[\"CNBCTV18News\",\"NEU\",\"Indian students pursuing medical studies abroad, who could not complete their internship due to compelling situatio\\u2026 https://t.co/usXN0eaNeI\"],[\"Konarknewsodia\",\"NEG\",\"Office of the Prosecutor General of #Ukraine: 135 children have died in the country since the beginning of the war.\\u2026 https://t.co/u99fPSyx4u\"],[\"DBdox\",\"NEU\",\"#Russian BTR-82A in #Mariupol\\n\\n#RussiaUkraineWar #Ukraine #UkraineConflict https://t.co/Ay6tgmL92g\"],[\"AmazingUA\",\"NEU\",\"Photo of the building of the Faculty of Economics of Kharkiv National University named after V.N. Karazin\\ud83e\\udd2c\\u2026 https://t.co/pM4MUw4sIj\"],[\"DBdox\",\"NEG\",\"Iskander OTRK crews during the special operation in #Ukraine, it was their high-precision strike that destroyed the\\u2026 https://t.co/7GdryHM2Do\"],[\"HTracker10\",\"NEU\",\"Inforos, Strategic Culture Foundation &amp; NewsFront  have been added to the list of #Russian #disinformation orgainza\\u2026 https://t.co/EXkDKG5qmf\"],[\"ArmedMaidan\",\"NEG\",\"\\\"More and more people are dying of starvation\\\": #Mariupol officials\\n\\n#Russia blocks humanitarian aid \\n\\n\\\"We beg for\\u2026 https://t.co/vhVrWQ3Q0f\"],[\"SachinsInd\",\"NEU\",\"A guitarist performs the song \\\"My Dear Mother\\\" right on the ruins of the destroyed building. #Ukraine\\u2026 https://t.co/gBSouOQrLq\"],[\"StrikeDefence\",\"NEG\",\"Office of the Prosecutor General of #Ukraine: 135 children have died in the country since the beginning of the war.\\u2026 https://t.co/XFodqBFB65\"],[\"StrikeDefence\",\"NEU\",\"The #Ukrainian media quoted the AFU as saying that Lieutenant General Yakov Rezantsev, commander of the 49th Combin\\u2026 https://t.co/vkqWfeamCA\"],[\"THIS_IS_UKR\",\"NEU\",\"\\u26a1The police general of #Ukraine offered the invaders to take him prisoner. Vyacheslav Abroskin offered himself to t\\u2026 https://t.co/Y31qbNaQJK\"],[\"RealEricGiese\",\"NEG\",\"Day THIRTY of Russia's invasion against the Ukraine! https://t.co/va0ppgAPhi @OANN @_StephanieMyers @STEPHMHAMILL\\u2026 https://t.co/gxXkDYMKpB\"],[\"EuromaidanPR\",\"POS\",\"In #Kharkiv, the guitarist masterfully performs the song \\\"My Dear Mother\\\" right on the ruins of the destroyed build\\u2026 https://t.co/Cp6zMolZnc\"],[\"syed_saqt\",\"NEU\",\"I am not a politician,not a celebrity,\\nI am just a common man. \\nI just want to leave my life with my family peacefu\\u2026 https://t.co/iPAeVS93Ao\"],[\"JessicaPerthWA\",\"NEG\",\"#RussiaUkraineWar No matter the outcome of Putins Ukraine War,he has destroyed Russia's Economy. Sanctions will rem\\u2026 https://t.co/j8n5wo3fOp\"],[\"PXP_IS_SCAM\",\"NEG\",\"Russian spies were ambushed\\n#UkraineRussiaWar #RussiaUkraineWar #StopRussia \\n#UkraineUnderAtta\\u0441k #war\\u2026 https://t.co/LOlWtbXCdL\"],[\"KristiTalmadge\",\"NEG\",\"#FoodShortages\\n\\n\\\"With regard to food shortages. Yes, we did talk about food shortages. And, and it's gonna be real\\\"\\u2026 https://t.co/sDwCRrXB87\"],[\"nielsbobojesen\",\"NEG\",\"Journalists targeted in Ukraine.\\n\\n#journalists\\n#media \\n#journalism \\n#press\\n#warcorrespondent \\n#reporter\\u2026 https://t.co/of5KfEILTn\"],[\"FranziskaLoesel\",\"NEU\",\"\\\"Russia's war with/in Ukraine\\\" yes it's long. But just saying \\\"war in Ukraine\\\" or \\\"Ukrainian war\\\" omits the aggress\\u2026 https://t.co/44H53TDgFD\"],[\"MarkBloomberg10\",\"NEU\",\"Had given the calls of $stmx and $icx to my subscribers both did easy 10% and more to come on these calls \\ud83d\\udcb8\\ud83d\\ude80\\u2026 https://t.co/zdIncCwEju\"],[\"THIS_IS_UKR\",\"NEU\",\"\\ud83d\\ude2dVideo of a Russian shell hitting a crowd of people standing behind humanitarian aid in #Kharkiv \\ud83c\\uddfa\\ud83c\\udde6. #Russia must b\\u2026 https://t.co/3TeddRyApM\"],[\"Headlines4You\",\"NEG\",\"I keep reading that #RussianTroops are having a hard time. While I hope this is true...I don't know if it is.\\u2026 https://t.co/R6MofSs2n3\"],[\"ilinamaria957\",\"NEG\",\"The man behind Russia and Ukraine war is the American President because America can't fight directly with Russia an\\u2026 https://t.co/yZhr8mIjCV\"],[\"PaulaMariaOzzie\",\"NEU\",\"After meeting with #NATO allies and announcing a deal to help secure more liquefied natural gas for the European Un\\u2026 https://t.co/JbCNDtSrGd\"],[\"ArmedMaidan\",\"NEU\",\"#Ukrainian sailor tried to sink #Russian oligarch's yacht\\n\\n\\\"You have to choose, will there be a Ukraine, or will yo\\u2026 https://t.co/xNgInByWj7\"],[\"THIS_IS_UKR\",\"NEG\",\"\\u2764Love is... watching together how a Russian warship burns.\\ud83d\\udc4a\\ud83c\\uddfa\\ud83c\\udde6\\n\\n#RussiaUkraineWar #SlavaUkraini #Zelensky\\u2026 https://t.co/WrxSO6sdx6\"],[\"AmazingUA\",\"NEU\",\"You can always look at fire, water, and how enemy armored vehicles turn into a pile of scrap metal\\ud83d\\udcaa\\ud83c\\uddfa\\ud83c\\udde6\\u2026 https://t.co/ffsazcROYt\"],[\"politicalt1m\",\"NEU\",\"\\u26a1 \\ud83c\\udde9\\ud83c\\uddea Ministry for Economic Affairs: Dependence on \\ud83c\\uddf7\\ud83c\\uddfa oil -75% soon, completely independent by the end of the year.\\u2026 https://t.co/9CvGfzaEU0\"],[\"ClearBlueSee\",\"NEU\",\"MARIUPOL THEATRE - Shocking footage of the aftermath of the Russian Airstrike.  There were claims by Russia this wa\\u2026 https://t.co/TLFUgImj8n\"],[\"GelaGetnet\",\"NEU\",\"Russia invades Ukraine, NATO, G7, European Council leaders meet\\nA month after Russia's invasion of Ukraine, its for\\u2026 https://t.co/xQdK4NyoUl\"],[\"ElCritiq\",\"NEG\",\"@AnnelleSheline you must be naive! wonder how you got your Phd!\\nThe #RussiaUkraineWar was orchestrated by #USA\\u2026 https://t.co/MLQTnYJxmC\"],[\"ArmedMaidan\",\"NEU\",\"9 European, US fossil fuel companies paid total $15.8B taxes, fees to #Russia since 2014 invasion of #Ukraine\\u2026 https://t.co/3CCfUyLZhB\"],[\"baroodjatti4\",\"POS\",\"#Nato We will continue to support #Ukraine with security assistance to fight #Russian aggression and uphold their r\\u2026 https://t.co/eWPdf66NwB\"],[\"THIS_IS_UKR\",\"NEG\",\"\\ud83d\\udca5Tanks of invaders continue to burn near #Kyiv. Foreign Legion together with the Armed Forces of #Ukraine in action\\u2026 https://t.co/cdD1TJrRDW\"],[\"ArmedMaidan\",\"NEG\",\"#Russian precision-guided missiles are failing up to 60% of time in #Ukraine: US officials\\n\\nAnything &gt;20% is high:\\u2026 https://t.co/nh09JFfRXp\"],[\"aakriti_bhalla\",\"NEU\",\"Ukraine war could mean that some countries may rethink how much they hold certain currencies in their reserves, say\\u2026 https://t.co/K1WqD0XYul\"],[\"Roman15884935\",\"NEG\",\"@Telegraph Ukrainians use civilians as human shields.  They were not allowed to evacuate.  Those who disagreed were\\u2026 https://t.co/VKDKzRxfce\"],[\"PatilSushmit\",\"NEU\",\"#BREAKING : Now it is hardly possible to talk about the prospects for a dialogue between the #Russian Federation an\\u2026 https://t.co/xJSZldXAIT\"],[\"abplivenews\",\"NEG\",\"#UkraineInvasion: 300 Feared Dead In Russian Airstrike On #Mariupol Theatre Last Week\\n\\n#RussiaUkraineWar \\n\\nKnow mor\\u2026 https://t.co/AJKDssAPPs\"],[\"ActivistBowen2\",\"NEU\",\"1. ,...HOT topic...,CONTINUED/AGAIN/STILL...,(March 25, 2022; 13:49 HKT) #RUSSIAukraineconflict\\u2026 https://t.co/ZcM8A8RTjC\"],[\"PatilSushmit\",\"NEU\",\"#BREAKING : The Kremlin knows that the United States is aggressively continuing the line of isolating #Russia, such\\u2026 https://t.co/7VsomeQbys\"],[\"ArmedMaidan\",\"NEG\",\"Approx. 300 civilians died in #Mariupol's drama theater as a result of the March 16 bombing attack by a #Russian wa\\u2026 https://t.co/TDcvc5Yf7L\"],[\"StrikeDefence\",\"NEG\",\"\\ud83c\\uddf7\\ud83c\\uddfa\\ud83c\\uddfa\\ud83c\\udde6\\u26a1The command post of the Armed Forces of Ukraine was destroyed by a high-precision strike\\n#Ukraine\\u2026 https://t.co/pSGFLukLaX\"],[\"MBCTVODISHA\",\"NEG\",\"Office of the Prosecutor General of #Ukraine: 135 children have died in the country since the beginning of the war.\\u2026 https://t.co/0MUvAxdwFH\"],[\"AmazingUA\",\"NEU\",\"The Ukrainian army now has 43 more tanks than at the beginning of the war\\n\\nThis is reported by Forbes analysts. Tha\\u2026 https://t.co/YV6dseJrXt\"],[\"GAJBEDEEP\",\"NEU\",\"Hello All #investors,\\nTake a look at what happened in the #StockMarket today!!! Join 1200\\u2019s of others already takin\\u2026 https://t.co/m3Z9SgYLA0\"],[\"JanekLasocki\",\"NEG\",\"It's being reported this morning by the city council that at least 300 people were killed in the bombing of the the\\u2026 https://t.co/5WEvOHytjm\"],[\"THIS_IS_UKR\",\"POS\",\"\\ud83d\\udca5Best regards from #Gostomel.\\ud83d\\udc4a\\ud83c\\uddfa\\ud83c\\udde6\\n\\n#RussiaUkraineWar #SlavaUkraini #Zelensky #\\u0420\\u043e\\u0441\\u0441\\u0438\\u044f\\u0421\\u043c\\u043e\\u0442\\u0440\\u0438 #Ukraine #Russia https://t.co/ggFY09Z8qX\"],[\"ActivistBowen2\",\"NEU\",\"POPUP news: update: DAILY DIM SUM: 1 foreign man &amp; 4 foreign women with #ukrainian flags protest in Central again R\\u2026 https://t.co/qpUP2BgzlJ\"],[\"statecraftdaily\",\"NEU\",\"#Russia and #Ukraine conducted their first solider-to-solider prisoner exchange on the one-month mark of the\\u2026 https://t.co/DrLo0He3bB\"],[\"StrikeDefence\",\"NEU\",\"\\ud83c\\uddf7\\ud83c\\uddfa\\ud83c\\uddfa\\ud83c\\udde6 \\\"Odessa can be encircled\\\" - the mayor of the city Gennady Trukhanov in an interview with RBC-Ukraine\\n#Ukraine\\u2026 https://t.co/UfHFDpu6E8\"],[\"StrikeDefence\",\"NEU\",\"\\ud83c\\uddf7\\ud83c\\uddfa\\ud83c\\uddfa\\ud83c\\udde6 Units of the Armed Forces of the Russian Federation and the NM of the DPR in Mariupol.\\n#Ukraine\\u2026 https://t.co/471rnIsGnV\"],[\"correspondentPk\",\"NEU\",\"Biden and leaders of more than 30 nations gathered in Brussels amid concerns that Putin could order the use of chem\\u2026 https://t.co/7YLriGCE6E\"],[\"newsbluntmedia\",\"NEG\",\"Office of the Prosecutor General of #Ukraine: 135 children have died in the country since the beginning of the war.\\u2026 https://t.co/EdoKgl4Pj4\"],[\"Ashukaushik0000\",\"NEU\",\"YouTube - https://t.co/ZyYJo0Oe70       @Russia @Ukraine @USATODAY @Live24N @PMOIndia @Bjp4Ghaziabad @INCIndia\\u2026 https://t.co/XS954ghbkM\"],[\"EyeEdinburgh\",\"NEG\",\"Tell me again how forced-pregnancy activists are really the ones pro women's rights by egging the government on to\\u2026 https://t.co/tK6QOsrQxf\"],[\"MBCTVODISHA\",\"NEU\",\"#UnitedSikhs ,the #UnitedNations affiliated human rights and advocacy organisation, has started relief work and hum\\u2026 https://t.co/qmo7p7C5lO\"],[\"ArmedMaidan\",\"NEU\",\"Large protest in Brussels during #NATO summit\\n\\nDemand fighter planes, more aid for #Ukraine, more #Russia sanctions\\u2026 https://t.co/0oRRPi9AXE\"],[\"NH_India\",\"NEG\",\"The government of the Ukrainian city of #Mariupol says 300 people died in a Russian #airstrike on March 16 on a the\\u2026 https://t.co/Eb9bAr57Uq\"],[\"BERLINF_U_N\",\"NEG\",\"(\\ud83d\\udccdtwo hours ago) 1 civilian killed, another wounded as result of Russian army shelling on Derhachi town in Kharkiv\\u2026 https://t.co/Y4qDSNwwxC\"],[\"ians_india\",\"NEU\",\"United Sikhs (@unitedsikhs),the #UnitedNations affiliated human rights and advocacy organisation, has started relie\\u2026 https://t.co/IHBraRpSb0\"],[\"BERLINF_U_N\",\"NEG\",\"(\\ud83d\\udccd an hour ago) At least 300 people died in Russian bombing of Mariupol drama theatre on Mar 16, city council said.\\u2026 https://t.co/sY0S16KF2D\"],[\"An3Anwar\",\"NEU\",\"@AltCryptoGems 1. Buy #SKUY #SEKUYA @sekuyaofficial \\n2. Hodl enjoy reflection + autoburn\\n3. Repeat\\n\\n#Crypto is Fina\\u2026 https://t.co/tPLpMR9fHX\"],[\"gahamalian\",\"NEU\",\"New video of Chechen fighters in Ukraine..\\n\\n#WW3 #NATO #NWO #Russia\\n#RussiaUkraineWar https://t.co/9w6bsDdWz3\"],[\"An3Anwar\",\"NEU\",\"@BSCGemsAlert 1. Buy #SKUY #SEKUYA @sekuyaofficial \\n2. Hodl enjoy reflection + autoburn\\n3. Repeat\\n\\n#Crypto is Finan\\u2026 https://t.co/o0gC5HptX2\"],[\"TheRitamApp\",\"NEU\",\"One month of Russia-Ukraine war \\u2013 The latest developments\\ud83d\\udc49https://t.co/dHJA78yFT8\\n\\n#RussiaUkraineWar #Ukraine \\nFor\\u2026 https://t.co/h4bx8Cvlfm\"],[\"An3Anwar\",\"POS\",\"@CoinExIndonesia 1. Buy #SKUY #SEKUYA @sekuyaofficial \\n2. Hodl enjoy reflection + autoburn\\n3. Repeat\\n\\n#Crypto is Fi\\u2026 https://t.co/INbJMhr1E4\"],[\"GNgraphicnews\",\"NEU\",\"Russian offensive campaign assessment \\u2013 day 30: March 24, 2022 -- #Russia #Ukraine #RussiaUkraineWar #sitrep Ukrain\\u2026 https://t.co/BuZ6mqnzOk\"],[\"An3Anwar\",\"NEU\",\"@whale_alert 1. Buy #SKUY #SEKUYA @sekuyaofficial \\n2. Hodl enjoy reflection + autoburn\\n3. Repeat\\n\\n#Crypto is Financ\\u2026 https://t.co/0jZiEwCuI4\"],[\"ArmedMaidan\",\"NEU\",\"Ethnic cleansing: #Russia says it \\\"evacuated\\\" 402K #Ukrainians to #Russia, incl. 84K kids\\n\\n#Ukr rights watchdog: ac\\u2026 https://t.co/CNhv7fNuFb\"],[\"An3Anwar\",\"NEU\",\"@ChinaPumpWXC 1. Buy #SKUY #SEKUYA @sekuyaofficial \\n2. Hodl enjoy reflection + autoburn\\n3. Repeat\\n\\n#Crypto is Finan\\u2026 https://t.co/fDovAlewSN\"],[\"An3Anwar\",\"NEU\",\"@kucoincom 1. Buy #SKUY #SEKUYA @sekuyaofficial \\n2. Hodl enjoy reflection + autoburn\\n3. Repeat\\n\\n#Crypto is Financia\\u2026 https://t.co/MkCl5paNAO\"],[\"An3Anwar\",\"NEU\",\"@davidgokhshtein 1. Buy #SKUY #SEKUYA @sekuyaofficial \\n2. Hodl enjoy reflection + autoburn\\n3. Repeat\\n\\n#Crypto is Fi\\u2026 https://t.co/iKiUIENyXE\"],[\"An3Anwar\",\"NEU\",\"@TheCryptoLark 1. Buy #SKUY #SEKUYA @sekuyaofficial \\n2. Hodl enjoy reflection + autoburn\\n3. Repeat\\n\\n#Crypto is Fina\\u2026 https://t.co/y2lSfkhWM8\"],[\"YachtNinky\",\"NEG\",\"The trouble with Ukraine all started with the overthrow of a democratically-elected president in 2014 and regimes E\\u2026 https://t.co/U0V97oUwKp\"],[\"An3Anwar\",\"NEU\",\"@CryptoGemsCom 1. Buy #SKUY #SEKUYA @sekuyaofficial \\n2. Hodl enjoy reflection + autoburn\\n3. Repeat\\n\\n#Crypto is Fina\\u2026 https://t.co/C3FEMgLBkT\"],[\"WIONews\",\"NEU\",\"US President Joe Biden has said that the NATO will retaliate if Russia uses chemical weapons in Ukraine.\\u2026 https://t.co/TID4JD0OqH\"],[\"EuromaidanPR\",\"NEG\",\"#Mariupol city council says it now believes about 300 people died in the #Russian air strike on Mariupol's Drama th\\u2026 https://t.co/qAJGudkBfF\"],[\"AmazingUA\",\"NEU\",\"Last night, Hans Zimmer interrupted a live concert in London to show a video of a Ukrainian pianist playing against\\u2026 https://t.co/xawk0Cvnoa\"],[\"An3Anwar\",\"NEU\",\"@cockycanines 1. Buy #SKUY #SEKUYA @sekuyaofficial \\n2. Hodl enjoy reflection + autoburn\\n3. Repeat\\n\\n#Crypto is Finan\\u2026 https://t.co/TwgOTTHfbS\"],[\"An3Anwar\",\"NEU\",\"@AltcoinDailyio 1. Buy #SKUY #SEKUYA @sekuyaofficial \\n2. Hodl enjoy reflection + autoburn\\n3. Repeat\\n\\n#Crypto is Fin\\u2026 https://t.co/UqyoWMSO0h\"],[\"An3Anwar\",\"POS\",\"@rovercrc 1. Buy #SKUY #SEKUYA @sekuyaofficial \\n2. Hodl enjoy reflection + autoburn\\n3. Repeat\\n\\n#Crypto is Financial\\u2026 https://t.co/1iwT5JuFLT\"],[\"An3Anwar\",\"NEU\",\"@XPengMotors 1. Buy #SKUY #SEKUYA @sekuyaofficial \\n2. Hodl enjoy reflection + autoburn\\n3. Repeat\\n\\n#Crypto is Financ\\u2026 https://t.co/y4OjIKsFvJ\"],[\"An3Anwar\",\"NEU\",\"@AltCryptoGems 1. Buy #SKUY #SEKUYA @sekuyaofficial \\n2. Hodl enjoy reflection + autoburn\\n3. Repeat\\n\\n#Crypto is Fina\\u2026 https://t.co/jIVKUZBJob\"],[\"An3Anwar\",\"NEU\",\"@TheMoonCarl 1. Buy #SKUY #SEKUYA @sekuyaofficial \\n2. Hodl enjoy reflection + autoburn\\n3. Repeat\\n\\n#Crypto is Financ\\u2026 https://t.co/x7Osm1UwG5\"],[\"An3Anwar\",\"NEU\",\"@kucoincom 1. Buy #SKUY #SEKUYA @sekuyaofficial \\n2. Hodl enjoy reflection + autoburn\\n3. Repeat\\n\\n#Crypto is Financia\\u2026 https://t.co/3za6QnsrRD\"],[\"An3Anwar\",\"NEU\",\"@davidgokhshtein 1. Buy #SKUY #SEKUYA @sekuyaofficial \\n2. Hodl enjoy reflection + autoburn\\n3. Repeat\\n\\n#Crypto is Fi\\u2026 https://t.co/v17VPL3UKN\"],[\"An3Anwar\",\"NEU\",\"@pretcieux 1. Buy #SKUY #SEKUYA @sekuyaofficial \\n2. Hodl enjoy reflection + autoburn\\n3. Repeat\\n\\n#Crypto is Financia\\u2026 https://t.co/WdRVf6g5bO\"],[\"An3Anwar\",\"NEU\",\"@Crypto__emily 1. Buy #SKUY #SEKUYA @sekuyaofficial \\n2. Hodl enjoy reflection + autoburn\\n3. Repeat\\n\\n#Crypto is Fina\\u2026 https://t.co/E7kPTGDMQH\"],[\"An3Anwar\",\"NEU\",\"@OscarDarmawan 1. Buy #SKUY #SEKUYA @sekuyaofficial \\n2. Hodl enjoy reflection + autoburn\\n3. Repeat\\n\\n#Crypto is Fina\\u2026 https://t.co/77IR1Xhprn\"],[\"An3Anwar\",\"NEU\",\"@ExcavatorSany @YouTube 1. Buy #SKUY #SEKUYA @sekuyaofficial \\n2. Hodl enjoy reflection + autoburn\\n3. Repeat\\u2026 https://t.co/40a9Y1P8V3\"],[\"An3Anwar\",\"POS\",\"@crypto_angelia 1. Buy #SKUY #SEKUYA @sekuyaofficial \\n2. Hodl enjoy reflection + autoburn\\n3. Repeat\\n\\n#Crypto is Fin\\u2026 https://t.co/2uJmTcSjQn\"],[\"An3Anwar\",\"NEU\",\"@BTC_Archive 1. Buy #SKUY #SEKUYA @sekuyaofficial \\n2. Hodl enjoy reflection + autoburn\\n3. Repeat\\n\\n#Crypto is Financ\\u2026 https://t.co/lTXp4b0WLp\"],[\"An3Anwar\",\"NEU\",\"@TheMoonCarl 1. Buy #SKUY #SEKUYA @sekuyaofficial \\n2. Hodl enjoy reflection + autoburn\\n3. Repeat\\n\\n#Crypto is Financ\\u2026 https://t.co/WLzoGizUuH\"],[\"An3Anwar\",\"NEU\",\"@1goonrich 1. Buy #SKUY #SEKUYA @sekuyaofficial \\n2. Hodl enjoy reflection + autoburn\\n3. Repeat\\n\\n#Crypto is Financia\\u2026 https://t.co/cWvsP15Eke\"],[\"An3Anwar\",\"NEU\",\"@XPengMotors 1. Buy #SKUY #SEKUYA @sekuyaofficial \\n2. Hodl enjoy reflection + autoburn\\n3. Repeat\\n\\n#Crypto is Financ\\u2026 https://t.co/WTlgsgF21i\"],[\"kurtcaviezel\",\"NEU\",\"UKRAINE &amp; RUSSIA LIVE:\\nWatch the real cctv-view on Ukraine &amp; Russia.\\nhttps://t.co/aQnn43nkRG\\n\\n#UkraineUnderAtta\\u0441k\\u2026 https://t.co/jJCYzPf7Pf\"],[\"An3Anwar\",\"NEU\",\"@TheCryptoLark 1. Buy #SKUY #SEKUYA @sekuyaofficial \\n2. Hodl enjoy reflection + autoburn\\n3. Repeat\\n\\n#Crypto is Fina\\u2026 https://t.co/y3YDkYQBwJ\"],[\"An3Anwar\",\"NEU\",\"@BTC_Archive 1. Buy #SKUY #SEKUYA @sekuyaofficial \\n2. Hodl enjoy reflection + autoburn\\n3. Repeat\\n\\n#Crypto is Financ\\u2026 https://t.co/2dN0BmsUj9\"],[\"KennethRojasAr1\",\"NEU\",\"Ukraine - Russia War over shadowed the plight of Sri Lanka.\\n#COVID19\\n#tbt\\n#pharmtech\\n#art\\n#MarchMadness\\n#love\\u2026 https://t.co/9gxDL8F6yR\"],[\"Megamiles_\",\"NEU\",\"Western leaders have unveiled new sanctions against Russia and pledged more humanitarian assistance for Ukraine fol\\u2026 https://t.co/WcX4VCXW6n\"],[\"An3Anwar\",\"NEU\",\"@AltcoinWorldcom 1. Buy #SKUY #SEKUYA @sekuyaofficial \\n2. Hodl enjoy reflection + autoburn\\n3. Repeat\\n\\n#Crypto is Fi\\u2026 https://t.co/w8Dztf3INO\"],[\"An3Anwar\",\"NEU\",\"@cockycanines 1. Buy #SKUY #SEKUYA @sekuyaofficial \\n2. Hodl enjoy reflection + autoburn\\n3. Repeat\\n\\n#Crypto is Finan\\u2026 https://t.co/mnKaTFPGg4\"],[\"An3Anwar\",\"NEU\",\"@CryptoGemsCom 1. Buy #SKUY #SEKUYA @sekuyaofficial \\n2. Hodl enjoy reflection + autoburn\\n3. Repeat\\n\\n#Crypto is Fina\\u2026 https://t.co/oE93o3DwlK\"],[\"iAtulKrishan\",\"NEU\",\"Commerce and Industry Minister #PiyushGoyal (\\n@PiyushGoyal\\n) informed the #RajyaSabha that the prices of edible oil\\u2026 https://t.co/e9AEifk2TX\"],[\"belasahgal\",\"NEU\",\"#RussiaUkraineWar day30 .. Darkly fascinating what may follow if #NATO  propelled by #USA steps in\"],[\"Devashishgang\",\"NEU\",\"BETWEEN WAR I SHARING SOMETHING THAT MAKE SOME . #RAJKAPOOR @KremlinRussia_E @KremlinRussia THIS IS TRUE THAT RUSSI\\u2026 https://t.co/TuZE2IrOVT\"],[\"Chris77906503\",\"NEG\",\"Could you please destroy the Crimean bridge...\\nSlava Ukraine!\\n\\n#StandWithUkraine #UkraineUnderAttack\\u2026 https://t.co/ZqxXfDjKA1\"],[\"jenmominheels74\",\"NEU\",\"I live, parent, work &amp; tweet in the core value that spiritual wealth&gt;material wealth; when a majority of beings on\\u2026 https://t.co/n7p0MuvOzx\"],[\"kunalcvrce\",\"NEU\",\"\\\"One two three\\\"- US soldiers counting destroyed Russian tanks in Kyiv , Russia Ukraine war. Video link and subscrib\\u2026 https://t.co/0jwVtWJTet\"],[\"AmazingUA\",\"NEG\",\"russia has killed 135 Ukrainian children\\ud83e\\udd2c\\n\\n#StandWithUkraine #Ukraine\\ufe0f #StopRussia #RussiaUkraineWar\\u2026 https://t.co/3Z1yK4eC7f\"],[\"NikkeiAsia\",\"NEU\",\"Why would Putin consider using chemical weapons and what would that mean? Here are five things to know.\\u2026 https://t.co/IpQQ9Fjl9Z\"],[\"yespunjab\",\"POS\",\"United Sikhs' volunteers support Ukraine war refugees\\n\\n#UnitedSikhs #Refugees #Ukraine #Russia #UkraineRussiaWar\\u2026 https://t.co/FhCfbwgyCK\"],[\"ElCritiq\",\"NEU\",\"@NATO is so united today that the nations have agreed not to interfere in the #RussiaUkraineWar /\\u2026 https://t.co/MK9RWze8Yi\"],[\"1AdamLegends\",\"NEG\",\"Russia using chemical weapon or tactical nuke?\\n\\n#RussiaUkraineWar #nuclearwar #Ukraine #NATO https://t.co/6uDyKZjxMd\"],[\"Sanatan_Prabhat\",\"NEG\",\"Russian citizens suffer 14% increase in the cost of living ! \\n\\nSince #Russia invaded #Ukraine, major powers around\\u2026 https://t.co/s1m5up87Rz\"],[\"Eltoro8888\",\"NEU\",\"GM everyone except Vladimir Putin.\\n\\n#bitcoin #RussiaUkraineWar \\n#cryptocurrencies\"],[\"RussiaVsWorld_\",\"NEU\",\"The National police of Ukraine Deputy chief proposed to exchange him to save kids from Mariupol. Other police offic\\u2026 https://t.co/fFPm2BmhQS\"],[\"careers360\",\"NEU\",\"Indian medical students abroad with incomplete internship due to Covid-19, war to get relief\\n#indianstudents\\u2026 https://t.co/wMlM2Z8oZ2\"],[\"EuromaidanPR\",\"NEU\",\"#Ukraine Fashion Week | Spring 2022\\n#RussiaUkraineWar #UkraineRussiaWar https://t.co/wCfLpCH8rP\"],[\"EconomicTimes\",\"NEU\",\"On the possibility of China providing assistance to Russia, Biden said he had a \\\"very straightforward conversation\\\"\\u2026 https://t.co/3Rso1nTwQY\"],[\"EuromaidanPR\",\"NEG\",\"#Russian army began to have problems with funding.\\nAfter the promised payments to the military of the occupying arm\\u2026 https://t.co/trB2vruEcL\"],[\"Oneindia\",\"NEU\",\"Mariupol: Three people describe escaping from 'hell'  https://t.co/unTYsKNjNy #RussiaUkraineWar\"],[\"mishajedi\",\"NEU\",\"People from #Odessa continue collecting sand for checkpoints in #russiaukrainewar now with @acdc https://t.co/kay9Ydj6T4\"],[\"gdnans\",\"NEU\",\"To exclude #Rusia from the G20 and to give shelter to 1 lakh #Ukrainian refugees in the #USA, in a way, #Ukrainian\\u2026 https://t.co/8Cuujeibx8\"],[\"AmazingUA\",\"NEU\",\"Thousands marched in support of Ukraine in the Bulgarian capital, Sofia.\\n\\nThank you \\ud83d\\ude4f\\ud83c\\udffb\\ud83c\\uddfa\\ud83c\\udde6\\n\\n#StandWithUkraine\\u2026 https://t.co/RQLpRRBrcp\"],[\"_184114_\",\"NEG\",\"All people are the same human beings and It doesn't matter what country or race. You should blame one bad guy and n\\u2026 https://t.co/RLIIbtDoBk\"],[\"Albertofattori\",\"NEU\",\"Russia Struggled to Capture a Ukrainian Town. Intercepted Radio Messages Show Why #Ukraine  #RussiaUkraineWar\\u2026 https://t.co/Aw12SCVJXz\"],[\"indiatvnews\",\"NEG\",\"300 feared dead in #Russianattack on #theatre in Ukraine's #Mariupol \\n\\n#RussiaUkraineWar \\nhttps://t.co/qmG4xgYYPn\"],[\"ukrainewar24\",\"NEU\",\"\\u26a1\\ufe0f The United Nations: We are very concerned about the food stocks in the city of Mariupol.\\n#RussiaUkraineWar\"],[\"poettree2008\",\"NEU\",\"\\ud83d\\udc8c\\ud83d\\udd34\\ud83d\\udc8c\\nChinese FM Wang Yi makes surprise trip to India, first since 2020 border clashes of the two nation. Is this som\\u2026 https://t.co/h5H1szJBpm\"],[\"AnoopChathoth\",\"NEG\",\"The despondent Russian tree will shed a few tears...I mean leaves now. \\nI mean how dumb is this when you sanction a\\u2026 https://t.co/hoBr871vGq\"],[\"Ohauaha\",\"NEU\",\"#Peace  #freedom #LIBERTY #capitalism #RussiaUkraineWar #WWIII #USA #EU #ONEWORLD #WarCrimes #Embargo #NATO\\u2026 https://t.co/8AwzEkxn6k\"],[\"CharlizeTheroff\",\"NEG\",\"you're not coming to Bondi anytime soon girl\\n\\n#RussiaUkraineWar https://t.co/tMnJLnwBJX\"],[\"EDTimesOfficial\",\"NEG\",\"Russia's invasion of #Ukraine has left ghost towns. To know more read @kushan257's article linked down below.\\u2026 https://t.co/4K9yAiY24V\"],[\"HrudayaCK\",\"NEG\",\"How to overdo your Victim status and lose sympathy?- A Manual by Ukraine: Proclaim your racial purity over that of\\u2026 https://t.co/5mSt7xfj3V\"],[\"VoiceofPD\",\"NEG\",\"#US takes the front seat in smearing China over #Ukraine. It's not helpful\\n#Russia #RussiaUkraineWar \\nRead full:\\u2026 https://t.co/tPcRoPILfu\"],[\"HWNewsEnglish\",\"NEG\",\"300 Feared Dead In Mariupol Theatre In Russian Bombing Last Week: Report #UkarineRussia #MariupolBombing\\u2026 https://t.co/fhFihanLrF\"],[\"Jay93231852\",\"NEG\",\"Russias Medvedev considers to bring back death penalty. Wake up Russians! #Russia #Ukraine #Putin #CrimeRegime\\u2026 https://t.co/cxmoY9NqxO\"],[\"Ashish_Matters\",\"NEG\",\"#Zelensky is shouting he killed 15k #Russian soldiers.\\nWhat about millions of your people whome you hv made them ho\\u2026 https://t.co/v6h9rQ1IVy\"],[\"fpjindia\",\"NEG\",\"300 feared dead in #Mariupoltheatrebombing: City officials\\nhttps://t.co/BywQb8dd3g...\\n#RussiaUkraineWar\"],[\"patriot_nft_\",\"POS\",\"We want to prove that NFTs can change the world!\\ud83c\\uddfa\\ud83c\\udde6\\n\\n\\u26a1\\ufe0fBuy our NFT art so we can save lives!\\u26a1\\ufe0f\\n\\n#follow\\u2026 https://t.co/qx7YimgN2r\"],[\"LunarWolfProj\",\"NEG\",\"The pain of war cannot exceed the woe of aftermath #LedZeppelin #BattleOfEvermore #RussiaUkraineWar\"],[\"RussiaVsWorld_\",\"NEU\",\"#Kharkiv  Karazin National University. Faculty of Economics.\\n#Ukraine #UkraineNow #RussiaUkraineWar #Putin_in_Hague\\u2026 https://t.co/RMzYNc8wLO\"],[\"victorysunday2k\",\"NEU\",\"Learn More \\u25b6\\ufe0f #StreamNow \\ud83d\\udd01 Retweet\\n\\n\\ud83d\\udc49https://t.co/h81Iv7ZOY1\\n\\n\\ud83d\\udc49https://t.co/OX4MXiNIVJ\\n\\n\\u2b50https://t.co/L9C9M0AjPD\\u2026 https://t.co/kSv1oA77wL\"],[\"NitinKo66717950\",\"NEG\",\"Only those power enough to hit enemies target &amp; capable to inflecting substantial damage are the countries that wil\\u2026 https://t.co/LwoMzwwJkd\"],[\"kunalcvrce\",\"NEU\",\"War Footage of intense gun battle of #Chechen special forces in #Mariupol , #Russia #Ukraine #war\\u2026 https://t.co/VHjsrgegpU\"],[\"sonic91387026\",\"NEU\",\"@virginiaylau Follow the same rule of #CCPChina to suppress all opposite to #China way on the #RussiaUkraineWar, si\\u2026 https://t.co/RWjBH5Sogp\"],[\"HAGnews2\",\"POS\",\"Miles Guo\\nCCP\\u2019s decoupling from the world would be a blessing for the Chinese people, but we must survive till that\\u2026 https://t.co/rLtywrFmZ6\"],[\"AslanBozkurt209\",\"NEG\",\"#Ukraine army attack on #Russian #Kadyrov man in #UkraineWar #OSINT #BREAKING #SONDAKIKA #Brexit #RussiaUkraineWar https://t.co/dtUjq9XcSQ\"],[\"CountyHallArts\",\"POS\",\"The musician @patrickdextervc shares his #composition, a hymn to their bravery and spirited resistance in the face\\u2026 https://t.co/KjhPYnAzLA\"],[\"NikkeiAsia\",\"NEU\",\"Japan and France freeze investment in Russia's $23bn Arctic LNG 2 project\\n#Ukraine #UkraineRussiaWar #Russia\\u2026 https://t.co/JlQ4YwhbFx\"],[\"waaaaaaatching\",\"NEU\",\"UKRAINE &amp; RUSSIA LIVE:\\nWatch the real cctv-view on Ukraine &amp; Russia.\\nhttps://t.co/2D17z6sBBo\\n\\n#putinsbunker\\u2026 https://t.co/g16TNUL8M8\"],[\"Shaju1624\",\"NEU\",\"Russia's Masterstroke against US Dollar \\ud83d\\ude31 !! End of Petrodollar? Explained in Tamil !!! \\n\\nhttps://t.co/busj8Z2Ipq\\u2026 https://t.co/WFAHWXXV2r\"],[\"post_himalayan\",\"NEG\",\"Russia Has Conducted Over 1804 Air Raids, 467 Missile Attacks, Says Ukraine Govt\\n\\n#Ukraine #UkraineWar\\u2026 https://t.co/9ZP8goSRdT\"],[\"tutu_sat\",\"NEG\",\"@JoeBiden @POTUS  #USA #NATO team's own aprisal for abetting #RussiaUkraineWar putting world to danger. #Russian ma\\u2026 https://t.co/SeHXtS1BRb\"],[\"gdnans\",\"NEU\",\"#NATOSummit will respond' if #Rusia uses chemical weapons in #Ukraina says Joe Biden\\nBy saying this, Russia is bein\\u2026 https://t.co/uFVBWVA1aW\"],[\"DemirciHabip\",\"NEU\",\"The fuel tank was shot by the Russian army near Vasilkov in Kyiv. It has been burning for 18 hours.  The smoke of t\\u2026 https://t.co/Qpykd1qAJ1\"],[\"gg2net\",\"NEU\",\"India\\u2019s Russian arms explain its \\u2018shaky\\u2019 Ukraine stance\\n\\n#India #Russian  #Ukraine #UkraineWar #UkraineRussiaWar\\u2026 https://t.co/J5hI6qlBG1\"],[\"teamcorona04\",\"NEU\",\"#Moscow #European #WWIII #Russia #ChinaRussia  #Kremlin #Ukraine #UkraineRussiaWar #Putin #RussiaUkraineWar \\n\\nThe H\\u2026 https://t.co/SydVlTeiiT\"],[\"Toneskitchen\",\"NEU\",\"Not just the Russians I would want to see on the streets protesting\\u2026 let\\u2019s see the Germans out on mass to tell thei\\u2026 https://t.co/79egQ1wjYn\"],[\"WIONews\",\"NEU\",\"US President Joe Biden to meet US troops deployed in Poland.\\n\\n#RussiaUkraineWar\\n\\nWatch more: https://t.co/dm7SyBIpO6 https://t.co/NyVeOHYMdM\"],[\"SSilencedVoices\",\"POS\",\"An incredible illustration by Oksana Drachkovska for https://t.co/kIU4Kt9KKO - please visit to read the first hand\\u2026 https://t.co/L1A6MSiNbc\"],[\"OleSpan\",\"NEU\",\"#RussiaUkraineWar\\n\\nTrophy T-72B3 in the hands of our fighters https://t.co/5HDb5SDwe6\"],[\"AndyHR99\",\"POS\",\"#WangYi visit to #SouthAsia: An intersting choice of countries by Wang Yi. #OIC48CFM was a last minute decision, sh\\u2026 https://t.co/XD6yc2ygBP\"],[\"Deepika95044538\",\"NEG\",\"@BBCWorld These lines r for Russia there r people dying if u care enough for the living so plz stop this war plzz s\\u2026 https://t.co/dOfdgsUFzs\"],[\"OpenCellarGang\",\"NEU\",\"@OpenCellarGang No War! #78 now on @opensea \\ud83d\\udc49 https://t.co/0fDBNptT1X\\n\\n#RussiaUkraineWar #Chernobyl #Russia #NFTs\\u2026 https://t.co/HjOUp9AHDn\"],[\"Akhlash12\",\"NEU\",\"The president of Ukraine, during the Israeli attack on Gaza in 2021, lamenting over the children of Israel, and ign\\u2026 https://t.co/6ltAUaUsFi\"],[\"AmirAlhaj_ph\",\"NEU\",\"March 25, 2022 Report: Around 600 children with cancer have now been evacuated from Ukraine in order to continue vi\\u2026 https://t.co/ldIk7209Nj\"],[\"NuNurlanax\",\"NEG\",\"Destroyed by Russian missile strikes, the building of the Faculty of Economics of the KhNU.  V.N. Karazin on Mirono\\u2026 https://t.co/njTeqFAVsB\"],[\"TopeTempler\",\"NEU\",\"One month after Russia, Ukraine war, U.S. Army veteran, Adeleke seeks truce\\n\\u2022 7,000 to 15,000 Russian troops dead i\\u2026 https://t.co/yF7SXgtu84\"],[\"torysleazeUK\",\"NEU\",\"Martyn Turner on #BorisJohnson #UkrainianRefugees #Ukraine #RussiaUkraineWar \\u2013 political cartoon gallery in London\\u2026 https://t.co/KwDmkDi57X\"],[\"NvIllustrations\",\"NEU\",\"GM #NFTCommunity \\ud83c\\udf24\\nBecause of the war I had to leave Ukraine to be safe... now I'm in Poland \\ud83c\\uddf5\\ud83c\\uddf1, trying to sell NFT\\u2026 https://t.co/k9IJxvyaff\"],[\"ians_india\",\"NEU\",\"Commerce and Industry Minister #PiyushGoyal (@PiyushGoyal) informed the #RajyaSabha that the prices of edible oils\\u2026 https://t.co/nHQTWSCwED\"],[\"PXP_IS_SCAM\",\"NEG\",\"Urgent any teams on the area? Let's start killing this fuckers From Chech\\u00e9nia \\ud83e\\udd2c\\ud83e\\udd2c\\ud83e\\udd2c\\nFCK pigs From Muslim population,\\u2026 https://t.co/favV57eaVg\"],[\"businessline\",\"NEU\",\"Prices of metals and agricultural commodities are likely to rule higher in the short term as the #RussiaUkraineWar\\u2026 https://t.co/PZHDEofWM4\"],[\"ivyanonymiss001\",\"NEU\",\"@anonymousspart0 @CyberLegionHack @AnonOpsSE @YourAnonNews @YourAnonStory @PucksReturn @Anonymous_Link\\u2026 https://t.co/PgDiFkSbrM\"],[\"Indiannewsnetw2\",\"NEG\",\"Russian strike on Mariupol's Drama theatre in Ukraine kills nearly 300, says reports.\\nA russian aircraft bombed the\\u2026 https://t.co/bt9nj68yC6\"],[\"DeepakHindu35\",\"NEU\",\"The President of Ukraine became emotional while addressing his country yesterday, said that now he does not have mo\\u2026 https://t.co/DKfrD2Bj0t\"],[\"darpananilsingh\",\"NEU\",\"Several estimates from Kyiv and Moscow of foreign fighters joining the #RussiaUkraineWar may be part of a PR exerci\\u2026 https://t.co/v3wzVedxXq\"],[\"Royalahmed77\",\"POS\",\"Can't wait... #TheBatman #ThirtyNine #ThisIsUs #TheUndertaker #Thalapathy #FirstDatesIRL #femboy #FormulaOne #India\\u2026 https://t.co/hBAUbyd7rg\"],[\"AmirAlhaj_ph\",\"NEU\",\"March 25, 2022 Report: Russia considers accepting Bitcoin for oil and gas #Today #Russia #RussiaUkraineWar #Ukraine\\u2026 https://t.co/ijO2tWSP8B\"],[\"EuromaidanPR\",\"NEG\",\"And again the losses of #Russian occupiers. This time - Lieutenant General Yakov Rezantsev, commander of the 49th G\\u2026 https://t.co/ut8aMGIcEI\"],[\"Oneindia\",\"NEU\",\"Ukraine claims to have sunk Russian warship  https://t.co/S7GNllvYTG #RussiaUkraineWar\"],[\"LovejoyCharidz1\",\"NEG\",\"#RussiaUkraineWar: So #Biden warned #XiJinping. The optics &amp; rapportage of their encounter are cringeworthy. The id\\u2026 https://t.co/IrPDvttVQ2\"],[\"Oneindia\",\"NEU\",\"Ukraine war ushers in Europe's 'new normal'  https://t.co/bLNBBqBgBN #RussiaUkraineWar\"],[\"ians_india\",\"NEU\",\"West must stop pressurizing #India against #Russia on #Ukraine\\n\\nRead: https://t.co/BXvSbJwgWn\\n\\n#RussiaUkraineWar\\u2026 https://t.co/EYj2tG8CbN\"],[\"kvhpiyer\",\"NEG\",\"@shaggyf176 @BorisJohnson @ass This is the situation of yours first try to solve this own issue.. Then interfere ot\\u2026 https://t.co/Lp7joK8RFZ\"],[\"HowdyHim\",\"NEU\",\"Retired Army general: \\u2018Very significant\\u2019 shift in Ukrainian counteroffen... https://t.co/yFPMBpnkbI via @YouTube\\u2026 https://t.co/rOX10xcd20\"],[\"CNNnews18\",\"NEU\",\"On Ukraine crisis, we discussed our respective approaches &amp; perspectives &amp; agreed that diplomacy and dialogue must\\u2026 https://t.co/N0Nts7UweU\"],[\"gahamalian\",\"NEU\",\"As per CNN journalist scoop, #Ukraine has told the US it needs 500 Stinger missiles &amp; 500 Javelin missiles PER DAY,\\u2026 https://t.co/AqC78LEJcQ\"],[\"ViktorKido789\",\"NEU\",\"Slovak boy practice nucleral weapons for a russia tanks. #Ukraina #RussiaUkraineWar #nowar #joke https://t.co/j44neTJ6O8\"],[\"MonicaLMarks\",\"NEU\",\"Some of the most sensitive reporting I\\u2019ve encountered re #RussiaUkraineWar is from @TheNationalNews Erin Brown, flu\\u2026 https://t.co/ZdHD9agkpu\"],[\"sirajnoorani\",\"NEU\",\"#Ukrainian authorities have claimed that #Russian troops were not just laying down arms but were moving over to fig\\u2026 https://t.co/xPXADe6DaK\"],[\"sirajnoorani\",\"NEU\",\"\\ud83c\\uddfa\\ud83c\\udde6Ukrainian drone operator performing reconnaissance mission around Makariv village.\\n\\n#Ukraine #Ukrainian #Ukriane\\u2026 https://t.co/JK07NTzENY\"],[\"Natsikap847\",\"NEG\",\"If Biden says that Russia will use Chemical weapons, is it a sign of US led NATO planning a false flag operation?\\u2026 https://t.co/8h5EuiFFSK\"],[\"timesofindia\",\"NEG\",\"#RussiaUkraineWar \\n\\n300 feared dead in #Russian strike on Mariupol theatre \\n\\nRussia-Ukraine war LIVE updates:\\u2026 https://t.co/UB7LbvIohs\"],[\"Sagar4000\",\"NEG\",\"Lol \\ud83d\\ude02 this is why should never trust the West #RussiaUkraineWar https://t.co/SKoX8cnTUy\"],[\"ians_india\",\"NEU\",\"#Ukrainian authorities have claimed that Russian troops were not just laying down arms but were moving over to figh\\u2026 https://t.co/g4DPtsXWnI\"],[\"AbdulRehman0292\",\"NEU\",\"Putin pushing for accepting only Rubles for gas exports, tonight's announcement  by Biden &amp; EU might be the most im\\u2026 https://t.co/c91cHyCqG9\"],[\"Gugugugagaga3\",\"NEG\",\"Lukyanivka after a Ukrainian\\n\\nCounter offensive\\nSeveral Russian Tanks and armored vehicles destroyed \\nSeveral Equip\\u2026 https://t.co/0cXEbyePSO\"],[\"Eacnoii07\",\"NEG\",\"Pace!!!\\n#\\u043d\\u0435\\u0442\\u0432\\u043e\\u0439\\u043d\\u0435 #RussianUkrainianWar #RussiaUkraineWar  #Ucrainaunderattack #pace #StopWarInUkraine\\u2026 https://t.co/t0TDpkBPTO\"],[\"FreeAgentBobby\",\"NEU\",\"786\\n\\u26a0\\ufe0fRussian/Ukrainian Activity News\\u26a0\\ufe0f\\n#RussiaUkraineWar #Russian #UkraineWar #Emergency #Ukraine #Russia \\n\\nWow Mo\\u2026 https://t.co/LNkk5CZANa\"],[\"Eightcap_aufx\",\"NEU\",\"EU strikes gas deal with the U.S. as it seeks to cut its reliance on Russia\\n\\n#USA #EU #gas #energy #RussiaUkraineWar\"],[\"THIS_IS_UKR\",\"NEG\",\"\\u26a1#Switzerland freezes $6.17 billion of #Russian assets subject to sanctions.\\n\\nLOOOL\\ud83d\\udc4a\\ud83c\\uddfa\\ud83c\\udde6\\n\\n#RussiaUkraineWar\\u2026 https://t.co/5FIx4qgiXS\"],[\"TheNationalNews\",\"NEU\",\"Animal rescuers helped bring lion Simba and wolf Akyla to safety from war-torn Ukraine \\n\\nLatest updates on\\u2026 https://t.co/SeFTh1nt6t\"],[\"Mohit3110mm\",\"NEU\",\"Even before the war, several governments were looking to play a more active role in digital currencies and define t\\u2026 https://t.co/ryhC7tylbT\"],[\"FreeAgentBobby\",\"NEU\",\"786\\n\\u26a0\\ufe0fRussian/Ukrainian Activity News\\u26a0\\ufe0f\\n#RussiaUkraineWar #Russian #UkraineWar #Emergency #Ukraine #Russia \\n\\nDid i\\u2026 https://t.co/2d8QIsJJN0\"],[\"Gugugugagaga3\",\"NEU\",\"\\ud83c\\uddf7\\ud83c\\uddfa\\ud83c\\uddfa\\ud83c\\udde6 Armored vehicle \\\"Typhoon-K\\\" of the Russian military in Mariupol.\\n#Russia \\n#Ukraine\\n#UkraineUnderAtta\\u0441k\\u2026 https://t.co/mRiUxgNqbN\"],[\"Gugugugagaga3\",\"NEU\",\"\\ud83c\\uddf7\\ud83c\\uddfa\\ud83c\\uddfa\\ud83c\\udde6 New satellite images of the liberated Izyum\\n#Russia \\n#Ukraine\\n#UkraineUnderAtta\\u0441k\\n#UkraineRussianWar\\u2026 https://t.co/h7515K81K9\"],[\"Gugugugagaga3\",\"NEG\",\"\\ud83c\\uddf7\\ud83c\\uddfa Criticizing the authorities is normal, but pursuing an anti-state line during a military special operation is a\\u2026 https://t.co/UdoTCnVO0q\"],[\"thenewztub\",\"NEU\",\"Japan will ban export of luxury goods to Russia\\n\\n#Russia #Japan #Sanctions #Ukraine #UkraineRussianWar\\u2026 https://t.co/6y5EVFzgqR\"],[\"Gugugugagaga3\",\"NEU\",\"\\ud83c\\uddf7\\ud83c\\uddfa\\u26a1\\ufe0fFSB officers detained a resident of Khabarovsk for attempting to transfer classified information to the special\\u2026 https://t.co/ILsyPEvzu7\"],[\"THIS_IS_UKR\",\"NEG\",\"\\u26a1Developers began to stop projects throughout #Russia. About 40% of construction companies have begun to freeze the\\u2026 https://t.co/MhSgASqi4V\"],[\"gbomagazine\",\"NEU\",\"How Russia-Ukraine war saw use of open-source intelligence\\n\\nThese enthusiasts have been scouring through\\u2026 https://t.co/CyECHQhGiB\"],[\"PeterBiJr\",\"NEG\",\"I have no sympathy for nazi, neo-nazi regardless if their task is to \\u201cprotect\\u201d your land. You simply don\\u2019t assign a\\u2026 https://t.co/sdxpRBOdc4\"],[\"KharyachiDuniya\",\"NEG\",\"The biggest benefit to mankind from this #RussiaUkraineWar is cancel culture will get cancelled. Multipolar world will emerge.\"],[\"WaiTar2\",\"NEU\",\"#RussiaUkraineWar #Ukrainian #Kyiv #Kharkiv #UkraineUnderAttack God save Ukraine! We stand with Ukraine https://t.co/HSHowCB8uE\"],[\"gbomagazine\",\"NEU\",\"How Russia-Ukraine war saw use of open-source intelligence\\n\\nThese enthusiasts have been scouring through\\u2026 https://t.co/CO2iIiaW3f\"],[\"WeForNews\",\"NEU\",\"\\u2018Russian troops being told war has to be over by May 9\\u2019\\n\\n#Russia #Ukraine #RussiaUkraineWar \\nhttps://t.co/asJxnXnBjF\"],[\"HKPOTATO4\",\"NEU\",\"March 24, #USA announced they will take in up to 100,000 #Ukrainian #refugees, as well as other people fleeing\\u2026 https://t.co/E0bSLkcCbG\"],[\"FreeAgentBobby\",\"NEU\",\"786\\n\\u26a0\\ufe0fRussian/Ukrainian Activity News\\u26a0\\ufe0f\\n#RussiaUkraineWar #Russian #UkraineWar #Emergency #Ukraine #Russia \\n\\nSource\\u2026 https://t.co/gSMMzJI4kb\"],[\"JSBNKJM\",\"POS\",\"@MinhazMerchant @narendramodi Peace on borders will bring prosperity to 2 billion+ people.\\n#India #ChinaRussia\\u2026 https://t.co/5VYLAku5hF\"],[\"RabinTofsla\",\"NEU\",\"#RussiaUkraineWar as someone who met Elvira Nabiullina on several occasions I want to make it clear to everyone her\\u2026 https://t.co/9DVWkwdVKK\"],[\"ClearBlueSee\",\"NEG\",\"Ukrainian Forces have cleared Lukyanivka near Kyiv - Destroyed a Russian base, killed 40, retrieved a range of equi\\u2026 https://t.co/KTin6hMkVf\"],[\"Gugugugagaga3\",\"NEU\",\"\\ud83c\\uddf7\\ud83c\\uddfa\\ud83c\\uddfa\\ud83c\\udde6 Iskander OTRK crews during a special operation in Ukraine, it was their high-precision strike that destroyed t\\u2026 https://t.co/oO0HL8InGZ\"],[\"kk131066\",\"NEU\",\"https://t.co/ey1UAzHL4G\\n\\nThe US has increased its global share of arms exports to 37% during the last five years\\u2026 https://t.co/SEEO4bRsQA\"],[\"sirajnoorani\",\"NEU\",\"General Staff of the Armed Forces of #Ukraine said there was an \\\"ongoing propaganda campaign\\\" among the #Russian tr\\u2026 https://t.co/Y9MpAGz4wV\"],[\"mythorus\",\"NEU\",\"Hello, world. I am Ukraine https://t.co/61uR3v6qrE\\n\\n#RussiaUkraineWar #StopTheWar #StandWithUkraine \\n\\ud83d\\ude22\"],[\"Gugugugagaga3\",\"NEG\",\"\\ud83c\\uddf7\\ud83c\\uddfa\\ud83c\\uddfa\\ud83c\\udde6\\u2757\\ufe0fKharkov is shaken by powerful explosions\\n#Russia \\n#Ukraine\\n#UkraineUnderAtta\\u0441k\\n#UkraineRussianWar\\u2026 https://t.co/VHnK9sRICz\"],[\"Cartoon4sale\",\"NEU\",\"Martyn Turner on #BorisJohnson #UkrainianRefugees #Ukraine #RussiaUkraineWar \\u2013 political cartoon gallery in London\\u2026 https://t.co/QuAsA35pvz\"],[\"THIS_IS_UKR\",\"NEG\",\"\\u26a1Russian politician Vladimir #Zhirinovsky died. Zhirinovsky spent the last day in a coma. Another idiot who threate\\u2026 https://t.co/XvFEvyQ0aw\"],[\"EoinKr\",\"NEG\",\"Putin deliberately targets hospitals and civilians in Mariupol. \\n\\nMy latest cartoon for the @med_indonews\\u2026 https://t.co/RUnSEcMzwQ\"],[\"FreeAgentBobby\",\"NEU\",\"786\\n\\u26a0\\ufe0fRussian/Ukrainian Activity News\\u26a0\\ufe0f\\n#RussiaUkraineWar #Russian #UkraineWar #Emergency #Ukraine #Russia \\n\\nSource\\u2026 https://t.co/CJt82cNd5G\"],[\"GelaGetnet\",\"NEU\",\"Fight for your convictions!\\n#Russia #Ukraine #RussiaUkraineWar https://t.co/97nA3MJBdX\"],[\"Gugugugagaga3\",\"NEU\",\"\\ud83c\\uddfa\\ud83c\\uddf8\\ud83c\\uddfa\\ud83c\\udde6\\u26a1\\ufe0fAccording to the wishlist, Ukraine has asked for close air support aircraft (possibly Su-25), and other aircr\\u2026 https://t.co/8kNVGpgao8\"],[\"Gugugugagaga3\",\"NEU\",\"\\ud83c\\uddfa\\ud83c\\uddf8\\ud83c\\uddfa\\ud83c\\udde6\\u26a1\\ufe0fAs per CNN journalist scoop, Ukraine has told the US it needs 500 Stinger missiles &amp; 500 Javelin missiles PER\\u2026 https://t.co/BkciWNi01T\"],[\"ScopalVideo\",\"NEU\",\"Uncle Vanya Takes Over From Ronald McDonald #Russia #Ukraine #RussiaUkraineWar #Business #Sanctions\\u2026 https://t.co/UE3BBPvBjo\"],[\"Gugugugagaga3\",\"NEG\",\"\\ud83c\\uddf7\\ud83c\\uddfa\\ud83c\\uddfa\\ud83c\\udde6\\u26a1\\ufe0fUkrainian military facility in Dnipropetrovsk was hit by two Russian missiles\\n\\n#Russia \\n#Ukraine\\u2026 https://t.co/WkRudZLznK\"],[\"Cartoon4sale\",\"NEU\",\"David Rowe on #NATO #JoeBiden #Putin #Ukraine #RussiaUkraineWar \\u2013 political cartoon gallery in London\\u2026 https://t.co/TJvgxTHSVD\"],[\"PXP_IS_SCAM\",\"NEU\",\"The outskirts of Irpen, for which there are heavy battles. Video from a drone  view.\\n#UkraineRussiaWar\\u2026 https://t.co/mB4luZZVds\"],[\"aspid_meh\",\"NEG\",\"What a timeline we live in:\\n@UN is useless\\n@NATO is spineless\\n@RedCross is moralless \\n#StandWithUkraine\\u2026 https://t.co/C2Zn2Rd9qw\"],[\"OptimistNewz\",\"NEU\",\"More than 4.3 million children have been displaced since Russia invaded Ukraine\\n#RussiaUkraineWar\\u2026 https://t.co/1lWt2k97Ei\"],[\"Gugugugagaga3\",\"NEU\",\"A Russian BTR hit by the Ukrainian Military and the Azov \\n#Russia \\n#Ukraine\\n#UkraineUnderAtta\\u0441k\\n#UkraineRussianWar\\u2026 https://t.co/Jc5L0f7pF8\"],[\"FreeAgentBobby\",\"NEU\",\"786\\n\\u26a0\\ufe0fRussian/Ukrainian Activity News\\u26a0\\ufe0f\\n#RussiaUkraineWar #Russian #UkraineWar #Emergency #Ukraine #Russia \\n\\nSource\\u2026 https://t.co/Z6OWPh6oCi\"],[\"imgorakhnath\",\"NEU\",\"#Russian BTR-82A in #Mariupole\\n#Ukraine\\n#RussiaUkraineWar https://t.co/iYLrHPRvzq\"],[\"JOURNALISTJIT14\",\"NEG\",\"Kyiv region,destroyed Russian tanks\\n#RussiaUkraineWar \\n#Russia \\n#UkraineRussianWar \\n#Ukraine \\n#Zelinsky \\n#Putin https://t.co/hlsryLLJf1\"],[\"Gugugugagaga3\",\"NEU\",\"A Russian BTR hit by the Ukrainian Military and the Azov \\n#Russia \\n#Ukraine\\n#UkraineUnderAtta\\u0441k\\n#UkraineRussianWar\\u2026 https://t.co/49pxwBNA26\"],[\"Gugugugagaga3\",\"NEU\",\"\\ud83d\\udccdChernihiv region\\n\\nRussian equipment in the hands of Ukrainian SF\\n#Russia \\n#Ukraine\\n#UkraineUnderAtta\\u0441k\\u2026 https://t.co/NuaczJpWjQ\"],[\"JOURNALISTJIT14\",\"NEU\",\"Footage of a large fire at a bakery in the Sverdlovsk region.According to the Ministry of Emergencies, containers w\\u2026 https://t.co/m5sA5lEH84\"],[\"post_himalayan\",\"NEU\",\"Japan Bans 81 Russian Organisation, Unveils New Sanctions\\n\\n#Japan #Sanctions #Ukraine #UkraineWar #Russia\\u2026 https://t.co/qu9Jb736E1\"],[\"PaulNeilan\",\"NEU\",\"BREAKING NEWS: Former Trump NSA  chief Mike Flynn has volunteered to train Russian troops. #RussiaUkraineWar\"],[\"JOURNALISTJIT14\",\"NEU\",\"In the Bryansk region, near the town of Klintsy, a UJ-22 Airborne UAV manufactured by Ukrjet NPP was shot down.\\u2026 https://t.co/givARajNgk\"],[\"NikkeiAsia\",\"NEG\",\"UKRAINE WAR LATEST | Russia says its missiles destroyed fuel depot outside Kyiv\\nhttps://t.co/9wfVppwrAv\\n#Ukraine\\u2026 https://t.co/pBXGCJcaYv\"],[\"Johannabotta\",\"NEG\",\"@WillemMarx  latest on The Mass exodus of Ukrainians strains capacity of neighboring Moldova\\u2026 https://t.co/TzgMqIP44g\"],[\"ETNOWlive\",\"NEU\",\"#GlobalNews | US aims to supply #EuropeanUnion with at least 15 BCM of extra #LNG in 2022; US, EU reach #energy sup\\u2026 https://t.co/ePWPHjnNWv\"],[\"poettree2008\",\"NEU\",\"\\ud83c\\udde7\\ud83c\\udde9\\ud83d\\udd4a\\ufe0f\\ud83c\\udde7\\ud83c\\udde9\\n...And, at last, Dhaka voted against Russia's Ukraine War.\\n\\ud83c\\udde7\\ud83c\\udde9\\ud83d\\udd4a\\ufe0f\\ud83c\\udde7\\ud83c\\udde9\\n#RussiaUkraineWar \\n#Dhaka\\n#Bangladesh https://t.co/nnlJnDt7pg\"],[\"Forextr21076685\",\"NEU\",\"Gold pushed by #RussiaUkraineWar update. \\nMy advice, take it slowly today.. gbp and eur pairs also affected. \\nFor m\\u2026 https://t.co/aEwdo8pOkG\"],[\"OptimistNewz\",\"NEU\",\"After two years of crisis with Covid, the average rate of growth of world economy will be 2.6 per cent\\n@UNCTAD\\u2026 https://t.co/R8kHgFnGXH\"],[\"yespunjab\",\"NEU\",\"West must stop pressurizing India against Russia on Ukraine - by Kanwal Sibal\\n\\n#India #Russia #Ukraine #West\\u2026 https://t.co/oWG5t0IlWS\"],[\"eliudkibii\",\"NEG\",\"Why #Africa does not appear to be \\u2018standing with #Ukraine\\u2019 https://t.co/RMF0p0hJjE via @thestarkenya @gathara #RussiaUkraineWar #Siasa\"],[\"PXP_IS_SCAM\",\"NEG\",\"#UkraineRussiaWar #RussiaUkraineWar #StopRussia\\n#UkraineUnderAttack #war\\n#GenocideOfUkrainians #Ukraine\\ufe0f\\n\\u26a1\\ufe0fLviv vol\\u2026 https://t.co/9y11YOfd6g\"],[\"ZiggelH\",\"NEG\",\"#RussiaUkraineWar #RussianWarCrimes #RussiaTerroristCountry In the Osnovyansky district of Kharkiv, Russian troops\\u2026 https://t.co/jmnYJHVwYR\"],[\"sniraj_official\",\"NEU\",\"Watch Fast - https://t.co/UcUoWzvcFb \\n\\n#Ukraine #Russia #RussiaUkraineWar #Modiji\"],[\"uncensoredlive\",\"NEU\",\"#Russia removes U.S. diplomats from its soil\\nhttps://t.co/a8KUkC2YJ0\\n#RussiaUkraineWar #Americans #WW3 #RussiavsUS\\u2026 https://t.co/FJTQBJ1mvv\"],[\"DerHaidWachst\",\"NEG\",\"Explosionen in #Charkow\\n#Ukraine #UkraineWar #RussiaUkraineWar #UkraineRussiaWar https://t.co/emVv8XywBQ\"],[\"SalmanIKR\",\"NEG\",\"Russian soldiers refuse to take their dead soldiers with them and leaving them behind to be eaten by stray dogs , u\\u2026 https://t.co/8oa9CG3W8t\"],[\"the_newsmen\",\"NEU\",\"General Staff of the Armed Forces of Ukraine said there was an \\\"ongoing propaganda campaign\\\" among the Russian troo\\u2026 https://t.co/ts32MAFFhD\"],[\"theage\",\"NEG\",\"The TV camera operators risking their lives for crucial footage from Ukraine and other war zones in recent decades\\u2026 https://t.co/1phg1Gef2i\"],[\"giovanni_farese\",\"POS\",\"Look forward to hosting American Marshall Memorial Fellows @gmfus in #Rome #Italy next week - and for a week - at a\\u2026 https://t.co/T1iDJ5aI1d\"],[\"PaulDavis1971\",\"NEG\",\"@indiagovernment why are you DIRECTLY FUNDING RUSSIA\\u2019s INVASION OF UKRAINE by massively increasing purchases of DIS\\u2026 https://t.co/TVfGYOu3ot\"],[\"NH_India\",\"NEU\",\"General Staff of the Armed Forces of #Ukraine said there was an \\\"ongoing propaganda campaign\\\" among the Russian tro\\u2026 https://t.co/CZTKZCZYhh\"],[\"UnitDAO\",\"NEU\",\"#Europe was barely experiencing a fragile economic recovery before the Russo-Ukranian war in the neighborhood made\\u2026 https://t.co/0V1WNMJL5j\"],[\"PXP_IS_SCAM\",\"NEU\",\"The Antonov plant has taken the initiative to restore the legendary Ukrainian aircraft An-225,  Director Sergey Byc\\u2026 https://t.co/ytB77vqwjl\"],[\"CeciliaCmaida\",\"POS\",\"@nexta_tv Wow, we're seeing so many courageous Ukrainians.  I think NATO should accept them on basis of the people\\u2026 https://t.co/8TxScD1O6W\"],[\"Bearded_Guy\",\"POS\",\"COMPUTER! Enhance!\\n#Ukraine #RussiaUkraineWar @Ukraine https://t.co/IdoKwCZRIU\"],[\"TheSummerNews2\",\"NEU\",\"Sitting around the rubble still holds the ground to soothe with strings.\\n#thesummernews #Ukraine\\u2026 https://t.co/7iaWOyYY0v\"],[\"bs_mathuria\",\"NEU\",\"@pushpendrakum #Bitcoin  price moving up again.  Russia became so desperate they are accepting Bitcoin payment for\\u2026 https://t.co/mZtYCVIzIq\"],[\"vlado1978\",\"NEG\",\"Putin\\u2019s bombs and missiles rain down, but he will never destroy Ukraine\\u2019s culture #russiaukrainewar  https://t.co/MoU6x4x4aR\"],[\"newsindiaspace\",\"NEU\",\"Join Newsindia Whatsapp Group: https://t.co/8AXwMIsAvs\\n\\n#newsindia #petroldieselprice #UNGA #cmstalin\\u2026 https://t.co/sv4NvoGyfu\"],[\"IndiaAheadNews\",\"NEG\",\"With the #RussiaUkraineWar dragging on, @NATO and US believe that Putin\\u2019s threat of using nuclear weapons is not a\\u2026 https://t.co/MGLU4sZpUC\"],[\"adelonas\",\"NEG\",\"\\ud83c\\uddfa\\ud83c\\uddf8 volunteer fighting in Ukraine \\ud83c\\uddfa\\ud83c\\udde6 just destroyed russian fascist \\ud83c\\uddf7\\ud83c\\uddfaBMP and say:Welcome to America!!! #American\\u2026 https://t.co/wDgwgbvfjs\"],[\"Israelbrazil3\",\"NEG\",\"The War: It has been month since Russian began its full-scale invasion of Ukraine\\n\\u2022\\n\\ud83e\\udd0d\\ud83c\\uddfa\\ud83c\\udde6\\ud83e\\udd0d\\nUkraine\\n\\u2022\\n#StopRussia\\n#war\\u2026 https://t.co/xEuLFTzHgc\"],[\"MaGioZal\",\"NEU\",\"The True Cost of Arming #Ukraine To Fight The #RussianInvasion \\n@BusinessInsider \\n#RussiaUkraineWar \\n\\nhttps://t.co/4XUObVsuSK\"],[\"yaao2014\",\"NEU\",\"#RussiaUkraineWar\\nThe Russians have already used Chemical weapons, namely white phosphorus.\\nhttps://t.co/mDaFlu1r3b\"],[\"Israelbrazil3\",\"NEG\",\"The War: It has been month since Russian began its full-scale invasion of Ukraine\\n\\u2022\\n\\ud83e\\udd0d\\ud83c\\uddfa\\ud83c\\udde6\\ud83e\\udd0d\\nUkraine\\n\\u2022\\n#StopRussia\\n#war\\u2026 https://t.co/Ib4tWlrDII\"],[\"dna\",\"NEU\",\"US declares sanctions against 300 members of Russia's state Duma. \\n\\n#UkraineRussianWar | #RussiaUkraineWar\\u2026 https://t.co/c7HRNuy5MA\"],[\"Israelbrazil3\",\"NEG\",\"The War: It has been month since Russian began its full-scale invasion of Ukraine\\n\\u2022\\n\\ud83e\\udd0d\\ud83c\\uddfa\\ud83c\\udde6\\ud83e\\udd0d\\nUkraine\\n\\u2022\\n#StopRussia\\n#war\\u2026 https://t.co/Crb4Jg77u2\"],[\"meonewsen\",\"NEU\",\"US Secretary of State Antony Blinken will travel to #Israel, #Morocco and #Algeria March 26-30 as the #Biden admini\\u2026 https://t.co/XR4gHJ36Yu\"],[\"PXP_IS_SCAM\",\"NEU\",\"\\u203c\\ufe0fBEWARE! VIDEO 18+!\\u26a0\\ufe0f\\nvideo name: \\n\\\"Why give birth to sons in Russia?\\\"\\n\\nvideo is gaining popularity on the net, wh\\u2026 https://t.co/eguvC6CfgZ\"],[\"defenseworld\",\"NEG\",\"#Biolab #BioWeapons #RussiaUkraineWar #UkraineInvasion #RussianInvasion #UkraineRussia #UkraineUnderAttack #StopWar\\u2026 https://t.co/EG6ywxW2W3\"],[\"TheSagarKumar\",\"NEU\",\"Bombing in #Kiev (#Ukriane)\\nand the region. The first #Video is a #TSARBLAST.\\n\\n#UPD: First #VIDEOS of the hit on th\\u2026 https://t.co/uln6Y3U94P\"],[\"kunalcvrce\",\"NEU\",\"Another footage of #American soldiers fighting alongside Ukraine soldier in #Kyiv , #Russia #Ukraine #war . Video l\\u2026 https://t.co/04oTjapRHa\"],[\"GelaGetnet\",\"NEU\",\"On March 22, 2022, the Institute of Europe of the RAS held a conference \\u201cThe #China Factor in the #Mediterranean\\u201d.\\u2026 https://t.co/vKG5SB6A1c\"],[\"ani_digital\",\"NEU\",\"US announces sanctions against over 300 members of Russia's Duma\\n\\nRead @ANI Story | https://t.co/EMmVFTaY7A\\n#USA\\u2026 https://t.co/jtdDFfjzC1\"],[\"hizbie_\",\"NEU\",\"Head of the crew Nikita spoke about the Pantsir anti-aircraft missile and gun system and its capabilities. \\\"If the\\u2026 https://t.co/oiQ7DQyxFh\"],[\"hizbie_\",\"NEG\",\"No one greeted #British Prime Minister Boris Johnson at the #NATO summit - simply no one even paid attention to him\\u2026 https://t.co/u4wCJPNiZD\"],[\"4n4lisis\",\"NEU\",\"From the below video, just extracted two iconic screenshots. \\n\\nNote the victory sign: \\u270c\\ufe0f\\n\\n#Russia #Rusia #Russie\\u2026 https://t.co/3lctV0DLLu\"],[\"PXP_IS_SCAM\",\"NEU\",\"\\u201cExtremist\\u201d literature includes school textbooks on the history of Ukraine, scientific and popular historical liter\\u2026 https://t.co/jWXpJpcJ5y\"],[\"IsraelHayomEng\",\"NEU\",\"From fleeing Ukraine to winning the #Jerusalem marathon https://t.co/Yu01yBfUT3\\n(Photo: Oren Aharoni)\\u2026 https://t.co/ctvA1HkEgT\"],[\"ET_RISE\",\"NEU\",\"There is a rise in demand for Indian atta and maida, too.\\n#wheat #RussiaUkraineWar @PiyushGoyal @ChouhanShivraj\\u2026 https://t.co/ILHYstIFwy\"],[\"DFRAC_org\",\"NEG\",\"#FactCheck Fake picture shared with the claim that they are Ukrainian firefighters.\\n\\nhttps://t.co/RhaSaBFZuH\\u2026 https://t.co/3jfaUsFx3D\"],[\"officejjsmart\",\"POS\",\"The North Koreans probably have the best Military PR department for the Tik Tok era. #NorthKorea #RussiaUkraineWar\\u2026 https://t.co/bHiKZc05yS\"],[\"gbomagazine\",\"NEG\",\"How Russia-Ukraine war is affecting supply chain of key materials\\n\\nThe crisis if it prolongs may even trigger a fam\\u2026 https://t.co/0gfQphrvbx\"],[\"ians_india\",\"NEU\",\"General Staff of the Armed Forces of #Ukraine said there was an \\\"ongoing propaganda campaign\\\" among the #Russian tr\\u2026 https://t.co/2Qsl57sNaz\"],[\"WIONews\",\"NEU\",\"Russian Defence Minister Sergei Shoigu has not been seen in public since March 11.\\n\\nWhere is Putin\\u2019s Defence Chief?\\u2026 https://t.co/nX0EMyRh1w\"],[\"PatilSushmit\",\"NEU\",\"#BREAKING : #Hungary has rejected #Ukraine's call to allow arms supplies through its territory and refuse #Russian\\u2026 https://t.co/s6zHMvb8Ot\"],[\"PXP_IS_SCAM\",\"NEU\",\"Residents of Grozny said that their children were forced to participate in prayer for the Kadyrovites in the main m\\u2026 https://t.co/8EiSXpzpVi\"],[\"IndIndependent\",\"NEU\",\"https://t.co/4MaVMP7CiB\\nIn a bid to reduce dependency on Russian fossil fuels, the E.U. will get 15 BCM more LNG fr\\u2026 https://t.co/1o5Dw18TnI\"],[\"Valueteofficial\",\"NEU\",\"Bitcoin is the neutral money and  eventually everyone will start coming around. \\n#Bitcoin \\n#RussiaUkraineWar\\u2026 https://t.co/2btiDCpTWI\"],[\"ruby26_lilith\",\"NEG\",\"Since weeks nothing is happening, it\\u2019s completely occupied!! This is devastating \\ud83d\\ude22\\ud83d\\ude22\\ud83d\\ude22 @ZelenskyyUa @ABaerbock\\u2026 https://t.co/MxZdNIPXMT\"],[\"Lamiya_Adilgizi\",\"NEG\",\"#RussiaUkraineWar - \\\"I\\u2019ve covered Crimea, Donbas, Turkey-Syria, and Myanmar. But this war is unpredictable and dead\\u2026 https://t.co/xesBOpqSjy\"],[\"manGo2Spicy\",\"NEG\",\"why all countries of the world didn't raise a single question against USA invation on syria,afganistan,iraq. are th\\u2026 https://t.co/mh16PJQFwO\"],[\"KatyaMK26\",\"NEG\",\"Where will he use it? Probably not in #Ukraine, but somewhere crowded in #Poland,\\\" Clark said.\\n#PutinWarCrimes\\u2026 https://t.co/6UuTS7l5T8\"],[\"PatilSushmit\",\"NEU\",\"#BREAKING : \\u201cThere is not a single person in #NATO or in the #G7 who is against #Russia or the #Russians,\\u201d The Brit\\u2026 https://t.co/DHDTea4q8y\"],[\"NH_India\",\"NEG\",\"#Russia says destroyed largest military #fuel storage site in #Ukraine \\n#RussiaUkraineWar \\nhttps://t.co/Q0qjpRt90p\"],[\"whattheshare\",\"NEU\",\"@BluePolitica @MarexMijatovic We all saw how that went down! It seems #Zelenskyy's fate will be remarkably similar\\u2026 https://t.co/JHlwN7Dyc3\"],[\"IndiaToday\",\"NEU\",\"On Thursday, local Ukrainian authorities have left the city as Russian forces entered central Mariupol, the port ci\\u2026 https://t.co/L4YdAu4PNX\"],[\"PXP_IS_SCAM\",\"NEU\",\"Nord Stream 2 will file for bankruptcy.\\nThis is reported by the newspaper Stuttgarter Zeitung with reference to the\\u2026 https://t.co/T6nEM2zizW\"],[\"DhanukaDickwel1\",\"NEU\",\"Domino effects in conflicts. \\nAleppo fell , the rest of the Syrian rebel strongholds followed.\\nMariupol falls - the\\u2026 https://t.co/kzec6WF3Ap\"],[\"OleSpan\",\"NEU\",\"#RussiaUkraineWar\\n\\nA beautiful video of the transformation of Russian armored vehicles into a pile of scrap metal\\ud83c\\uddfa\\ud83c\\udde6 https://t.co/XPfYZIVqNW\"],[\"yespunjab\",\"NEU\",\"Fund run by Biden's son involved in financing biolabs in Ukraine: Russia\\n\\n#JoeBiden #HunterBiden #RosemontSeneca\\u2026 https://t.co/3HoFx37V4x\"],[\"PXP_IS_SCAM\",\"NEU\",\"This is Nina from Kharkov. She is a professional pharmacist. Before the shelling and bombing of Ukrainian cities by\\u2026 https://t.co/6wI64AzwSg\"],[\"OleSpan\",\"NEU\",\"#RussiaUkraineWar\\n\\nKyiv's territorial defense is also preparing to meet with the Russian occupiers. https://t.co/TpuRpkXSBg\"],[\"whattheshare\",\"NEG\",\"@BluePolitica @MarexMijatovic We all saw how that went down! Sadly it seems #Zelenskyy's fate will be remarkably si\\u2026 https://t.co/aqfeFzM2zc\"],[\"PXP_IS_SCAM\",\"NEU\",\"Russian officer appealed to the Russian military and called for unity against the \\\"Putin regime\\\"\\n\\nIn Ukraine, the L\\u2026 https://t.co/ZEwQjQ06OW\"],[\"theindiannewsin\",\"NEG\",\"Russia says destroyed largest military fuel storage site in Ukraine.\\n\\n#RussiaUkraineWar #RussiaUkraineWarUpdates\"],[\"kunalcvrce\",\"NEU\",\"Another footage of Russian Ka-52 in action in Russia Ukraine war. Video link and subscribe \\nhttps://t.co/Dc0C5cG02E\\u2026 https://t.co/KkAoMYjmhc\"],[\"theoverview_\",\"NEU\",\"\\u201dOne of goals of Putin's war against #Ukraine - to fix demographic collapse of #Russia\\u201d\\n#demographics\\u2026 https://t.co/rrMGXf3jPf\"],[\"pat7boy\",\"NEU\",\"IMPORTANT POINT HERE :\\n\\n#Putin does not have the same information, interpretation and thoughts on the\\u2026 https://t.co/dLMw2h2DNT\"],[\"weeiup\",\"NEU\",\"Russia Struggled to Capture a Ukrainian Town. Intercepted Radio Messages Show Why #Ukraine  #RussiaUkraineWar\\u2026 https://t.co/PTIa9HSFMW\"],[\"NexthLive\",\"NEU\",\"Russia Struggled to Capture a Ukrainian Town. Intercepted Radio Messages Show Why #Ukraine  #RussiaUkraineWar\\u2026 https://t.co/PCDUXiW3Ig\"],[\"JSBNKJM\",\"NEU\",\"@Kaviya342 @AshtBhujaji @uptourismgov @odisha_tourism @KarnatakaWorld @M1008P @JandKTourism @sunita_jnp_\\u2026 https://t.co/ydTQbZGR7a\"],[\"ItalianCenter\",\"NEU\",\"Russia Struggled to Capture a Ukrainian Town. Intercepted Radio Messages Show Why #Ukraine  #RussiaUkraineWar\\u2026 https://t.co/h4CYHQFK8L\"],[\"zubair_utmanzai\",\"NEU\",\"Russian missile strikes on Ukraine\\n\\nYoutube link : https://t.co/r7gXLetXOV\\n\\n#Russia #Ukraine #TB2 #NATO #USA\\u2026 https://t.co/zPSHnAUont\"],[\"OnewingedDaemon\",\"NEG\",\"Just gonna stand there and watch me burn. Well, that's alright because I like the way it hurts... \\ud83c\\udfbc\\n\\nF\\u00fcr die Mimimi\\u2026 https://t.co/6bI8Z4f5YD\"],[\"themanantyagi\",\"NEU\",\"This video tell a lot about \\ud83c\\uddfa\\ud83c\\udde6 president @ZelenskyyUa.\\n#Russia #RussiaUkraineWar \\n\\nCredits to @MailOnline https://t.co/HBcqpzRuvH\"],[\"theoverview_\",\"NEU\",\"#Russia in April may leave 70-100 thousand people as part of the \\\"second wave\\\" of emigration of IT specialists\\u2026 https://t.co/FwWikdKaff\"],[\"theoverview_\",\"NEG\",\"\\u201cOn the tragedy of the 250k Russians who have fled their increasingly totalitarian country\\u201d\\n#Russia #demographics\\u2026 https://t.co/IVrgD71D3e\"],[\"CoinByNews\",\"NEU\",\"Russia Could Trade Energy With Crypto #Bitcoin #Ethereum #RussiaUkraineWar #Russia #cryptotrade #CryptoNews #Oil\\u2026 https://t.co/E2TDRCFfHU\"],[\"ZiggelH\",\"NEG\",\"Loyalty. The dog came to the ruins of his house #RussiaUkraineWar #RussianWarCrimes #RussiaTerroristCountry https://t.co/arpKUEn5qA\"],[\"lungile_manxiwa\",\"NEU\",\"#un #FIFA22 #UkraineWar #Poland #RussiaUkraineWar @_AfricanUnion #China @KremlinRussia_E @PresXi_Jinping those resp\\u2026 https://t.co/pskGt4RnOn\"],[\"fpjindia\",\"NEG\",\"This unprecedented increase in #cyberattacks could possibly surge in times of a #war  situation in future as well,\\u2026 https://t.co/vIzYxP2I46\"],[\"ReporterLukasz\",\"NEU\",\"#USA soldier at #Ukraine showing destroyed #Russia tank #UkraineWar #UkraineRussianWar #RussiaUkraineWar #Putin https://t.co/ShJiTJUkDB\"],[\"henauer\",\"NEU\",\"\\u201cDestroying an empire to win a war is no victory.\\nAnd ending a battle to save an Empire is no defeat.\\u201d -Kahless\\nSto\\u2026 https://t.co/g47XsBDThz\"],[\"TheFinancialD\",\"NEU\",\"Washington has imposed fresh sanctions on dozens of Russian defense companies, hundreds of members of its parliamen\\u2026 https://t.co/rYvuEh2fc6\"],[\"MaGioZal\",\"NEU\",\"Defiant #UkrainianTroops tell Russians: 'Go home while you're still alive' #BBCNews #RussiaUkraineWar \\n\\nhttps://t.co/myCUPowEWv\"],[\"EuromaidanPR\",\"NEG\",\"135 children killed and 184 wounded since the russian full-scale invasion into #Ukraine - official | EMPR #RussiaUkraineWar\"],[\"kk0000000000\",\"NEU\",\"Unity of the world citizens, progressive &amp; revolutionaries, was never so essential for the survival of the mankind\\u2026 https://t.co/po2XZrVDTP\"],[\"AmolDaas\",\"NEU\",\"Ukraine... we are with you.. Russia and Russians \\ud83d\\ude00\\ud83d\\ude03\\ud83d\\udc4dwe will we will rock you, live together,  fight together and di\\u2026 https://t.co/GyqSHp7GI5\"],[\"Yarochenko\",\"NEU\",\"Vlog # 1 talking about Pootins full scale was on #Ukraine my home country. \\ud83c\\uddfa\\ud83c\\udde6\\u270a\\ud83c\\udffb\\ud83d\\udc9b\\ud83d\\udc99 #SlavaUkrainii #stopputin\\u2026 https://t.co/K0UWH2FknY\"],[\"XavierBaroi\",\"NEU\",\"Hello everyone\\n\\n#usa #UkraineWar #RussiaUkraineWar\"],[\"IloveBush43\",\"NEU\",\"Larry Elder: Ukraine &amp;#8212; The politics behind Biden&amp;#8217;s reluctance to &amp;#8216;do more&amp;#8217; via\\u2026 https://t.co/aVm4PA0ag7\"],[\"ManagementPerth\",\"NEU\",\"https://t.co/o9sfGp0dSQ \\nBarossa gas faces legal challenge, roubles requested by Putin, aged care workers prepare i\\u2026 https://t.co/AyAcBjJcba\"],[\"putzgedanken\",\"NEU\",\"#RussiaUkraineWar Liebe #Russen please go home thx\"],[\"Nooluyo35sosyal\",\"NEG\",\"The socialite daughter of Putin\\u2019s spokesman says US sanctions are \\u2018unfair\\u2019 but thinks they won\\u2019t make a difference\\u2026 https://t.co/up9DJzXqUY\"],[\"1dor\",\"NEU\",\"\\u201cLament for Thomas MacDonagh\\u201dby Frances Ledwidge. \\nRecited by #AlexMolloy  \\nAs the #RussiaUkraineWar continues in\\u2026 https://t.co/3y90Yfe6G1\"],[\"Ohauaha\",\"NEU\",\"\\u26a1Russian war crimes reliable since 1992\\n#RussiaUkraineWar \\n#RussianWarCrimes \\n#EU \\n#NATO \\n#WWIII \\n#Embargo\\u2026 https://t.co/BjBJnKeAzL\"],[\"sergent_claire\",\"NEU\",\"While Putin\\u2019s friends are taking the best of London or Switzerland. All their assets should be seized\\u2026 https://t.co/a53pDRdata\"],[\"YasserFarag333\",\"NEU\",\"@carlbildt I admire the position of #India in the #RussiaUkraineWar..\\n\\nAs I know there is no morality in the politi\\u2026 https://t.co/s5NhYUfues\"],[\"MrFahadKhan\",\"NEG\",\"Ukraine-Russia war could be 'era-defining' conflict, reporter Simon Shuster says - NPR.\\n\\n#RussiaUkraineWar\\u2026 https://t.co/qUA52H1WpD\"],[\"MrFahadKhan\",\"NEU\",\"Putin\\u2019s Climate Envoy Steps Down, Reportedly Over the Ukraine War - The New York Times.\\n\\n#RussiaUkraineWar\\u2026 https://t.co/ovlyqhIw6e\"],[\"MrFahadKhan\",\"NEU\",\"Biden promises Western allies would respond if Russia uses chemical weapons - NPR.\\n\\n#RussiaUkraineWar\\u2026 https://t.co/VQLAiOZysA\"],[\"MrFahadKhan\",\"NEU\",\"What Happened on Day 25 of Russia's Invasion of Ukraine - The New York Times.\\n\\n#RussiaUkraineWar #UkraineRussiaWar\\u2026 https://t.co/g5HWCIxZNR\"],[\"MrFahadKhan\",\"NEU\",\"What role is Chechnya\\u2019s Ramzan Kadyrov playing in Ukraine war? - Al Jazeera English.\\n\\n#RussiaUkraineWar\\u2026 https://t.co/EkXytcn9Cl\"],[\"MrFahadKhan\",\"NEU\",\"Ukraine-Russia War Live News: Latest Updates - The New York Times.\\n\\n#RussiaUkraineWar #UkraineRussiaWar\\u2026 https://t.co/DZj4UnzML5\"],[\"MrFahadKhan\",\"NEU\",\"The Continental Group survey: About 9 in 10 believe inflation, aggravated by Russo-Ukrainian War, has impacted thei\\u2026 https://t.co/jijhLB6ir4\"],[\"MrFahadKhan\",\"NEU\",\"Russia-Ukraine live news: \\u2018Appalled\\u2019 G7 backs war crimes probe - Al Jazeera English.\\n\\n#RussiaUkraineWar\\u2026 https://t.co/GBBjSUJX7o\"],[\"Dovepetalchile\",\"NEU\",\"Countries which have NOT imposed #sanctions on #Russia:\\nIsrael, Turkey, Saudi, UAE\\n#RussiaUkraineWar\\u2026 https://t.co/UKdqlY8yfy\"],[\"giovanni_farese\",\"NEU\",\"Why #inflation is not yet debauching #rouble as much as market forces would otherwise do: 1) capital controls 2) ri\\u2026 https://t.co/pe5gV1MyXA\"],[\"CapEconomics\",\"NEG\",\"Will pullback by Russian investors cause significant problems in the world\\u2019s major economies? Read our latest repor\\u2026 https://t.co/higwtnygm2\"],[\"Angels_Airways\",\"NEG\",\"RUSSIA STOP THE WAR \\u203c\\ufe0f\\n#RussiaUkraineWar #Russia\\n#Ukraine #SlavaUkraini\\nhttps://t.co/yfSh4eDiqH\"],[\"Arora8Lucky\",\"NEG\",\"5 Things That #Women Desperately Want in Men\\nRead Here\\ud83d\\udc49https://t.co/VK6WZ3wAhW\\n\\n#Men #mustread #desperate #tarak\\u2026 https://t.co/oWPny3LnKA\"],[\"WIONews\",\"NEU\",\"#InPics | Russia deploys its strategic nuclear forces at more than a dozen bases across its territory\\u2026 https://t.co/WIUuyWU4Vu\"],[\"elenaordanini\",\"NEU\",\"Peace in the world \\ud83c\\udff3\\ufe0f  #NoWars #RussiaUkraineWar #FreedomForUkraine https://t.co/CjS0Qw0ZEa\"],[\"kunalcvrce\",\"NEU\",\"Multiple Russian Kalibr cruise missile launched from submarine in Sevastopol in Russia Ukraine war. Video link and\\u2026 https://t.co/2DJj5laqqO\"],[\"SolarHomeIRL\",\"NEG\",\"If you're using grid electricity in #Ireland today you're funding the #RussiaUkraineWar with 97% fossil fuel \\ud83d\\ude22\\ud83d\\udc47 https://t.co/gdNSSb7KMf\"],[\"onpets_official\",\"POS\",\"https://t.co/aY7D4azlKd\\n\\nOnpets salutes such brave hoomans!\\nFollow us for such contents\\n#Onpets #Ukraine\\u2026 https://t.co/NfrD6M3v2E\"],[\"mmotassimbillah\",\"POS\",\"This is even better.\\n\\n#Ukraine #UkraineRussiaWar  #Russia #Russian #RussiaUkraineWar #Zelenskyy #NATO #Ukrainian\\u2026 https://t.co/OY0THglhNW\"],[\"moritz_gathmann\",\"NEU\",\"Crossing the bridge over Dnieper  at 9 in the morning from right to left bank. Usually huge queues, today none. Lif\\u2026 https://t.co/gqKeV1JFRu\"],[\"realNYvoice\",\"NEG\",\"The Russian army is killing little babushkas and babus. It's really fucking sad. #RussiaUkraineWar #RussianArmy\\u2026 https://t.co/0RFcpBZMIp\"],[\"HilliusGlitch\",\"NEG\",\"\\\"This is human suffering!\\\" says @NickFerrariLBC on @LBC when a caller tries to blame Macron's inaction in sending F\\u2026 https://t.co/lcWHCxkhZG\"],[\"talismans\",\"NEU\",\"@thetimes These #astrology #predictions say the #RussiaUkraineWar might only end by Dec., https://t.co/HJVdafXukd\"],[\"shasharma_eth\",\"NEU\",\"#Ukraine tells the US it needs 500 #Javelins and 500 #Stingers per day.\\n\\n#RussiaUkraineWar #stopwarrussia\"],[\"NexthLive\",\"NEU\",\"Ukraine War special report: soldiers in Kharkiv take on the Russian army - BBC News #Ukraine  #RussiaUkraineWar\\u2026 https://t.co/pGAxUxfAlr\"],[\"ItalianCenter\",\"NEU\",\"Ukraine War special report: soldiers in Kharkiv take on the Russian army - BBC News #Ukraine  #RussiaUkraineWar\\u2026 https://t.co/VRa7mSt90h\"],[\"weeiup\",\"NEU\",\"Ukraine War special report: soldiers in Kharkiv take on the Russian army - BBC News #Ukraine  #RussiaUkraineWar\\u2026 https://t.co/7SOgpvNTM4\"],[\"Albertofattori\",\"NEU\",\"Ukraine War special report: soldiers in Kharkiv take on the Russian army - BBC News #Ukraine  #RussiaUkraineWar\\u2026 https://t.co/5X6YLYMowP\"],[\"kyereme_nana\",\"NEU\",\"NATO to Deploy 4 Additional Battle Groups to 4 Countries in Eastern Europe Due to Russia\\u2019s Aggression\\u2026 https://t.co/VrUDSltSNN\"],[\"yespunjab\",\"NEU\",\"Sean Penn plans to help Ukrainian refugees through his charity\\n\\n#SeanPenn #Ukrainian #Refugees #Ukraine #Russia\\u2026 https://t.co/yLUTpfJNu5\"],[\"talismans\",\"NEU\",\"@guardiannews These #astrology #predictions say the #RussiaUkraineWar might only end by Dec., https://t.co/HJVdafXukd\"],[\"JOURNALISTJIT14\",\"NEU\",\"Russian Work on Ukrainian observers and fire correctors.\\n#RussiaUkraineWar \\n#Russia \\n#UkraineRussianWar \\n#Ukraine\\u2026 https://t.co/7117zBfWQk\"],[\"zubair_utmanzai\",\"NEU\",\"Drone footage from Mariupol | Russian and DNR forces captured Mytropolytska neighborhood\\n\\nYoutube link :\\u2026 https://t.co/QZO6aFaNEA\"],[\"GED_Tweet\",\"NEU\",\"The #RussiaUkraineWar  has changed the way that the #EU perceives itself. It will change the #GlobalEconomy  too.\\u2026 https://t.co/hwCvffvtg7\"],[\"hizbie_\",\"NEU\",\"@olgatokariuk #RussianArmy are helping to evacuate civilians from #Mariupol.\\n#RussiaUkraineWar https://t.co/uKfkFNFVmy\"],[\"MunmunNarang\",\"NEU\",\"Irpin, the northern Kyiv suburb where there has been intense fighting for over three weeks to block Russia from ent\\u2026 https://t.co/q0FnXOnIdn\"],[\"saint_rebel\",\"NEU\",\"Children in my neighborhood in #Mainz, #Germany, drew #Ukraine\\u2019s flag with a color chalk and wrote \\u201cPeace for Ukrai\\u2026 https://t.co/UkMmwZrqpC\"],[\"kk131066\",\"NEG\",\"https://t.co/PRzvY0RQMJ\\n\\nStupid people are not those who don't know\\n\\nStupid people are those who DON'T want to know\\u2026 https://t.co/eXLZaew4wo\"],[\"EP_ThinkTank\",\"NEU\",\"What think tanks are thinking about #RussiaUkraineWar\\nhttps://t.co/h23NHuYgK1\"],[\"MikeCalag\",\"NEU\",\"#UkraineRefugees British people 10 out of 10.       \\n British government Priti Patel Michael Gove TLScontact not fi\\u2026 https://t.co/okF2DbH31L\"],[\"Maghrebi5\",\"NEU\",\"An unusual \\\"spark\\\" of machine guns \\\"Maxim\\\" with a collimator lit up #RussiaUkraineWar #Ukraine https://t.co/FZiUbIabom\"],[\"irosky007\",\"NEU\",\"Sincere question please; So I\\u2019ve been following this #RussiaUkraineWar and I\\u2019m forced to ask, if #Russia had invade\\u2026 https://t.co/2j0r5AraUC\"],[\"bbltvak\",\"NEU\",\"@dhume No one cares OIC or Pakistan or what China said in india, we are too big and powerful to be bothered. \\n\\nBroa\\u2026 https://t.co/bgso0numkw\"],[\"1kaushik\",\"NEU\",\"#Diplomacy : Our take in the #AsiaTimes on #India's neutral stand at the #UnitedNations in the #RussiaUkraineWar https://t.co/u7sauKTZ9y\"],[\"ATAFIN\",\"NEU\",\"#BlackRock #RussiaUkraineWar could accelerate #Bitcoin #Crypto\\n\\n#Cryptos focused #NASDAQ\\n\\nBTC Action\\n#Bulls Strike&gt;\\u2026 https://t.co/MLHM5GESWT\"],[\"ImahSillyGirl\",\"POS\",\"Ukrainians are the most brave and honorable defenders.\\n\\n#RussiaUkraineWar \\n#RussiaGoHome https://t.co/cIQ6a55u8o\"],[\"renabraham\",\"NEU\",\"The @TheEconomist quotes the Neo Nazi #AzovBattalion boss #andriybiletsky  as if he is a war hero. #UK shows it tru\\u2026 https://t.co/DUrypM5CoH\"],[\"Alex_cameron_\",\"NEG\",\"First I want to tell you to media people and social media stop doing nonsense things about publishing fake news  \\ud83d\\udcf0 #RussiaUkraineWar\"],[\"prism_anand\",\"NEU\",\"#China #WangYi handshake #AjitDoval in Delhi.\\n\\n#RussiaUkraineWar https://t.co/hvQlpVh9WK\"],[\"THIS_IS_UKR\",\"NEU\",\"\\ud83d\\udca5The Armed Forces of #Ukraine and #Teroborona continue to work on the destruction of #Russian armored vehicles. Dir\\u2026 https://t.co/4RBgkmwMAN\"],[\"StoriesFromV\",\"NEU\",\"Ukrainians have sunk the Russian landing ship Orsk \\u2014 They used a ballistic missile!\\nhttps://t.co/Bo3sHDvmir\\n#medium\\u2026 https://t.co/wcJJzbbhSz\"],[\"ROUTEK\",\"NEG\",\"#RussiaUkraineWar:  Russia is suffering failure rates as high as 60% for some of the precision-guided missiles it i\\u2026 https://t.co/SQCO5nBKre\"],[\"SaleemWPI\",\"NEU\",\"#Ukraine \\n#RussiaUkraineWar \\n#Russian \\n#RussiaUkraineConflict \\n#RussianUkrainianWar \\n#Russian \\n#RussianWarCrimes \\nS\\u2026 https://t.co/GouxbRk1wR\"],[\"neerav1985\",\"NEG\",\"There are many things that might be beyond our control like deaths through #COVID and #RussiaUkraineWar. But, there\\u2026 https://t.co/ijdr7pexTK\"],[\"hizbie_\",\"NEU\",\"As a result of a direct hit in a private house in the west of Donetsk, a woman died. A correspondent of the Donbass\\u2026 https://t.co/1fRC5QJrHQ\"],[\"mmotassimbillah\",\"NEG\",\"Influx of 12M+ refugees in Europe,threatening NATO while NATO is still not able to take an aggressive stance and is\\u2026 https://t.co/BCT9cvlk35\"],[\"sherrybeibei\",\"NEG\",\"How dare the senator speak! Awesome! #USA #RussiaUkraineWar #TikTok https://t.co/52BbQZR4hA\"],[\"IsraelHayomEng\",\"NEU\",\"#Britain says #Ukraine has retaken towns and control positions east of #Kyiv https://t.co/Vf3yIx0iyn\\u2026 https://t.co/GtWgwXe8Ni\"],[\"Aminta136\",\"NEG\",\"It can even be described as stagnation. Shortly after the outbreak of the war, to be exact, after the failure of th\\u2026 https://t.co/S5Lu4iYgX2\"],[\"hizbie_\",\"NEU\",\"Andrey Turchak and Denis Pushilin visited a temporary accommodation center for residents The point is located in th\\u2026 https://t.co/xGnw4f5uJI\"],[\"itribe_\",\"POS\",\"Great analysis. Buying cheaper oil from Russia should help offset some of the impact. The delta is as big as $20-30\\u2026 https://t.co/dsK49B5zqa\"],[\"loxlemurray\",\"NEG\",\"How come I'm still playing against Russian players on https://t.co/KMl1VL6cq9 ?\\n@chesscom please explain. #Chess #Ukraine #RussiaUkraineWar\"],[\"news10channel\",\"NEU\",\"More Detail:----\\nhttps://t.co/gaV1eOnjOG\\n#UnitedNations #RussiaUkraineWar\"],[\"DevraMaza\",\"NEU\",\"NATO EU G7 should all immediately adopt resolutions stating that any Ukraine nuclear catastrophe caused by Russian\\u2026 https://t.co/eeytnxFGxt\"],[\"The420CyberNews\",\"NEG\",\"VPN Usage In Russia Up By 3500%, Regulator Forces Google To Delist VPN Websites \\n\\n https://t.co/b40E1KySjG\\u2026 https://t.co/kXN1ifFW6u\"],[\"WealthBlog_Ng\",\"NEU\",\"Does it occur to the #NATO  that it is rallying for the #Nazi in #NaziUkraine \\n\\n#BreakingNews \\n#RussiaUkraineWar\\u2026 https://t.co/BQhrU12LZK\"],[\"dellyranksindia\",\"NEG\",\"Infosys caught in Russia-Ukraine crossfire #infosysoperationsinrussia #NarayanaMurthy #rishisunak #RussiaUkrainewar\\u2026 https://t.co/nTjCFgGrlW\"],[\"BeciNewton\",\"NEG\",\"The U.K. government has so many links to Russia they should rename Westminster \\u201cBelarus-on-Thames\\u201d.\\nIs it any wonde\\u2026 https://t.co/eZZOnXM3sd\"],[\"Albertofattori\",\"NEU\",\"Ukraine War - Ukrainian Humvees In And After Combat With Russian Forces #Ukraine  #RussiaUkraineWar\\u2026 https://t.co/4cvZo7znjy\"],[\"news10channel\",\"NEU\",\"More Detail:----\\nhttps://t.co/qvZ6TverBl\\n#Zelensky #NATO #RussiaUkraineWar\"],[\"ItalianCenter\",\"NEU\",\"Ukraine War - Ukrainian Humvees In And After Combat With Russian Forces #Ukraine  #RussiaUkraineWar\\u2026 https://t.co/hvpriCTqON\"],[\"EconomicTimes\",\"POS\",\"India's position on the Ukraine conflict has been \\\"steadfast and consistent\\\" as it has been seeking immediate cessa\\u2026 https://t.co/OVGBVkIpvy\"],[\"MirrorNow\",\"NEG\",\"GROUND REPORT FROM WAR HIT KYIV\\n\\nRussian forces remain stalled outside Kyiv, but bombing and shelling continues. Po\\u2026 https://t.co/7ovn998IcM\"],[\"weeiup\",\"NEU\",\"Ukraine War - Ukrainian Humvees In And After Combat With Russian Forces #Ukraine  #RussiaUkraineWar\\u2026 https://t.co/1IWSBR3HMG\"],[\"NexthLive\",\"NEU\",\"Ukraine War - Ukrainian Humvees In And After Combat With Russian Forces #Ukraine  #RussiaUkraineWar\\u2026 https://t.co/BmZInnDdbQ\"],[\"FairchildTracey\",\"POS\",\"The last remaining journalist documented their twenty days in Mariupol. \\n\\nThis is great journalism. \\n\\n#Mariupol\\u2026 https://t.co/qKmJLOQfUG\"],[\"pixxdotcom\",\"POS\",\"This made me chuckle \\ud83d\\ude01\\ud83d\\ude01\\n#RussiaUkraineWar #Ukraine #putin IS a joke https://t.co/rWLLteiXIC\"],[\"ChaliceGarden\",\"NEG\",\"Russian missiles are suffering a failure rate as high as 60%, multiple unnamed US officials have claimed in a\\u2026 https://t.co/4grBuky74H\"],[\"Mazhar_Beijing\",\"NEU\",\"Prepration for \\\"war reporting\\\"\\n#RussiaUkraineWar #Propaganda https://t.co/Yd6J6xdPOs\"],[\"AmirAlhaj_ph\",\"NEU\",\"March 25, 2022 UN Report: Ukrainians are being arbitrarily detained and subjected to enforced disappearances in Rus\\u2026 https://t.co/G7imNOu9af\"],[\"NexthLive\",\"NEU\",\"Russian soldier reportedly runs over his commander with tank in protest #Ukraine  #RussiaUkraineWar\\u2026 https://t.co/kyR6diE1Ip\"],[\"weeiup\",\"NEU\",\"Russian soldier reportedly runs over his commander with tank in protest #Ukraine  #RussiaUkraineWar\\u2026 https://t.co/E2msSvsNzO\"],[\"ItalianCenter\",\"NEU\",\"Russian soldier reportedly runs over his commander with tank in protest #Ukraine  #RussiaUkraineWar\\u2026 https://t.co/52GoH4vCxp\"],[\"xoxard2\",\"NEU\",\"This is the daily ideological and political class in Chinese universities, leading students to correctly understand\\u2026 https://t.co/Z0uW2mAut7\"],[\"ww3ukrainewar\",\"NEU\",\"ABC News exclusive: Ukraine-Russia negotiation analysis\\n\\n#Ukraine #Russia #RussiaUkraineWar #UkraineRussiaWar https://t.co/sdifs4Idm2\"],[\"christopher_m_s\",\"NEU\",\"#RussiaUkraineWar\\nGalactic Federation is going to be having conference for demilitarization of all Earth militaries\\u2026 https://t.co/9BYUwCSK93\"],[\"ww3ukrainewar\",\"NEU\",\"ABC News exclusive: Ukraine-Russia negotiation analysis\\n\\n#Ukraine #Russia #RussiaUkraineWar #UkraineRussiaWar https://t.co/1sbLG4rxQC\"],[\"ww3ukrainewar\",\"NEU\",\"ABC News exclusive: Ukraine-Russia negotiation analysis\\n\\n#Ukraine #Russia #RussiaUkraineWar #UkraineRussiaWar https://t.co/R5OI4eJ2lj\"],[\"abhimirzapur\",\"NEG\",\"#VolodymyrZelensky make his country cemetery because of his attitude problem. Now he want make other countries also\\u2026 https://t.co/Dlu5TwzSw4\"],[\"Gugugugagaga3\",\"NEG\",\"\\u274cRussian invasion of Ukraine | Day 29\\n\\nDestroyed Russian Mi-35\\n#Russia \\n#Ukraine\\n#UkraineUnderAtta\\u0441k\\u2026 https://t.co/Qps9OlbewN\"],[\"OleSpan\",\"NEU\",\"#RussiaUkraineWar\\n\\n\\u2757\\ufe0fOccupiers ran barefoot across the field from our military.  By the way, yesterday was exactly\\u2026 https://t.co/LGgHxdLhbf\"],[\"Writerinnorth\",\"POS\",\"What has Joe Biden done? He\\u2019s just given Putin the perfect opportunity to say to the Russian people, \\u2018The USA has d\\u2026 https://t.co/txt64cM3zf\"],[\"IndiandefenceNS\",\"NEG\",\"Canadian sniper Wali still alive in Ukraine: \\\"Finding me is not that easy\\\" #UkraineWar #Canada #RussiaUkraineWar  https://t.co/XzdimNESkH\"],[\"_GodSaveUkraine\",\"NEG\",\"Russia throws its soldiers and their bodies..\\n#StandWithUkraine #Ukraine #UkraineWar #UkraineRussiaWar\\u2026 https://t.co/8URGWaeWJZ\"],[\"br0kenhalberd\",\"NEU\",\"Photos of the launch of a new intercontinental ballistic missile North Korea.Comrade Kim Jong-un personally supervi\\u2026 https://t.co/tuFNEdi3Dx\"],[\"vijfsnippervij5\",\"NEU\",\"@AnonOpsSE 'Z' used to be only a military symbol but soon gained enough symbolical meanings to be used in\\u2026 https://t.co/9Y33TysVfx\"],[\"buzzdexindia\",\"NEG\",\"Russia- Ukraine Crisis: Russia accuses NATO member Poland, which neighbours Ukraine, of embarking on a \\\"dangerous e\\u2026 https://t.co/miReQl8jhk\"],[\"hizbie_\",\"NEU\",\"Washington Post: The White House is looking into a \\\"dramatic escalation of sanctions\\\" against Russia as the impact\\u2026 https://t.co/dfR0yUs5JW\"],[\"TwaddictsRUs\",\"NEG\",\"Geesus... Russia = delusional much? \\ud83d\\ude44\\ud83e\\udd23\\n#StandWithUkraine  #SlavaUkraini \\n#Kharkiv #Kyiv #Russia #Ukraine\\u2026 https://t.co/nhkonUcixX\"],[\"1ord_lucan\",\"NEG\",\"#Covid was an attack on the poor and small businesses! \\n\\n#RussiaUkraineWar will also affect the poor and small busi\\u2026 https://t.co/HeyUKjlXtA\"],[\"OleSpan\",\"NEU\",\"#RussiaUkraineWar\\n\\n\\u26a1\\ufe0fIn the village of Kalinovka, Kyiv region, a shell of Russian invaders hit an oil depot.\\n\\n As o\\u2026 https://t.co/OhvPsJzGQe\"],[\"lucycryptoqween\",\"NEU\",\"#Russia wants the battle to be over by May 9, according to the #Ukrainian army. On February 24, a military invasion\\u2026 https://t.co/2dOd0sE1Of\"],[\"corakteknikal\",\"NEU\",\"From \\\"special military ops\\\" to \\\"tactical nuclear strike\\\"\\n\\n$SPX #RussiaUkraineWar #Putin\"],[\"CNNnews18\",\"NEG\",\"#RussiaUkraineWar | Continuous Russian Bombardment wreaks havoc in Ukraine.\\n\\nVisuals of destruction in Chernihiv. https://t.co/v3XS7k3gIT\"],[\"FD_Editor\",\"POS\",\"Minister says EMFAF available to support Irish fishing industry https://t.co/G1kMSoamZU\\n\\n#irishfishingnews\\u2026 https://t.co/EQSNPPGekJ\"],[\"bsindia\",\"NEU\",\"In a virtual address to the European Council summit in Brussels, Ukrainian President Volodymyr Zelensky said that t\\u2026 https://t.co/XxlKstz7Gb\"],[\"mrpk_mr\",\"NEG\",\"30th day of #RussiaUkraineWar and yet no end in sight!\\nhttps://t.co/m9oh8qsieH\"],[\"anonymously_all\",\"POS\",\"#UkraineUnderAttack #RussiaUkraineWar #Anonymous \\n\\nSquad 303\\u2026doing the work of the righteous. Join them. \\n\\nBe Legio\\u2026 https://t.co/JvP66ica8w\"],[\"Ghassan35384735\",\"NEG\",\"To the sheep peddling the chemical weapons lie\\u2026potential false flag\\u2026\\n\\nAll publicly declared Russian stockpiles of c\\u2026 https://t.co/83LFR4SD0D\"],[\"insightssuccess\",\"NEU\",\"\\u26a0\\ufe0fOver the Following Two Weeks, Russia Will Allow Some Additional Financial Market Activity\\u26a0\\ufe0f\\n\\nRead More:\\u2026 https://t.co/ueRxvgryEG\"],[\"REALBIGTIMEJAY\",\"NEG\",\"Putin has soundly been defeated in Ukraine he cannot win this war he only has two options either admit defeat and w\\u2026 https://t.co/xV3G6bTZ37\"],[\"zubair_utmanzai\",\"NEU\",\"American mercenaries in street fighting in the Kyiv region\\n\\nYoutube link : https://t.co/mTUQ8jjz2N\\n\\n#Russia\\u2026 https://t.co/cIZhReLLhh\"],[\"ianslife_in\",\"NEU\",\"#SeanPenn (@SeanPenn) plans to help #UkrainianRefugees through his charity\\n\\nRead: https://t.co/oHpJZMDw7A\\u2026 https://t.co/VvXJKyZ3QU\"],[\"hizbie_\",\"NEU\",\"The Ministry of Defense of the Russian Federation publishes footage of the destruction of the company stronghold of\\u2026 https://t.co/hFJDkQxEWF\"],[\"seedhadilse\",\"NEU\",\"@RadioFreeTom Largely true\\u2022#Putin climbed/ws pushed up a gum tree &amp; got stuck with all nukes tech &amp; resources et-al\\u2026 https://t.co/Rqz5vcuF3i\"],[\"Albertofattori\",\"NEU\",\"Russian soldier reportedly runs over his commander with tank in protest #Ukraine  #RussiaUkraineWar\\u2026 https://t.co/gPYk0meBYt\"],[\"nationwing\",\"NEG\",\"Searching people who spreads fake news that \\\"#Zelensky fight with #Russian soldiers in army uniform\\\"\\nHe left his co\\u2026 https://t.co/UjyKkgUnS5\"],[\"RusifHuseynov2\",\"NEU\",\"@BorisJohnson: I don\\u2019t think there is a single person round the table in NATO or the G7 who is against Russians or\\u2026 https://t.co/OaJJkanuq4\"],[\"DripCapital_Inc\",\"NEU\",\"Days before the US #sanctions on Russian banks come into effect on March 26, the RBI held a meeting with 3 Russian\\u2026 https://t.co/0uzymG9U1U\"],[\"IAmVaiin\",\"NEG\",\"This account was posting several of videos and pictures of bound civilians in #Ukraine  getting tortured and beaten\\u2026 https://t.co/IdMCsUZ9JF\"],[\"PrateekRoutray\",\"NEU\",\"#RussiaUkraineWar \\nLocals in the #Donbas Region checking out damaged/abandoned Ukr Rapira 100mm guns and MT-LB APC's https://t.co/ftfIQQIUvI\"],[\"kk131066\",\"NEU\",\"https://t.co/KhHKOpd5fz\\n\\n@ 16:30\\nThe US &amp; the UK offered full #NATO membership to #Ukraine &amp; Georgia (despite decad\\u2026 https://t.co/EfdTA703HK\"],[\"Interwatchdog\",\"NEU\",\"\\ud83c\\uddfa\\ud83c\\uddf8 WAR MACHINE\\n\\nFrom 1945 to 2001, of the 248-armed conflicts that occurred in 153 regions globally, 201, or 81%, w\\u2026 https://t.co/4IZL4zB0sn\"],[\"baloch_ambreen\",\"NEU\",\"UN General Assembly demands Russia end Ukraine war\\n#Russia #Ukraine #RussiaUkraineWar \\nhttps://t.co/WxWJtBjIeT\"],[\"hizbie_\",\"NEG\",\"The phone of a #RussianArmy fell into the hands of a #UkrainianArmy, and he decided to mock the soldier\\u2019s mother. T\\u2026 https://t.co/5sSTCSFqSb\"],[\"mindoza33\",\"NEG\",\"73 years since yet another 'liberation' from \\\"the enemies of the people\\\" by the Kremlin. In reality, a 'simple' mas\\u2026 https://t.co/uvjV6OLF5b\"],[\"Ladyhawk_66\",\"NEG\",\"War is not the answer. \\nNever! \\nNowhere!\\nFor nothing!\\n\\ud83d\\ude4f\\ud83d\\udd6f\\ud83d\\udd4a\\ud83d\\udd6f\\ud83d\\ude4f\\n#NoWar \\n#RussiaUkraineWar \\n#Putin https://t.co/AIg70dpJeg\"],[\"MarioBojic\",\"NEU\",\"Western media: Ukrainian forces gaining ground \\n\\nReality: Russians took two new cities \\n\\n#RussiaUkraineWar\\u2026 https://t.co/TNooCWHxkb\"],[\"Jerusalem_Post\",\"NEU\",\"Russian forces reportedly kidnapped Dmytro Afanasyev, a member of a district council in Kherson, Ukraine.\\u2026 https://t.co/Lb9i23X8LU\"],[\"REALNEWS_FORYOU\",\"NEG\",\"Russia doesn't have chemical weapons, but the USA does. False flag happens its the USA 100%\\n#USA #FalseFlag\\u2026 https://t.co/3baoBdFR0P\"],[\"ArmedVersion79\",\"NEU\",\"Turkish s400 for Ukraine?\\n#Ukraine\\n#Turkey\\n#s400 \\n#Russiaukrainewar https://t.co/eAhdFJq5yw\"],[\"getlivealerts\",\"POS\",\"World's Largest Asset Manager Blackrock: Russia-Ukraine War Has Potential Impact on Accelerating Digital Currencies\\u2026 https://t.co/NF766lJEQg\"],[\"Indian250799\",\"NEU\",\"#Ukraine, #Russia conduct first prisoner swap\\n#RussiaUkraineWar\\n\\nhttps://t.co/a3M31fDeCi\"],[\"hobowonder\",\"NEG\",\"130+ children died in Ukraine. Putin is responsible for this. #RussiaUkraineWar #StopPutin #StopHatingRussians\\u2026 https://t.co/GSxvSf4BjL\"],[\"Prasanthpambadi\",\"POS\",\"Time to end the war ! As a peace loving country for better world . India should taken the lead as neutral mediator\\u2026 https://t.co/v6OhcRek03\"],[\"dashkp\",\"NEG\",\"@Chellaney #JoeBiden won by creating the fake allegation of russia influencing the elections in usa . it was all ch\\u2026 https://t.co/3QUl47K3MZ\"],[\"joelaspencer1\",\"NEG\",\"@KremlinTrolls Are all the CIA agents in country driving up the rent prices on safe-houses around Ukraine?\\u2026 https://t.co/hzaDKbQ3cH\"],[\"teamcorona04\",\"NEU\",\"#Moscow #European #WWIII #Russia #ChinaRussia  #Kremlin #Ukraine #UkraineRussiaWar #Putin #RussiaUkraineWar \\n\\nKim J\\u2026 https://t.co/yq32w8LZP9\"],[\"ians_india\",\"NEU\",\"The #Russian Defence Ministry has claimed that investment fund Rosemont Seneca, currently managed by US President\\u2026 https://t.co/uk2tvzh0vy\"],[\"nationwing\",\"NEG\",\"#Zelensky is genuine war criminal who desperately killed there people, he was never wear a army uniform, fooled his\\u2026 https://t.co/EX0gkm2ZJT\"],[\"DAVtheSphinX\",\"NEU\",\"@RWApodcast \\n\\nyou guys see the steed of death ready to trample its way to Victory i keep seeing a horse face on the\\u2026 https://t.co/9BsujnqqmC\"],[\"CarbonConvoCA\",\"POS\",\"This is beautiful. #refugees  #RussiaUkraineWar https://t.co/pELyEIcEbw\"],[\"kk131066\",\"NEG\",\"https://t.co/0SIXKEY9Qu\\n\\n@ 14:30 - decades of warnings - #NATO expansion will lead to war https://t.co/2kZtQ3L7FQ\\u2026 https://t.co/StmdMqVWcD\"],[\"hizbie_\",\"NEU\",\"On March 24, the entire Levoberezhny district of Mariupol was liberated by servicemen of the #Chechen 141st Special\\u2026 https://t.co/YUDVGyPw8Y\"],[\"PlanifyIndia\",\"NEU\",\"Watch the Video on 'How Russia Ukraine War will Impact Indian Economy'\\n\\nhttps://t.co/DTX69NiCgs\\n\\nAlso, Don't forget\\u2026 https://t.co/Ce7AiS0bCm\"],[\"NewsTrail_India\",\"NEU\",\"Biden says he wants Russia out of the G20\\n\\n#UkraineWar #indianembassy #Poland #RussiaUkraineWar #Indiansinukraine\\u2026 https://t.co/lfKdj8k8qM\"],[\"bsindia\",\"NEU\",\"Due to the ongoing #RussiaUkraineWar, India may face higher expenditure on items the govt subsidises, particularly\\u2026 https://t.co/1S01prLAlR\"],[\"SillySasquatch\",\"NEG\",\"When your 4 day \\\"Special Operation\\\" goes all wrong. #Russia #RussiaUkraineWar #Russian https://t.co/4PuLpFNxcs\"],[\"Martinadeven10\",\"NEG\",\"Impatiently waiting for the #RussiaUkraineWar to get over.\\nso that everyone else can go back to making money and en\\u2026 https://t.co/6f2ekWe16A\"],[\"Berhtwald1\",\"NEU\",\"The \\\"socialite daughter of Putin's spokesman\\\" isn't a tagline. The daughter of Putin's chief propagandist who lives\\u2026 https://t.co/uSqT8TW6L2\"],[\"AslanBozkurt209\",\"NEG\",\"#Ukrainian attack on #Russian positions #UkraineUnderAttack #RussiaUkraineWar #OSINT #AzovBattalion #mauripol\\u2026 https://t.co/sU2LpCbjOo\"],[\"hizbie_\",\"NEG\",\"The Russian Defense Ministry published footage of the Iskanders, which destroyed the training base for foreign merc\\u2026 https://t.co/mrLXog06bg\"],[\"XPOSEDMAGAZINE\",\"NEG\",\"Someone is hacking UVB-76/The Buzzer (4625Khz) JAJAJJAJA 0239 EST #RussiaUkraineWar wonder if they have another freq to work\"],[\"DaharwalK\",\"NEG\",\"Amid #RussiaUkraineWar\\nIrresponsible and Provocative statement by #NATO is leading the rest of the World towards un\\u2026 https://t.co/xMVUVUvUgc\"],[\"lara_reads\",\"NEU\",\"Translating languages can be tricky. It was erroneously reported that in terms of strength, Russia has the second a\\u2026 https://t.co/tFEMfFCV91\"],[\"UiTV_Connect\",\"NEU\",\"Russian forces take control of Ukraine's Izyum city\\n#Ukraine #RussiaUkraineWar #Izyum #city #takecontrol\\u2026 https://t.co/dFr94LxYpF\"],[\"ShehanR2\",\"POS\",\"\\ud83c\\uddfa\\ud83c\\udde6\\ud83c\\uddf7\\ud83c\\uddfa Positive noise from Ukraine, via @SkyNewsArabia_B  \\ud83d\\udc40\\n\\n#RussiaUkraineWar https://t.co/6JFow2W0E7\"],[\"SouleFacts\",\"NEU\",\"National Security Adviser #AjitDoval and visiting Chinese Foreign Minister Wang Yi today held talks, probably focus\\u2026 https://t.co/ms4I0vkroA\"],[\"thepublicnews24\",\"NEU\",\"Russia running out of precision munitions in Ukraine war- Pentagon official \\n#RussiaUkraineWar #RussianUkrainianWar\\u2026 https://t.co/Nlv4D1W2jj\"],[\"PradeepHardikar\",\"NEU\",\"Nearly 3 million Ukrainians who have fled to nearby countries and all the Russian soldiers one keeps hearing of not\\u2026 https://t.co/S2laTkIVhC\"],[\"moneycontrolcom\",\"NEG\",\"As the  #RussiaUkraineWar continues, prices of #EdibleOil have skyrocketed. This is because #Ukraine is largest exp\\u2026 https://t.co/4T1HvBQ09u\"],[\"PatilSushmit\",\"NEU\",\"#BREAKING : The Ministry of Defense of the #Russian Federation published footage of the destruction of the training\\u2026 https://t.co/NyF8RYRBzM\"],[\"thepublicnews24\",\"NEG\",\"EXCLUSIVE: Russia is suffering failure rates as high as 60% for some of the precision-guided missiles it is using t\\u2026 https://t.co/gdiAtG9b9B\"],[\"JamesAithie\",\"NEG\",\"Can't help  but think the US are using Ukraine in a rope-a-dope strategy with Russia. Allow them to wear themselves\\u2026 https://t.co/eOaAH1rgZs\"],[\"InnoKamutando\",\"NEU\",\"The current disruption to fertiliser supply chains due to #RussiaUkraineWar is blessing is disguise for #Zimbabwe,\\u2026 https://t.co/WevUWPpKOn\"],[\"iVeeRaM\",\"NEU\",\"Commentaries from @EFSAS_AMS on the reaction of South Asian countries on #RussiaUkraineWar. One point that must be\\u2026 https://t.co/QBandBjulW\"],[\"hizbie_\",\"NEU\",\"Foreign mercenaries in the battles for the village of Lukyanovka north of Baryshevka in the #Chernihiv region.\\u2026 https://t.co/XqOQ9LCS7W\"],[\"scottmccampbell\",\"NEG\",\"@JoeBiden Wrong. He knew exactly what was going to happen. It\\u2019s you that has no idea what you\\u2019re doing, Mr. Magoo.\\u2026 https://t.co/ErdAshklQa\"],[\"THIS_IS_UKR\",\"NEU\",\"\\u26a1#NorthKorea confirmed that it tested the Hwaseong-17 ballistic missile yesterday. The missile fell in the Sea of\\u2026 https://t.co/0w0P8nVXxz\"],[\"DeborahResists\",\"NEU\",\"Follow the AP\\u2019s coverage of the #RussiaUkraineWar at https://t.co/W7DHHeYD8u\"],[\"iron_emu\",\"NEG\",\"Exclusive: Up to 60% failure rate for some Russian missiles in Ukraine, U.S. officials say\\n\\n\\\"Two experts interviewe\\u2026 https://t.co/l019PPoLeU\"],[\"intellectualop\",\"NEG\",\"People have to depend on the state to fulfil their basic needs and their struggle to survive overpowers their strug\\u2026 https://t.co/y038kyL1Kt\"],[\"acbeake\",\"NEU\",\"@kushthedevil Renault Suspend production in Russia \\ud83d\\udc4f\\ud83d\\udc4f\\ud83d\\udc4f\\ud83c\\uddfa\\ud83c\\udde6\\ud83c\\uddfa\\ud83c\\udde6\\ud83c\\uddfa\\ud83c\\udde6\\nAre there other companies? \\n#RussiaUkraineWar\\u2026 https://t.co/FepN3RH0NR\"],[\"DeborahResists\",\"NEU\",\"#FactsMatter #UkraineUnderSiege #DemocracyNotAutocracy \\n\\nKey things to know about the #RussiaUkraineWar (from @AP)\\nhttps://t.co/nblbMoKXZu\"],[\"KatzbyNYC\",\"NEG\",\"Russia Losing the War in Ukraine: ...and now notorious war criminal #Lavrov wants to kill Ukrainians with chemical\\u2026 https://t.co/qQG4yKXr0S\"],[\"hobowonder\",\"NEG\",\"#RussiaUkraineWar #belarus #UkraineWar #belarus out of the 2 idiots, the idiot on the right wins https://t.co/TNK0v7uLuP\"],[\"SouravTelecom\",\"NEU\",\"Do You Think #American Hegemony is Falling in the World ?\\n#RussiaUkraineWar \\n#UkraineRussiaWar \\n#NATO\"],[\"editorji\",\"NEU\",\"#RussiaUkraineWar | Why UK's Indian-origin minister #RishiSunak was grilled over wife's stake in #Infosys and the f\\u2026 https://t.co/9Iw05lRKKE\"],[\"THIS_IS_UKR\",\"NEU\",\"\\u26a1For the first time in its history, Ireland's most popular newspaper, the #IrishIndependent, has published a major\\u2026 https://t.co/zyCx8unF1G\"],[\"DeborahResists\",\"NEG\",\"#UkraineUnderSiege #LongLiveUkraine #FactsMatter \\n\\nAP #PHOTOS\\n1 MONTH: #RussiaUkraineWar rages on; 3M #refugees hav\\u2026 https://t.co/twcpstmVG0\"],[\"MirrorNow\",\"NEU\",\"ART KNOWS NO BOUNDARIES\\nUKRAINIAN ARTISTS FIND HOME IN HUNGARY\\n\\nSeveral Ukrainian circus artists who had to flee be\\u2026 https://t.co/AXEf0Sd9tI\"],[\"ET_RISE\",\"NEU\",\"#Rice is the staple diet for half of the world's population. \\n#India #Vietnam #RussiaUkraineWar #inflation @FAO https://t.co/OrQPhBGlf3\"],[\"joelaspencer1\",\"POS\",\"@EuromaidanPR So happy to hear you got the Switchblades!  We hope you like them.  Send pictures!\\n#RussiaUkraineWar\\u2026 https://t.co/dMeshkmhyU\"],[\"hobowonder\",\"NEU\",\"Russians rolled over near Odessa. Stale rations everywhere. #RussiaUkraineWar #UkraineWar #Russian\\u2026 https://t.co/tPzfjZxGd9\"],[\"jc_chaudhry\",\"NEG\",\"One Month Since Russia Invaded Ukraine. The War is Still On! Hope you know the reasons behind it. Check our Predict\\u2026 https://t.co/8X6pRSwY0t\"],[\"Mari_Berbec\",\"NEU\",\"As it was predicted, the thinking in the West that Russian people will bring down #Putin regime is still baseless.\\u2026 https://t.co/t7Hf5SkZVQ\"],[\"ivannavilk\",\"NEU\",\"Now I know, why our men fight so bravely in #RussiaUkraineWar #humor\\nMe, a Ukrainian wife too, we are tough\\ud83e\\udd23 https://t.co/7mkfa3Ji2i\"],[\"yespunjab\",\"NEU\",\"UN General Assembly adopts resolution on humanitarian situation in Ukraine\\n\\n#UN #UnitedNations #GeneralAssembly\\u2026 https://t.co/RVk2P5pTCK\"],[\"prism_anand\",\"NEU\",\"#China FM #WangYi meets EAM JaiShankar. \\n#RussiaUkraineWar https://t.co/EdTBC99a9u\"],[\"gahamalian\",\"NEU\",\"2/1 President #Putin claimed his move was based on confidence in currencies of Western nations being destroyed afte\\u2026 https://t.co/MReBZTwK5u\"],[\"gahamalian\",\"NEU\",\"Germany Urges Emergency Energy Plan\\n\\n1/1 Germany's Association of Energy and Water Industries (BDEW) has called for\\u2026 https://t.co/w6CC6o1BiX\"],[\"AtlasofWars\",\"NEU\",\"\\ud83c\\uddfa\\ud83c\\udde6\\u262e\\ufe0f Dr. Scotto (@Unifi) presents us with 12 programmatic points on how to end the #RussiaUkrainewar and go beyond,\\u2026 https://t.co/R7DW85QsBh\"],[\"FinancialXpress\",\"POS\",\"OPINION | As the world\\u2019s second-largest economy with aspirations of national rejuvenation and global leadership, Ch\\u2026 https://t.co/6m5bheOSEz\"],[\"EconomicTimes\",\"NEG\",\"Biden and friends target the gold stockpile that Vladimir Putin been building since 2014 #RussiaUkraineWar  https://t.co/OLSGGCIdlK\"],[\"kk131066\",\"NEG\",\"https://t.co/zIfKSlMINo\\n\\n#Trump severely damaged the US image\\n\\n#AfghanistanCrisis cast doubt on #NATO's relevance\\u2026 https://t.co/Q8hB1UxKe9\"],[\"radio_rogal\",\"NEG\",\"Russian army made denazification of it8bit, it's located in #Mariupol museum of old computers.\\u2026 https://t.co/rgzRqMtlvy\"],[\"kk131066\",\"NEU\",\"That's why the US didn't want the public to know that #Ukraine will not be a #NATO member &amp; told Zelensky that \\\"pub\\u2026 https://t.co/88HFQ6ZpXq\"],[\"tackingcaleuche\",\"NEU\",\"DONBASS WAR: AIRPORT. PART 2\\n\\nwarning: graphic footage\\n#Ukraine\\ufe0f #Russia #UkraineRussiaWar #RussiaUkraineWar #Putin https://t.co/9SCOCEbh5Q\"],[\"tackingcaleuche\",\"NEU\",\"DONBASS WAR: AIRPORT. PART 1\\n\\nwarning: graphic footage\\n#Ukraine\\ufe0f #Russia #UkraineRussiaWar #RussiaUkraineWar #Putin https://t.co/w5h6kgvl2g\"],[\"LeftoverHindus\",\"NEU\",\"@WIONews @SaroyaHem @susanmtehrani After illegally taking $400 billion from Russia by freezing their assets, americ\\u2026 https://t.co/MUtsmk2j5a\"],[\"news18dotcom\",\"NEU\",\"The US has put together a Tiger Team -  a group of national security officials to help US plan scenarios along with\\u2026 https://t.co/JW842XuHCa\"],[\"AsimAnand25\",\"NEU\",\"#RussiaUkraineWar\\n\\n#Morocco is trying to diversify its soft #wheat supply base away from #Ukraine \\n\\n- Prolonged dro\\u2026 https://t.co/ee3ncbi5io\"],[\"TarikCyrilAmar\",\"NEU\",\"1/4 A few observations re #Russian media and #RussiaUkraineWar: 1) As is well-known the large-scale invasion of\\u2026 https://t.co/o7WczigJV0\"],[\"GlobalUpdates7\",\"NEU\",\"#BREAKING | #Bangladesh votes for UN Resolution demanding halt to #Russia's war in #Ukraine.\\n#UkraineWar\\u2026 https://t.co/NUm2F0HMWZ\"],[\"JamesPorrazzo\",\"NEU\",\"Azov used bullets dipped in pig fat vs. Chechens and the Russian Army. Chechens and the Russian military used therm\\u2026 https://t.co/giVdD7XBO9\"],[\"Cyberknow20\",\"NEG\",\"#killnet not being remotely subtle about who they are targeting. \\n\\n#cybersecurity #infosec #UkraineRussiaWar\\u2026 https://t.co/jdb3tuB1Ex\"],[\"news8_plus\",\"NEU\",\"Russia Ukraine War: Biden's big announcement regarding Ukraine's aid in the midst of war, preparing to crack down o\\u2026 https://t.co/SftNY615fH\"],[\"BKALON2\",\"NEU\",\"@Quicktake Respond with what? #RussiaUkraineWar #Russia has #HypersonicMissiles &amp; NATO just ran from Afghanistan be\\u2026 https://t.co/NuJdOLRFtf\"],[\"azizraw\",\"NEG\",\"@Reuters #Russia is losing the #battle for sure 100%,  just a matter of time then we will see #Putin acquiesces to\\u2026 https://t.co/T1pj28ufMe\"],[\"bradbury_ely\",\"NEU\",\"Sergei Shoigu is probably being \\n\\u201cre-educated\\u201d in a Gulag somewhere in Siberia #RussiaUkraineWar #PutinsWar https://t.co/xs3Y5gsxqK\"],[\"hizbie_\",\"NEU\",\"A mass march in support of #Ukraine took place in the #Bulgarian capital Sofia. This was in response to the words o\\u2026 https://t.co/DWAQxCX9fG\"],[\"ExamNational\",\"NEG\",\"Russia continues attacks on key Ukrainian cities\\n#RussianUkrainianWar #RussiaUkraineWar #UkraineWar\\u2026 https://t.co/ZENzmAwgdU\"],[\"faldin_sergey\",\"NEG\",\"The NATO leaders need to realize that what they\\u2019re facing is not a common diplomacy situation. \\n\\nThey\\u2019re facing a r\\u2026 https://t.co/gCRcQcGfUZ\"],[\"JMunyaneza\",\"NEG\",\"\\\"Are we your slaves?\\\"\\n\\nPrime Minister @ImranKhanPTI of #Pakistan stands up to Western bullies who are trying to arm\\u2026 https://t.co/GaBcxWt2tC\"],[\"iVeeRaM\",\"NEU\",\"@ThePrintIndia This mysteriously coincides with India not accepting visit of UK's delegation to India for preach on\\u2026 https://t.co/YELfFithAH\"],[\"hizbie_\",\"NEU\",\"In Kherson, the #RussianArmy captured Dmytro Afanasyev, a deputy of the Ship District Council and head of the #EU f\\u2026 https://t.co/xE9yi9Cyhf\"],[\"hizbie_\",\"NEU\",\"#RussianArmy captured by #UkrainianArmy.\\n\\n#RussiaUkraineWar https://t.co/i8ggFhypvu\"],[\"tackingcaleuche\",\"NEU\",\"Meanwhile, in Mariupol...\\n\\nSurvivor testimony\\n#Ukraine\\ufe0f #Russia #UkraineRussiaWar #RussiaUkraineWar #Biden #Putin https://t.co/WToNOOael7\"],[\"Justin34171301\",\"NEU\",\"Not to brag or anything but I\\u2019m pretty sure I could beat Putin in both command &amp; conquer and war hammer.  \\ud83e\\udd37\\u200d\\u2642\\ufe0f\\u2026 https://t.co/luBIYMXYjQ\"],[\"thefirstindia\",\"NEU\",\"India abstains in UNGA on resolution by Ukraine on humanitarian crisis, reiterates call for immediate ceasefire\\u2026 https://t.co/UX4yQrTMcu\"],[\"ItsTheNewSouth\",\"NEU\",\"American volunteers squaring off with the Russians: \\nAs God intended.\\n#RussiaUkraineWar\\n#Ukraine\\ufe0f\\n#ForeignLegion\\u2026 https://t.co/DJoEk8RmFF\"],[\"hawkhighsky\",\"NEU\",\"Is the president of #Ukraine a hero? #RussiaUkraineWar #Zelensky https://t.co/ClWZWzCQso\"],[\"IndiandefenceNS\",\"NEU\",\"Russia-Ukraine war, Russia\\u2019s Next Target: Moldova? #Ukraine #RussiaUkraineWar #UkraineRussianWar  https://t.co/EFgQLeTlpl\"],[\"DinalipiOnline\",\"NEU\",\"Biden, Western allies open 1st of 3 summits on Russian war\\n\\n#Ukraine #NATOSummit #NATO #RussiaUkraineWar\\u2026 https://t.co/tZPelwgMYM\"],[\"IndiandefenceNS\",\"NEU\",\"India's loyal wingman project CATS Warrior to go airborne by 2024 #Ukraine #RussiaUkraineWar #UkraineRussianWar https://t.co/r0ABfZBCON\"],[\"ians_india\",\"NEU\",\"In a virtual address to the European Council summit in #Brussels, Ukrainian President #VolodymyrZelensky (\\u2026 https://t.co/yY1deiTm7x\"],[\"IndiandefenceNS\",\"NEU\",\"Why did the Turkish TB2 UAV Suddenly \\\"disappear\\\" from the sky of Ukraine? #Ukraine #RussiaUkraineWar\\u2026 https://t.co/4PFDk6yCk6\"],[\"NewsSense_Aaron\",\"NEU\",\"\\ud83d\\udd34 #Russia #Ukraine #Putin #RussiaUkraineWar \\n\\n\\ud835\\udc11\\ud835\\udc2e\\ud835\\udc2c\\ud835\\udc2c\\ud835\\udc22\\ud835\\udc1a\\ud835\\udc27 \\ud835\\udc2c\\ud835\\udc21\\ud835\\udc22\\ud835\\udc29 \\ud835\\udc29\\ud835\\udc1a\\ud835\\udc1c\\ud835\\udc24\\ud835\\udc1e\\ud835\\udc1d \\ud835\\udc30\\ud835\\udc22\\ud835\\udc2d\\ud835\\udc21 \\ud835\\udc1a\\ud835\\udc26\\ud835\\udc26\\ud835\\udc28 \\ud835\\udc22\\ud835\\udc2c \\ud835\\udc01\\ud835\\udc0b\\ud835\\udc0e\\ud835\\udc16\\ud835\\udc0d \\ud835\\udc14\\ud835\\udc0f \\ud835\\udc22\\ud835\\udc27 \\ud835\\udc14\\ud835\\udc24\\ud835\\udc2b\\ud835\\udc1a\\ud835\\udc22\\ud835\\udc27\\ud835\\udc22\\ud835\\udc1a\\ud835\\udc27 \\ud835\\udc29\\ud835\\udc28\\ud835\\udc2b\\ud835\\udc2d \\n. https://t.co/AoEXChpZhu\"],[\"UkraineUpdates5\",\"NEU\",\"#UkraineRussiaWar #UkraineRussianWar #Russia #RussiaUkraineWar \\nUkrainian forces may launch a large attack in western Kyiv within next week.\"],[\"ritujay\",\"NEU\",\"Who Is Butcher of Mariupol? Russian Col Gen Mikail Mizintsev Who Is In-Charge of Mariupol Siege Also Masterminded A\\u2026 https://t.co/f7kI0gmolP\"],[\"AwazThevoice\",\"NEU\",\"India abstains on resolution by Ukraine on humanitarian crisis\\n#UNGC @UN #Unitednation @IndiainUkraine\\u2026 https://t.co/am2pwWkFqo\"],[\"EuromaidanPress\",\"NEU\",\"#China may help #Russia facilitate movement of Russian Navy ships between the Azov, Black and Caspian seas by deepe\\u2026 https://t.co/qV6j1nnKaP\"],[\"AsimAnand25\",\"NEG\",\"#RussiaUkraineWar \\n\\nAll #Ukraine ports and infrastructure for agri exports will be destroyed within next two weeks:\\u2026 https://t.co/u0Ur2Lh4Dc\"],[\"bsindia\",\"NEU\",\"The last of the five-part series looks at why durables companies are planning to raise prices by up to 15%\\u2026 https://t.co/6VKpVj0vpD\"],[\"lighthouse_dao\",\"NEU\",\"#RussiaUkraineWar #cryptowar No one is opposed to profiting from a war as the world rushes to buy subsidised Russia\\u2026 https://t.co/D4YQgcO3D6\"],[\"indothainewss\",\"NEU\",\"Anonymous wages a cyberwar against Russia and says they will release \\u201csecret agreement\\u201d documents from the Russian\\u2026 https://t.co/XgHdFj2Pwi\"],[\"world_Breaking2\",\"NEG\",\"#Zelensky have No power Only Depend On #NATO \\n#RussiaUkraineWar\"],[\"tackingcaleuche\",\"NEG\",\"Meanwhile, in Ukraine...\\n\\nMMA fighter, Maxim Ryndovsky, was kidnapped and beaten by Ukrainian Nazis for his opposit\\u2026 https://t.co/aErPRor1WK\"],[\"vshinetechnolo1\",\"NEG\",\"Russia continues attacks on key Ukrainian cities\\n.....\\n#war #WARINUKRAINE #Ukraine #RussianUkrainianWar\\u2026 https://t.co/KqZaXx30y8\"],[\"CometsMum\",\"NEG\",\"Why is Canada purchasing weapons to send to #Ukraine? We are a country with limitations and there\\u2019s nothing wrong w\\u2026 https://t.co/iwGDmoSdge\"],[\"indothainewss\",\"NEG\",\"EU sanctions are \\u201ca little too late\\u201d, says President Zelensky in his message. Had it been done earlier there is cha\\u2026 https://t.co/jXJerBNEh9\"],[\"ritujay\",\"NEU\",\"Who Is Butcher of Mariupol? Russian Col Gen Mikail Mizintsev Who Is In-Charge of Mariupol Siege Also Masterminded A\\u2026 https://t.co/h8qPZDZjFU\"],[\"UkraineUpdates5\",\"NEU\",\"#UkraineRussianWar #UkraineRussiaWar #humanitarian #Russia #RussiaUkraineWar \\nRussian forces have forcibly deported\\u2026 https://t.co/gopTcDYbId\"],[\"Ramy_Sawma\",\"NEG\",\"#Donbass children didn't matter since 2014... So let's use their images now in our #Zelensky/#Nato propaganda &amp; our\\u2026 https://t.co/l661q0wrb9\"],[\"NoonanJoe\",\"NEU\",\"Ukraine Ambassador: It\\u2019s possible to close the seaports for Russian vessels and goods unilaterally.\\u2026 https://t.co/yiqo2HO0uV\"],[\"4n4lisis\",\"NEU\",\"The South Korean President-elect Yoon Suk-yeol is assuming a more active policy against #NorthKorea. \\n\\nThe Office o\\u2026 https://t.co/3e07TD2CWf\"],[\"talismans\",\"NEU\",\"@MirrorWeirdNews We've made a comparison of the #Putin &amp; #Zelenskyy #horoscopes to #predict the outcome &amp; affects o\\u2026 https://t.co/w5hLOh73RM\"],[\"NtvTeluguLive\",\"NEG\",\"Russia Uses Phosphorous Bombs Says Ukraine President Zelensky\\n\\n#RussiaUkraineWar #Zelensky #NTVNews #NTVTelugu https://t.co/5aX0BXeyUE\"],[\"AbeedahAkhtar\",\"NEU\",\"Serbia now. Thousands of people in Belgrade demonstrate for Russia. Many of them have not forgotten when NATO bombe\\u2026 https://t.co/xyn2DvZq3V\"],[\"fpjindia\",\"NEG\",\"Ukraine destroys huge Russian warship in port of Berdyansk\\n\\n#Ukraine #RussiaUkraineWar #Russian #warship \\n\\nhttps://t.co/DjjVGDMGjU\"],[\"lematinal_media\",\"NEU\",\"Biden Promises Western Allies Would Respond If Russia Uses Chemical Weapons #JoeBiden #USA #Russia #ChemicalWeapon\\u2026 https://t.co/8efhcL6FQR\"],[\"talismans\",\"NEU\",\"@DailyMirror #WorldWar3 may not be an immediate risk according to this #astrologyprediction about the\\u2026 https://t.co/w0CLhPndkA\"],[\"newstrack_eng\",\"NEU\",\"UNCTAD downgrades India's GDP growth to 4.6pc due to ongoing war in Ukraine https://t.co/bThd0UlsAZ\\u2026 https://t.co/d4zaLBFB5A\"],[\"lematinal_media\",\"NEU\",\"War In Ukraine Marks \\u201cTurning Point\\u201d In NATO\\u2019s History #NATO #RussiaUkraineWar \\nhttps://t.co/5J4nh3eqGC\"],[\"wirc_icai\",\"NEU\",\"Pictures from the S Vaidhyanath Aiyar Memorial Lecture on Global Scenario Post Russia - Ukraine Conflict held on 22\\u2026 https://t.co/h7l5jd3S9A\"],[\"indiacom\",\"NEU\",\"Why are cooking gas prices rising? | Explained\\n\\n#cookinggas #LPGCylinder #lpgpricehike #LPG #cng #png\\u2026 https://t.co/IwMU3ZzLGi\"],[\"AhsanNaqvii\",\"NEG\",\"Still, the World is being fooled and getting into the trap of conspiracies. As in this document video, they succeed\\u2026 https://t.co/fWjL6LmESn\"],[\"BustosWill\",\"NEU\",\"Vlog from St. Petersburg 1 week ago. Cops everywhere. #RussiaUkraineWar https://t.co/ATjlcQwTiT\"],[\"LJBrouwers\",\"NEG\",\"Four weeks of war scar Russia's #economy - #Charts https://t.co/bPLLLdGPli #Investing #RussiaUkraineWar\"],[\"4n4lisis\",\"NEU\",\"Update 23\\n\\n#SouthKorea to Attend UN Security Council Meeting on #NorthKorea's #ICBM Test\\n\\n\\ud83d\\udcf7 Yonhap.\\n  \\n#\\u65e5\\u672c\\u2026 https://t.co/nP0qnCLjsb\"],[\"Julia_the_who\",\"NEG\",\"More Russians are realizing how war and money work together\\n\\nThose rockets demolishing Ukrainian Kharkiv and Mariup\\u2026 https://t.co/fgxnHa8yFa\"],[\"RoINTEL\",\"NEU\",\"#US: #Ukraine\\ufe0f likely conducted successful strike on large #Russian assault ship. \\nU.S. defense officials assessed\\u2026 https://t.co/kF8mzrODNi\"],[\"internetguy01\",\"NEG\",\"#ImageDesc #RussiaUkraineWar what should be a normal #hospital room is anything but normal. A little girl lies moti\\u2026 https://t.co/wkasV3MXQZ\"],[\"noland_misty\",\"NEG\",\"@jacksonhinklle https://t.co/DCQ0JFhUR8 imagine thinking Trump is smart #RussiaUkraineWar\"],[\"HarobedRetsiger\",\"NEU\",\"Help #STOP #RussiaUkraineWar\\n#Support #Ukraine \\n\\nEvery Tote Sold .... read... support \\n\\n\\ud83d\\udc9b\\ud83d\\udc99\\ud83c\\uddfa\\ud83c\\udde6\\ud83d\\udc99\\ud83d\\udc9b\\n\\nhttps://t.co/iRSgNJjJ1G\"],[\"kk131066\",\"NEU\",\"https://t.co/O8iC2TgNgD\\n\\nThat's why the US/EU told Zelensky - #Ukraine will not be a member, \\\"but publicly, the doo\\u2026 https://t.co/Dl8oCMdw7c\"],[\"teamcorona04\",\"NEU\",\"#Moscow #European #WWIII #Russia #ChinaRussia  #Kremlin #Ukraine #UkraineRussiaWar #Putin #RussiaUkraineWar \\n\\nRussi\\u2026 https://t.co/L2GmfurePr\"],[\"qnty_s\",\"NEU\",\"#Africa is not poor ask the Queen of #England \\ud83c\\udff4\\udb40\\udc67\\udb40\\udc62\\udb40\\udc65\\udb40\\udc6e\\udb40\\udc67\\udb40\\udc7f  #RussiaUkraineWar https://t.co/0i2ZKamlYG\"],[\"Texasexpatriate\",\"NEG\",\"Shame on #NATO #Biden \\n\\n#Ukraine just wants the means to defend itself \\n\\nUnbelievable \\n\\n#RussiaUkraineWar #Zelensky https://t.co/wSLZTmfcEx\"],[\"shaznazuhyle\",\"NEU\",\"Great thread on looming decisions that will effect the 'new world order' #RussiaUkraineWar #sanctions https://t.co/eLXjIVdBnJ\"],[\"chrisalecanada\",\"NEG\",\"The hypocrisy is real and continues. Why does Canada sell weapons to Saudi Arabia as it continues its horrendous wa\\u2026 https://t.co/Chs2aoy9PV\"],[\"vikingfund\",\"NEU\",\"#Sweden starting to dig out of their \\\"neutral\\\" status? #RussiaUkraineWar https://t.co/051LgfEEnl.\"],[\"dna\",\"NEU\",\"UK Finance Minister #RishiSunak faces tough questions on wife's company in Russia. \\n\\n#RussiaUkraineWar\\u2026 https://t.co/STyoa0rVaS\"],[\"imamhulagur\",\"NEU\",\"#Chinese foreign minister Wang Yi is meeting NSA Ajit Doval currently. This will be followed by a meeting with EAM\\u2026 https://t.co/DxBazibxb3\"],[\"IAshutoshsingh1\",\"NEU\",\"American volunteer in Ukraine shows off a recently destroyed Russian tank\\n#UkraineRussianWar #RussiaUkraineWar\\u2026 https://t.co/SOsWcGPZXR\"],[\"Sambad_English\",\"NEU\",\"Russian forces hit 60 Ukrainian military facilities over the past day, including two command posts, two multiple la\\u2026 https://t.co/uJNK8riSsd\"],[\"Buffalo95847\",\"NEU\",\"@nklslick @LILGUYISBACK @AZ_Brittney There are a large number of Slavic Refugees at our border now. Most are not be\\u2026 https://t.co/XvoAolAU27\"],[\"NewIndianAshok\",\"POS\",\"Wow is something is a must watch today it is this !\\nEducate yourself in just 2 minutes\\n\\n#RussiaUkraineWar #NATO\\u2026 https://t.co/ScND5oyB8F\"],[\"4n4lisis\",\"NEU\",\"\\ud83c\\uddf0\\ud83c\\uddf5\\ud83d\\ude80\\ud83c\\uddfa\\ud83c\\uddf2\\n\\n\\\"#North Korea tests massive new #ICBM for 'long' confrontation with US\\\"\\n\\nJust confirming what happened \\ud83d\\ude80 in\\u2026 https://t.co/wMYZo3DJpe\"],[\"AmritaS98521442\",\"NEG\",\"Never forget today is National Genocide Day\\nAt midnight on March 25, 1971, the Pakistani invaders carried out a cow\\u2026 https://t.co/RHs9Tyb2XV\"],[\"IndiandefenceNS\",\"NEG\",\"Why Russia\\u2019s only aircraft carrier can\\u2019t attack Ukraine? #Ukraine #RussiaUkraineWar #UkraineRussianWar  https://t.co/sgEJa9bzKq\"],[\"cloutmeadows\",\"NEU\",\"If the tank was developed during WW1\\n\\nAnd the nuke was developed in WW2\\n\\nDo we really want to know why will be deve\\u2026 https://t.co/FCpVbxzTIG\"],[\"amer_ajaz\",\"NEG\",\"@Li_Yang_China A picture paints a thousand words.\\n#China #Russia \\ud83d\\udc47\\ud83d\\udc47\\ud83d\\udc47#RussiaUkraineWar all in one. https://t.co/xiYxyWRMyr\"],[\"madhyamam_eng\",\"POS\",\"Two love's young dream united India in times Ukrainian war #russiaukrainewar https://t.co/Q8n6mfl7Sd\"],[\"vikingfund\",\"NEU\",\"Putin said that RU &amp; China conduct joint military exercises on a regular basis, at sea, and on land, within both na\\u2026 https://t.co/mYV4hGTG9y\"],[\"the_newsmen\",\"NEU\",\"In its latest action to impose severe costs on Russia, the US Department of Treasury's Office of Foreign Assets Con\\u2026 https://t.co/JtxcUG7fDN\"],[\"jjfbbennett\",\"NEU\",\"Why is it that on the surface we play blind when we can foresee the tactics of the game &amp; then publicly claim surpr\\u2026 https://t.co/XNGhmzkREK\"],[\"SAMonitor\",\"NEG\",\"One other unintended consequence of the potential failure of the #Russian  operation is that it could slow down - a\\u2026 https://t.co/JUHIpu0xjX\"],[\"Bano_Ghazi47\",\"NEU\",\"If you live on a farmland, you will need guns and lots of ammo to protect your stocks..... \\n\\n#ZaidHamid\\u2026 https://t.co/zisc0hrQmA\"],[\"talismans\",\"NEU\",\"@Reuters This #astrology #prediction analyses the #nuclearthreat and the outcome of the #RussiaUkraineWar, https://t.co/HJVdafXukd\"],[\"SteelMint\",\"NEU\",\"India: Infra, realty laid low by rising #steel #prices\\n\\nRead full news: https://t.co/psizUeH6Ic\\n\\n@CREDAINational\\u2026 https://t.co/JeYhdC6zQr\"],[\"Bano_Ghazi47\",\"NEU\",\"\\\"With regard to food shortage... it's gonna be real.\\\" I am saying it again to everyone in this world..... If you li\\u2026 https://t.co/rLM3nf8Vck\"],[\"Finestphemmy\",\"NEU\",\"@avalaina #RussiaUkraineWar \\n#RussiaWarCrimes \\nCome to Mariupol aid\"],[\"MaGioZal\",\"NEU\",\"The #Kyiv car mechanics converting captured Russian weapons for #Ukraine\\u2019s troops \\u2022 FRANCE 24\\n#RussiaUkraineWar \\n\\nhttps://t.co/aYtCVk25Tg\"],[\"Bano_Ghazi47\",\"NEG\",\"Global wars will further destroy their external trade &amp; food supply chains &amp; then rising debt servicing will destro\\u2026 https://t.co/ism4wQLqss\"],[\"4n4lisis\",\"NEU\",\"\\\"#NorthKorea says it is 'fully ready for a long-standing confrontation with the US' after successfully testing 'mon\\u2026 https://t.co/UuosiY27ja\"],[\"Bano_Ghazi47\",\"NEG\",\"Every country which followed their devastating kovid lockdown procedures destroyed their own economy &amp; is now on pa\\u2026 https://t.co/l1BAEgZLZI\"],[\"oldnickels\",\"NEG\",\"WATCH: Intense explosion after #Russian strikes destroyed an oil depot near Kalinovka south of Kiev #Kiev\\u2026 https://t.co/2ykp2Q3okZ\"],[\"otvnews\",\"NEU\",\"Russian Forces Take Control Of Ukraine's Izyum City\\n\\n#UkraineRussiaWar #RussiaUkraineWar \\nhttps://t.co/VXZc4Qp02E\"],[\"Bano_Ghazi47\",\"NEG\",\"And now have total Monopoly over food supply..... And the idiots think that this genocidal meniac is a philanthropi\\u2026 https://t.co/6ALtolvrs3\"],[\"Bano_Ghazi47\",\"NEU\",\"And just before this crisis Bill Gates became the biggest land farmer in the world..... Buying hundreds of thousand\\u2026 https://t.co/450po96jlW\"],[\"SiddiquiMaha\",\"NEU\",\"#Chinese foreign minister Wang Yi is meeting NSA Ajit Doval currently. This will be followed by a meeting with EAM\\u2026 https://t.co/fdP1iOXNi6\"],[\"bsocialplus\",\"NEU\",\"Ukraine-Russia war: Canada working on providing more weapons to Ukraine\\n\\n#Ukraine #NATO #NATOSummit #Canada\\u2026 https://t.co/ZVPx6timDS\"],[\"puzzleheadpopup\",\"NEG\",\"Thx #putin ! \\n\\nTaiwan here! \\nAll countries Russia put on the \\n\\u201cUnfriendly\\u201d list! \\n#Ukraine #UkraineWar\\u2026 https://t.co/FUJhF2s46o\"],[\"Os_Primetv\",\"NEG\",\"Russia\\u2019s war forcing U.S. to reevaluate revival of Iran nuclear deal\\nhttps://t.co/jzKep4Y3au #RussiaUkraineWar\\u2026 https://t.co/3AJUGjdDcV\"],[\"OptimistNewz\",\"NEU\",\"Thanking Western military alliance members for defensive equipment provided, Zelenskyy also appealed for offensive\\u2026 https://t.co/FuRQf4cNO3\"],[\"SDey83\",\"NEU\",\"My sympathy to all poor Americans!\\n\\n#RussiaUkraineWar https://t.co/X7svCwZtax\"],[\"PortCalls\",\"NEU\",\"Russia\\u2019s month-old invasion of Ukraine and changes in macroeconomic policies by countries in recent months have pro\\u2026 https://t.co/IYBgabV1nd\"],[\"livemint\",\"NEU\",\"#RussiaUkraineWar | Oil tumbled as traders weighed the impact of rising trading costs on the major exchanges while\\u2026 https://t.co/Z6MfAmZmZZ\"],[\"youngin86184063\",\"NEU\",\"Bangladesh voted for Ukraine in the UN  \\n#Ukraine #RussiaUkraineWar #Russian #UkraineRussianWar #Putin #BBB22\\u2026 https://t.co/t62KSEw2bt\"],[\"Bob_Hutchinson\",\"NEG\",\"#Ukraine #UkraineWar #UkraineRussianWar #RussiaUkraineWar #Russian As usual, @theDemocrats are trying to goad Ameri\\u2026 https://t.co/ljuFfNJIu2\"],[\"spotnews18_\",\"NEG\",\"On May 9, The Ongoing War Between Russia And Ukraine Will End! Why Did Putin Choose This Day After All?\\u2026 https://t.co/vrR8RxyWh0\"],[\"iAtulKrishan\",\"NEU\",\"#Russia's armed forces have taken control of the city of #Izyum in #Ukraine's Kharkov region, a top official in Mos\\u2026 https://t.co/4BT8gNbR73\"],[\"PrajwalSrivast8\",\"POS\",\"In helping out a good friend in his fight to protect his own people, the Indian government gave excellent support t\\u2026 https://t.co/TRH20ASyOn\"],[\"youngin86184063\",\"NEU\",\"#BREAKING  #NATO warns #Russia to increase its power in the war between Russia and #Ukraine #RussiaUkraineWar\\u2026 https://t.co/FvYmliD6tk\"],[\"CNNnews18\",\"NEU\",\"#RussiaUkraineWar | Australia imposes sanctions against Belarus, an ally of Russia.\\n\\n@shreyadhoundial with all deta\\u2026 https://t.co/t9AqoN9lSt\"],[\"WIONews\",\"NEG\",\"Russian forces have also taken heavy casualties and are low on supplies: Report\\n\\n#RussiaUkraineWar\\n\\nhttps://t.co/6R2mA20SEv\"],[\"talismans\",\"NEU\",\"@Independent #Astrology #predictions say the #RussiaUkraineWar might only end by Dec., https://t.co/HJVdafXukd\"],[\"CNBCTV18News\",\"NEG\",\"Recent Fed talk more hawkish; Shows 50bps hike in May even as #RussiaUkraineWar results in continued high #crude pr\\u2026 https://t.co/Q55NDe7QEA\"],[\"indianwhale\",\"NEG\",\"100% failure rate for #Biden's diplomacy.\\n#RussiaUkraineWar #Ukraine #USA https://t.co/EDxg0tiJlO\"],[\"ians_india\",\"NEU\",\"#Russia's armed forces have taken control of the city of #Izyum in #Ukraine's Kharkov region, a top official in Mos\\u2026 https://t.co/LbQ89pksBX\"],[\"oldnickels\",\"NEU\",\"Unverified video report of a very powerful explosion near the #Kiev #RussiaUkraineWar #UkraineRussianWar https://t.co/tkq21HiNyX\"],[\"ValeryKosta\",\"NEG\",\"Explosion near Kyiv filmed by civilians \\n\\n#Ukraine #UkraineUnderAtta\\u0441k #UkraineWar #RussiaUkraineWar\\u2026 https://t.co/CB2unloYLZ\"],[\"DouglasGan\",\"NEU\",\"Not surprising, #Russia finally reveals their #btc card. While #Ukraine has been seen widely as the first to levera\\u2026 https://t.co/cL5y7wNr2R\"],[\"ryannvotes\",\"NEU\",\"I just said this to my child.               \\u201cI never ever thought you\\u2019d know who Putin is and what internment camps\\u2026 https://t.co/hfRUh5A1CG\"],[\"Antipiretik\",\"POS\",\"\\\"A defender of democracy? a champion for diplomacy? a force for good in the world, and a trailblazer for women, Mad\\u2026 https://t.co/FLLUz6uvw7\"],[\"oldmanwithcane\",\"NEG\",\"In the center of Mariupol, people are playing badmenton while clashes are going on in the neighboring quarter.\\u2026 https://t.co/euBLMoJE2l\"],[\"WhatTheNewsEng\",\"NEG\",\"World running out of food amid Russia-Ukraine war? Threat of Global food crisis looms over the world\\n\\nFull video on\\u2026 https://t.co/vfocKY3phz\"],[\"LawrenceSellin\",\"NEU\",\"Americans fighting #Russians in #Ukraine.\\n\\n#UkraineRussiaWar #RussianUkrainianWar #Russian #RussiaUkraineWar\\u2026 https://t.co/gxIPZfBFPB\"],[\"WhenIronySpeaks\",\"NEG\",\"Key takeaways from #RussiaUkraineWar :\\n- US will force anybody into anything blackmailing them with USD as a weapon.\"],[\"allan5oh\",\"NEU\",\"Made up some nice facts about the Russian war.  \\n\\n#RussiaUkraineWar #RussiaInvadedUkraine #UkraineRussiaWar #Russia\\u2026 https://t.co/q7jaCrObeG\"],[\"GoldSmithary\",\"NEU\",\"Will the #RussiaUkraineWar ends on May 9 ?\"],[\"onecontractprop\",\"NEU\",\"What is the #UkraineWar doing to your #super #money? Is your money reliant of what happens in #world events? Is it\\u2026 https://t.co/hZc4F7At0u\"],[\"WebberMtn\",\"NEG\",\"If only we all refused to fight one another.  #RussiaUkraineWar https://t.co/pNiMPpG5F1\"],[\"phytolipide\",\"NEU\",\"Pro #Ukraine activists block shipping into #Belarus from #Poland as this route could support #Russia\\u2026 https://t.co/9QBbLFkloh\"],[\"mari_janes\",\"NEU\",\"What's left of the #Ukraine government started arresting left-wing groups, leaders and journalists.\\u2026 https://t.co/bpyv7trdHv\"],[\"mkpandey3\",\"NEG\",\"#RussiaUkraineWar will come to end if NATO and USA stopped intimidating Ukraine.\"],[\"Komondi_Otieno\",\"NEU\",\"What does this mean to the ongoing Russia - Ukraine crisis, considering that North Korea and China are very close a\\u2026 https://t.co/ZDYYf6w0yk\"],[\"CoinHubNews\",\"NEU\",\"Russia May Accept Bitcoin for Gas Exports, Lawmaker Says https://t.co/rqwpTBBO1W\\n\\n#RussiaUkraineWar #Bitcoin #Eth #cryptocurrency #DeFi\"],[\"ttindia\",\"NEU\",\"Kahl said that Russia is likely to increase its use of unguided bombs and artillery in Ukraine as it runs out of pr\\u2026 https://t.co/z9gKDFpSJx\"],[\"Olumide9999\",\"NEG\",\"A 96 years old Ukrainian man who survived the Holocaust died in Russian attack..\\n#Ukraine #Russian\\u2026 https://t.co/IuY241ujqX\"],[\"phytolipide\",\"NEU\",\"Indications that #Russian groceries are switching to Indian,Chinese and S. African suppliers. Those countries AREN'\\u2026 https://t.co/aZ8BTh6NrR\"],[\"telugustop\",\"NEU\",\"Russia Ukraine War: A key development in NATO! https://t.co/skAHMgjf1M #NATOCountries #russiaukrainewar #SecurityCrisis Read Full  \\ud83d\\udc47\"],[\"Abhijeetpande10\",\"NEU\",\"after iraq Palestine libya Afghanistan now Ukraine, is just battle field for  Russia and Western nations if west re\\u2026 https://t.co/WU02lQ75Al\"],[\"WIONews\",\"NEU\",\"Ukrainians \\\"need to achieve peace\\\" and halt Russian bombardment, said President Volodymyr Zelensky on Friday.\\u2026 https://t.co/jpq9KJWTTr\"],[\"SicilianSpeake1\",\"NEG\",\"#ModiModiChant #Dictatorship world is creating a new dictator #NarendraModi from a #democracy India amidst his medi\\u2026 https://t.co/1BQ0zUuWpC\"],[\"Abdodj75\",\"NEG\",\"Nazism and Zionism are two sides of the same coin This is what Putin is fighting now.\\n\\n#RussiaUkraineWar https://t.co/XFNCaF03kh\"],[\"another_xtori\",\"NEG\",\"\\ud83c\\uddf7\\ud83c\\uddfa\\ud83c\\uddfa\\ud83c\\udde6 New strike footage: Russian army destroyed oil depot near Kalinovka south of #Kiev #Ukraine #RussiaUkraineWar\\u2026 https://t.co/89teguAixu\"],[\"businessline\",\"NEU\",\"\\u201cI don't think anybody in Europe really know how rubles look like,\\u201d said Slovene Prime Minister Janez Jansa. \\u201cNobod\\u2026 https://t.co/eItTm5prA2\"],[\"ActivistFirst01\",\"NEG\",\"@CBSNews #Zelenskyy is the real culprit. This war is happening because of his policies and hollow bravado.\\u2026 https://t.co/xXcHdVriD3\"],[\"mann_caves\",\"NEU\",\"\\ud83d\\udd34 LIVE NOW Ukraine Cams | 16 Live Cameras w/Sound | Ukraine War Stream \\n\\n#Livestream #livecam #Ukraine #KyivNow\\u2026 https://t.co/ffCF4hOJUW\"],[\"BillyDenham1\",\"NEG\",\"75% of #Americans support entering the #UkraineRussiaWar! 75% !\\n\\nWHY ARE YOU BRINGING SHAME &amp; EMBARRASSMENT TO THE\\u2026 https://t.co/IIVcUJHvQp\"],[\"ivyasaa\",\"NEU\",\"#RussiaUkraineWar -#UkraineWar \\n  --  EU leaders send a message to China to stop Putin \\n\\n#iVyasa @ivyasaa \\nhttps://t.co/FeXgKjJhmF\"],[\"Red_Hanrahan\",\"NEU\",\"#UkraineRussiaWar #UkraineUnderAttack #RussiaUkraineWar \\n\\n#Russian soldiers in #Ukraine: https://t.co/PybgdVc6y9\"],[\"LawrenceSellin\",\"NEG\",\"#Biden's #NATO press conference in Brussels, Belgium, was a \\\"train wreck\\\" and \\\"embarrassing in many respects\\\"\\nStole\\u2026 https://t.co/gN1cKSfqAk\"],[\"Olumide9999\",\"NEU\",\"Mykolaiv region has been liberated from Russian invaders. The last isolated units were eliminated. Ukrainian defend\\u2026 https://t.co/TuVdhxPva4\"],[\"BillyDenham1\",\"NEG\",\"@POTUS 75% of #Americans support entering the #UkraineRussiaWar! 75% !\\n\\nWHY ARE YOU BRINGING SHAME &amp; EMBARRASSMENT\\u2026 https://t.co/96qbzLHIXg\"],[\"cooddude\",\"NEU\",\"Now that everyone on the planet knows that Hunter Biden and Pops (10% for the Big Guy) were/are making HUGE MONEY o\\u2026 https://t.co/f9QOPQ6k17\"],[\"orfonline\",\"NEU\",\"Can #China rise up to the occasion and act as a mediator between the EU-US combine and #Russia? Manoj Joshi analyse\\u2026 https://t.co/LVJ59IqlAX\"],[\"saada186\",\"NEU\",\"#NewsUpdate \\n\\n#Protesters around the world rally in support of #Ukraine amid #RussianInvasion; protesters answers\\u2026 https://t.co/8kGNNjaVqC\"],[\"bsindia\",\"NEG\",\"#Opinion | Russia's Ukraine invasion has triggered some interesting boycotts though\\n\\nAtanu Biswas writes\\u2026 https://t.co/p4h9XpFx2B\"],[\"No1FeministFan\",\"NEG\",\"@dibs_themachine That #Meghan, Archie &amp; those pesky chickens, I swear people are gonna say they are responsible for\\u2026 https://t.co/H9fhN86ca3\"],[\"SDey83\",\"NEU\",\"@ANI @POTUS is responsible for #RussiaUkraineWar\"],[\"ukraine_info_\",\"NEG\",\"According to analysts, since the beginning of the war, #Russian army has lost 530 tanks, while the Armed Forces of\\u2026 https://t.co/8uoUEoeU04\"],[\"iAtulKrishan\",\"NEU\",\"#US President #JoeBiden (@JoeBiden) said that the #NATO (@NATO) has \\\"never been more united than it is today\\\" in th\\u2026 https://t.co/o3bcB847Y9\"],[\"phytolipide\",\"NEU\",\"#Russian shortages https://t.co/0TNc2JVEti #Russia #Ukraine #Ucrania #RussiaUkraineWar #UkraineRussia #Oekraine\\u2026 https://t.co/WnJ5gicLjd\"],[\"manoharrai\",\"NEG\",\"#RussiaUkraineWar  biggest looser in war is going to be poor Africa surviving on food import. West should ban energ\\u2026 https://t.co/pdd6NTGH8k\"],[\"the_newsmen\",\"NEU\",\"The US Department of Defense was directly involved in developing biological weapon components in Ukraine, the Russi\\u2026 https://t.co/o7LvA3TKAZ\"],[\"kunalcvrce\",\"NEU\",\"#Russian media footage of operation and launch of the Russian #Iskander -M missile,#Russia #Ukraine war. Video link\\u2026 https://t.co/uPJA0wQgMD\"],[\"kk0000000000\",\"NEU\",\"Unless we understand the economic base &amp; reasons that leads to religiosity, nationalism, fall of corporate media &amp;\\u2026 https://t.co/IpVKwMTjQv\"],[\"ProthomAlo\",\"NEU\",\"Speaking at the #NATO #Summit, #Stoltenberg expressed his concern over the possibility of using #biological_weapons\\u2026 https://t.co/IXz1uTd3tF\"],[\"SPABG2\",\"NEU\",\"\\u201cUkrainian Army takes positions in working hospitals, under High command orders\\u201d, Witnesses report.\\n\\n#HumanShields\\u2026 https://t.co/3g5LN9P3WV\"],[\"IndiaToday\",\"NEU\",\"Zelenskyy appeals EU leaders for quick membership to Ukraine\\n#RussiaUkraineWar #LiveUpdates \\nhttps://t.co/Bqb2s5BLV3\"],[\"elijah_karis254\",\"NEU\",\"Ukraine says 400,000 citizens have been forcibly taken to Russia | CBC News\\n\\n#UkraineRussiaWar \\n#EU\\u2026 https://t.co/MfNMIw2TXd\"],[\"amkumar2007\",\"NEG\",\"@timesofindia #RussiaUkraineWar will never end unless the West led by US and Russia sit together address each other\\u2026 https://t.co/I4lqox5h90\"],[\"ians_india\",\"NEU\",\"#US President #JoeBiden (@JoeBiden) said that the #NATO (@NATO) has \\\"never been more united than it is today\\\" in th\\u2026 https://t.co/pAxqsnEW0y\"],[\"orfonline\",\"NEU\",\"India\\u2019s core interests vis-\\u00e0-vis #Russia lie in the area of defence trade, disruption to which will have consequenc\\u2026 https://t.co/JR4wiysiQJ\"],[\"EconomicTimes\",\"NEU\",\"#RussiaUkraineWar: Here's what the war has meant for the region, and the world\\n\\nhttps://t.co/wu3LsELLjK\"],[\"ChaliceGarden\",\"NEU\",\"Whoa. \\ud83d\\ude4f\\n\\n#UkraineWar  #Ukraine #RussiaInvadedUkraine #RussiaUkraineWar #Mariupol https://t.co/ryBuqqrRRd\"],[\"Chris07627638\",\"NEG\",\"Somebody is out of gas, out of food- flat tires cold and hungry. #RussianUkrainianWar #RussiaUkraineWar #russia #SlavaUkra\\u00efni\"],[\"IndiaPost_News\",\"NEU\",\"#Russia to open ... - https://t.co/6NxvjDpxLb \\nGet your news featured use #IndiaPostUSA \\n#HumanitarianCorridor\\u2026 https://t.co/Ei5zH6u20q\"],[\"elijah_karis254\",\"NEG\",\"Japan firm bans Russian gas, despite desperate need\\n#Oil \\n#Japan \\n#RussiaUkraineWar https://t.co/dtz7LaJ2sP\"],[\"holypolitic\",\"NEG\",\"Kherson\\n\\n#UkraineUnderAttack #UkraineRussiaCrisis #RussiaUkraineWar #StopPutinNOW #PutinWarCriminal #PutinsWar https://t.co/w5KxSWO1yI\"],[\"NikkeiAsia\",\"NEG\",\"UKRAINE WAR | U.N. General Assembly blames Russia for Ukraine humanitarian crisis\\nhttps://t.co/7wm5Lz7Tqy\\n#Ukraine\\u2026 https://t.co/dCOJSUNyCa\"],[\"iSamirRoy\",\"NEU\",\"Biden says US would respond if Russia uses chemical weapons.\\n@POTUS which one you meant? The US or the Russian one\\u2026 https://t.co/7i97NKZIip\"],[\"holypolitic\",\"NEG\",\"Ukraine \\n\\n#UkraineUnderAttack #UkraineRussiaCrisis #RussiaUkraineWar #StopPutinNOW #PutinWarCriminal #PutinsWar https://t.co/fub2ompOEV\"],[\"KamauNews\",\"NEU\",\"It was a busy day of #InternationalDiplomacy, with several #Major summits that saw #Leaders from around the #World\\u2026 https://t.co/OothFRpHP4\"],[\"TGTM_Official\",\"NEG\",\"It is quite a leap of mind to process from 'US found no evidence of Chinese military aid to Russia' to 'US is shame\\u2026 https://t.co/kXruHsQlp2\"],[\"datta_diganta\",\"NEG\",\"One month of Russia - Ukraine war. #russianinvasion #Ukraine #NATO #conflict #invasion #UkraineWar #Kyiv #Kharkov\\u2026 https://t.co/RiHDPHDM0V\"],[\"indiacom\",\"NEU\",\"UK Chancellor of the Exchequer Rishi Sunak is the son-in-law of Infosys co-founder Narayana Murthy. His wife Akshat\\u2026 https://t.co/FakRKekplV\"],[\"wasiullahkhan9\",\"NEG\",\"\\u201cNo need to compare suffering\\u201d Ukrainian National Guard\\u2019s twitter post, which has since been deleted, draws critici\\u2026 https://t.co/AsKPYQIa8k\"],[\"suspilne_news\",\"NEU\",\"The United States and the European Union are ready to strengthen economic sanctions against Russia because of the w\\u2026 https://t.co/3NZ63V2bUS\"],[\"pp8010\",\"NEU\",\"If Mr. Putin crosses the nuclear rubicon, does fallout from such weapons which carries into NATO territories repres\\u2026 https://t.co/jpEnq40Fob\"],[\"saada186\",\"NEU\",\"#NewsUpdate \\n\\n#Biden says #Allies must stay united against #Russia, expel it from the #G20; #US announces new Russi\\u2026 https://t.co/aW7YECUTnm\"],[\"nd24_news\",\"NEU\",\"The resolution received 140 votes in favour following which it was adopted. There were 38 abstentions and five agai\\u2026 https://t.co/wnctDRsn8q\"],[\"nd24_news\",\"NEU\",\"India on Thursday, March 24, abstained from voting on the resolution by #Ukraine at the United Nations General Asse\\u2026 https://t.co/1vCGnE4Khl\"],[\"GReportIndia\",\"NEG\",\"World War 3 fears as Russia warns of \\u2018universal nuclear war\\u2019\\n#RussiaUkraineWar  #Russian  #RussiaUkraineConflict\\u2026 https://t.co/dHdpwq1vUR\"],[\"TheRationalMan2\",\"NEG\",\"@ChinaDaily #China should be reporting more about the invasion of the Ukraine by the friends #RussiaUkraineWar. Stop supporting a madman.\"],[\"Rahulmi57399769\",\"NEU\",\"NATO countries now enter between Ukraine and Russia war!\\n#RussiaUkraineWarDay30 \\n#RussiaUkraineWar\\u2026 https://t.co/61AkYnqjQX\"],[\"ismdu_official\",\"NEU\",\"War Update\\u2757\\n\\n#RussiaUkraineWar #RussiaUkraineConflict #war #warupdate #Putin #Zelensky #marketupdateswithismdu https://t.co/1bVQoj1CXq\"],[\"the_newsmen\",\"NEU\",\"#AnubhavBhasin, 33, who proposed to his #Ukrainian girlfriend, #AnnaHorodetska, 29, as soon as she landed here, tak\\u2026 https://t.co/KahIWYJB8X\"],[\"vela_kt\",\"NEG\",\"The US often think sanctions will bring about hardships there by causing the people to rise against the leadership.\\u2026 https://t.co/qQgzlN8Ka8\"],[\"whatisbestnow\",\"POS\",\"What's #Best on https://t.co/MPGyvaz2Cm ?\\nBitcoin Helps Kid Refugee Escape Ukraine\\nhttps://t.co/osAqXiP4S0\\u2026 https://t.co/mouk32fPmB\"],[\"BestTLD\",\"POS\",\"#Best of the day on https://t.co/xSpJCt5Tp4\\nBitcoin Helps Kid Refugee Escape Ukraine\\nhttps://t.co/9fJRsDKsxU\\u2026 https://t.co/BQtZ2rSlXW\"],[\"FremontCyril\",\"POS\",\"What's #Best on https://t.co/LefsqgcH5Q ?\\nBitcoin Helps Kid Refugee Escape Ukraine\\nhttps://t.co/EGkevEibkX\\u2026 https://t.co/EWU3Z8pvjA\"],[\"iamavikjordan\",\"NEU\",\"\\ud83c\\uddee\\ud83c\\uddf3\\ud83c\\uddf7\\ud83c\\uddfa\\ud83c\\udde8\\ud83c\\uddf3\\ud83d\\udd25\\ud83d\\udd25\\ud83d\\udd25 \\n\\n#RussianUkrainianWar #RussiaUkraineWar #RussiaUkraineConflict #RussiaUkraineCrisis \\n\\nRead it\\u2026 https://t.co/AZQA8islWy\"],[\"Prasant02565568\",\"POS\",\"#RussiaUkraineWar Only  Our Hon'ble PM  Sri Narendra  Modi  can  play promnt role  2 rstre  peace  by diplomatic  w\\u2026 https://t.co/nhVZVQwk5A\"],[\"imRavikantYadav\",\"NEU\",\"#FuelPrices - Understanding the reasons for high Fuel prices despite the Ups &amp; DOWNS of the price of #CrudeOil in i\\u2026 https://t.co/xvwJQZOqdD\"],[\"McEirini\",\"NEU\",\"\\u203c\\ufe0fEVEN MUSICIANS DEFEND THEIR COUNTRY\\u203c\\ufe0f #music #band #art #artist #Musik #Kunst #S\\u00e4nger #UkraineUnderAttack\\u2026 https://t.co/CvpTmpsylv\"],[\"tushar2085\",\"NEG\",\"World can't afford another war.\\nStop this now #Russia .\\n\\n#RussiaUkraineWar https://t.co/lyhU7NvHgt\"],[\"WIONews\",\"NEG\",\"Russia's invasion of Ukraine has made it more of a strategic burden on China, a senior Pentagon official said on Th\\u2026 https://t.co/SxlQ1M3KE3\"],[\"saada186\",\"NEG\",\"#NewsBreak \\n\\n#Anonymous 'hacks' #Russia\\u2019s 'Central Bank' and 'will unleash 35,000 #secret files'  \\n#pakustv #NYC\\u2026 https://t.co/AK5IcMfYjL\"],[\"Dgrcrypto1\",\"NEU\",\"Why are many countries not imposing sanctions on Russia?\\n\\n#RussiaUkraine \\n#Russian \\n#Russia\\n#UkraineWar \\n#Ukraine\\u2026 https://t.co/rKq1XCrYMx\"],[\"bsindia\",\"NEU\",\"The report noted that a number of developing country central banks also engaged in quantitative easing\\n\\n#India\\u2026 https://t.co/FoOb9GwuVI\"],[\"NewspaperANI\",\"NEG\",\"Biden says China to face dire economic consequences if it aids Russia in Ukraine war\\n\\n #Biden #China\\u2026 https://t.co/qvaEN2esSM\"],[\"educationtimes\",\"NEU\",\"We are doing a story in Education Times on Ukraine-returned Indian MBBS students. If you are among them and keen to\\u2026 https://t.co/D8VnWFEREg\"],[\"ImranInc\",\"NEG\",\"Why did you attack Iraq - Journalist\\n\\nWe attacked Iraq because they had nuclear weapons - America.\\n\\nSo will you att\\u2026 https://t.co/NhwDQxo1N6\"],[\"phytolipide\",\"NEU\",\"\\\"Amateurs talk strategy. Professionals talk logistics.\\\" Military logistics expert explains what's going wrong for\\u2026 https://t.co/41HNOHrNJk\"],[\"SadanandDolhare\",\"POS\",\"Indian way of understanding the real issue of #Russia with #Ukraine\\n\\nThe characters so nicely fit into the present\\u2026 https://t.co/q9eWWSYXwj\"],[\"theasialive\",\"NEU\",\"Ukraine says Moscow is forcibly taking civilians to Russia\\n#Ukraine #UkraineRussiaCrisis #Ukraine\\ufe0f\\u2026 https://t.co/NAKMkpbPQg\"],[\"iamsuffian\",\"NEG\",\"Scenes of devastation at Irpen, the attack by #Russians leaving behind trail of destruction in the #Ukraine city\\u2026 https://t.co/rcxZit9h7O\"],[\"afterglowmp\",\"NEG\",\"Europe's reliance on Russian oil &amp; gas funds Putin's homicidal madness but with global shift to renewables, no bett\\u2026 https://t.co/7xmlCBwq9v\"],[\"TheAsianAgeNews\",\"NEU\",\"#Opinion | If the war prolongs with Vladimir Putin unable to gracefully accept the inability of the Russian Army to\\u2026 https://t.co/xN8JkcuR6d\"],[\"DeccanChronicle\",\"NEU\",\"#Opinion | If the war prolongs with Vladimir Putin unable to gracefully accept the inability of the Russian Army to\\u2026 https://t.co/qaudeNi02W\"],[\"bubblebuster26\",\"NEG\",\"Putin is the bully who punches everyone and when someone finally punches back he cries and throws a temper tantrum.\\u2026 https://t.co/ColEeyikQh\"]],\"hovertemplate\":\"Likes=%{y}<br>TwitterHandle=%{customdata[0]}<br>Sentiment_Transformer=%{customdata[1]}<br>Tweet=%{customdata[2]}<extra></extra>\",\"legendgroup\":\"\",\"marker\":{\"color\":\"#636efa\"},\"name\":\"\",\"offsetgroup\":\"\",\"orientation\":\"v\",\"points\":\"outliers\",\"scalegroup\":\"True\",\"showlegend\":false,\"x0\":\" \",\"xaxis\":\"x\",\"y\":[0,0,3,2,2,33,3,0,0,0,0,0,1,1,0,2,0,0,0,0,0,2,1,0,0,2,0,104,0,0,1,0,1,0,0,1,1,2,0,2,3,1,3,0,1,0,0,1,7,1,1,0,2,3,0,10,2,1,0,1,1,23,1,0,0,0,0,0,0,1,4,1,1,0,0,1,0,0,0,1,1,1,1,0,2,0,0,0,0,0,0,8,32,1,0,0,0,1,0,0,0,0,0,1,0,0,0,0,0,0,0,0,2,1,0,0,0,0,0,2,0,0,0,0,1,0,6,0,1,0,2,0,2,0,98,7,96,0,7,0,6,0,0,5,2,1,0,0,2,0,1,2,0,0,0,2,1,0,0,1,0,0,0,12,4,0,12,0,1,1,0,0,3,0,0,0,14,1,0,0,0,0,0,1,1,0,7,4,0,1,1,0,0,3,5,1,0,240,0,0,0,8,0,0,3,1,0,4,1,0,0,14,1,1,1,4,0,0,1,1,5,0,0,1,1,0,0,1,2,0,1,0,0,0,0,1,0,0,0,2,1,1,0,1,1,25,1,6,1,0,0,0,0,0,25,1,5,0,2,0,0,2,1,1,0,0,0,2,2,0,3,1,1,0,0,0,2,0,0,0,1,0,0,13,1,0,3,1,0,1,0,1,3,1,0,0,0,0,0,0,0,13,0,0,0,0,1,0,0,7,1,0,3,0,1,6,3,1,1,3,23,26,0,0,1,0,1,0,0,9,2,0,21,3,0,0,0,1,0,0,3,0,0,0,2,0,0,0,1,1,0,1,0,0,2,1,2,1,5,1,1,1,33,3,1,3,0,1,1,1,0,9,2,1,0,1,1,0,1,0,1,0,2,10,2,2,1,1,24,0,0,4,0,0,408,1,0,0,1,0,0,0,0,0,1,0,1,3,1,3,2,1,1,9,1,0,0,0,0,0,1,0,1,0,3,1,0,2,0,1,2,1,1,1,1,0,2,0,1,2,0,0,4,0,0,0,8,6,0,0,0,0,0,0,0,0,0,0,4,1,1,1,1,0,3,2,0,0,0,1,0,2,0,0,7,2,2,1,1,0,3,3,0,0,0,1,1,0,1,0,0,0,3,1,1,0,4,2,1,0,0,3,34,4,1,2,3,0,5,0,0,0,0,3,1,1,0,0,11,0,0,2,2,2,1,1,1,0,8,0,0,3,22,0,1,13,29,1,6,0,1,0,0,1,0,0,0,0,7,1,1,0,0,1,0,1,3,0,0,1,0,6,0,0,0,1,2,2,13,2,0,2,1,1,1,1,3,11,0,3,5,0,1,0,0,7,0,1,3,0,1,1,1,1,0,2,0,0,1,1,1,1,6,1,1,1,112,7,4,1,1,1,3,1,1,0,1,1,0,1,0,0,0,1,2,0,0,0,0,0,2,2,0,0,0,0,1,0,0,0,1,0,2,6,1,5,0,7,1,3,0,2,2,2,6,1,0,1,0,1,0,0,0,0,0,8,0,0,1,2,1,2,2,25,2,1,13,1,3,1,1,5,0,8,1,1,1,7,1,1,4,23,2,6,0,0,2,0,0,1,0,0,0,37,0,0,0,1,0,0,0,1,0,1,1,2,0,0,0,23,0,3,1,3,1,2,0,0,0,22,4,2,1,0,2,1,0,0,2,3,0,1,0,0,0,5,3,7,0,1,0,4,4,1,0,0,0,2,5,1,1,0,126,0,0,0,10,0,0,0,1,0,0,0,0,0,3,0,1,2,0,0,10,0,1,25,0,2,2,1,0,3,0,0,0,3,1,0,0,0],\"y0\":\" \",\"yaxis\":\"y\",\"type\":\"violin\"},{\"legendgroup\":\"Retweets\",\"line\":{\"color\":\"blue\"},\"name\":\"Retweets\",\"points\":\"outliers\",\"scalegroup\":\"Retweets\",\"y\":[0,0,0,1,0,7,2,0,0,0,0,0,0,0,0,0,0,0,0,0,0,1,0,0,0,0,0,36,0,0,0,0,0,0,0,0,0,3,0,0,1,0,1,2,1,0,1,1,2,2,0,1,0,0,0,2,2,1,0,1,1,21,0,0,0,0,0,1,0,0,0,1,1,2,0,1,0,0,1,0,1,0,1,0,2,0,0,0,0,0,0,2,23,0,0,0,0,0,0,0,0,0,0,0,0,0,0,0,0,0,0,0,0,0,2,0,0,0,0,1,0,0,0,0,0,0,4,0,0,0,3,0,0,0,18,2,30,0,2,1,0,0,0,1,2,0,0,0,0,0,0,1,0,0,0,0,1,0,0,2,0,0,0,23,0,0,7,0,0,3,0,1,2,1,0,0,3,0,0,0,0,1,0,0,0,0,6,1,0,0,1,1,1,3,2,0,0,45,0,0,0,0,0,0,2,0,0,0,0,0,1,2,0,0,1,1,1,0,0,0,1,0,0,0,1,0,0,0,0,0,0,0,0,0,0,0,0,0,0,0,0,1,0,0,0,16,0,2,2,0,0,0,1,0,7,0,4,0,0,0,0,0,0,0,0,3,1,1,2,0,0,0,0,0,0,0,0,1,0,0,0,0,0,5,0,0,0,0,0,0,0,0,0,0,0,0,0,0,0,0,0,2,0,1,0,0,1,0,0,0,1,0,1,0,0,1,4,0,1,0,5,7,0,0,0,0,0,0,0,3,1,0,4,0,0,0,1,0,0,0,1,0,0,0,0,0,0,0,0,0,0,0,0,0,2,1,0,2,1,0,0,0,27,2,0,0,0,0,0,0,0,3,1,0,0,0,0,0,0,0,0,0,0,7,0,0,0,0,9,0,0,1,0,0,59,0,0,0,0,0,0,0,0,0,0,0,0,1,1,1,0,1,2,5,0,0,0,0,1,0,0,0,0,0,0,0,2,0,1,0,2,0,1,0,1,0,0,1,0,0,0,0,0,0,0,0,1,3,0,0,0,0,1,0,0,0,0,0,0,1,0,1,1,0,0,0,0,0,0,0,0,1,0,0,1,0,0,0,2,0,0,2,0,0,0,0,1,0,2,0,0,0,0,0,0,0,2,0,0,0,0,0,1,2,1,1,3,0,0,0,0,0,1,5,0,0,0,1,5,0,0,0,0,0,0,0,0,0,7,0,0,0,5,0,0,4,6,1,0,0,0,0,0,0,0,1,0,0,7,0,0,0,0,0,0,0,1,0,0,0,0,1,1,0,0,1,1,0,2,2,0,2,1,0,0,0,0,8,0,1,6,0,0,0,0,0,0,1,0,0,0,0,2,0,0,0,0,0,0,0,0,0,1,0,0,1,72,3,2,0,0,0,0,0,0,0,0,3,0,0,0,0,0,1,1,0,0,0,0,0,1,2,0,0,0,0,1,0,0,0,1,0,2,1,0,1,0,3,0,0,0,0,2,0,2,1,0,0,0,0,0,0,0,0,0,0,0,0,0,0,0,1,1,1,1,0,3,0,0,0,0,1,1,1,0,0,0,3,1,0,0,7,1,0,0,0,1,0,0,0,0,0,0,7,0,0,0,1,0,0,0,0,0,0,1,0,1,0,0,3,0,2,0,1,0,0,0,0,0,4,1,0,2,0,1,0,0,0,2,0,1,0,0,0,0,0,1,4,0,0,0,0,2,0,0,0,0,0,4,0,0,0,42,0,0,0,1,0,0,0,0,0,0,0,0,0,3,0,0,0,0,0,3,0,0,10,0,0,0,1,1,3,0,0,0,1,1,0,0,0],\"type\":\"violin\"}],                        {\"template\":{\"data\":{\"bar\":[{\"error_x\":{\"color\":\"#2a3f5f\"},\"error_y\":{\"color\":\"#2a3f5f\"},\"marker\":{\"line\":{\"color\":\"#E5ECF6\",\"width\":0.5},\"pattern\":{\"fillmode\":\"overlay\",\"size\":10,\"solidity\":0.2}},\"type\":\"bar\"}],\"barpolar\":[{\"marker\":{\"line\":{\"color\":\"#E5ECF6\",\"width\":0.5},\"pattern\":{\"fillmode\":\"overlay\",\"size\":10,\"solidity\":0.2}},\"type\":\"barpolar\"}],\"carpet\":[{\"aaxis\":{\"endlinecolor\":\"#2a3f5f\",\"gridcolor\":\"white\",\"linecolor\":\"white\",\"minorgridcolor\":\"white\",\"startlinecolor\":\"#2a3f5f\"},\"baxis\":{\"endlinecolor\":\"#2a3f5f\",\"gridcolor\":\"white\",\"linecolor\":\"white\",\"minorgridcolor\":\"white\",\"startlinecolor\":\"#2a3f5f\"},\"type\":\"carpet\"}],\"choropleth\":[{\"colorbar\":{\"outlinewidth\":0,\"ticks\":\"\"},\"type\":\"choropleth\"}],\"contour\":[{\"colorbar\":{\"outlinewidth\":0,\"ticks\":\"\"},\"colorscale\":[[0.0,\"#0d0887\"],[0.1111111111111111,\"#46039f\"],[0.2222222222222222,\"#7201a8\"],[0.3333333333333333,\"#9c179e\"],[0.4444444444444444,\"#bd3786\"],[0.5555555555555556,\"#d8576b\"],[0.6666666666666666,\"#ed7953\"],[0.7777777777777778,\"#fb9f3a\"],[0.8888888888888888,\"#fdca26\"],[1.0,\"#f0f921\"]],\"type\":\"contour\"}],\"contourcarpet\":[{\"colorbar\":{\"outlinewidth\":0,\"ticks\":\"\"},\"type\":\"contourcarpet\"}],\"heatmap\":[{\"colorbar\":{\"outlinewidth\":0,\"ticks\":\"\"},\"colorscale\":[[0.0,\"#0d0887\"],[0.1111111111111111,\"#46039f\"],[0.2222222222222222,\"#7201a8\"],[0.3333333333333333,\"#9c179e\"],[0.4444444444444444,\"#bd3786\"],[0.5555555555555556,\"#d8576b\"],[0.6666666666666666,\"#ed7953\"],[0.7777777777777778,\"#fb9f3a\"],[0.8888888888888888,\"#fdca26\"],[1.0,\"#f0f921\"]],\"type\":\"heatmap\"}],\"heatmapgl\":[{\"colorbar\":{\"outlinewidth\":0,\"ticks\":\"\"},\"colorscale\":[[0.0,\"#0d0887\"],[0.1111111111111111,\"#46039f\"],[0.2222222222222222,\"#7201a8\"],[0.3333333333333333,\"#9c179e\"],[0.4444444444444444,\"#bd3786\"],[0.5555555555555556,\"#d8576b\"],[0.6666666666666666,\"#ed7953\"],[0.7777777777777778,\"#fb9f3a\"],[0.8888888888888888,\"#fdca26\"],[1.0,\"#f0f921\"]],\"type\":\"heatmapgl\"}],\"histogram\":[{\"marker\":{\"pattern\":{\"fillmode\":\"overlay\",\"size\":10,\"solidity\":0.2}},\"type\":\"histogram\"}],\"histogram2d\":[{\"colorbar\":{\"outlinewidth\":0,\"ticks\":\"\"},\"colorscale\":[[0.0,\"#0d0887\"],[0.1111111111111111,\"#46039f\"],[0.2222222222222222,\"#7201a8\"],[0.3333333333333333,\"#9c179e\"],[0.4444444444444444,\"#bd3786\"],[0.5555555555555556,\"#d8576b\"],[0.6666666666666666,\"#ed7953\"],[0.7777777777777778,\"#fb9f3a\"],[0.8888888888888888,\"#fdca26\"],[1.0,\"#f0f921\"]],\"type\":\"histogram2d\"}],\"histogram2dcontour\":[{\"colorbar\":{\"outlinewidth\":0,\"ticks\":\"\"},\"colorscale\":[[0.0,\"#0d0887\"],[0.1111111111111111,\"#46039f\"],[0.2222222222222222,\"#7201a8\"],[0.3333333333333333,\"#9c179e\"],[0.4444444444444444,\"#bd3786\"],[0.5555555555555556,\"#d8576b\"],[0.6666666666666666,\"#ed7953\"],[0.7777777777777778,\"#fb9f3a\"],[0.8888888888888888,\"#fdca26\"],[1.0,\"#f0f921\"]],\"type\":\"histogram2dcontour\"}],\"mesh3d\":[{\"colorbar\":{\"outlinewidth\":0,\"ticks\":\"\"},\"type\":\"mesh3d\"}],\"parcoords\":[{\"line\":{\"colorbar\":{\"outlinewidth\":0,\"ticks\":\"\"}},\"type\":\"parcoords\"}],\"pie\":[{\"automargin\":true,\"type\":\"pie\"}],\"scatter\":[{\"marker\":{\"colorbar\":{\"outlinewidth\":0,\"ticks\":\"\"}},\"type\":\"scatter\"}],\"scatter3d\":[{\"line\":{\"colorbar\":{\"outlinewidth\":0,\"ticks\":\"\"}},\"marker\":{\"colorbar\":{\"outlinewidth\":0,\"ticks\":\"\"}},\"type\":\"scatter3d\"}],\"scattercarpet\":[{\"marker\":{\"colorbar\":{\"outlinewidth\":0,\"ticks\":\"\"}},\"type\":\"scattercarpet\"}],\"scattergeo\":[{\"marker\":{\"colorbar\":{\"outlinewidth\":0,\"ticks\":\"\"}},\"type\":\"scattergeo\"}],\"scattergl\":[{\"marker\":{\"colorbar\":{\"outlinewidth\":0,\"ticks\":\"\"}},\"type\":\"scattergl\"}],\"scattermapbox\":[{\"marker\":{\"colorbar\":{\"outlinewidth\":0,\"ticks\":\"\"}},\"type\":\"scattermapbox\"}],\"scatterpolar\":[{\"marker\":{\"colorbar\":{\"outlinewidth\":0,\"ticks\":\"\"}},\"type\":\"scatterpolar\"}],\"scatterpolargl\":[{\"marker\":{\"colorbar\":{\"outlinewidth\":0,\"ticks\":\"\"}},\"type\":\"scatterpolargl\"}],\"scatterternary\":[{\"marker\":{\"colorbar\":{\"outlinewidth\":0,\"ticks\":\"\"}},\"type\":\"scatterternary\"}],\"surface\":[{\"colorbar\":{\"outlinewidth\":0,\"ticks\":\"\"},\"colorscale\":[[0.0,\"#0d0887\"],[0.1111111111111111,\"#46039f\"],[0.2222222222222222,\"#7201a8\"],[0.3333333333333333,\"#9c179e\"],[0.4444444444444444,\"#bd3786\"],[0.5555555555555556,\"#d8576b\"],[0.6666666666666666,\"#ed7953\"],[0.7777777777777778,\"#fb9f3a\"],[0.8888888888888888,\"#fdca26\"],[1.0,\"#f0f921\"]],\"type\":\"surface\"}],\"table\":[{\"cells\":{\"fill\":{\"color\":\"#EBF0F8\"},\"line\":{\"color\":\"white\"}},\"header\":{\"fill\":{\"color\":\"#C8D4E3\"},\"line\":{\"color\":\"white\"}},\"type\":\"table\"}]},\"layout\":{\"annotationdefaults\":{\"arrowcolor\":\"#2a3f5f\",\"arrowhead\":0,\"arrowwidth\":1},\"autotypenumbers\":\"strict\",\"coloraxis\":{\"colorbar\":{\"outlinewidth\":0,\"ticks\":\"\"}},\"colorscale\":{\"diverging\":[[0,\"#8e0152\"],[0.1,\"#c51b7d\"],[0.2,\"#de77ae\"],[0.3,\"#f1b6da\"],[0.4,\"#fde0ef\"],[0.5,\"#f7f7f7\"],[0.6,\"#e6f5d0\"],[0.7,\"#b8e186\"],[0.8,\"#7fbc41\"],[0.9,\"#4d9221\"],[1,\"#276419\"]],\"sequential\":[[0.0,\"#0d0887\"],[0.1111111111111111,\"#46039f\"],[0.2222222222222222,\"#7201a8\"],[0.3333333333333333,\"#9c179e\"],[0.4444444444444444,\"#bd3786\"],[0.5555555555555556,\"#d8576b\"],[0.6666666666666666,\"#ed7953\"],[0.7777777777777778,\"#fb9f3a\"],[0.8888888888888888,\"#fdca26\"],[1.0,\"#f0f921\"]],\"sequentialminus\":[[0.0,\"#0d0887\"],[0.1111111111111111,\"#46039f\"],[0.2222222222222222,\"#7201a8\"],[0.3333333333333333,\"#9c179e\"],[0.4444444444444444,\"#bd3786\"],[0.5555555555555556,\"#d8576b\"],[0.6666666666666666,\"#ed7953\"],[0.7777777777777778,\"#fb9f3a\"],[0.8888888888888888,\"#fdca26\"],[1.0,\"#f0f921\"]]},\"colorway\":[\"#636efa\",\"#EF553B\",\"#00cc96\",\"#ab63fa\",\"#FFA15A\",\"#19d3f3\",\"#FF6692\",\"#B6E880\",\"#FF97FF\",\"#FECB52\"],\"font\":{\"color\":\"#2a3f5f\"},\"geo\":{\"bgcolor\":\"white\",\"lakecolor\":\"white\",\"landcolor\":\"#E5ECF6\",\"showlakes\":true,\"showland\":true,\"subunitcolor\":\"white\"},\"hoverlabel\":{\"align\":\"left\"},\"hovermode\":\"closest\",\"mapbox\":{\"style\":\"light\"},\"paper_bgcolor\":\"white\",\"plot_bgcolor\":\"#E5ECF6\",\"polar\":{\"angularaxis\":{\"gridcolor\":\"white\",\"linecolor\":\"white\",\"ticks\":\"\"},\"bgcolor\":\"#E5ECF6\",\"radialaxis\":{\"gridcolor\":\"white\",\"linecolor\":\"white\",\"ticks\":\"\"}},\"scene\":{\"xaxis\":{\"backgroundcolor\":\"#E5ECF6\",\"gridcolor\":\"white\",\"gridwidth\":2,\"linecolor\":\"white\",\"showbackground\":true,\"ticks\":\"\",\"zerolinecolor\":\"white\"},\"yaxis\":{\"backgroundcolor\":\"#E5ECF6\",\"gridcolor\":\"white\",\"gridwidth\":2,\"linecolor\":\"white\",\"showbackground\":true,\"ticks\":\"\",\"zerolinecolor\":\"white\"},\"zaxis\":{\"backgroundcolor\":\"#E5ECF6\",\"gridcolor\":\"white\",\"gridwidth\":2,\"linecolor\":\"white\",\"showbackground\":true,\"ticks\":\"\",\"zerolinecolor\":\"white\"}},\"shapedefaults\":{\"line\":{\"color\":\"#2a3f5f\"}},\"ternary\":{\"aaxis\":{\"gridcolor\":\"white\",\"linecolor\":\"white\",\"ticks\":\"\"},\"baxis\":{\"gridcolor\":\"white\",\"linecolor\":\"white\",\"ticks\":\"\"},\"bgcolor\":\"#E5ECF6\",\"caxis\":{\"gridcolor\":\"white\",\"linecolor\":\"white\",\"ticks\":\"\"}},\"title\":{\"x\":0.05},\"xaxis\":{\"automargin\":true,\"gridcolor\":\"white\",\"linecolor\":\"white\",\"ticks\":\"\",\"title\":{\"standoff\":15},\"zerolinecolor\":\"white\",\"zerolinewidth\":2},\"yaxis\":{\"automargin\":true,\"gridcolor\":\"white\",\"linecolor\":\"white\",\"ticks\":\"\",\"title\":{\"standoff\":15},\"zerolinecolor\":\"white\",\"zerolinewidth\":2}}},\"xaxis\":{\"anchor\":\"y\",\"domain\":[0.0,1.0]},\"yaxis\":{\"anchor\":\"x\",\"domain\":[0.0,1.0],\"title\":{\"text\":\"Likes\"}},\"legend\":{\"tracegroupgap\":0},\"margin\":{\"t\":60},\"violinmode\":\"group\"},                        {\"responsive\": true}                    ).then(function(){\n",
              "                            \n",
              "var gd = document.getElementById('844cd359-1ca6-4c97-b0a9-618e223185f4');\n",
              "var x = new MutationObserver(function (mutations, observer) {{\n",
              "        var display = window.getComputedStyle(gd).display;\n",
              "        if (!display || display === 'none') {{\n",
              "            console.log([gd, 'removed!']);\n",
              "            Plotly.purge(gd);\n",
              "            observer.disconnect();\n",
              "        }}\n",
              "}});\n",
              "\n",
              "// Listen for the removal of the full notebook cells\n",
              "var notebookContainer = gd.closest('#notebook-container');\n",
              "if (notebookContainer) {{\n",
              "    x.observe(notebookContainer, {childList: true});\n",
              "}}\n",
              "\n",
              "// Listen for the clearing of the current output cell\n",
              "var outputEl = gd.closest('.output');\n",
              "if (outputEl) {{\n",
              "    x.observe(outputEl, {childList: true});\n",
              "}}\n",
              "\n",
              "                        })                };                            </script>        </div>\n",
              "</body>\n",
              "</html>"
            ]
          },
          "metadata": {}
        }
      ]
    },
    {
      "cell_type": "markdown",
      "source": [
        "## Top Twitter Handles,Likes,Followers\n",
        "\n",
        "* We can check top twitter handles based on number of tweets . \n",
        "* We can see top follower counts and likes."
      ],
      "metadata": {
        "id": "MYoUBaTL2wMU"
      }
    },
    {
      "cell_type": "code",
      "source": [
        "df['TwitterHandle'].value_counts().nlargest(5)"
      ],
      "metadata": {
        "colab": {
          "base_uri": "https://localhost:8080/"
        },
        "id": "tfHEcNeImmaA",
        "outputId": "77ca101b-ab54-429c-c7eb-21f49909b647"
      },
      "execution_count": 37,
      "outputs": [
        {
          "output_type": "execute_result",
          "data": {
            "text/plain": [
              "An3Anwar         31\n",
              "hizbie_          14\n",
              "Gugugugagaga3    14\n",
              "PXP_IS_SCAM      11\n",
              "THIS_IS_UKR      11\n",
              "Name: TwitterHandle, dtype: int64"
            ]
          },
          "metadata": {},
          "execution_count": 37
        }
      ]
    },
    {
      "cell_type": "code",
      "source": [
        "df['Likes'].value_counts().nlargest(5)"
      ],
      "metadata": {
        "colab": {
          "base_uri": "https://localhost:8080/"
        },
        "id": "kks-tBo13IJN",
        "outputId": "6e1aeb7f-048b-42d3-c4b4-75d84271a78e"
      },
      "execution_count": 38,
      "outputs": [
        {
          "output_type": "execute_result",
          "data": {
            "text/plain": [
              "0    377\n",
              "1    207\n",
              "2     74\n",
              "3     43\n",
              "4     15\n",
              "Name: Likes, dtype: int64"
            ]
          },
          "metadata": {},
          "execution_count": 38
        }
      ]
    },
    {
      "cell_type": "code",
      "source": [
        "df['Followers_Count'].value_counts().nlargest(5) # 31 twitter user has 85 followers"
      ],
      "metadata": {
        "colab": {
          "base_uri": "https://localhost:8080/"
        },
        "id": "kcVkUW7f3MLt",
        "outputId": "fb8d5f6d-cea6-4eb0-d3be-f7bd27c9184e"
      },
      "execution_count": 40,
      "outputs": [
        {
          "output_type": "execute_result",
          "data": {
            "text/plain": [
              "85      31\n",
              "363     20\n",
              "196     15\n",
              "1196    11\n",
              "1110    11\n",
              "Name: Followers_Count, dtype: int64"
            ]
          },
          "metadata": {},
          "execution_count": 40
        }
      ]
    },
    {
      "cell_type": "markdown",
      "source": [
        "## Histogram to show timeseries distribution of sentiments\n",
        "\n",
        "* We can plot histograms based on date field to see how the sentiment of tweets vary wrt to time and date of tweet"
      ],
      "metadata": {
        "id": "8tIMKlvz3ae1"
      }
    },
    {
      "cell_type": "code",
      "source": [
        "fig=px.histogram(df[['Date','Sentiment_Transformer']],x=\"Date\",color='Sentiment_Transformer',barmode=\"overlay\")\n",
        "fig.show()"
      ],
      "metadata": {
        "colab": {
          "base_uri": "https://localhost:8080/",
          "height": 542
        },
        "id": "wHCcegcMsUbm",
        "outputId": "57e86642-8de6-464f-9b38-22fa97cca86c"
      },
      "execution_count": 41,
      "outputs": [
        {
          "output_type": "display_data",
          "data": {
            "text/html": [
              "<html>\n",
              "<head><meta charset=\"utf-8\" /></head>\n",
              "<body>\n",
              "    <div>            <script src=\"https://cdnjs.cloudflare.com/ajax/libs/mathjax/2.7.5/MathJax.js?config=TeX-AMS-MML_SVG\"></script><script type=\"text/javascript\">if (window.MathJax) {MathJax.Hub.Config({SVG: {font: \"STIX-Web\"}});}</script>                <script type=\"text/javascript\">window.PlotlyConfig = {MathJaxConfig: 'local'};</script>\n",
              "        <script src=\"https://cdn.plot.ly/plotly-2.8.3.min.js\"></script>                <div id=\"74035d5e-8429-45bb-be05-ddfff9ba223a\" class=\"plotly-graph-div\" style=\"height:525px; width:100%;\"></div>            <script type=\"text/javascript\">                                    window.PLOTLYENV=window.PLOTLYENV || {};                                    if (document.getElementById(\"74035d5e-8429-45bb-be05-ddfff9ba223a\")) {                    Plotly.newPlot(                        \"74035d5e-8429-45bb-be05-ddfff9ba223a\",                        [{\"alignmentgroup\":\"True\",\"bingroup\":\"x\",\"hovertemplate\":\"Sentiment_Transformer=NEG<br>Date=%{x}<br>count=%{y}<extra></extra>\",\"legendgroup\":\"NEG\",\"marker\":{\"color\":\"#636efa\",\"opacity\":0.5,\"pattern\":{\"shape\":\"\"}},\"name\":\"NEG\",\"offsetgroup\":\"NEG\",\"orientation\":\"v\",\"showlegend\":true,\"x\":[\"2022-03-25T11:18:00\",\"2022-03-25T11:11:48\",\"2022-03-25T11:10:11\",\"2022-03-25T11:07:28\",\"2022-03-25T11:05:26\",\"2022-03-25T11:03:20\",\"2022-03-25T11:00:32\",\"2022-03-25T10:59:47\",\"2022-03-25T10:59:41\",\"2022-03-25T10:58:42\",\"2022-03-25T10:58:14\",\"2022-03-25T10:55:58\",\"2022-03-25T10:55:24\",\"2022-03-25T10:52:34\",\"2022-03-25T10:48:56\",\"2022-03-25T10:47:30\",\"2022-03-25T10:46:10\",\"2022-03-25T10:45:11\",\"2022-03-25T10:43:49\",\"2022-03-25T10:42:18\",\"2022-03-25T10:42:09\",\"2022-03-25T10:42:01\",\"2022-03-25T10:41:50\",\"2022-03-25T10:39:06\",\"2022-03-25T10:38:40\",\"2022-03-25T10:37:27\",\"2022-03-25T10:36:59\",\"2022-03-25T10:34:14\",\"2022-03-25T10:30:13\",\"2022-03-25T10:30:00\",\"2022-03-25T10:24:30\",\"2022-03-25T10:23:00\",\"2022-03-25T10:19:00\",\"2022-03-25T10:18:00\",\"2022-03-25T10:14:26\",\"2022-03-25T10:12:30\",\"2022-03-25T10:09:53\",\"2022-03-25T10:07:16\",\"2022-03-25T10:06:28\",\"2022-03-25T10:05:14\",\"2022-03-25T10:05:12\",\"2022-03-25T10:04:59\",\"2022-03-25T10:04:38\",\"2022-03-25T10:04:32\",\"2022-03-25T10:04:12\",\"2022-03-25T10:03:50\",\"2022-03-25T10:02:35\",\"2022-03-25T10:01:28\",\"2022-03-25T10:00:34\",\"2022-03-25T09:54:45\",\"2022-03-25T09:54:38\",\"2022-03-25T09:39:28\",\"2022-03-25T09:36:36\",\"2022-03-25T09:31:21\",\"2022-03-25T09:29:48\",\"2022-03-25T09:24:14\",\"2022-03-25T09:22:32\",\"2022-03-25T09:22:01\",\"2022-03-25T09:16:35\",\"2022-03-25T09:16:30\",\"2022-03-25T09:15:12\",\"2022-03-25T09:13:33\",\"2022-03-25T09:12:36\",\"2022-03-25T09:12:25\",\"2022-03-25T09:10:23\",\"2022-03-25T09:09:53\",\"2022-03-25T09:09:20\",\"2022-03-25T09:09:18\",\"2022-03-25T09:06:56\",\"2022-03-25T09:02:36\",\"2022-03-25T09:02:09\",\"2022-03-25T09:01:29\",\"2022-03-25T09:00:07\",\"2022-03-25T08:59:33\",\"2022-03-25T08:57:14\",\"2022-03-25T08:54:49\",\"2022-03-25T08:53:34\",\"2022-03-25T08:51:32\",\"2022-03-25T08:50:38\",\"2022-03-25T08:48:40\",\"2022-03-25T08:47:06\",\"2022-03-25T08:46:01\",\"2022-03-25T08:45:40\",\"2022-03-25T08:45:06\",\"2022-03-25T08:42:22\",\"2022-03-25T08:42:07\",\"2022-03-25T08:40:21\",\"2022-03-25T08:40:01\",\"2022-03-25T08:39:24\",\"2022-03-25T08:38:31\",\"2022-03-25T08:37:13\",\"2022-03-25T08:31:18\",\"2022-03-25T08:30:00\",\"2022-03-25T08:26:00\",\"2022-03-25T08:22:24\",\"2022-03-25T08:21:09\",\"2022-03-25T08:21:09\",\"2022-03-25T08:20:59\",\"2022-03-25T08:19:20\",\"2022-03-25T08:12:13\",\"2022-03-25T08:11:22\",\"2022-03-25T08:02:43\",\"2022-03-25T08:02:14\",\"2022-03-25T08:01:18\",\"2022-03-25T08:00:33\",\"2022-03-25T07:54:17\",\"2022-03-25T07:46:27\",\"2022-03-25T07:45:46\",\"2022-03-25T07:45:05\",\"2022-03-25T07:44:49\",\"2022-03-25T07:43:33\",\"2022-03-25T07:40:42\",\"2022-03-25T07:37:26\",\"2022-03-25T07:35:20\",\"2022-03-25T07:28:15\",\"2022-03-25T07:24:56\",\"2022-03-25T07:23:47\",\"2022-03-25T07:23:26\",\"2022-03-25T07:22:29\",\"2022-03-25T07:21:06\",\"2022-03-25T07:20:40\",\"2022-03-25T07:19:34\",\"2022-03-25T07:18:22\",\"2022-03-25T07:17:58\",\"2022-03-25T07:17:03\",\"2022-03-25T07:14:46\",\"2022-03-25T07:12:57\",\"2022-03-25T07:10:23\",\"2022-03-25T07:09:39\",\"2022-03-25T07:07:18\",\"2022-03-25T07:07:01\",\"2022-03-25T07:05:45\",\"2022-03-25T07:02:42\",\"2022-03-25T07:02:26\",\"2022-03-25T07:00:06\",\"2022-03-25T06:59:39\",\"2022-03-25T06:59:04\",\"2022-03-25T06:58:17\",\"2022-03-25T06:56:39\",\"2022-03-25T06:55:31\",\"2022-03-25T06:51:56\",\"2022-03-25T06:51:11\",\"2022-03-25T06:50:38\",\"2022-03-25T06:50:12\",\"2022-03-25T06:47:27\",\"2022-03-25T06:46:33\",\"2022-03-25T06:46:30\",\"2022-03-25T06:46:10\",\"2022-03-25T06:45:49\",\"2022-03-25T06:42:49\",\"2022-03-25T06:42:48\",\"2022-03-25T06:41:16\",\"2022-03-25T06:40:38\",\"2022-03-25T06:40:32\",\"2022-03-25T06:39:53\",\"2022-03-25T06:37:43\",\"2022-03-25T06:36:42\",\"2022-03-25T06:36:42\",\"2022-03-25T06:35:49\",\"2022-03-25T06:34:49\",\"2022-03-25T06:34:18\",\"2022-03-25T06:33:34\",\"2022-03-25T06:33:26\",\"2022-03-25T06:30:22\",\"2022-03-25T06:26:29\",\"2022-03-25T06:15:00\",\"2022-03-25T06:12:59\",\"2022-03-25T06:11:42\",\"2022-03-25T05:47:22\",\"2022-03-25T05:43:29\",\"2022-03-25T05:39:38\",\"2022-03-25T05:38:56\",\"2022-03-25T05:38:39\",\"2022-03-25T05:30:03\",\"2022-03-25T05:29:37\",\"2022-03-25T05:29:21\",\"2022-03-25T05:29:06\",\"2022-03-25T05:28:42\",\"2022-03-25T05:28:24\",\"2022-03-25T05:26:34\",\"2022-03-25T05:21:30\",\"2022-03-25T05:20:38\",\"2022-03-25T05:16:50\",\"2022-03-25T05:15:33\",\"2022-03-25T05:15:08\",\"2022-03-25T05:14:11\",\"2022-03-25T05:12:58\",\"2022-03-25T05:10:39\",\"2022-03-25T05:09:37\",\"2022-03-25T05:05:00\",\"2022-03-25T05:04:32\",\"2022-03-25T05:04:19\",\"2022-03-25T04:59:38\",\"2022-03-25T04:56:49\",\"2022-03-25T04:56:30\",\"2022-03-25T04:56:20\",\"2022-03-25T04:54:53\",\"2022-03-25T04:52:54\",\"2022-03-25T04:51:42\",\"2022-03-25T04:48:28\",\"2022-03-25T04:46:55\",\"2022-03-25T04:45:00\",\"2022-03-25T04:44:43\",\"2022-03-25T04:44:31\",\"2022-03-25T04:40:58\",\"2022-03-25T04:39:49\",\"2022-03-25T04:39:41\",\"2022-03-25T04:38:42\",\"2022-03-25T04:35:45\",\"2022-03-25T04:34:25\",\"2022-03-25T04:33:19\",\"2022-03-25T04:30:58\",\"2022-03-25T04:30:51\",\"2022-03-25T04:30:49\",\"2022-03-25T04:29:50\",\"2022-03-25T04:28:14\",\"2022-03-25T04:26:49\",\"2022-03-25T04:25:59\",\"2022-03-25T04:24:18\",\"2022-03-25T04:23:38\",\"2022-03-25T04:22:56\",\"2022-03-25T04:19:49\",\"2022-03-25T04:15:06\",\"2022-03-25T04:14:30\",\"2022-03-25T04:14:15\",\"2022-03-25T04:10:11\",\"2022-03-25T04:10:02\",\"2022-03-25T04:09:16\",\"2022-03-25T04:09:00\",\"2022-03-25T04:08:08\",\"2022-03-25T04:06:11\",\"2022-03-25T04:03:19\",\"2022-03-25T04:01:37\",\"2022-03-25T03:58:01\",\"2022-03-25T03:51:21\",\"2022-03-25T03:51:19\",\"2022-03-25T03:50:36\",\"2022-03-25T03:49:50\",\"2022-03-25T03:49:01\",\"2022-03-25T03:43:07\",\"2022-03-25T03:42:20\",\"2022-03-25T03:41:08\"],\"xaxis\":\"x\",\"yaxis\":\"y\",\"type\":\"histogram\"},{\"alignmentgroup\":\"True\",\"bingroup\":\"x\",\"hovertemplate\":\"Sentiment_Transformer=NEU<br>Date=%{x}<br>count=%{y}<extra></extra>\",\"legendgroup\":\"NEU\",\"marker\":{\"color\":\"#EF553B\",\"opacity\":0.5,\"pattern\":{\"shape\":\"\"}},\"name\":\"NEU\",\"offsetgroup\":\"NEU\",\"orientation\":\"v\",\"showlegend\":true,\"x\":[\"2022-03-25T11:16:06\",\"2022-03-25T11:15:55\",\"2022-03-25T11:15:28\",\"2022-03-25T11:15:00\",\"2022-03-25T11:15:00\",\"2022-03-25T11:14:53\",\"2022-03-25T11:12:11\",\"2022-03-25T11:12:04\",\"2022-03-25T11:12:01\",\"2022-03-25T11:11:57\",\"2022-03-25T11:11:43\",\"2022-03-25T11:11:00\",\"2022-03-25T11:10:54\",\"2022-03-25T11:10:35\",\"2022-03-25T11:08:36\",\"2022-03-25T11:08:00\",\"2022-03-25T11:06:44\",\"2022-03-25T11:04:49\",\"2022-03-25T11:01:46\",\"2022-03-25T11:01:09\",\"2022-03-25T10:59:58\",\"2022-03-25T10:57:28\",\"2022-03-25T10:57:20\",\"2022-03-25T10:56:13\",\"2022-03-25T10:53:06\",\"2022-03-25T10:53:02\",\"2022-03-25T10:52:00\",\"2022-03-25T10:52:00\",\"2022-03-25T10:50:41\",\"2022-03-25T10:50:27\",\"2022-03-25T10:48:36\",\"2022-03-25T10:45:17\",\"2022-03-25T10:44:48\",\"2022-03-25T10:43:02\",\"2022-03-25T10:42:33\",\"2022-03-25T10:42:00\",\"2022-03-25T10:41:53\",\"2022-03-25T10:41:00\",\"2022-03-25T10:40:50\",\"2022-03-25T10:40:49\",\"2022-03-25T10:39:55\",\"2022-03-25T10:39:06\",\"2022-03-25T10:38:41\",\"2022-03-25T10:38:21\",\"2022-03-25T10:38:13\",\"2022-03-25T10:34:24\",\"2022-03-25T10:32:46\",\"2022-03-25T10:31:22\",\"2022-03-25T10:31:19\",\"2022-03-25T10:31:10\",\"2022-03-25T10:31:02\",\"2022-03-25T10:30:59\",\"2022-03-25T10:30:50\",\"2022-03-25T10:30:50\",\"2022-03-25T10:30:33\",\"2022-03-25T10:30:22\",\"2022-03-25T10:30:14\",\"2022-03-25T10:30:05\",\"2022-03-25T10:30:00\",\"2022-03-25T10:30:00\",\"2022-03-25T10:29:58\",\"2022-03-25T10:29:49\",\"2022-03-25T10:29:33\",\"2022-03-25T10:29:23\",\"2022-03-25T10:29:14\",\"2022-03-25T10:29:01\",\"2022-03-25T10:28:56\",\"2022-03-25T10:28:50\",\"2022-03-25T10:28:28\",\"2022-03-25T10:27:56\",\"2022-03-25T10:27:47\",\"2022-03-25T10:27:23\",\"2022-03-25T10:27:12\",\"2022-03-25T10:27:04\",\"2022-03-25T10:26:58\",\"2022-03-25T10:26:51\",\"2022-03-25T10:26:35\",\"2022-03-25T10:26:27\",\"2022-03-25T10:26:22\",\"2022-03-25T10:26:18\",\"2022-03-25T10:26:12\",\"2022-03-25T10:26:06\",\"2022-03-25T10:25:56\",\"2022-03-25T10:25:11\",\"2022-03-25T10:25:07\",\"2022-03-25T10:24:52\",\"2022-03-25T10:24:03\",\"2022-03-25T10:23:45\",\"2022-03-25T10:20:31\",\"2022-03-25T10:19:09\",\"2022-03-25T10:17:35\",\"2022-03-25T10:16:35\",\"2022-03-25T10:16:18\",\"2022-03-25T10:15:00\",\"2022-03-25T10:15:00\",\"2022-03-25T10:14:11\",\"2022-03-25T10:14:03\",\"2022-03-25T10:13:59\",\"2022-03-25T10:13:58\",\"2022-03-25T10:12:13\",\"2022-03-25T10:09:03\",\"2022-03-25T10:07:23\",\"2022-03-25T10:06:31\",\"2022-03-25T10:02:06\",\"2022-03-25T10:01:48\",\"2022-03-25T10:01:07\",\"2022-03-25T10:00:51\",\"2022-03-25T09:59:31\",\"2022-03-25T09:56:49\",\"2022-03-25T09:55:44\",\"2022-03-25T09:52:32\",\"2022-03-25T09:51:15\",\"2022-03-25T09:48:18\",\"2022-03-25T09:48:15\",\"2022-03-25T09:42:52\",\"2022-03-25T09:42:51\",\"2022-03-25T09:41:39\",\"2022-03-25T09:39:18\",\"2022-03-25T09:38:46\",\"2022-03-25T09:37:22\",\"2022-03-25T09:35:54\",\"2022-03-25T09:35:36\",\"2022-03-25T09:35:31\",\"2022-03-25T09:31:45\",\"2022-03-25T09:30:11\",\"2022-03-25T09:30:01\",\"2022-03-25T09:29:05\",\"2022-03-25T09:27:38\",\"2022-03-25T09:25:21\",\"2022-03-25T09:24:06\",\"2022-03-25T09:22:05\",\"2022-03-25T09:22:03\",\"2022-03-25T09:22:00\",\"2022-03-25T09:21:18\",\"2022-03-25T09:20:39\",\"2022-03-25T09:19:41\",\"2022-03-25T09:18:41\",\"2022-03-25T09:18:08\",\"2022-03-25T09:18:05\",\"2022-03-25T09:15:00\",\"2022-03-25T09:14:08\",\"2022-03-25T09:12:33\",\"2022-03-25T09:12:29\",\"2022-03-25T09:12:00\",\"2022-03-25T09:11:57\",\"2022-03-25T09:11:13\",\"2022-03-25T09:11:08\",\"2022-03-25T09:10:46\",\"2022-03-25T09:10:17\",\"2022-03-25T09:10:10\",\"2022-03-25T09:09:42\",\"2022-03-25T09:08:43\",\"2022-03-25T09:08:43\",\"2022-03-25T09:08:29\",\"2022-03-25T09:08:20\",\"2022-03-25T09:08:12\",\"2022-03-25T09:07:00\",\"2022-03-25T09:06:01\",\"2022-03-25T09:05:58\",\"2022-03-25T09:03:49\",\"2022-03-25T09:02:46\",\"2022-03-25T09:02:14\",\"2022-03-25T09:01:27\",\"2022-03-25T09:01:05\",\"2022-03-25T09:00:31\",\"2022-03-25T09:00:16\",\"2022-03-25T09:00:09\",\"2022-03-25T08:59:52\",\"2022-03-25T08:59:37\",\"2022-03-25T08:59:28\",\"2022-03-25T08:58:49\",\"2022-03-25T08:58:32\",\"2022-03-25T08:57:29\",\"2022-03-25T08:57:10\",\"2022-03-25T08:56:35\",\"2022-03-25T08:56:35\",\"2022-03-25T08:55:46\",\"2022-03-25T08:55:28\",\"2022-03-25T08:55:28\",\"2022-03-25T08:53:12\",\"2022-03-25T08:52:47\",\"2022-03-25T08:52:33\",\"2022-03-25T08:52:02\",\"2022-03-25T08:51:34\",\"2022-03-25T08:48:33\",\"2022-03-25T08:48:11\",\"2022-03-25T08:45:58\",\"2022-03-25T08:44:59\",\"2022-03-25T08:44:56\",\"2022-03-25T08:44:53\",\"2022-03-25T08:42:46\",\"2022-03-25T08:42:39\",\"2022-03-25T08:42:16\",\"2022-03-25T08:39:41\",\"2022-03-25T08:39:38\",\"2022-03-25T08:39:18\",\"2022-03-25T08:37:54\",\"2022-03-25T08:37:39\",\"2022-03-25T08:37:06\",\"2022-03-25T08:36:26\",\"2022-03-25T08:34:35\",\"2022-03-25T08:33:20\",\"2022-03-25T08:31:19\",\"2022-03-25T08:31:13\",\"2022-03-25T08:30:35\",\"2022-03-25T08:30:12\",\"2022-03-25T08:30:00\",\"2022-03-25T08:26:00\",\"2022-03-25T08:25:00\",\"2022-03-25T08:24:04\",\"2022-03-25T08:23:50\",\"2022-03-25T08:23:35\",\"2022-03-25T08:22:46\",\"2022-03-25T08:20:24\",\"2022-03-25T08:18:07\",\"2022-03-25T08:17:51\",\"2022-03-25T08:17:25\",\"2022-03-25T08:17:24\",\"2022-03-25T08:16:21\",\"2022-03-25T08:15:19\",\"2022-03-25T08:14:20\",\"2022-03-25T08:13:01\",\"2022-03-25T08:12:06\",\"2022-03-25T08:09:15\",\"2022-03-25T08:07:32\",\"2022-03-25T08:05:28\",\"2022-03-25T08:05:09\",\"2022-03-25T08:04:55\",\"2022-03-25T08:04:55\",\"2022-03-25T08:04:32\",\"2022-03-25T08:02:59\",\"2022-03-25T08:02:20\",\"2022-03-25T08:02:14\",\"2022-03-25T08:01:40\",\"2022-03-25T08:00:36\",\"2022-03-25T08:00:26\",\"2022-03-25T08:00:16\",\"2022-03-25T08:00:11\",\"2022-03-25T07:57:31\",\"2022-03-25T07:52:20\",\"2022-03-25T07:52:16\",\"2022-03-25T07:51:26\",\"2022-03-25T07:51:25\",\"2022-03-25T07:50:24\",\"2022-03-25T07:48:55\",\"2022-03-25T07:46:44\",\"2022-03-25T07:46:17\",\"2022-03-25T07:46:17\",\"2022-03-25T07:46:09\",\"2022-03-25T07:46:08\",\"2022-03-25T07:45:46\",\"2022-03-25T07:45:45\",\"2022-03-25T07:45:44\",\"2022-03-25T07:45:44\",\"2022-03-25T07:45:43\",\"2022-03-25T07:45:42\",\"2022-03-25T07:45:42\",\"2022-03-25T07:45:17\",\"2022-03-25T07:45:05\",\"2022-03-25T07:41:52\",\"2022-03-25T07:40:52\",\"2022-03-25T07:40:46\",\"2022-03-25T07:39:37\",\"2022-03-25T07:35:13\",\"2022-03-25T07:35:04\",\"2022-03-25T07:34:08\",\"2022-03-25T07:33:52\",\"2022-03-25T07:33:38\",\"2022-03-25T07:33:21\",\"2022-03-25T07:32:52\",\"2022-03-25T07:32:39\",\"2022-03-25T07:32:39\",\"2022-03-25T07:30:58\",\"2022-03-25T07:30:41\",\"2022-03-25T07:30:00\",\"2022-03-25T07:29:58\",\"2022-03-25T07:29:05\",\"2022-03-25T07:28:31\",\"2022-03-25T07:28:00\",\"2022-03-25T07:27:54\",\"2022-03-25T07:27:09\",\"2022-03-25T07:26:59\",\"2022-03-25T07:26:33\",\"2022-03-25T07:25:44\",\"2022-03-25T07:25:25\",\"2022-03-25T07:25:04\",\"2022-03-25T07:24:54\",\"2022-03-25T07:24:36\",\"2022-03-25T07:24:05\",\"2022-03-25T07:23:30\",\"2022-03-25T07:22:47\",\"2022-03-25T07:20:44\",\"2022-03-25T07:20:09\",\"2022-03-25T07:19:09\",\"2022-03-25T07:18:29\",\"2022-03-25T07:18:22\",\"2022-03-25T07:15:28\",\"2022-03-25T07:15:15\",\"2022-03-25T07:15:14\",\"2022-03-25T07:14:36\",\"2022-03-25T07:14:23\",\"2022-03-25T07:12:52\",\"2022-03-25T07:12:49\",\"2022-03-25T07:12:23\",\"2022-03-25T07:12:07\",\"2022-03-25T07:11:55\",\"2022-03-25T07:11:49\",\"2022-03-25T07:11:09\",\"2022-03-25T07:11:05\",\"2022-03-25T07:10:50\",\"2022-03-25T07:10:36\",\"2022-03-25T07:08:17\",\"2022-03-25T07:06:52\",\"2022-03-25T07:05:55\",\"2022-03-25T07:02:57\",\"2022-03-25T07:02:18\",\"2022-03-25T07:00:46\",\"2022-03-25T07:00:17\",\"2022-03-25T07:00:01\",\"2022-03-25T06:58:36\",\"2022-03-25T06:58:06\",\"2022-03-25T06:58:00\",\"2022-03-25T06:57:28\",\"2022-03-25T06:57:06\",\"2022-03-25T06:56:52\",\"2022-03-25T06:56:32\",\"2022-03-25T06:56:09\",\"2022-03-25T06:55:11\",\"2022-03-25T06:53:20\",\"2022-03-25T06:52:45\",\"2022-03-25T06:52:18\",\"2022-03-25T06:50:28\",\"2022-03-25T06:50:20\",\"2022-03-25T06:48:25\",\"2022-03-25T06:47:43\",\"2022-03-25T06:46:29\",\"2022-03-25T06:46:23\",\"2022-03-25T06:45:58\",\"2022-03-25T06:45:32\",\"2022-03-25T06:45:18\",\"2022-03-25T06:45:00\",\"2022-03-25T06:45:00\",\"2022-03-25T06:42:47\",\"2022-03-25T06:39:46\",\"2022-03-25T06:39:41\",\"2022-03-25T06:38:39\",\"2022-03-25T06:38:11\",\"2022-03-25T06:38:10\",\"2022-03-25T06:37:35\",\"2022-03-25T06:36:14\",\"2022-03-25T06:36:05\",\"2022-03-25T06:36:00\",\"2022-03-25T06:35:18\",\"2022-03-25T06:35:08\",\"2022-03-25T06:33:48\",\"2022-03-25T06:33:41\",\"2022-03-25T06:33:11\",\"2022-03-25T06:32:34\",\"2022-03-25T06:32:02\",\"2022-03-25T06:30:08\",\"2022-03-25T06:30:00\",\"2022-03-25T06:28:01\",\"2022-03-25T06:26:09\",\"2022-03-25T06:26:08\",\"2022-03-25T06:19:40\",\"2022-03-25T06:18:48\",\"2022-03-25T06:17:57\",\"2022-03-25T06:16:36\",\"2022-03-25T06:15:19\",\"2022-03-25T06:03:31\",\"2022-03-25T06:03:22\",\"2022-03-25T06:03:22\",\"2022-03-25T05:57:13\",\"2022-03-25T05:54:56\",\"2022-03-25T05:51:15\",\"2022-03-25T05:50:48\",\"2022-03-25T05:49:16\",\"2022-03-25T05:47:59\",\"2022-03-25T05:44:14\",\"2022-03-25T05:43:48\",\"2022-03-25T05:43:11\",\"2022-03-25T05:40:09\",\"2022-03-25T05:38:35\",\"2022-03-25T05:38:20\",\"2022-03-25T05:38:07\",\"2022-03-25T05:38:02\",\"2022-03-25T05:36:15\",\"2022-03-25T05:35:32\",\"2022-03-25T05:35:22\",\"2022-03-25T05:34:30\",\"2022-03-25T05:34:24\",\"2022-03-25T05:34:17\",\"2022-03-25T05:33:58\",\"2022-03-25T05:33:34\",\"2022-03-25T05:33:28\",\"2022-03-25T05:33:16\",\"2022-03-25T05:31:30\",\"2022-03-25T05:30:47\",\"2022-03-25T05:30:27\",\"2022-03-25T05:30:16\",\"2022-03-25T05:30:00\",\"2022-03-25T05:30:00\",\"2022-03-25T05:29:53\",\"2022-03-25T05:27:46\",\"2022-03-25T05:27:15\",\"2022-03-25T05:25:23\",\"2022-03-25T05:25:13\",\"2022-03-25T05:21:53\",\"2022-03-25T05:21:11\",\"2022-03-25T05:19:34\",\"2022-03-25T05:18:45\",\"2022-03-25T05:18:32\",\"2022-03-25T05:17:59\",\"2022-03-25T05:17:26\",\"2022-03-25T05:17:02\",\"2022-03-25T05:16:17\",\"2022-03-25T05:15:24\",\"2022-03-25T05:14:14\",\"2022-03-25T05:12:46\",\"2022-03-25T05:11:24\",\"2022-03-25T05:10:52\",\"2022-03-25T05:10:41\",\"2022-03-25T05:10:04\",\"2022-03-25T05:09:00\",\"2022-03-25T05:08:36\",\"2022-03-25T05:08:04\",\"2022-03-25T05:07:40\",\"2022-03-25T05:07:20\",\"2022-03-25T05:07:02\",\"2022-03-25T05:05:13\",\"2022-03-25T05:04:23\",\"2022-03-25T05:02:07\",\"2022-03-25T05:01:22\",\"2022-03-25T05:00:02\",\"2022-03-25T04:59:30\",\"2022-03-25T04:59:25\",\"2022-03-25T04:59:03\",\"2022-03-25T04:58:46\",\"2022-03-25T04:58:45\",\"2022-03-25T04:57:54\",\"2022-03-25T04:56:46\",\"2022-03-25T04:55:43\",\"2022-03-25T04:54:35\",\"2022-03-25T04:53:31\",\"2022-03-25T04:53:28\",\"2022-03-25T04:51:36\",\"2022-03-25T04:50:14\",\"2022-03-25T04:50:10\",\"2022-03-25T04:50:00\",\"2022-03-25T04:49:48\",\"2022-03-25T04:46:38\",\"2022-03-25T04:45:58\",\"2022-03-25T04:45:11\",\"2022-03-25T04:44:48\",\"2022-03-25T04:44:11\",\"2022-03-25T04:43:05\",\"2022-03-25T04:40:48\",\"2022-03-25T04:40:21\",\"2022-03-25T04:39:13\",\"2022-03-25T04:37:02\",\"2022-03-25T04:36:01\",\"2022-03-25T04:35:56\",\"2022-03-25T04:35:17\",\"2022-03-25T04:34:40\",\"2022-03-25T04:34:09\",\"2022-03-25T04:33:50\",\"2022-03-25T04:33:29\",\"2022-03-25T04:32:22\",\"2022-03-25T04:32:03\",\"2022-03-25T04:31:47\",\"2022-03-25T04:31:03\",\"2022-03-25T04:30:02\",\"2022-03-25T04:29:49\",\"2022-03-25T04:28:10\",\"2022-03-25T04:27:40\",\"2022-03-25T04:26:41\",\"2022-03-25T04:25:25\",\"2022-03-25T04:25:00\",\"2022-03-25T04:24:34\",\"2022-03-25T04:23:23\",\"2022-03-25T04:20:13\",\"2022-03-25T04:19:56\",\"2022-03-25T04:19:21\",\"2022-03-25T04:19:04\",\"2022-03-25T04:18:43\",\"2022-03-25T04:18:37\",\"2022-03-25T04:17:50\",\"2022-03-25T04:16:51\",\"2022-03-25T04:16:15\",\"2022-03-25T04:15:03\",\"2022-03-25T04:15:00\",\"2022-03-25T04:15:00\",\"2022-03-25T04:14:53\",\"2022-03-25T04:14:18\",\"2022-03-25T04:09:51\",\"2022-03-25T04:09:06\",\"2022-03-25T04:07:29\",\"2022-03-25T04:05:42\",\"2022-03-25T04:05:13\",\"2022-03-25T04:05:04\",\"2022-03-25T04:04:23\",\"2022-03-25T04:04:05\",\"2022-03-25T03:59:59\",\"2022-03-25T03:59:48\",\"2022-03-25T03:58:36\",\"2022-03-25T03:56:37\",\"2022-03-25T03:55:02\",\"2022-03-25T03:54:18\",\"2022-03-25T03:50:17\",\"2022-03-25T03:50:00\",\"2022-03-25T03:49:03\",\"2022-03-25T03:47:36\",\"2022-03-25T03:43:48\",\"2022-03-25T03:42:15\",\"2022-03-25T03:42:04\"],\"xaxis\":\"x\",\"yaxis\":\"y\",\"type\":\"histogram\"},{\"alignmentgroup\":\"True\",\"bingroup\":\"x\",\"hovertemplate\":\"Sentiment_Transformer=POS<br>Date=%{x}<br>count=%{y}<extra></extra>\",\"legendgroup\":\"POS\",\"marker\":{\"color\":\"#00cc96\",\"opacity\":0.5,\"pattern\":{\"shape\":\"\"}},\"name\":\"POS\",\"offsetgroup\":\"POS\",\"orientation\":\"v\",\"showlegend\":true,\"x\":[\"2022-03-25T11:00:00\",\"2022-03-25T10:48:20\",\"2022-03-25T10:41:46\",\"2022-03-25T10:31:09\",\"2022-03-25T10:29:42\",\"2022-03-25T10:27:32\",\"2022-03-25T10:19:21\",\"2022-03-25T10:03:20\",\"2022-03-25T10:00:40\",\"2022-03-25T10:00:02\",\"2022-03-25T09:41:51\",\"2022-03-25T09:40:01\",\"2022-03-25T09:27:24\",\"2022-03-25T09:07:08\",\"2022-03-25T08:45:27\",\"2022-03-25T08:44:45\",\"2022-03-25T08:42:50\",\"2022-03-25T08:27:13\",\"2022-03-25T07:40:24\",\"2022-03-25T07:40:20\",\"2022-03-25T07:25:06\",\"2022-03-25T07:20:06\",\"2022-03-25T07:15:00\",\"2022-03-25T07:13:40\",\"2022-03-25T07:13:04\",\"2022-03-25T07:08:14\",\"2022-03-25T07:00:01\",\"2022-03-25T06:59:16\",\"2022-03-25T06:48:06\",\"2022-03-25T06:47:09\",\"2022-03-25T06:45:54\",\"2022-03-25T06:38:43\",\"2022-03-25T06:29:25\",\"2022-03-25T06:15:00\",\"2022-03-25T05:06:22\",\"2022-03-25T05:03:57\",\"2022-03-25T04:46:22\",\"2022-03-25T04:40:18\",\"2022-03-25T03:57:18\",\"2022-03-25T03:57:10\",\"2022-03-25T03:57:04\",\"2022-03-25T03:55:46\",\"2022-03-25T03:45:08\"],\"xaxis\":\"x\",\"yaxis\":\"y\",\"type\":\"histogram\"}],                        {\"template\":{\"data\":{\"bar\":[{\"error_x\":{\"color\":\"#2a3f5f\"},\"error_y\":{\"color\":\"#2a3f5f\"},\"marker\":{\"line\":{\"color\":\"#E5ECF6\",\"width\":0.5},\"pattern\":{\"fillmode\":\"overlay\",\"size\":10,\"solidity\":0.2}},\"type\":\"bar\"}],\"barpolar\":[{\"marker\":{\"line\":{\"color\":\"#E5ECF6\",\"width\":0.5},\"pattern\":{\"fillmode\":\"overlay\",\"size\":10,\"solidity\":0.2}},\"type\":\"barpolar\"}],\"carpet\":[{\"aaxis\":{\"endlinecolor\":\"#2a3f5f\",\"gridcolor\":\"white\",\"linecolor\":\"white\",\"minorgridcolor\":\"white\",\"startlinecolor\":\"#2a3f5f\"},\"baxis\":{\"endlinecolor\":\"#2a3f5f\",\"gridcolor\":\"white\",\"linecolor\":\"white\",\"minorgridcolor\":\"white\",\"startlinecolor\":\"#2a3f5f\"},\"type\":\"carpet\"}],\"choropleth\":[{\"colorbar\":{\"outlinewidth\":0,\"ticks\":\"\"},\"type\":\"choropleth\"}],\"contour\":[{\"colorbar\":{\"outlinewidth\":0,\"ticks\":\"\"},\"colorscale\":[[0.0,\"#0d0887\"],[0.1111111111111111,\"#46039f\"],[0.2222222222222222,\"#7201a8\"],[0.3333333333333333,\"#9c179e\"],[0.4444444444444444,\"#bd3786\"],[0.5555555555555556,\"#d8576b\"],[0.6666666666666666,\"#ed7953\"],[0.7777777777777778,\"#fb9f3a\"],[0.8888888888888888,\"#fdca26\"],[1.0,\"#f0f921\"]],\"type\":\"contour\"}],\"contourcarpet\":[{\"colorbar\":{\"outlinewidth\":0,\"ticks\":\"\"},\"type\":\"contourcarpet\"}],\"heatmap\":[{\"colorbar\":{\"outlinewidth\":0,\"ticks\":\"\"},\"colorscale\":[[0.0,\"#0d0887\"],[0.1111111111111111,\"#46039f\"],[0.2222222222222222,\"#7201a8\"],[0.3333333333333333,\"#9c179e\"],[0.4444444444444444,\"#bd3786\"],[0.5555555555555556,\"#d8576b\"],[0.6666666666666666,\"#ed7953\"],[0.7777777777777778,\"#fb9f3a\"],[0.8888888888888888,\"#fdca26\"],[1.0,\"#f0f921\"]],\"type\":\"heatmap\"}],\"heatmapgl\":[{\"colorbar\":{\"outlinewidth\":0,\"ticks\":\"\"},\"colorscale\":[[0.0,\"#0d0887\"],[0.1111111111111111,\"#46039f\"],[0.2222222222222222,\"#7201a8\"],[0.3333333333333333,\"#9c179e\"],[0.4444444444444444,\"#bd3786\"],[0.5555555555555556,\"#d8576b\"],[0.6666666666666666,\"#ed7953\"],[0.7777777777777778,\"#fb9f3a\"],[0.8888888888888888,\"#fdca26\"],[1.0,\"#f0f921\"]],\"type\":\"heatmapgl\"}],\"histogram\":[{\"marker\":{\"pattern\":{\"fillmode\":\"overlay\",\"size\":10,\"solidity\":0.2}},\"type\":\"histogram\"}],\"histogram2d\":[{\"colorbar\":{\"outlinewidth\":0,\"ticks\":\"\"},\"colorscale\":[[0.0,\"#0d0887\"],[0.1111111111111111,\"#46039f\"],[0.2222222222222222,\"#7201a8\"],[0.3333333333333333,\"#9c179e\"],[0.4444444444444444,\"#bd3786\"],[0.5555555555555556,\"#d8576b\"],[0.6666666666666666,\"#ed7953\"],[0.7777777777777778,\"#fb9f3a\"],[0.8888888888888888,\"#fdca26\"],[1.0,\"#f0f921\"]],\"type\":\"histogram2d\"}],\"histogram2dcontour\":[{\"colorbar\":{\"outlinewidth\":0,\"ticks\":\"\"},\"colorscale\":[[0.0,\"#0d0887\"],[0.1111111111111111,\"#46039f\"],[0.2222222222222222,\"#7201a8\"],[0.3333333333333333,\"#9c179e\"],[0.4444444444444444,\"#bd3786\"],[0.5555555555555556,\"#d8576b\"],[0.6666666666666666,\"#ed7953\"],[0.7777777777777778,\"#fb9f3a\"],[0.8888888888888888,\"#fdca26\"],[1.0,\"#f0f921\"]],\"type\":\"histogram2dcontour\"}],\"mesh3d\":[{\"colorbar\":{\"outlinewidth\":0,\"ticks\":\"\"},\"type\":\"mesh3d\"}],\"parcoords\":[{\"line\":{\"colorbar\":{\"outlinewidth\":0,\"ticks\":\"\"}},\"type\":\"parcoords\"}],\"pie\":[{\"automargin\":true,\"type\":\"pie\"}],\"scatter\":[{\"marker\":{\"colorbar\":{\"outlinewidth\":0,\"ticks\":\"\"}},\"type\":\"scatter\"}],\"scatter3d\":[{\"line\":{\"colorbar\":{\"outlinewidth\":0,\"ticks\":\"\"}},\"marker\":{\"colorbar\":{\"outlinewidth\":0,\"ticks\":\"\"}},\"type\":\"scatter3d\"}],\"scattercarpet\":[{\"marker\":{\"colorbar\":{\"outlinewidth\":0,\"ticks\":\"\"}},\"type\":\"scattercarpet\"}],\"scattergeo\":[{\"marker\":{\"colorbar\":{\"outlinewidth\":0,\"ticks\":\"\"}},\"type\":\"scattergeo\"}],\"scattergl\":[{\"marker\":{\"colorbar\":{\"outlinewidth\":0,\"ticks\":\"\"}},\"type\":\"scattergl\"}],\"scattermapbox\":[{\"marker\":{\"colorbar\":{\"outlinewidth\":0,\"ticks\":\"\"}},\"type\":\"scattermapbox\"}],\"scatterpolar\":[{\"marker\":{\"colorbar\":{\"outlinewidth\":0,\"ticks\":\"\"}},\"type\":\"scatterpolar\"}],\"scatterpolargl\":[{\"marker\":{\"colorbar\":{\"outlinewidth\":0,\"ticks\":\"\"}},\"type\":\"scatterpolargl\"}],\"scatterternary\":[{\"marker\":{\"colorbar\":{\"outlinewidth\":0,\"ticks\":\"\"}},\"type\":\"scatterternary\"}],\"surface\":[{\"colorbar\":{\"outlinewidth\":0,\"ticks\":\"\"},\"colorscale\":[[0.0,\"#0d0887\"],[0.1111111111111111,\"#46039f\"],[0.2222222222222222,\"#7201a8\"],[0.3333333333333333,\"#9c179e\"],[0.4444444444444444,\"#bd3786\"],[0.5555555555555556,\"#d8576b\"],[0.6666666666666666,\"#ed7953\"],[0.7777777777777778,\"#fb9f3a\"],[0.8888888888888888,\"#fdca26\"],[1.0,\"#f0f921\"]],\"type\":\"surface\"}],\"table\":[{\"cells\":{\"fill\":{\"color\":\"#EBF0F8\"},\"line\":{\"color\":\"white\"}},\"header\":{\"fill\":{\"color\":\"#C8D4E3\"},\"line\":{\"color\":\"white\"}},\"type\":\"table\"}]},\"layout\":{\"annotationdefaults\":{\"arrowcolor\":\"#2a3f5f\",\"arrowhead\":0,\"arrowwidth\":1},\"autotypenumbers\":\"strict\",\"coloraxis\":{\"colorbar\":{\"outlinewidth\":0,\"ticks\":\"\"}},\"colorscale\":{\"diverging\":[[0,\"#8e0152\"],[0.1,\"#c51b7d\"],[0.2,\"#de77ae\"],[0.3,\"#f1b6da\"],[0.4,\"#fde0ef\"],[0.5,\"#f7f7f7\"],[0.6,\"#e6f5d0\"],[0.7,\"#b8e186\"],[0.8,\"#7fbc41\"],[0.9,\"#4d9221\"],[1,\"#276419\"]],\"sequential\":[[0.0,\"#0d0887\"],[0.1111111111111111,\"#46039f\"],[0.2222222222222222,\"#7201a8\"],[0.3333333333333333,\"#9c179e\"],[0.4444444444444444,\"#bd3786\"],[0.5555555555555556,\"#d8576b\"],[0.6666666666666666,\"#ed7953\"],[0.7777777777777778,\"#fb9f3a\"],[0.8888888888888888,\"#fdca26\"],[1.0,\"#f0f921\"]],\"sequentialminus\":[[0.0,\"#0d0887\"],[0.1111111111111111,\"#46039f\"],[0.2222222222222222,\"#7201a8\"],[0.3333333333333333,\"#9c179e\"],[0.4444444444444444,\"#bd3786\"],[0.5555555555555556,\"#d8576b\"],[0.6666666666666666,\"#ed7953\"],[0.7777777777777778,\"#fb9f3a\"],[0.8888888888888888,\"#fdca26\"],[1.0,\"#f0f921\"]]},\"colorway\":[\"#636efa\",\"#EF553B\",\"#00cc96\",\"#ab63fa\",\"#FFA15A\",\"#19d3f3\",\"#FF6692\",\"#B6E880\",\"#FF97FF\",\"#FECB52\"],\"font\":{\"color\":\"#2a3f5f\"},\"geo\":{\"bgcolor\":\"white\",\"lakecolor\":\"white\",\"landcolor\":\"#E5ECF6\",\"showlakes\":true,\"showland\":true,\"subunitcolor\":\"white\"},\"hoverlabel\":{\"align\":\"left\"},\"hovermode\":\"closest\",\"mapbox\":{\"style\":\"light\"},\"paper_bgcolor\":\"white\",\"plot_bgcolor\":\"#E5ECF6\",\"polar\":{\"angularaxis\":{\"gridcolor\":\"white\",\"linecolor\":\"white\",\"ticks\":\"\"},\"bgcolor\":\"#E5ECF6\",\"radialaxis\":{\"gridcolor\":\"white\",\"linecolor\":\"white\",\"ticks\":\"\"}},\"scene\":{\"xaxis\":{\"backgroundcolor\":\"#E5ECF6\",\"gridcolor\":\"white\",\"gridwidth\":2,\"linecolor\":\"white\",\"showbackground\":true,\"ticks\":\"\",\"zerolinecolor\":\"white\"},\"yaxis\":{\"backgroundcolor\":\"#E5ECF6\",\"gridcolor\":\"white\",\"gridwidth\":2,\"linecolor\":\"white\",\"showbackground\":true,\"ticks\":\"\",\"zerolinecolor\":\"white\"},\"zaxis\":{\"backgroundcolor\":\"#E5ECF6\",\"gridcolor\":\"white\",\"gridwidth\":2,\"linecolor\":\"white\",\"showbackground\":true,\"ticks\":\"\",\"zerolinecolor\":\"white\"}},\"shapedefaults\":{\"line\":{\"color\":\"#2a3f5f\"}},\"ternary\":{\"aaxis\":{\"gridcolor\":\"white\",\"linecolor\":\"white\",\"ticks\":\"\"},\"baxis\":{\"gridcolor\":\"white\",\"linecolor\":\"white\",\"ticks\":\"\"},\"bgcolor\":\"#E5ECF6\",\"caxis\":{\"gridcolor\":\"white\",\"linecolor\":\"white\",\"ticks\":\"\"}},\"title\":{\"x\":0.05},\"xaxis\":{\"automargin\":true,\"gridcolor\":\"white\",\"linecolor\":\"white\",\"ticks\":\"\",\"title\":{\"standoff\":15},\"zerolinecolor\":\"white\",\"zerolinewidth\":2},\"yaxis\":{\"automargin\":true,\"gridcolor\":\"white\",\"linecolor\":\"white\",\"ticks\":\"\",\"title\":{\"standoff\":15},\"zerolinecolor\":\"white\",\"zerolinewidth\":2}}},\"xaxis\":{\"anchor\":\"y\",\"domain\":[0.0,1.0],\"title\":{\"text\":\"Date\"}},\"yaxis\":{\"anchor\":\"x\",\"domain\":[0.0,1.0],\"title\":{\"text\":\"count\"}},\"legend\":{\"title\":{\"text\":\"Sentiment_Transformer\"},\"tracegroupgap\":0},\"margin\":{\"t\":60},\"barmode\":\"overlay\"},                        {\"responsive\": true}                    ).then(function(){\n",
              "                            \n",
              "var gd = document.getElementById('74035d5e-8429-45bb-be05-ddfff9ba223a');\n",
              "var x = new MutationObserver(function (mutations, observer) {{\n",
              "        var display = window.getComputedStyle(gd).display;\n",
              "        if (!display || display === 'none') {{\n",
              "            console.log([gd, 'removed!']);\n",
              "            Plotly.purge(gd);\n",
              "            observer.disconnect();\n",
              "        }}\n",
              "}});\n",
              "\n",
              "// Listen for the removal of the full notebook cells\n",
              "var notebookContainer = gd.closest('#notebook-container');\n",
              "if (notebookContainer) {{\n",
              "    x.observe(notebookContainer, {childList: true});\n",
              "}}\n",
              "\n",
              "// Listen for the clearing of the current output cell\n",
              "var outputEl = gd.closest('.output');\n",
              "if (outputEl) {{\n",
              "    x.observe(outputEl, {childList: true});\n",
              "}}\n",
              "\n",
              "                        })                };                            </script>        </div>\n",
              "</body>\n",
              "</html>"
            ]
          },
          "metadata": {}
        }
      ]
    },
    {
      "cell_type": "markdown",
      "source": [
        "## Distribution of Sentiment : HAshtags, USer_Mentions"
      ],
      "metadata": {
        "id": "ouX583RV30Xd"
      }
    },
    {
      "cell_type": "code",
      "source": [
        "hastags_df = df[['Hashtags','Sentiment_Transformer']].explode('Hashtags')\n",
        "\n",
        "#hastags_df.reset_index(level=['Hashtags','Sentiment_Transformer'] , inplace=True)\n",
        "final = hastags_df[hastags_df['Hashtags'].isin(hastags_df.Hashtags.value_counts().nlargest(5).index.to_list())]"
      ],
      "metadata": {
        "id": "-Vd0iqY-KG2F"
      },
      "execution_count": 42,
      "outputs": []
    },
    {
      "cell_type": "code",
      "source": [
        "hastags_df.Hashtags.value_counts().nlargest(5).index.to_list()"
      ],
      "metadata": {
        "colab": {
          "base_uri": "https://localhost:8080/"
        },
        "id": "NV4SixbGba4-",
        "outputId": "412abb89-870a-4f81-afaa-f27d210536c9"
      },
      "execution_count": 43,
      "outputs": [
        {
          "output_type": "execute_result",
          "data": {
            "text/plain": [
              "['RussiaUkraineWar', 'Ukraine', 'Russia', 'Russian', 'NATO']"
            ]
          },
          "metadata": {},
          "execution_count": 43
        }
      ]
    },
    {
      "cell_type": "code",
      "source": [
        "fig=px.histogram(final,x=\"Hashtags\",color='Sentiment_Transformer',barmode=\"overlay\",color_discrete_sequence=colors)\n",
        "fig.show()"
      ],
      "metadata": {
        "colab": {
          "base_uri": "https://localhost:8080/",
          "height": 542
        },
        "id": "GGs_iWe9VdaR",
        "outputId": "b924edc2-c8ee-48da-d778-25e1639c9fa6"
      },
      "execution_count": 46,
      "outputs": [
        {
          "output_type": "display_data",
          "data": {
            "text/html": [
              "<html>\n",
              "<head><meta charset=\"utf-8\" /></head>\n",
              "<body>\n",
              "    <div>            <script src=\"https://cdnjs.cloudflare.com/ajax/libs/mathjax/2.7.5/MathJax.js?config=TeX-AMS-MML_SVG\"></script><script type=\"text/javascript\">if (window.MathJax) {MathJax.Hub.Config({SVG: {font: \"STIX-Web\"}});}</script>                <script type=\"text/javascript\">window.PlotlyConfig = {MathJaxConfig: 'local'};</script>\n",
              "        <script src=\"https://cdn.plot.ly/plotly-2.8.3.min.js\"></script>                <div id=\"f155369a-3ca1-48e7-8e68-ca37dfec2185\" class=\"plotly-graph-div\" style=\"height:525px; width:100%;\"></div>            <script type=\"text/javascript\">                                    window.PLOTLYENV=window.PLOTLYENV || {};                                    if (document.getElementById(\"f155369a-3ca1-48e7-8e68-ca37dfec2185\")) {                    Plotly.newPlot(                        \"f155369a-3ca1-48e7-8e68-ca37dfec2185\",                        [{\"alignmentgroup\":\"True\",\"bingroup\":\"x\",\"hovertemplate\":\"Sentiment_Transformer=NEU<br>Hashtags=%{x}<br>count=%{y}<extra></extra>\",\"legendgroup\":\"NEU\",\"marker\":{\"color\":\"gold\",\"opacity\":0.5,\"pattern\":{\"shape\":\"\"}},\"name\":\"NEU\",\"offsetgroup\":\"NEU\",\"orientation\":\"v\",\"showlegend\":true,\"x\":[\"RussiaUkraineWar\",\"Russian\",\"Ukraine\",\"Russian\",\"Ukraine\",\"Russian\",\"RussiaUkraineWar\",\"RussiaUkraineWar\",\"Russian\",\"RussiaUkraineWar\",\"Ukraine\",\"Russian\",\"Ukraine\",\"Ukraine\",\"Russia\",\"NATO\",\"Russian\",\"Russia\",\"Ukraine\",\"Russian\",\"Russia\",\"Russia\",\"Ukraine\",\"Ukraine\",\"Ukraine\",\"NATO\",\"Ukraine\",\"Russia\",\"NATO\",\"Russia\",\"RussiaUkraineWar\",\"RussiaUkraineWar\",\"Ukraine\",\"Russia\",\"Ukraine\",\"RussiaUkraineWar\",\"Russia\",\"Russia\",\"RussiaUkraineWar\",\"NATO\",\"RussiaUkraineWar\",\"RussiaUkraineWar\",\"Ukraine\",\"RussiaUkraineWar\",\"RussiaUkraineWar\",\"Ukraine\",\"RussiaUkraineWar\",\"RussiaUkraineWar\",\"RussiaUkraineWar\",\"NATO\",\"Ukraine\",\"RussiaUkraineWar\",\"Russia\",\"Ukraine\",\"RussiaUkraineWar\",\"Ukraine\",\"Russia\",\"Russian\",\"Ukraine\",\"Russia\",\"Ukraine\",\"RussiaUkraineWar\",\"RussiaUkraineWar\",\"RussiaUkraineWar\",\"RussiaUkraineWar\",\"Russia\",\"Ukraine\",\"RussiaUkraineWar\",\"RussiaUkraineWar\",\"RussiaUkraineWar\",\"Russia\",\"RussiaUkraineWar\",\"Ukraine\",\"RussiaUkraineWar\",\"RussiaUkraineWar\",\"Russia\",\"Ukraine\",\"RussiaUkraineWar\",\"Ukraine\",\"RussiaUkraineWar\",\"RussiaUkraineWar\",\"Russian\",\"Ukraine\",\"RussiaUkraineWar\",\"Russian\",\"Ukraine\",\"Russia\",\"RussiaUkraineWar\",\"RussiaUkraineWar\",\"Russian\",\"Ukraine\",\"Russia\",\"Russia\",\"Ukraine\",\"Russia\",\"Ukraine\",\"Russia\",\"Ukraine\",\"RussiaUkraineWar\",\"Russia\",\"Ukraine\",\"RussiaUkraineWar\",\"RussiaUkraineWar\",\"Russian\",\"Ukraine\",\"Russia\",\"RussiaUkraineWar\",\"Ukraine\",\"Russian\",\"RussiaUkraineWar\",\"Ukraine\",\"RussiaUkraineWar\",\"RussiaUkraineWar\",\"Russian\",\"Ukraine\",\"Russia\",\"Russia\",\"Ukraine\",\"RussiaUkraineWar\",\"Russia\",\"Ukraine\",\"RussiaUkraineWar\",\"NATO\",\"Ukraine\",\"RussiaUkraineWar\",\"RussiaUkraineWar\",\"Russia\",\"Ukraine\",\"RussiaUkraineWar\",\"Russian\",\"Ukraine\",\"Russia\",\"Russian\",\"Ukraine\",\"RussiaUkraineWar\",\"Russia\",\"Ukraine\",\"Russia\",\"Ukraine\",\"Ukraine\",\"Russia\",\"RussiaUkraineWar\",\"RussiaUkraineWar\",\"RussiaUkraineWar\",\"Russia\",\"Ukraine\",\"Ukraine\",\"Russia\",\"RussiaUkraineWar\",\"Russia\",\"RussiaUkraineWar\",\"Ukraine\",\"Ukraine\",\"Ukraine\",\"RussiaUkraineWar\",\"RussiaUkraineWar\",\"RussiaUkraineWar\",\"Russia\",\"Ukraine\",\"Russia\",\"RussiaUkraineWar\",\"Ukraine\",\"Russian\",\"Ukraine\",\"Russian\",\"RussiaUkraineWar\",\"NATO\",\"Russia\",\"RussiaUkraineWar\",\"RussiaUkraineWar\",\"Ukraine\",\"Russia\",\"Ukraine\",\"RussiaUkraineWar\",\"Ukraine\",\"RussiaUkraineWar\",\"Ukraine\",\"RussiaUkraineWar\",\"Russia\",\"Ukraine\",\"NATO\",\"Russia\",\"RussiaUkraineWar\",\"Russia\",\"RussiaUkraineWar\",\"Russia\",\"RussiaUkraineWar\",\"Ukraine\",\"Russia\",\"RussiaUkraineWar\",\"RussiaUkraineWar\",\"Ukraine\",\"RussiaUkraineWar\",\"RussiaUkraineWar\",\"RussiaUkraineWar\",\"RussiaUkraineWar\",\"NATO\",\"RussiaUkraineWar\",\"RussiaUkraineWar\",\"RussiaUkraineWar\",\"RussiaUkraineWar\",\"RussiaUkraineWar\",\"RussiaUkraineWar\",\"RussiaUkraineWar\",\"Russia\",\"RussiaUkraineWar\",\"RussiaUkraineWar\",\"RussiaUkraineWar\",\"Ukraine\",\"RussiaUkraineWar\",\"Ukraine\",\"RussiaUkraineWar\",\"Ukraine\",\"RussiaUkraineWar\",\"Ukraine\",\"RussiaUkraineWar\",\"Ukraine\",\"RussiaUkraineWar\",\"Ukraine\",\"Russia\",\"RussiaUkraineWar\",\"RussiaUkraineWar\",\"Russia\",\"Ukraine\",\"RussiaUkraineWar\",\"RussiaUkraineWar\",\"Ukraine\",\"RussiaUkraineWar\",\"RussiaUkraineWar\",\"Ukraine\",\"RussiaUkraineWar\",\"Russia\",\"RussiaUkraineWar\",\"RussiaUkraineWar\",\"RussiaUkraineWar\",\"Ukraine\",\"Russian\",\"Ukraine\",\"RussiaUkraineWar\",\"Russian\",\"Russian\",\"Ukraine\",\"RussiaUkraineWar\",\"NATO\",\"RussiaUkraineWar\",\"Ukraine\",\"RussiaUkraineWar\",\"NATO\",\"RussiaUkraineWar\",\"Ukraine\",\"RussiaUkraineWar\",\"Ukraine\",\"RussiaUkraineWar\",\"Ukraine\",\"RussiaUkraineWar\",\"RussiaUkraineWar\",\"Ukraine\",\"RussiaUkraineWar\",\"Ukraine\",\"RussiaUkraineWar\",\"Ukraine\",\"RussiaUkraineWar\",\"Ukraine\",\"Russia\",\"RussiaUkraineWar\",\"RussiaUkraineWar\",\"Ukraine\",\"Russia\",\"RussiaUkraineWar\",\"Ukraine\",\"Russia\",\"RussiaUkraineWar\",\"RussiaUkraineWar\",\"RussiaUkraineWar\",\"Russia\",\"RussiaUkraineWar\",\"Russia\",\"Ukraine\",\"RussiaUkraineWar\",\"RussiaUkraineWar\",\"NATO\",\"Ukraine\",\"Russia\",\"Ukraine\",\"RussiaUkraineWar\",\"RussiaUkraineWar\",\"Ukraine\",\"Ukraine\",\"Russia\",\"RussiaUkraineWar\",\"Russia\",\"Ukraine\",\"RussiaUkraineWar\",\"Russian\",\"RussiaUkraineWar\",\"RussiaUkraineWar\",\"Ukraine\",\"RussiaUkraineWar\",\"RussiaUkraineWar\",\"Russian\",\"RussiaUkraineWar\",\"RussiaUkraineWar\",\"RussiaUkraineWar\",\"RussiaUkraineWar\",\"RussiaUkraineWar\",\"RussiaUkraineWar\",\"NATO\",\"RussiaUkraineWar\",\"RussiaUkraineWar\",\"RussiaUkraineWar\",\"Russian\",\"RussiaUkraineWar\",\"RussiaUkraineWar\",\"Ukraine\",\"NATO\",\"Russia\",\"RussiaUkraineWar\",\"Russia\",\"RussiaUkraineWar\",\"RussiaUkraineWar\",\"Ukraine\",\"Russian\",\"RussiaUkraineWar\",\"Russia\",\"Ukraine\",\"RussiaUkraineWar\",\"Russia\",\"RussiaUkraineWar\",\"Ukraine\",\"RussiaUkraineWar\",\"Russia\",\"RussiaUkraineWar\",\"RussiaUkraineWar\",\"Ukraine\",\"RussiaUkraineWar\",\"Ukraine\",\"RussiaUkraineWar\",\"Ukraine\",\"NATO\",\"RussiaUkraineWar\",\"Ukraine\",\"RussiaUkraineWar\",\"Ukraine\",\"RussiaUkraineWar\",\"Russia\",\"Ukraine\",\"RussiaUkraineWar\",\"Russia\",\"RussiaUkraineWar\",\"Russia\",\"RussiaUkraineWar\",\"Russia\",\"RussiaUkraineWar\",\"Russia\",\"NATO\",\"RussiaUkraineWar\",\"RussiaUkraineWar\",\"Russian\",\"RussiaUkraineWar\",\"Ukraine\",\"Ukraine\",\"Russia\",\"Ukraine\",\"RussiaUkraineWar\",\"RussiaUkraineWar\",\"RussiaUkraineWar\",\"RussiaUkraineWar\",\"RussiaUkraineWar\",\"RussiaUkraineWar\",\"RussiaUkraineWar\",\"RussiaUkraineWar\",\"Ukraine\",\"RussiaUkraineWar\",\"RussiaUkraineWar\",\"Ukraine\",\"NATO\",\"RussiaUkraineWar\",\"RussiaUkraineWar\",\"Ukraine\",\"RussiaUkraineWar\",\"Russian\",\"Russia\",\"Ukraine\",\"NATO\",\"Russia\",\"Ukraine\",\"RussiaUkraineWar\",\"RussiaUkraineWar\",\"RussiaUkraineWar\",\"Russia\",\"Ukraine\",\"RussiaUkraineWar\",\"Russia\",\"Ukraine\",\"Ukraine\",\"Russian\",\"RussiaUkraineWar\",\"RussiaUkraineWar\",\"Russia\",\"RussiaUkraineWar\",\"Ukraine\",\"Russia\",\"Ukraine\",\"RussiaUkraineWar\",\"Russian\",\"Ukraine\",\"RussiaUkraineWar\",\"RussiaUkraineWar\",\"Russian\",\"Ukraine\",\"Russia\",\"Ukraine\",\"RussiaUkraineWar\",\"NATO\",\"Russian\",\"Russia\",\"Ukraine\",\"RussiaUkraineWar\",\"Russian\",\"Russia\",\"Ukraine\",\"NATO\",\"RussiaUkraineWar\",\"NATO\",\"Russia\",\"RussiaUkraineWar\",\"Ukraine\",\"RussiaUkraineWar\",\"Russia\",\"Russia\",\"Ukraine\",\"RussiaUkraineWar\",\"RussiaUkraineWar\",\"RussiaUkraineWar\",\"Russian\",\"Russia\",\"Ukraine\",\"Ukraine\"],\"xaxis\":\"x\",\"yaxis\":\"y\",\"type\":\"histogram\"},{\"alignmentgroup\":\"True\",\"bingroup\":\"x\",\"hovertemplate\":\"Sentiment_Transformer=NEG<br>Hashtags=%{x}<br>count=%{y}<extra></extra>\",\"legendgroup\":\"NEG\",\"marker\":{\"color\":\"mediumturquoise\",\"opacity\":0.5,\"pattern\":{\"shape\":\"\"}},\"name\":\"NEG\",\"offsetgroup\":\"NEG\",\"orientation\":\"v\",\"showlegend\":true,\"x\":[\"Ukraine\",\"Ukraine\",\"Russia\",\"Ukraine\",\"RussiaUkraineWar\",\"RussiaUkraineWar\",\"RussiaUkraineWar\",\"RussiaUkraineWar\",\"Ukraine\",\"Russian\",\"Ukraine\",\"RussiaUkraineWar\",\"Russian\",\"Ukraine\",\"Ukraine\",\"Ukraine\",\"Russian\",\"RussiaUkraineWar\",\"RussiaUkraineWar\",\"Ukraine\",\"NATO\",\"Russia\",\"Ukraine\",\"Russian\",\"RussiaUkraineWar\",\"RussiaUkraineWar\",\"Ukraine\",\"Ukraine\",\"Russia\",\"RussiaUkraineWar\",\"Russia\",\"Ukraine\",\"Russian\",\"RussiaUkraineWar\",\"RussiaUkraineWar\",\"Ukraine\",\"Russian\",\"RussiaUkraineWar\",\"Ukraine\",\"NATO\",\"RussiaUkraineWar\",\"Russian\",\"Russian\",\"RussiaUkraineWar\",\"RussiaUkraineWar\",\"Russian\",\"RussiaUkraineWar\",\"RussiaUkraineWar\",\"Russian\",\"RussiaUkraineWar\",\"Russia\",\"RussiaUkraineWar\",\"Russia\",\"Ukraine\",\"Russia\",\"Ukraine\",\"RussiaUkraineWar\",\"Russia\",\"Ukraine\",\"Ukraine\",\"Ukraine\",\"RussiaUkraineWar\",\"RussiaUkraineWar\",\"RussiaUkraineWar\",\"Ukraine\",\"RussiaUkraineWar\",\"RussiaUkraineWar\",\"RussiaUkraineWar\",\"NATO\",\"RussiaUkraineWar\",\"Ukraine\",\"Russia\",\"Ukraine\",\"RussiaUkraineWar\",\"RussiaUkraineWar\",\"Russia\",\"RussiaUkraineWar\",\"Ukraine\",\"RussiaUkraineWar\",\"RussiaUkraineWar\",\"RussiaUkraineWar\",\"Russia\",\"Ukraine\",\"RussiaUkraineWar\",\"RussiaUkraineWar\",\"RussiaUkraineWar\",\"RussiaUkraineWar\",\"RussiaUkraineWar\",\"RussiaUkraineWar\",\"Ukraine\",\"RussiaUkraineWar\",\"Russia\",\"Ukraine\",\"RussiaUkraineWar\",\"Ukraine\",\"Russia\",\"Ukraine\",\"RussiaUkraineWar\",\"RussiaUkraineWar\",\"RussiaUkraineWar\",\"Russian\",\"Ukraine\",\"RussiaUkraineWar\",\"RussiaUkraineWar\",\"NATO\",\"Russia\",\"RussiaUkraineWar\",\"Russian\",\"RussiaUkraineWar\",\"Russian\",\"RussiaUkraineWar\",\"RussiaUkraineWar\",\"RussiaUkraineWar\",\"NATO\",\"RussiaUkraineWar\",\"Ukraine\",\"RussiaUkraineWar\",\"RussiaUkraineWar\",\"RussiaUkraineWar\",\"NATO\",\"Russia\",\"RussiaUkraineWar\",\"RussiaUkraineWar\",\"Ukraine\",\"NATO\",\"RussiaUkraineWar\",\"Ukraine\",\"Ukraine\",\"RussiaUkraineWar\",\"Ukraine\",\"RussiaUkraineWar\",\"Russian\",\"RussiaUkraineWar\",\"RussiaUkraineWar\",\"RussiaUkraineWar\",\"NATO\",\"Ukraine\",\"RussiaUkraineWar\",\"Ukraine\",\"RussiaUkraineWar\",\"Russia\",\"RussiaUkraineWar\",\"Russian\",\"Russian\",\"Ukraine\",\"RussiaUkraineWar\",\"Ukraine\",\"RussiaUkraineWar\",\"Russian\",\"RussiaUkraineWar\",\"RussiaUkraineWar\",\"RussiaUkraineWar\",\"Ukraine\",\"Ukraine\",\"RussiaUkraineWar\",\"RussiaUkraineWar\",\"RussiaUkraineWar\",\"RussiaUkraineWar\",\"Ukraine\",\"Russian\",\"RussiaUkraineWar\",\"Ukraine\",\"RussiaUkraineWar\",\"NATO\",\"Russian\",\"RussiaUkraineWar\",\"RussiaUkraineWar\",\"RussiaUkraineWar\",\"RussiaUkraineWar\",\"RussiaUkraineWar\",\"Ukraine\",\"RussiaUkraineWar\",\"Ukraine\",\"NATO\",\"RussiaUkraineWar\",\"Russian\",\"RussiaUkraineWar\",\"Russia\",\"RussiaUkraineWar\",\"Russia\",\"Ukraine\"],\"xaxis\":\"x\",\"yaxis\":\"y\",\"type\":\"histogram\"},{\"alignmentgroup\":\"True\",\"bingroup\":\"x\",\"hovertemplate\":\"Sentiment_Transformer=POS<br>Hashtags=%{x}<br>count=%{y}<extra></extra>\",\"legendgroup\":\"POS\",\"marker\":{\"color\":\"darkorange\",\"opacity\":0.5,\"pattern\":{\"shape\":\"\"}},\"name\":\"POS\",\"offsetgroup\":\"POS\",\"orientation\":\"v\",\"showlegend\":true,\"x\":[\"Ukraine\",\"Russian\",\"RussiaUkraineWar\",\"Ukraine\",\"Russia\",\"Ukraine\",\"Russia\",\"Ukraine\",\"RussiaUkraineWar\",\"RussiaUkraineWar\",\"Ukraine\",\"Ukraine\",\"Russia\",\"Russian\",\"RussiaUkraineWar\",\"NATO\",\"RussiaUkraineWar\",\"RussiaUkraineWar\",\"Ukraine\",\"RussiaUkraineWar\",\"RussiaUkraineWar\",\"RussiaUkraineWar\",\"RussiaUkraineWar\",\"RussiaUkraineWar\",\"NATO\",\"RussiaUkraineWar\",\"Russia\",\"Ukraine\"],\"xaxis\":\"x\",\"yaxis\":\"y\",\"type\":\"histogram\"}],                        {\"template\":{\"data\":{\"bar\":[{\"error_x\":{\"color\":\"#2a3f5f\"},\"error_y\":{\"color\":\"#2a3f5f\"},\"marker\":{\"line\":{\"color\":\"#E5ECF6\",\"width\":0.5},\"pattern\":{\"fillmode\":\"overlay\",\"size\":10,\"solidity\":0.2}},\"type\":\"bar\"}],\"barpolar\":[{\"marker\":{\"line\":{\"color\":\"#E5ECF6\",\"width\":0.5},\"pattern\":{\"fillmode\":\"overlay\",\"size\":10,\"solidity\":0.2}},\"type\":\"barpolar\"}],\"carpet\":[{\"aaxis\":{\"endlinecolor\":\"#2a3f5f\",\"gridcolor\":\"white\",\"linecolor\":\"white\",\"minorgridcolor\":\"white\",\"startlinecolor\":\"#2a3f5f\"},\"baxis\":{\"endlinecolor\":\"#2a3f5f\",\"gridcolor\":\"white\",\"linecolor\":\"white\",\"minorgridcolor\":\"white\",\"startlinecolor\":\"#2a3f5f\"},\"type\":\"carpet\"}],\"choropleth\":[{\"colorbar\":{\"outlinewidth\":0,\"ticks\":\"\"},\"type\":\"choropleth\"}],\"contour\":[{\"colorbar\":{\"outlinewidth\":0,\"ticks\":\"\"},\"colorscale\":[[0.0,\"#0d0887\"],[0.1111111111111111,\"#46039f\"],[0.2222222222222222,\"#7201a8\"],[0.3333333333333333,\"#9c179e\"],[0.4444444444444444,\"#bd3786\"],[0.5555555555555556,\"#d8576b\"],[0.6666666666666666,\"#ed7953\"],[0.7777777777777778,\"#fb9f3a\"],[0.8888888888888888,\"#fdca26\"],[1.0,\"#f0f921\"]],\"type\":\"contour\"}],\"contourcarpet\":[{\"colorbar\":{\"outlinewidth\":0,\"ticks\":\"\"},\"type\":\"contourcarpet\"}],\"heatmap\":[{\"colorbar\":{\"outlinewidth\":0,\"ticks\":\"\"},\"colorscale\":[[0.0,\"#0d0887\"],[0.1111111111111111,\"#46039f\"],[0.2222222222222222,\"#7201a8\"],[0.3333333333333333,\"#9c179e\"],[0.4444444444444444,\"#bd3786\"],[0.5555555555555556,\"#d8576b\"],[0.6666666666666666,\"#ed7953\"],[0.7777777777777778,\"#fb9f3a\"],[0.8888888888888888,\"#fdca26\"],[1.0,\"#f0f921\"]],\"type\":\"heatmap\"}],\"heatmapgl\":[{\"colorbar\":{\"outlinewidth\":0,\"ticks\":\"\"},\"colorscale\":[[0.0,\"#0d0887\"],[0.1111111111111111,\"#46039f\"],[0.2222222222222222,\"#7201a8\"],[0.3333333333333333,\"#9c179e\"],[0.4444444444444444,\"#bd3786\"],[0.5555555555555556,\"#d8576b\"],[0.6666666666666666,\"#ed7953\"],[0.7777777777777778,\"#fb9f3a\"],[0.8888888888888888,\"#fdca26\"],[1.0,\"#f0f921\"]],\"type\":\"heatmapgl\"}],\"histogram\":[{\"marker\":{\"pattern\":{\"fillmode\":\"overlay\",\"size\":10,\"solidity\":0.2}},\"type\":\"histogram\"}],\"histogram2d\":[{\"colorbar\":{\"outlinewidth\":0,\"ticks\":\"\"},\"colorscale\":[[0.0,\"#0d0887\"],[0.1111111111111111,\"#46039f\"],[0.2222222222222222,\"#7201a8\"],[0.3333333333333333,\"#9c179e\"],[0.4444444444444444,\"#bd3786\"],[0.5555555555555556,\"#d8576b\"],[0.6666666666666666,\"#ed7953\"],[0.7777777777777778,\"#fb9f3a\"],[0.8888888888888888,\"#fdca26\"],[1.0,\"#f0f921\"]],\"type\":\"histogram2d\"}],\"histogram2dcontour\":[{\"colorbar\":{\"outlinewidth\":0,\"ticks\":\"\"},\"colorscale\":[[0.0,\"#0d0887\"],[0.1111111111111111,\"#46039f\"],[0.2222222222222222,\"#7201a8\"],[0.3333333333333333,\"#9c179e\"],[0.4444444444444444,\"#bd3786\"],[0.5555555555555556,\"#d8576b\"],[0.6666666666666666,\"#ed7953\"],[0.7777777777777778,\"#fb9f3a\"],[0.8888888888888888,\"#fdca26\"],[1.0,\"#f0f921\"]],\"type\":\"histogram2dcontour\"}],\"mesh3d\":[{\"colorbar\":{\"outlinewidth\":0,\"ticks\":\"\"},\"type\":\"mesh3d\"}],\"parcoords\":[{\"line\":{\"colorbar\":{\"outlinewidth\":0,\"ticks\":\"\"}},\"type\":\"parcoords\"}],\"pie\":[{\"automargin\":true,\"type\":\"pie\"}],\"scatter\":[{\"marker\":{\"colorbar\":{\"outlinewidth\":0,\"ticks\":\"\"}},\"type\":\"scatter\"}],\"scatter3d\":[{\"line\":{\"colorbar\":{\"outlinewidth\":0,\"ticks\":\"\"}},\"marker\":{\"colorbar\":{\"outlinewidth\":0,\"ticks\":\"\"}},\"type\":\"scatter3d\"}],\"scattercarpet\":[{\"marker\":{\"colorbar\":{\"outlinewidth\":0,\"ticks\":\"\"}},\"type\":\"scattercarpet\"}],\"scattergeo\":[{\"marker\":{\"colorbar\":{\"outlinewidth\":0,\"ticks\":\"\"}},\"type\":\"scattergeo\"}],\"scattergl\":[{\"marker\":{\"colorbar\":{\"outlinewidth\":0,\"ticks\":\"\"}},\"type\":\"scattergl\"}],\"scattermapbox\":[{\"marker\":{\"colorbar\":{\"outlinewidth\":0,\"ticks\":\"\"}},\"type\":\"scattermapbox\"}],\"scatterpolar\":[{\"marker\":{\"colorbar\":{\"outlinewidth\":0,\"ticks\":\"\"}},\"type\":\"scatterpolar\"}],\"scatterpolargl\":[{\"marker\":{\"colorbar\":{\"outlinewidth\":0,\"ticks\":\"\"}},\"type\":\"scatterpolargl\"}],\"scatterternary\":[{\"marker\":{\"colorbar\":{\"outlinewidth\":0,\"ticks\":\"\"}},\"type\":\"scatterternary\"}],\"surface\":[{\"colorbar\":{\"outlinewidth\":0,\"ticks\":\"\"},\"colorscale\":[[0.0,\"#0d0887\"],[0.1111111111111111,\"#46039f\"],[0.2222222222222222,\"#7201a8\"],[0.3333333333333333,\"#9c179e\"],[0.4444444444444444,\"#bd3786\"],[0.5555555555555556,\"#d8576b\"],[0.6666666666666666,\"#ed7953\"],[0.7777777777777778,\"#fb9f3a\"],[0.8888888888888888,\"#fdca26\"],[1.0,\"#f0f921\"]],\"type\":\"surface\"}],\"table\":[{\"cells\":{\"fill\":{\"color\":\"#EBF0F8\"},\"line\":{\"color\":\"white\"}},\"header\":{\"fill\":{\"color\":\"#C8D4E3\"},\"line\":{\"color\":\"white\"}},\"type\":\"table\"}]},\"layout\":{\"annotationdefaults\":{\"arrowcolor\":\"#2a3f5f\",\"arrowhead\":0,\"arrowwidth\":1},\"autotypenumbers\":\"strict\",\"coloraxis\":{\"colorbar\":{\"outlinewidth\":0,\"ticks\":\"\"}},\"colorscale\":{\"diverging\":[[0,\"#8e0152\"],[0.1,\"#c51b7d\"],[0.2,\"#de77ae\"],[0.3,\"#f1b6da\"],[0.4,\"#fde0ef\"],[0.5,\"#f7f7f7\"],[0.6,\"#e6f5d0\"],[0.7,\"#b8e186\"],[0.8,\"#7fbc41\"],[0.9,\"#4d9221\"],[1,\"#276419\"]],\"sequential\":[[0.0,\"#0d0887\"],[0.1111111111111111,\"#46039f\"],[0.2222222222222222,\"#7201a8\"],[0.3333333333333333,\"#9c179e\"],[0.4444444444444444,\"#bd3786\"],[0.5555555555555556,\"#d8576b\"],[0.6666666666666666,\"#ed7953\"],[0.7777777777777778,\"#fb9f3a\"],[0.8888888888888888,\"#fdca26\"],[1.0,\"#f0f921\"]],\"sequentialminus\":[[0.0,\"#0d0887\"],[0.1111111111111111,\"#46039f\"],[0.2222222222222222,\"#7201a8\"],[0.3333333333333333,\"#9c179e\"],[0.4444444444444444,\"#bd3786\"],[0.5555555555555556,\"#d8576b\"],[0.6666666666666666,\"#ed7953\"],[0.7777777777777778,\"#fb9f3a\"],[0.8888888888888888,\"#fdca26\"],[1.0,\"#f0f921\"]]},\"colorway\":[\"#636efa\",\"#EF553B\",\"#00cc96\",\"#ab63fa\",\"#FFA15A\",\"#19d3f3\",\"#FF6692\",\"#B6E880\",\"#FF97FF\",\"#FECB52\"],\"font\":{\"color\":\"#2a3f5f\"},\"geo\":{\"bgcolor\":\"white\",\"lakecolor\":\"white\",\"landcolor\":\"#E5ECF6\",\"showlakes\":true,\"showland\":true,\"subunitcolor\":\"white\"},\"hoverlabel\":{\"align\":\"left\"},\"hovermode\":\"closest\",\"mapbox\":{\"style\":\"light\"},\"paper_bgcolor\":\"white\",\"plot_bgcolor\":\"#E5ECF6\",\"polar\":{\"angularaxis\":{\"gridcolor\":\"white\",\"linecolor\":\"white\",\"ticks\":\"\"},\"bgcolor\":\"#E5ECF6\",\"radialaxis\":{\"gridcolor\":\"white\",\"linecolor\":\"white\",\"ticks\":\"\"}},\"scene\":{\"xaxis\":{\"backgroundcolor\":\"#E5ECF6\",\"gridcolor\":\"white\",\"gridwidth\":2,\"linecolor\":\"white\",\"showbackground\":true,\"ticks\":\"\",\"zerolinecolor\":\"white\"},\"yaxis\":{\"backgroundcolor\":\"#E5ECF6\",\"gridcolor\":\"white\",\"gridwidth\":2,\"linecolor\":\"white\",\"showbackground\":true,\"ticks\":\"\",\"zerolinecolor\":\"white\"},\"zaxis\":{\"backgroundcolor\":\"#E5ECF6\",\"gridcolor\":\"white\",\"gridwidth\":2,\"linecolor\":\"white\",\"showbackground\":true,\"ticks\":\"\",\"zerolinecolor\":\"white\"}},\"shapedefaults\":{\"line\":{\"color\":\"#2a3f5f\"}},\"ternary\":{\"aaxis\":{\"gridcolor\":\"white\",\"linecolor\":\"white\",\"ticks\":\"\"},\"baxis\":{\"gridcolor\":\"white\",\"linecolor\":\"white\",\"ticks\":\"\"},\"bgcolor\":\"#E5ECF6\",\"caxis\":{\"gridcolor\":\"white\",\"linecolor\":\"white\",\"ticks\":\"\"}},\"title\":{\"x\":0.05},\"xaxis\":{\"automargin\":true,\"gridcolor\":\"white\",\"linecolor\":\"white\",\"ticks\":\"\",\"title\":{\"standoff\":15},\"zerolinecolor\":\"white\",\"zerolinewidth\":2},\"yaxis\":{\"automargin\":true,\"gridcolor\":\"white\",\"linecolor\":\"white\",\"ticks\":\"\",\"title\":{\"standoff\":15},\"zerolinecolor\":\"white\",\"zerolinewidth\":2}}},\"xaxis\":{\"anchor\":\"y\",\"domain\":[0.0,1.0],\"title\":{\"text\":\"Hashtags\"}},\"yaxis\":{\"anchor\":\"x\",\"domain\":[0.0,1.0],\"title\":{\"text\":\"count\"}},\"legend\":{\"title\":{\"text\":\"Sentiment_Transformer\"},\"tracegroupgap\":0},\"margin\":{\"t\":60},\"barmode\":\"overlay\"},                        {\"responsive\": true}                    ).then(function(){\n",
              "                            \n",
              "var gd = document.getElementById('f155369a-3ca1-48e7-8e68-ca37dfec2185');\n",
              "var x = new MutationObserver(function (mutations, observer) {{\n",
              "        var display = window.getComputedStyle(gd).display;\n",
              "        if (!display || display === 'none') {{\n",
              "            console.log([gd, 'removed!']);\n",
              "            Plotly.purge(gd);\n",
              "            observer.disconnect();\n",
              "        }}\n",
              "}});\n",
              "\n",
              "// Listen for the removal of the full notebook cells\n",
              "var notebookContainer = gd.closest('#notebook-container');\n",
              "if (notebookContainer) {{\n",
              "    x.observe(notebookContainer, {childList: true});\n",
              "}}\n",
              "\n",
              "// Listen for the clearing of the current output cell\n",
              "var outputEl = gd.closest('.output');\n",
              "if (outputEl) {{\n",
              "    x.observe(outputEl, {childList: true});\n",
              "}}\n",
              "\n",
              "                        })                };                            </script>        </div>\n",
              "</body>\n",
              "</html>"
            ]
          },
          "metadata": {}
        }
      ]
    },
    {
      "cell_type": "code",
      "source": [
        "#Similarly for User Mentions\n",
        "user_df = df[['User_mentions','Sentiment_Transformer']].explode('User_mentions')\n",
        "\n",
        "final2 = user_df[user_df['User_mentions'].isin(hastags_df.Hashtags.value_counts().nlargest(5).index.to_list())]"
      ],
      "metadata": {
        "id": "Y_u3IVFg4f1t"
      },
      "execution_count": 50,
      "outputs": []
    },
    {
      "cell_type": "code",
      "source": [
        "fig=px.histogram(final2,x=\"User_mentions\",color='Sentiment_Transformer',barmode=\"overlay\",color_discrete_sequence=colors)\n",
        "fig.show()"
      ],
      "metadata": {
        "colab": {
          "base_uri": "https://localhost:8080/",
          "height": 542
        },
        "id": "sA-Dpi4K5INt",
        "outputId": "55a549d7-7fcb-4c05-a91c-1f9975226fa0"
      },
      "execution_count": 51,
      "outputs": [
        {
          "output_type": "display_data",
          "data": {
            "text/html": [
              "<html>\n",
              "<head><meta charset=\"utf-8\" /></head>\n",
              "<body>\n",
              "    <div>            <script src=\"https://cdnjs.cloudflare.com/ajax/libs/mathjax/2.7.5/MathJax.js?config=TeX-AMS-MML_SVG\"></script><script type=\"text/javascript\">if (window.MathJax) {MathJax.Hub.Config({SVG: {font: \"STIX-Web\"}});}</script>                <script type=\"text/javascript\">window.PlotlyConfig = {MathJaxConfig: 'local'};</script>\n",
              "        <script src=\"https://cdn.plot.ly/plotly-2.8.3.min.js\"></script>                <div id=\"9bd3da50-4c75-4fbf-b4af-c19fb2790aad\" class=\"plotly-graph-div\" style=\"height:525px; width:100%;\"></div>            <script type=\"text/javascript\">                                    window.PLOTLYENV=window.PLOTLYENV || {};                                    if (document.getElementById(\"9bd3da50-4c75-4fbf-b4af-c19fb2790aad\")) {                    Plotly.newPlot(                        \"9bd3da50-4c75-4fbf-b4af-c19fb2790aad\",                        [{\"alignmentgroup\":\"True\",\"bingroup\":\"x\",\"hovertemplate\":\"Sentiment_Transformer=NEU<br>User_mentions=%{x}<br>count=%{y}<extra></extra>\",\"legendgroup\":\"NEU\",\"marker\":{\"color\":\"gold\",\"opacity\":0.5,\"pattern\":{\"shape\":\"\"}},\"name\":\"NEU\",\"offsetgroup\":\"NEU\",\"orientation\":\"v\",\"showlegend\":true,\"x\":[\"NATO\",\"Russia\",\"Ukraine\",\"NATO\",\"NATO\",\"NATO\"],\"xaxis\":\"x\",\"yaxis\":\"y\",\"type\":\"histogram\"},{\"alignmentgroup\":\"True\",\"bingroup\":\"x\",\"hovertemplate\":\"Sentiment_Transformer=NEG<br>User_mentions=%{x}<br>count=%{y}<extra></extra>\",\"legendgroup\":\"NEG\",\"marker\":{\"color\":\"mediumturquoise\",\"opacity\":0.5,\"pattern\":{\"shape\":\"\"}},\"name\":\"NEG\",\"offsetgroup\":\"NEG\",\"orientation\":\"v\",\"showlegend\":true,\"x\":[\"NATO\",\"NATO\"],\"xaxis\":\"x\",\"yaxis\":\"y\",\"type\":\"histogram\"},{\"alignmentgroup\":\"True\",\"bingroup\":\"x\",\"hovertemplate\":\"Sentiment_Transformer=POS<br>User_mentions=%{x}<br>count=%{y}<extra></extra>\",\"legendgroup\":\"POS\",\"marker\":{\"color\":\"darkorange\",\"opacity\":0.5,\"pattern\":{\"shape\":\"\"}},\"name\":\"POS\",\"offsetgroup\":\"POS\",\"orientation\":\"v\",\"showlegend\":true,\"x\":[\"Ukraine\"],\"xaxis\":\"x\",\"yaxis\":\"y\",\"type\":\"histogram\"}],                        {\"template\":{\"data\":{\"bar\":[{\"error_x\":{\"color\":\"#2a3f5f\"},\"error_y\":{\"color\":\"#2a3f5f\"},\"marker\":{\"line\":{\"color\":\"#E5ECF6\",\"width\":0.5},\"pattern\":{\"fillmode\":\"overlay\",\"size\":10,\"solidity\":0.2}},\"type\":\"bar\"}],\"barpolar\":[{\"marker\":{\"line\":{\"color\":\"#E5ECF6\",\"width\":0.5},\"pattern\":{\"fillmode\":\"overlay\",\"size\":10,\"solidity\":0.2}},\"type\":\"barpolar\"}],\"carpet\":[{\"aaxis\":{\"endlinecolor\":\"#2a3f5f\",\"gridcolor\":\"white\",\"linecolor\":\"white\",\"minorgridcolor\":\"white\",\"startlinecolor\":\"#2a3f5f\"},\"baxis\":{\"endlinecolor\":\"#2a3f5f\",\"gridcolor\":\"white\",\"linecolor\":\"white\",\"minorgridcolor\":\"white\",\"startlinecolor\":\"#2a3f5f\"},\"type\":\"carpet\"}],\"choropleth\":[{\"colorbar\":{\"outlinewidth\":0,\"ticks\":\"\"},\"type\":\"choropleth\"}],\"contour\":[{\"colorbar\":{\"outlinewidth\":0,\"ticks\":\"\"},\"colorscale\":[[0.0,\"#0d0887\"],[0.1111111111111111,\"#46039f\"],[0.2222222222222222,\"#7201a8\"],[0.3333333333333333,\"#9c179e\"],[0.4444444444444444,\"#bd3786\"],[0.5555555555555556,\"#d8576b\"],[0.6666666666666666,\"#ed7953\"],[0.7777777777777778,\"#fb9f3a\"],[0.8888888888888888,\"#fdca26\"],[1.0,\"#f0f921\"]],\"type\":\"contour\"}],\"contourcarpet\":[{\"colorbar\":{\"outlinewidth\":0,\"ticks\":\"\"},\"type\":\"contourcarpet\"}],\"heatmap\":[{\"colorbar\":{\"outlinewidth\":0,\"ticks\":\"\"},\"colorscale\":[[0.0,\"#0d0887\"],[0.1111111111111111,\"#46039f\"],[0.2222222222222222,\"#7201a8\"],[0.3333333333333333,\"#9c179e\"],[0.4444444444444444,\"#bd3786\"],[0.5555555555555556,\"#d8576b\"],[0.6666666666666666,\"#ed7953\"],[0.7777777777777778,\"#fb9f3a\"],[0.8888888888888888,\"#fdca26\"],[1.0,\"#f0f921\"]],\"type\":\"heatmap\"}],\"heatmapgl\":[{\"colorbar\":{\"outlinewidth\":0,\"ticks\":\"\"},\"colorscale\":[[0.0,\"#0d0887\"],[0.1111111111111111,\"#46039f\"],[0.2222222222222222,\"#7201a8\"],[0.3333333333333333,\"#9c179e\"],[0.4444444444444444,\"#bd3786\"],[0.5555555555555556,\"#d8576b\"],[0.6666666666666666,\"#ed7953\"],[0.7777777777777778,\"#fb9f3a\"],[0.8888888888888888,\"#fdca26\"],[1.0,\"#f0f921\"]],\"type\":\"heatmapgl\"}],\"histogram\":[{\"marker\":{\"pattern\":{\"fillmode\":\"overlay\",\"size\":10,\"solidity\":0.2}},\"type\":\"histogram\"}],\"histogram2d\":[{\"colorbar\":{\"outlinewidth\":0,\"ticks\":\"\"},\"colorscale\":[[0.0,\"#0d0887\"],[0.1111111111111111,\"#46039f\"],[0.2222222222222222,\"#7201a8\"],[0.3333333333333333,\"#9c179e\"],[0.4444444444444444,\"#bd3786\"],[0.5555555555555556,\"#d8576b\"],[0.6666666666666666,\"#ed7953\"],[0.7777777777777778,\"#fb9f3a\"],[0.8888888888888888,\"#fdca26\"],[1.0,\"#f0f921\"]],\"type\":\"histogram2d\"}],\"histogram2dcontour\":[{\"colorbar\":{\"outlinewidth\":0,\"ticks\":\"\"},\"colorscale\":[[0.0,\"#0d0887\"],[0.1111111111111111,\"#46039f\"],[0.2222222222222222,\"#7201a8\"],[0.3333333333333333,\"#9c179e\"],[0.4444444444444444,\"#bd3786\"],[0.5555555555555556,\"#d8576b\"],[0.6666666666666666,\"#ed7953\"],[0.7777777777777778,\"#fb9f3a\"],[0.8888888888888888,\"#fdca26\"],[1.0,\"#f0f921\"]],\"type\":\"histogram2dcontour\"}],\"mesh3d\":[{\"colorbar\":{\"outlinewidth\":0,\"ticks\":\"\"},\"type\":\"mesh3d\"}],\"parcoords\":[{\"line\":{\"colorbar\":{\"outlinewidth\":0,\"ticks\":\"\"}},\"type\":\"parcoords\"}],\"pie\":[{\"automargin\":true,\"type\":\"pie\"}],\"scatter\":[{\"marker\":{\"colorbar\":{\"outlinewidth\":0,\"ticks\":\"\"}},\"type\":\"scatter\"}],\"scatter3d\":[{\"line\":{\"colorbar\":{\"outlinewidth\":0,\"ticks\":\"\"}},\"marker\":{\"colorbar\":{\"outlinewidth\":0,\"ticks\":\"\"}},\"type\":\"scatter3d\"}],\"scattercarpet\":[{\"marker\":{\"colorbar\":{\"outlinewidth\":0,\"ticks\":\"\"}},\"type\":\"scattercarpet\"}],\"scattergeo\":[{\"marker\":{\"colorbar\":{\"outlinewidth\":0,\"ticks\":\"\"}},\"type\":\"scattergeo\"}],\"scattergl\":[{\"marker\":{\"colorbar\":{\"outlinewidth\":0,\"ticks\":\"\"}},\"type\":\"scattergl\"}],\"scattermapbox\":[{\"marker\":{\"colorbar\":{\"outlinewidth\":0,\"ticks\":\"\"}},\"type\":\"scattermapbox\"}],\"scatterpolar\":[{\"marker\":{\"colorbar\":{\"outlinewidth\":0,\"ticks\":\"\"}},\"type\":\"scatterpolar\"}],\"scatterpolargl\":[{\"marker\":{\"colorbar\":{\"outlinewidth\":0,\"ticks\":\"\"}},\"type\":\"scatterpolargl\"}],\"scatterternary\":[{\"marker\":{\"colorbar\":{\"outlinewidth\":0,\"ticks\":\"\"}},\"type\":\"scatterternary\"}],\"surface\":[{\"colorbar\":{\"outlinewidth\":0,\"ticks\":\"\"},\"colorscale\":[[0.0,\"#0d0887\"],[0.1111111111111111,\"#46039f\"],[0.2222222222222222,\"#7201a8\"],[0.3333333333333333,\"#9c179e\"],[0.4444444444444444,\"#bd3786\"],[0.5555555555555556,\"#d8576b\"],[0.6666666666666666,\"#ed7953\"],[0.7777777777777778,\"#fb9f3a\"],[0.8888888888888888,\"#fdca26\"],[1.0,\"#f0f921\"]],\"type\":\"surface\"}],\"table\":[{\"cells\":{\"fill\":{\"color\":\"#EBF0F8\"},\"line\":{\"color\":\"white\"}},\"header\":{\"fill\":{\"color\":\"#C8D4E3\"},\"line\":{\"color\":\"white\"}},\"type\":\"table\"}]},\"layout\":{\"annotationdefaults\":{\"arrowcolor\":\"#2a3f5f\",\"arrowhead\":0,\"arrowwidth\":1},\"autotypenumbers\":\"strict\",\"coloraxis\":{\"colorbar\":{\"outlinewidth\":0,\"ticks\":\"\"}},\"colorscale\":{\"diverging\":[[0,\"#8e0152\"],[0.1,\"#c51b7d\"],[0.2,\"#de77ae\"],[0.3,\"#f1b6da\"],[0.4,\"#fde0ef\"],[0.5,\"#f7f7f7\"],[0.6,\"#e6f5d0\"],[0.7,\"#b8e186\"],[0.8,\"#7fbc41\"],[0.9,\"#4d9221\"],[1,\"#276419\"]],\"sequential\":[[0.0,\"#0d0887\"],[0.1111111111111111,\"#46039f\"],[0.2222222222222222,\"#7201a8\"],[0.3333333333333333,\"#9c179e\"],[0.4444444444444444,\"#bd3786\"],[0.5555555555555556,\"#d8576b\"],[0.6666666666666666,\"#ed7953\"],[0.7777777777777778,\"#fb9f3a\"],[0.8888888888888888,\"#fdca26\"],[1.0,\"#f0f921\"]],\"sequentialminus\":[[0.0,\"#0d0887\"],[0.1111111111111111,\"#46039f\"],[0.2222222222222222,\"#7201a8\"],[0.3333333333333333,\"#9c179e\"],[0.4444444444444444,\"#bd3786\"],[0.5555555555555556,\"#d8576b\"],[0.6666666666666666,\"#ed7953\"],[0.7777777777777778,\"#fb9f3a\"],[0.8888888888888888,\"#fdca26\"],[1.0,\"#f0f921\"]]},\"colorway\":[\"#636efa\",\"#EF553B\",\"#00cc96\",\"#ab63fa\",\"#FFA15A\",\"#19d3f3\",\"#FF6692\",\"#B6E880\",\"#FF97FF\",\"#FECB52\"],\"font\":{\"color\":\"#2a3f5f\"},\"geo\":{\"bgcolor\":\"white\",\"lakecolor\":\"white\",\"landcolor\":\"#E5ECF6\",\"showlakes\":true,\"showland\":true,\"subunitcolor\":\"white\"},\"hoverlabel\":{\"align\":\"left\"},\"hovermode\":\"closest\",\"mapbox\":{\"style\":\"light\"},\"paper_bgcolor\":\"white\",\"plot_bgcolor\":\"#E5ECF6\",\"polar\":{\"angularaxis\":{\"gridcolor\":\"white\",\"linecolor\":\"white\",\"ticks\":\"\"},\"bgcolor\":\"#E5ECF6\",\"radialaxis\":{\"gridcolor\":\"white\",\"linecolor\":\"white\",\"ticks\":\"\"}},\"scene\":{\"xaxis\":{\"backgroundcolor\":\"#E5ECF6\",\"gridcolor\":\"white\",\"gridwidth\":2,\"linecolor\":\"white\",\"showbackground\":true,\"ticks\":\"\",\"zerolinecolor\":\"white\"},\"yaxis\":{\"backgroundcolor\":\"#E5ECF6\",\"gridcolor\":\"white\",\"gridwidth\":2,\"linecolor\":\"white\",\"showbackground\":true,\"ticks\":\"\",\"zerolinecolor\":\"white\"},\"zaxis\":{\"backgroundcolor\":\"#E5ECF6\",\"gridcolor\":\"white\",\"gridwidth\":2,\"linecolor\":\"white\",\"showbackground\":true,\"ticks\":\"\",\"zerolinecolor\":\"white\"}},\"shapedefaults\":{\"line\":{\"color\":\"#2a3f5f\"}},\"ternary\":{\"aaxis\":{\"gridcolor\":\"white\",\"linecolor\":\"white\",\"ticks\":\"\"},\"baxis\":{\"gridcolor\":\"white\",\"linecolor\":\"white\",\"ticks\":\"\"},\"bgcolor\":\"#E5ECF6\",\"caxis\":{\"gridcolor\":\"white\",\"linecolor\":\"white\",\"ticks\":\"\"}},\"title\":{\"x\":0.05},\"xaxis\":{\"automargin\":true,\"gridcolor\":\"white\",\"linecolor\":\"white\",\"ticks\":\"\",\"title\":{\"standoff\":15},\"zerolinecolor\":\"white\",\"zerolinewidth\":2},\"yaxis\":{\"automargin\":true,\"gridcolor\":\"white\",\"linecolor\":\"white\",\"ticks\":\"\",\"title\":{\"standoff\":15},\"zerolinecolor\":\"white\",\"zerolinewidth\":2}}},\"xaxis\":{\"anchor\":\"y\",\"domain\":[0.0,1.0],\"title\":{\"text\":\"User_mentions\"}},\"yaxis\":{\"anchor\":\"x\",\"domain\":[0.0,1.0],\"title\":{\"text\":\"count\"}},\"legend\":{\"title\":{\"text\":\"Sentiment_Transformer\"},\"tracegroupgap\":0},\"margin\":{\"t\":60},\"barmode\":\"overlay\"},                        {\"responsive\": true}                    ).then(function(){\n",
              "                            \n",
              "var gd = document.getElementById('9bd3da50-4c75-4fbf-b4af-c19fb2790aad');\n",
              "var x = new MutationObserver(function (mutations, observer) {{\n",
              "        var display = window.getComputedStyle(gd).display;\n",
              "        if (!display || display === 'none') {{\n",
              "            console.log([gd, 'removed!']);\n",
              "            Plotly.purge(gd);\n",
              "            observer.disconnect();\n",
              "        }}\n",
              "}});\n",
              "\n",
              "// Listen for the removal of the full notebook cells\n",
              "var notebookContainer = gd.closest('#notebook-container');\n",
              "if (notebookContainer) {{\n",
              "    x.observe(notebookContainer, {childList: true});\n",
              "}}\n",
              "\n",
              "// Listen for the clearing of the current output cell\n",
              "var outputEl = gd.closest('.output');\n",
              "if (outputEl) {{\n",
              "    x.observe(outputEl, {childList: true});\n",
              "}}\n",
              "\n",
              "                        })                };                            </script>        </div>\n",
              "</body>\n",
              "</html>"
            ]
          },
          "metadata": {}
        }
      ]
    },
    {
      "cell_type": "markdown",
      "source": [
        "## Conclusion\n",
        "\n",
        "Thus we saw how we can use tweet sentiment analysis for deriving insight of user sentiment.The hashtag demosntrated here was #RussiaUkraineWar which we saw majority of tweets had  neutral sentiment followed by negative and very less tweets had positive sentiment.\n",
        "\n",
        "\n",
        "Further Work can involve having aspect based sentiment analysis where various aspects of product and the corresponding sentiment of that aspect of product is gauged .\n"
      ],
      "metadata": {
        "id": "BFwzEqeb5fuw"
      }
    }
  ]
}