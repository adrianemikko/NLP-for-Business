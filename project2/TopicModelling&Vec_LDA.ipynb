{
  "nbformat": 4,
  "nbformat_minor": 0,
  "metadata": {
    "colab": {
      "name": "TopicModelling&Vec-LDA.ipynb",
      "provenance": [],
      "collapsed_sections": []
    },
    "kernelspec": {
      "name": "python3",
      "display_name": "Python 3"
    },
    "language_info": {
      "name": "python"
    }
  },
  "cells": [
    {
      "cell_type": "markdown",
      "source": [
        "# TOPIC MODELING(using LDA) AND VECTORIZATION \n",
        "\n",
        "> **AUTHOR**: RITIKA GUPTA<br>\n",
        "**OBJECTIVE** : In this notebook we try to do topic modeling using one of the ebooks from Gutenburg Repository.\n",
        "https://www.gutenberg.org/ebooks/search/?sort_order=downloads&start_index=51\n",
        "We have chosen the book \"Hounds Of Baskervilles\" https://www.gutenberg.org/ebooks/2852 for the purpose of topic modeling and trying to find what are the major topics in the book.<br>\n",
        "\n",
        "> **METHODS** : Following \n",
        "\n",
        "* Vectorization Techniques : BOW,TF-IDF\n",
        "* Unsupervised Topic Modelling using LDA,NMF , LSI\n",
        "\n",
        "\n",
        "\n",
        "\n",
        "\n"
      ],
      "metadata": {
        "id": "RV0h3jlCZ5QC"
      }
    },
    {
      "cell_type": "code",
      "execution_count": 41,
      "metadata": {
        "id": "wJyrI4flIW6z"
      },
      "outputs": [],
      "source": [
        "import pandas as pd\n",
        "#---------reading data\n",
        "import urllib\n",
        "\n",
        "import matplotlib.pyplot as plt\n",
        "%matplotlib notebook\n",
        "import numpy as np\n",
        "import seaborn as sns\n",
        "import warnings\n",
        "warnings.filterwarnings('ignore')\n",
        "import re  # For preprocessing\n",
        "import pandas as pd  # For data handling\n",
        "from time import time  # To time our operations\n",
        "from collections import defaultdict  # For word frequency\n",
        "\n",
        "import spacy  # For preprocessing\n",
        "from gensim.models import Word2Vec\n",
        "import logging  # Setting up the loggings to monitor gensim\n",
        "logging.basicConfig(format=\"%(levelname)s - %(asctime)s: %(message)s\", datefmt= '%H:%M:%S', level=logging.INFO)\n",
        "from sklearn.manifold import TSNE\n",
        "from numpy import dot\n",
        "from numpy.linalg import norm\n",
        "import gensim.downloader as gensim_api"
      ]
    },
    {
      "cell_type": "markdown",
      "source": [
        "## Load Data\n",
        "Use url of plain text \"UTF-8\" for the particular book to avoid pictures and have text only ebook"
      ],
      "metadata": {
        "id": "ktn2egQ4bv4N"
      }
    },
    {
      "cell_type": "code",
      "source": [
        "#Use url of plain text \"UTF-8\" for the particular book\n",
        "url=\"https://www.gutenberg.org/files/2852/2852-0.txt\"\n",
        "\n",
        "#Custom function to read the book from url using URLLIB package\n",
        "def load_gutenberg(target_url): \n",
        "  book= open('book_hounds.txt','w+')\n",
        "  \n",
        "  for line in urllib.request.urlopen(target_url):\n",
        "    read_line=line.decode('utf-8')\n",
        "    book.write(read_line) #write book in text file\n"
      ],
      "metadata": {
        "id": "HhnFQ2_jXjZP"
      },
      "execution_count": 2,
      "outputs": []
    },
    {
      "cell_type": "code",
      "source": [
        "#write txt\n",
        "load_gutenberg(url)\n",
        "\n",
        "#reading a part of book to check if write was successful\n",
        "start_index=0\n",
        "end_index=900\n",
        "with open(\"book_hounds.txt\") as file:\n",
        "  file.seek(start_index)\n",
        "  data = file.read(end_index - start_index)\n",
        "\n",
        "print(data)"
      ],
      "metadata": {
        "colab": {
          "base_uri": "https://localhost:8080/"
        },
        "id": "LiQOMK1JgJRx",
        "outputId": "9c241227-2fdf-4bcc-e14d-c91e2fe4d1d5"
      },
      "execution_count": 7,
      "outputs": [
        {
          "output_type": "stream",
          "name": "stdout",
          "text": [
            "﻿The Project Gutenberg eBook of The Hound of the Baskervilles, by Arthur Conan Doyle\n",
            "\n",
            "This eBook is for the use of anyone anywhere in the United States and\n",
            "most other parts of the world at no cost and with almost no restrictions\n",
            "whatsoever. You may copy it, give it away or re-use it under the terms\n",
            "of the Project Gutenberg License included with this eBook or online at\n",
            "www.gutenberg.org. If you are not located in the United States, you\n",
            "will have to check the laws of the country where you are located before\n",
            "using this eBook.\n",
            "\n",
            "Title: The Hound of the Baskervilles\n",
            "\n",
            "Author: Arthur Conan Doyle\n",
            "\n",
            "Release Date: October, 2001 [eBook #2852]\n",
            "[Most recently updated: June 27, 2021]\n",
            "\n",
            "Language: English\n",
            "\n",
            "Character set encoding: UTF-8\n",
            "\n",
            "Produced by: Shreevatsa R, and David Widger\n",
            "\n",
            "*** START OF THE PROJECT GUTENBERG EBOOK THE HOUND OF THE BASKERVILLES ***\n",
            "\n",
            "cover \n",
            "\n",
            "\n",
            "\n",
            "THE HOUND OF THE BASKERVILLES\n",
            "\n",
            "Another Ad\n"
          ]
        }
      ]
    },
    {
      "cell_type": "markdown",
      "source": [
        "## Preprocess"
      ],
      "metadata": {
        "id": "ishUkY-yqnxB"
      }
    },
    {
      "cell_type": "code",
      "source": [
        "# Preprocessor :  removing stopwords, stemming, lemmatization\n",
        "import gensim\n",
        "from gensim.utils import simple_preprocess   \n",
        "from gensim.parsing.preprocessing import STOPWORDS\n",
        "\n",
        "import nltk\n",
        "nltk.download('wordnet')\n",
        "nltk.download('punkt')\n",
        "from nltk.stem import WordNetLemmatizer, SnowballStemmer    \n",
        "    \n",
        "stemmer = SnowballStemmer('english')\n",
        "def lemmatize_stemming(text):\n",
        "  return stemmer.stem(WordNetLemmatizer().lemmatize(text, pos='v'))  # pos = \"v\" => only lemmatize verbs and leave nouns 'n' and adjectives 'a' alone\n",
        "def preprocess(text):\n",
        "    token_list = []\n",
        "    for token in gensim.utils.simple_preprocess(text,min_len=4): # Convert a document into a list of lowercase tokens, ignoring tokens that are too short or too long.\n",
        "        if token not in gensim.parsing.preprocessing.STOPWORDS:\n",
        "            token_list.append(lemmatize_stemming(token))\n",
        "    #cleaned_line=\" \".join(token_list)\n",
        "    return token_list #nltk.tokenize.word_tokenize(token_list)\n",
        "\n",
        "# Function to read file and convert each line of file as preprocessed tokens\n",
        "def clean_text(data_path): \n",
        "  summaries = []  \n",
        "  for line in open(data_path, encoding=\"utf-8\"):\n",
        "    summaries.append(preprocess(line))\n",
        "  #Removing documents which have zero length  \n",
        "  summaries=[line for line in summaries if len(line)>0]\n",
        "  return summaries"
      ],
      "metadata": {
        "colab": {
          "base_uri": "https://localhost:8080/"
        },
        "id": "iwSxc3txseIx",
        "outputId": "d758a3f4-49a3-4b2f-e027-78162cfeb2a8"
      },
      "execution_count": 4,
      "outputs": [
        {
          "output_type": "stream",
          "name": "stdout",
          "text": [
            "[nltk_data] Downloading package wordnet to /root/nltk_data...\n",
            "[nltk_data]   Unzipping corpora/wordnet.zip.\n",
            "[nltk_data] Downloading package punkt to /root/nltk_data...\n",
            "[nltk_data]   Unzipping tokenizers/punkt.zip.\n"
          ]
        }
      ]
    },
    {
      "cell_type": "code",
      "source": [
        "data_path = \"/content/book_hounds.txt\"\n",
        "\n",
        "#Calling custom function for cleaning and each line of text and converting each line to a document\n",
        "#This function returns list of lines and each line as list of words(tokens)\n",
        "\n",
        "summaries=clean_text(data_path)\n",
        "print(summaries)\n"
      ],
      "metadata": {
        "id": "R9TPYUINhhnj",
        "colab": {
          "base_uri": "https://localhost:8080/"
        },
        "outputId": "914467cf-d177-4002-c511-925420b795fd"
      },
      "execution_count": 5,
      "outputs": [
        {
          "output_type": "stream",
          "name": "stdout",
          "text": [
            "[['project', 'gutenberg', 'ebook', 'hound', 'baskervill', 'arthur', 'conan', 'doyl'], ['ebook', 'unit', 'state'], ['part', 'world', 'cost', 'restrict'], ['whatsoev', 'copi', 'away', 'term'], ['project', 'gutenberg', 'licens', 'includ', 'ebook', 'onlin'], ['gutenberg', 'locat', 'unit', 'state'], ['check', 'law', 'countri', 'locat'], ['ebook'], ['titl', 'hound', 'baskervill'], ['author', 'arthur', 'conan', 'doyl'], ['releas', 'date', 'octob', 'ebook'], ['recent', 'updat', 'june'], ['languag', 'english'], ['charact', 'encod'], ['produc', 'shreevatsa', 'david', 'widger'], ['start', 'project', 'gutenberg', 'ebook', 'hound', 'baskervill'], ['cover'], ['hound', 'baskervill'], ['adventur', 'sherlock', 'holm'], ['conan', 'doyl'], ['dear', 'robinson'], ['account', 'west', 'countri', 'legend', 'tale', 'owe'], ['incept', 'help', 'detail', 'thank'], ['truli'], ['conan', 'doyl'], ['hindhead'], ['haslemer'], ['content'], ['chapter', 'sherlock', 'holm'], ['chapter', 'curs', 'baskervill'], ['chapter', 'problem'], ['chapter', 'henri', 'baskervill'], ['chapter', 'break', 'thread'], ['chapter', 'baskervill', 'hall'], ['chapter', 'stapleton', 'merripit', 'hous'], ['chapter', 'report', 'watson'], ['chapter', 'light', 'moor', 'second', 'report', 'watson'], ['chapter', 'extract', 'diari', 'watson'], ['chapter'], ['chapter', 'death', 'moor'], ['chapter', 'fix', 'net'], ['chapter', 'hound', 'baskervill'], ['chapter', 'retrospect'], ['chapter'], ['sherlock', 'holm'], ['sherlock', 'holm', 'usual', 'late', 'morn'], ['save', 'infrequ', 'occas'], ['night', 'seat', 'breakfast', 'tabl', 'stand'], ['hearth', 'pick', 'stick', 'visitor', 'leav'], ['night', 'fine', 'piec', 'wood'], ['bulbous', 'head', 'sort', 'know', 'penang', 'lawyer'], ['head', 'broad', 'silver', 'band', 'near', 'inch'], ['jam', 'mortim', 'friend'], ['engrav', 'date'], ['stick', 'fashion', 'famili', 'practition'], ['carri', 'dignifi', 'solid', 'reassur'], ['watson'], ['holm', 'sit', 'give'], ['sign', 'occup'], ['know', 'believ', 'eye'], ['head'], ['polish', 'silver', 'plat', 'coffe'], ['say', 'tell', 'watson'], ['visitor', 'stick', 'unfortun', 'miss'], ['notion', 'errand', 'accident', 'souvenir'], ['import', 'hear', 'reconstruct'], ['examin'], ['think', 'say', 'follow', 'method'], ['companion', 'mortim', 'success', 'elder', 'medic'], ['esteem', 'know', 'mark'], ['appreci'], ['good', 'say', 'holm', 'excel'], ['think', 'probabl', 'favour'], ['countri', 'practition', 'great', 'deal', 'visit'], ['foot'], ['stick', 'origin', 'handsom'], ['knock', 'hard', 'imagin', 'town'], ['practition', 'carri', 'iron', 'ferrul', 'wear'], ['evid', 'great', 'walk'], ['perfect', 'sound', 'say', 'holm'], ['friend'], ['guess', 'hunt', 'local', 'hunt'], ['member', 'possibl', 'give', 'surgic', 'assist'], ['small', 'present', 'return'], ['watson', 'excel', 'say', 'holm', 'push'], ['chair', 'light', 'cigarett', 'bind'], ['account', 'good'], ['small', 'achiev', 'habitu', 'underr'], ['abil', 'lumin'], ['conductor', 'light', 'peopl', 'possess', 'genius'], ['remark', 'power', 'stimul', 'confess', 'dear'], ['fellow', 'debt'], ['say', 'admit', 'word'], ['give', 'keen', 'pleasur', 'piqu'], ['indiffer', 'admir', 'attempt'], ['public', 'method', 'proud', 'think'], ['master', 'appli'], ['earn', 'approv', 'take', 'stick', 'hand'], ['examin', 'minut', 'nake', 'eye'], ['express', 'lay', 'cigarett'], ['carri', 'cane', 'window', 'look'], ['convex', 'len'], ['interest', 'elementari', 'say', 'return'], ['favourit', 'corner', 'sette', 'certain'], ['indic', 'stick', 'give', 'basi'], ['deduct'], ['escap', 'ask', 'self', 'import'], ['trust', 'consequ'], ['overlook'], ['afraid', 'dear', 'watson', 'conclus'], ['erron', 'say', 'stimul', 'mean'], ['frank', 'note', 'fallaci', 'occasion', 'guid'], ['truth', 'entir', 'wrong'], ['instanc', 'certain', 'countri', 'practition'], ['walk', 'good', 'deal'], ['right'], ['extent'], ['dear', 'watson', 'mean'], ['suggest', 'exampl', 'present', 'doctor'], ['like', 'come', 'hospit', 'hunt'], ['initi', 'place', 'hospit', 'word'], ['char', 'cross', 'natur', 'suggest'], ['right'], ['probabl', 'lie', 'direct'], ['work', 'hypothesi', 'fresh', 'basi', 'start'], ['construct', 'unknown', 'visitor'], ['suppos', 'stand', 'char'], ['cross', 'hospit', 'infer', 'draw'], ['suggest', 'know', 'method', 'appli'], ['think', 'obvious', 'conclus'], ['practis', 'town', 'go', 'countri'], ['think', 'ventur', 'littl', 'farther', 'look'], ['light', 'occas', 'probabl'], ['present', 'friend'], ['unit', 'pledg', 'good', 'obvious'], ['moment', 'mortim', 'withdraw', 'servic'], ['hospit', 'order', 'start', 'practic', 'know'], ['present', 'believ', 'chang'], ['town', 'hospit', 'countri', 'practic', 'stretch'], ['infer', 'present'], ['occas', 'chang'], ['certain', 'probabl'], ['observ'], ['hospit', 'establish', 'london'], ['practic', 'hold', 'posit'], ['drift', 'countri'], ['hospit', 'staff'], ['hous', 'surgeon', 'hous', 'physician', 'littl', 'senior'], ['student', 'leav', 'year', 'date', 'stick'], ['grave', 'middl', 'age', 'famili', 'practition', 'vanish'], ['dear', 'watson', 'emerg', 'young', 'fellow'], ['thirti', 'amiabl', 'unambiti', 'absent', 'mind', 'possessor'], ['favourit', 'rough', 'larger'], ['terrier', 'smaller', 'mastiff'], ['laugh', 'incredul', 'sherlock', 'holm', 'lean'], ['sette', 'blow', 'littl', 'waver', 'ring', 'smoke', 'ceil'], ['mean', 'check', 'say'], ['difficult', 'particular'], ['profession', 'career', 'small'], ['medic', 'shelf', 'take', 'medic', 'directori', 'turn'], ['mortim'], ['visitor', 'read', 'record', 'aloud'], ['mortim', 'jam', 'grimpen', 'dartmoor', 'devon'], ['hous', 'surgeon', 'char', 'cross', 'hospit'], ['winner', 'jackson', 'prize', 'compar', 'patholog'], ['essay', 'entitl', 'diseas', 'revers', 'correspond', 'member'], ['swedish', 'patholog', 'societi', 'author', 'freak'], ['atav', 'progress'], ['psychology_', 'march', 'medic', 'offic', 'parish'], ['grimpen', 'thorsley', 'high', 'barrow'], ['mention', 'local', 'hunt', 'watson', 'say', 'holm'], ['mischiev', 'smile', 'countri', 'doctor', 'astut'], ['observ', 'think', 'fair', 'justifi', 'infer'], ['adject', 'say', 'rememb', 'right', 'amiabl'], ['unambiti', 'absent', 'mind', 'experi'], ['amiabl', 'world', 'receiv', 'testimoni'], ['unambiti', 'abandon', 'london', 'career', 'countri'], ['absent', 'mind', 'leav', 'stick'], ['visit', 'card', 'wait', 'hour', 'room'], ['habit', 'carri', 'stick', 'master'], ['heavi', 'stick', 'hold', 'tight', 'middl'], ['mark', 'teeth', 'plain', 'visibl'], ['show', 'space', 'mark', 'broad'], ['opinion', 'terrier', 'broad', 'mastiff'], ['jove', 'cur', 'hair', 'spaniel'], ['rise', 'pace', 'room', 'speak', 'halt'], ['recess', 'window', 'ring', 'convict'], ['voic', 'glanc', 'surpris'], ['dear', 'fellow', 'possibl', 'sure'], ['simpl', 'reason'], ['door', 'step', 'ring', 'owner'], ['watson', 'profession', 'brother'], ['presenc', 'assist', 'dramat', 'moment'], ['fate', 'watson', 'hear', 'step', 'stair'], ['walk', 'life', 'know', 'good'], ['jam', 'mortim', 'scienc', 'sherlock'], ['holm', 'specialist', 'crime', 'come'], ['appear', 'visitor', 'surpris'], ['expect', 'typic', 'countri', 'practition', 'tall'], ['long', 'nose', 'like', 'beak', 'jut'], ['keen', 'grey', 'eye', 'close', 'sparkl', 'bright'], ['pair', 'gold', 'rim', 'glass', 'cloth'], ['profession', 'sloven', 'fashion', 'frock', 'coat'], ['dingi', 'trouser', 'fray', 'young', 'long'], ['bow', 'walk', 'forward', 'thrust', 'head'], ['general', 'peer', 'benevol', 'enter', 'eye'], ['fell', 'stick', 'holm', 'hand'], ['exclam', 'glad', 'say'], ['sure', 'leav', 'ship', 'offic'], ['lose', 'stick', 'world'], ['present', 'say', 'holm'], ['char', 'cross', 'hospit'], ['friend', 'occas', 'marriag'], ['dear', 'dear', 'say', 'holm', 'shake', 'head'], ['mortim', 'blink', 'glass', 'mild', 'astonish'], ['disarrang', 'littl', 'deduct'], ['marriag'], ['marri', 'leav', 'hospit'], ['hop', 'consult', 'practic', 'necessari', 'home'], ['come', 'come', 'wrong', 'say', 'holm'], ['jam', 'mortim'], ['mister', 'mister', 'humbl'], ['precis', 'mind', 'evid'], ['dabbler', 'scienc', 'holm', 'picker', 'shell'], ['shore', 'great', 'unknown', 'ocean', 'presum'], ['sherlock', 'holm', 'address'], ['friend', 'watson'], ['glad', 'meet', 'hear', 'mention'], ['connect', 'friend'], ['holm', 'hard', 'expect', 'dolichocephal', 'skull'], ['mark', 'supra', 'orbit', 'develop'], ['object', 'run', 'finger', 'pariet', 'fissur'], ['cast', 'skull', 'origin', 'avail'], ['ornament', 'anthropolog', 'museum'], ['intent', 'fulsom', 'confess', 'covet', 'skull'], ['sherlock', 'holm', 'wave', 'strang', 'visitor', 'chair'], ['enthusiast', 'line', 'think', 'perceiv'], ['say', 'observ', 'forefing'], ['cigarett', 'hesit', 'light'], ['draw', 'paper', 'tobacco', 'twirl'], ['surpris', 'dexter', 'long', 'quiver', 'finger'], ['agil', 'restless', 'antennæ', 'insect'], ['holm', 'silent', 'littl', 'dart', 'glanc', 'show'], ['take', 'curious', 'companion', 'presum'], ['say', 'mere', 'purpos'], ['examin', 'skull', 'honour'], ['night', 'today'], ['happi', 'opportun'], ['come', 'holm'], ['recogn', 'unpract'], ['sudden', 'confront', 'extraordinari'], ['problem', 'recogn', 'second', 'highest'], ['expert', 'europ'], ['inquir', 'honour'], ['ask', 'holm', 'asper'], ['precis', 'scientif', 'mind', 'work', 'monsieur'], ['bertillon', 'appeal', 'strong'], ['better', 'consult'], ['say', 'precis', 'scientif', 'mind'], ['practic', 'affair', 'acknowledg', 'stand'], ['trust', 'inadvert'], ['littl', 'say', 'holm', 'think', 'mortim'], ['wise', 'kind', 'tell', 'plain'], ['exact', 'natur', 'problem', 'demand'], ['assist'], ['chapter'], ['curs', 'baskervill'], ['pocket', 'manuscript', 'say', 'jam', 'mortim'], ['observ', 'enter', 'room', 'say', 'holm'], ['manuscript'], ['earli', 'eighteenth', 'centuri', 'forgeri'], ['present', 'inch', 'examin'], ['time', 'talk', 'poor', 'expert'], ['date', 'document', 'decad'], ['possibl', 'read', 'littl', 'monograph', 'subject'], ['exact', 'date', 'mortim', 'draw'], ['breast', 'pocket', 'famili', 'paper', 'commit', 'care'], ['charl', 'baskervill', 'sudden', 'tragic', 'death'], ['month', 'creat', 'excit', 'devonshir'], ['person', 'friend', 'medic', 'attend'], ['strong', 'mind', 'shrewd', 'practic'], ['unimagin', 'take', 'document'], ['serious', 'mind', 'prepar'], ['eventu', 'overtak'], ['holm', 'stretch', 'hand', 'manuscript', 'flatten'], ['knee', 'observ', 'watson', 'altern'], ['long', 'short', 'indic'], ['enabl', 'date'], ['look', 'shoulder', 'yellow', 'paper', 'fade'], ['script', 'head', 'write', 'baskervill', 'hall'], ['larg', 'scrawl', 'figur'], ['appear', 'statement', 'sort'], ['statement', 'certain', 'legend', 'run'], ['baskervill', 'famili'], ['understand', 'modern', 'practic'], ['wish', 'consult'], ['modern', 'practic', 'press', 'matter'], ['decid', 'hour', 'manuscript', 'short'], ['intim', 'connect', 'affair', 'permiss'], ['read'], ['holm', 'lean', 'chair', 'place', 'finger', 'tip'], ['close', 'eye', 'resign', 'mortim'], ['turn', 'manuscript', 'light', 'read', 'high', 'crack'], ['voic', 'follow', 'curious', 'world', 'narrat'], ['origin', 'hound', 'baskervill'], ['statement', 'come', 'direct', 'line', 'hugo'], ['baskervill', 'stori', 'father'], ['belief'], ['occur', 'forth'], ['believ', 'son', 'justic', 'punish'], ['gracious', 'forgiv', 'heavi'], ['prayer', 'repent', 'remov', 'learn'], ['stori', 'fear', 'fruit', 'past'], ['circumspect', 'futur', 'foul'], ['passion', 'famili', 'suffer', 'grievous'], ['loos', 'undo'], ['know', 'time', 'great', 'rebellion'], ['histori', 'learn', 'lord', 'clarendon'], ['earnest', 'commend', 'attent', 'manor'], ['baskervill', 'hold', 'hugo'], ['gainsay', 'wild', 'profan', 'godless'], ['truth', 'neighbour', 'pardon', 'see'], ['saint', 'flourish', 'part'], ['certain', 'wanton', 'cruel', 'humour'], ['word', 'west', 'chanc', 'hugo'], ['come', 'love', 'dark', 'passion', 'know'], ['bright', 'daughter', 'yeoman', 'hold'], ['land', 'near', 'baskervill', 'estat', 'young', 'maiden'], ['discreet', 'good', 'reput', 'avoid'], ['fear', 'evil', 'come', 'pass'], ['michaelma', 'hugo', 'idl'], ['wick', 'companion', 'steal', 'farm', 'carri'], ['maiden', 'father', 'brother', 'home'], ['know', 'bring', 'hall'], ['maiden', 'place', 'upper', 'chamber', 'hugo'], ['friend', 'long', 'carous', 'night'], ['custom', 'poor', 'lass', 'upstair', 'like'], ['wit', 'turn', 'sing', 'shout', 'terribl', 'oath'], ['come'], ['word', 'hugo', 'baskervill', 'wine'], ['blast', 'say'], ['stress', 'fear', 'daunt'], ['bravest', 'activ'], ['growth', 'cover', 'cover', 'south'], ['wall', 'come', 'eav', 'homeward'], ['moor', 'leagu', 'betwixt', 'hall'], ['father', 'farm'], ['chanc', 'littl', 'time', 'later', 'hugo', 'leav'], ['guest', 'carri', 'food', 'drink', 'wors', 'thing'], ['perchanc', 'captiv', 'cage'], ['bird', 'escap'], ['hath', 'devil', 'rush', 'stair'], ['din', 'hall', 'spring', 'great', 'tabl', 'flagon'], ['trencher', 'fli', 'cri', 'aloud'], ['compani', 'night', 'render', 'bodi'], ['soul', 'power', 'evil', 'overtak'], ['wench', 'revel', 'stand', 'aghast', 'furi'], ['wick', 'drunken'], ['rest', 'cri', 'hound'], ['whereat', 'hugo', 'hous', 'cri', 'groom'], ['saddl', 'mare', 'unkennel', 'pack'], ['give', 'hound', 'kerchief', 'maid', 'swing'], ['line', 'moonlight'], ['moor'], ['space', 'revel', 'stand', 'agap', 'unabl'], ['understand', 'hast', 'anon'], ['bemus', 'wit', 'awak', 'natur', 'deed'], ['like', 'moorland'], ['uproar', 'call', 'pistol'], ['hors', 'flask', 'wine'], ['length', 'sens', 'come', 'craze', 'mind'], ['thirteen', 'number', 'take', 'hors', 'start'], ['pursuit', 'moon', 'shine', 'clear', 'ride'], ['swift', 'abreast', 'take', 'cours', 'maid'], ['need', 'take', 'reach', 'home'], ['go', 'mile', 'pass'], ['night', 'shepherd', 'moorland', 'cri'], ['know', 'see', 'hunt', 'stori'], ['go', 'craze', 'fear', 'scarc', 'speak'], ['say', 'see', 'unhappi'], ['maiden', 'hound', 'track', 'see'], ['say', 'hugo', 'baskervill', 'pass'], ['black', 'mare', 'mute'], ['hound', 'hell', 'forbid', 'heel'], ['drunken', 'squir', 'curs', 'shepherd', 'ride', 'onward'], ['soon', 'skin', 'turn', 'cold', 'come'], ['gallop', 'moor', 'black', 'mare', 'dabbl'], ['white', 'froth', 'go', 'past', 'trail', 'bridl'], ['saddl', 'revel', 'ride', 'close'], ['great', 'fear', 'follow'], ['moor', 'right'], ['glad', 'turn', 'hors', 'head', 'rid', 'slowli'], ['fashion', 'come', 'hound'], ['know', 'valour', 'breed'], ['whimper', 'cluster', 'head', 'deep', 'goyal'], ['moor', 'slink', 'away'], ['start', 'hackl', 'star', 'eye', 'gaze'], ['narrow', 'valley'], ['compani', 'come', 'halt', 'sober'], ['guess', 'start'], ['mean', 'advanc', 'boldest'], ['drunken', 'ride', 'forward', 'goyal'], ['open', 'broad', 'space', 'stand', 'great'], ['stone', 'see', 'certain'], ['forget', 'peopl', 'day', 'moon', 'shin'], ['bright', 'clear', 'centr'], ['unhappi', 'maid', 'fall', 'dead', 'fear'], ['fatigu', 'sight', 'bodi'], ['bodi', 'hugo', 'baskervill', 'lie', 'near'], ['rais', 'hair', 'head'], ['dare', 'devil', 'royster', 'stand', 'hugo'], ['pluck', 'throat', 'stand', 'foul', 'thing'], ['great', 'black', 'beast', 'shape', 'like', 'hound', 'larger'], ['hound', 'mortal', 'rest'], ['look', 'thing', 'tear', 'throat', 'hugo'], ['baskervill', 'turn', 'blaze', 'eye'], ['drip', 'jaw', 'shriek', 'fear'], ['ride', 'dear', 'life', 'scream', 'moor'], ['say', 'die', 'night', 'see'], ['twain', 'break', 'rest'], ['day'], ['tale', 'son', 'come', 'hound'], ['say', 'plagu', 'famili', 'sore'], ['clear', 'know', 'hath', 'terror'], ['hint', 'guess', 'deni'], ['famili', 'unhappi', 'death'], ['sudden', 'bloodi', 'mysteri', 'shelter'], ['infinit', 'good', 'provid'], ['forev', 'punish', 'innoc'], ['fourth', 'generat', 'threaten', 'holi', 'writ'], ['provid', 'son', 'commend'], ['counsel', 'caution', 'forbear', 'cross'], ['moor', 'dark', 'hour', 'power', 'evil'], ['exalt'], ['hugo', 'baskervill', 'son', 'rodger', 'john'], ['instruct', 'thereof'], ['sister', 'elizabeth'], ['mortim', 'finish', 'read', 'singular', 'narrat'], ['push', 'spectacl', 'forehead', 'star'], ['sherlock', 'holm', 'yawn', 'toss'], ['cigarett'], ['say'], ['interest'], ['collector', 'fairi', 'tale'], ['mortim', 'draw', 'fold', 'newspap', 'pocket'], ['holm', 'littl'], ['recent', 'counti', 'chronicle_'], ['year', 'short', 'account', 'fact', 'elicit', 'death'], ['charl', 'baskervill', 'occur', 'day'], ['date'], ['friend', 'lean', 'littl', 'forward', 'express'], ['intent', 'visitor', 'readjust', 'glass', 'begin'], ['recent', 'sudden', 'death', 'charl', 'baskervill'], ['mention', 'probabl', 'liber', 'candid'], ['devon', 'elect', 'cast', 'gloom'], ['counti', 'charl', 'resid', 'baskervill', 'hall'], ['compar', 'short', 'period', 'amiabl', 'charact'], ['extrem', 'generos', 'affect', 'respect'], ['bring', 'contact', 'day'], ['riches_', 'refresh', 'case'], ['scion', 'counti', 'famili', 'fall', 'evil', 'day'], ['abl', 'fortun', 'bring'], ['restor', 'fall', 'grandeur', 'line', 'charl'], ['know', 'larg', 'sum', 'money', 'south', 'african'], ['specul', 'wise', 'wheel'], ['turn', 'realis', 'gain', 'return'], ['england', 'year', 'take'], ['resid', 'baskervill', 'hall', 'common', 'talk', 'larg'], ['scheme', 'reconstruct', 'improv'], ['interrupt', 'death', 'childless'], ['open', 'express', 'desir', 'countrysid'], ['lifetim', 'profit', 'good', 'fortun'], ['person', 'reason', 'bewail', 'untim'], ['generous', 'donat', 'local', 'counti', 'chariti'], ['frequent', 'chronicl', 'column'], ['circumst', 'connect', 'death', 'charl'], ['say', 'entir', 'clear'], ['inquest', 'dispos'], ['rumour', 'local', 'superstit', 'give', 'rise'], ['reason', 'suspect', 'foul', 'play'], ['imagin', 'death', 'natur', 'caus'], ['charl', 'widow', 'say'], ['way', 'eccentr', 'habit', 'mind'], ['spite', 'consider', 'wealth', 'simpl'], ['person', 'tast', 'indoor', 'servant', 'baskervill'], ['hall', 'consist', 'marri', 'coupl', 'name', 'barrymor'], ['husband', 'act', 'butler', 'wife', 'housekeep'], ['evid', 'corrobor', 'friend', 'tend'], ['charl', 'health', 'time'], ['impair', 'point', 'especi', 'affect'], ['heart', 'manifest', 'chang', 'colour'], ['breathless', 'acut', 'attack', 'nervous', 'depress'], ['jam', 'mortim', 'friend', 'medic', 'attend'], ['deceas', 'give', 'evid', 'effect'], ['fact', 'case', 'simpl', 'charl', 'baskervill'], ['habit', 'night', 'go', 'walk'], ['famous', 'alley', 'baskervill', 'hall'], ['evid', 'barrymor', 'show'], ['custom', 'fourth', 'charl', 'declar'], ['intent', 'start', 'london', 'order'], ['barrymor', 'prepar', 'luggag', 'night', 'go'], ['usual', 'nocturn', 'walk', 'cours'], ['habit', 'smoke', 'cigar', 'return'], ['clock', 'barrymor', 'find', 'hall', 'door'], ['open', 'alarm', 'light', 'lantern', 'go'], ['search', 'master'], ['charl', 'footmark', 'easili', 'trace', 'alley'], ['halfway', 'walk', 'gate', 'lead'], ['moor', 'indic', 'charl'], ['stand', 'littl', 'time', 'proceed'], ['alley', 'bodi'], ['discov', 'fact', 'explain'], ['statement', 'barrymor', 'master', 'footprint'], ['alter', 'charact', 'time', 'pass'], ['moor', 'gate', 'appear', 'onward'], ['walk', 'toe', 'murphi', 'gipsi'], ['hors', 'dealer', 'moor', 'great', 'distanc'], ['time', 'appear', 'confess'], ['wors', 'drink', 'declar', 'hear', 'cri'], ['unabl', 'state', 'direct', 'come', 'sign'], ['violenc', 'discov', 'charl', 'person'], ['doctor', 'evid', 'point'], ['incred', 'facial', 'distort', 'great', 'mortim'], ['refus', 'believ', 'friend'], ['patient', 'explain'], ['symptom', 'unusu', 'case', 'dyspnœa'], ['death', 'cardiac', 'exhaust', 'explan', 'bear'], ['post', 'mortem', 'examin', 'show'], ['long', 'stand', 'organ', 'diseas', 'coron', 'juri'], ['return', 'verdict', 'accord', 'medic', 'evid'], ['obvious'], ['utmost', 'import', 'charl', 'heir', 'settl'], ['hall', 'continu', 'good', 'work', 'sad'], ['interrupt', 'prosaic', 'find', 'coron'], ['final', 'romant', 'stori'], ['whisper', 'connect', 'affair'], ['difficult', 'tenant', 'baskervill', 'hall'], ['understand', 'henri', 'baskervill'], ['aliv', 'charl', 'baskervill'], ['younger', 'brother', 'young', 'hear'], ['america', 'inquiri', 'institut', 'view'], ['inform', 'good', 'fortun'], ['mortim', 'refold', 'paper', 'replac', 'pocket'], ['public', 'fact', 'holm', 'connect'], ['death', 'charl', 'baskervill'], ['thank', 'say', 'sherlock', 'holm', 'call'], ['attent', 'case', 'certain', 'present', 'featur'], ['observ', 'newspap', 'comment', 'time'], ['exceed', 'preoccupi', 'littl', 'affair'], ['vatican', 'cameo', 'anxieti', 'oblig', 'pope', 'lose', 'touch'], ['interest', 'english', 'case', 'articl'], ['contain', 'public', 'fact'], ['privat', 'one', 'lean'], ['finger', 'tip', 'assum', 'impass', 'judici'], ['express'], ['say', 'mortim', 'begin', 'sign'], ['strong', 'emot', 'tell', 'confid'], ['motiv', 'withhold', 'coron'], ['inquiri', 'scienc', 'shrink', 'place'], ['public', 'posit', 'indors', 'popular', 'superstit'], ['motiv', 'baskervill', 'hall', 'paper'], ['say', 'certain', 'remain', 'unten'], ['increas', 'grim', 'reput'], ['reason', 'think', 'justifi', 'tell'], ['know', 'practic', 'good', 'result'], ['reason', 'perfect', 'frank'], ['moor', 'spars', 'inhabit', 'live', 'near'], ['throw', 'reason'], ['good', 'deal', 'charl', 'baskervill', 'except'], ['frankland', 'lafter', 'hall', 'stapleton', 'naturalist'], ['educ', 'mile'], ['charl', 'retir', 'chanc', 'ill', 'bring'], ['communiti', 'interest', 'scienc', 'keep'], ['bring', 'scientif', 'inform', 'south'], ['africa', 'charm', 'even', 'spend'], ['discuss', 'compar', 'anatomi', 'bushman'], ['hottentot'], ['month', 'increas', 'plain'], ['charl', 'nervous', 'strain', 'break'], ['point', 'take', 'legend', 'read', 'exceed'], ['heart', 'walk'], ['ground', 'induc', 'moor'], ['night', 'incred', 'appear', 'holm'], ['honest', 'convinc', 'dread', 'fate', 'overhang', 'famili'], ['certain', 'record', 'abl', 'ancestor'], ['encourag', 'idea', 'ghast', 'presenc'], ['constant', 'haunt', 'occas'], ['ask', 'medic', 'journey', 'night', 'see'], ['strang', 'creatur', 'hear', 'bay', 'hound'], ['question', 'time', 'voic'], ['vibrat', 'excit'], ['rememb', 'drive', 'hous', 'even'], ['week', 'fatal', 'event', 'chanc', 'hall'], ['door', 'descend', 'stand'], ['eye', 'shoulder'], ['stare', 'past', 'express', 'dread', 'horror'], ['whisk', 'round', 'time', 'catch', 'glimps'], ['take', 'larg', 'black', 'calf', 'pass', 'head'], ['drive', 'excit', 'alarm', 'compel'], ['spot', 'anim', 'look'], ['go', 'incid', 'appear'], ['worst', 'impress', 'mind', 'stay'], ['even', 'occas', 'explain', 'emot'], ['show', 'confid', 'keep', 'narrat'], ['read', 'come', 'mention', 'small'], ['episod', 'assum', 'import', 'view', 'tragedi'], ['follow', 'convinc', 'time', 'matter'], ['entir', 'trivial', 'excit'], ['justif'], ['advic', 'charl', 'london'], ['heart', 'know', 'affect', 'constant', 'anxieti'], ['live', 'chimer', 'caus'], ['evid', 'have', 'effect', 'health', 'think'], ['month', 'distract', 'town', 'send'], ['stapleton', 'mutual', 'friend', 'concern'], ['state', 'health', 'opinion', 'instant'], ['come', 'terribl', 'catastroph'], ['night', 'charl', 'death', 'barrymor', 'butler'], ['discoveri', 'send', 'perkin', 'groom', 'horseback'], ['sit', 'late', 'abl', 'reach', 'baskervill', 'hall'], ['hour', 'event', 'check', 'corrobor'], ['fact', 'mention', 'inquest', 'follow'], ['footstep', 'alley', 'spot', 'moor', 'gate'], ['wait', 'remark', 'chang'], ['shape', 'print', 'point', 'note'], ['footstep', 'save', 'barrymor', 'soft', 'gravel'], ['final', 'care', 'examin', 'bodi', 'touch'], ['arriv', 'charl', 'face', 'arm'], ['finger', 'grind', 'featur', 'convuls'], ['strong', 'emot', 'extent', 'hard', 'swear'], ['ident', 'certain', 'physic', 'injuri'], ['kind', 'fals', 'statement', 'barrymor'], ['inquest', 'say', 'trace', 'grind', 'round'], ['bodi', 'observ', 'littl', 'distanc'], ['fresh', 'clear'], ['footprint'], ['footprint'], ['woman'], ['mortim', 'look', 'strang', 'instant', 'voic'], ['sink', 'whisper', 'answer'], ['holm', 'footprint', 'gigant', 'hound'], ['chapter'], ['problem'], ['confess', 'word', 'shudder', 'pass'], ['thrill', 'doctor', 'voic', 'show'], ['deepli', 'move', 'tell', 'holm', 'lean', 'forward'], ['excit', 'eye', 'hard', 'glitter', 'shoot'], ['keen', 'interest'], ['clear'], ['say'], ['mark', 'yard', 'bodi', 'give'], ['think', 'suppos'], ['know', 'legend'], ['sheep', 'dog', 'moor'], ['doubt', 'sheep'], ['larg'], ['enorm'], ['approach', 'bodi'], ['sort', 'night'], ['damp'], ['actual', 'rain'], ['alley', 'like'], ['line', 'hedg', 'feet', 'high'], ['impenetr', 'walk', 'centr', 'feet'], ['hedg', 'walk'], ['strip', 'grass', 'feet', 'broad'], ['understand', 'hedg', 'penetr', 'point'], ['gate'], ['wicket', 'gate', 'lead', 'moor'], ['open'], ['reach', 'alley', 'come'], ['hous', 'enter', 'moor', 'gate'], ['exit', 'summer', 'hous'], ['charl', 'reach'], ['fifti', 'yard'], ['tell', 'mortim', 'import', 'mark'], ['path', 'grass'], ['mark', 'grass'], ['path', 'moor', 'gate'], ['edg', 'path'], ['moor', 'gate'], ['exceed', 'point', 'wicket', 'gate'], ['close'], ['close', 'padlock'], ['high'], ['feet', 'high'], ['mark', 'wicket', 'gate'], ['particular'], ['good', 'heaven', 'examin'], ['examin'], ['confus', 'charl', 'evid', 'stand'], ['minut'], ['know'], ['twice', 'drop', 'cigar'], ['excel', 'colleagu', 'watson', 'heart'], ['mark'], ['leav', 'mark', 'small', 'patch', 'gravel'], ['discern'], ['sherlock', 'holm', 'strike', 'hand', 'knee'], ['impati', 'gestur'], ['cri', 'evid', 'case'], ['extraordinari', 'present', 'immens'], ['opportun', 'scientif', 'expert', 'gravel', 'page'], ['read', 'long', 'smudg'], ['rain', 'defac', 'clog', 'curious', 'peasant'], ['mortim', 'mortim', 'think', 'call'], ['answer'], ['holm', 'disclos'], ['fact', 'world', 'give', 'reason'], ['wish'], ['hesit'], ['realm', 'acut', 'experi'], ['detect', 'helpless'], ['mean', 'thing', 'supernatur'], ['posit'], ['evid', 'think'], ['tragedi', 'holm', 'come', 'ear'], ['incid', 'hard', 'reconcil', 'settl'], ['order', 'natur'], ['exampl'], ['terribl', 'event', 'occur', 'peopl'], ['see', 'creatur', 'moor', 'correspond'], ['baskervill', 'demon', 'possibl', 'anim'], ['know', 'scienc', 'agre', 'huge', 'creatur'], ['lumin', 'ghast', 'spectral', 'cross', 'examin'], ['hard', 'head', 'countryman', 'farrier'], ['moorland', 'farmer', 'tell', 'stori', 'dread'], ['apparit', 'exact', 'correspond', 'hell', 'hound'], ['legend', 'assur', 'reign', 'terror'], ['district', 'hardi', 'cross', 'moor'], ['night'], ['train', 'scienc', 'believ'], ['supernatur'], ['know', 'believ'], ['holm', 'shrug', 'shoulder', 'hitherto', 'confin'], ['investig', 'world', 'say', 'modest'], ['combat', 'evil', 'father', 'evil'], ['ambiti', 'task', 'admit'], ['footmark', 'materi'], ['origin', 'hound', 'materi', 'throat'], ['diabol'], ['go'], ['mortim', 'tell', 'hold', 'view'], ['come', 'consult', 'tell'], ['breath', 'useless', 'investig', 'charl', 'death'], ['desir'], ['desir'], ['assist'], ['advis', 'henri'], ['baskervill', 'arriv', 'waterloo', 'station', 'mortim', 'look'], ['watch', 'exact', 'hour', 'quarter'], ['heir'], ['death', 'charl', 'inquir', 'young'], ['gentleman', 'farm', 'canada'], ['account', 'reach', 'excel', 'fellow'], ['speak', 'medic', 'truste'], ['executor', 'charl'], ['claimant', 'presum'], ['kinsman', 'abl', 'trace'], ['rodger', 'baskervill', 'youngest', 'brother', 'poor'], ['charl', 'elder', 'second', 'brother', 'die', 'young'], ['father', 'henri', 'rodger', 'black'], ['sheep', 'famili', 'come', 'master', 'baskervill'], ['strain', 'imag', 'tell', 'famili'], ['pictur', 'hugo', 'england', 'hold', 'flee'], ['central', 'america', 'die', 'yellow', 'fever', 'henri'], ['baskervill', 'hour', 'minut', 'meet'], ['waterloo', 'station', 'wire', 'arriv'], ['southampton', 'morn', 'holm', 'advis'], ['home', 'father'], ['natur', 'consid'], ['baskervill', 'go', 'meet', 'evil', 'fate', 'feel', 'sure'], ['charl', 'speak', 'death'], ['warn', 'bring'], ['race', 'heir', 'great', 'wealth', 'dead', 'place'], ['deni', 'prosper', 'poor', 'bleak'], ['countrysid', 'depend', 'presenc', 'good', 'work'], ['charl', 'crash', 'grind'], ['tenant', 'hall', 'fear', 'lest', 'sway'], ['obvious', 'matter', 'bring'], ['case', 'advic'], ['holm', 'consid', 'littl', 'time'], ['plain', 'word', 'matter', 'say'], ['opinion', 'diabol', 'agenc', 'make', 'dartmoor'], ['unsaf', 'abid', 'baskervill', 'opinion'], ['length', 'say'], ['evid'], ['exact', 'sure', 'supernatur', 'theori', 'correct'], ['work', 'young', 'evil', 'london', 'easili'], ['devonshir', 'devil', 'mere', 'local', 'power', 'like', 'parish', 'vestri'], ['inconceiv', 'thing'], ['matter', 'flippant', 'holm'], ['probabl', 'bring', 'person', 'contact'], ['thing', 'advic', 'understand', 'young'], ['safe', 'devonshir', 'london', 'come', 'fifti'], ['minut', 'recommend'], ['recommend', 'spaniel'], ['scratch', 'door', 'proceed', 'waterloo', 'meet'], ['henri', 'baskervill'], ['mind', 'matter'], ['long', 'mind'], ['hour', 'clock', 'tomorrow', 'mortim'], ['oblig'], ['help', 'plan', 'futur', 'bring'], ['henri', 'baskervill'], ['holm', 'scribbl', 'appoint'], ['shirt', 'cuff', 'hurri', 'strang', 'peer', 'absent', 'mind'], ['fashion', 'holm', 'stop', 'head', 'stair'], ['question', 'mortim'], ['charl', 'baskervill', 'death', 'peopl', 'apparit'], ['moor'], ['peopl'], ['hear'], ['thank', 'good', 'morn'], ['holm', 'return', 'seat', 'quiet', 'look', 'inward'], ['satisfact', 'mean', 'congeni', 'task'], ['go', 'watson'], ['help'], ['dear', 'fellow', 'hour', 'action', 'turn'], ['splendid', 'uniqu', 'point'], ['view', 'pass', 'bradley', 'send'], ['pound', 'strongest', 'shag', 'tobacco', 'thank'], ['conveni', 'return'], ['even', 'glad', 'compar', 'impress'], ['interest', 'problem', 'submit'], ['morn'], ['know', 'seclus', 'solitud', 'necessari'], ['friend', 'hour', 'intens', 'mental', 'concentr'], ['weigh', 'particl', 'evid', 'construct'], ['altern', 'theori', 'balanc'], ['mind', 'point', 'essenti', 'immateri'], ['spend', 'club', 'return', 'baker'], ['street', 'even', 'near', 'clock'], ['sit', 'room'], ['impress', 'open', 'door'], ['break', 'room', 'fill', 'smoke', 'light'], ['lamp', 'tabl', 'blur', 'enter'], ['fear', 'rest', 'acrid', 'fume'], ['strong', 'coars', 'tobacco', 'take', 'throat'], ['cough', 'haze', 'vagu', 'vision', 'holm'], ['dress', 'gown', 'coil', 'armchair', 'black', 'clay', 'pipe'], ['lip', 'roll', 'paper'], ['catch', 'cold', 'watson', 'say'], ['poison', 'atmospher'], ['suppos', 'pretti', 'mention'], ['intoler'], ['open', 'window', 'club'], ['perceiv'], ['dear', 'holm'], ['right'], ['certain'], ['laugh', 'bewild', 'express', 'delight'], ['fresh', 'watson', 'make', 'pleasur'], ['exercis', 'small', 'power', 'possess', 'expens'], ['gentleman', 'go', 'forth', 'showeri', 'miri', 'return'], ['immacul', 'even', 'gloss'], ['boot', 'fixtur'], ['intim', 'friend'], ['obvious'], ['obvious'], ['world', 'obvious', 'thing', 'chanc'], ['observ', 'think'], ['fixtur'], ['contrari', 'devonshir'], ['spirit'], ['exact', 'bodi', 'remain', 'armchair', 'regret'], ['observ', 'consum', 'absenc', 'larg', 'pot', 'coffe'], ['incred', 'tobacco', 'leav', 'send'], ['stamford', 'ordnanc', 'portion', 'moor'], ['spirit', 'hover', 'flatter'], ['larg', 'scale', 'presum'], ['larg'], ['unrol', 'section', 'hold', 'knee'], ['particular', 'district', 'concern', 'baskervill'], ['hall', 'middl'], ['wood', 'round'], ['exact', 'fanci', 'alley', 'mark'], ['stretch', 'line', 'moor'], ['perceiv', 'right', 'small', 'clump', 'build'], ['hamlet', 'grimpen', 'friend', 'mortim'], ['headquart', 'radius', 'mile'], ['scatter', 'dwell', 'lafter', 'hall'], ['mention', 'narrat', 'hous', 'indic'], ['resid', 'naturalist', 'stapleton'], ['rememb', 'right', 'moorland', 'farmhous'], ['high', 'foulmir', 'fourteen', 'mile', 'away', 'great', 'convict'], ['prison', 'princetown', 'scatter', 'point'], ['extend', 'desol', 'lifeless', 'moor', 'stage'], ['tragedi', 'play', 'help'], ['play'], ['wild', 'place'], ['set', 'worthi', 'devil', 'desir'], ['hand', 'affair'], ['inclin', 'supernatur'], ['explan'], ['devil', 'agent', 'flesh', 'blood'], ['question', 'wait', 'outset'], ['crime', 'commit', 'second'], ['crime', 'commit', 'cours'], ['mortim', 'surmis', 'correct', 'deal'], ['forc', 'outsid', 'ordinari', 'law', 'natur'], ['investig', 'bind', 'exhaust'], ['hypothes', 'fall', 'think', 'shut'], ['window', 'mind', 'singular', 'thing'], ['concentr', 'atmospher', 'help', 'concentr'], ['think', 'push', 'length', 'get'], ['think', 'logic', 'outcom', 'convict'], ['turn', 'case', 'mind'], ['think', 'good', 'deal', 'cours'], ['bewild'], ['certain', 'charact', 'point'], ['distinct', 'chang', 'footprint', 'exampl'], ['mortim', 'say', 'walk', 'tipto'], ['portion', 'alley'], ['repeat', 'fool', 'say', 'inquest'], ['walk', 'tipto', 'alley'], ['run', 'watson', 'run', 'desper', 'run'], ['life', 'run', 'burst', 'heart', 'fell', 'dead'], ['face'], ['run'], ['lie', 'problem', 'indic'], ['craze', 'fear', 'begin'], ['presum', 'caus', 'fear', 'come'], ['moor', 'probabl'], ['lose', 'wit', 'hous', 'instead'], ['gipsi', 'evid', 'take', 'true'], ['cri', 'help', 'direct', 'help', 'like'], ['wait', 'night'], ['wait', 'alley'], ['hous'], ['think', 'wait'], ['elder', 'infirm', 'understand', 'take'], ['even', 'stroll', 'grind', 'damp', 'night', 'inclement'], ['natur', 'stand', 'minut'], ['mortim', 'practic', 'sens', 'give'], ['credit', 'deduc', 'cigar'], ['go', 'even'], ['think', 'unlik', 'wait', 'moor', 'gate'], ['even', 'contrari', 'evid', 'avoid'], ['moor', 'night', 'wait', 'night'], ['departur', 'london', 'thing', 'take', 'shape', 'watson'], ['coher', 'hand', 'violin'], ['postpon', 'think', 'busi'], ['advantag', 'meet', 'mortim', 'henri'], ['baskervill', 'morn'], ['chapter'], ['henri', 'baskervill'], ['breakfast', 'tabl', 'clear', 'earli', 'holm', 'wait'], ['dress', 'gown', 'promis', 'interview', 'client'], ['punctual', 'appoint', 'clock', 'strike'], ['mortim', 'show', 'follow', 'young', 'baronet'], ['small', 'alert', 'dark', 'eye', 'thirti', 'year'], ['sturdili', 'build', 'black', 'eyebrow'], ['strong', 'pugnaci', 'face', 'wear', 'ruddi', 'tint', 'tweed', 'suit'], ['weather', 'beat', 'appear', 'spend'], ['time', 'open'], ['steadi', 'quiet', 'assur', 'bear', 'indic'], ['gentleman'], ['henri', 'baskervill', 'say', 'mortim'], ['say', 'strang', 'thing', 'sherlock'], ['holm', 'friend', 'propos', 'come', 'round'], ['morn', 'come', 'account'], ['understand', 'think', 'littl', 'puzzl'], ['morn', 'want', 'think', 'abl'], ['pray', 'seat', 'henri', 'understand'], ['remark', 'experi', 'arriv'], ['london'], ['import', 'holm', 'joke', 'like'], ['letter', 'letter'], ['reach', 'morn'], ['lay', 'envelop', 'tabl', 'bend'], ['common', 'qualiti', 'greyish', 'colour', 'address', 'henri'], ['baskervill', 'northumberland', 'hotel', 'print', 'rough'], ['charact', 'post', 'mark', 'char', 'cross', 'date'], ['post', 'preced', 'even'], ['know', 'go', 'northumberland', 'hotel', 'ask'], ['holm', 'glanc', 'keen', 'visitor'], ['know', 'decid'], ['mortim'], ['mortim', 'doubt', 'stop'], ['stay', 'friend', 'say', 'doctor'], ['possibl', 'indic', 'intend'], ['hotel'], ['deepli', 'interest'], ['movement', 'envelop', 'take', 'half', 'sheet', 'foolscap'], ['paper', 'fold', 'open', 'spread', 'flat'], ['tabl', 'middl', 'singl', 'sentenc', 'form'], ['expedi', 'past', 'print', 'word'], ['valu', 'life', 'reason', 'away', 'moor'], ['word', 'moor', 'print'], ['say', 'henri', 'baskervill', 'tell'], ['holm', 'thunder', 'mean'], ['take', 'affair'], ['mortim', 'allow'], ['supernatur', 'rate'], ['come'], ['convinc', 'busi', 'supernatur'], ['busi', 'ask', 'henri', 'sharpli'], ['gentlemen', 'know', 'great', 'deal'], ['affair'], ['shall', 'share', 'knowledg', 'leav', 'room'], ['henri', 'promis', 'say', 'sherlock', 'holm'], ['confin', 'present', 'permiss'], ['interest', 'document'], ['post', 'yesterday', 'even', 'yesterday', 'watson'], ['corner'], ['troubl', 'insid', 'page'], ['lead', 'articl', 'glanc', 'swift', 'run', 'eye'], ['column', 'capit', 'articl', 'free', 'trade'], ['permit', 'extract'], ['cajol', 'imagin', 'special', 'trade'], ['industri', 'encourag', 'protect', 'tariff'], ['stand', 'reason', 'legisl', 'long'], ['away', 'wealth', 'countri', 'diminish', 'valu'], ['import', 'lower', 'general', 'condit', 'life', 'island'], ['think', 'watson', 'cri', 'holm', 'high', 'glee'], ['rub', 'hand', 'satisfact', 'think'], ['admir', 'sentiment'], ['mortim', 'look', 'holm', 'profession'], ['henri', 'baskervill', 'turn', 'pair', 'puzzl', 'dark'], ['eye'], ['know', 'tariff', 'thing', 'kind'], ['say', 'trail'], ['note', 'concern'], ['contrari', 'think', 'particular', 'trail'], ['henri', 'watson', 'know', 'method'], ['fear', 'grasp', 'signific'], ['sentenc'], ['confess', 'connect'], ['dear', 'watson', 'close', 'connect'], ['extract'], ['life', 'reason', 'valu', 'away'], ['word', 'take'], ['thunder', 'right', 'smart', 'cri'], ['henri'], ['possibl', 'doubt', 'remain', 'settl', 'fact'], ['away', 'piec'], ['holm', 'exceed'], ['imagin', 'say', 'mortim', 'gaze', 'friend', 'amaz'], ['understand', 'say', 'word'], ['newspap', 'come'], ['lead', 'articl', 'remark'], ['thing', 'know'], ['presum', 'doctor', 'tell', 'skull', 'negro'], ['esquimau'], ['certain'], ['special', 'hobbi', 'differ', 'obvious'], ['supra', 'orbit', 'crest', 'facial', 'angl', 'maxillari', 'curv'], ['special', 'hobbi', 'differ', 'equal'], ['obvious', 'differ', 'eye'], ['lead', 'bourgeoi', 'type', 'articl', 'sloven', 'print'], ['even', 'half', 'penni', 'paper'], ['negro', 'esquimau', 'detect', 'type'], ['elementari', 'branch', 'knowledg', 'special', 'expert'], ['crime', 'confess', 'young'], ['confus', 'mercury_', 'morn', 'news_'], ['leader', 'entir', 'distinct', 'word'], ['take', 'yesterday'], ['strong', 'probabl', 'word'], ['yesterday', 'issu'], ['follow', 'holm', 'say', 'henri'], ['baskervill', 'messag', 'scissor'], ['nail', 'scissor', 'say', 'holm'], ['short', 'blade', 'scissor', 'cutter', 'snip'], ['away'], ['messag', 'pair'], ['short', 'blade', 'scissor', 'past', 'past'], ['say', 'holm'], ['paper', 'want', 'know', 'word', 'moor'], ['write'], ['print', 'word'], ['simpl', 'issu', 'moor'], ['common'], ['cours', 'explain', 'read'], ['messag', 'holm'], ['indic', 'utmost', 'pain'], ['take', 'remov', 'clue', 'address', 'observ'], ['print', 'rough', 'charact', 'paper'], ['seldom', 'hand', 'high', 'educ'], ['letter', 'compos'], ['educ', 'wish', 'pose', 'uneduc'], ['effort', 'conceal', 'write', 'suggest', 'write'], ['know', 'come', 'know'], ['observ', 'word', 'gum', 'accur', 'line'], ['higher', 'life', 'exampl'], ['proper', 'place', 'point', 'careless'], ['point', 'agit', 'hurri', 'cutter'], ['inclin', 'view', 'matter'], ['evid', 'import', 'unlik', 'compos'], ['letter', 'careless', 'hurri', 'open'], ['interest', 'question', 'hurri'], ['letter', 'post', 'earli', 'morn', 'reach', 'henri'], ['leav', 'hotel', 'compos', 'fear', 'interrupt'], ['come', 'region', 'guesswork', 'say'], ['mortim'], ['region', 'balanc', 'probabl'], ['choos', 'like', 'scientif'], ['imagin', 'materi', 'basi'], ['start', 'specul', 'guess', 'doubt'], ['certain', 'address', 'write'], ['hotel'], ['world'], ['examin', 'care'], ['give', 'writer', 'troubl', 'splutter'], ['twice', 'singl', 'word', 'time', 'short'], ['address', 'show', 'littl', 'bottl'], ['privat', 'bottl', 'seldom', 'allow'], ['state', 'combin', 'rare'], ['know', 'hotel', 'hotel', 'rare'], ['littl', 'hesit', 'say'], ['examin', 'wast', 'paper', 'basket', 'hotel'], ['char', 'cross', 'remain', 'mutil'], ['leader', 'hand', 'straight', 'person', 'send'], ['singular', 'messag', 'halloa', 'halloa'], ['care', 'examin', 'foolscap', 'word'], ['past', 'hold', 'inch', 'eye'], ['say', 'throw', 'blank', 'half', 'sheet'], ['paper', 'water', 'mark', 'think'], ['draw', 'curious', 'letter'], ['henri', 'happen'], ['london'], ['holm', 'think'], ['observ', 'follow', 'watch'], ['walk', 'right', 'dime', 'novel'], ['say', 'visitor', 'thunder', 'follow', 'watch'], ['come', 'report'], ['matter'], ['depend', 'think', 'worth', 'report'], ['think', 'ordinari', 'routin', 'life', 'worth'], ['report'], ['henri', 'smile', 'know', 'british', 'life'], ['spend', 'near', 'time', 'state', 'canada'], ['hope', 'lose', 'boot', 'ordinari'], ['routin', 'life'], ['lose', 'boot'], ['dear', 'cri', 'mortim', 'mislay'], ['return', 'hotel'], ['troubl', 'holm', 'trifl', 'kind'], ['ask', 'outsid', 'ordinari', 'routin'], ['exact', 'say', 'holm', 'foolish', 'incid'], ['lose', 'boot'], ['mislay', 'outsid', 'door'], ['night', 'morn'], ['sens', 'chap', 'clean', 'worst'], ['buy', 'pair', 'night', 'strand'], ['wear'], ['clean'], ['boot', 'varnish'], ['understand', 'arriv', 'london', 'yesterday'], ['go', 'buy', 'pair', 'boot'], ['good', 'deal', 'shop', 'mortim', 'go', 'round'], ['squir', 'dress'], ['littl', 'careless', 'way'], ['west', 'thing', 'buy', 'brown', 'boot', 'give'], ['dollar', 'steal'], ['feet'], ['singular', 'useless', 'thing', 'steal', 'say', 'sherlock'], ['holm', 'confess', 'share', 'mortim', 'belief'], ['long', 'miss', 'boot'], ['gentlemen', 'say', 'baronet', 'decis'], ['speak', 'littl'], ['know', 'time', 'keep', 'promis', 'give'], ['account', 'drive'], ['request', 'reason', 'holm', 'answer'], ['mortim', 'think', 'better', 'tell', 'stori'], ['tell'], ['encourag', 'scientif', 'friend', 'draw', 'paper'], ['pocket', 'present', 'case'], ['morn', 'henri', 'baskervill', 'listen', 'deepest'], ['attent', 'occasion', 'exclam', 'surpris'], ['come', 'inherit', 'vengeanc'], ['say', 'long', 'narrat', 'finish', 'cours'], ['hear', 'hound', 'nurseri'], ['stori', 'famili', 'think', 'take'], ['serious', 'uncl', 'death'], ['boil', 'head', 'clear'], ['mind', 'case'], ['policeman', 'clergyman'], ['precis'], ['affair', 'letter', 'hotel'], ['suppos', 'fit', 'place'], ['know'], ['go', 'moor', 'say', 'mortim'], ['say', 'holm', 'dispos'], ['warn', 'danger'], ['wish', 'purpos', 'scare'], ['away'], ['cours', 'possibl', 'indebt'], ['mortim', 'introduc', 'problem'], ['present', 'interest', 'altern', 'practic'], ['point', 'decid', 'henri'], ['advis', 'baskervill', 'hall'], ['danger'], ['mean', 'danger', 'famili', 'fiend', 'mean', 'danger'], ['human', 'be'], ['whichev', 'answer', 'fix', 'devil', 'hell'], ['holm', 'earth', 'prevent'], ['go', 'home', 'peopl'], ['final', 'answer', 'dark', 'brow', 'knit', 'face', 'flush'], ['duski', 'speak', 'evid', 'fieri', 'temper'], ['baskervill', 'extinct'], ['repres', 'say', 'hard', 'time'], ['think', 'tell', 'thing'], ['understand', 'decid', 'sit', 'like'], ['quiet', 'hour', 'mind', 'look'], ['holm', 'half', 'past', 'go'], ['right', 'away', 'hotel', 'suppos', 'friend', 'watson'], ['come', 'round', 'lunch', 'abl', 'tell'], ['clear', 'thing', 'strike'], ['conveni', 'watson'], ['perfect'], ['expect', 'shall', 'call'], ['prefer', 'walk', 'affair', 'flurri'], ['join', 'walk', 'pleasur', 'say', 'companion'], ['meet', 'clock', 'revoir', 'good', 'morn'], ['hear', 'step', 'visitor', 'descend', 'stair', 'bang'], ['door', 'instant', 'holm', 'chang'], ['languid', 'dreamer', 'action'], ['boot', 'watson', 'quick', 'moment', 'lose'], ['rush', 'room', 'dress', 'gown'], ['second', 'frock', 'coat', 'hurri', 'stair'], ['street', 'mortim', 'baskervill'], ['visibl', 'yard', 'ahead', 'direct'], ['oxford', 'street'], ['shall', 'stop'], ['world', 'dear', 'watson', 'perfect', 'satisfi'], ['compani', 'toler', 'friend', 'wise'], ['certain', 'fine', 'morn', 'walk'], ['quicken', 'pace', 'decreas', 'distanc'], ['divid', 'half', 'keep', 'yard'], ['follow', 'oxford', 'street', 'regent', 'street'], ['friend', 'stop', 'star', 'shop', 'window'], ['holm', 'instant', 'give', 'littl'], ['satisfact', 'follow', 'direct', 'eager'], ['eye', 'hansom', 'insid', 'halt'], ['street', 'proceed', 'slowli', 'onward'], ['watson', 'come', 'good', 'look'], ['instant', 'awar', 'bushi', 'black', 'beard', 'pair'], ['pierc', 'eye', 'turn', 'window'], ['instant', 'trapdoor', 'fli', 'scream'], ['driver', 'fli', 'mad', 'regent', 'street'], ['holm', 'look', 'eager', 'round'], ['sight', 'dash', 'wild', 'pursuit', 'amid', 'stream'], ['traffic', 'start', 'great'], ['sight'], ['say', 'holm', 'bitter', 'emerg', 'pant', 'white'], ['vexat', 'tide', 'vehicl', 'luck'], ['manag', 'watson', 'watson'], ['honest', 'record'], ['success'], ['idea'], ['evid', 'hear', 'baskervill'], ['close', 'shadow'], ['town', 'know', 'quick'], ['northumberland', 'hotel', 'choos', 'follow'], ['argu', 'follow'], ['second', 'observ', 'twice', 'stroll'], ['window', 'mortim', 'read', 'legend'], ['rememb'], ['look', 'loiter', 'street'], ['deal', 'clever', 'watson', 'matter', 'cut'], ['deep', 'final', 'mind'], ['benevol', 'malevol', 'agenc', 'touch'], ['conscious', 'power', 'design', 'friend', 'leav'], ['follow', 'hop', 'mark'], ['invis', 'attend', 'wili', 'trust'], ['foot', 'avail'], ['loiter', 'dash', 'past', 'escap', 'notic'], ['method', 'addit', 'advantag'], ['readi', 'follow'], ['obvious', 'disadvantag'], ['put', 'power', 'cabman'], ['exact'], ['piti', 'number'], ['dear', 'watson', 'clumsi', 'sure'], ['serious', 'imagin', 'neglect', 'number'], ['moment'], ['fail'], ['observ', 'instant', 'turn', 'walk'], ['direct', 'leisur', 'hire'], ['second', 'follow', 'respect', 'distanc'], ['better', 'drive', 'northumberland', 'hotel', 'wait'], ['unknown', 'follow', 'baskervill', 'home'], ['opportun', 'play', 'game'], ['see', 'indiscreet', 'eager'], ['take', 'advantag', 'extraordinari', 'quick'], ['energi', 'oppon', 'betray', 'lose'], ['saunter', 'slowli', 'regent', 'street'], ['convers', 'mortim', 'companion', 'long'], ['vanish'], ['object', 'follow', 'say', 'holm'], ['shadow', 'depart', 'return'], ['card', 'hand', 'play', 'decis'], ['swear', 'face'], ['swear', 'beard'], ['gather', 'probabl'], ['fals', 'clever', 'delic', 'errand'], ['beard', 'save', 'conceal', 'featur', 'come'], ['watson'], ['turn', 'district', 'messeng', 'offic'], ['warm', 'greet', 'manag'], ['wilson', 'forget', 'littl', 'case'], ['good', 'fortun', 'help'], ['save', 'good'], ['life'], ['dear', 'fellow', 'exagger', 'recollect'], ['wilson', 'boy', 'name', 'cartwright'], ['show', 'abil', 'investig'], ['ring', 'thank', 'glad'], ['chang', 'pound', 'note'], ['fourteen', 'bright', 'keen', 'face', 'obey'], ['summon', 'manag', 'stand', 'gaze', 'great', 'rever'], ['famous', 'detect'], ['hotel', 'directori', 'say', 'holm', 'thank'], ['cartwright', 'name', 'hotel'], ['immedi', 'neighbourhood', 'char', 'cross'], ['visit', 'turn'], ['begin', 'case', 'give', 'outsid', 'porter'], ['shill', 'shill'], ['tell', 'want', 'wast', 'paper'], ['yesterday', 'import', 'telegram', 'miscarri'], ['look', 'understand'], ['look', 'centr', 'page'], ['hole', 'scissor', 'copi'], ['page', 'easili', 'recogn'], ['case', 'outsid', 'porter', 'send', 'hall', 'porter'], ['shill'], ['shill', 'learn', 'possibl', 'case'], ['wast', 'burn'], ['remov', 'case', 'show', 'heap'], ['paper', 'look', 'page'], ['odd', 'enorm', 'find'], ['shill', 'case', 'emerg', 'report'], ['wire', 'baker', 'street', 'even', 'watson'], ['remain', 'wire', 'ident', 'cabman'], ['drop', 'bond', 'street'], ['pictur', 'galleri', 'time'], ['hotel'], ['chapter'], ['break', 'thread'], ['sherlock', 'holm', 'remark', 'degre', 'power'], ['detach', 'mind', 'hour', 'strang', 'busi'], ['involv', 'appear', 'forget'], ['entir', 'absorb', 'pictur', 'modern', 'belgian', 'master'], ['talk', 'crudest'], ['idea', 'leav', 'galleri'], ['northumberland', 'hotel'], ['henri', 'baskervill', 'upstair', 'expect', 'say'], ['clerk', 'ask', 'come'], ['object', 'look', 'regist', 'say'], ['holm'], ['book', 'show', 'name', 'add'], ['baskervill', 'theophilus', 'johnson', 'famili', 'newcastl'], ['oldmor', 'maid', 'high', 'lodg', 'alton'], ['sure', 'johnson', 'know', 'say'], ['holm', 'porter', 'lawyer', 'grey', 'head'], ['walk', 'limp'], ['johnson', 'coal', 'owner', 'activ'], ['gentleman', 'older'], ['sure', 'mistak', 'trade'], ['hotel', 'year'], ['know'], ['settl', 'oldmor', 'rememb'], ['excus', 'curios', 'call', 'friend'], ['find'], ['invalid', 'ladi', 'husband', 'mayor'], ['gloucest', 'come', 'town'], ['thank', 'afraid', 'claim', 'acquaint'], ['establish', 'import', 'fact', 'question', 'watson'], ['continu', 'voic', 'go', 'upstair', 'know'], ['peopl', 'interest', 'friend'], ['settl', 'hotel', 'mean'], ['see', 'anxious', 'watch', 'equal', 'anxious'], ['suggest'], ['fact'], ['suggest'], ['suggest', 'halloa', 'dear', 'fellow', 'earth'], ['matter'], ['come', 'round', 'stair'], ['henri', 'baskervill', 'face', 'flush', 'anger'], ['hold', 'dusti', 'boot', 'hand', 'furious'], ['hard', 'articul', 'speak'], ['broader', 'western', 'dialect'], ['hear', 'morn'], ['play', 'sucker', 'hotel'], ['cri', 'start', 'monkey', 'wrong'], ['care', 'thunder', 'chap'], ['miss', 'boot', 'troubl', 'joke'], ['best', 'holm', 'mark', 'time'], ['look', 'boot'], ['mean'], ['sure', 'say', 'brown', 'boot'], ['black'], ['mean'], ['mean', 'pair'], ['world', 'brown', 'black', 'patent', 'leather'], ['wear', 'night', 'take', 'brown', 'one'], ['today', 'sneak', 'black'], ['speak', 'stand', 'star'], ['agit', 'german', 'waiter', 'appear', 'scene'], ['inquiri', 'hotel', 'hear'], ['word'], ['boot', 'come', 'sundown'], ['manag', 'tell', 'right', 'straight', 'hotel'], ['shall', 'promis'], ['littl', 'patienc'], ['mind', 'thing', 'lose'], ['thiev', 'holm', 'excus'], ['troubl', 'trifl'], ['think', 'worth', 'troubl'], ['look'], ['explain'], ['attempt', 'explain', 'maddest'], ['queerest', 'thing', 'happen'], ['queerest', 'say', 'holm', 'thought'], ['profess', 'understand', 'case'], ['complex', 'henri', 'take', 'conjunct'], ['uncl', 'death', 'sure', 'case'], ['capit', 'import', 'handl', 'cut'], ['deep', 'hold', 'thread', 'hand', 'odd'], ['guid', 'truth'], ['wast', 'time', 'follow', 'wrong', 'sooner', 'later'], ['come', 'right'], ['pleasant', 'luncheon', 'littl', 'say'], ['busi', 'bring', 'privat'], ['sit', 'room', 'repair', 'holm', 'ask'], ['baskervill', 'intent'], ['baskervill', 'hall'], ['week'], ['say', 'holm', 'think', 'decis'], ['wise', 'ampl', 'evid', 'dog'], ['london', 'amid', 'million', 'great', 'citi', 'difficult'], ['discov', 'peopl', 'object'], ['intent', 'evil', 'mischief'], ['powerless', 'prevent', 'know'], ['mortim', 'follow', 'morn', 'hous'], ['mortim', 'start', 'violent', 'follow'], ['unfortun', 'tell'], ['neighbour', 'acquaint', 'dartmoor'], ['black', 'beard'], ['barrymor', 'charl', 'butler'], ['black', 'beard'], ['barrymor'], ['charg', 'hall'], ['best', 'ascertain'], ['possibl', 'london'], ['telegraph', 'form', 'readi', 'henri'], ['address', 'barrymor', 'baskervill', 'hall'], ['nearest', 'telegraph', 'offic', 'grimpen', 'good', 'send'], ['second', 'wire', 'postmast', 'grimpen', 'telegram'], ['barrymor', 'deliv', 'hand', 'absent'], ['return', 'wire', 'henri', 'baskervill', 'northumberland', 'hotel'], ['know', 'even', 'barrymor'], ['post', 'devonshir'], ['say', 'baskervill', 'mortim'], ['barrymor'], ['caretak', 'dead'], ['look', 'hall', 'generat', 'know'], ['wife', 'respect', 'coupl'], ['counti'], ['time', 'say', 'baskervill', 'clear'], ['long', 'famili', 'hall', 'peopl'], ['mighti', 'fine', 'home'], ['true'], ['barrymor', 'profit', 'charl', 'ask'], ['holm'], ['wife', 'pound'], ['know', 'receiv'], ['charl', 'fond', 'talk', 'provis'], ['interest'], ['hope', 'say', 'mortim', 'look'], ['suspici', 'eye', 'receiv', 'legaci'], ['charl', 'thousand', 'pound', 'leav'], ['insignific', 'sum', 'individu', 'larg'], ['number', 'public', 'chariti', 'residu', 'go', 'henri'], ['residu'], ['seven', 'thousand', 'pound'], ['holm', 'rais', 'eyebrow', 'surpris', 'idea'], ['gigant', 'involv', 'say'], ['charl', 'reput', 'rich'], ['know', 'rich', 'come', 'examin'], ['secur', 'total', 'valu', 'estat', 'close'], ['million'], ['dear', 'stake', 'play'], ['desper', 'game', 'question', 'mortim', 'suppos'], ['happen', 'young', 'friend', 'forgiv'], ['unpleas', 'hypothesi', 'inherit', 'estat'], ['rodger', 'baskervill', 'charl', 'younger', 'brother', 'die'], ['unmarri', 'estat', 'descend', 'desmond'], ['distant', 'cousin', 'jam', 'desmond', 'elder', 'clergyman'], ['westmoreland'], ['thank', 'detail', 'great'], ['jam', 'desmond'], ['come', 'visit', 'charl'], ['vener', 'appear', 'saint', 'life', 'rememb'], ['refus', 'accept', 'settlement', 'charl'], ['press'], ['simpl', 'tast', 'heir', 'charl'], ['thousand'], ['heir', 'estat', 'entail'], ['heir', 'money', 'will'], ['present', 'owner', 'cours'], ['like'], ['henri'], ['holm', 'time'], ['yesterday', 'learn', 'matter', 'stand', 'case'], ['feel', 'money', 'titl', 'estat'], ['poor', 'uncl', 'idea', 'owner', 'go', 'restor'], ['glori', 'baskervill', 'money'], ['properti', 'hous', 'land', 'dollar'], ['henri', 'mind'], ['advis', 'go', 'devonshir', 'delay'], ['provis', 'certain'], ['mortim', 'return'], ['mortim', 'practic', 'attend', 'hous'], ['mile', 'away', 'goodwil', 'world'], ['unabl', 'help', 'henri'], ['trusti'], ['possibl', 'come', 'holm'], ['matter', 'come', 'crisi', 'endeavour', 'present'], ['person', 'understand', 'extens', 'consult'], ['practic', 'constant', 'appeal', 'reach'], ['quarter', 'imposs', 'absent', 'london'], ['indefinit', 'time', 'present', 'instant', 'rever'], ['name', 'england', 'besmirch', 'blackmail'], ['stop', 'disastr', 'scandal', 'imposs'], ['dartmoor'], ['recommend'], ['holm', 'lay', 'hand', 'friend', 'undertak'], ['better', 'worth', 'have'], ['tight', 'place', 'confid'], ['proposit', 'take', 'complet', 'surpris'], ['time', 'answer', 'baskervill', 'seiz', 'hand', 'wring'], ['heartili'], ['real', 'kind', 'watson', 'say'], ['know', 'matter'], ['come', 'baskervill', 'hall'], ['forget'], ['promis', 'adventur', 'fascin'], ['compliment', 'word', 'holm', 'eager'], ['baronet', 'hail', 'companion'], ['come', 'pleasur', 'say', 'know'], ['employ', 'time', 'better'], ['report', 'care', 'say', 'holm'], ['crisi', 'come', 'direct', 'shall'], ['suppos', 'saturday', 'readi'], ['suit', 'watson'], ['perfect'], ['saturday', 'hear', 'contrari', 'shall', 'meet'], ['thirti', 'train', 'paddington'], ['rise', 'depart', 'baskervill', 'give', 'triumph'], ['dive', 'corner', 'room', 'draw', 'brown'], ['boot', 'cabinet'], ['miss', 'boot', 'cri'], ['difficulti', 'vanish', 'easili', 'say', 'sherlock'], ['holm'], ['singular', 'thing', 'mortim', 'remark'], ['search', 'room', 'care', 'lunch'], ['say', 'baskervill', 'inch'], ['certain', 'boot'], ['case', 'waiter', 'place'], ['lunch'], ['german', 'send', 'profess', 'know'], ['matter', 'inquiri', 'clear', 'item'], ['add', 'constant', 'appar', 'purposeless', 'seri', 'small'], ['mysteri', 'succeed', 'rapid', 'set'], ['asid', 'grim', 'stori', 'charl', 'death', 'line'], ['inexplic', 'incid', 'limit', 'day'], ['includ', 'receipt', 'print', 'letter'], ['black', 'beard', 'hansom', 'loss', 'brown', 'boot'], ['loss', 'black', 'boot', 'return'], ['brown', 'boot', 'holm', 'silenc', 'drive'], ['baker', 'street', 'know', 'draw', 'brow', 'keen', 'face'], ['mind', 'like', 'busi', 'endeavour', 'frame'], ['scheme', 'strang', 'appar', 'disconnect'], ['episod', 'fit', 'afternoon', 'late', 'even'], ['lose', 'tobacco', 'think'], ['dinner', 'telegram', 'hand'], ['hear', 'barrymor', 'hall', 'baskervill'], ['second'], ['visit', 'hotel', 'direct', 'sorri', 'report'], ['unabl', 'trace', 'sheet', 'cartwright'], ['thread', 'watson'], ['stimul', 'case', 'go'], ['cast', 'round', 'scent'], ['cabman', 'drive'], ['exact', 'wire', 'address'], ['offici', 'registri', 'surpris'], ['answer', 'question'], ['ring', 'bell', 'prove'], ['satisfactori', 'answer', 'door', 'open'], ['rough', 'look', 'fellow', 'enter', 'evid'], ['messag', 'head', 'offic', 'gent', 'address'], ['inquir', 'say', 'drive'], ['seven', 'year', 'word', 'complaint', 'come'], ['straight', 'yard', 'face'], ['world', 'good', 'say'], ['holm', 'contrari', 'half', 'sovereign'], ['clear', 'answer', 'question'], ['good', 'mistak', 'say', 'cabman'], ['grin', 'want'], ['address', 'case', 'want'], ['john', 'clayton', 'turpey', 'street', 'borough'], ['shipley', 'yard', 'near', 'waterloo', 'station'], ['sherlock', 'holm', 'note'], ['clayton', 'tell', 'fare', 'come', 'watch'], ['hous', 'clock', 'morn', 'follow'], ['gentlemen', 'regent', 'street'], ['look', 'surpris', 'littl', 'embarrass'], ['good', 'tell', 'thing', 'know'], ['say', 'truth', 'gentleman', 'tell'], ['detect'], ['good', 'fellow', 'busi'], ['pretti', 'posit', 'hide'], ['fare', 'tell'], ['detect'], ['leav'], ['mention'], ['holm', 'cast', 'swift', 'glanc', 'triumph', 'mention'], ['imprud'], ['mention'], ['say', 'cabman', 'sherlock', 'holm'], ['see', 'friend', 'complet', 'take', 'aback'], ['cabman', 'repli', 'instant', 'silent', 'amaz'], ['burst', 'hearti', 'laugh'], ['touch', 'watson', 'undeni', 'touch', 'say', 'feel', 'foil'], ['quick', 'suppl', 'home', 'prettili'], ['time', 'sherlock', 'holm'], ['gentleman'], ['excel', 'tell', 'pick'], ['occur'], ['hail', 'half', 'past', 'trafalgar', 'squar', 'say'], ['detect', 'offer', 'guinea'], ['exact', 'want', 'question', 'glad'], ['agre', 'drive', 'northumberland', 'hotel'], ['wait', 'gentlemen', 'come', 'take'], ['rank', 'follow', 'pull', 'near'], ['door', 'say', 'holm'], ['couldn', 'sure', 'dare', 'fare', 'know'], ['pull', 'halfway', 'street', 'wait'], ['hour', 'half', 'gentlemen', 'pass', 'walk'], ['follow', 'baker', 'street'], ['know', 'say', 'holm'], ['quarter', 'regent', 'street'], ['gentleman', 'throw', 'trap', 'cri', 'drive'], ['right', 'away', 'waterloo', 'station', 'hard', 'whip'], ['mare', 'minut', 'pay'], ['guinea', 'like', 'good', 'away', 'go'], ['station', 'leav', 'turn', 'round', 'say'], ['know', 'drive'], ['sherlock', 'holm', 'come', 'know'], ['go', 'station'], ['sherlock', 'holm'], ['cabman', 'scratch', 'head', 'wasn', 'altogeth'], ['easi', 'gentleman', 'year'], ['middl', 'height', 'inch', 'shorter'], ['dress', 'like', 'toff', 'black', 'beard'], ['squar', 'pale', 'face', 'know'], ['colour', 'eye'], ['rememb'], ['half', 'sovereign'], ['wait', 'bring', 'inform'], ['good', 'night'], ['good', 'night', 'thank'], ['john', 'clayton', 'depart', 'chuckl', 'holm', 'turn'], ['shrug', 'shoulder', 'rueful', 'smile'], ['snap', 'go', 'thread', 'begin', 'say'], ['cun', 'rascal', 'know', 'number', 'know', 'henri'], ['baskervill', 'consult', 'spot', 'regent', 'street'], ['conjectur', 'number'], ['hand', 'driver', 'send', 'audaci', 'messag'], ['tell', 'watson', 'time', 'foeman', 'worthi'], ['steel', 'checkmat', 'london', 'wish'], ['better', 'luck', 'devonshir', 'easi', 'mind'], ['send', 'ugli', 'busi', 'watson', 'ugli'], ['danger', 'busi', 'like'], ['dear', 'fellow', 'laugh', 'word'], ['shall', 'glad', 'safe', 'sound', 'baker'], ['street'], ['chapter'], ['baskervill', 'hall'], ['henri', 'baskervill', 'mortim', 'readi'], ['appoint', 'start', 'arrang', 'devonshir'], ['sherlock', 'holm', 'drive', 'station', 'give'], ['part', 'injunct', 'advic'], ['bias', 'mind', 'suggest', 'theori', 'suspicion'], ['watson', 'say', 'wish', 'simpli', 'report', 'fact'], ['fullest', 'possibl', 'manner', 'leav'], ['theoriz'], ['sort', 'fact', 'ask'], ['bear', 'indirect'], ['case', 'especi', 'relat', 'young', 'baskervill'], ['neighbour', 'fresh', 'particular', 'concern', 'death'], ['charl', 'inquiri'], ['day', 'result', 'fear', 'negat', 'thing'], ['appear', 'certain', 'jam', 'desmond'], ['heir', 'elder', 'gentleman', 'amiabl'], ['disposit', 'persecut', 'aris'], ['think', 'elimin', 'entir'], ['calcul', 'remain', 'peopl', 'actual', 'surround'], ['henri', 'baskervill', 'moor'], ['place'], ['barrymor', 'coupl'], ['mean', 'greater', 'mistak'], ['innoc', 'cruel', 'injustic', 'guilti'], ['give', 'chanc', 'bring', 'home'], ['preserv', 'list', 'suspect'], ['groom', 'hall', 'rememb', 'right'], ['moorland', 'farmer', 'friend', 'mortim'], ['believ', 'entir', 'honest', 'wife'], ['know', 'naturalist', 'stapleton'], ['sister', 'say', 'young', 'ladi', 'attract'], ['frankland', 'lafter', 'hall', 'unknown', 'factor'], ['neighbour', 'folk'], ['special', 'studi'], ['best'], ['arm', 'suppos'], ['think'], ['certain', 'revolv', 'near', 'night'], ['relax', 'precaut'], ['friend', 'secur', 'class', 'carriag'], ['wait', 'platform'], ['news', 'kind', 'say', 'mortim', 'answer'], ['friend', 'question', 'swear', 'thing'], ['shadow', 'day'], ['go', 'keep', 'sharp', 'watch'], ['escap', 'notic'], ['keep', 'presum'], ['yesterday', 'afternoon', 'usual', 'pure'], ['amus', 'come', 'town', 'spend', 'museum'], ['colleg', 'surgeon'], ['go', 'look', 'folk', 'park', 'say', 'baskervill'], ['troubl', 'kind'], ['imprud', 'say', 'holm', 'shake', 'head'], ['look', 'grave', 'henri'], ['great', 'misfortun', 'befal'], ['boot'], ['go', 'forev'], ['interest', 'good', 'add'], ['train', 'begin', 'glide', 'platform', 'bear', 'mind'], ['henri', 'phrase', 'queer', 'legend'], ['mortim', 'read', 'avoid', 'moor', 'hour'], ['dark', 'power', 'evil', 'exalt'], ['look', 'platform', 'leav'], ['tall', 'auster', 'figur', 'holm', 'stand', 'motionless'], ['gaze'], ['journey', 'swift', 'pleasant', 'spend'], ['make', 'intim', 'acquaint', 'companion'], ['play', 'mortim', 'spaniel', 'hour'], ['brown', 'earth', 'ruddi', 'brick', 'chang', 'granit'], ['cow', 'graze', 'hedg', 'field', 'lush', 'grass'], ['luxuri', 'veget', 'speak', 'richer', 'damper'], ['climat', 'young', 'baskervill', 'star', 'eager', 'window'], ['cri', 'aloud', 'delight', 'recogn', 'familiar', 'featur'], ['devon', 'sceneri'], ['good', 'world', 'leav'], ['watson', 'say', 'see', 'place', 'compar'], ['devonshir', 'swear', 'counti'], ['remark'], ['depend', 'breed'], ['counti', 'say', 'mortim', 'glanc', 'friend', 'reveal'], ['round', 'head', 'celt', 'carri', 'insid', 'celtic'], ['enthusiasm', 'power', 'attach', 'poor', 'charl', 'head'], ['rare', 'type', 'half', 'gaelic', 'half', 'ivernian'], ['characterist', 'young'], ['baskervill', 'hall'], ['teen', 'time', 'father', 'death'], ['see', 'hall', 'live', 'littl', 'cottag'], ['south', 'coast', 'go', 'straight', 'friend', 'america'], ['tell', 'watson'], ['keen', 'possibl', 'moor'], ['wish', 'easili', 'grant'], ['sight', 'moor', 'say', 'mortim', 'point'], ['carriag', 'window'], ['green', 'squar', 'field', 'curv', 'wood'], ['rise', 'distanc', 'grey', 'melancholi', 'hill'], ['strang', 'jag', 'summit', 'vagu', 'distanc', 'like'], ['fantast', 'landscap', 'dream', 'baskervill', 'long', 'time'], ['eye', 'fix', 'read', 'eager', 'face'], ['mean', 'sight', 'strang', 'spot'], ['blood', 'hold', 'sway', 'long', 'leav', 'mark'], ['deep', 'tweed', 'suit', 'american', 'accent'], ['corner', 'prosaic', 'railway', 'carriag', 'look'], ['dark', 'express', 'face', 'felt', 'true'], ['descend', 'long', 'line', 'high', 'blood', 'fieri'], ['master', 'pride', 'valour', 'strength'], ['brow', 'sensit', 'nostril', 'larg', 'hazel', 'eye'], ['forbid', 'moor', 'difficult', 'danger', 'quest'], ['comrad'], ['ventur', 'risk', 'certainti', 'brave'], ['share'], ['train', 'pull', 'small', 'waysid', 'station'], ['descend', 'outsid', 'white', 'fenc', 'wagonett'], ['pair', 'cob', 'wait', 'come', 'evid', 'great'], ['event', 'station', 'master', 'porter', 'cluster', 'round', 'carri'], ['luggag', 'sweet', 'simpl', 'countri', 'spot'], ['surpris', 'observ', 'gate', 'stand', 'soldier'], ['dark', 'uniform', 'lean', 'short', 'rifl'], ['glanc', 'keen', 'pass', 'coachman', 'hard', 'face'], ['gnarl', 'littl', 'fellow', 'salut', 'henri', 'baskervill'], ['minut', 'fli', 'swift', 'broad', 'white', 'road'], ['roll', 'pastur', 'land', 'curv', 'upward'], ['gabl', 'hous', 'peep', 'amid', 'green', 'foliag'], ['peac', 'sunlit', 'countrysid', 'rise', 'dark'], ['even', 'long', 'gloomi', 'curv', 'moor'], ['break', 'jag', 'sinist', 'hill'], ['wagonett', 'swing', 'round', 'road', 'curv', 'upward'], ['deep', 'lane', 'wear', 'centuri', 'wheel', 'high', 'bank'], ['heavi', 'drip', 'moss', 'fleshi', 'hart', 'tongu'], ['fern', 'bronz', 'bracken', 'mottl', 'brambl', 'gleam', 'light'], ['sink', 'steadili', 'rise', 'pass'], ['narrow', 'granit', 'bridg', 'skirt', 'noisi', 'stream', 'gush'], ['swift', 'foam', 'roar', 'amid', 'grey', 'boulder'], ['road', 'stream', 'wind', 'valley', 'dens', 'scrub'], ['turn', 'baskervill', 'give', 'exclam'], ['delight', 'look', 'eager', 'ask', 'countless'], ['question', 'eye', 'beauti', 'ting'], ['melancholi', 'countrysid', 'bore', 'clear'], ['mark', 'wan', 'year', 'yellow', 'leav', 'carpet', 'lane'], ['flutter', 'pass', 'rattl', 'wheel'], ['die', 'away', 'drive', 'drift', 'rot', 'veget'], ['gift', 'natur', 'throw'], ['carriag', 'return', 'heir', 'baskervill'], ['halloa', 'cri', 'mortim'], ['steep', 'curv', 'heath', 'cloth', 'land', 'out', 'spur', 'moor'], ['summit', 'hard', 'clear', 'like'], ['equestrian', 'statu', 'pedest', 'mount', 'soldier', 'dark'], ['stern', 'rifl', 'pois', 'readi', 'forearm'], ['watch', 'road', 'travel'], ['perkin', 'ask', 'mortim'], ['driver', 'half', 'turn', 'seat', 'convict', 'escap'], ['princetown', 'day'], ['warder', 'watch', 'road', 'station'], ['sight', 'farmer', 'like'], ['fact'], ['understand', 'pound'], ['inform'], ['chanc', 'pound', 'poor', 'thing'], ['compar', 'chanc', 'have', 'throat'], ['like', 'ordinari', 'convict', 'stick'], ['selden', 'not', 'hill', 'murder'], ['rememb', 'case', 'holm'], ['take', 'account', 'peculiar', 'feroc'], ['crime', 'wanton', 'brutal', 'mark', 'action'], ['assassin', 'commut', 'death', 'sentenc'], ['doubt', 'complet', 'saniti', 'atroci'], ['conduct', 'wagonett', 'top', 'rise'], ['rise', 'huge', 'expans', 'moor', 'mottl', 'gnarl'], ['craggi', 'cairn', 'tor', 'cold', 'wind', 'sweep'], ['shiver', 'desol', 'plain', 'lurk'], ['fiendish', 'hide', 'burrow', 'like', 'wild', 'beast'], ['heart', 'malign', 'race', 'cast'], ['need', 'complet', 'grim', 'suggest'], ['barren', 'wast', 'chill', 'wind', 'darkl'], ['baskervill', 'fell', 'silent', 'pull', 'overcoat', 'close'], ['leav', 'fertil', 'countri', 'beneath', 'look'], ['slant', 'ray', 'turn'], ['stream', 'thread', 'gold', 'glow', 'earth'], ['turn', 'plough', 'broad', 'tangl', 'woodland'], ['road', 'grow', 'bleaker', 'wilder', 'huge', 'russet'], ['oliv', 'slop', 'sprinkl', 'giant', 'boulder'], ['pass', 'moorland', 'cottag', 'wall', 'roof', 'stone'], ['creeper', 'break', 'harsh', 'outlin', 'sudden', 'look'], ['cuplik', 'depress', 'patch', 'stunt', 'oak', 'fir'], ['twist', 'bend', 'furi', 'year', 'storm'], ['high', 'narrow', 'tower', 'rise', 'tree', 'driver', 'point'], ['whip'], ['baskervill', 'hall', 'say'], ['master', 'rise', 'star', 'flush', 'cheek'], ['shin', 'eye', 'minut', 'later', 'reach', 'lodg', 'gate'], ['maze', 'fantast', 'traceri', 'work', 'iron', 'weather', 'bite'], ['pillar', 'blotch', 'lichen', 'surmount'], ['boar', 'head', 'baskervill', 'lodg', 'ruin'], ['black', 'granit', 'bar', 'rib', 'rafter', 'face'], ['build', 'half', 'construct', 'fruit', 'charl'], ['south', 'african', 'gold'], ['gateway', 'pass', 'avenu', 'wheel'], ['hush', 'amid', 'leav', 'tree', 'shoot'], ['branch', 'sombr', 'tunnel', 'head', 'baskervill', 'shudder'], ['look', 'long', 'dark', 'drive', 'hous', 'glimmer'], ['like', 'ghost', 'farther'], ['ask', 'voic'], ['alley'], ['young', 'heir', 'glanc', 'round', 'gloomi', 'face'], ['wonder', 'uncl', 'felt', 'troubl', 'come'], ['place', 'say', 'scare'], ['electr', 'lamp', 'insid', 'month'], ['know', 'thousand', 'candl', 'power', 'swan'], ['edison', 'right', 'hall', 'door'], ['avenu', 'open', 'broad', 'expans', 'turf', 'hous'], ['fade', 'light', 'centr'], ['heavi', 'block', 'build', 'porch', 'project'], ['drape', 'patch', 'clip', 'bare'], ['window', 'coat', 'arm', 'break', 'dark', 'veil'], ['central', 'block', 'rise', 'twin', 'tower', 'ancient'], ['crenel', 'pierc', 'loophol', 'right', 'leav'], ['turret', 'modern', 'wing', 'black', 'granit', 'dull', 'light'], ['shine', 'heavi', 'mullion', 'window', 'high', 'chimney'], ['rise', 'steep', 'high', 'angl', 'roof', 'spring', 'singl'], ['black', 'column', 'smoke'], ['welcom', 'henri', 'welcom', 'baskervill', 'hall'], ['tall', 'step', 'shadow', 'porch', 'open'], ['door', 'wagonett', 'figur', 'woman', 'silhouett'], ['yellow', 'light', 'hall', 'come', 'help'], ['hand', 'bag'], ['mind', 'drive', 'straight', 'home', 'henri', 'say'], ['mortim', 'wife', 'expect'], ['sure', 'stay', 'dinner'], ['shall', 'probabl', 'work', 'await'], ['stay', 'hous', 'barrymor'], ['better', 'guid', 'good', 'hesit', 'night'], ['send', 'servic'], ['wheel', 'die', 'away', 'drive', 'henri', 'turn'], ['hall', 'door', 'clang', 'heavili'], ['fine', 'apart', 'larg', 'lofti'], ['heavili', 'rafter', 'huge', 'baulk', 'blacken'], ['great', 'fashion', 'fireplac', 'high', 'iron', 'dog'], ['crackl', 'snap', 'henri', 'hold', 'hand'], ['numb', 'long', 'drive', 'gaze', 'round'], ['high', 'window', 'stain', 'glass'], ['panel', 'stag', 'head', 'coat', 'arm', 'wall'], ['sombr', 'subdu', 'light', 'central', 'lamp'], ['imagin', 'say', 'henri'], ['pictur', 'famili', 'home', 'think'], ['hall', 'year', 'peopl', 'live'], ['strike', 'solemn', 'think'], ['dark', 'face', 'boyish', 'enthusiasm', 'gaze'], ['light', 'beat', 'stand', 'long'], ['shadow', 'trail', 'wall', 'hang', 'like', 'black', 'canopi'], ['barrymor', 'return', 'take', 'luggag', 'room'], ['stand', 'subdu', 'manner'], ['train', 'servant', 'remark', 'look', 'tall'], ['handsom', 'squar', 'black', 'beard', 'pale', 'distinguish'], ['featur'], ['wish', 'dinner', 'serv'], ['readi'], ['minut', 'water'], ['room', 'wife', 'happi', 'henri', 'stay'], ['fresh', 'arrang'], ['understand', 'condit', 'hous', 'requir'], ['consider', 'staff'], ['condit'], ['mean', 'charl', 'retir', 'life'], ['abl', 'look', 'want', 'natur', 'wish'], ['compani', 'need', 'chang'], ['household'], ['mean', 'wife', 'wish', 'leav'], ['conveni'], ['famili', 'generat'], ['sorri', 'begin', 'life', 'break'], ['famili', 'connect'], ['discern', 'sign', 'emot', 'butler', 'white'], ['face'], ['feel', 'wife', 'tell'], ['truth', 'attach', 'charl'], ['death', 'give', 'shock', 'surround'], ['pain', 'fear', 'shall', 'easi'], ['mind', 'baskervill', 'hall'], ['intend'], ['doubt', 'shall', 'succeed', 'establish'], ['busi', 'charl', 'generos', 'give'], ['mean', 'best'], ['room'], ['squar', 'balustrad', 'galleri', 'round', 'hall'], ['approach', 'doubl', 'stair', 'central', 'point', 'long'], ['corridor', 'extend', 'length', 'build'], ['bedroom', 'open', 'wing'], ['baskervill', 'door', 'room', 'appear'], ['modern', 'central', 'hous'], ['bright', 'paper', 'numer', 'candl', 'remov'], ['sombr', 'impress', 'arriv', 'leav', 'mind'], ['din', 'room', 'open', 'hall', 'place'], ['shadow', 'gloom', 'long', 'chamber', 'step', 'separ'], ['dai', 'famili', 'lower', 'portion', 'reserv'], ['depend', 'minstrel', 'galleri', 'overlook'], ['black', 'beam', 'shoot', 'head', 'smoke', 'darken'], ['ceil', 'row', 'flare', 'torch', 'light'], ['colour', 'rude', 'hilar', 'time', 'banquet'], ['soften', 'black', 'cloth', 'gentlemen'], ['littl', 'circl', 'light', 'throw', 'shade', 'lamp', 'voic'], ['hush', 'spirit', 'subdu', 'line', 'ancestor'], ['varieti', 'dress', 'elizabethan', 'knight'], ['buck', 'regenc', 'star', 'daunt'], ['silent', 'compani', 'talk', 'littl', 'glad'], ['meal', 'abl', 'retir', 'modern'], ['billiard', 'room', 'smoke', 'cigarett'], ['word', 'cheer', 'place', 'say', 'henri'], ['suppos', 'tone', 'feel'], ['pictur', 'present', 'wonder', 'uncl', 'littl'], ['jumpi', 'live', 'hous'], ['suit', 'retir', 'earli', 'tonight', 'thing'], ['cheer', 'morn'], ['draw', 'asid', 'curtain', 'go', 'look'], ['window', 'open', 'grassi', 'space'], ['hall', 'door', 'cop', 'tree', 'moan', 'swing'], ['rise', 'wind', 'half', 'moon', 'break', 'rift', 'race'], ['cloud', 'cold', 'light', 'tree', 'break', 'fring'], ['rock', 'long', 'curv', 'melancholi', 'moor'], ['close', 'curtain', 'feel', 'impress'], ['keep', 'rest'], ['weari'], ['wake', 'toss', 'restless', 'seek'], ['sleep', 'come', 'away', 'chime', 'clock', 'strike'], ['quarter', 'hour', 'death', 'silenc'], ['hous', 'sudden', 'dead'], ['night', 'come', 'sound', 'ear', 'clear', 'reson'], ['unmistak', 'woman', 'muffl', 'strangl'], ['gasp', 'tear', 'uncontrol', 'sorrow'], ['listen', 'intent', 'nois', 'away'], ['certain', 'hous', 'half', 'hour', 'wait'], ['nerv', 'alert', 'come', 'sound', 'save'], ['chime', 'clock', 'rustl', 'wall'], ['chapter'], ['stapleton', 'merripit', 'hous'], ['fresh', 'beauti', 'follow', 'morn', 'effac'], ['mind', 'grim', 'grey', 'impress', 'leav'], ['experi', 'baskervill', 'hall'], ['henri', 'breakfast', 'sunlight', 'flood'], ['high', 'mullion', 'window', 'throw', 'wateri', 'patch', 'colour'], ['coat', 'arm', 'cover', 'dark', 'panel'], ['glow', 'like', 'bronz', 'golden', 'ray', 'hard', 'realis'], ['chamber', 'strike', 'gloom'], ['soul', 'even'], ['guess', 'hous'], ['blame', 'say', 'baronet', 'tire', 'journey'], ['chill', 'drive', 'take', 'grey', 'view', 'place'], ['fresh', 'cheer'], ['entir', 'question', 'imagin'], ['answer', 'exampl', 'happen', 'hear', 'woman'], ['think', 'sob', 'night'], ['curious', 'half', 'asleep', 'fanci'], ['hear', 'sort', 'wait', 'time'], ['conclud', 'dream'], ['hear', 'distinct', 'sure'], ['woman'], ['right', 'away', 'ring', 'bell', 'ask'], ['barrymor', 'account', 'experi'], ['pallid', 'featur', 'butler', 'turn', 'shade', 'paler'], ['listen', 'master', 'question'], ['women', 'hous', 'henri', 'answer'], ['sculleri', 'maid', 'sleep', 'wing'], ['wife', 'answer', 'sound'], ['come'], ['lie', 'say', 'chanc'], ['breakfast', 'barrymor', 'long', 'corridor'], ['face', 'larg', 'impass', 'heavi', 'featur'], ['woman', 'stern', 'express', 'mouth', 'telltal', 'eye'], ['glanc', 'swell', 'lid'], ['weep', 'night', 'husband'], ['know', 'take', 'obvious', 'risk', 'discoveri'], ['declar'], ['weep', 'bitter', 'round', 'pale', 'face', 'handsom'], ['black', 'beard', 'gather', 'atmospher', 'mysteri'], ['gloom', 'discov'], ['bodi', 'charl', 'word'], ['circumst', 'death'], ['possibl', 'barrymor', 'see'], ['regent', 'street', 'beard'], ['cabman', 'describ', 'somewhat', 'shorter'], ['impress', 'easili', 'erron'], ['settl', 'point', 'forev', 'obvious', 'thing'], ['grimpen', 'postmast', 'test', 'telegram'], ['place', 'barrymor', 'hand', 'answer'], ['report', 'sherlock'], ['holm'], ['henri', 'numer', 'paper', 'examin', 'breakfast'], ['time', 'propiti', 'excurs', 'pleasant', 'walk'], ['mile', 'edg', 'moor', 'lead'], ['small', 'grey', 'hamlet', 'larger', 'build', 'prove'], ['hous', 'mortim', 'stand', 'high'], ['rest', 'postmast', 'villag', 'grocer'], ['clear', 'recollect', 'telegram'], ['certain', 'say', 'telegram', 'deliv'], ['barrymor', 'exact', 'direct'], ['deliv'], ['jam', 'deliv', 'telegram', 'barrymor'], ['hall', 'week'], ['father', 'deliv'], ['hand', 'ask'], ['loft', 'time'], ['hand', 'give', 'barrymor', 'hand'], ['promis', 'deliv'], ['barrymor'], ['tell', 'loft'], ['know', 'loft'], ['sure', 'wife', 'ought', 'know', 'say'], ['postmast', 'testili', 'telegram'], ['mistak', 'barrymor', 'complain'], ['hopeless', 'pursu', 'inquiri', 'farther'], ['clear', 'spite', 'holm', 'ruse', 'proof'], ['barrymor', 'london', 'time', 'suppos'], ['suppos', 'see'], ['charl', 'aliv', 'heir'], ['return', 'england', 'agent'], ['sinist', 'design'], ['persecut', 'baskervill', 'famili', 'think', 'strang'], ['warn', 'clip', 'lead', 'articl'], ['work', 'possibl'], ['bend', 'counteract', 'scheme', 'conceiv', 'motiv'], ['suggest', 'henri'], ['famili', 'scar', 'away', 'comfort', 'perman', 'home'], ['secur', 'barrymor', 'sure'], ['explan', 'inadequ', 'account'], ['deep', 'subtl', 'scheme', 'weav', 'invis'], ['round', 'young', 'baronet', 'holm', 'say'], ['complex', 'case', 'come', 'long', 'seri'], ['sensat', 'investig', 'pray', 'walk'], ['grey', 'lone', 'road', 'friend', 'soon', 'free'], ['preoccup', 'abl', 'come', 'heavi', 'burden'], ['respons', 'shoulder'], ['sudden', 'thought', 'interrupt', 'sound', 'run'], ['feet', 'voic', 'call', 'turn'], ['expect', 'mortim', 'surpris'], ['stranger', 'pursu', 'small', 'slim', 'clean', 'shave'], ['prim', 'face', 'flaxen', 'hair', 'lean', 'jaw', 'thirti'], ['year', 'dress', 'grey', 'suit', 'wear', 'straw'], ['botan', 'specimen', 'hang', 'shoulder'], ['carri', 'green', 'butterfli', 'hand'], ['sure', 'excus', 'presumpt', 'watson', 'say'], ['come', 'pant', 'stand', 'moor'], ['home', 'folk', 'wait', 'formal', 'introduct'], ['possibl', 'hear', 'mutual', 'friend', 'mortim'], ['stapleton', 'merripit', 'hous'], ['tell', 'say'], ['know', 'stapleton', 'naturalist', 'know'], ['call', 'mortim', 'point'], ['window', 'surgeri', 'pass', 'road'], ['think', 'overtak', 'introduc'], ['trust', 'henri', 'wors'], ['journey'], ['thank'], ['afraid', 'death'], ['charl', 'baronet', 'refus', 'live', 'ask'], ['wealthi', 'come', 'buri', 'place'], ['kind', 'need', 'tell', 'mean', 'great'], ['deal', 'countrysid', 'henri', 'suppos'], ['superstiti', 'fear', 'matter'], ['think', 'like'], ['cours', 'know', 'legend', 'fiend', 'haunt'], ['famili'], ['hear'], ['extraordinari', 'credul', 'peasant'], ['number', 'readi', 'swear', 'see'], ['creatur', 'moor', 'speak', 'smile'], ['read', 'eye', 'take', 'matter', 'serious'], ['stori', 'take', 'great', 'hold', 'imagin', 'charl'], ['doubt', 'tragic'], ['nerv', 'work', 'appear'], ['fatal', 'effect', 'diseas', 'heart', 'fanci'], ['kind', 'night'], ['alley', 'fear', 'disast', 'occur'], ['fond', 'know', 'heart'], ['weak'], ['know'], ['friend', 'mortim', 'tell'], ['think', 'pursu', 'charl'], ['die', 'fright', 'consequ'], ['better', 'explan'], ['come', 'conclus'], ['sherlock', 'holm'], ['word', 'take', 'away', 'breath', 'instant', 'glanc'], ['placid', 'face', 'steadfast', 'eye', 'companion', 'show'], ['surpris', 'intend'], ['useless', 'pretend', 'know'], ['watson', 'say', 'record', 'detect', 'reach'], ['celebr', 'know'], ['mortim', 'tell', 'deni'], ['ident', 'follow', 'sherlock'], ['holm', 'interest', 'matter', 'natur'], ['curious', 'know', 'view'], ['afraid', 'answer', 'question'], ['go', 'honour', 'visit'], ['leav', 'town', 'present', 'case', 'engag'], ['attent'], ['piti', 'throw', 'light', 'dark'], ['research', 'possibl'], ['servic', 'trust'], ['command', 'indic', 'natur'], ['suspicion', 'propos', 'investig', 'case'], ['advic'], ['assur', 'simpli', 'visit', 'friend'], ['henri', 'need', 'help', 'kind'], ['excel', 'say', 'stapleton', 'perfect', 'right', 'wari'], ['discreet', 'just', 'reprov', 'feel'], ['unjustifi', 'intrus', 'promis'], ['mention', 'matter'], ['come', 'point', 'narrow', 'grassi', 'path', 'strike'], ['road', 'wind', 'away', 'moor', 'steep'], ['boulder', 'sprinkl', 'hill', 'right', 'bygon'], ['day', 'granit', 'quarri', 'face', 'turn'], ['form', 'dark', 'cliff', 'fern', 'brambl', 'grow'], ['nich', 'distant', 'rise', 'float', 'grey'], ['plume', 'smoke'], ['moder', 'walk', 'moor', 'path', 'bring', 'merripit'], ['hous', 'say', 'spare', 'hour'], ['pleasur', 'introduc', 'sister'], ['think', 'henri'], ['rememb', 'pile', 'paper', 'bill'], ['studi', 'tabl', 'litter', 'certain', 'help'], ['holm', 'expressli', 'say', 'studi'], ['neighbour', 'moor', 'accept', 'stapleton', 'invit'], ['turn', 'path'], ['wonder', 'place', 'moor', 'say', 'look', 'round'], ['undul', 'down', 'long', 'green', 'roller', 'crest', 'jag'], ['granit', 'foam', 'fantast', 'surg', 'tire'], ['moor', 'think', 'wonder', 'secret', 'contain'], ['vast', 'barren', 'mysteri'], ['know'], ['year', 'resid'], ['newcom', 'come', 'short', 'charl', 'settl'], ['tast', 'explor', 'countri', 'round'], ['think', 'know', 'better'], ['hard', 'know'], ['hard', 'exampl', 'great', 'plain', 'north'], ['queer', 'hill', 'break', 'observ'], ['remark'], ['rare', 'place', 'gallop'], ['natur', 'think', 'think', 'cost'], ['live', 'notic', 'bright', 'green', 'spot'], ['scatter', 'thick'], ['fertil', 'rest'], ['stapleton', 'laugh', 'great', 'grimpen', 'mire', 'say'], ['fals', 'step', 'yonder', 'mean', 'death', 'beast', 'yesterday'], ['moor', 'poni', 'wander', 'come'], ['head', 'long', 'time', 'crane', 'hole'], ['suck', 'season'], ['danger', 'cross', 'autumn', 'rain', 'aw'], ['place', 'heart'], ['return', 'aliv', 'georg', 'miser'], ['poni'], ['brown', 'roll', 'toss', 'green', 'sedg'], ['long', 'agonis', 'writh', 'neck', 'shoot', 'upward', 'dread'], ['echo', 'moor', 'turn', 'cold', 'horror'], ['companion', 'nerv', 'stronger'], ['go', 'say', 'mire', 'day'], ['go'], ['weather', 'know', 'differ', 'mire'], ['clutch', 'place', 'great', 'grimpen', 'mire'], ['penetr'], ['path', 'activ'], ['wish', 'horribl', 'place'], ['hill', 'island'], ['side', 'impass', 'mire', 'crawl', 'round'], ['cours', 'year', 'rare', 'plant'], ['butterfli', 'reach'], ['shall', 'luck'], ['look', 'surpris', 'face', 'sake'], ['idea', 'mind', 'say', 'blood'], ['head', 'assur', 'chanc'], ['come', 'aliv', 'rememb', 'certain', 'complex'], ['landmark', 'abl'], ['halloa', 'cri'], ['long', 'moan', 'indescrib', 'sweep', 'moor'], ['fill', 'imposs'], ['come', 'dull', 'murmur', 'swell', 'deep', 'roar'], ['sink', 'melancholi', 'throb', 'murmur'], ['stapleton', 'look', 'curious', 'express', 'face'], ['queer', 'place', 'moor', 'say'], ['peasant', 'hound', 'baskervill', 'call'], ['prey', 'hear', 'twice'], ['loud'], ['look', 'round', 'chill', 'fear', 'heart', 'huge'], ['swell', 'plain', 'mottl', 'green', 'patch', 'rush'], ['stir', 'vast', 'expans', 'save', 'pair', 'raven'], ['croak', 'loud'], ['educ', 'believ', 'nonsens'], ['say', 'think', 'caus', 'strang'], ['sound'], ['bog', 'queer', 'nois', 'settl'], ['water', 'rise'], ['live', 'voic'], ['hear', 'bittern', 'boom'], ['rare', 'bird', 'practic', 'extinct', 'england'], ['thing', 'possibl', 'moor'], ['surpris', 'learn', 'hear'], ['bittern'], ['weirdest', 'strangest', 'thing', 'hear'], ['life'], ['uncanni', 'place', 'altogeth', 'look'], ['hillsid', 'yonder'], ['steep', 'slope', 'cover', 'grey', 'circular', 'ring'], ['stone', 'score'], ['sheep', 'pen'], ['home', 'worthi', 'ancestor', 'prehistor'], ['live', 'thick', 'moor', 'particular', 'live'], ['littl', 'arrang', 'exact'], ['leav', 'wigwam', 'roof'], ['hearth', 'couch', 'curios'], ['insid'], ['town', 'inhabit'], ['neolith', 'date'], ['graze', 'cattl', 'slop', 'learn'], ['bronz', 'sword', 'begin', 'supersed', 'stone', 'look'], ['great', 'trench', 'opposit', 'hill', 'mark'], ['singular', 'point', 'moor'], ['watson', 'excus', 'instant', 'sure', 'cyclopid'], ['small', 'moth', 'flutter', 'path'], ['instant', 'stapleton', 'rush', 'extraordinari', 'energi', 'speed'], ['pursuit', 'dismay', 'creatur', 'fli', 'straight'], ['great', 'mire', 'acquaint', 'paus', 'instant'], ['bound', 'tuft', 'tuft', 'green', 'wave'], ['grey', 'cloth', 'jerki', 'zigzag', 'irregular', 'progress'], ['unlik', 'huge', 'moth', 'stand', 'watch'], ['pursuit', 'mixtur', 'admir', 'extraordinari'], ['activ', 'fear', 'lest', 'lose', 'foot'], ['treacher', 'mire', 'hear', 'sound', 'step', 'turn'], ['round', 'woman', 'near', 'path', 'come'], ['direct', 'plume', 'smoke', 'indic', 'posit'], ['merripit', 'hous', 'moor'], ['close'], ['doubt', 'miss', 'stapleton'], ['tell', 'ladi', 'sort', 'moor'], ['rememb', 'hear'], ['beauti', 'woman', 'approach', 'certain'], ['uncommon', 'type', 'greater', 'contrast'], ['brother', 'sister', 'stapleton', 'neutral', 'tint'], ['light', 'hair', 'grey', 'eye', 'darker'], ['brunett', 'see', 'england', 'slim', 'eleg', 'tall'], ['proud', 'fine', 'face', 'regular'], ['impass', 'sensit', 'mouth'], ['beauti', 'dark', 'eager', 'eye', 'perfect', 'figur', 'eleg'], ['dress', 'strang', 'apparit', 'lone'], ['moorland', 'path', 'eye', 'brother', 'turn'], ['quicken', 'pace', 'rais'], ['explanatori', 'remark', 'word', 'turn'], ['thought', 'channel'], ['say', 'straight', 'london', 'instant'], ['stare', 'stupid', 'surpris', 'eye', 'blaze'], ['tap', 'grind', 'impati', 'foot'], ['ask'], ['explain', 'speak', 'eager', 'voic'], ['curious', 'lisp', 'utter', 'sake'], ['foot', 'moor'], ['come'], ['cri', 'tell', 'warn'], ['good', 'london', 'start', 'tonight', 'away'], ['place', 'cost', 'hush', 'brother', 'come', 'word'], ['say', 'mind', 'get', 'orchid'], ['mare', 'tail', 'yonder', 'rich', 'orchid'], ['moor', 'cours', 'late', 'beauti'], ['place'], ['stapleton', 'abandon', 'chase', 'come', 'breath'], ['hard', 'flush', 'exert'], ['halloa', 'beryl', 'say', 'tone'], ['greet', 'altogeth', 'cordial'], ['jack'], ['chase', 'cyclopid', 'rare', 'seldom'], ['late', 'autumn', 'piti', 'miss'], ['speak', 'unconcern', 'small', 'light', 'eye', 'glanc'], ['incess', 'girl'], ['introduc'], ['tell', 'henri', 'late'], ['true', 'beauti', 'moor'], ['think'], ['imagin', 'henri', 'baskervill'], ['say', 'humbl', 'common', 'friend'], ['watson'], ['flush', 'vexat', 'pass', 'express', 'face'], ['talk', 'cross', 'purpos', 'say'], ['time', 'talk', 'brother', 'remark'], ['question', 'eye'], ['talk', 'watson', 'resid', 'instead'], ['mere', 'visitor', 'say', 'matter'], ['earli', 'late', 'orchid', 'come'], ['merripit', 'hous'], ['short', 'walk', 'bring', 'bleak', 'moorland', 'hous'], ['farm', 'grazier', 'prosper', 'day'], ['repair', 'turn', 'modern', 'dwell', 'orchard', 'surround'], ['tree', 'usual', 'moor', 'stunt'], ['nip', 'effect', 'place', 'mean'], ['melancholi', 'admit', 'strang', 'wizen', 'rusti', 'coat'], ['manserv', 'keep', 'hous', 'insid'], ['larg', 'room', 'furnish', 'eleg'], ['recogn', 'tast', 'ladi', 'look'], ['window', 'intermin', 'granit', 'fleck', 'moor'], ['roll', 'unbroken', 'farthest', 'horizon', 'marvel'], ['bring', 'high', 'educ'], ['beauti', 'woman', 'live', 'place'], ['queer', 'spot', 'choos', 'say', 'answer'], ['think', 'manag', 'fair', 'happi'], ['beryl'], ['happi', 'say', 'ring', 'convict'], ['word'], ['school', 'say', 'stapleton', 'north', 'countri'], ['work', 'tempera', 'mechan'], ['uninterest', 'privileg', 'live', 'youth', 'help'], ['mould', 'young', 'mind', 'impress'], ['charact', 'ideal', 'dear', 'fat'], ['epidem', 'break', 'school'], ['boy', 'die', 'recov', 'blow'], ['capit', 'irretriev', 'swallow'], ['loss', 'charm', 'companionship', 'boy'], ['rejoic', 'misfortun', 'strong', 'tast'], ['botani', 'zoolog', 'unlimit', 'field', 'work'], ['sister', 'devot', 'natur'], ['watson', 'bring', 'head', 'express'], ['survey', 'moor', 'window'], ['certain', 'cross', 'mind', 'littl'], ['dull', 'sister'], ['dull', 'say', 'quick'], ['book', 'studi', 'interest'], ['neighbour', 'mortim', 'learn', 'line'], ['poor', 'charl', 'admir', 'companion', 'know'], ['miss', 'tell', 'think'], ['intrud', 'afternoon'], ['acquaint', 'henri'], ['sure', 'delight'], ['mention', 'propos'], ['humbl', 'thing', 'easi'], ['accustom', 'surround'], ['come', 'upstair', 'watson', 'inspect', 'collect'], ['lepidoptera', 'think', 'complet'], ['south', 'west', 'england', 'time', 'look'], ['lunch', 'readi'], ['eager', 'charg', 'melancholi'], ['moor', 'death', 'unfortun', 'poni', 'weird', 'sound'], ['associ', 'grim', 'legend', 'baskervill'], ['thing', 'ting', 'thought', 'sad'], ['vagu', 'impress', 'come', 'definit'], ['distinct', 'warn', 'miss', 'stapleton', 'deliv'], ['intens', 'earnest', 'doubt', 'grave'], ['deep', 'reason', 'resist', 'pressur', 'stay'], ['lunch', 'return', 'journey', 'take'], ['grass', 'grow', 'path', 'come'], ['short'], ['know', 'reach', 'road'], ['astound', 'miss', 'stapleton', 'sit', 'rock'], ['track', 'face', 'beauti', 'flush', 'exert'], ['hold', 'hand'], ['order', 'watson'], ['say', 'time', 'stop'], ['brother', 'miss', 'want', 'sorri'], ['stupid', 'mistak', 'think'], ['henri', 'forget', 'word', 'say', 'applic'], ['forget', 'miss', 'stapleton', 'say'], ['henri', 'friend', 'welfar', 'close', 'concern'], ['tell', 'eager', 'henri'], ['return', 'london'], ['woman', 'whim', 'watson', 'know', 'better'], ['understand', 'reason'], ['rememb', 'thrill', 'voic', 'rememb', 'look'], ['eye', 'frank', 'miss', 'stapleton'], ['conscious', 'shadow'], ['round', 'life', 'like', 'great', 'grimpen', 'mire'], ['littl', 'green', 'patch', 'sink'], ['guid', 'point', 'track', 'tell'], ['mean', 'promis', 'convey', 'warn', 'henri'], ['express', 'irresolut', 'pass', 'instant'], ['face', 'eye', 'harden', 'answer'], ['watson', 'say', 'brother'], ['shock', 'death', 'charl', 'know'], ['intim', 'favourit', 'walk', 'moor'], ['hous', 'deepli', 'impress', 'curs', 'hang'], ['famili', 'tragedi', 'come', 'natur', 'felt'], ['ground', 'fear', 'express'], ['distress', 'member', 'famili', 'come'], ['live', 'felt', 'warn', 'danger'], ['intend', 'convey'], ['danger'], ['know', 'stori', 'hound'], ['believ', 'nonsens'], ['influenc', 'henri'], ['away', 'place', 'fatal', 'famili'], ['world', 'wide', 'wish', 'live', 'place'], ['danger'], ['place', 'danger', 'henri', 'natur'], ['fear', 'definit', 'inform'], ['imposs'], ['definit', 'know'], ['definit'], ['question', 'miss', 'stapleton', 'mean'], ['speak'], ['wish', 'brother', 'overhear', 'say'], ['object'], ['brother', 'anxious', 'hall', 'inhabit'], ['think', 'good', 'poor', 'folk', 'moor'], ['angri', 'know', 'say'], ['induc', 'henri', 'away', 'duti'], ['miss'], ['suspect', 'see', 'good', 'turn'], ['disappear', 'minut', 'scatter', 'boulder'], ['soul', 'vagu', 'fear', 'pursu'], ['baskervill', 'hall'], ['chapter'], ['report', 'watson'], ['point', 'onward', 'follow', 'cours', 'event'], ['transcrib', 'letter', 'sherlock', 'holm'], ['tabl', 'page', 'miss'], ['exact', 'write', 'feel', 'suspicion'], ['moment', 'accur', 'memori', 'clear'], ['tragic', 'event', 'possibl'], ['baskervill', 'hall', 'octob'], ['dear', 'holm'], ['previous', 'letter', 'telegram', 'keep', 'pretti'], ['date', 'occur', 'forsak', 'corner'], ['world', 'longer', 'stay', 'spirit'], ['moor', 'sink', 'soul', 'vast', 'grim'], ['charm', 'bosom', 'leav'], ['trace', 'modern', 'england', 'hand'], ['conscious', 'home', 'work'], ['prehistor', 'peopl', 'side', 'walk'], ['hous', 'forget', 'folk', 'grave', 'huge'], ['monolith', 'suppos', 'mark', 'templ'], ['look', 'grey', 'stone', 'hut', 'scar', 'hillsid'], ['leav'], ['skin', 'cloth', 'hairi', 'crawl', 'door', 'fit'], ['flint', 'tip', 'arrow', 'string', 'feel'], ['presenc', 'natur'], ['strang', 'thing', 'live', 'thick'], ['unfruit', 'soil', 'antiquarian'], ['imagin', 'unwarlik', 'harri'], ['race', 'forc', 'accept'], ['occupi'], ['foreign', 'mission', 'send'], ['probabl', 'uninterest', 'sever'], ['practic', 'mind', 'rememb', 'complet', 'indiffer'], ['move', 'round', 'earth', 'earth', 'round'], ['return', 'fact', 'concern'], ['henri', 'baskervill'], ['report', 'day'], ['today', 'import', 'relat'], ['surpris', 'circumst', 'occur', 'shall', 'tell'], ['cours', 'touch'], ['factor', 'situat'], ['concern', 'say', 'littl', 'escap'], ['convict', 'moor', 'strong', 'reason', 'believ'], ['right', 'away', 'consider', 'relief'], ['lone', 'household', 'district', 'fortnight', 'pass'], ['flight', 'see'], ['hear', 'sure', 'inconceiv'], ['hold', 'moor', 'time', 'cours'], ['conceal', 'go', 'difficulti'], ['stone', 'hut', 'hide', 'place'], ['catch', 'slaughter'], ['moor', 'sheep', 'think', 'go'], ['out', 'farmer', 'sleep', 'better', 'consequ'], ['abl', 'bodi', 'household'], ['good', 'care', 'confess', 'uneasi'], ['moment', 'think', 'stapleton', 'live', 'mile'], ['help', 'maid', 'manserv', 'sister'], ['brother', 'strong'], ['helpless', 'hand', 'desper', 'fellow', 'like', 'not'], ['hill', 'crimin', 'effect', 'entranc', 'henri'], ['concern', 'situat', 'suggest'], ['perkin', 'groom', 'sleep'], ['stapleton', 'hear'], ['fact', 'friend', 'baronet', 'begin', 'display'], ['consider', 'fair', 'neighbour'], ['wonder', 'time', 'hang', 'heavili', 'lone', 'spot'], ['activ', 'like', 'fascin', 'beauti'], ['woman', 'tropic', 'exot'], ['form', 'singular', 'contrast', 'cool', 'unemot', 'brother'], ['give', 'idea', 'hide', 'fire', 'certain'], ['mark', 'influenc', 'see', 'continu'], ['glanc', 'talk', 'seek', 'approb'], ['say', 'trust', 'kind', 'glitter'], ['eye', 'firm', 'lip', 'go'], ['posit', 'possibl', 'harsh', 'natur'], ['interest', 'studi'], ['come', 'baskervill'], ['morn', 'take', 'spot'], ['legend', 'wick', 'hugo', 'suppos', 'origin'], ['excurs', 'mile', 'moor', 'place'], ['dismal', 'suggest', 'stori'], ['short', 'valley', 'rug', 'tor', 'open', 'grassi'], ['space', 'fleck', 'white', 'cotton', 'grass', 'middl'], ['rise', 'great', 'stone', 'wear', 'sharpen', 'upper'], ['look', 'like', 'huge', 'corrod', 'fang', 'monstrous'], ['beast', 'correspond', 'scene'], ['tragedi', 'henri', 'interest', 'ask', 'stapleton'], ['believ', 'possibl'], ['interfer', 'supernatur', 'affair', 'speak'], ['light', 'evid', 'earnest'], ['stapleton', 'guard', 'repli', 'easi'], ['say', 'express'], ['opinion', 'consider', 'feel'], ['baronet', 'tell', 'similar', 'case', 'famili', 'suffer'], ['evil', 'influenc', 'leav', 'impress'], ['share', 'popular', 'view', 'matter'], ['stay', 'lunch', 'merripit', 'hous'], ['henri', 'acquaint', 'miss', 'stapleton'], ['moment', 'appear', 'strong'], ['attract', 'mistak', 'feel'], ['mutual', 'refer', 'walk', 'home'], ['hard', 'pass', 'see'], ['brother', 'sister', 'dine', 'tonight'], ['talk', 'go', 'week'], ['imagin', 'match', 'welcom', 'stapleton'], ['catch', 'look', 'strongest'], ['disapprob', 'face', 'henri', 'pay'], ['attent', 'sister', 'attach', 'doubt'], ['lead', 'lone', 'life'], ['height', 'selfish', 'stand'], ['make', 'brilliant', 'marriag', 'certain'], ['wish', 'intimaci', 'ripen', 'love', 'time'], ['observ', 'take', 'pain', 'prevent'], ['tête_', 'instruct', 'allow'], ['henri', 'oner'], ['love', 'affair', 'add', 'difficulti'], ['popular', 'soon', 'suffer', 'carri', 'order'], ['letter'], ['thursday', 'exact', 'mortim', 'lunch'], ['excav', 'barrow', 'long'], ['prehistor', 'skull', 'fill', 'great'], ['singl', 'mind', 'enthusiast', 'stapleton', 'come'], ['good', 'doctor', 'take', 'alley'], ['henri', 'request', 'exact', 'occur'], ['fatal', 'night', 'long', 'dismal', 'walk', 'alley'], ['high', 'wall', 'clip', 'hedg', 'narrow', 'band'], ['grass', 'tumbl'], ['summer', 'hous', 'halfway', 'moor', 'gate'], ['gentleman', 'leav', 'cigar', 'white', 'wooden', 'gate'], ['latch', 'lie', 'wide', 'moor', 'rememb', 'theori'], ['affair', 'tri', 'pictur', 'occur'], ['stand', 'come', 'moor'], ['terrifi', 'lose', 'wit'], ['die', 'sheer', 'horror', 'exhaust'], ['long', 'gloomi', 'tunnel', 'flee'], ['sheep', 'moor', 'spectral', 'hound', 'black', 'silent'], ['monstrous', 'human', 'agenc', 'matter', 'pale'], ['watch', 'barrymor', 'know', 'care'], ['vagu', 'dark', 'shadow', 'crime'], ['neighbour', 'write'], ['frankland', 'lafter', 'hall', 'live', 'mile', 'south'], ['elder', 'face', 'white', 'hair'], ['choler', 'passion', 'british', 'spend'], ['larg', 'fortun', 'litig', 'fight', 'mere', 'pleasur'], ['fight', 'equal', 'readi'], ['question', 'wonder', 'cost'], ['amus', 'shut', 'right', 'defi'], ['parish', 'open', 'hand'], ['tear', 'gate', 'declar', 'path'], ['exist', 'time', 'immemori', 'defi', 'owner'], ['prosecut', 'trespass', 'learn', 'manori'], ['communal', 'right', 'appli', 'knowledg', 'favour'], ['villag', 'fernworthi'], ['period', 'carri', 'triumph'], ['villag', 'street', 'burn', 'effigi', 'accord', 'latest'], ['exploit', 'say', 'seven', 'lawsuit', 'hand'], ['present', 'probabl', 'swallow', 'remaind'], ['fortun', 'draw', 'sting', 'leav', 'harmless'], ['futur', 'apart', 'kind', 'good', 'natur'], ['person', 'mention', 'particular'], ['send', 'descript', 'peopl', 'surround'], ['curious', 'employ', 'present', 'amateur', 'astronom'], ['excel', 'telescop', 'lie', 'roof'], ['hous', 'sweep', 'moor', 'hope'], ['catch', 'glimps', 'escap', 'convict', 'confin'], ['energi', 'rumour'], ['intend', 'prosecut', 'mortim', 'open', 'grave'], ['consent'], ['neolith', 'skull', 'barrow', 'long', 'help'], ['live', 'monoton', 'give', 'littl', 'comic', 'relief'], ['bad', 'need'], ['have', 'bring', 'date', 'escap', 'convict'], ['stapleton', 'mortim', 'frankland', 'lafter', 'hall'], ['import', 'tell'], ['barrymor', 'especi', 'surpris', 'develop'], ['night'], ['test', 'telegram', 'send', 'london'], ['order', 'sure', 'barrymor'], ['explain', 'testimoni', 'postmast', 'show'], ['test', 'worthless', 'proof'], ['tell', 'henri', 'matter', 'stand'], ['downright', 'fashion', 'barrymor', 'ask'], ['receiv', 'telegram', 'barrymor', 'say'], ['deliv', 'hand', 'ask', 'henri'], ['barrymor', 'look', 'surpris', 'consid', 'littl', 'time'], ['say', 'room', 'time', 'wife'], ['bring'], ['answer'], ['tell', 'wife', 'answer', 'go', 'write'], ['even', 'recur', 'subject', 'accord'], ['understand', 'object', 'question'], ['morn', 'henri', 'say', 'trust', 'mean'], ['forfeit', 'confid'], ['henri', 'assur', 'pacifi'], ['give', 'consider', 'wardrob', 'london'], ['outfit', 'have', 'arriv'], ['barrymor', 'heavi', 'solid'], ['person', 'limit', 'intens', 'respect', 'inclin'], ['puritan', 'hard', 'conceiv', 'emot', 'subject'], ['tell', 'night', 'hear'], ['sob', 'bitter', 'observ'], ['trace', 'tear', 'face', 'deep', 'sorrow', 'gnaw'], ['heart', 'wonder', 'guilti', 'memori', 'haunt'], ['suspect', 'barrymor', 'domest'], ['tyrant', 'felt', 'singular'], ['question', 'charact', 'adventur'], ['night', 'bring', 'suspicion', 'head'], ['small', 'matter', 'awar'], ['sound', 'sleeper', 'guard'], ['hous', 'slumber', 'lighter', 'night'], ['morn', 'arous', 'stealthi', 'step'], ['pass', 'room', 'rise', 'open', 'door', 'peep', 'long'], ['black', 'shadow', 'trail', 'corridor', 'throw'], ['walk', 'soft', 'passag', 'candl', 'hold'], ['hand', 'shirt', 'trouser', 'cover', 'feet'], ['mere', 'outlin', 'height', 'tell'], ['barrymor', 'walk', 'slowli', 'circumspect'], ['indescrib', 'guilti', 'furtiv'], ['appear'], ['tell', 'corridor', 'break', 'balconi'], ['run', 'round', 'hall', 'resum', 'farther'], ['wait', 'pass', 'sight'], ['follow', 'come', 'round', 'balconi', 'reach'], ['farther', 'corridor', 'glimmer'], ['light', 'open', 'door', 'enter', 'room'], ['room', 'unfurnish', 'unoccupi'], ['expedit', 'mysteri', 'light', 'shine'], ['steadili', 'stand', 'motionless', 'creep'], ['passag', 'noiseless', 'peep', 'round', 'corner'], ['door'], ['barrymor', 'crouch', 'window', 'candl', 'hold'], ['glass', 'profil', 'half', 'turn'], ['face', 'rigid', 'expect', 'star'], ['black', 'moor', 'minut', 'stand'], ['watch', 'intent', 'give', 'deep', 'groan'], ['impati', 'gestur', 'light', 'instant'], ['room', 'short', 'come', 'stealthi', 'step', 'pass'], ['return', 'journey', 'long'], ['fall', 'light', 'sleep', 'hear', 'turn', 'lock'], ['tell', 'sound', 'come', 'mean'], ['guess', 'secret', 'busi', 'go'], ['hous', 'gloom', 'sooner', 'later', 'shall'], ['troubl', 'theori', 'ask'], ['furnish', 'fact', 'long', 'talk'], ['henri', 'morn', 'plan', 'campaign', 'found'], ['observ', 'night', 'speak'], ['report', 'interest', 'read'], ['chapter'], ['light', 'moor', 'second', 'report', 'watson'], ['baskervill', 'hall'], ['dear', 'holm'], ['compel', 'leav', 'news'], ['earli', 'day', 'mission', 'acknowledg', 'make'], ['lose', 'time', 'event', 'crowd', 'fast'], ['report', 'end', 'note'], ['barrymor', 'window', 'budget'], ['mistak', 'consider', 'surpris'], ['thing', 'take', 'turn', 'anticip'], ['way', 'hour'], ['clearer', 'way', 'complic'], ['tell', 'shall', 'judg'], ['breakfast', 'morn', 'follow', 'adventur', 'go'], ['corridor', 'examin', 'room', 'barrymor'], ['night', 'western', 'window'], ['star', 'intent', 'notic', 'peculiar'], ['window', 'hous', 'command', 'nearest', 'outlook'], ['moor', 'open', 'tree', 'enabl'], ['point', 'view', 'look', 'right'], ['window', 'distant', 'glimps'], ['obtain', 'follow', 'barrymor'], ['window', 'serv', 'purpos', 'look'], ['somebodi', 'moor', 'night', 'dark'], ['hard', 'imagin', 'hop'], ['strike', 'possibl', 'love', 'intrigu'], ['foot', 'account', 'stealthi', 'movement'], ['uneasi', 'wife'], ['strike', 'look', 'fellow', 'equip', 'steal', 'heart'], ['countri', 'girl', 'theori'], ['support', 'open', 'door', 'hear'], ['return', 'room', 'mean', 'go'], ['clandestin', 'appoint', 'reason'], ['morn', 'tell', 'direct', 'suspicion'], ['result', 'show', 'unfound'], ['true', 'explan', 'barrymor', 'movement'], ['felt', 'respons', 'keep'], ['explain', 'bear'], ['interview', 'baronet', 'studi', 'breakfast'], ['tell', 'see', 'surpris'], ['expect'], ['know', 'barrymor', 'walk', 'night', 'mind'], ['speak', 'say', 'time', 'hear'], ['step', 'passag', 'come', 'go', 'hour'], ['pay', 'visit', 'night', 'particular'], ['window', 'suggest'], ['abl', 'shadow'], ['wonder', 'friend', 'holm'], ['believ', 'exact', 'suggest', 'say'], ['follow', 'barrymor'], ['shall'], ['sure', 'hear'], ['deaf', 'case', 'chanc'], ['room', 'tonight', 'wait'], ['pass', 'henri', 'rub', 'hand', 'pleasur'], ['evid', 'hail', 'adventur', 'relief', 'somewhat'], ['quiet', 'life', 'moor'], ['baronet', 'communic', 'architect'], ['prepar', 'plan', 'charl', 'contractor'], ['london', 'expect', 'great', 'chang', 'begin', 'soon'], ['decor', 'furnish', 'plymouth'], ['evid', 'friend', 'larg', 'idea', 'mean', 'spare'], ['pain', 'expens', 'restor', 'grandeur', 'famili'], ['hous', 'renov', 'refurnish', 'need'], ['wife', 'complet'], ['pretti', 'clear', 'sign', 'want', 'ladi'], ['will', 'seldom', 'see', 'infatu'], ['woman', 'beauti', 'neighbour', 'miss', 'stapleton'], ['cours', 'true', 'love', 'smooth'], ['circumst', 'expect', 'today', 'exampl'], ['surfac', 'break', 'unexpect', 'rippl', 'caus'], ['friend', 'consider', 'perplex', 'annoy'], ['convers', 'quot', 'barrymor'], ['henri', 'prepar', 'matter'], ['cours'], ['come', 'watson', 'ask', 'look'], ['curious'], ['depend', 'go', 'moor', 'say'], ['know', 'instruct', 'sorri', 'intrud'], ['hear', 'earnest', 'holm', 'insist'], ['leav', 'especi'], ['moor'], ['henri', 'hand', 'shoulder', 'pleasant', 'smile'], ['dear', 'fellow', 'say', 'holm', 'wisdom'], ['forese', 'thing', 'happen'], ['moor', 'understand', 'sure'], ['world', 'wish', 'spoil', 'sport'], ['awkward', 'posit', 'loss'], ['mind', 'pick'], ['cane', 'go'], ['come', 'think', 'matter', 'conscienc', 'reproach'], ['bitter', 'have', 'pretext', 'allow'], ['sight', 'imagin', 'feel', 'return'], ['confess', 'misfortun', 'occur'], ['disregard', 'instruct', 'assur', 'cheek', 'flush'], ['think', 'late'], ['overtak', 'direct', 'merripit'], ['hous'], ['hurri', 'road', 'speed', 'see'], ['henri', 'come', 'point', 'moor'], ['path', 'branch', 'fear', 'come'], ['wrong', 'direct', 'mount', 'hill'], ['command', 'view', 'hill', 'dark', 'quarri'], ['moor', 'path', 'quarter'], ['mile', 'ladi', 'miss'], ['stapleton', 'clear', 'understand'], ['appoint'], ['walk', 'slowli', 'deep', 'convers', 'make'], ['quick', 'littl', 'movement', 'hand', 'earnest'], ['say', 'listen', 'intent'], ['twice', 'shake', 'head', 'strong', 'dissent', 'stand', 'rock'], ['watch', 'puzzl'], ['follow', 'break', 'intim', 'convers'], ['outrag', 'clear', 'duti', 'instant'], ['sight', 'friend'], ['hate', 'task', 'better', 'cours', 'observ'], ['hill', 'clear', 'conscienc', 'confess'], ['true', 'sudden'], ['danger', 'threaten', 'away'], ['sure', 'agre', 'posit'], ['difficult'], ['friend', 'henri', 'ladi', 'halt', 'path'], ['stand', 'deepli', 'absorb', 'convers'], ['sudden', 'awar', 'wit'], ['interview', 'wisp', 'green', 'float', 'catch'], ['glanc', 'show', 'carri', 'stick'], ['move', 'break', 'grind', 'stapleton'], ['butterfli', 'closer', 'pair'], ['appear', 'move', 'direct', 'instant'], ['henri', 'sudden', 'draw', 'miss', 'stapleton'], ['round', 'strain', 'away'], ['face', 'avert', 'stoop', 'head'], ['rais', 'hand', 'protest', 'moment', 'spring'], ['apart', 'turn', 'hurri', 'round', 'stapleton', 'caus'], ['interrupt', 'run', 'wild', 'absurd'], ['dangl', 'gesticul', 'danc'], ['excit', 'lover', 'scene', 'mean'], ['imagin', 'stapleton', 'abus'], ['henri', 'offer', 'explan', 'angri'], ['refus', 'accept', 'ladi', 'stand', 'haughti'], ['silenc', 'final', 'stapleton', 'turn', 'heel', 'beckon'], ['peremptori', 'sister', 'irresolut', 'glanc'], ['henri', 'walk', 'brother'], ['naturalist', 'angri', 'gestur', 'show', 'ladi', 'includ'], ['displeasur', 'baronet', 'stand', 'minut', 'look'], ['walk', 'slowli', 'come'], ['head', 'hang', 'pictur', 'deject'], ['mean', 'imagin', 'deepli', 'asham'], ['wit', 'intim', 'scene', 'friend'], ['knowledg', 'hill', 'baronet'], ['face', 'flush', 'anger', 'brow'], ['wrinkl', 'like', 'end'], ['halloa', 'watson', 'drop', 'say'], ['mean', 'come', 'spite'], ['explain', 'imposs'], ['remain', 'follow', 'wit'], ['occur', 'instant', 'eye', 'blaze'], ['frank', 'disarm', 'anger', 'break'], ['rueful', 'laugh'], ['think', 'middl', 'prairi', 'fair', 'safe'], ['place', 'privat', 'say', 'thunder'], ['countrysid'], ['woo', 'mighti', 'poor', 'woo', 'engag'], ['seat'], ['hill'], ['brother'], ['come'], ['strike', 'crazi', 'brother'], ['dare', 'think', 'sane', 'today'], ['ought'], ['straitjacket', 'matter', 'live'], ['near', 'week', 'watson', 'tell', 'straight'], ['prevent', 'make', 'good', 'husband'], ['woman', 'love'], ['object', 'world', 'posit'], ['hurt'], ['woman', 'life', 'know'], ['touch', 'tip', 'finger'], ['deal', 'tell', 'watson', 'know'], ['week', 'felt'], ['happi'], ['swear', 'light', 'woman', 'eye', 'speak', 'louder'], ['word'], ['today', 'time', 'chanc', 'have'], ['word', 'glad', 'meet'], ['love', 'talk', 'wouldn'], ['talk', 'stop'], ['keep', 'come', 'place', 'danger'], ['happi', 'leav', 'tell'], ['see', 'hurri', 'leav'], ['want', 'work'], ['arrang', 'offer', 'word'], ['marri', 'answer', 'come', 'brother'], ['run', 'face', 'like', 'madman'], ['white', 'rage', 'light', 'eye', 'blaze'], ['furi', 'ladi', 'dare', 'offer'], ['attent', 'distast', 'think'], ['baronet', 'like'], ['brother', 'know', 'better', 'answer'], ['tell', 'feel', 'sister'], ['asham', 'hop', 'honour'], ['wife', 'matter', 'better'], ['lose', 'temper', 'answer'], ['hot', 'consid', 'stand'], ['end', 'go'], ['bad', 'puzzl', 'counti', 'tell'], ['mean', 'watson'], ['hope'], ['tri', 'explan', 'complet'], ['puzzl', 'friend', 'titl', 'fortun'], ['charact', 'appear', 'favour', 'know'], ['dark', 'fate', 'run'], ['famili', 'advanc', 'reject', 'brusqu'], ['refer', 'ladi', 'wish', 'ladi'], ['accept', 'situat', 'protest', 'amaz'], ['conjectur', 'rest', 'visit', 'stapleton'], ['afternoon', 'come', 'offer', 'apolog'], ['rude', 'morn', 'long', 'privat', 'interview'], ['henri', 'studi', 'upshot', 'convers'], ['breach', 'heal', 'dine'], ['merripit', 'hous', 'friday', 'sign'], ['crazi', 'say', 'henri'], ['forget', 'look', 'eye', 'morn'], ['allow', 'handsom', 'apolog'], ['explan', 'conduct'], ['sister', 'life', 'say', 'natur'], ['glad', 'understand', 'valu'], ['accord', 'account'], ['lone', 'companion'], ['think', 'lose', 'terribl'], ['understand', 'say', 'attach'], ['eye'], ['take', 'away', 'give', 'shock'], ['time', 'respons', 'say'], ['sorri', 'pass', 'recogn', 'foolish'], ['selfish', 'imagin', 'hold'], ['beauti', 'woman', 'like', 'sister', 'life'], ['leav', 'neighbour', 'like'], ['case', 'blow'], ['time', 'prepar'], ['meet', 'withdraw', 'opposit'], ['promis', 'month', 'matter', 'rest'], ['content', 'cultiv', 'ladi', 'friendship', 'time'], ['claim', 'love', 'promis', 'matter'], ['rest'], ['small', 'mysteri', 'clear'], ['touch'], ['flounder', 'know', 'stapleton', 'look', 'disfavour'], ['sister', 'suitor', 'suitor', 'elig'], ['henri', 'pass', 'thread'], ['extric', 'tangl', 'skein', 'mysteri', 'sob'], ['night', 'tear', 'stain', 'face', 'barrymor'], ['secret', 'journey', 'butler', 'western', 'lattic', 'window'], ['congratul', 'dear', 'holm', 'tell'], ['disappoint', 'agent', 'regret'], ['confid', 'show', 'send'], ['thing', 'night', 'work', 'thorough', 'clear'], ['say', 'night', 'work', 'truth'], ['night', 'work', 'draw', 'entir', 'blank'], ['henri', 'room', 'near', 'clock'], ['morn', 'sound', 'sort', 'hear', 'chime'], ['clock', 'stair', 'melancholi', 'vigil', 'end'], ['fall', 'asleep', 'chair', 'fortun'], ['discourag', 'determin', 'night'], ['lower', 'lamp', 'smoke', 'cigarett', 'make'], ['sound', 'incred', 'slowli', 'hour', 'crawl'], ['help', 'sort', 'patient'], ['hunter', 'feel', 'watch', 'trap'], ['hop', 'game', 'wander', 'strike'], ['second', 'time', 'give', 'despair'], ['instant', 'bolt', 'upright', 'chair', 'weari'], ['sens', 'keen', 'alert', 'hear', 'creak'], ['step', 'passag'], ['stealthili', 'hear', 'pass', 'die', 'away'], ['distanc', 'baronet', 'gentl', 'open', 'door'], ['pursuit', 'go', 'round', 'galleri'], ['corridor', 'dark', 'soft', 'steal'], ['come', 'wing', 'time', 'catch', 'glimps'], ['tall', 'black', 'beard', 'figur', 'shoulder', 'round'], ['tipto', 'passag', 'pass', 'door'], ['light', 'candl', 'frame', 'dark'], ['shoot', 'singl', 'yellow', 'beam', 'gloom', 'corridor'], ['shuffl', 'cautious', 'tri', 'plank'], ['dare', 'weight', 'take'], ['precaut', 'leav', 'boot'], ['board', 'snap', 'creak', 'beneath', 'tread'], ['imposs', 'fail', 'hear', 'approach'], ['fortun', 'deaf', 'entir', 'preoccupi'], ['reach', 'door'], ['peep', 'crouch', 'window', 'candl'], ['hand', 'white', 'intent', 'face', 'press', 'pane', 'exact'], ['see', 'night'], ['arrang', 'plan', 'campaign', 'baronet'], ['direct', 'natur', 'walk'], ['room', 'barrymor', 'spring'], ['window', 'sharp', 'hiss', 'breath', 'stand', 'livid'], ['trembl', 'dark', 'eye', 'glare', 'white'], ['mask', 'face', 'horror', 'astonish'], ['gaze', 'henri'], ['barrymor'], ['agit', 'great', 'hard'], ['speak', 'shadow', 'spring', 'shake'], ['candl', 'window', 'round', 'night'], ['fasten'], ['second', 'floor'], ['window'], ['look', 'barrymor', 'say', 'henri', 'stern'], ['mind', 'truth', 'save'], ['troubl', 'tell', 'sooner', 'later', 'come', 'lie'], ['window'], ['fellow', 'look', 'helpless', 'wring', 'hand'], ['like', 'extrem', 'doubt'], ['miseri'], ['harm', 'hold', 'candl', 'window'], ['hold', 'candl', 'window'], ['henri', 'word'], ['secret', 'tell'], ['concern'], ['sudden', 'idea', 'occur', 'take', 'candl'], ['trembl', 'hand', 'butler'], ['hold', 'signal', 'say'], ['answer', 'hold', 'star'], ['dark', 'night', 'vagu', 'discern', 'black'], ['bank', 'tree', 'lighter', 'expans', 'moor'], ['moon', 'cloud', 'give', 'exult'], ['tini', 'pinpoint', 'yellow', 'light', 'sudden', 'transfix'], ['dark', 'veil', 'glow', 'steadili', 'centr', 'black', 'squar'], ['frame', 'window'], ['cri'], ['butler', 'break'], ['assur'], ['light', 'window', 'watson', 'cri', 'baronet'], ['move', 'rascal', 'deni'], ['signal', 'come', 'speak', 'confeder', 'yonder'], ['conspiraci', 'go'], ['face', 'open', 'defiant', 'busi'], ['tell'], ['leav', 'employ', 'right', 'away'], ['good'], ['disgrac', 'thunder', 'asham'], ['famili', 'live'], ['year', 'roof', 'deep', 'dark', 'plot'], ['woman', 'voic'], ['barrymor', 'paler', 'horror', 'strike', 'husband'], ['stand', 'door', 'bulki', 'figur', 'shawl', 'skirt'], ['comic', 'intens', 'feel'], ['face'], ['eliza', 'pack'], ['thing', 'say', 'butler'], ['john', 'john', 'bring'], ['henri', 'sake'], ['ask'], ['speak', 'mean'], ['unhappi', 'brother', 'starv', 'moor'], ['perish', 'gate', 'light', 'signal', 'food'], ['readi', 'light', 'yonder', 'spot'], ['bring'], ['brother'], ['escap', 'convict', 'selden', 'crimin'], ['truth', 'say', 'barrymor', 'say'], ['secret', 'tell'], ['hear', 'plot'], ['explan', 'stealthi', 'expedit'], ['night', 'light', 'window', 'henri', 'star'], ['woman', 'amaz', 'possibl', 'stolid'], ['respect', 'person', 'blood'], ['notori', 'crimin', 'countri'], ['selden', 'younger', 'brother'], ['humour', 'give'], ['come', 'think', 'world'], ['pleasur', 'like'], ['grow', 'older', 'wick', 'companion', 'devil', 'enter'], ['break', 'mother', 'heart', 'drag'], ['dirt', 'crime', 'crime', 'sink', 'lower', 'lower'], ['merci', 'snatch', 'scaffold'], ['littl', 'cur', 'head'], ['nurs', 'play', 'elder', 'sister'], ['break', 'prison', 'know'], ['refus', 'help', 'drag', 'night'], ['weari', 'starv', 'warder', 'hard', 'heel'], ['take', 'care'], ['return', 'brother', 'think', 'safer'], ['moor'], ['hide', 'second', 'night', 'sure'], ['put', 'light', 'window'], ['answer', 'husband', 'take', 'bread', 'meat'], ['hop', 'go', 'long'], ['desert', 'truth'], ['honest', 'christian', 'woman', 'blame'], ['matter', 'husband'], ['sake'], ['woman', 'word', 'come', 'intens', 'earnest', 'carri'], ['convict'], ['true', 'barrymor'], ['henri', 'word'], ['blame', 'stand', 'wife', 'forget'], ['say', 'room', 'shall', 'talk'], ['matter', 'morn'], ['go', 'look', 'window', 'henri'], ['fling', 'open', 'cold', 'night', 'wind', 'beat'], ['face', 'away', 'black', 'distanc', 'glow'], ['tini', 'point', 'yellow', 'light'], ['wonder', 'dare', 'say', 'henri'], ['place', 'visibl'], ['like', 'think'], ['cleav', 'think'], ['mile'], ['hard'], ['barrymor', 'carri', 'food'], ['wait', 'villain', 'candl'], ['thunder', 'watson', 'go'], ['think', 'cross', 'mind'], ['barrymor', 'take', 'confid', 'secret'], ['forc', 'danger', 'communiti'], ['unmitig', 'scoundrel', 'piti', 'excus'], ['duti', 'take', 'chanc', 'put'], ['harm', 'brutal', 'violent'], ['natur', 'price', 'hold', 'hand'], ['night', 'exampl', 'neighbour', 'stapleton'], ['attack', 'think'], ['henri', 'keen', 'adventur'], ['come', 'say'], ['revolv', 'boot', 'sooner'], ['start', 'better', 'fellow', 'light'], ['minut', 'outsid', 'door', 'start'], ['expedit', 'hurri', 'dark', 'shrubberi', 'amid', 'dull'], ['moan', 'autumn', 'wind', 'rustl', 'fall', 'leav'], ['night', 'heavi', 'smell', 'damp', 'decay'], ['moon', 'peep', 'instant', 'cloud', 'drive'], ['face', 'come', 'moor'], ['rain', 'begin', 'fall', 'light', 'burn', 'steadili'], ['arm', 'ask'], ['hunt', 'crop'], ['close', 'rapid', 'say'], ['desper', 'fellow', 'shall', 'surpris'], ['merci', 'resist'], ['watson', 'say', 'baronet', 'holm'], ['hour', 'dark', 'power', 'evil'], ['exalt'], ['answer', 'word', 'rise', 'sudden', 'vast'], ['gloom', 'moor', 'strang', 'hear'], ['border', 'great', 'grimpen', 'mire', 'come', 'wind'], ['silenc', 'night', 'long', 'deep', 'mutter'], ['rise', 'howl', 'moan', 'die', 'away'], ['sound', 'throb', 'strident'], ['wild', 'menac', 'baronet', 'catch', 'sleev', 'face'], ['glimmer', 'white', 'dark'], ['watson'], ['know', 'sound', 'moor', 'hear'], ['die', 'away', 'absolut', 'silenc', 'close', 'stand'], ['strain', 'ear', 'come'], ['watson', 'say', 'baronet', 'hound'], ['blood', 'cold', 'vein', 'break', 'voic'], ['tell', 'sudden', 'horror', 'seiz'], ['sound', 'ask'], ['folk', 'countrysid'], ['ignor', 'peopl', 'mind'], ['tell', 'watson'], ['hesit', 'escap', 'question'], ['hound', 'baskervill'], ['groan', 'silent', 'moment'], ['hound', 'say', 'come'], ['mile', 'away', 'yonder', 'think'], ['hard', 'come'], ['rise', 'fell', 'wind', 'direct'], ['great', 'grimpen', 'mire'], ['come', 'watson', 'think'], ['hound', 'child'], ['need', 'fear', 'speak', 'truth'], ['stapleton', 'hear', 'say'], ['call', 'strang', 'bird'], ['hound', 'truth'], ['stori', 'possibl', 'danger'], ['dark', 'caus', 'believ', 'watson'], ['thing', 'laugh', 'london'], ['stand', 'dark', 'moor', 'hear'], ['uncl', 'footprint'], ['hound', 'fit', 'think'], ['coward', 'watson', 'sound', 'freez'], ['blood', 'feel', 'hand'], ['cold', 'block', 'marbl'], ['right', 'tomorrow'], ['think', 'head'], ['advis'], ['shall', 'turn'], ['thunder', 'come'], ['convict', 'hell', 'hound', 'like'], ['come', 'fiend'], ['loos', 'moor'], ['stumbl', 'slowli', 'dark', 'black', 'loom'], ['craggi', 'hill', 'yellow', 'speck', 'light', 'burn'], ['steadili', 'decept', 'distanc'], ['light', 'pitch', 'dark', 'night', 'glimmer'], ['away', 'horizon'], ['yard'], ['come', 'know', 'close'], ['gutter', 'candl', 'stick', 'crevic', 'rock'], ['flank', 'wind'], ['prevent', 'visibl', 'save', 'direct'], ['baskervill', 'hall', 'boulder', 'granit', 'conceal', 'approach'], ['crouch', 'gaze', 'signal', 'light'], ['strang', 'singl', 'candl', 'burn', 'middl'], ['moor', 'sign', 'life', 'near', 'straight'], ['yellow', 'flame', 'gleam', 'rock'], ['shall', 'whisper', 'henri'], ['wait', 'near', 'light'], ['glimps'], ['word', 'hard', 'mouth'], ['rock', 'crevic', 'candl', 'burn'], ['thrust', 'evil', 'yellow', 'face', 'terribl', 'anim', 'face'], ['seam', 'score', 'vile', 'passion', 'foul', 'mire'], ['bristl', 'beard', 'hang', 'mat', 'hair'], ['belong', 'savag', 'dwell', 'burrow'], ['hillsid', 'light', 'beneath', 'reflect', 'small'], ['cun', 'eye', 'peer', 'fierc', 'right', 'leav'], ['dark', 'like', 'crafti', 'savag', 'anim', 'hear', 'step'], ['hunter'], ['evid', 'arous', 'suspicion'], ['barrymor', 'privat', 'signal', 'neglect'], ['fellow', 'reason', 'think'], ['read', 'fear', 'wick'], ['face', 'instant', 'dash', 'light', 'vanish'], ['dark', 'spring', 'forward', 'henri'], ['moment', 'convict', 'scream', 'curs'], ['hurl', 'rock', 'splinter', 'boulder'], ['shelter', 'catch', 'glimps', 'short', 'squat', 'strong'], ['build', 'figur', 'spring', 'feet', 'turn'], ['moment', 'lucki', 'chanc', 'moon', 'break', 'cloud'], ['rush', 'brow', 'hill'], ['run', 'great', 'speed', 'spring'], ['stone', 'activ', 'mountain', 'goat', 'lucki'], ['long', 'shoot', 'revolv', 'crippl'], ['bring', 'defend', 'attack', 'shoot'], ['unarm', 'run', 'away'], ['swift', 'runner', 'fair', 'good', 'train'], ['soon', 'chanc', 'overtak'], ['long', 'time', 'moonlight', 'small', 'speck'], ['move', 'swift', 'boulder', 'distant'], ['hill', 'complet', 'blow'], ['space', 'grow', 'wider', 'final', 'stop'], ['pant', 'rock', 'watch', 'disappear'], ['distanc'], ['moment', 'occur', 'strang'], ['unexpect', 'thing', 'rise', 'rock', 'turn'], ['home', 'have', 'abandon', 'hopeless', 'chase', 'moon'], ['right', 'jag', 'pinnacl', 'granit', 'stand'], ['lower', 'curv', 'silver', 'disc', 'outlin'], ['black', 'eboni', 'statu', 'shin', 'background'], ['figur', 'think'], ['delus', 'holm', 'assur', 'life', 'see'], ['clear', 'judg', 'figur'], ['tall', 'stand', 'leg', 'littl'], ['separ', 'arm', 'fold', 'head', 'bow'], ['brood', 'enorm', 'wilder', 'peat', 'granit'], ['spirit'], ['terribl', 'place', 'convict'], ['place', 'disappear'], ['taller', 'surpris', 'point'], ['baronet', 'instant', 'turn', 'grasp'], ['go', 'sharp', 'pinnacl', 'granit'], ['cut', 'lower', 'edg', 'moon', 'peak', 'bore'], ['trace', 'silent', 'motionless', 'figur'], ['wish', 'direct', 'search'], ['distanc', 'away', 'baronet', 'nerv', 'quiver'], ['recal', 'dark', 'stori', 'famili'], ['mood', 'fresh', 'adventur', 'see'], ['lone', 'feel', 'thrill'], ['strang', 'presenc', 'command', 'attitud', 'give'], ['warder', 'doubt', 'say', 'moor'], ['fellow', 'escap', 'explan'], ['right', 'like', 'proof'], ['today', 'mean', 'communic', 'princetown', 'peopl'], ['look', 'miss', 'hard', 'line'], ['actual', 'triumph', 'bring'], ['prison', 'adventur', 'night'], ['acknowledg', 'dear', 'holm'], ['matter', 'report', 'tell', 'doubt'], ['irrelev', 'feel', 'best'], ['fact', 'leav', 'select'], ['servic', 'help'], ['conclus', 'certain', 'make', 'progress'], ['barrymor', 'motiv', 'action'], ['clear', 'situat', 'moor'], ['mysteri', 'strang', 'inhabit', 'remain', 'inscrut'], ['abl', 'throw', 'light'], ['best', 'come'], ['case', 'hear', 'cours'], ['day'], ['chapter'], ['extract', 'diari', 'watson'], ['abl', 'quot', 'report'], ['forward', 'earli', 'day', 'sherlock', 'holm'], ['arriv', 'point', 'narrat'], ['compel', 'abandon', 'method', 'trust'], ['recollect', 'aid', 'diari', 'keep', 'time'], ['extract', 'carri', 'scene'], ['indel', 'fix', 'memori', 'proceed'], ['morn', 'follow', 'abort', 'chase'], ['convict', 'strang', 'experi', 'moor'], ['dull', 'foggi', 'drizzl', 'rain'], ['hous', 'bank', 'roll', 'cloud', 'rise'], ['dreari', 'curv', 'moor', 'silver'], ['vein', 'side', 'hill', 'distant', 'boulder'], ['gleam', 'light', 'strike', 'face'], ['melancholi', 'outsid', 'baronet', 'black', 'reaction'], ['excit', 'night', 'conscious'], ['weight', 'heart', 'feel', 'impend', 'danger', 'present'], ['danger', 'terribl', 'unabl', 'defin'], ['caus', 'feel', 'consid', 'long'], ['sequenc', 'incid', 'point', 'sinist'], ['influenc', 'work', 'death'], ['occup', 'hall', 'fulfil', 'exact', 'condit'], ['famili', 'legend', 'repeat', 'report'], ['peasant', 'appear', 'strang', 'creatur', 'moor'], ['twice', 'ear', 'hear', 'sound', 'resembl'], ['distant', 'bay', 'hound', 'incred', 'imposs'], ['outsid', 'ordinari', 'law', 'natur', 'spectral'], ['hound', 'leav', 'materi', 'footmark', 'fill'], ['howl', 'sure', 'think', 'stapleton', 'fall'], ['superstit', 'mortim'], ['qualiti', 'earth', 'common', 'sens', 'persuad'], ['believ', 'thing', 'descend'], ['level', 'poor', 'peasant', 'content', 'mere'], ['fiend', 'need', 'hell', 'shoot'], ['mouth', 'eye', 'holm', 'listen', 'fanci'], ['agent', 'fact', 'fact', 'twice', 'hear'], ['cri', 'moor', 'suppos'], ['huge', 'hound', 'loos', 'explain'], ['hound', 'conceal'], ['food', 'come'], ['confess', 'natur', 'explan'], ['offer', 'difficulti'], ['apart', 'hound', 'fact', 'human', 'agenc'], ['london', 'letter', 'warn', 'henri'], ['moor', 'real'], ['work', 'protect', 'friend', 'easili', 'enemi'], ['friend', 'enemi', 'remain', 'london'], ['follow', 'stranger'], ['true', 'glanc'], ['thing', 'readi', 'swear'], ['see'], ['neighbour', 'figur', 'taller', 'stapleton'], ['thinner', 'frankland', 'barrymor', 'possibl'], ['leav', 'certain'], ['follow', 'stranger', 'dog'], ['stranger', 'dog', 'london', 'shake'], ['hand'], ['difficulti'], ['purpos', 'devot', 'energi'], ['impuls', 'tell', 'henri', 'plan', 'second'], ['wisest', 'play', 'game', 'speak', 'littl'], ['possibl', 'silent', 'distrait', 'nerv'], ['strang', 'shake', 'sound', 'moor'], ['anxieti', 'step'], ['attain'], ['small', 'scene', 'morn', 'breakfast', 'barrymor'], ['ask', 'leav', 'speak', 'henri', 'closet'], ['studi', 'littl', 'time', 'sit', 'billiard', 'room'], ['hear', 'sound', 'voic', 'rais', 'pretti'], ['good', 'idea', 'point', 'discuss'], ['time', 'baronet', 'open', 'door', 'call', 'barrymor'], ['consid', 'grievanc', 'say', 'think'], ['unfair', 'hunt', 'brother'], ['free', 'tell', 'secret'], ['butler', 'stand', 'pale', 'collect'], ['speak', 'warm', 'say'], ['sure', 'pardon', 'time'], ['surpris', 'hear', 'gentlemen', 'come', 'morn'], ['learn', 'chase', 'selden', 'poor', 'fellow'], ['fight', 'put', 'track'], ['tell', 'free'], ['differ', 'thing', 'say', 'baronet', 'tell'], ['wife', 'tell', 'forc'], ['help'], ['think', 'take', 'advantag'], ['henri'], ['public', 'danger', 'lone', 'hous', 'scatter'], ['moor', 'fellow', 'stick'], ['want', 'glimps', 'face', 'look'], ['stapleton', 'hous', 'exampl', 'defend'], ['safeti', 'lock'], ['break', 'hous', 'solemn', 'word'], ['troubl', 'countri'], ['assur', 'henri', 'day', 'necessari'], ['arrang'], ['south', 'america', 'sake'], ['polic', 'know', 'moor', 'give'], ['chase', 'quiet', 'ship', 'readi'], ['tell', 'get', 'wife'], ['troubl', 'polic'], ['watson'], ['shrug', 'shoulder', 'safe', 'countri'], ['reliev', 'payer', 'burden'], ['chanc', 'hold'], ['go'], ['provid'], ['want', 'commit', 'crime'], ['hide'], ['true', 'say', 'henri', 'barrymor'], ['bless', 'thank', 'heart'], ['kill', 'poor', 'wife', 'take'], ['guess', 'aid', 'abet', 'feloni', 'watson'], ['hear', 'feel'], ['right', 'barrymor'], ['break', 'word', 'gratitud', 'turn'], ['hesit', 'come'], ['kind', 'like'], ['best', 'return', 'know', 'henri'], ['say', 'long'], ['inquest', 'breath', 'word'], ['mortal', 'poor', 'charl', 'death'], ['baronet', 'feet', 'know'], ['die'], ['know'], ['know', 'gate', 'hour', 'meet'], ['woman'], ['meet', 'woman'], ['woman'], ['initi'], ['initi'], ['know', 'barrymor'], ['henri', 'uncl', 'letter', 'morn'], ['usual', 'great', 'letter', 'public'], ['know', 'kind', 'heart', 'troubl'], ['glad', 'turn', 'morn', 'chanc'], ['letter', 'take', 'notic'], ['coomb', 'tracey', 'address', 'woman', 'hand'], ['think', 'matter'], ['wife', 'week'], ['clean', 'charl', 'studi', 'touch'], ['death', 'ash', 'burn', 'letter'], ['grate', 'greater', 'char', 'piec'], ['littl', 'slip', 'page', 'hang'], ['write', 'read', 'grey', 'black'], ['grind', 'postscript'], ['letter', 'say', 'gentleman', 'burn'], ['letter', 'gate', 'clock', 'beneath'], ['sign', 'initi'], ['slip'], ['crumbl', 'bit', 'move'], ['charl', 'receiv', 'letter', 'write'], ['take', 'particular', 'notic', 'letter'], ['notic', 'happen', 'come'], ['idea'], ['expect'], ['hand', 'ladi', 'know', 'charl'], ['death'], ['understand', 'barrymor', 'come', 'conceal'], ['import', 'inform'], ['immedi', 'troubl', 'come'], ['fond'], ['charl', 'consid'], ['rake', 'couldn', 'help', 'poor', 'master'], ['care', 'ladi', 'case', 'best'], ['think', 'injur', 'reput'], ['think', 'good', 'come'], ['kind', 'feel', 'treat'], ['unfair', 'tell', 'know', 'matter'], ['good', 'barrymor', 'butler', 'leav'], ['henri', 'turn', 'watson', 'think'], ['light'], ['leav', 'dark', 'blacker'], ['think', 'trace', 'clear'], ['busi', 'gain', 'know'], ['fact'], ['think'], ['holm', 'know', 'clue'], ['seek', 'mistak'], ['bring'], ['go', 'room', 'draw', 'report', 'morn'], ['convers', 'holm', 'evid'], ['busi', 'late', 'note', 'baker', 'street'], ['short', 'comment', 'inform'], ['suppli', 'hard', 'refer', 'mission', 'doubt'], ['blackmail', 'case', 'absorb', 'faculti'], ['factor', 'sure', 'arrest', 'attent', 'renew'], ['wish'], ['today', 'rain', 'pour', 'rustl'], ['drip', 'eav', 'think', 'convict'], ['bleak', 'cold', 'shelterless', 'moor', 'poor', 'devil'], ['crime', 'suffer', 'aton'], ['think', 'face', 'figur'], ['moon', 'delug', 'unseen', 'watcher'], ['dark', 'even', 'waterproof'], ['walk', 'sodden', 'moor', 'dark', 'imagin'], ['rain', 'beat', 'face', 'wind', 'whistl', 'ear'], ['help', 'wander', 'great', 'mire'], ['firm', 'upland', 'morass', 'black'], ['see', 'solitari', 'watcher', 'craggi', 'summit'], ['look', 'melancholi', 'down', 'rain', 'squall'], ['drift', 'russet', 'face', 'heavi', 'slate', 'colour'], ['cloud', 'hang', 'landscap', 'trail', 'grey', 'wreath'], ['side', 'fantast', 'hill', 'distant', 'hollow'], ['leav', 'half', 'hide', 'mist', 'tower', 'baskervill'], ['hall', 'rise', 'tree', 'sign', 'human', 'life'], ['save', 'prehistor', 'hut'], ['thick', 'slop', 'hill', 'trace'], ['lone', 'see', 'spot', 'night'], ['walk', 'overtak', 'mortim', 'drive'], ['cart', 'rough', 'moorland', 'track', 'out'], ['farmhous', 'foulmir', 'attent'], ['hard', 'pass', 'call', 'hall'], ['get', 'insist', 'climb'], ['cart', 'give', 'lift', 'homeward'], ['troubl', 'disappear', 'littl', 'spaniel'], ['wander', 'moor', 'come', 'give'], ['consol', 'think', 'poni', 'grimpen'], ['mire', 'fanci', 'littl'], ['mortim', 'say', 'jolt', 'rough', 'road'], ['suppos', 'peopl', 'live', 'drive', 'distanc'], ['know'], ['hard', 'think'], ['tell', 'woman', 'initi'], ['think', 'minut'], ['say', 'gipsi', 'labour', 'folk'], ['answer', 'farmer', 'gentri'], ['initi', 'wait', 'add'], ['paus', 'laura', 'lyon', 'initi'], ['live', 'coomb', 'tracey'], ['ask'], ['frankland', 'daughter'], ['frankland', 'crank'], ['exact', 'marri', 'artist', 'name', 'lyon', 'come', 'sketch'], ['moor', 'prove', 'blackguard', 'desert'], ['fault', 'hear', 'entir'], ['father', 'refus'], ['marri', 'consent'], ['reason', 'sinner', 'young'], ['girl', 'pretti', 'time'], ['live'], ['fanci', 'frankland', 'allow', 'pittanc'], ['affair', 'consider', 'involv'], ['deserv', 'allow', 'hopeless'], ['stori', 'peopl'], ['enabl', 'earn', 'honest', 'live', 'stapleton'], ['charl', 'give', 'trifl'], ['typewrit', 'busi'], ['want', 'know', 'object', 'inquiri', 'manag'], ['satisfi', 'curios', 'tell'], ['reason', 'confid', 'tomorrow'], ['morn', 'shall', 'coomb', 'tracey'], ['laura', 'lyon', 'equivoc', 'reput', 'long', 'step'], ['clear', 'incid', 'chain'], ['mysteri', 'certain', 'develop', 'wisdom', 'serpent'], ['mortim', 'press', 'question', 'inconveni', 'extent'], ['ask', 'casual', 'type', 'frankland', 'skull', 'belong'], ['hear', 'craniolog', 'rest', 'drive'], ['live', 'year', 'sherlock', 'holm'], ['incid', 'record', 'tempestu'], ['melancholi', 'convers', 'barrymor'], ['give', 'strong', 'card', 'play'], ['time'], ['mortim', 'stay', 'dinner', 'baronet', 'play'], ['écarté', 'butler', 'bring', 'coffe'], ['librari', 'take', 'chanc', 'question'], ['say', 'precious', 'relat', 'depart'], ['lurk', 'yonder'], ['know', 'hope', 'heaven', 'go'], ['bring', 'troubl', 'hear'], ['leav', 'food', 'day'], ['food', 'go', 'go'], ['certain'], ['think', 'take'], ['coffe', 'halfway', 'lip', 'star'], ['barrymor'], ['know'], ['moor'], ['see'], ['know'], ['selden', 'tell', 'week', 'hide'], ['convict'], ['like', 'watson', 'tell', 'straight', 'like'], ['speak', 'sudden', 'passion', 'earnest'], ['listen', 'barrymor', 'matter'], ['master', 'come', 'object'], ['help', 'tell', 'frank', 'like'], ['barrymor', 'hesit', 'moment', 'regret', 'outburst'], ['difficult', 'express', 'feel', 'word'], ['go', 'cri', 'wave'], ['hand', 'rain', 'lash', 'window', 'face', 'moor'], ['foul', 'play', 'black', 'villaini', 'brew'], ['swear', 'glad', 'henri'], ['london'], ['alarm'], ['look', 'charl', 'death'], ['coron', 'say', 'look', 'nois', 'moor', 'night'], ['cross', 'sundown', 'pay'], ['look', 'stranger', 'hide', 'yonder', 'watch'], ['wait', 'wait', 'mean', 'mean'], ['good', 'baskervill', 'glad', 'shall'], ['quit', 'henri', 'servant'], ['readi', 'hall'], ['stranger', 'say', 'tell'], ['selden'], ['twice', 'deep', 'give'], ['away', 'think', 'polic', 'soon'], ['kind', 'gentleman'], ['live'], ['hous', 'hillsid', 'stone', 'hut'], ['folk', 'live'], ['food'], ['selden', 'work'], ['bring', 'need', 'dare', 'go', 'coomb', 'tracey'], ['want'], ['good', 'barrymor', 'talk'], ['time', 'butler', 'go', 'walk', 'black'], ['window', 'look', 'blur', 'pane', 'drive', 'cloud'], ['toss', 'outlin', 'wind', 'sweep', 'tree', 'wild'], ['night', 'indoor', 'stone', 'moor'], ['passion', 'hatr', 'lead', 'lurk'], ['place', 'time', 'deep', 'earnest', 'purpos'], ['call', 'trial'], ['moor', 'centr', 'problem'], ['vex', 'sore', 'swear', 'shall'], ['pass', 'reach', 'heart'], ['mysteri'], ['chapter'], ['extract', 'privat', 'diari', 'form', 'chapter'], ['bring', 'narrat', 'eighteenth', 'octob', 'time'], ['strang', 'event', 'begin', 'swift'], ['terribl', 'conclus', 'incid', 'day'], ['indel', 'grave', 'recollect', 'tell'], ['refer', 'note', 'time', 'start'], ['succeed', 'establish'], ['fact', 'great', 'import', 'laura', 'lyon'], ['coomb', 'tracey', 'write', 'charl', 'baskervill'], ['appoint', 'place', 'hour'], ['death', 'lurk', 'moor'], ['stone', 'hut', 'hillsid'], ['fact', 'possess', 'felt', 'intellig'], ['courag', 'defici', 'throw', 'light'], ['dark', 'place'], ['opportun', 'tell', 'baronet', 'learn'], ['lyon', 'even', 'mortim', 'remain'], ['card', 'late', 'breakfast'], ['inform', 'discoveri', 'ask'], ['care', 'accompani', 'coomb', 'tracey', 'eager'], ['come', 'second', 'thought'], ['go', 'result', 'better', 'formal'], ['visit', 'inform', 'obtain', 'leav', 'henri'], ['prick', 'conscienc'], ['drive', 'quest'], ['reach', 'coomb', 'tracey', 'tell', 'perkin', 'hors'], ['inquiri', 'ladi', 'come', 'interrog'], ['difficulti', 'find', 'room', 'central'], ['appoint', 'maid', 'show', 'ceremoni'], ['enter', 'sit', 'room', 'ladi', 'sit'], ['remington', 'typewrit', 'spring', 'pleasant', 'smile', 'welcom'], ['face', 'fell', 'stranger'], ['ask', 'object', 'visit'], ['impress', 'leav', 'lyon', 'extrem'], ['beauti', 'eye', 'hair', 'rich', 'hazel', 'colour'], ['cheek', 'consider', 'freckl', 'flush'], ['exquisit', 'bloom', 'brunett', 'dainti', 'pink', 'lurk'], ['heart', 'sulphur', 'rise', 'admir', 'repeat'], ['impress', 'second', 'critic'], ['subt', 'wrong', 'face', 'coarsen'], ['express', 'hard', 'loosen'], ['mar', 'perfect', 'beauti', 'cours'], ['afterthought', 'moment', 'simpli', 'conscious'], ['presenc', 'handsom', 'woman', 'ask'], ['reason', 'visit', 'understand'], ['instant', 'delic', 'mission'], ['pleasur', 'say', 'know', 'father'], ['clumsi', 'introduct', 'ladi', 'feel'], ['common', 'father', 'say'], ['friend'], ['late', 'charl', 'baskervill', 'kind', 'heart'], ['starv', 'father', 'care'], ['late', 'charl', 'baskervill', 'come'], ['freckl', 'start', 'ladi', 'face'], ['tell', 'ask', 'finger'], ['play', 'nervous', 'stop', 'typewrit'], ['know'], ['say', 'great', 'deal', 'kind'], ['abl', 'support', 'larg'], ['take', 'unhappi', 'situat'], ['correspond'], ['ladi', 'look', 'quick', 'angri', 'gleam', 'hazel', 'eye'], ['object', 'question', 'ask', 'sharpli'], ['object', 'avoid', 'public', 'scandal', 'better'], ['matter', 'pass', 'outsid'], ['control'], ['silent', 'face', 'pale'], ['look', 'reckless', 'defiant', 'manner'], ['answer', 'say', 'question'], ['correspond', 'charl'], ['certain', 'write', 'twice', 'acknowledg'], ['delicaci', 'generos'], ['date', 'letter'], ['twice', 'come', 'coomb', 'tracey'], ['retir', 'prefer', 'good', 'stealth'], ['seldom', 'write', 'seldom'], ['know', 'affair', 'abl', 'help'], ['difficulti', 'utmost', 'readi'], ['gentlemen', 'know', 'histori', 'unit'], ['help', 'stapleton', 'neighbour', 'intim'], ['friend', 'charl', 'exceed', 'kind'], ['charl', 'learn', 'affair'], ['know', 'charl', 'baskervill', 'stapleton'], ['almon', 'occas', 'ladi', 'statement', 'bore'], ['impress', 'truth'], ['write', 'charl', 'ask', 'meet'], ['continu'], ['lyon', 'flush', 'anger'], ['extraordinari', 'question'], ['sorri', 'madam', 'repeat'], ['answer', 'certain'], ['charl', 'death'], ['flush', 'fade', 'instant', 'death', 'face'], ['lip', 'speak'], ['hear'], ['sure', 'memori', 'deceiv', 'say', 'quot'], ['passag', 'letter'], ['gentleman', 'burn', 'letter', 'gate', 'clock'], ['think', 'faint', 'recov'], ['suprem', 'effort'], ['thing', 'gentleman', 'gasp'], ['charl', 'injustic', 'burn', 'letter'], ['letter', 'legibl', 'burn'], ['acknowledg', 'write'], ['write', 'cri', 'pour', 'soul'], ['torrent', 'word', 'write', 'deni'], ['reason', 'asham', 'wish', 'help'], ['believ', 'interview', 'gain', 'help'], ['ask', 'meet'], ['hour'], ['learn', 'go', 'london'], ['away', 'month', 'reason'], ['earlier'], ['rendezv', 'garden', 'instead', 'visit'], ['hous'], ['think', 'woman', 'hour', 'bachelor'], ['hous'], ['happen'], ['go'], ['lyon'], ['swear', 'hold', 'sacr', 'go'], ['interven', 'prevent', 'go'], ['privat', 'matter', 'tell'], ['acknowledg', 'appoint'], ['charl', 'hour', 'place', 'death'], ['deni', 'keep', 'appoint'], ['truth'], ['cross', 'question'], ['past', 'point'], ['lyon', 'say', 'rise', 'long', 'inconclus'], ['interview', 'take', 'great', 'respons'], ['put', 'fals', 'posit', 'make'], ['absolut', 'clean', 'breast', 'know'], ['polic', 'serious'], ['compromis', 'posit', 'innoc'], ['instanc', 'deni', 'have', 'write', 'charl'], ['date'], ['fear', 'fals', 'conclus', 'draw'], ['involv', 'scandal'], ['press', 'charl', 'destroy'], ['letter'], ['read', 'letter', 'know'], ['read', 'letter'], ['quot'], ['quot', 'postscript', 'letter', 'say', 'burn'], ['legibl'], ['press', 'charl', 'destroy', 'letter'], ['receiv', 'death'], ['matter', 'privat'], ['reason', 'avoid', 'public', 'investig'], ['tell', 'hear', 'unhappi'], ['histori', 'know', 'rash', 'marriag', 'reason'], ['regret'], ['hear'], ['life', 'incess', 'persecut', 'husband'], ['abhor', 'face'], ['possibl', 'forc', 'live', 'time'], ['write', 'letter', 'charl', 'learn'], ['prospect', 'regain', 'freedom', 'certain', 'expens'], ['mean', 'peac', 'mind', 'happi'], ['self', 'respect', 'know', 'charl', 'generos'], ['think', 'hear', 'stori', 'lip', 'help'], ['receiv', 'help', 'interv', 'sourc'], ['write', 'charl', 'explain'], ['see', 'death', 'paper'], ['morn'], ['woman', 'stori', 'hang', 'coher', 'question'], ['unabl', 'shake', 'check', 'find'], ['institut', 'divorc', 'proceed', 'husband'], ['time', 'tragedi'], ['unlik', 'dare'], ['baskervill', 'hall', 'trap'], ['necessari', 'return'], ['coomb', 'tracey', 'earli', 'hour', 'morn'], ['excurs', 'keep', 'secret', 'probabl'], ['tell', 'truth'], ['truth', 'come', 'away', 'baffl', 'dishearten'], ['reach', 'dead', 'wall', 'build'], ['path', 'tri', 'object', 'mission'], ['think', 'ladi', 'face', 'manner'], ['felt', 'hold'], ['turn', 'pale', 'fight', 'admiss'], ['forc', 'retic'], ['time', 'tragedi', 'sure', 'explan'], ['innoc', 'believ', 'moment'], ['proceed', 'farther', 'direct', 'turn'], ['clue', 'seek', 'stone', 'hut'], ['moor'], ['vagu', 'direct', 'realis', 'drive'], ['note', 'hill', 'hill', 'show', 'trace', 'ancient'], ['peopl', 'barrymor', 'indic', 'stranger'], ['live', 'abandon', 'hut', 'hundr'], ['scatter', 'length', 'breadth', 'moor'], ['experi', 'guid', 'show'], ['stand', 'summit', 'black'], ['centr', 'search', 'explor'], ['moor', 'light', 'right'], ['insid', 'lip'], ['point', 'revolv', 'necessari'], ['dog', 'long', 'slip', 'away', 'crowd'], ['regent', 'street', 'puzzl', 'lone'], ['moor', 'hand', 'tenant'], ['remain', 'long'], ['vigil', 'return', 'holm', 'miss', 'london'], ['triumph', 'earth'], ['master', 'fail'], ['luck', 'inquiri'], ['come', 'messeng', 'good', 'fortun'], ['frankland', 'stand', 'grey', 'whisker'], ['face', 'outsid', 'gate', 'garden', 'open'], ['highroad', 'travel'], ['good', 'watson', 'cri', 'unwont', 'good', 'humour'], ['hors', 'rest', 'come', 'glass'], ['wine', 'congratul'], ['feel', 'friend'], ['hear', 'treatment', 'daughter'], ['anxious', 'send', 'perkin', 'wagonett', 'home'], ['opportun', 'good', 'alight', 'send', 'messag'], ['henri', 'walk', 'time', 'dinner', 'follow'], ['frankland', 'din', 'room'], ['great', 'letter', 'day'], ['life', 'cri', 'chuckl', 'bring', 'doubl'], ['event', 'mean', 'teach', 'part'], ['fear', 'invok'], ['establish', 'right', 'centr', 'middleton'], ['park', 'slap', 'yard'], ['door', 'think', 'teach', 'magnat'], ['ride', 'roughshod', 'right', 'common'], ['confound', 'close', 'wood', 'fernworthi', 'folk'], ['picnic', 'infern', 'peopl', 'think'], ['right', 'properti', 'swarm'], ['like', 'paper', 'bottl', 'case', 'decid'], ['watson', 'favour', 'haven'], ['john', 'morland', 'trespass', 'shoot'], ['warren'], ['earth'], ['look', 'book', 'repay', 'read', 'frankland'], ['morland', 'court', 'queen', 'bench', 'cost'], ['verdict'], ['good'], ['proud'], ['matter', 'entir', 'sens', 'public', 'duti'], ['doubt', 'exampl', 'fernworthi', 'peopl', 'burn'], ['effigi', 'tonight', 'tell', 'polic', 'time'], ['stop', 'disgrac', 'exhibit', 'counti'], ['constabulari', 'scandal', 'state'], ['afford', 'protect', 'entitl', 'case'], ['frankland', 'regina', 'bring', 'matter', 'attent'], ['public', 'tell', 'occas'], ['regret', 'treatment', 'word', 'come'], ['true'], ['ask'], ['know', 'express'], ['tell', 'die', 'know', 'induc'], ['help', 'rascal'], ['cast', 'round', 'excus'], ['away', 'gossip', 'begin', 'wish', 'hear'], ['see', 'contrari', 'natur', 'sinner'], ['understand', 'strong', 'sign', 'surest'], ['stop', 'confid'], ['poach', 'case', 'doubt', 'say', 'indiffer'], ['manner'], ['import', 'matter'], ['convict', 'moor'], ['star', 'mean', 'know', 'say'], ['know', 'exact', 'sure'], ['help', 'polic', 'hand'], ['strike', 'catch'], ['food', 'trace'], ['certain', 'get', 'uncomfort', 'near', 'truth'], ['doubt', 'say', 'know'], ['moor'], ['know', 'see', 'eye', 'messeng'], ['take', 'food'], ['heart', 'sink', 'barrymor', 'thing'], ['power', 'spite', 'busybodi', 'remark', 'take'], ['weight', 'mind'], ['surpris', 'hear', 'food', 'take'], ['child', 'telescop', 'roof'], ['pass', 'path', 'hour'], ['go', 'convict'], ['luck', 'suppress', 'appear'], ['child', 'barrymor', 'say', 'unknown'], ['suppli', 'track'], ['convict', 'frankland', 'stumbl'], ['knowledg', 'save', 'long', 'weari', 'hunt', 'incredul'], ['indiffer', 'evid', 'strongest', 'card'], ['like'], ['moorland', 'shepherd', 'take', 'father', 'dinner'], ['appear', 'opposit', 'strike'], ['autocrat', 'eye', 'look', 'malign', 'grey'], ['whisker', 'bristl', 'like', 'angri'], ['say', 'point', 'wide', 'stretch'], ['moor', 'black', 'yonder'], ['hill', 'thornbush'], ['stoniest', 'moor', 'place', 'shepherd'], ['like', 'station', 'suggest'], ['absurd'], ['meek', 'answer', 'speak', 'know'], ['fact', 'submiss', 'pleas'], ['confid'], ['sure', 'good', 'ground'], ['come', 'opinion', 'see'], ['bundl', 'twice'], ['abl', 'wait', 'moment', 'watson', 'eye', 'deceiv'], ['present', 'moment', 'move', 'hillsid'], ['mile', 'distinct', 'small', 'dark'], ['dull', 'green', 'grey'], ['come', 'come', 'cri', 'frankland', 'rush', 'upstair'], ['eye', 'judg'], ['telescop', 'formid', 'instrument', 'mount', 'tripod'], ['stand', 'flat', 'lead', 'hous', 'frankland', 'clap'], ['give', 'satisfact'], ['quick', 'watson', 'quick', 'pass', 'hill'], ['sure', 'small', 'urchin', 'littl', 'bundl'], ['shoulder', 'toil', 'slowli', 'hill', 'reach'], ['crest', 'rag', 'uncouth', 'figur', 'outlin', 'instant'], ['cold', 'blue', 'look', 'round', 'furtiv'], ['stealthi', 'dread', 'pursuit', 'vanish'], ['hill'], ['right'], ['certain', 'secret', 'errand'], ['errand', 'counti', 'constabl', 'guess'], ['word', 'shall', 'bind', 'secreci'], ['watson', 'word', 'understand'], ['wish'], ['treat', 'shame', 'shame', 'fact', 'come'], ['frankland', 'regina', 'ventur', 'think', 'thrill'], ['indign', 'countri', 'induc'], ['help', 'polic', 'care'], ['instead', 'effigi', 'rascal', 'burn'], ['stake', 'sure', 'go', 'help'], ['decant', 'honour', 'great', 'occas'], ['resist', 'solicit', 'succeed', 'dissuad'], ['announc', 'intent', 'walk', 'home', 'keep'], ['road', 'long', 'strike'], ['moor', 'stoni', 'hill'], ['disappear', 'work', 'favour', 'swear'], ['lack', 'energi', 'persever'], ['miss', 'chanc', 'fortun', 'throw'], ['sink', 'reach', 'summit'], ['hill', 'long', 'slop', 'beneath', 'golden', 'green'], ['grey', 'shadow', 'haze'], ['farthest', 'line', 'jut', 'fantast', 'shape'], ['belliv', 'vixen', 'wide', 'expans', 'sound'], ['movement', 'great', 'grey', 'bird', 'gull', 'curlew', 'soar'], ['aloft', 'blue', 'heaven', 'live'], ['thing', 'huge', 'arch', 'desert', 'beneath'], ['barren', 'scene', 'sens', 'loneli', 'mysteri'], ['urgenc', 'task', 'strike', 'chill', 'heart'], ['see', 'beneath', 'cleav'], ['hill', 'circl', 'stone', 'hut', 'middl'], ['retain', 'suffici', 'roof'], ['screen', 'weather', 'heart', 'leap'], ['burrow', 'stranger', 'lurk'], ['foot', 'threshold', 'hide', 'place', 'secret'], ['grasp'], ['approach', 'walk', 'warili', 'stapleton'], ['pois', 'draw', 'near', 'settl', 'butterfli'], ['satisfi', 'place'], ['habit', 'vagu', 'pathway', 'boulder'], ['dilapid', 'open', 'serv', 'door', 'silent'], ['unknown', 'lurk'], ['prowl', 'moor', 'nerv', 'tingl', 'sens'], ['adventur', 'throw', 'asid', 'cigarett', 'close', 'hand'], ['butt', 'revolv', 'walk', 'swift', 'door', 'look'], ['place'], ['ampl', 'sign', 'come', 'fals'], ['scent', 'certain', 'live', 'blanket'], ['roll', 'waterproof', 'stone', 'slab'], ['neolith', 'slumber', 'ash', 'heap'], ['rude', 'grate', 'cook', 'utensil', 'bucket'], ['half', 'water', 'litter', 'tin', 'show', 'place'], ['occupi', 'time', 'eye'], ['accustom', 'checker', 'light', 'pannikin', 'half'], ['bottl', 'spirit', 'stand', 'corner', 'middl'], ['flat', 'stone', 'serv', 'purpos', 'tabl'], ['stand', 'small', 'cloth', 'bundl', 'doubt', 'see'], ['telescop', 'shoulder', 'contain'], ['loaf', 'bread', 'tin', 'tongu', 'tin', 'preserv'], ['peach', 'have', 'examin'], ['heart', 'leap', 'beneath', 'sheet', 'paper'], ['write', 'rais', 'read'], ['rough', 'scrawl', 'pencil', 'watson', 'go', 'coomb'], ['tracey'], ['minut', 'stand', 'paper', 'hand', 'think'], ['mean', 'curt', 'messag'], ['henri', 'dog', 'secret'], ['follow', 'agent'], ['track', 'report', 'possibl'], ['take', 'step', 'moor'], ['observ', 'report', 'feel', 'unseen'], ['forc', 'fine', 'draw', 'round', 'infinit', 'skill'], ['delicaci', 'hold', 'light', 'suprem'], ['moment', 'realis', 'entangl'], ['mesh'], ['report', 'look', 'round'], ['search', 'trace'], ['kind', 'discov', 'sign'], ['indic', 'charact', 'intent', 'live'], ['singular', 'place', 'save', 'spartan', 'habit', 'care'], ['littl', 'comfort', 'life', 'think', 'heavi'], ['rain', 'look', 'gap', 'roof', 'understand', 'strong'], ['immut', 'purpos', 'keep'], ['inhospit', 'abid', 'malign', 'enemi'], ['chanc', 'guardian', 'angel', 'swear', 'leav'], ['know'], ['outsid', 'sink', 'west', 'blaze'], ['scarlet', 'gold', 'reflect', 'shoot', 'ruddi', 'patch'], ['distant', 'pool', 'amid', 'great', 'grimpen', 'mire'], ['tower', 'baskervill', 'hall', 'distant', 'blur'], ['smoke', 'mark', 'villag', 'grimpen'], ['hill', 'hous', 'stapleton', 'sweet'], ['mellow', 'peac', 'golden', 'even', 'light'], ['look', 'soul', 'share', 'peac', 'natur'], ['quiver', 'vagu', 'terror', 'interview'], ['instant', 'bring', 'nearer', 'tingl', 'nerv'], ['fix', 'purpos', 'dark', 'recess', 'wait'], ['sombr', 'patienc', 'come', 'tenant'], ['hear', 'away', 'come', 'sharp', 'clink'], ['boot', 'strike', 'stone', 'come'], ['nearer', 'nearer', 'shrink', 'darkest', 'corner'], ['cock', 'pistol', 'pocket', 'determin', 'discov'], ['opportun', 'see', 'stranger'], ['long', 'paus', 'show', 'stop'], ['footstep', 'approach', 'shadow', 'fell'], ['open'], ['love', 'even', 'dear', 'watson', 'say', 'know'], ['voic', 'think', 'comfort', 'outsid'], ['chapter'], ['death', 'moor'], ['moment', 'breathless', 'hard', 'abl', 'believ'], ['ear', 'sens', 'voic', 'come'], ['crush', 'weight', 'respons', 'instant'], ['lift', 'soul', 'cold', 'incis', 'iron', 'voic'], ['belong', 'world'], ['holm', 'cri', 'holm'], ['come', 'say', 'care', 'revolv'], ['stoop', 'rude', 'lintel', 'stone'], ['outsid', 'grey', 'eye', 'danc', 'amus', 'fell'], ['astonish', 'featur', 'wear', 'clear'], ['alert', 'keen', 'face', 'bronz', 'roughen'], ['wind', 'tweed', 'suit', 'cloth', 'look', 'like'], ['tourist', 'moor', 'contriv', 'catlik'], ['love', 'person', 'cleanli'], ['characterist', 'chin', 'smooth', 'linen'], ['perfect', 'baker', 'street'], ['glad', 'life', 'say'], ['wring', 'hand'], ['astonish'], ['confess'], ['surpris', 'assur'], ['idea', 'occasion', 'retreat'], ['insid', 'pace', 'door'], ['footprint', 'presum'], ['watson', 'fear', 'undertak', 'recogn'], ['footprint', 'amid', 'footprint', 'world', 'serious'], ['desir', 'deceiv', 'chang', 'tobacconist'], ['stub', 'cigarett', 'mark', 'bradley', 'oxford', 'street', 'know'], ['friend', 'watson', 'neighbourhood'], ['path', 'throw', 'doubt'], ['suprem', 'moment', 'charg'], ['exact'], ['think', 'know', 'admir', 'tenac'], ['convinc', 'sit', 'ambush', 'weapon', 'reach'], ['wait', 'tenant', 'return', 'actual', 'think'], ['crimin'], ['know', 'determin'], ['excel', 'watson', 'localis'], ['night', 'convict', 'hunt'], ['imprud', 'allow', 'moon', 'rise'], ['doubt', 'search', 'hut', 'come'], ['observ', 'give', 'guid'], ['look'], ['gentleman', 'telescop', 'doubt'], ['light', 'flash', 'len'], ['rise', 'peep', 'cartwright'], ['bring', 'suppli', 'paper'], ['coomb', 'tracey'], ['laura', 'lyon'], ['exact'], ['research', 'evid', 'run'], ['parallel', 'line', 'unit', 'result', 'expect', 'shall'], ['fair', 'knowledg', 'case'], ['glad', 'heart'], ['respons', 'mysteri'], ['nerv', 'wonder', 'come'], ['think', 'baker', 'street'], ['work', 'case', 'blackmail'], ['wish', 'think'], ['trust', 'cri'], ['bitter', 'think', 'deserv', 'better', 'hand'], ['holm'], ['dear', 'fellow', 'invalu'], ['case', 'forgiv'], ['play', 'trick', 'truth', 'part'], ['sake', 'appreci', 'danger'], ['come', 'examin', 'matter'], ['henri', 'confid'], ['point', 'view'], ['presenc', 'warn', 'formid', 'oppon'], ['guard', 'abl'], ['possibl', 'live', 'hall'], ['remain', 'unknown', 'factor', 'busi', 'readi', 'throw'], ['weight', 'critic', 'moment'], ['dark'], ['know', 'help', 'possibl'], ['discoveri', 'wish', 'tell'], ['kind', 'bring', 'comfort'], ['unnecessari', 'risk', 'bring'], ['cartwright', 'rememb', 'littl', 'chap'], ['express', 'offic', 'see', 'simpl', 'want', 'loaf'], ['bread', 'clean', 'collar', 'want', 'give'], ['extra', 'pair', 'eye', 'activ', 'pair', 'feet'], ['invalu'], ['report', 'wast', 'voic', 'trembl'], ['recal', 'pain', 'pride', 'compos'], ['holm', 'take', 'bundl', 'paper', 'pocket'], ['report', 'dear', 'fellow', 'thumb'], ['assur', 'excel', 'arrang'], ['delay', 'compliment', 'exceed'], ['zeal', 'intellig', 'show'], ['extraordinarili', 'difficult', 'case'], ['decept'], ['practis', 'warmth', 'holm', 'prais', 'drive'], ['anger', 'mind', 'felt', 'heart', 'right'], ['say', 'best', 'purpos'], ['know', 'moor'], ['better', 'say', 'see', 'shadow', 'rise', 'face'], ['tell', 'result', 'visit', 'laura', 'lyon'], ['difficult', 'guess'], ['go', 'awar', 'person'], ['coomb', 'tracey', 'servic', 'matter'], ['fact', 'go', 'today', 'exceed', 'probabl'], ['go', 'tomorrow'], ['dusk', 'settl', 'moor'], ['turn', 'chill', 'withdraw', 'warmth'], ['sit', 'twilight', 'tell', 'holm'], ['convers', 'ladi', 'interest'], ['repeat', 'twice', 'satisfi'], ['import', 'say', 'conclud', 'fill'], ['unabl', 'bridg', 'complex'], ['affair', 'awar', 'close', 'intimaci', 'exist'], ['ladi', 'stapleton'], ['know', 'close', 'intimaci'], ['doubt', 'matter', 'meet', 'write'], ['complet', 'understand', 'put'], ['power', 'weapon', 'hand'], ['detach', 'wife'], ['wife'], ['give', 'inform', 'return'], ['give', 'ladi', 'pass', 'miss', 'stapleton'], ['realiti', 'wife'], ['good', 'heaven', 'holm', 'sure'], ['permit', 'henri', 'fall', 'love'], ['henri', 'fall', 'love', 'harm'], ['henri', 'take', 'particular', 'care', 'henri'], ['love', 'observ', 'repeat'], ['ladi', 'wife', 'sister'], ['elabor', 'decept'], ['forese', 'use'], ['charact', 'free', 'woman'], ['unspoken', 'instinct', 'vagu', 'suspicion', 'sudden', 'take'], ['shape', 'centr', 'naturalist', 'impass'], ['colourless', 'straw', 'butterfli'], ['terribl', 'creatur', 'infinit', 'patienc'], ['craft', 'smile', 'face', 'murder', 'heart'], ['enemi', 'dog'], ['london'], ['read', 'riddl'], ['warn', 'come'], ['exact'], ['shape', 'monstrous', 'villaini', 'half', 'see', 'half', 'guess'], ['loom', 'dark', 'gird', 'long'], ['sure', 'holm', 'know', 'woman'], ['wife'], ['forget', 'tell', 'true', 'piec'], ['autobiographi', 'occas', 'dare'], ['time', 'regret'], ['schoolmast', 'north', 'england'], ['easi', 'trace', 'schoolmast', 'scholast', 'agenc'], ['identifi', 'profess'], ['littl', 'investig', 'show', 'school', 'come', 'grief'], ['atroci', 'circumst', 'own'], ['differ', 'disappear', 'wife'], ['descript', 'agre', 'learn', 'miss'], ['devot', 'entomolog', 'identif', 'complet'], ['dark', 'rise', 'hide'], ['shadow'], ['woman', 'truth', 'wife', 'laura', 'lyon'], ['come', 'ask'], ['point', 'research'], ['shed', 'light', 'interview', 'ladi', 'clear'], ['situat', 'know', 'project', 'divorc'], ['husband', 'case'], ['stapleton', 'unmarri', 'count', 'doubt'], ['wife'], ['undec'], ['ladi', 'servic'], ['duti', 'tomorrow', 'think', 'watson'], ['away', 'charg', 'long', 'place'], ['baskervill', 'hall'], ['streak', 'fade', 'away', 'west', 'night'], ['settl', 'moor', 'faint', 'star', 'gleam'], ['violet'], ['question', 'holm', 'say', 'rise', 'sure'], ['need', 'secreci', 'mean'], ['holm', 'voic', 'sink', 'answer'], ['murder', 'watson', 'refin', 'cold', 'blood', 'deliber', 'murder'], ['particular', 'net', 'close'], ['henri', 'help'], ['merci', 'danger', 'threaten'], ['strike', 'readi'], ['case', 'complet'], ['guard', 'charg', 'close', 'fond', 'mother'], ['watch', 'ail', 'child', 'mission', 'today', 'justifi'], ['wish', 'leav'], ['hark'], ['terribl', 'scream', 'prolong', 'yell', 'horror', 'anguish', 'burst'], ['silenc', 'moor', 'fright', 'turn'], ['blood', 'vein'], ['gasp', 'mean'], ['holm', 'spring', 'feet', 'dark', 'athlet'], ['outlin', 'door', 'shoulder', 'stoop', 'head'], ['thrust', 'forward', 'face', 'peer', 'dark'], ['hush', 'whisper', 'hush'], ['loud', 'account', 'vehem'], ['peal', 'shadowi', 'plain'], ['burst', 'ear', 'nearer', 'louder', 'urgent'], ['holm', 'whisper', 'know', 'thrill'], ['voic', 'iron', 'shake', 'soul'], ['watson'], ['think', 'point', 'dark'], ['agonis', 'sweep', 'silent', 'night', 'louder'], ['nearer', 'sound', 'mingl', 'deep'], ['mutter', 'rumbl', 'music', 'menac', 'rise', 'fall'], ['like', 'constant', 'murmur'], ['hound', 'cri', 'holm', 'come', 'watson', 'come', 'great', 'heaven'], ['late'], ['start', 'run', 'swift', 'moor', 'follow'], ['heel', 'break', 'grind'], ['immedi', 'come', 'despair', 'yell'], ['dull', 'heavi', 'thud', 'halt', 'listen'], ['sound', 'break', 'heavi', 'silenc', 'windless', 'night'], ['holm', 'hand', 'forehead', 'like', 'distract'], ['stamp', 'feet', 'grind'], ['beat', 'watson', 'late'], ['sure'], ['fool', 'hold', 'hand', 'watson', 'come'], ['abandon', 'charg', 'heaven', 'worst'], ['happen', 'aveng'], ['blind', 'gloom', 'blunder', 'boulder'], ['forc', 'gors', 'bush', 'pant', 'hill'], ['rush', 'slop', 'head', 'direct'], ['dread', 'sound', 'come', 'rise', 'holm', 'look', 'eager'], ['round', 'shadow', 'moor'], ['move', 'dreari', 'face'], ['hark'], ['moan', 'fall', 'ear'], ['leav', 'ridg', 'rock', 'end', 'sheer', 'cliff'], ['overlook', 'stone', 'strew', 'slope', 'jag', 'face'], ['spread', 'eagl', 'dark', 'irregular', 'object'], ['vagu', 'outlin', 'harden', 'definit', 'shape'], ['prostrat', 'face', 'downward', 'grind', 'head', 'doubl'], ['horribl', 'angl', 'shoulder', 'round', 'bodi'], ['hunch', 'throw', 'somersault'], ['grotesqu', 'attitud', 'instant'], ['realis', 'moan', 'pass', 'soul'], ['whisper', 'rustl', 'rise', 'dark', 'figur'], ['stoop', 'holm', 'lay', 'hand', 'hold'], ['exclam', 'horror', 'gleam', 'match'], ['strike', 'shine', 'clot', 'finger', 'ghast', 'pool'], ['widen', 'slowli', 'crush', 'skull', 'victim'], ['shine', 'turn', 'heart', 'sick', 'faint'], ['bodi', 'henri', 'baskervill'], ['chanc', 'forget', 'peculiar'], ['ruddi', 'tweed', 'suit', 'wear'], ['morn', 'see', 'baker', 'street', 'catch'], ['clear', 'glimps', 'match', 'flicker', 'go'], ['hope', 'go', 'soul', 'holm', 'groan'], ['face', 'glimmer', 'white', 'dark'], ['brute', 'brute', 'cri', 'clench', 'hand', 'holm'], ['shall', 'forgiv', 'have', 'leav', 'fate'], ['blame', 'watson', 'order', 'case'], ['round', 'complet', 'throw', 'away', 'life'], ['client', 'greatest', 'blow', 'befal'], ['career', 'know', 'know'], ['risk', 'life', 'moor', 'face'], ['warn'], ['hear', 'scream', 'scream'], ['unabl', 'save', 'brute', 'hound'], ['drive', 'death', 'lurk', 'rock'], ['instant', 'stapleton', 'shall', 'answer'], ['deed'], ['shall', 'uncl', 'nephew'], ['murder', 'frighten', 'death', 'sight', 'beast'], ['think', 'supernatur', 'drive'], ['wild', 'flight', 'escap', 'prove'], ['connect', 'beast', 'save'], ['hear', 'swear', 'exist'], ['henri', 'evid', 'die', 'fall', 'heaven'], ['cun', 'fellow', 'shall', 'power'], ['past'], ['stand', 'bitter', 'heart', 'mangl', 'bodi'], ['overwhelm', 'sudden', 'irrevoc', 'disast'], ['bring', 'long', 'weari', 'labour', 'piteous'], ['moon', 'rise', 'climb', 'rock'], ['poor', 'friend', 'fall', 'summit', 'gaze'], ['shadowi', 'moor', 'half', 'silver', 'half', 'gloom', 'away', 'mile'], ['direct', 'grimpen', 'singl', 'steadi', 'yellow', 'light'], ['shin', 'come', 'lone', 'abid'], ['stapleton', 'bitter', 'curs', 'shake', 'fist', 'gaze'], ['seiz'], ['case', 'complet', 'fellow', 'wari', 'cun'], ['degre', 'know', 'prove'], ['fals', 'villain', 'escap'], ['plenti', 'tomorrow', 'tonight'], ['perform', 'offic', 'poor', 'friend'], ['precipit', 'slope'], ['approach', 'bodi', 'black', 'clear', 'silver', 'stone'], ['agoni', 'contort', 'limb', 'strike', 'spasm', 'pain'], ['blur', 'eye', 'tear'], ['send', 'help', 'holm', 'carri'], ['hall', 'good', 'heaven'], ['utter', 'bend', 'bodi', 'danc'], ['laugh', 'wring', 'hand', 'stern'], ['self', 'contain', 'friend', 'hide', 'fire'], ['beard', 'beard', 'beard'], ['beard'], ['baronet', 'neighbour'], ['convict'], ['feverish', 'hast', 'turn', 'bodi'], ['drip', 'beard', 'point', 'cold', 'clear', 'moon'], ['doubt', 'beetl', 'forehead', 'sink', 'anim'], ['eye', 'face', 'glare'], ['light', 'candl', 'rock', 'face', 'selden'], ['crimin'], ['instant', 'clear', 'rememb'], ['baronet', 'tell', 'hand', 'wardrob'], ['barrymor', 'barrymor', 'pass', 'order', 'help', 'selden'], ['escap', 'boot', 'shirt', 'henri', 'tragedi'], ['black', 'deserv', 'death'], ['law', 'countri', 'tell', 'holm', 'matter', 'stand'], ['heart', 'bubbl', 'thank'], ['cloth', 'poor', 'devil', 'death', 'say'], ['clear', 'hound', 'lay', 'articl'], ['henri', 'boot', 'abstract', 'hotel'], ['probabl', 'singular'], ['thing', 'come', 'selden', 'dark', 'know'], ['hound', 'trail'], ['hear'], ['hear', 'hound', 'moor', 'work', 'hard', 'like'], ['convict', 'paroxysm', 'terror', 'risk'], ['recaptur', 'scream', 'wild', 'help', 'cri'], ['long', 'know', 'anim', 'track'], ['know'], ['greater', 'mysteri', 'hound', 'presum'], ['conjectur', 'correct'], ['presum'], ['hound', 'loos', 'tonight', 'suppos'], ['loos', 'moor', 'stapleton'], ['reason', 'think', 'henri'], ['difficulti', 'formid', 'think'], ['shall', 'short', 'explan'], ['remain', 'forev', 'mysteri', 'question'], ['shall', 'poor', 'wretch', 'bodi', 'leav'], ['fox', 'raven'], ['suggest', 'hut'], ['communic', 'polic'], ['exact', 'doubt', 'carri'], ['halloa', 'watson'], ['wonder', 'audaci', 'word', 'suspicion'], ['word', 'plan', 'crumbl', 'grind'], ['figur', 'approach', 'moor', 'dull'], ['glow', 'cigar', 'moon', 'shine', 'distinguish'], ['dapper', 'shape', 'jaunti', 'walk', 'naturalist', 'stop'], ['come'], ['watson'], ['expect', 'moor', 'time'], ['night', 'dear', 'somebodi', 'hurt'], ['tell', 'friend', 'henri', 'hurri', 'past'], ['stoop', 'dead', 'hear', 'sharp', 'intak', 'breath'], ['cigar', 'fell', 'finger'], ['stammer'], ['selden', 'escap', 'princetown'], ['stapleton', 'turn', 'ghast', 'face', 'suprem', 'effort'], ['overcom', 'amaz', 'disappoint', 'look'], ['sharpli', 'holm', 'dear', 'shock', 'affair'], ['appear', 'break', 'neck', 'fall', 'rock'], ['friend', 'stroll', 'moor', 'hear'], ['hear', 'bring', 'uneasi'], ['henri'], ['henri', 'particular', 'help', 'ask'], ['suggest', 'come'], ['come', 'surpris', 'natur', 'alarm'], ['safeti', 'hear', 'cri', 'moor', 'eye'], ['dart', 'face', 'holm', 'hear'], ['say', 'holm'], ['mean'], ['know', 'stori', 'peasant', 'tell', 'phantom'], ['hound', 'say', 'hear', 'night', 'moor'], ['wonder', 'evid', 'sound'], ['tonight'], ['hear', 'kind', 'say'], ['theori', 'poor', 'fellow', 'death'], ['doubt', 'anxieti', 'exposur', 'drive'], ['head', 'rush', 'moor', 'crazi', 'state'], ['eventu', 'fall', 'break', 'neck'], ['reason', 'theori', 'say', 'stapleton'], ['give', 'sigh', 'take', 'indic', 'relief'], ['think', 'sherlock', 'holm'], ['friend', 'bow', 'compliment', 'quick'], ['identif', 'say'], ['expect', 'part', 'watson', 'come'], ['time', 'tragedi'], ['doubt', 'friend', 'explan'], ['cover', 'fact', 'unpleas', 'remembr'], ['london', 'tomorrow'], ['return', 'tomorrow'], ['intent'], ['hope', 'visit', 'cast', 'light', 'occurr'], ['puzzl'], ['holm', 'shrug', 'shoulder'], ['success', 'hop'], ['investig', 'need', 'fact', 'legend', 'rumour'], ['satisfactori', 'case'], ['friend', 'speak', 'frankest', 'unconcern', 'manner'], ['stapleton', 'look', 'hard', 'turn'], ['suggest', 'carri', 'poor', 'fellow', 'hous'], ['sister', 'fright', 'feel', 'justifi'], ['think', 'face'], ['safe', 'morn'], ['arrang', 'resist', 'stapleton', 'offer'], ['hospit', 'holm', 'baskervill', 'hall', 'leav'], ['naturalist', 'return', 'look', 'figur'], ['move', 'slowli', 'away', 'broad', 'moor'], ['black', 'smudg', 'silver', 'slope', 'show'], ['lie', 'come', 'horribl'], ['close', 'grip', 'say', 'holm', 'walk'], ['moor', 'nerv', 'fellow', 'pull'], ['face', 'paralyz'], ['shock', 'wrong', 'fall', 'victim'], ['plot', 'tell', 'london', 'watson', 'tell'], ['foeman', 'worthi', 'steel'], ['sorri', 'see'], ['get'], ['effect', 'think', 'plan'], ['know'], ['caus', 'cautious', 'drive'], ['desper', 'measur', 'like', 'clever', 'crimin'], ['confid', 'clever', 'imagin'], ['complet', 'deceiv'], ['arrest'], ['dear', 'watson', 'bear', 'action'], ['instinct', 'energet', 'suppos'], ['argument', 'sake', 'arrest', 'tonight', 'earth'], ['better', 'prove'], ['devilish', 'cun'], ['act', 'human', 'agent', 'evid'], ['drag', 'great', 'light'], ['help', 'put', 'rope', 'round', 'neck', 'master'], ['sure', 'case'], ['shadow', 'surmis', 'conjectur'], ['laugh', 'court', 'come', 'stori'], ['evid'], ['charl', 'death'], ['dead', 'mark', 'know', 'die'], ['sheer', 'fright', 'know', 'frighten'], ['stolid', 'jurymen', 'know', 'sign'], ['hound', 'mark', 'fang', 'cours'], ['know', 'hound', 'bite', 'dead', 'bodi', 'charl'], ['dead', 'brute', 'overtak', 'prove'], ['posit'], ['tonight'], ['better', 'tonight', 'direct'], ['connect', 'hound', 'death'], ['hound', 'hear', 'prove'], ['run', 'trail', 'complet', 'absenc'], ['motiv', 'dear', 'fellow', 'reconcil'], ['fact', 'case', 'present', 'worth'], ['risk', 'order', 'establish'], ['propos'], ['great', 'hop', 'laura', 'lyon'], ['posit', 'affair', 'clear'], ['plan', 'suffici', 'tomorrow', 'evil', 'thereof'], ['hope', 'past', 'upper', 'hand'], ['draw', 'walk', 'lose'], ['think', 'baskervill', 'gate'], ['come'], ['reason', 'conceal', 'word'], ['watson', 'hound', 'henri', 'think'], ['selden', 'death', 'stapleton', 'believ'], ['better', 'nerv', 'ordeal', 'undergo'], ['tomorrow', 'engag', 'rememb', 'report', 'aright'], ['dine', 'peopl'], ['excus'], ['easili', 'arrang', 'late', 'dinner', 'think'], ['readi', 'supper'], ['chapter'], ['fix', 'net'], ['henri', 'pleas', 'surpris', 'sherlock', 'holm'], ['day', 'expect', 'recent', 'event'], ['bring', 'london', 'rais', 'eyebrow'], ['friend', 'luggag'], ['explan', 'absenc', 'soon', 'suppli'], ['want', 'belat', 'supper', 'explain', 'baronet'], ['experi', 'desir'], ['know', 'unpleas', 'duti', 'break', 'news'], ['barrymor', 'wife', 'unmitig'], ['relief', 'weep', 'bitter', 'apron', 'world'], ['violenc', 'half', 'anim', 'half', 'demon'], ['remain', 'littl', 'wil', 'girlhood'], ['child', 'cling', 'hand', 'evil'], ['woman', 'mourn'], ['mop', 'hous', 'watson', 'go'], ['morn', 'say', 'baronet', 'guess'], ['credit', 'keep', 'promis', 'hadn', 'swear'], ['live', 'even'], ['messag', 'stapleton', 'ask'], ['doubt', 'live', 'even'], ['say', 'holm', 'drili', 'suppos', 'appreci'], ['mourn', 'have', 'break', 'neck'], ['henri', 'open', 'eye'], ['poor', 'wretch', 'dress', 'cloth', 'fear'], ['servant', 'give', 'troubl'], ['polic'], ['unlik', 'mark'], ['know'], ['lucki', 'fact', 'lucki'], ['wrong', 'matter'], ['sure', 'conscienti', 'detect', 'duti'], ['arrest', 'household', 'watson', 'report'], ['incrimin', 'document'], ['case', 'ask', 'baronet'], ['tangl', 'know', 'watson'], ['wiser', 'come'], ['think', 'shall', 'posit', 'situat'], ['clear', 'long', 'exceed'], ['difficult', 'complic', 'busi', 'point'], ['want', 'light', 'come'], ['experi', 'watson', 'doubt', 'tell'], ['hear', 'hound', 'moor', 'swear'], ['superstit', 'dog'], ['west', 'know', 'hear', 'muzzl'], ['chain', 'readi', 'swear'], ['greatest', 'detect', 'time'], ['think', 'muzzl', 'chain', 'right'], ['help'], ['tell'], ['good', 'blind'], ['ask', 'reason'], ['like'], ['think', 'chanc', 'littl'], ['problem', 'soon', 'solv', 'doubt'], ['stop', 'sudden', 'star', 'fix', 'head'], ['lamp', 'beat', 'face', 'intent'], ['clear', 'classic'], ['statu', 'personif', 'alert', 'expect'], ['cri'], ['look', 'repress'], ['intern', 'emot', 'featur', 'compos', 'eye'], ['shine', 'amus', 'exult'], ['excus', 'admir', 'connoisseur', 'say', 'wave'], ['hand', 'line', 'portrait', 'cover', 'opposit'], ['wall', 'watson', 'allow', 'know'], ['mere', 'jealousi', 'view', 'subject', 'differ'], ['fine', 'seri', 'portrait'], ['glad', 'hear', 'say', 'henri', 'glanc'], ['surpris', 'friend', 'pretend', 'know'], ['thing', 'better', 'judg', 'hors'], ['steer', 'pictur', 'know', 'time'], ['thing'], ['know', 'good'], ['kneller', 'swear', 'ladi', 'blue', 'silk', 'yonder'], ['stout', 'gentleman', 'ought', 'reynold'], ['famili', 'portrait', 'presum'], ['know', 'name'], ['barrymor', 'coach', 'think'], ['lesson', 'fair'], ['gentleman', 'telescop'], ['rear', 'admir', 'baskervill', 'serv', 'rodney'], ['west', 'indi', 'blue', 'coat', 'roll', 'paper'], ['william', 'baskervill', 'chairman', 'committe'], ['hous', 'common', 'pitt'], ['cavali', 'opposit', 'black', 'velvet'], ['lace'], ['right', 'know', 'caus'], ['mischief', 'wick', 'hugo', 'start', 'hound'], ['baskervill', 'like', 'forget'], ['gaze', 'surpris', 'portrait'], ['dear', 'say', 'holm', 'quiet', 'meek', 'manner'], ['dare', 'lurk', 'devil'], ['eye', 'pictur', 'robust', 'ruffian', 'person'], ['doubt', 'authent'], ['date', 'canva'], ['holm', 'say', 'littl', 'pictur', 'royster'], ['fascin', 'eye'], ['continu', 'fix', 'supper', 'later'], ['henri', 'go', 'room', 'abl', 'follow'], ['trend', 'thought'], ['banquet', 'hall', 'bedroom', 'candl', 'hand', 'hold'], ['time', 'stain', 'portrait', 'wall'], ['look', 'broad', 'plume', 'curl', 'love', 'lock'], ['white', 'lace', 'collar', 'straight', 'sever', 'face', 'frame'], ['brutal', 'counten', 'prim'], ['hard', 'stern', 'firm', 'lip', 'mouth', 'cold'], ['intoler'], ['like', 'know'], ['henri'], ['suggest', 'wait', 'instant', 'stand'], ['chair', 'hold', 'light', 'leav', 'hand', 'curv'], ['right', 'broad', 'round', 'long', 'ringlet'], ['good', 'heaven', 'cri', 'amaz'], ['face', 'stapleton', 'spring', 'canva'], ['eye', 'train', 'examin', 'face'], ['trim', 'qualiti', 'crimin'], ['investig', 'disguis'], ['marvel', 'portrait'], ['interest', 'instanc', 'throwback', 'appear'], ['physic', 'spiritu', 'studi', 'famili', 'portrait'], ['convert', 'doctrin', 'reincarn'], ['fellow', 'baskervill', 'evid'], ['design', 'success'], ['exact', 'chanc', 'pictur', 'suppli'], ['obvious', 'miss', 'link', 'watson'], ['dare', 'swear', 'tomorrow', 'night', 'flutter'], ['helpless', 'butterfli'], ['cork', 'card', 'baker', 'street', 'collect'], ['burst', 'rare', 'fit', 'laughter', 'turn', 'away'], ['pictur', 'hear', 'laugh'], ['bode', 'somebodi'], ['betim', 'morn', 'holm', 'afoot', 'earlier'], ['dress', 'come', 'drive'], ['today', 'remark'], ['rub', 'hand', 'action', 'net'], ['place', 'drag', 'begin', 'know'], ['catch', 'lean', 'jaw', 'pike'], ['mesh'], ['moor'], ['send', 'report', 'grimpen', 'princetown', 'death'], ['selden', 'think', 'promis'], ['troubl', 'matter', 'communic'], ['faith', 'cartwright', 'certain', 'pin', 'away'], ['door', 'master', 'grave'], ['mind', 'rest', 'safeti'], ['henri'], ['good', 'morn', 'holm', 'say', 'baronet', 'look', 'like'], ['general', 'plan', 'battl', 'chief', 'staff'], ['exact', 'situat', 'watson', 'ask', 'order'], ['good', 'engag', 'understand', 'dine'], ['friend', 'stapleton', 'tonight'], ['hope', 'come', 'hospit', 'peopl'], ['sure', 'glad'], ['fear', 'watson', 'london'], ['london'], ['think', 'use', 'present'], ['junctur'], ['baronet', 'face', 'percept', 'lengthen'], ['hop', 'go', 'busi'], ['hall', 'moor', 'pleasant', 'place'], ['dear', 'fellow', 'trust', 'implicit', 'exact'], ['tell', 'tell', 'friend'], ['happi', 'come', 'urgent', 'busi', 'requir'], ['town', 'hope', 'soon', 'return', 'devonshir'], ['rememb', 'messag'], ['insist'], ['altern', 'assur'], ['baronet', 'cloud', 'brow', 'deepli', 'hurt'], ['regard', 'desert'], ['desir', 'ask', 'cold'], ['immedi', 'breakfast', 'drive', 'coomb', 'tracey'], ['watson', 'leav', 'thing', 'pledg', 'come'], ['watson', 'send', 'note', 'stapleton', 'tell'], ['regret', 'come'], ['good', 'mind', 'london', 'say', 'baronet'], ['stay'], ['post', 'duti', 'give', 'word'], ['tell', 'tell', 'stay'], ['right', 'stay'], ['direct', 'wish', 'drive', 'merripit', 'hous', 'send'], ['trap', 'know', 'intend'], ['walk', 'home'], ['walk', 'moor'], ['thing', 'caution'], ['time', 'safeti'], ['confid', 'nerv', 'courag', 'suggest'], ['essenti'], ['valu', 'life', 'moor'], ['direct', 'save', 'straight', 'path', 'lead', 'merripit'], ['hous', 'grimpen', 'road', 'natur', 'home'], ['good', 'glad', 'away', 'soon', 'breakfast'], ['possibl', 'reach', 'london', 'afternoon'], ['astound', 'programm', 'rememb'], ['holm', 'say', 'stapleton', 'night', 'visit'], ['termin', 'cross', 'mind'], ['wish', 'understand'], ['absent', 'moment', 'declar'], ['critic', 'implicit'], ['obedi', 'bid', 'good', 'rueful', 'friend', 'coupl'], ['hour', 'station', 'coomb', 'tracey'], ['dispatch', 'trap', 'return', 'journey', 'small'], ['wait', 'platform'], ['order'], ['train', 'town', 'cartwright', 'moment'], ['arriv', 'send', 'wire', 'henri', 'baskervill'], ['find', 'pocketbook', 'drop'], ['send', 'regist', 'post', 'baker', 'street'], ['station', 'offic', 'messag'], ['return', 'telegram', 'holm', 'hand'], ['wire', 'receiv', 'come', 'unsign', 'warrant', 'arriv'], ['lestrad'], ['answer', 'morn', 'best'], ['profession', 'think', 'need', 'assist'], ['watson', 'think', 'employ', 'time', 'better'], ['call', 'acquaint', 'laura', 'lyon'], ['plan', 'campaign', 'begin', 'evid'], ['baronet', 'order', 'convinc', 'stapleton'], ['go', 'actual', 'return', 'instant'], ['like', 'need', 'telegram', 'london'], ['mention', 'henri', 'stapleton', 'remov'], ['suspicion', 'mind', 'net'], ['draw', 'closer', 'lean', 'jaw', 'pike'], ['laura', 'lyon', 'offic', 'sherlock', 'holm', 'open'], ['interview', 'frank', 'direct', 'consider'], ['amaz'], ['investig', 'circumst', 'attend', 'death'], ['late', 'charl', 'baskervill', 'say', 'friend'], ['watson', 'inform', 'communic'], ['withhold', 'connect', 'matter'], ['withhold', 'ask', 'defiant'], ['confess', 'ask', 'charl', 'gate'], ['clock', 'know', 'place', 'hour'], ['death', 'withhold', 'connect'], ['event'], ['connect'], ['case', 'coincid', 'extraordinari'], ['think', 'shall', 'succeed', 'establish'], ['connect', 'wish', 'perfect', 'frank'], ['lyon', 'regard', 'case', 'murder'], ['evid', 'implic', 'friend', 'stapleton'], ['wife'], ['ladi', 'spring', 'chair'], ['wife', 'cri'], ['fact', 'longer', 'secret', 'person', 'pass'], ['sister', 'wife'], ['lyon', 'resum', 'seat', 'hand', 'grasp', 'arm'], ['chair', 'pink', 'nail', 'turn', 'white'], ['pressur', 'grip'], ['wife', 'say', 'wife', 'marri'], ['sherlock', 'holm', 'shrug', 'shoulder'], ['prove', 'prove'], ['fierc', 'flash', 'eye', 'say', 'word'], ['come', 'prepar', 'say', 'holm', 'draw'], ['paper', 'pocket', 'photograph', 'coupl', 'take'], ['york', 'year', 'indors', 'vandeleur'], ['difficulti', 'recogn'], ['know', 'sight', 'write', 'descript'], ['trustworthi', 'wit', 'vandeleur', 'time'], ['keep', 'oliv', 'privat', 'school', 'read'], ['doubt', 'ident', 'peopl'], ['glanc', 'look', 'rigid'], ['face', 'desper', 'woman'], ['holm', 'say', 'offer', 'marriag'], ['condit', 'divorc', 'husband', 'lie'], ['villain', 'conceiv', 'word'], ['truth', 'tell', 'imagin'], ['sake'], ['tool', 'hand', 'preserv', 'faith'], ['keep', 'shield'], ['consequ', 'wick', 'act', 'like'], ['shall', 'hold', 'thing', 'swear'], ['write', 'letter', 'dream'], ['harm', 'gentleman', 'kindest', 'friend'], ['entir', 'believ', 'madam', 'say', 'sherlock', 'holm'], ['recit', 'event', 'pain'], ['easier', 'tell', 'occur'], ['check', 'materi', 'mistak', 'send'], ['letter', 'suggest', 'stapleton'], ['dictat'], ['presum', 'reason', 'give', 'receiv'], ['help', 'charl', 'legal', 'expens', 'connect'], ['divorc'], ['exact'], ['send', 'letter', 'dissuad'], ['keep', 'appoint'], ['tell', 'hurt', 'self', 'respect'], ['money', 'object'], ['poor', 'devot', 'penni', 'remov'], ['obstacl', 'divid'], ['appear', 'consist', 'charact', 'hear'], ['read', 'report', 'death', 'paper'], ['swear', 'appoint'], ['charl'], ['say', 'death', 'mysteri'], ['certain', 'suspect', 'fact', 'come'], ['frighten', 'remain', 'silent'], ['suspicion'], ['hesit', 'look'], ['know', 'say', 'keep', 'faith'], ['think', 'fortun', 'escap', 'say'], ['sherlock', 'holm', 'power', 'know'], ['aliv', 'walk', 'month'], ['near', 'edg', 'precipic', 'wish', 'good', 'morn'], ['lyon', 'probabl', 'short'], ['hear'], ['case', 'round', 'difficulti', 'difficulti'], ['thin', 'away', 'say', 'holm', 'stand', 'wait'], ['arriv', 'express', 'town', 'shall', 'soon'], ['posit', 'abl', 'singl', 'connect', 'narrat'], ['singular', 'sensat', 'crime', 'modern', 'time'], ['student', 'criminolog', 'rememb', 'analog', 'incid'], ['godno', 'littl', 'russia', 'year', 'cours'], ['anderson', 'murder', 'north', 'carolina', 'case', 'possess'], ['featur', 'entir'], ['clear', 'case', 'wili', 'shall'], ['surpris', 'clear'], ['night'], ['london', 'express', 'come', 'roar', 'station', 'small'], ['wiri', 'bulldog', 'spring', 'class', 'carriag'], ['shake', 'hand', 'reverenti'], ['lestrad', 'gaze', 'companion', 'learn'], ['good', 'deal', 'day', 'work'], ['rememb', 'scorn', 'theori', 'reason'], ['excit', 'practic'], ['good', 'ask'], ['biggest', 'thing', 'year', 'say', 'holm', 'hour'], ['need', 'think', 'start', 'think', 'employ'], ['get', 'dinner', 'lestrad', 'london'], ['throat', 'give', 'breath', 'pure', 'night'], ['dartmoor', 'suppos'], ['forget', 'visit'], ['chapter'], ['hound', 'baskervill'], ['sherlock', 'holm', 'defect'], ['defect', 'exceed', 'loath', 'communic'], ['plan', 'person', 'instant', 'fulfil'], ['part', 'come', 'doubt', 'master', 'natur'], ['love', 'domin', 'surpris', 'part'], ['profession', 'caution', 'urg'], ['chanc', 'result', 'tri'], ['act', 'agent', 'assist', 'suffer'], ['long', 'drive'], ['dark', 'great', 'ordeal'], ['final', 'effort', 'holm', 'say'], ['surmis', 'cours', 'action'], ['nerv', 'thrill', 'anticip', 'cold', 'wind'], ['face', 'dark', 'void', 'space', 'narrow'], ['road', 'tell', 'moor'], ['stride', 'hors', 'turn', 'wheel', 'take'], ['nearer', 'suprem', 'adventur'], ['convers', 'hamper', 'presenc', 'driver'], ['hire', 'wagonett', 'forc', 'talk', 'trivial'], ['matter', 'nerv', 'tens', 'emot', 'anticip'], ['relief', 'unnatur', 'restraint'], ['pass', 'frankland', 'hous', 'know', 'draw', 'near'], ['hall', 'scene', 'action', 'drive'], ['door', 'near', 'gate', 'avenu', 'wagonett'], ['pay', 'order', 'return', 'coomb', 'tracey', 'forthwith'], ['start', 'walk', 'merripit', 'hous'], ['arm', 'lestrad'], ['littl', 'detect', 'smile', 'long', 'trouser'], ['pocket', 'long', 'pocket'], ['good', 'friend', 'readi', 'emerg'], ['mighti', 'close', 'affair', 'holm'], ['game'], ['wait', 'game'], ['word', 'cheer', 'place', 'say'], ['detect', 'shiver', 'glanc', 'round', 'gloomi', 'slop'], ['hill', 'huge', 'lake'], ['grimpen', 'mire', 'light', 'hous', 'ahead'], ['merripit', 'hous', 'journey'], ['request', 'walk', 'tipto', 'talk', 'whisper'], ['move', 'cautious', 'track', 'bind'], ['hous', 'holm', 'halt', 'yard'], ['say', 'rock', 'right'], ['admir', 'screen'], ['wait'], ['shall', 'littl', 'ambush', 'hollow'], ['lestrad', 'insid', 'hous', 'watson'], ['tell', 'posit', 'room', 'lattic'], ['window'], ['think', 'kitchen', 'window'], ['shin', 'bright'], ['certain', 'din', 'room'], ['blind', 'know', 'land', 'best', 'creep'], ['forward', 'quiet', 'heaven', 'sake'], ['know', 'watch'], ['tipto', 'path', 'stoop', 'wall'], ['surround', 'stunt', 'orchard', 'creep', 'shadow', 'reach'], ['point', 'look', 'straight', 'uncurtain'], ['window'], ['room', 'henri', 'stapleton'], ['profil'], ['round', 'tabl', 'smoke', 'cigar', 'coffe'], ['wine', 'stapleton', 'talk', 'anim'], ['baronet', 'look', 'pale', 'distrait', 'think'], ['lone', 'walk', 'omen', 'moor', 'weigh', 'heavili'], ['mind'], ['watch', 'stapleton', 'rise', 'leav', 'room'], ['henri', 'fill', 'glass', 'lean', 'chair'], ['puff', 'cigar', 'hear', 'creak', 'door', 'crisp'], ['sound', 'boot', 'gravel', 'step', 'pass', 'path'], ['wall', 'crouch', 'look'], ['naturalist', 'paus', 'door', 'hous'], ['corner', 'orchard', 'turn', 'lock', 'pass'], ['curious', 'scuffl', 'nois'], ['minut', 'insid', 'hear', 'turn'], ['pass', 'reenter', 'hous', 'rejoin', 'guest'], ['creep', 'quiet', 'companion', 'wait'], ['tell', 'see'], ['watson', 'ladi', 'holm', 'ask'], ['finish', 'report'], ['light'], ['room', 'kitchen'], ['think'], ['say', 'great', 'grimpen', 'mire', 'hang', 'dens'], ['white', 'drift', 'slowli', 'direct', 'bank'], ['like', 'wall'], ['defin', 'moon', 'shine', 'look', 'like', 'great'], ['shimmer', 'field', 'head', 'distant', 'tor', 'rock'], ['bear', 'surfac', 'holm', 'face', 'turn'], ['mutter', 'impati', 'watch', 'sluggish', 'drift'], ['move', 'watson'], ['thing', 'earth'], ['disarrang', 'plan', 'long'], ['clock', 'success', 'life', 'depend'], ['come', 'path'], ['night', 'clear', 'fine', 'star', 'shine', 'cold'], ['bright', 'half', 'moon', 'bath', 'scene', 'soft'], ['uncertain', 'light', 'dark', 'bulk', 'hous'], ['serrat', 'roof', 'bristl', 'chimney', 'hard', 'outlin'], ['silver', 'spangl', 'broad', 'bar', 'golden', 'light', 'lower'], ['window', 'stretch', 'orchard', 'moor'], ['sudden', 'shut', 'servant', 'leav', 'kitchen'], ['remain', 'lamp', 'din', 'room'], ['murder', 'host', 'unconsci', 'guest', 'chat'], ['cigar'], ['minut', 'white', 'woolli', 'plain', 'cover', 'half'], ['moor', 'drift', 'closer', 'closer', 'hous'], ['wisp', 'curl', 'golden', 'squar'], ['light', 'window', 'farther', 'wall', 'orchard'], ['invis', 'tree', 'stand', 'swirl', 'white'], ['vapour', 'watch', 'wreath', 'come', 'crawl', 'round'], ['corner', 'hous', 'roll', 'slowli', 'dens', 'bank'], ['upper', 'floor', 'roof', 'float', 'like', 'strang', 'ship'], ['shadowi', 'holm', 'strike', 'hand', 'passion'], ['rock', 'stamp', 'feet', 'impati'], ['quarter', 'hour', 'path'], ['cover', 'half', 'hour', 'abl', 'hand'], ['shall', 'farther', 'higher', 'grind'], ['think'], ['bank', 'flow', 'onward', 'fell'], ['half', 'mile', 'hous', 'dens', 'white'], ['moon', 'silver', 'upper', 'edg', 'sweep', 'slowli'], ['inexor'], ['go', 'say', 'holm', 'dare', 'chanc'], ['overtak', 'reach', 'cost'], ['hold', 'grind', 'drop', 'knee'], ['clap', 'grind', 'thank', 'think', 'hear'], ['come'], ['sound', 'quick', 'step', 'break', 'silenc', 'moor', 'crouch'], ['stone', 'star', 'intent', 'silver', 'tip', 'bank'], ['step', 'grow', 'louder'], ['curtain', 'step', 'await'], ['look', 'round', 'surpris', 'emerg', 'clear'], ['starlit', 'night', 'come', 'swift', 'path', 'pass', 'close'], ['go', 'long', 'slope'], ['walk', 'glanc', 'continu', 'shoulder', 'like'], ['eas'], ['hist', 'cri', 'holm', 'hear', 'sharp', 'click', 'cock'], ['pistol', 'look', 'come'], ['crisp', 'continu', 'patter'], ['heart', 'crawl', 'bank', 'cloud', 'fifti', 'yard'], ['glare', 'uncertain'], ['horror', 'break', 'heart', 'holm'], ['elbow', 'glanc', 'instant', 'face', 'pale'], ['exult', 'eye', 'shin', 'bright', 'moonlight'], ['sudden', 'start', 'forward', 'rigid', 'fix', 'stare'], ['lip', 'part', 'amaz', 'instant', 'lestrad', 'give'], ['yell', 'terror', 'throw', 'face', 'downward', 'grind'], ['spring', 'feet', 'inert', 'hand', 'grasp', 'pistol', 'mind'], ['paralyz', 'dread', 'shape', 'spring'], ['shadow', 'hound', 'enorm', 'coal', 'black'], ['hound', 'hound', 'mortal', 'eye', 'see'], ['burst', 'open', 'mouth', 'eye', 'glow', 'smoulder'], ['glare', 'muzzl', 'hackl', 'dewlap', 'outlin'], ['flicker', 'flame', 'deliri', 'dream', 'disord'], ['brain', 'savag', 'appal', 'hellish'], ['conceiv', 'dark', 'form', 'savag', 'face', 'break'], ['wall'], ['long', 'bound', 'huge', 'black', 'creatur', 'leap'], ['track', 'follow', 'hard', 'footstep', 'friend'], ['paralyz', 'apparit', 'allow', 'pass'], ['recov', 'nerv', 'holm', 'fire'], ['creatur', 'give', 'hideous', 'howl', 'show'], ['paus', 'bound'], ['onward', 'away', 'path', 'henri', 'look'], ['face', 'white', 'moonlight', 'hand', 'rais', 'horror', 'glare'], ['helpless', 'fright', 'thing', 'hunt'], ['pain', 'hound', 'blow', 'fear'], ['wind', 'vulner', 'mortal', 'wind'], ['kill', 'see', 'holm'], ['night', 'reckon', 'fleet', 'foot', 'outpac'], ['outpac', 'littl', 'profession'], ['fli', 'track', 'hear', 'scream', 'scream', 'henri'], ['deep', 'roar', 'hound', 'time', 'beast', 'spring'], ['victim', 'hurl', 'grind', 'worri', 'throat'], ['instant', 'holm', 'empti', 'barrel'], ['revolv', 'creatur', 'flank', 'howl', 'agoni'], ['vicious', 'snap', 'roll', 'feet'], ['paw', 'furious', 'fell', 'limp', 'stoop'], ['pant', 'press', 'pistol', 'dread', 'shimmer', 'head'], ['useless', 'press', 'trigger', 'giant', 'hound'], ['dead'], ['henri', 'insens', 'fall', 'tear', 'away'], ['collar', 'holm', 'breath', 'prayer', 'gratitud'], ['sign', 'wind', 'rescu'], ['time', 'friend', 'eyelid', 'shiver', 'feebl'], ['effort', 'lestrad', 'thrust', 'brandi', 'flask'], ['baronet', 'teeth', 'frighten', 'eye', 'look'], ['whisper', 'heaven'], ['dead', 'say', 'holm', 'lay', 'famili'], ['ghost', 'forev'], ['mere', 'size', 'strength', 'terribl', 'creatur'], ['lie', 'stretch', 'pure', 'bloodhound'], ['pure', 'mastiff', 'appear', 'combin'], ['gaunt', 'savag', 'larg', 'small', 'lioness'], ['still', 'death', 'huge', 'jaw', 'drip'], ['bluish', 'flame', 'small', 'deep', 'cruel', 'eye'], ['ring', 'place', 'hand', 'glow', 'muzzl'], ['hold', 'finger', 'smoulder', 'gleam'], ['dark'], ['phosphorus', 'say'], ['cun', 'prepar', 'say', 'holm', 'sniff', 'dead'], ['anim', 'smell', 'interfer'], ['power', 'scent', 'deep', 'apolog', 'henri', 'have'], ['expos', 'fright', 'prepar', 'hound'], ['creatur', 'give', 'littl', 'time'], ['receiv'], ['save', 'life'], ['have', 'endang', 'strong', 'stand'], ['mouth', 'brandi', 'shall', 'readi'], ['help', 'propos'], ['leav', 'adventur'], ['tonight', 'wait'], ['hall'], ['tri', 'stagger', 'feet', 'ghast', 'pale'], ['trembl', 'limb', 'help', 'rock'], ['shiver', 'face', 'buri', 'hand'], ['leav', 'say', 'holm', 'rest', 'work'], ['moment', 'import', 'case'], ['want'], ['thousand', 'find', 'hous'], ['continu', 'retrac', 'step', 'swift', 'path'], ['shot', 'tell', 'game'], ['distanc', 'deaden'], ['follow', 'hound'], ['certain', 'go', 'time', 'search'], ['hous', 'sure'], ['door', 'open', 'rush', 'hurri', 'room'], ['room', 'amaz', 'dodder', 'manserv'], ['passag', 'light', 'save', 'din', 'room'], ['holm', 'catch', 'lamp', 'leav', 'corner', 'hous'], ['unexplor', 'sign', 'chase'], ['upper', 'floor', 'bedroom', 'door', 'lock'], ['cri', 'lestrad', 'hear'], ['movement', 'open', 'door'], ['faint', 'moan', 'rustl', 'come', 'holm', 'strike'], ['door', 'lock', 'flat', 'foot', 'fli'], ['open', 'pistol', 'hand', 'rush', 'room'], ['sign', 'desper', 'defiant'], ['villain', 'expect', 'instead', 'face'], ['object', 'strang', 'unexpect', 'stand', 'moment'], ['star', 'amaz'], ['room', 'fashion', 'small', 'museum', 'wall'], ['line', 'number', 'glass', 'top', 'case'], ['collect', 'butterfli', 'moth', 'format'], ['relax', 'complex', 'danger'], ['centr', 'room', 'upright', 'beam'], ['place', 'period', 'support', 'worm', 'eat', 'baulk'], ['timber', 'span', 'roof', 'post', 'figur', 'tie'], ['swath', 'muffl', 'sheet'], ['secur', 'moment', 'tell'], ['woman', 'towel', 'pass', 'round', 'throat'], ['secur', 'pillar', 'cover', 'lower'], ['face', 'dark', 'eye', 'eye', 'grief'], ['shame', 'dread', 'question', 'star'], ['minut', 'tear', 'unswath', 'bond'], ['stapleton', 'sink', 'floor', 'beauti'], ['head', 'fell', 'chest', 'clear', 'weal', 'whiplash'], ['neck'], ['brute', 'cri', 'holm', 'lestrad', 'brandi', 'bottl'], ['chair', 'faint', 'usag'], ['exhaust'], ['open', 'eye'], ['safe', 'ask', 'escap'], ['escap', 'madam'], ['mean', 'husband', 'henri', 'safe'], ['hound'], ['dead'], ['give', 'long', 'sigh', 'satisfact'], ['thank', 'thank', 'villain', 'treat'], ['shoot', 'arm', 'sleev'], ['horror', 'mottl', 'bruis'], ['mind', 'soul', 'tortur'], ['defil', 'endur', 'usag', 'solitud', 'life'], ['decept', 'long', 'cling', 'hope'], ['love', 'know'], ['dupe', 'tool', 'break', 'passion', 'sob'], ['speak'], ['bear', 'good', 'madam', 'say', 'holm', 'tell'], ['shall', 'aid', 'evil', 'help'], ['aton'], ['place', 'flee', 'answer'], ['island', 'heart', 'mire'], ['keep', 'hound'], ['prepar', 'refug'], ['bank', 'like', 'white', 'wool', 'window', 'holm', 'hold'], ['lamp'], ['say', 'grimpen', 'mire'], ['tonight'], ['laugh', 'clap', 'hand', 'eye', 'teeth', 'gleam'], ['fierc', 'merriment'], ['cri'], ['guid', 'wand', 'tonight', 'plant'], ['mark', 'pathway', 'mire'], ['pluck', 'today'], ['merci'], ['evid', 'pursuit', 'vain'], ['lift', 'leav', 'lestrad', 'possess', 'hous'], ['holm', 'go', 'baronet', 'baskervill'], ['hall', 'stori', 'stapleton', 'longer', 'withhold'], ['take', 'blow', 'brave', 'learn', 'truth'], ['woman', 'love', 'shock', 'night'], ['adventur', 'shatter', 'nerv', 'morn'], ['deliri', 'high', 'fever', 'care', 'mortim'], ['destin', 'travel', 'round', 'world'], ['henri', 'hale', 'hearti'], ['master', 'omen', 'estat'], ['come', 'rapid', 'conclus', 'singular'], ['narrat', 'tri', 'reader', 'share'], ['dark', 'fear', 'vagu', 'surmis', 'cloud', 'live', 'long'], ['end', 'tragic', 'manner', 'morn', 'death'], ['hound', 'lift', 'guid', 'stapleton'], ['point', 'pathway'], ['help', 'realis', 'horror', 'woman', 'life'], ['eager', 'lay', 'husband'], ['track', 'leav', 'stand', 'peninsula', 'firm'], ['peati', 'soil', 'taper', 'widespread'], ['small', 'wand', 'plant', 'show'], ['path', 'zigzag', 'tuft', 'tuft', 'rush'], ['green', 'scum', 'pit', 'foul', 'quagmir', 'bar'], ['stranger', 'rank', 'reed', 'lush', 'slimi', 'water', 'plant', 'send', 'odour'], ['decay', 'heavi', 'miasmat', 'vapour', 'face'], ['fals', 'step', 'plung', 'thigh', 'deep', 'dark'], ['quiver', 'mire', 'shake', 'yard', 'soft', 'undul'], ['feet', 'tenaci', 'grip', 'pluck', 'heel', 'walk'], ['sink', 'malign', 'hand'], ['tug', 'obscen', 'depth', 'grim', 'purpos'], ['clutch', 'hold', 'trace'], ['pass', 'peril', 'amid', 'tuft'], ['cotton', 'grass', 'bore', 'slime', 'dark', 'thing'], ['project', 'holm', 'sink', 'waist', 'step'], ['path', 'seiz', 'drag'], ['foot', 'firm', 'land', 'hold'], ['black', 'boot', 'meyer', 'toronto', 'print'], ['leather', 'insid'], ['worth', 'bath', 'say', 'friend', 'henri'], ['miss', 'boot'], ['throw', 'stapleton', 'flight'], ['exact', 'retain', 'hand'], ['hound', 'track', 'flee', 'know', 'game'], ['clutch', 'hurl', 'away', 'point', 'flight'], ['know', 'come', 'safeti'], ['destin', 'know'], ['surmis', 'chanc', 'find'], ['footstep', 'mire', 'rise', 'ooz', 'swift'], ['reach', 'firmer', 'grind', 'morass'], ['look', 'eager', 'slightest', 'sign'], ['eye', 'earth', 'tell', 'true', 'stori', 'stapleton'], ['reach', 'island', 'refug', 'struggl'], ['night', 'heart'], ['great', 'grimpen', 'mire', 'foul', 'slime', 'huge', 'morass'], ['suck', 'cold', 'cruel', 'heart'], ['forev', 'buri'], ['trace', 'gird', 'island'], ['savag', 'alli', 'huge', 'drive', 'wheel', 'shaft', 'half', 'fill'], ['rubbish', 'show', 'posit', 'abandon'], ['crumbl', 'remain', 'cottag', 'miner', 'drive'], ['away', 'doubt', 'foul', 'reek', 'surround', 'swamp'], ['stapl', 'chain', 'quantiti', 'gnaw', 'bone'], ['show', 'anim', 'confin', 'skeleton'], ['tangl', 'brown', 'hair', 'adher'], ['say', 'holm', 'jove', 'cur', 'hair', 'spaniel', 'poor'], ['mortim', 'know'], ['place', 'contain', 'secret'], ['fathom', 'hide', 'hound', 'hush'], ['voic', 'come', 'cri', 'daylight'], ['pleasant', 'hear', 'emerg', 'hound'], ['hous', 'merripit', 'risk'], ['suprem', 'regard'], ['effort', 'dare', 'past', 'doubt'], ['lumin', 'mixtur', 'creatur', 'daub'], ['suggest', 'cours', 'stori', 'famili', 'hell', 'hound'], ['desir', 'frighten', 'charl', 'death', 'wonder'], ['poor', 'devil', 'convict', 'scream', 'friend'], ['creatur'], ['bound', 'dark', 'moor', 'track'], ['cun', 'devic', 'apart', 'chanc', 'drive'], ['victim', 'death', 'peasant', 'ventur', 'inquir'], ['close', 'creatur', 'sight'], ['moor', 'say', 'london', 'watson'], ['help', 'hunt'], ['danger', 'lie', 'yonder', 'sweep', 'long'], ['huge', 'mottl', 'expans', 'green', 'splotch'], ['stretch', 'away', 'merg', 'russet', 'slop'], ['moor'], ['chapter'], ['retrospect'], ['novemb', 'holm'], ['foggi', 'night', 'blaze', 'sit', 'room'], ['baker', 'street', 'tragic', 'upshot', 'visit'], ['devonshir', 'engag', 'affair', 'utmost'], ['import', 'expos', 'atroci'], ['conduct', 'colonel', 'upwood', 'connect', 'famous', 'card'], ['scandal', 'nonpareil', 'club', 'second'], ['defend', 'unfortun', 'montpensi', 'charg'], ['murder', 'hang', 'connect', 'death'], ['step', 'daughter', 'mlle', 'carér', 'young', 'ladi'], ['rememb', 'month', 'later', 'aliv', 'marri'], ['york', 'friend', 'excel', 'spirit', 'success'], ['attend', 'success', 'difficult', 'import', 'case'], ['abl', 'induc', 'discuss', 'detail'], ['baskervill', 'mysteri', 'wait', 'patient', 'opportun'], ['awar', 'permit', 'case', 'overlap'], ['clear', 'logic', 'mind', 'draw'], ['present', 'work', 'dwell', 'memori', 'past', 'henri'], ['mortim', 'london', 'long'], ['voyag', 'recommend', 'restor'], ['shatter', 'nerv', 'call', 'afternoon'], ['natur', 'subject', 'come'], ['discuss'], ['cours', 'event', 'say', 'holm', 'point'], ['view', 'call', 'stapleton', 'simpl'], ['direct', 'mean', 'begin'], ['know', 'motiv', 'action', 'learn'], ['fact', 'appear', 'exceed', 'complex'], ['advantag', 'convers', 'stapleton', 'case'], ['entir', 'clear', 'awar'], ['remain', 'secret'], ['note', 'matter', 'head'], ['index', 'list', 'case'], ['kind', 'sketch', 'cours'], ['event', 'memori'], ['certain', 'guarante', 'carri', 'fact'], ['mind', 'intens', 'mental', 'concentr', 'curious'], ['blot', 'pass', 'barrist', 'case'], ['finger', 'end', 'abl', 'argu', 'expert'], ['subject', 'find', 'week', 'court', 'drive'], ['head', 'case', 'displac'], ['mlle', 'carér', 'blur', 'recollect', 'baskervill'], ['hall', 'tomorrow', 'littl', 'problem', 'submit'], ['notic', 'turn', 'dispossess', 'fair', 'french', 'ladi'], ['infam', 'upwood', 'case', 'hound', 'go'], ['cours', 'event', 'near'], ['suggest', 'forget'], ['inquiri', 'question', 'famili', 'portrait'], ['fellow', 'baskervill'], ['rodger', 'baskervill', 'younger', 'brother'], ['charl', 'flee', 'sinist', 'reput', 'south', 'america'], ['say', 'die', 'unmarri', 'matter'], ['fact', 'marri', 'child', 'fellow', 'real'], ['father', 'marri', 'beryl', 'garcia'], ['beauti', 'costa', 'rica', 'have', 'purloin', 'consider'], ['public', 'money', 'chang', 'vandeleur', 'flee'], ['england', 'establish', 'school', 'east', 'yorkshir'], ['reason', 'attempt', 'special', 'line', 'busi'], ['strike', 'acquaint', 'consumpt', 'tutor'], ['voyag', 'home', 'abil'], ['undertak', 'success', 'fraser', 'tutor', 'die'], ['school', 'begin', 'sink', 'disreput', 'infami'], ['vandeleur', 'conveni', 'chang'], ['stapleton', 'bring', 'remain', 'fortun', 'scheme'], ['futur', 'tast', 'entomolog', 'south'], ['england', 'learn', 'british', 'museum', 'recogn'], ['author', 'subject', 'vandeleur'], ['perman', 'attach', 'certain', 'moth'], ['yorkshir', 'day'], ['come', 'portion', 'life', 'prove'], ['intens', 'fellow', 'evid'], ['inquiri', 'live', 'interven'], ['valuabl', 'estat', 'go', 'devonshir', 'plan'], ['believ', 'exceed', 'hazi', 'mean', 'mischief'], ['evid', 'take', 'wife'], ['charact', 'sister', 'idea', 'decoy'], ['clear', 'mind'], ['certain', 'detail', 'plot', 'arrang', 'mean'], ['estat', 'readi', 'tool'], ['risk', 'establish'], ['near', 'ancestr', 'home', 'second'], ['cultiv', 'friendship', 'charl', 'baskervill'], ['neighbour'], ['baronet', 'tell', 'famili', 'hound'], ['prepar', 'death', 'stapleton', 'continu'], ['know', 'heart', 'weak'], ['shock', 'kill', 'learn', 'mortim'], ['hear', 'charl', 'superstiti'], ['take', 'grim', 'legend', 'serious', 'ingeni', 'mind'], ['instant', 'suggest', 'baronet'], ['death', 'hard', 'possibl', 'bring', 'home'], ['guilt', 'real', 'murder'], ['have', 'conceiv', 'idea', 'proceed', 'carri'], ['consider', 'finess', 'ordinari', 'schemer', 'content'], ['work', 'savag', 'hound', 'artifici', 'mean'], ['creatur', 'diabol', 'flash', 'genius'], ['buy', 'london', 'ross', 'mangl', 'dealer'], ['fulham', 'road', 'strongest', 'savag'], ['possess', 'bring', 'north', 'devon', 'line', 'walk'], ['great', 'distanc', 'moor', 'home'], ['excit', 'remark', 'insect', 'hunt', 'learn'], ['penetr', 'grimpen', 'mire', 'safe'], ['hide', 'place', 'creatur', 'kennel', 'wait'], ['chanc'], ['time', 'come', 'gentleman'], ['decoy', 'outsid', 'ground', 'night', 'time', 'stapleton'], ['lurk', 'hound', 'avail'], ['fruitless', 'quest', 'alli', 'see'], ['peasant', 'legend', 'demon', 'receiv'], ['confirm', 'hop', 'wife', 'lure', 'charl'], ['ruin', 'prove', 'unexpect', 'independ'], ['endeavour', 'entangl', 'gentleman'], ['sentiment', 'attach', 'deliv', 'enemi'], ['threat', 'sorri', 'blow', 'refus'], ['time', 'stapleton'], ['deadlock'], ['difficulti', 'chanc'], ['charl', 'conceiv', 'friendship'], ['minist', 'chariti', 'case', 'unfortun', 'woman'], ['laura', 'lyon', 'repres', 'singl'], ['acquir', 'complet', 'influenc', 'give'], ['understand', 'event', 'obtain', 'divorc'], ['husband', 'marri', 'plan', 'sudden', 'bring'], ['head', 'knowledg', 'charl', 'leav'], ['hall', 'advic', 'mortim', 'opinion'], ['pretend', 'coincid', 'victim'], ['power', 'pressur', 'lyon'], ['write', 'letter', 'implor'], ['interview', 'even', 'departur', 'london'], ['specious', 'argument', 'prevent', 'go'], ['chanc', 'wait'], ['drive', 'even', 'coomb', 'tracey', 'time'], ['hound', 'treat', 'infern', 'paint', 'bring'], ['beast', 'round', 'gate', 'reason', 'expect'], ['gentleman', 'wait', 'incit'], ['master', 'spring', 'wicket', 'gate', 'pursu', 'unfortun'], ['baronet', 'flee', 'scream', 'alley', 'gloomi'], ['tunnel', 'dread', 'sight', 'huge'], ['black', 'creatur', 'flame', 'jaw', 'blaze', 'eye', 'bound'], ['victim', 'fell', 'dead', 'alley', 'heart'], ['diseas', 'terror', 'hound', 'keep', 'grassi', 'border'], ['baronet', 'path', 'track'], ['visibl', 'see', 'lie', 'creatur'], ['probabl', 'approach', 'sniff', 'find', 'dead'], ['turn', 'away', 'leav', 'print'], ['actual', 'observ', 'mortim', 'hound', 'call'], ['hurri', 'away', 'lair', 'grimpen', 'mire', 'mysteri'], ['leav', 'puzzl', 'author', 'alarm', 'countrysid'], ['final', 'bring', 'case', 'scope', 'observ'], ['death', 'charl', 'baskervill', 'perceiv'], ['devilish', 'cun'], ['imposs', 'case', 'real', 'murder'], ['accomplic', 'away'], ['grotesqu', 'inconceiv', 'natur', 'devic', 'serv'], ['effect', 'women', 'concern', 'case'], ['stapleton', 'laura', 'lyon', 'leav', 'strong', 'suspicion'], ['stapleton', 'stapleton', 'know', 'design'], ['exist', 'hound', 'lyon'], ['know', 'thing', 'impress', 'death'], ['occur', 'time', 'uncancel', 'appoint'], ['know'], ['influenc', 'fear', 'half'], ['task', 'success', 'accomplish', 'difficult'], ['remain'], ['possibl', 'stapleton', 'know', 'exist'], ['heir', 'canada', 'case', 'soon', 'learn'], ['friend', 'mortim', 'tell'], ['detail', 'arriv', 'henri', 'baskervill', 'stapleton'], ['idea', 'young', 'stranger', 'canada', 'possibl'], ['death', 'london', 'come', 'devonshir'], ['distrust', 'wife', 'refus', 'help'], ['lay', 'trap', 'dare', 'leav', 'long'], ['sight', 'fear', 'lose', 'influenc'], ['reason', 'take', 'london'], ['lodg', 'mexborough', 'privat', 'hotel', 'craven'], ['street', 'actual', 'call', 'agent'], ['search', 'evid', 'keep', 'wife', 'imprison'], ['room', 'disguis', 'beard', 'follow', 'mortim'], ['baker', 'street', 'station'], ['northumberland', 'hotel', 'wife', 'inkl', 'plan'], ['fear', 'husband', 'fear', 'found', 'brutal'], ['treatment', 'dare', 'write', 'warn'], ['know', 'danger', 'letter', 'fall', 'stapleton'], ['hand', 'life', 'safe', 'eventu', 'know'], ['adopt', 'expedi', 'cut', 'word', 'form'], ['messag', 'address', 'letter', 'disguis', 'hand'], ['reach', 'baronet', 'give', 'warn'], ['danger'], ['essenti', 'stapleton', 'articl'], ['henri', 'attir', 'case', 'drive'], ['mean', 'set', 'track'], ['characterist', 'prompt', 'audac'], ['doubt', 'boot', 'chamber', 'maid', 'hotel'], ['bribe', 'help', 'design', 'chanc'], ['boot', 'procur'], ['useless', 'purpos', 'return'], ['obtain', 'instruct', 'incid', 'prove'], ['conclus', 'mind', 'deal', 'real', 'hound'], ['supposit', 'explain', 'anxieti', 'obtain'], ['boot', 'indiffer'], ['grotesqu', 'incid', 'care', 'deserv'], ['examin', 'point', 'appear', 'complic', 'case'], ['duli', 'consid', 'scientif', 'handl'], ['like', 'elucid'], ['visit', 'friend', 'morn', 'shadow'], ['stapleton', 'knowledg', 'room'], ['appear', 'general', 'conduct'], ['inclin', 'think', 'stapleton', 'career', 'crime'], ['mean', 'limit', 'singl', 'baskervill', 'affair', 'suggest'], ['year'], ['consider', 'burglari', 'west', 'countri'], ['crimin', 'arrest', 'folkeston'], ['court', 'remark', 'cold', 'blood', 'pistol'], ['page', 'surpris', 'mask', 'solitari', 'burglar'], ['doubt', 'stapleton', 'recruit', 'wan', 'resourc'], ['fashion', 'year', 'desper', 'danger'], ['exampl', 'readi', 'resourc', 'morn'], ['away', 'success', 'audac'], ['send', 'cabman'], ['moment', 'understand', 'take', 'case', 'london'], ['chanc', 'return'], ['dartmoor', 'await', 'arriv', 'baronet'], ['moment', 'say', 'doubt', 'describ', 'sequenc'], ['event', 'correct', 'point', 'leav'], ['unexplain', 'hound', 'master'], ['london'], ['give', 'attent', 'matter', 'undoubt'], ['import', 'question', 'stapleton'], ['confid', 'unlik', 'place'], ['power', 'share', 'plan'], ['manserv', 'merripit', 'hous', 'anthoni'], ['connect', 'stapleton', 'trace', 'year'], ['school', 'master', 'day'], ['awar', 'master', 'mistress', 'husband'], ['wife', 'disappear', 'escap', 'countri'], ['suggest', 'anthoni', 'common', 'england'], ['antonio', 'spanish', 'spanish', 'american', 'countri'], ['like', 'stapleton', 'speak', 'good', 'english'], ['curious', 'lisp', 'accent', 'see'], ['cross', 'grimpen', 'mire', 'path', 'stapleton', 'mark'], ['probabl', 'absenc'], ['master', 'care', 'hound'], ['know', 'purpos', 'beast'], ['stapleton', 'go', 'devonshir'], ['soon', 'follow', 'henri', 'word'], ['stand', 'time', 'possibl', 'recur', 'memori'], ['examin', 'paper', 'print', 'word'], ['fasten', 'close', 'inspect', 'water', 'mark'], ['hold', 'inch', 'eye', 'conscious'], ['faint', 'smell', 'scent', 'know', 'white', 'jessamin'], ['seventi', 'perfum', 'necessari', 'crimin'], ['expert', 'abl', 'distinguish', 'case'], ['experi', 'depend'], ['prompt', 'recognit', 'scent', 'suggest', 'presenc', 'ladi'], ['thought', 'begin', 'turn', 'stapleton'], ['certain', 'hound', 'guess'], ['crimin', 'go', 'west', 'countri'], ['game', 'watch', 'stapleton', 'evid'], ['keen'], ['guard', 'deceiv', 'everybodi', 'includ'], ['come', 'secret', 'suppos', 'london'], ['hardship', 'great', 'imagin', 'trifl'], ['detail', 'interfer', 'investig', 'case'], ['stay', 'coomb', 'tracey'], ['moor', 'necessari', 'near', 'scene'], ['action', 'cartwright', 'come', 'disguis'], ['countri', 'great', 'assist', 'depend'], ['food', 'clean', 'linen', 'watch', 'stapleton'], ['cartwright', 'frequent', 'watch', 'abl'], ['hand', 'string'], ['tell', 'report', 'reach', 'rapid'], ['forward', 'instant', 'baker', 'street', 'coomb', 'tracey'], ['great', 'servic', 'especi'], ['incident', 'truth', 'piec', 'biographi', 'stapleton'], ['abl', 'establish', 'ident', 'woman', 'know'], ['exact', 'stand', 'case', 'consider'], ['complic', 'incid', 'escap', 'convict'], ['relat', 'barrymor', 'clear'], ['effect', 'come'], ['conclus', 'observ'], ['time', 'discov', 'moor'], ['complet', 'knowledg', 'busi', 'case'], ['juri', 'stapleton', 'attempt', 'henri'], ['night', 'end', 'death', 'unfortun', 'convict'], ['help', 'prove', 'murder'], ['altern', 'catch', 'hand'], ['henri', 'appar', 'unprotect'], ['bait', 'cost', 'sever', 'shock'], ['client', 'succeed', 'complet', 'case', 'drive', 'stapleton'], ['destruct', 'henri', 'expos'], ['confess', 'reproach', 'manag', 'case'], ['mean', 'forese', 'terribl', 'paralyz'], ['spectacl', 'beast', 'present', 'predict'], ['enabl', 'burst', 'short', 'notic'], ['succeed', 'object', 'cost', 'specialist'], ['mortim', 'assur', 'temporari', 'long', 'journey'], ['enabl', 'friend', 'recov', 'shatter'], ['nerv', 'wound', 'feel', 'love', 'ladi'], ['deep', 'saddest'], ['black', 'busi', 'deceiv'], ['remain', 'indic', 'play'], ['doubt', 'stapleton', 'exercis'], ['influenc', 'love'], ['fear', 'possibl', 'mean'], ['incompat', 'emot', 'absolut', 'effect'], ['command', 'consent', 'pass', 'sister'], ['limit', 'power', 'endeavour'], ['direct', 'accessori', 'murder', 'readi', 'warn', 'henri'], ['implic', 'husband'], ['tri', 'stapleton'], ['capabl', 'jealousi', 'baronet', 'pay'], ['court', 'ladi', 'plan'], ['help', 'interrupt', 'passion', 'outburst'], ['reveal', 'fieri', 'soul', 'self', 'contain', 'manner'], ['clever', 'conceal', 'encourag', 'intimaci'], ['certain', 'henri', 'frequent', 'come', 'merripit', 'hous'], ['sooner', 'later', 'opportun'], ['desir', 'crisi', 'wife', 'turn'], ['sudden', 'learn', 'death'], ['convict', 'know', 'hound', 'keep'], ['outhous', 'even', 'henri', 'come', 'dinner'], ['tax', 'husband', 'intend', 'crime', 'furious', 'scene'], ['follow', 'show', 'time'], ['rival', 'love', 'fidel', 'turn', 'instant', 'bitter'], ['hatr', 'betray', 'tie'], ['chanc', 'warn', 'henri'], ['hop', 'doubt', 'countrysid'], ['baronet', 'death', 'curs', 'famili', 'certain'], ['wife', 'accept', 'accomplish'], ['fact', 'silent', 'know', 'fanci'], ['case', 'miscalcul'], ['doom', 'seal'], ['woman', 'spanish', 'blood', 'condon', 'injuri'], ['light', 'dear', 'watson', 'refer', 'note'], ['detail', 'account', 'curious', 'case'], ['know', 'essenti', 'leav', 'unexplain'], ['hope', 'frighten', 'henri', 'death'], ['uncl', 'bogi', 'hound'], ['beast', 'savag', 'half', 'starv', 'appear'], ['frighten', 'victim', 'death', 'paralyz'], ['resist', 'offer'], ['doubt', 'remain', 'difficulti', 'stapleton', 'come'], ['success', 'explain', 'fact'], ['heir', 'live', 'unannounc', 'close'], ['properti', 'claim', 'caus', 'suspicion'], ['inquiri'], ['formid', 'difficulti', 'fear'], ['expect', 'solv', 'past', 'present'], ['field', 'inquiri'], ['futur', 'hard', 'question', 'answer', 'stapleton', 'hear'], ['husband', 'discuss', 'problem', 'occas'], ['possibl', 'cours', 'claim', 'properti', 'south'], ['america', 'establish', 'ident', 'british', 'author'], ['obtain', 'fortun', 'come', 'england'], ['adopt', 'elabor', 'disguis', 'short'], ['time', 'need', 'london', 'furnish'], ['accomplic', 'proof', 'paper', 'put', 'heir'], ['retain', 'claim', 'proport', 'incom'], ['doubt', 'know'], ['difficulti', 'dear', 'watson'], ['week', 'sever', 'work', 'even', 'think'], ['turn', 'thought', 'pleasant', 'channel'], ['huguenots_', 'hear', 'reszk'], ['troubl', 'readi', 'half', 'hour', 'stop'], ['marcini', 'littl', 'dinner'], ['project', 'gutenberg', 'ebook', 'hound', 'baskervill'], ['updat', 'edit', 'replac', 'previous', 'edit'], ['renam'], ['creat', 'work', 'print', 'edit', 'protect', 'copyright'], ['mean', 'own', 'unit', 'state', 'copyright', 'work'], ['foundat', 'copi', 'distribut'], ['unit', 'state', 'permiss', 'pay', 'copyright'], ['royalti', 'special', 'rule', 'forth', 'general', 'term'], ['licens', 'appli', 'copi', 'distribut', 'project'], ['gutenberg', 'electron', 'work', 'protect', 'project', 'gutenberg'], ['concept', 'trademark', 'project', 'gutenberg', 'regist', 'trademark'], ['charg', 'ebook', 'follow'], ['term', 'trademark', 'licens', 'includ', 'pay', 'royalti'], ['project', 'gutenberg', 'trademark', 'charg'], ['copi', 'ebook', 'compli', 'trademark', 'licens'], ['easi', 'ebook', 'near', 'purpos', 'creation'], ['deriv', 'work', 'report', 'perform', 'research', 'project'], ['gutenberg', 'ebook', 'modifi', 'print', 'give', 'away'], ['practic', 'unit', 'state', 'ebook', 'protect'], ['copyright', 'redistribut', 'subject', 'trademark'], ['licens', 'especi', 'commerci', 'redistribut'], ['start', 'licens'], ['project', 'gutenberg', 'licens'], ['read', 'distribut', 'work'], ['protect', 'project', 'gutenberg', 'mission', 'promot', 'free'], ['distribut', 'electron', 'work', 'distribut', 'work'], ['work', 'associ', 'phrase', 'project'], ['gutenberg', 'agre', 'compli', 'term'], ['project', 'gutenberg', 'licens', 'avail', 'file', 'onlin'], ['gutenberg', 'licens'], ['section', 'general', 'term', 'redistribut', 'project'], ['gutenberg', 'electron', 'work'], ['read', 'project', 'gutenberg'], ['electron', 'work', 'indic', 'read', 'understand', 'agre'], ['accept', 'term', 'licens', 'intellectu', 'properti'], ['trademark', 'copyright', 'agreement', 'agre', 'abid'], ['term', 'agreement', 'ceas', 'return'], ['destroy', 'copi', 'project', 'gutenberg', 'electron', 'work'], ['possess', 'pay', 'obtain', 'copi', 'access'], ['project', 'gutenberg', 'electron', 'work', 'agre', 'bind'], ['term', 'agreement', 'obtain', 'refund'], ['person', 'entiti', 'pay', 'forth', 'paragraph'], ['project', 'gutenberg', 'regist', 'trademark'], ['associ', 'electron', 'work', 'peopl'], ['agre', 'bind', 'term', 'agreement'], ['thing', 'project', 'gutenberg', 'electron', 'work'], ['compli', 'term', 'agreement'], ['paragraph', 'thing', 'project'], ['gutenberg', 'electron', 'work', 'follow', 'term'], ['agreement', 'help', 'preserv', 'free', 'futur', 'access', 'project', 'gutenberg'], ['electron', 'work', 'paragraph'], ['project', 'gutenberg', 'literari', 'archiv', 'foundat'], ['foundat', 'pglaf', 'own', 'compil', 'copyright', 'collect'], ['project', 'gutenberg', 'electron', 'work', 'near', 'individu'], ['work', 'collect', 'public', 'domain', 'unit'], ['state', 'individu', 'work', 'unprotect', 'copyright'], ['unit', 'state', 'locat', 'unit', 'state'], ['claim', 'right', 'prevent', 'copi', 'distribut', 'perform'], ['display', 'creat', 'deriv', 'work', 'base', 'work', 'long'], ['refer', 'project', 'gutenberg', 'remov', 'cours', 'hope'], ['support', 'project', 'gutenberg', 'mission', 'promot'], ['free', 'access', 'electron', 'work', 'freeli', 'share', 'project', 'gutenberg'], ['work', 'complianc', 'term', 'agreement', 'keep'], ['project', 'gutenberg', 'associ', 'work', 'easili'], ['compli', 'term', 'agreement', 'keep', 'work'], ['format', 'attach', 'project', 'gutenberg', 'licens'], ['share', 'charg'], ['copyright', 'law', 'place', 'locat', 'govern'], ['work', 'copyright', 'law', 'countri'], ['constant', 'state', 'chang', 'outsid', 'unit', 'state'], ['check', 'law', 'countri', 'addit', 'term'], ['agreement', 'download', 'copi', 'display', 'perform'], ['distribut', 'creat', 'deriv', 'work', 'base', 'work'], ['project', 'gutenberg', 'work', 'foundat', 'make'], ['represent', 'concern', 'copyright', 'status', 'work'], ['countri', 'unit', 'state'], ['remov', 'refer', 'project', 'gutenberg'], ['follow', 'sentenc', 'activ', 'link'], ['immedi', 'access', 'project', 'gutenberg', 'licens', 'appear'], ['promin', 'copi', 'project', 'gutenberg', 'work', 'work'], ['phrase', 'project', 'gutenberg', 'appear'], ['phrase', 'project', 'gutenberg', 'associ', 'access', 'display'], ['perform', 'view', 'copi', 'distribut'], ['ebook', 'unit', 'state'], ['part', 'world', 'cost'], ['restrict', 'whatsoev', 'copi', 'away'], ['term', 'project', 'gutenberg', 'licens', 'includ'], ['ebook', 'onlin', 'gutenberg', 'locat'], ['unit', 'state', 'check', 'law', 'countri'], ['locat', 'ebook'], ['individu', 'project', 'gutenberg', 'electron', 'work'], ['deriv', 'text', 'protect', 'copyright'], ['contain', 'notic', 'indic', 'post', 'permiss'], ['copyright', 'holder', 'work', 'copi', 'distribut'], ['unit', 'state', 'pay', 'fee', 'charg'], ['redistribut', 'provid', 'access', 'work', 'phrase', 'project'], ['gutenberg', 'associ', 'appear', 'work', 'compli'], ['requir', 'paragraph'], ['obtain', 'permiss', 'work', 'project', 'gutenberg'], ['trademark', 'forth', 'paragraph'], ['individu', 'project', 'gutenberg', 'electron', 'work', 'post'], ['permiss', 'copyright', 'holder', 'distribut'], ['compli', 'paragraph'], ['addit', 'term', 'impos', 'copyright', 'holder', 'addit', 'term'], ['link', 'project', 'gutenberg', 'licens', 'work'], ['post', 'permiss', 'copyright', 'holder'], ['begin', 'work'], ['unlink', 'detach', 'remov', 'project', 'gutenberg'], ['licens', 'term', 'work', 'file', 'contain'], ['work', 'work', 'associ', 'project', 'gutenberg'], ['copi', 'display', 'perform', 'distribut', 'redistribut'], ['electron', 'work', 'electron', 'work'], ['promin', 'display', 'sentenc', 'forth', 'paragraph'], ['activ', 'link', 'immedi', 'access', 'term', 'project'], ['gutenberg', 'licens'], ['convert', 'distribut', 'work', 'binari'], ['compress', 'mark', 'nonproprietari', 'proprietari', 'form', 'includ'], ['word', 'process', 'hypertext', 'form', 'provid', 'access'], ['distribut', 'copi', 'project', 'gutenberg', 'work', 'format'], ['plain', 'vanilla', 'ascii', 'format', 'offici'], ['version', 'post', 'offici', 'project', 'gutenberg', 'websit'], ['gutenberg', 'addit', 'cost', 'expens'], ['user', 'provid', 'copi', 'mean', 'export', 'copi', 'mean'], ['obtain', 'copi', 'request', 'work', 'origin', 'plain'], ['vanilla', 'ascii', 'form', 'altern', 'format', 'includ'], ['project', 'gutenberg', 'licens', 'specifi', 'paragraph'], ['charg', 'access', 'view', 'display'], ['perform', 'copi', 'distribut', 'project', 'gutenberg', 'work'], ['compli', 'paragraph'], ['charg', 'reason', 'copi', 'provid'], ['access', 'distribut', 'project', 'gutenberg', 'electron', 'work'], ['provid'], ['royalti', 'gross', 'profit', 'deriv'], ['project', 'gutenberg', 'work', 'calcul', 'method'], ['calcul', 'applic', 'tax', 'owe'], ['owner', 'project', 'gutenberg', 'trademark'], ['agre', 'donat', 'royalti', 'paragraph', 'project'], ['gutenberg', 'literari', 'archiv', 'foundat', 'royalti', 'payment', 'pay'], ['day', 'follow', 'date', 'prepar'], ['legal', 'requir', 'prepar', 'period', 'return', 'royalti'], ['payment', 'clear', 'mark', 'send', 'project'], ['gutenberg', 'literari', 'archiv', 'foundat', 'address', 'specifi'], ['section', 'inform', 'donat', 'project', 'gutenberg'], ['literari', 'archiv', 'foundat'], ['provid', 'refund', 'money', 'pay', 'user', 'notifi'], ['write', 'mail', 'day', 'receipt'], ['agre', 'term', 'project', 'gutenberg'], ['licens', 'requir', 'user', 'return', 'destroy'], ['copi', 'work', 'possess', 'physic', 'medium', 'discontinu'], ['access', 'copi', 'project', 'gutenberg'], ['work'], ['provid', 'accord', 'paragraph', 'refund'], ['money', 'pay', 'work', 'replac', 'copi', 'defect'], ['electron', 'work', 'discov', 'report', 'day'], ['receipt', 'work'], ['compli', 'term', 'agreement', 'free'], ['distribut', 'project', 'gutenberg', 'work'], ['wish', 'charg', 'distribut', 'project'], ['gutenberg', 'electron', 'work', 'group', 'work', 'differ', 'term'], ['forth', 'agreement', 'obtain', 'permiss', 'write'], ['project', 'gutenberg', 'literari', 'archiv', 'foundat', 'manag'], ['project', 'gutenberg', 'trademark', 'contact', 'foundat'], ['forth', 'section'], ['project', 'gutenberg', 'volunt', 'employe', 'expend', 'consider'], ['effort', 'identifi', 'copyright', 'research', 'transcrib', 'proofread'], ['work', 'protect', 'copyright', 'creat', 'project'], ['gutenberg', 'collect', 'despit', 'effort', 'project', 'gutenberg'], ['electron', 'work', 'medium', 'store'], ['contain', 'defect', 'limit', 'incomplet', 'inaccur'], ['corrupt', 'data', 'transcript', 'error', 'copyright'], ['intellectu', 'properti', 'infring', 'defect', 'damag', 'disk'], ['medium', 'virus', 'cod', 'damag'], ['read', 'equip'], ['limit', 'warranti', 'disclaim', 'damag', 'right'], ['replac', 'refund', 'describ', 'paragraph', 'project'], ['gutenberg', 'literari', 'archiv', 'foundat', 'owner', 'project'], ['gutenberg', 'trademark', 'parti', 'distribut', 'project'], ['gutenberg', 'electron', 'work', 'agreement', 'disclaim'], ['liabil', 'damag', 'cost', 'expens', 'includ', 'legal'], ['fee', 'agre', 'remedi', 'neglig', 'strict'], ['liabil', 'breach', 'warranti', 'breach', 'contract'], ['provid', 'paragraph', 'agre', 'foundat'], ['trademark', 'owner', 'distributor', 'agreement'], ['liabl', 'actual', 'direct', 'indirect', 'consequenti', 'punit'], ['incident', 'damag', 'notic', 'possibl'], ['damag'], ['limit', 'right', 'replac', 'refund', 'discov'], ['defect', 'electron', 'work', 'day', 'receiv'], ['receiv', 'refund', 'money', 'pay', 'send'], ['write', 'explan', 'person', 'receiv', 'work'], ['receiv', 'work', 'physic', 'medium', 'return', 'medium'], ['write', 'explan', 'person', 'entiti', 'provid'], ['defect', 'work', 'elect', 'provid', 'replac', 'copi'], ['lieu', 'refund', 'receiv', 'work', 'electron', 'person'], ['entiti', 'provid', 'choos', 'second'], ['opportun', 'receiv', 'work', 'electron', 'lieu', 'refund'], ['second', 'copi', 'defect', 'demand', 'refund', 'write'], ['opportun', 'problem'], ['limit', 'right', 'replac', 'refund', 'forth'], ['paragraph', 'work', 'provid'], ['warranti', 'kind', 'express', 'impli', 'includ'], ['limit', 'warranti', 'merchant', 'fit', 'purpos'], ['state', 'allow', 'disclaim', 'certain', 'impli'], ['warranti', 'exclus', 'limit', 'certain', 'type'], ['damag', 'disclaim', 'limit', 'forth', 'agreement'], ['violat', 'state', 'applic', 'agreement'], ['agreement', 'shall', 'interpret', 'maximum', 'disclaim'], ['limit', 'permit', 'applic', 'state', 'invalid'], ['provis', 'agreement', 'shall', 'void'], ['remain', 'provis'], ['indemn', 'agre', 'indemnifi', 'hold', 'foundat'], ['trademark', 'owner', 'agent', 'employe', 'foundat'], ['provid', 'copi', 'project', 'gutenberg', 'electron', 'work'], ['accord', 'agreement', 'volunt', 'associ'], ['product', 'promot', 'distribut', 'project', 'gutenberg'], ['electron', 'work', 'harmless', 'liabil', 'cost', 'expens'], ['includ', 'legal', 'fee', 'aris', 'direct', 'indirect'], ['follow', 'caus', 'occur', 'distribut'], ['project', 'gutenberg', 'work', 'alter', 'modif'], ['addit', 'delet', 'project', 'gutenberg', 'work'], ['defect', 'caus'], ['section', 'inform', 'mission', 'project', 'gutenberg'], ['project', 'gutenberg', 'synonym', 'free', 'distribut'], ['electron', 'work', 'format', 'readabl', 'widest', 'varieti'], ['comput', 'includ', 'obsolet', 'middl', 'age', 'comput'], ['exist', 'effort', 'hundr', 'volunt', 'donat'], ['peopl', 'walk', 'life'], ['volunt', 'financi', 'support', 'provid', 'volunt'], ['assist', 'need', 'critic', 'reach', 'project', 'gutenberg'], ['goal', 'ensur', 'project', 'gutenberg', 'collect'], ['remain', 'freeli', 'avail', 'generat', 'come', 'project'], ['gutenberg', 'literari', 'archiv', 'foundat', 'creat', 'provid', 'secur'], ['perman', 'futur', 'project', 'gutenberg', 'futur'], ['generat', 'learn', 'project', 'gutenberg', 'literari'], ['archiv', 'foundat', 'effort', 'donat', 'help'], ['section', 'foundat', 'inform', 'page'], ['gutenberg'], ['section', 'inform', 'project', 'gutenberg', 'literari'], ['archiv', 'foundat'], ['project', 'gutenberg', 'literari', 'archiv', 'foundat', 'profit'], ['educ', 'corpor', 'organ', 'law'], ['state', 'mississippi', 'grant', 'exempt', 'status', 'intern'], ['revenu', 'servic', 'foundat', 'feder', 'identif'], ['number', 'contribut', 'project', 'gutenberg', 'literari'], ['archiv', 'foundat', 'deduct', 'extent', 'permit'], ['feder', 'law', 'state', 'law'], ['foundat', 'busi', 'offic', 'locat', 'north', 'west'], ['salt', 'lake', 'citi', 'email', 'contact', 'link'], ['date', 'contact', 'inform', 'foundat', 'websit'], ['offici', 'page', 'gutenberg', 'contact'], ['section', 'inform', 'donat', 'project', 'gutenberg'], ['literari', 'archiv', 'foundat'], ['project', 'gutenberg', 'depend', 'surviv'], ['widespread', 'public', 'support', 'donat', 'carri', 'mission'], ['increas', 'number', 'public', 'domain', 'licens', 'work'], ['freeli', 'distribut', 'machin', 'readabl', 'form', 'access', 'widest'], ['array', 'equip', 'includ', 'outdat', 'equip', 'small', 'donat'], ['particular', 'import', 'maintain', 'exempt'], ['status'], ['foundat', 'commit', 'compli', 'law', 'regul'], ['chariti', 'charit', 'donat', 'state', 'unit'], ['state', 'complianc', 'requir', 'uniform', 'take'], ['consider', 'effort', 'paperwork', 'fee', 'meet'], ['requir', 'solicit', 'donat', 'locat'], ['receiv', 'write', 'confirm', 'complianc', 'send'], ['donat', 'determin', 'status', 'complianc', 'particular'], ['state', 'visit', 'gutenberg', 'donat'], ['solicit', 'contribut', 'state'], ['solicit', 'requir', 'know', 'prohibit'], ['accept', 'unsolicit', 'donat', 'donor', 'state'], ['approach', 'offer', 'donat'], ['intern', 'donat', 'grate', 'accept'], ['statement', 'concern', 'treatment', 'donat', 'receiv'], ['outsid', 'unit', 'state', 'law', 'swamp', 'small', 'staff'], ['check', 'project', 'gutenberg', 'page', 'current', 'donat'], ['method', 'address', 'donat', 'accept', 'number'], ['way', 'includ', 'check', 'onlin', 'payment', 'credit', 'card', 'donat'], ['donat', 'visit', 'gutenberg', 'donat'], ['section', 'general', 'inform', 'project', 'gutenberg', 'electron', 'work'], ['professor', 'michael', 'hart', 'origin', 'project'], ['gutenberg', 'concept', 'librari', 'electron', 'work'], ['freeli', 'share', 'year', 'produc'], ['distribut', 'project', 'gutenberg', 'ebook', 'loos', 'network'], ['volunt', 'support'], ['project', 'gutenberg', 'ebook', 'creat', 'print'], ['edit', 'confirm', 'protect', 'copyright'], ['copyright', 'notic', 'includ'], ['necessarili', 'ebook', 'complianc', 'particular', 'paper'], ['edit'], ['peopl', 'start', 'websit', 'main', 'search'], ['facil', 'gutenberg'], ['websit', 'includ', 'inform', 'project', 'gutenberg'], ['includ', 'donat', 'project', 'gutenberg', 'literari'], ['archiv', 'foundat', 'help', 'produc', 'ebook'], ['subscrib', 'email', 'newslett', 'hear', 'ebook']]\n"
          ]
        }
      ]
    },
    {
      "cell_type": "markdown",
      "source": [
        "# Preprocess , Vetorization and Unsupervised Topic Modeling\n",
        "\n",
        "* Vectorizer  : CountVectorizer & Tf-IDF\n",
        "* Unsupervised Model : LDA , NMF & LSI (truncated SVD)"
      ],
      "metadata": {
        "id": "VUaxVVWBdGo-"
      }
    },
    {
      "cell_type": "code",
      "source": [
        "global lda_model\n",
        "global nmf_model\n",
        "global lsi_model"
      ],
      "metadata": {
        "id": "lXsHnoS-ganW"
      },
      "execution_count": null,
      "outputs": []
    },
    {
      "cell_type": "code",
      "source": [
        "# function for Pre-processing, Vectorizing & Modeling\n",
        "def topic_classifier(text, vectorizer_method, model, n_components=10, top_n=8):\n",
        "    \"\"\"\n",
        "    >>> text: Plain Text UTF-8 format\n",
        "    >>> vectorizer_method: One of two sklearn vectorizors: TfidfVectorizer, CountVectorizer\n",
        "    >>> model: One of three sklearn topic classifiers: LDA, NMF, LSI\n",
        "    >>> n_components: Number of topics for modeling\n",
        "    >>> top_n: Number of words to see in each topic result\n",
        "    \"\"\"\n",
        "    from sklearn.feature_extraction.text import CountVectorizer, TfidfVectorizer\n",
        "    from sklearn.decomposition import LatentDirichletAllocation, NMF, TruncatedSVD\n",
        "    \n",
        "    \n",
        "    # pre-process: removing stopwords, stemming, lemmatization\n",
        "    import gensim\n",
        "    from gensim.utils import simple_preprocess   # Convert a document into a list of lowercase tokens, ignoring tokens that are too short or too long.\n",
        "    from gensim.parsing.preprocessing import STOPWORDS\n",
        "    import nltk\n",
        "    from nltk.stem import WordNetLemmatizer, SnowballStemmer\n",
        "    stemmer = SnowballStemmer('english')\n",
        "    def lemmatize_stemming(text):\n",
        "        return stemmer.stem(WordNetLemmatizer().lemmatize(text, pos='v'))  # pos = \"v\" => only lemmatize verbs and leave nouns 'n' and adjectives 'a' alone\n",
        "    def preprocess(text):\n",
        "        token_list = []\n",
        "        for token in gensim.utils.simple_preprocess(text):\n",
        "            if token not in gensim.parsing.preprocessing.STOPWORDS:\n",
        "                token_list.append(lemmatize_stemming(token))\n",
        "        return token_list\n",
        "    \n",
        "    \n",
        "    # vectorizing\n",
        "    if str(vectorizer_method).lower() == 'countvectorizer':\n",
        "        print('=== Topic classifying using CountVectorizer ===\\n')\n",
        "        vectorizer = CountVectorizer(min_df=5,                                     # minimum reqd occurences of a word\n",
        "                                     max_df=0.9,\n",
        "                                     stop_words='english',                         # remove stop words\n",
        "                                     lowercase=True,                               # convert all words to lowercase\n",
        "                                     token_pattern='[a-zA-Z\\-][a-zA-Z\\-]{2,}')     # num chars > 2\n",
        "    else:\n",
        "        print('=== Topic classifying using TfidfVectorizer ===\\n')\n",
        "        vectorizer = TfidfVectorizer(min_df=5,\n",
        "                                     max_df=0.9,\n",
        "                                     stop_words='english',\n",
        "                                     lowercase=True,\n",
        "                                     token_pattern='[a-zA-Z\\-][a-zA-Z\\-]{2,}')\n",
        "    # we will call our function \"preprocess\" for the fit_transform\n",
        "    # We also need to \"open\" the text file and \"read\" it -> open(text).read()\n",
        "    data_vectorized = vectorizer.fit_transform(preprocess(open(text).read()))\n",
        "    \n",
        "    \n",
        "    # custom function for inspecting the topics result of our modeling\n",
        "    def print_topics(model, vectorizer, top_n=top_n):\n",
        "        for idx, topic in enumerate(model.components_):\n",
        "            print(\"Topic %d:\" % (idx))\n",
        "            print([(vectorizer.get_feature_names()[i], topic[i].round(6))\n",
        "                   for i in topic.argsort()[:-top_n - 1:-1]])\n",
        "    \n",
        "    \n",
        "    # modeling (LDA, NMF, LSI)\n",
        "    from sklearn.decomposition import LatentDirichletAllocation, NMF, TruncatedSVD\n",
        "    if str(model).lower() == 'lda':\n",
        "        # Build a Latent Dirichlet Allocation Model\n",
        "        global lda_model\n",
        "\n",
        "        lda_model = LatentDirichletAllocation(n_components=n_components, max_iter=10, learning_method='online')    # n_components = no. of topics\n",
        "        lda_fit_cnt_v = lda_model.fit_transform(data_vectorized)\n",
        "        print(f'LDA No. of Docs & No. of Topics: {lda_fit_cnt_v.shape}\\n')\n",
        "        # print topics\n",
        "        print(f'Top {n_components} LDA topics with top {top_n} words in each topic:\\n')\n",
        "        print_topics(lda_model, vectorizer)\n",
        "    \n",
        "    elif str(model).lower() == 'nmf':\n",
        "        # Build a Non-Negative Matrix Factorization Model\n",
        "        # with random init, the results can be different every time; \n",
        "        # More reliable results can be obtained if you initialise with SVD (Belford et al, 2018).\n",
        "        global nmf_model\n",
        "        nmf_model = NMF(n_components=n_components, init=\"nndsvd\")   \n",
        "        nmf_fit_cnt_v = nmf_model.fit_transform(data_vectorized)\n",
        "        print(f'NMF No. of Docs & No. of Topics: {nmf_fit_cnt_v.shape}\\n')\n",
        "        # print topics\n",
        "        print(f'Top {n_components} NMF topics with top {top_n} words in each topic:\\n')\n",
        "        print_topics(nmf_model, vectorizer)\n",
        "    \n",
        "    else:\n",
        "        # Build a truncated SVD (aka LSI: Latent Semantic Indexing) Model\n",
        "        global lsi_model\n",
        "        lsi_model = TruncatedSVD(n_components=n_components)\n",
        "        lsi_fit_cnt_v = lsi_model.fit_transform(data_vectorized)\n",
        "        print(f'LSI No. of Docs & No. of Topics: {lsi_fit_cnt_v.shape}\\n')\n",
        "        # print topics\n",
        "        print(f'Top {n_components} LSI topics with top {top_n} words in each topic:\\n')\n",
        "        print_topics(lsi_model, vectorizer)\n",
        "\n",
        "    return preprocess"
      ],
      "metadata": {
        "id": "z9RSEp1dc1eI"
      },
      "execution_count": 11,
      "outputs": []
    },
    {
      "cell_type": "markdown",
      "source": [
        "# Generate Topics Models"
      ],
      "metadata": {
        "id": "9miaPylRdqd9"
      }
    },
    {
      "cell_type": "code",
      "source": [
        "topic_classifier('book_hounds.txt', 'countvectorizer', 'LDA', 5, 10)"
      ],
      "metadata": {
        "colab": {
          "base_uri": "https://localhost:8080/"
        },
        "id": "TxKxkJGFdk-h",
        "outputId": "e5b16e15-7815-41fe-b2eb-f6e758740876"
      },
      "execution_count": 18,
      "outputs": [
        {
          "output_type": "stream",
          "name": "stdout",
          "text": [
            "=== Topic classifying using CountVectorizer ===\n",
            "\n",
            "LDA No. of Docs & No. of Topics: (23797, 5)\n",
            "\n",
            "Top 5 LDA topics with top 10 words in each topic:\n",
            "\n",
            "Topic 0:\n",
            "[('gutenberg', 143.230543), ('work', 141.636621), ('look', 88.465115), ('case', 84.760372), ('day', 78.486169), ('hous', 77.044243), ('barrymor', 72.45834), ('like', 64.205079), ('place', 59.203747), ('run', 56.00724)]\n",
            "Topic 1:\n",
            "[('sir', 327.891883), ('say', 223.094085), ('henri', 153.717582), ('think', 132.663067), ('face', 93.042418), ('hound', 87.630673), ('hand', 83.554687), ('way', 74.256066), ('ask', 67.128636), ('turn', 60.972302)]\n",
            "Topic 2:\n",
            "[('project', 133.549386), ('baskervill', 112.442438), ('charl', 84.696949), ('long', 70.232239), ('away', 64.033666), ('yes', 53.171479), ('great', 51.670639), ('walk', 51.655111), ('word', 51.520592), ('matter', 50.175287)]\n",
            "Topic 3:\n",
            "[('come', 188.847395), ('know', 184.626668), ('holm', 179.676038), ('moor', 157.012341), ('stapleton', 123.482289), ('tell', 114.666639), ('watson', 110.185485), ('time', 89.666109), ('leav', 73.157228), ('saw', 63.46962)]\n",
            "Topic 4:\n",
            "[('man', 207.346537), ('hear', 91.483518), ('eye', 77.578797), ('friend', 74.612341), ('mortim', 73.443477), ('night', 73.434924), ('old', 71.521109), ('death', 70.147173), ('light', 66.533221), ('dark', 64.252657)]\n"
          ]
        },
        {
          "output_type": "execute_result",
          "data": {
            "text/plain": [
              "<function __main__.topic_classifier.<locals>.preprocess>"
            ]
          },
          "metadata": {},
          "execution_count": 18
        }
      ]
    },
    {
      "cell_type": "code",
      "source": [
        "topic_classifier('book_hounds.txt', 'countvectorizer', 'NMF', 5, 10)"
      ],
      "metadata": {
        "colab": {
          "base_uri": "https://localhost:8080/"
        },
        "id": "uh1HrYBPeGsP",
        "outputId": "f1561dd5-8df3-48df-caf7-358c390a8cfa"
      },
      "execution_count": 13,
      "outputs": [
        {
          "output_type": "stream",
          "name": "stdout",
          "text": [
            "=== Topic classifying using CountVectorizer ===\n",
            "\n",
            "NMF No. of Docs & No. of Topics: (23797, 5)\n",
            "\n",
            "Top 5 NMF topics with top 10 words in each topic:\n",
            "\n",
            "Topic 0:\n",
            "[('sir', 4.328394), ('henri', 0.0), ('think', 0.0), ('baskervill', 0.0), ('tell', 0.0), ('work', 0.0), ('stapleton', 0.0), ('watson', 0.0), ('gutenberg', 0.0), ('charl', 0.0)]\n",
            "Topic 1:\n",
            "[('say', 3.960351), ('henri', 0.0), ('think', 0.0), ('watson', 0.0), ('work', 0.0), ('tell', 0.0), ('stapleton', 0.0), ('gutenberg', 0.0), ('face', 0.0), ('mortim', 0.0)]\n",
            "Topic 2:\n",
            "[('man', 3.824741), ('henri', 0.0), ('think', 0.0), ('watson', 0.0), ('stapleton', 0.0), ('work', 0.0), ('face', 0.0), ('project', 0.0), ('hear', 0.0), ('look', 0.0)]\n",
            "Topic 3:\n",
            "[('holm', 3.736843), ('henri', 7e-06), ('think', 0.0), ('watson', 0.0), ('tell', 0.0), ('work', 0.0), ('charl', 0.0), ('face', 0.0), ('look', 0.0), ('day', 0.0)]\n",
            "Topic 4:\n",
            "[('come', 3.727246), ('henri', 1.7e-05), ('think', 1e-06), ('watson', 0.0), ('work', 0.0), ('stapleton', 0.0), ('face', 0.0), ('hear', 0.0), ('hound', 0.0), ('eye', 0.0)]\n"
          ]
        }
      ]
    },
    {
      "cell_type": "code",
      "source": [
        "topic_classifier('book_hounds.txt', 'countvectorizer', 'LSI', 5, 10)"
      ],
      "metadata": {
        "colab": {
          "base_uri": "https://localhost:8080/"
        },
        "id": "8yQdHw7xlOtn",
        "outputId": "94e1f642-6c7b-4663-9d48-3d1f45cc2e13"
      },
      "execution_count": 14,
      "outputs": [
        {
          "output_type": "stream",
          "name": "stdout",
          "text": [
            "=== Topic classifying using CountVectorizer ===\n",
            "\n",
            "LSI No. of Docs & No. of Topics: (23797, 5)\n",
            "\n",
            "Top 5 LSI topics with top 10 words in each topic:\n",
            "\n",
            "Topic 0:\n",
            "[('sir', 1.0), ('mortim', 0.000205), ('tell', 0.000198), ('hear', 9.6e-05), ('think', 6.8e-05), ('charl', 4.4e-05), ('death', 4.4e-05), ('day', 4.3e-05), ('moor', 3.7e-05), ('case', 3e-05)]\n",
            "Topic 1:\n",
            "[('say', 0.999932), ('gutenberg', 0.005515), ('work', 0.004267), ('henri', 0.003374), ('time', 0.003259), ('stapleton', 0.002361), ('watson', 0.001629), ('come', 0.001468), ('barrymor', 0.001347), ('face', 0.001301)]\n",
            "Topic 2:\n",
            "[('man', 0.999629), ('gutenberg', 0.012418), ('stapleton', 0.009499), ('henri', 0.009014), ('work', 0.007061), ('come', 0.005873), ('watson', 0.005397), ('know', 0.00383), ('mortim', 0.003666), ('say', 0.00164)]\n",
            "Topic 3:\n",
            "[('holm', 0.999606), ('come', 0.013277), ('eye', 0.007747), ('work', 0.007711), ('know', 0.005774), ('watson', 0.005469), ('hound', 0.004436), ('stapleton', 0.004207), ('hous', 0.003097), ('project', 0.002652)]\n",
            "Topic 4:\n",
            "[('come', 0.999297), ('tell', 0.014418), ('moor', 0.008882), ('think', 0.007421), ('mortim', 0.005419), ('hand', 0.004888), ('charl', 0.003281), ('look', 0.003085), ('project', 0.002605), ('night', 0.001624)]\n"
          ]
        }
      ]
    },
    {
      "cell_type": "markdown",
      "source": [
        "# Evaluate Models Using Coherence"
      ],
      "metadata": {
        "id": "jAaRltm8mEt8"
      }
    },
    {
      "cell_type": "code",
      "source": [
        "scores = {\"Model\":[],\"Vectorizer\":[],\"Coherence_Scores\":[]}"
      ],
      "metadata": {
        "id": "yZIPZGJS2zia"
      },
      "execution_count": 13,
      "outputs": []
    },
    {
      "cell_type": "code",
      "source": [
        "# Fetching token list using python closures \n",
        "token_list_func = topic_classifier('book_hounds.txt', 'tfidf', 'NMF', 5, 10)\n",
        "token_list = token_list_func(open('book_hounds.txt').read())"
      ],
      "metadata": {
        "colab": {
          "base_uri": "https://localhost:8080/"
        },
        "id": "NG6btawilQfZ",
        "outputId": "b772d86d-65cc-4242-dd32-aafcee9e4fde"
      },
      "execution_count": 12,
      "outputs": [
        {
          "output_type": "stream",
          "name": "stdout",
          "text": [
            "=== Topic classifying using TfidfVectorizer ===\n",
            "\n",
            "NMF No. of Docs & No. of Topics: (23794, 5)\n",
            "\n",
            "Top 5 NMF topics with top 10 words in each topic:\n",
            "\n",
            "Topic 0:\n",
            "[('sir', 4.328394), ('know', 0.0), ('henri', 0.0), ('think', 0.0), ('baskervill', 0.0), ('watson', 0.0), ('tell', 0.0), ('stapleton', 0.0), ('work', 0.0), ('gutenberg', 0.0)]\n",
            "Topic 1:\n",
            "[('say', 3.960351), ('know', 0.0), ('moor', 0.0), ('baskervill', 0.0), ('tell', 0.0), ('stapleton', 0.0), ('gutenberg', 0.0), ('charl', 0.0), ('work', 0.0), ('look', 0.0)]\n",
            "Topic 2:\n",
            "[('man', 3.824724), ('know', 2.1e-05), ('think', 0.0), ('tell', 0.0), ('stapleton', 0.0), ('gutenberg', 0.0), ('face', 0.0), ('hear', 0.0), ('hound', 0.0), ('night', 0.0)]\n",
            "Topic 3:\n",
            "[('holm', 3.73687), ('moor', 4e-06), ('baskervill', 0.0), ('henri', 0.0), ('work', 0.0), ('watson', 0.0), ('stapleton', 0.0), ('look', 0.0), ('project', 0.0), ('face', 0.0)]\n",
            "Topic 4:\n",
            "[('come', 3.72723), ('moor', 1.2e-05), ('baskervill', 0.0), ('work', 0.0), ('stapleton', 0.0), ('project', 0.0), ('charl', 0.0), ('look', 0.0), ('hear', 0.0), ('hand', 0.0)]\n"
          ]
        },
        {
          "output_type": "stream",
          "name": "stderr",
          "text": [
            "/usr/local/lib/python3.7/dist-packages/sklearn/utils/deprecation.py:87: FutureWarning: Function get_feature_names is deprecated; get_feature_names is deprecated in 1.0 and will be removed in 1.2. Please use get_feature_names_out instead.\n",
            "  warnings.warn(msg, category=FutureWarning)\n"
          ]
        }
      ]
    },
    {
      "cell_type": "code",
      "source": [
        "token_list[:10]"
      ],
      "metadata": {
        "colab": {
          "base_uri": "https://localhost:8080/"
        },
        "id": "ic1XsumQoEks",
        "outputId": "b4af5b01-4180-4e19-d2a3-28ee55d5a324"
      },
      "execution_count": 24,
      "outputs": [
        {
          "output_type": "execute_result",
          "data": {
            "text/plain": [
              "['project',\n",
              " 'gutenberg',\n",
              " 'ebook',\n",
              " 'hound',\n",
              " 'baskervill',\n",
              " 'arthur',\n",
              " 'conan',\n",
              " 'doyl',\n",
              " 'ebook',\n",
              " 'use']"
            ]
          },
          "metadata": {},
          "execution_count": 24
        }
      ]
    },
    {
      "cell_type": "code",
      "source": [
        "!pip install gensim==4.0"
      ],
      "metadata": {
        "colab": {
          "base_uri": "https://localhost:8080/",
          "height": 312
        },
        "id": "HtgAezV-5xF6",
        "outputId": "d3d166ff-781b-4316-c2ed-1a6ca327950d"
      },
      "execution_count": 60,
      "outputs": [
        {
          "output_type": "stream",
          "name": "stdout",
          "text": [
            "Collecting gensim==4.0\n",
            "  Downloading gensim-4.0.0-cp37-cp37m-manylinux1_x86_64.whl (23.9 MB)\n",
            "\u001b[K     |████████████████████████████████| 23.9 MB 2.3 MB/s \n",
            "\u001b[?25hRequirement already satisfied: numpy>=1.11.3 in /usr/local/lib/python3.7/dist-packages (from gensim==4.0) (1.21.5)\n",
            "Requirement already satisfied: scipy>=0.18.1 in /usr/local/lib/python3.7/dist-packages (from gensim==4.0) (1.4.1)\n",
            "Requirement already satisfied: smart-open>=1.8.1 in /usr/local/lib/python3.7/dist-packages (from gensim==4.0) (5.2.1)\n",
            "Installing collected packages: gensim\n",
            "  Attempting uninstall: gensim\n",
            "    Found existing installation: gensim 3.6.0\n",
            "    Uninstalling gensim-3.6.0:\n",
            "      Successfully uninstalled gensim-3.6.0\n",
            "Successfully installed gensim-4.0.0\n"
          ]
        },
        {
          "output_type": "display_data",
          "data": {
            "application/vnd.colab-display-data+json": {
              "pip_warning": {
                "packages": [
                  "gensim"
                ]
              }
            }
          },
          "metadata": {}
        }
      ]
    },
    {
      "cell_type": "code",
      "source": [
        "#Building  Dictionary and Corpus \n",
        "import gensim\n",
        "import gensim.corpora as corpora\n",
        "from gensim.utils import simple_preprocess\n",
        "from gensim.models import CoherenceModel\n",
        "from gensim.models.nmf import Nmf as GensimNmf\n",
        "from gensim.models import LsiModel\n",
        "\n",
        "id2word = corpora.Dictionary([token_list])\n",
        "print(type(id2word))\n",
        "print()\n",
        "print(id2word)\n",
        "\n",
        "\n"
      ],
      "metadata": {
        "colab": {
          "base_uri": "https://localhost:8080/"
        },
        "id": "NaXDrwhNljIP",
        "outputId": "970d17e3-de51-44c2-d15a-a772195b63a1"
      },
      "execution_count": 14,
      "outputs": [
        {
          "output_type": "stream",
          "name": "stdout",
          "text": [
            "<class 'gensim.corpora.dictionary.Dictionary'>\n",
            "\n",
            "Dictionary(3773 unique tokens: ['aback', 'abandon', 'abet', 'abhor', 'abid']...)\n"
          ]
        }
      ]
    },
    {
      "cell_type": "markdown",
      "source": [
        "## BOW CORPUS and Evaluation"
      ],
      "metadata": {
        "id": "ni0VA49yw-Wu"
      }
    },
    {
      "cell_type": "code",
      "source": [
        "# Create Bag Of Words Corpus\n",
        "corpus = [id2word.doc2bow(text) for text in [token_list]]   # corpus is a list of one list\n",
        "print('\\n',corpus[0][0:100])"
      ],
      "metadata": {
        "colab": {
          "base_uri": "https://localhost:8080/"
        },
        "id": "S9j6pPl_w6ts",
        "outputId": "a81a3876-ba3b-418a-f70e-9064544bb119"
      },
      "execution_count": 15,
      "outputs": [
        {
          "output_type": "stream",
          "name": "stdout",
          "text": [
            "\n",
            " [(0, 1), (1, 7), (2, 1), (3, 1), (4, 4), (5, 3), (6, 27), (7, 1), (8, 1), (9, 4), (10, 7), (11, 3), (12, 3), (13, 1), (14, 2), (15, 1), (16, 2), (17, 10), (18, 12), (19, 1), (20, 1), (21, 1), (22, 2), (23, 2), (24, 6), (25, 13), (26, 2), (27, 2), (28, 1), (29, 6), (30, 8), (31, 1), (32, 1), (33, 11), (34, 10), (35, 9), (36, 8), (37, 2), (38, 8), (39, 6), (40, 13), (41, 1), (42, 1), (43, 9), (44, 1), (45, 3), (46, 1), (47, 2), (48, 2), (49, 5), (50, 12), (51, 6), (52, 5), (53, 21), (54, 3), (55, 1), (56, 1), (57, 4), (58, 1), (59, 2), (60, 6), (61, 1), (62, 1), (63, 9), (64, 5), (65, 9), (66, 1), (67, 1), (68, 3), (69, 6), (70, 2), (71, 2), (72, 14), (73, 18), (74, 5), (75, 2), (76, 8), (77, 1), (78, 17), (79, 5), (80, 5), (81, 1), (82, 6), (83, 16), (84, 2), (85, 11), (86, 1), (87, 1), (88, 3), (89, 2), (90, 6), (91, 3), (92, 1), (93, 1), (94, 10), (95, 1), (96, 2), (97, 6), (98, 2), (99, 5)]\n"
          ]
        }
      ]
    },
    {
      "cell_type": "code",
      "source": [
        "#Custom Function Using Coherence Model of Gensim for Model Evaluation\n",
        "\n",
        "def eval_topic_model(model,token_list,id2word):\n",
        "  coherence_model = CoherenceModel(model=model, texts=[token_list], dictionary=id2word, coherence='c_v')\n",
        "  coherence = coherence_model.get_coherence()\n",
        "  print('\\nCoherence Score: ', coherence.round(3))\n",
        "  return coherence.round(3)"
      ],
      "metadata": {
        "id": "BPxWXJTJwVwR"
      },
      "execution_count": 16,
      "outputs": []
    },
    {
      "cell_type": "markdown",
      "source": [
        "### LDA + BOW"
      ],
      "metadata": {
        "id": "YfykwpAL4ebX"
      }
    },
    {
      "cell_type": "code",
      "source": [
        "#Score for LDA BOW MODEL\n",
        "lda_model = gensim.models.ldamodel.LdaModel(corpus=corpus,\n",
        "                                            id2word=id2word,\n",
        "                                            num_topics=10,\n",
        "                                            chunksize=200) # chunksize controls how many documents are processed \n",
        "                                                                #at a time in the training algorithm. Increasing it will speed up training\n",
        "\n",
        "print('=== weight*word for each topic ===\\n')\n",
        "for idx, topic in lda_model.print_topics(num_words=8):\n",
        "    print(f'Topic{idx}: {topic}')"
      ],
      "metadata": {
        "colab": {
          "base_uri": "https://localhost:8080/"
        },
        "id": "KTjB6zrt0tWE",
        "outputId": "21470f2b-1108-4998-e5db-579477c4592e"
      },
      "execution_count": 17,
      "outputs": [
        {
          "output_type": "stream",
          "name": "stdout",
          "text": [
            "=== weight*word for each topic ===\n",
            "\n",
            "Topic0: 0.016*\"sir\" + 0.013*\"say\" + 0.007*\"come\" + 0.007*\"moor\" + 0.007*\"henri\" + 0.007*\"man\" + 0.006*\"know\" + 0.005*\"think\"\n",
            "Topic1: 0.017*\"sir\" + 0.008*\"know\" + 0.008*\"man\" + 0.008*\"say\" + 0.007*\"holm\" + 0.007*\"come\" + 0.006*\"moor\" + 0.005*\"henri\"\n",
            "Topic2: 0.012*\"sir\" + 0.007*\"say\" + 0.006*\"know\" + 0.006*\"man\" + 0.006*\"think\" + 0.005*\"come\" + 0.005*\"henri\" + 0.005*\"holm\"\n",
            "Topic3: 0.009*\"say\" + 0.009*\"holm\" + 0.008*\"sir\" + 0.008*\"know\" + 0.007*\"man\" + 0.006*\"moor\" + 0.006*\"henri\" + 0.006*\"come\"\n",
            "Topic4: 0.012*\"sir\" + 0.009*\"say\" + 0.008*\"henri\" + 0.007*\"come\" + 0.007*\"man\" + 0.007*\"know\" + 0.006*\"holm\" + 0.006*\"watson\"\n",
            "Topic5: 0.010*\"sir\" + 0.010*\"holm\" + 0.007*\"say\" + 0.007*\"man\" + 0.007*\"know\" + 0.007*\"come\" + 0.006*\"moor\" + 0.005*\"think\"\n",
            "Topic6: 0.016*\"sir\" + 0.008*\"say\" + 0.007*\"come\" + 0.006*\"henri\" + 0.006*\"moor\" + 0.006*\"holm\" + 0.006*\"baskervill\" + 0.005*\"think\"\n",
            "Topic7: 0.013*\"man\" + 0.011*\"sir\" + 0.009*\"say\" + 0.008*\"holm\" + 0.007*\"come\" + 0.007*\"know\" + 0.007*\"moor\" + 0.006*\"baskervill\"\n",
            "Topic8: 0.010*\"sir\" + 0.008*\"say\" + 0.008*\"come\" + 0.007*\"know\" + 0.006*\"man\" + 0.006*\"moor\" + 0.006*\"holm\" + 0.006*\"henri\"\n",
            "Topic9: 0.014*\"sir\" + 0.010*\"say\" + 0.009*\"man\" + 0.008*\"come\" + 0.008*\"holm\" + 0.007*\"baskervill\" + 0.007*\"know\" + 0.006*\"think\"\n"
          ]
        }
      ]
    },
    {
      "cell_type": "code",
      "source": [
        "#Score\n",
        "scores['Coherence_Scores'].append(eval_topic_model(lda_model,token_list,id2word))\n",
        "scores['Model'].append(\"LDA\")\n",
        "scores['Vectorizer'].append(\"BOW\")"
      ],
      "metadata": {
        "colab": {
          "base_uri": "https://localhost:8080/"
        },
        "id": "lMQ3V7--1xr-",
        "outputId": "024cb7e8-3c0a-4c27-fd2e-c0face5c4a47"
      },
      "execution_count": 18,
      "outputs": [
        {
          "output_type": "stream",
          "name": "stdout",
          "text": [
            "\n",
            "Coherence Score:  0.396\n"
          ]
        }
      ]
    },
    {
      "cell_type": "markdown",
      "source": [
        "### NMF + BOW"
      ],
      "metadata": {
        "id": "d2YeF3Pl4joI"
      }
    },
    {
      "cell_type": "code",
      "source": [
        "nmf_model = GensimNmf(corpus=corpus,\n",
        "                      id2word=id2word,\n",
        "                      num_topics=10,\n",
        "                      chunksize=200)\n",
        "\n",
        "print('=== weight*word for each topic ===\\n')\n",
        "for idx, topic in nmf_model.print_topics(num_words=8):\n",
        "    print(f'Topic{idx}: {topic}')"
      ],
      "metadata": {
        "colab": {
          "base_uri": "https://localhost:8080/"
        },
        "id": "zHQUSM5u4h2c",
        "outputId": "9ffc64c6-a330-4480-ac53-11d958e7d647"
      },
      "execution_count": 19,
      "outputs": [
        {
          "output_type": "stream",
          "name": "stdout",
          "text": [
            "=== weight*word for each topic ===\n",
            "\n",
            "Topic0: 0.001*\"rigid\" + 0.001*\"regenc\" + 0.001*\"ideal\" + 0.001*\"pride\" + 0.001*\"articul\" + 0.001*\"farm\" + 0.001*\"engag\" + 0.001*\"tuft\"\n",
            "Topic1: 0.015*\"sir\" + 0.010*\"say\" + 0.009*\"man\" + 0.008*\"holm\" + 0.008*\"come\" + 0.008*\"know\" + 0.007*\"moor\" + 0.007*\"henri\"\n",
            "Topic2: 0.015*\"sir\" + 0.010*\"say\" + 0.009*\"man\" + 0.008*\"holm\" + 0.008*\"come\" + 0.008*\"know\" + 0.007*\"moor\" + 0.007*\"henri\"\n",
            "Topic3: 0.015*\"sir\" + 0.010*\"say\" + 0.009*\"man\" + 0.008*\"holm\" + 0.008*\"come\" + 0.008*\"know\" + 0.007*\"moor\" + 0.007*\"henri\"\n",
            "Topic4: 0.015*\"sir\" + 0.010*\"say\" + 0.009*\"man\" + 0.008*\"holm\" + 0.008*\"come\" + 0.008*\"know\" + 0.007*\"moor\" + 0.007*\"henri\"\n",
            "Topic5: 0.013*\"sir\" + 0.009*\"say\" + 0.008*\"man\" + 0.007*\"come\" + 0.007*\"holm\" + 0.007*\"know\" + 0.006*\"moor\" + 0.006*\"henri\"\n",
            "Topic6: 0.015*\"sir\" + 0.010*\"say\" + 0.009*\"man\" + 0.008*\"holm\" + 0.008*\"come\" + 0.008*\"know\" + 0.007*\"moor\" + 0.007*\"henri\"\n",
            "Topic7: 0.001*\"scion\" + 0.001*\"lattic\" + 0.001*\"examin\" + 0.001*\"clerk\" + 0.001*\"flicker\" + 0.001*\"grazier\" + 0.001*\"litter\" + 0.001*\"admir\"\n",
            "Topic8: 0.013*\"sir\" + 0.009*\"say\" + 0.008*\"man\" + 0.007*\"holm\" + 0.007*\"come\" + 0.007*\"know\" + 0.006*\"moor\" + 0.006*\"henri\"\n",
            "Topic9: 0.014*\"sir\" + 0.010*\"say\" + 0.009*\"man\" + 0.008*\"holm\" + 0.008*\"come\" + 0.008*\"know\" + 0.007*\"moor\" + 0.006*\"henri\"\n"
          ]
        }
      ]
    },
    {
      "cell_type": "code",
      "source": [
        "#Score\n",
        "scores['Coherence_Scores'].append(eval_topic_model(nmf_model,token_list,id2word))\n",
        "scores['Model'].append(\"NMF\")\n",
        "scores['Vectorizer'].append(\"BOW\")"
      ],
      "metadata": {
        "colab": {
          "base_uri": "https://localhost:8080/"
        },
        "id": "vPs1dV5l4ArV",
        "outputId": "8ca23823-dc49-4714-aceb-5a88810411ba"
      },
      "execution_count": 20,
      "outputs": [
        {
          "output_type": "stream",
          "name": "stdout",
          "text": [
            "\n",
            "Coherence Score:  0.495\n"
          ]
        }
      ]
    },
    {
      "cell_type": "code",
      "source": [
        "scores"
      ],
      "metadata": {
        "colab": {
          "base_uri": "https://localhost:8080/"
        },
        "id": "1wZ_77mO7Rzf",
        "outputId": "6c003c38-8833-43c5-a969-2e0e40adc50c"
      },
      "execution_count": 21,
      "outputs": [
        {
          "output_type": "execute_result",
          "data": {
            "text/plain": [
              "{'Coherence_Scores': [0.396, 0.495],\n",
              " 'Model': ['LDA', 'NMF'],\n",
              " 'Vectorizer': ['BOW', 'BOW']}"
            ]
          },
          "metadata": {},
          "execution_count": 21
        }
      ]
    },
    {
      "cell_type": "markdown",
      "source": [
        "### LSI+BOW"
      ],
      "metadata": {
        "id": "k2KSF4Wv7Z-x"
      }
    },
    {
      "cell_type": "code",
      "source": [
        "lsi_model = gensim.models.lsimodel.LsiModel(\n",
        "            corpus=corpus,\n",
        "            id2word=id2word,\n",
        "            num_topics=10,\n",
        "            chunksize=200)"
      ],
      "metadata": {
        "id": "9GqeoY2l7ZQh"
      },
      "execution_count": 22,
      "outputs": []
    },
    {
      "cell_type": "code",
      "source": [
        "#Score\n",
        "scores['Coherence_Scores'].append(eval_topic_model(lsi_model,token_list,id2word))\n",
        "scores['Model'].append(\"LSI\")\n",
        "scores['Vectorizer'].append(\"BOW\")"
      ],
      "metadata": {
        "colab": {
          "base_uri": "https://localhost:8080/"
        },
        "id": "c-cnP102_FTl",
        "outputId": "908f03d3-7ac7-4c6c-df22-a8f15e94a81f"
      },
      "execution_count": 23,
      "outputs": [
        {
          "output_type": "stream",
          "name": "stdout",
          "text": [
            "\n",
            "Coherence Score:  0.371\n"
          ]
        }
      ]
    },
    {
      "cell_type": "markdown",
      "source": [
        "## TFIDF Corpus And Evaluation"
      ],
      "metadata": {
        "id": "s_WC3WVM_NIR"
      }
    },
    {
      "cell_type": "code",
      "source": [
        "from gensim import models\n",
        "\n",
        "#Create TF-IDF Vectors\n",
        "tfidf = models.TfidfModel(corpus)\n",
        "# Apply TF-IDF model\n",
        "corpus_tfidf = tfidf[corpus]"
      ],
      "metadata": {
        "id": "lCIQOSEf_bK6"
      },
      "execution_count": 24,
      "outputs": []
    },
    {
      "cell_type": "markdown",
      "source": [
        "### LDA + TF-IDF"
      ],
      "metadata": {
        "id": "OGojwENVALQv"
      }
    },
    {
      "cell_type": "code",
      "source": [
        "#Score for LDA TF-IDF MODEL\n",
        "lda_model = gensim.models.ldamodel.LdaModel(corpus=corpus_tfidf,\n",
        "                                            id2word=id2word,\n",
        "                                            num_topics=10,\n",
        "                                            chunksize=200) # chunksize controls how many documents are processed \n",
        "                                                                #at a time in the training algorithm. Increasing it will speed up training\n",
        "\n",
        "print('=== weight*word for each topic ===\\n')\n",
        "for idx, topic in lda_model.print_topics(num_words=8):\n",
        "    print(f'Topic{idx}: {topic}')"
      ],
      "metadata": {
        "colab": {
          "base_uri": "https://localhost:8080/"
        },
        "id": "JBMVtKIi_mt8",
        "outputId": "809d91ee-2692-464d-acb5-7dabb3d6ba57"
      },
      "execution_count": 25,
      "outputs": [
        {
          "output_type": "stream",
          "name": "stdout",
          "text": [
            "=== weight*word for each topic ===\n",
            "\n",
            "Topic0: 0.000*\"presumpt\" + 0.000*\"presum\" + 0.000*\"prettili\" + 0.000*\"pretti\" + 0.000*\"pretext\" + 0.000*\"pretend\" + 0.000*\"previous\" + 0.000*\"present\"\n",
            "Topic1: 0.000*\"presumpt\" + 0.000*\"presum\" + 0.000*\"prettili\" + 0.000*\"pretti\" + 0.000*\"pretext\" + 0.000*\"pretend\" + 0.000*\"previous\" + 0.000*\"present\"\n",
            "Topic2: 0.000*\"presumpt\" + 0.000*\"presum\" + 0.000*\"prettili\" + 0.000*\"pretti\" + 0.000*\"pretext\" + 0.000*\"pretend\" + 0.000*\"previous\" + 0.000*\"present\"\n",
            "Topic3: 0.000*\"presumpt\" + 0.000*\"presum\" + 0.000*\"prettili\" + 0.000*\"pretti\" + 0.000*\"pretext\" + 0.000*\"pretend\" + 0.000*\"previous\" + 0.000*\"present\"\n",
            "Topic4: 0.000*\"presumpt\" + 0.000*\"presum\" + 0.000*\"prettili\" + 0.000*\"pretti\" + 0.000*\"pretext\" + 0.000*\"pretend\" + 0.000*\"previous\" + 0.000*\"present\"\n",
            "Topic5: 0.000*\"presumpt\" + 0.000*\"presum\" + 0.000*\"prettili\" + 0.000*\"pretti\" + 0.000*\"pretext\" + 0.000*\"pretend\" + 0.000*\"previous\" + 0.000*\"present\"\n",
            "Topic6: 0.000*\"presumpt\" + 0.000*\"presum\" + 0.000*\"prettili\" + 0.000*\"pretti\" + 0.000*\"pretext\" + 0.000*\"pretend\" + 0.000*\"previous\" + 0.000*\"present\"\n",
            "Topic7: 0.000*\"presumpt\" + 0.000*\"presum\" + 0.000*\"prettili\" + 0.000*\"pretti\" + 0.000*\"pretext\" + 0.000*\"pretend\" + 0.000*\"previous\" + 0.000*\"present\"\n",
            "Topic8: 0.000*\"presumpt\" + 0.000*\"presum\" + 0.000*\"prettili\" + 0.000*\"pretti\" + 0.000*\"pretext\" + 0.000*\"pretend\" + 0.000*\"previous\" + 0.000*\"present\"\n",
            "Topic9: 0.000*\"presumpt\" + 0.000*\"presum\" + 0.000*\"prettili\" + 0.000*\"pretti\" + 0.000*\"pretext\" + 0.000*\"pretend\" + 0.000*\"previous\" + 0.000*\"present\"\n"
          ]
        },
        {
          "output_type": "stream",
          "name": "stderr",
          "text": [
            "/usr/local/lib/python3.7/dist-packages/gensim/models/ldamodel.py:835: RuntimeWarning: divide by zero encountered in double_scalars\n",
            "  perwordbound = self.bound(chunk, subsample_ratio=subsample_ratio) / (subsample_ratio * corpus_words)\n"
          ]
        }
      ]
    },
    {
      "cell_type": "code",
      "source": [
        "#Score\n",
        "scores['Coherence_Scores'].append(eval_topic_model(lda_model,token_list,id2word))\n",
        "scores['Model'].append(\"LDA\")\n",
        "scores['Vectorizer'].append(\"TF-IDF\")"
      ],
      "metadata": {
        "colab": {
          "base_uri": "https://localhost:8080/"
        },
        "id": "1TJit8iK_-lH",
        "outputId": "7e3e7b65-3ada-4aa5-a92b-82c8a653ce53"
      },
      "execution_count": 26,
      "outputs": [
        {
          "output_type": "stream",
          "name": "stdout",
          "text": [
            "\n",
            "Coherence Score:  0.668\n"
          ]
        }
      ]
    },
    {
      "cell_type": "markdown",
      "source": [
        "### NMF + TF-IDF"
      ],
      "metadata": {
        "id": "aQ9hUFyZBB4f"
      }
    },
    {
      "cell_type": "code",
      "source": [
        "nmf_model = GensimNmf(corpus=corpus_tfidf,\n",
        "                      id2word=id2word,\n",
        "                      num_topics=10,\n",
        "                      chunksize=200)\n",
        "\n",
        "print('=== weight*word for each topic ===\\n')\n",
        "for idx, topic in nmf_model.print_topics(num_words=8):\n",
        "    print(f'Topic{idx}: {topic}')"
      ],
      "metadata": {
        "colab": {
          "base_uri": "https://localhost:8080/"
        },
        "id": "K5NhQEtPAKLK",
        "outputId": "73d4f0b1-dad4-487a-a604-95c06a8c4980"
      },
      "execution_count": 30,
      "outputs": [
        {
          "output_type": "stream",
          "name": "stderr",
          "text": [
            "/usr/local/lib/python3.7/dist-packages/gensim/models/nmf.py:238: RuntimeWarning: invalid value encountered in true_divide\n",
            "  return dense_topics / dense_topics.sum(axis=1).reshape(-1, 1)\n",
            "/usr/local/lib/python3.7/dist-packages/gensim/models/nmf.py:678: RuntimeWarning: divide by zero encountered in double_scalars\n",
            "  eta = self._kappa / np.linalg.norm(self.A)\n",
            "/usr/local/lib/python3.7/dist-packages/gensim/models/nmf.py:685: RuntimeWarning: invalid value encountered in multiply\n",
            "  self._W -= eta * (WA - self.B)\n"
          ]
        },
        {
          "output_type": "stream",
          "name": "stdout",
          "text": [
            "=== weight*word for each topic ===\n",
            "\n",
            "Topic0: nan*\"presumpt\" + nan*\"presum\" + nan*\"prettili\" + nan*\"pretti\" + nan*\"pretext\" + nan*\"pretend\" + nan*\"previous\" + nan*\"present\"\n",
            "Topic1: nan*\"presumpt\" + nan*\"presum\" + nan*\"prettili\" + nan*\"pretti\" + nan*\"pretext\" + nan*\"pretend\" + nan*\"previous\" + nan*\"present\"\n",
            "Topic2: nan*\"presumpt\" + nan*\"presum\" + nan*\"prettili\" + nan*\"pretti\" + nan*\"pretext\" + nan*\"pretend\" + nan*\"previous\" + nan*\"present\"\n",
            "Topic3: nan*\"presumpt\" + nan*\"presum\" + nan*\"prettili\" + nan*\"pretti\" + nan*\"pretext\" + nan*\"pretend\" + nan*\"previous\" + nan*\"present\"\n",
            "Topic4: nan*\"presumpt\" + nan*\"presum\" + nan*\"prettili\" + nan*\"pretti\" + nan*\"pretext\" + nan*\"pretend\" + nan*\"previous\" + nan*\"present\"\n",
            "Topic5: nan*\"presumpt\" + nan*\"presum\" + nan*\"prettili\" + nan*\"pretti\" + nan*\"pretext\" + nan*\"pretend\" + nan*\"previous\" + nan*\"present\"\n",
            "Topic6: nan*\"presumpt\" + nan*\"presum\" + nan*\"prettili\" + nan*\"pretti\" + nan*\"pretext\" + nan*\"pretend\" + nan*\"previous\" + nan*\"present\"\n",
            "Topic7: nan*\"presumpt\" + nan*\"presum\" + nan*\"prettili\" + nan*\"pretti\" + nan*\"pretext\" + nan*\"pretend\" + nan*\"previous\" + nan*\"present\"\n",
            "Topic8: nan*\"presumpt\" + nan*\"presum\" + nan*\"prettili\" + nan*\"pretti\" + nan*\"pretext\" + nan*\"pretend\" + nan*\"previous\" + nan*\"present\"\n",
            "Topic9: nan*\"presumpt\" + nan*\"presum\" + nan*\"prettili\" + nan*\"pretti\" + nan*\"pretext\" + nan*\"pretend\" + nan*\"previous\" + nan*\"present\"\n"
          ]
        }
      ]
    },
    {
      "cell_type": "code",
      "source": [
        "#Score\n",
        "scores['Coherence_Scores'].append(eval_topic_model(nmf_model,token_list,id2word))\n",
        "scores['Model'].append(\"NMF\")\n",
        "scores['Vectorizer'].append(\"TF-IDF\")"
      ],
      "metadata": {
        "colab": {
          "base_uri": "https://localhost:8080/"
        },
        "id": "r_hyf49FAD7L",
        "outputId": "8f5b723b-8ec2-4115-9f88-2515a82d8e95"
      },
      "execution_count": 31,
      "outputs": [
        {
          "output_type": "stream",
          "name": "stdout",
          "text": [
            "\n",
            "Coherence Score:  0.668\n"
          ]
        }
      ]
    },
    {
      "cell_type": "code",
      "source": [
        "lsi_model = gensim.models.lsimodel.LsiModel(\n",
        "            corpus=corpus_tfidf,\n",
        "            id2word=id2word,\n",
        "            num_topics=10,\n",
        "            chunksize=200)"
      ],
      "metadata": {
        "colab": {
          "base_uri": "https://localhost:8080/"
        },
        "id": "WjsxelCMAzEk",
        "outputId": "c413670a-2593-4ea9-ac4a-faef40890e61"
      },
      "execution_count": 38,
      "outputs": [
        {
          "output_type": "stream",
          "name": "stderr",
          "text": [
            "/usr/local/lib/python3.7/dist-packages/gensim/models/lsimodel.py:101: RuntimeWarning: invalid value encountered in true_divide\n",
            "  rel_spectrum = np.abs(1.0 - np.cumsum(s / np.sum(s)))\n"
          ]
        }
      ]
    },
    {
      "cell_type": "code",
      "source": [
        "#Score\n",
        "scores['Coherence_Scores'].append(eval_topic_model(lsi_model,token_list,id2word))\n",
        "scores['Model'].append(\"LSI\")\n",
        "scores['Vectorizer'].append(\"TF-IDF\")"
      ],
      "metadata": {
        "colab": {
          "base_uri": "https://localhost:8080/"
        },
        "id": "uHeFEfaNApG8",
        "outputId": "ee1b4e8a-4891-4d63-f9a4-8a1cf74f8652"
      },
      "execution_count": 39,
      "outputs": [
        {
          "output_type": "stream",
          "name": "stdout",
          "text": [
            "\n",
            "Coherence Score:  0.659\n"
          ]
        }
      ]
    },
    {
      "cell_type": "code",
      "source": [
        "results = pd.DataFrame(scores)\n",
        "results"
      ],
      "metadata": {
        "colab": {
          "base_uri": "https://localhost:8080/",
          "height": 237
        },
        "id": "DZkVo7D7ApOo",
        "outputId": "8384713b-b6c8-4ead-aff6-682371fe9b2d"
      },
      "execution_count": 42,
      "outputs": [
        {
          "output_type": "execute_result",
          "data": {
            "text/plain": [
              "  Model Vectorizer  Coherence_Scores\n",
              "0   LDA        BOW             0.396\n",
              "1   NMF        BOW             0.495\n",
              "2   LSI        BOW             0.371\n",
              "3   LDA     TF-IDF             0.668\n",
              "4   NMF     TF-IDF             0.668\n",
              "5   LSI     TF-IDF             0.659"
            ],
            "text/html": [
              "\n",
              "  <div id=\"df-e7703aa8-8c89-4008-b170-1efa14ba5196\">\n",
              "    <div class=\"colab-df-container\">\n",
              "      <div>\n",
              "<style scoped>\n",
              "    .dataframe tbody tr th:only-of-type {\n",
              "        vertical-align: middle;\n",
              "    }\n",
              "\n",
              "    .dataframe tbody tr th {\n",
              "        vertical-align: top;\n",
              "    }\n",
              "\n",
              "    .dataframe thead th {\n",
              "        text-align: right;\n",
              "    }\n",
              "</style>\n",
              "<table border=\"1\" class=\"dataframe\">\n",
              "  <thead>\n",
              "    <tr style=\"text-align: right;\">\n",
              "      <th></th>\n",
              "      <th>Model</th>\n",
              "      <th>Vectorizer</th>\n",
              "      <th>Coherence_Scores</th>\n",
              "    </tr>\n",
              "  </thead>\n",
              "  <tbody>\n",
              "    <tr>\n",
              "      <th>0</th>\n",
              "      <td>LDA</td>\n",
              "      <td>BOW</td>\n",
              "      <td>0.396</td>\n",
              "    </tr>\n",
              "    <tr>\n",
              "      <th>1</th>\n",
              "      <td>NMF</td>\n",
              "      <td>BOW</td>\n",
              "      <td>0.495</td>\n",
              "    </tr>\n",
              "    <tr>\n",
              "      <th>2</th>\n",
              "      <td>LSI</td>\n",
              "      <td>BOW</td>\n",
              "      <td>0.371</td>\n",
              "    </tr>\n",
              "    <tr>\n",
              "      <th>3</th>\n",
              "      <td>LDA</td>\n",
              "      <td>TF-IDF</td>\n",
              "      <td>0.668</td>\n",
              "    </tr>\n",
              "    <tr>\n",
              "      <th>4</th>\n",
              "      <td>NMF</td>\n",
              "      <td>TF-IDF</td>\n",
              "      <td>0.668</td>\n",
              "    </tr>\n",
              "    <tr>\n",
              "      <th>5</th>\n",
              "      <td>LSI</td>\n",
              "      <td>TF-IDF</td>\n",
              "      <td>0.659</td>\n",
              "    </tr>\n",
              "  </tbody>\n",
              "</table>\n",
              "</div>\n",
              "      <button class=\"colab-df-convert\" onclick=\"convertToInteractive('df-e7703aa8-8c89-4008-b170-1efa14ba5196')\"\n",
              "              title=\"Convert this dataframe to an interactive table.\"\n",
              "              style=\"display:none;\">\n",
              "        \n",
              "  <svg xmlns=\"http://www.w3.org/2000/svg\" height=\"24px\"viewBox=\"0 0 24 24\"\n",
              "       width=\"24px\">\n",
              "    <path d=\"M0 0h24v24H0V0z\" fill=\"none\"/>\n",
              "    <path d=\"M18.56 5.44l.94 2.06.94-2.06 2.06-.94-2.06-.94-.94-2.06-.94 2.06-2.06.94zm-11 1L8.5 8.5l.94-2.06 2.06-.94-2.06-.94L8.5 2.5l-.94 2.06-2.06.94zm10 10l.94 2.06.94-2.06 2.06-.94-2.06-.94-.94-2.06-.94 2.06-2.06.94z\"/><path d=\"M17.41 7.96l-1.37-1.37c-.4-.4-.92-.59-1.43-.59-.52 0-1.04.2-1.43.59L10.3 9.45l-7.72 7.72c-.78.78-.78 2.05 0 2.83L4 21.41c.39.39.9.59 1.41.59.51 0 1.02-.2 1.41-.59l7.78-7.78 2.81-2.81c.8-.78.8-2.07 0-2.86zM5.41 20L4 18.59l7.72-7.72 1.47 1.35L5.41 20z\"/>\n",
              "  </svg>\n",
              "      </button>\n",
              "      \n",
              "  <style>\n",
              "    .colab-df-container {\n",
              "      display:flex;\n",
              "      flex-wrap:wrap;\n",
              "      gap: 12px;\n",
              "    }\n",
              "\n",
              "    .colab-df-convert {\n",
              "      background-color: #E8F0FE;\n",
              "      border: none;\n",
              "      border-radius: 50%;\n",
              "      cursor: pointer;\n",
              "      display: none;\n",
              "      fill: #1967D2;\n",
              "      height: 32px;\n",
              "      padding: 0 0 0 0;\n",
              "      width: 32px;\n",
              "    }\n",
              "\n",
              "    .colab-df-convert:hover {\n",
              "      background-color: #E2EBFA;\n",
              "      box-shadow: 0px 1px 2px rgba(60, 64, 67, 0.3), 0px 1px 3px 1px rgba(60, 64, 67, 0.15);\n",
              "      fill: #174EA6;\n",
              "    }\n",
              "\n",
              "    [theme=dark] .colab-df-convert {\n",
              "      background-color: #3B4455;\n",
              "      fill: #D2E3FC;\n",
              "    }\n",
              "\n",
              "    [theme=dark] .colab-df-convert:hover {\n",
              "      background-color: #434B5C;\n",
              "      box-shadow: 0px 1px 3px 1px rgba(0, 0, 0, 0.15);\n",
              "      filter: drop-shadow(0px 1px 2px rgba(0, 0, 0, 0.3));\n",
              "      fill: #FFFFFF;\n",
              "    }\n",
              "  </style>\n",
              "\n",
              "      <script>\n",
              "        const buttonEl =\n",
              "          document.querySelector('#df-e7703aa8-8c89-4008-b170-1efa14ba5196 button.colab-df-convert');\n",
              "        buttonEl.style.display =\n",
              "          google.colab.kernel.accessAllowed ? 'block' : 'none';\n",
              "\n",
              "        async function convertToInteractive(key) {\n",
              "          const element = document.querySelector('#df-e7703aa8-8c89-4008-b170-1efa14ba5196');\n",
              "          const dataTable =\n",
              "            await google.colab.kernel.invokeFunction('convertToInteractive',\n",
              "                                                     [key], {});\n",
              "          if (!dataTable) return;\n",
              "\n",
              "          const docLinkHtml = 'Like what you see? Visit the ' +\n",
              "            '<a target=\"_blank\" href=https://colab.research.google.com/notebooks/data_table.ipynb>data table notebook</a>'\n",
              "            + ' to learn more about interactive tables.';\n",
              "          element.innerHTML = '';\n",
              "          dataTable['output_type'] = 'display_data';\n",
              "          await google.colab.output.renderOutput(dataTable, element);\n",
              "          const docLink = document.createElement('div');\n",
              "          docLink.innerHTML = docLinkHtml;\n",
              "          element.appendChild(docLink);\n",
              "        }\n",
              "      </script>\n",
              "    </div>\n",
              "  </div>\n",
              "  "
            ]
          },
          "metadata": {},
          "execution_count": 42
        }
      ]
    },
    {
      "cell_type": "markdown",
      "source": [
        "# Conclusion\n",
        "\n",
        "As we can see in below plot that TF-IDF Vectorizer works best across all models and they have similar scores.\n",
        "\n",
        "In BOW model NMF model gives better score as compared to other two ."
      ],
      "metadata": {
        "id": "yLBiKo3XF_Yo"
      }
    },
    {
      "cell_type": "code",
      "source": [
        "%matplotlib inline\n",
        "import seaborn as sns\n",
        "sns.lineplot(data=results,x=\"Model\",y=\"Coherence_Scores\",hue=\"Vectorizer\").set(title = \"Coherence Scores\")\n",
        "plt.show()"
      ],
      "metadata": {
        "colab": {
          "base_uri": "https://localhost:8080/",
          "height": 295
        },
        "id": "5ECq4PRADa07",
        "outputId": "e167b556-4fa8-4cee-f3e7-0541cff3a834"
      },
      "execution_count": 56,
      "outputs": [
        {
          "output_type": "display_data",
          "data": {
            "text/plain": [
              "<Figure size 432x288 with 1 Axes>"
            ],
            "image/png": "[encoded data removed]"
          },
          "metadata": {
            "needs_background": "light"
          }
        }
      ]
    }
  ]
}